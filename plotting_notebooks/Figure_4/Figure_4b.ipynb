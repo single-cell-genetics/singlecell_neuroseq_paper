{
 "cells": [
  {
   "cell_type": "code",
   "execution_count": 3,
   "metadata": {},
   "outputs": [
    {
     "name": "stderr",
     "output_type": "stream",
     "text": [
      "Warning message:\n",
      "“package ‘biomaRt’ is not available (for R version 3.6.1)”"
     ]
    }
   ],
   "source": [
    "install.packages(\"biomaRt\")"
   ]
  },
  {
   "cell_type": "code",
   "execution_count": 2,
   "metadata": {},
   "outputs": [
    {
     "ename": "ERROR",
     "evalue": "Error in library(biomaRt): there is no package called ‘biomaRt’\n",
     "output_type": "error",
     "traceback": [
      "Error in library(biomaRt): there is no package called ‘biomaRt’\nTraceback:\n",
      "1. library(biomaRt)"
     ]
    }
   ],
   "source": [
    "library(biomaRt)"
   ]
  },
  {
   "cell_type": "code",
   "execution_count": 1,
   "metadata": {},
   "outputs": [
    {
     "ename": "ERROR",
     "evalue": "Error in BiomartGeneRegionTrack(genome = \"hg38\", name = \"ENSEMBL\", symbol = geneId, : could not find function \"BiomartGeneRegionTrack\"\n",
     "output_type": "error",
     "traceback": [
      "Error in BiomartGeneRegionTrack(genome = \"hg38\", name = \"ENSEMBL\", symbol = geneId, : could not find function \"BiomartGeneRegionTrack\"\nTraceback:\n"
     ]
    }
   ],
   "source": [
    "biomTrack <- BiomartGeneRegionTrack(genome = \"hg38\", name = \"ENSEMBL\", symbol = geneId, biomart = bm)\n",
    "plotTracks(biomTrack, transcriptAnnotation = \"symbol\")"
   ]
  },
  {
   "cell_type": "code",
   "execution_count": null,
   "metadata": {},
   "outputs": [],
   "source": []
  }
 ],
 "metadata": {
  "kernelspec": {
   "display_name": "R",
   "language": "R",
   "name": "ir"
  },
  "language_info": {
   "codemirror_mode": "r",
   "file_extension": ".r",
   "mimetype": "text/x-r-source",
   "name": "R",
   "pygments_lexer": "r",
   "version": "3.6.1"
  }
 },
 "nbformat": 4,
 "nbformat_minor": 4
}
