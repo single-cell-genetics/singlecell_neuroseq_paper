{
 "cells": [
  {
   "cell_type": "code",
   "execution_count": 30,
   "metadata": {},
   "outputs": [
    {
     "data": {
      "text/html": [
       "<table>\n",
       "<thead><tr><th scope=col>X</th><th scope=col>snp_id</th><th scope=col>p_value</th><th scope=col>beta</th><th scope=col>beta_se</th><th scope=col>empirical_feature_p_value</th><th scope=col>feature_chromosome</th><th scope=col>feature_start</th><th scope=col>feature_end</th><th scope=col>n_samples</th><th scope=col>...</th><th scope=col>snp_chromosome</th><th scope=col>snp_position</th><th scope=col>assessed_allele</th><th scope=col>call_rate</th><th scope=col>maf</th><th scope=col>hwe_p</th><th scope=col>feature_id</th><th scope=col>BH_fdr</th><th scope=col>q_value</th><th scope=col>label</th></tr></thead>\n",
       "<tbody>\n",
       "\t<tr><td>2               </td><td>11_107726716_A_C</td><td>4.544994e-05    </td><td> 0.09036565     </td><td>0.02216001      </td><td>0.0001665921    </td><td>11              </td><td>107661717       </td><td>107799019       </td><td>173             </td><td>...             </td><td>11              </td><td>107726716       </td><td>C               </td><td>1               </td><td>0.4306358       </td><td>0.5386349       </td><td>ENSG00000110660 </td><td>0.001808781     </td><td>0.00075681      </td><td>FPP_D11         </td></tr>\n",
       "\t<tr><td>7               </td><td>11_106001229_C_A</td><td>5.034677e-05    </td><td>-0.24701335     </td><td>0.06093060      </td><td>0.0258019418    </td><td>11              </td><td>105946228       </td><td>105969437       </td><td>173             </td><td>...             </td><td>11              </td><td>106001229       </td><td>A               </td><td>1               </td><td>0.1213873       </td><td>0.4744572       </td><td>ENSG00000149313 </td><td>0.116865230     </td><td>0.04889743      </td><td>FPP_D11         </td></tr>\n",
       "</tbody>\n",
       "</table>\n"
      ],
      "text/latex": [
       "\\begin{tabular}{r|lllllllllllllllllllllll}\n",
       " X & snp\\_id & p\\_value & beta & beta\\_se & empirical\\_feature\\_p\\_value & feature\\_chromosome & feature\\_start & feature\\_end & n\\_samples & ... & snp\\_chromosome & snp\\_position & assessed\\_allele & call\\_rate & maf & hwe\\_p & feature\\_id & BH\\_fdr & q\\_value & label\\\\\n",
       "\\hline\n",
       "\t 2                      & 11\\_107726716\\_A\\_C & 4.544994e-05           &  0.09036565            & 0.02216001             & 0.0001665921           & 11                     & 107661717              & 107799019              & 173                    & ...                    & 11                     & 107726716              & C                      & 1                      & 0.4306358              & 0.5386349              & ENSG00000110660        & 0.001808781            & 0.00075681             & FPP\\_D11             \\\\\n",
       "\t 7                      & 11\\_106001229\\_C\\_A & 5.034677e-05           & -0.24701335            & 0.06093060             & 0.0258019418           & 11                     & 105946228              & 105969437              & 173                    & ...                    & 11                     & 106001229              & A                      & 1                      & 0.1213873              & 0.4744572              & ENSG00000149313        & 0.116865230            & 0.04889743             & FPP\\_D11             \\\\\n",
       "\\end{tabular}\n"
      ],
      "text/markdown": [
       "\n",
       "| X | snp_id | p_value | beta | beta_se | empirical_feature_p_value | feature_chromosome | feature_start | feature_end | n_samples | ... | snp_chromosome | snp_position | assessed_allele | call_rate | maf | hwe_p | feature_id | BH_fdr | q_value | label |\n",
       "|---|---|---|---|---|---|---|---|---|---|---|---|---|---|---|---|---|---|---|---|---|\n",
       "| 2                | 11_107726716_A_C | 4.544994e-05     |  0.09036565      | 0.02216001       | 0.0001665921     | 11               | 107661717        | 107799019        | 173              | ...              | 11               | 107726716        | C                | 1                | 0.4306358        | 0.5386349        | ENSG00000110660  | 0.001808781      | 0.00075681       | FPP_D11          |\n",
       "| 7                | 11_106001229_C_A | 5.034677e-05     | -0.24701335      | 0.06093060       | 0.0258019418     | 11               | 105946228        | 105969437        | 173              | ...              | 11               | 106001229        | A                | 1                | 0.1213873        | 0.4744572        | ENSG00000149313  | 0.116865230      | 0.04889743       | FPP_D11          |\n",
       "\n"
      ],
      "text/plain": [
       "  X snp_id           p_value      beta        beta_se   \n",
       "1 2 11_107726716_A_C 4.544994e-05  0.09036565 0.02216001\n",
       "2 7 11_106001229_C_A 5.034677e-05 -0.24701335 0.06093060\n",
       "  empirical_feature_p_value feature_chromosome feature_start feature_end\n",
       "1 0.0001665921              11                 107661717     107799019  \n",
       "2 0.0258019418              11                 105946228     105969437  \n",
       "  n_samples ... snp_chromosome snp_position assessed_allele call_rate maf      \n",
       "1 173       ... 11             107726716    C               1         0.4306358\n",
       "2 173       ... 11             106001229    A               1         0.1213873\n",
       "  hwe_p     feature_id      BH_fdr      q_value    label  \n",
       "1 0.5386349 ENSG00000110660 0.001808781 0.00075681 FPP_D11\n",
       "2 0.4744572 ENSG00000149313 0.116865230 0.04889743 FPP_D11"
      ]
     },
     "metadata": {},
     "output_type": "display_data"
    }
   ],
   "source": [
    "leads = read.csv(\"/hps/nobackup/stegle/users/acuomo/all_scripts/sc_neuroseq/eqtl/all_leads_5pct_FDR_Storey.csv\")\n",
    "head(leads,2)"
   ]
  },
  {
   "cell_type": "code",
   "execution_count": null,
   "metadata": {},
   "outputs": [],
   "source": []
  },
  {
   "cell_type": "code",
   "execution_count": 31,
   "metadata": {},
   "outputs": [
    {
     "data": {
      "text/html": [
       "15493"
      ],
      "text/latex": [
       "15493"
      ],
      "text/markdown": [
       "15493"
      ],
      "text/plain": [
       "[1] 15493"
      ]
     },
     "metadata": {},
     "output_type": "display_data"
    },
    {
     "data": {
      "text/html": [
       "11199"
      ],
      "text/latex": [
       "11199"
      ],
      "text/markdown": [
       "11199"
      ],
      "text/plain": [
       "[1] 11199"
      ]
     },
     "metadata": {},
     "output_type": "display_data"
    }
   ],
   "source": [
    "nrow(leads)\n",
    "leads$eqtl = paste0(leads$snp_id,\"-\",leads$feature_id)\n",
    "length(unique(leads$eqtl))"
   ]
  },
  {
   "cell_type": "code",
   "execution_count": 34,
   "metadata": {},
   "outputs": [
    {
     "data": {
      "text/html": [
       "<table>\n",
       "<thead><tr><th scope=col>X</th><th scope=col>snp_id</th><th scope=col>p_value</th><th scope=col>beta</th><th scope=col>beta_se</th><th scope=col>empirical_feature_p_value</th><th scope=col>feature_chromosome</th><th scope=col>feature_start</th><th scope=col>feature_end</th><th scope=col>n_samples</th><th scope=col>...</th><th scope=col>snp_position</th><th scope=col>assessed_allele</th><th scope=col>call_rate</th><th scope=col>maf</th><th scope=col>hwe_p</th><th scope=col>feature_id</th><th scope=col>BH_fdr</th><th scope=col>q_value</th><th scope=col>label</th><th scope=col>eqtl</th></tr></thead>\n",
       "<tbody>\n",
       "\t<tr><td>2                               </td><td>11_107726716_A_C                </td><td>4.544994e-05                    </td><td> 0.09036565                     </td><td>0.02216001                      </td><td>0.0001665921                    </td><td>11                              </td><td>107661717                       </td><td>107799019                       </td><td>173                             </td><td>...                             </td><td>107726716                       </td><td>C                               </td><td>1                               </td><td>0.4306358                       </td><td>0.5386349                       </td><td>ENSG00000110660                 </td><td>0.001808781                     </td><td>0.00075681                      </td><td>FPP_D11                         </td><td>11_107726716_A_C-ENSG00000110660</td></tr>\n",
       "\t<tr><td>7                               </td><td>11_106001229_C_A                </td><td>5.034677e-05                    </td><td>-0.24701335                     </td><td>0.06093060                      </td><td>0.0258019418                    </td><td>11                              </td><td>105946228                       </td><td>105969437                       </td><td>173                             </td><td>...                             </td><td>106001229                       </td><td>A                               </td><td>1                               </td><td>0.1213873                       </td><td>0.4744572                       </td><td>ENSG00000149313                 </td><td>0.116865230                     </td><td>0.04889743                      </td><td>FPP_D11                         </td><td>11_106001229_C_A-ENSG00000149313</td></tr>\n",
       "</tbody>\n",
       "</table>\n"
      ],
      "text/latex": [
       "\\begin{tabular}{r|llllllllllllllllllllllll}\n",
       " X & snp\\_id & p\\_value & beta & beta\\_se & empirical\\_feature\\_p\\_value & feature\\_chromosome & feature\\_start & feature\\_end & n\\_samples & ... & snp\\_position & assessed\\_allele & call\\_rate & maf & hwe\\_p & feature\\_id & BH\\_fdr & q\\_value & label & eqtl\\\\\n",
       "\\hline\n",
       "\t 2                                      & 11\\_107726716\\_A\\_C                 & 4.544994e-05                           &  0.09036565                            & 0.02216001                             & 0.0001665921                           & 11                                     & 107661717                              & 107799019                              & 173                                    & ...                                    & 107726716                              & C                                      & 1                                      & 0.4306358                              & 0.5386349                              & ENSG00000110660                        & 0.001808781                            & 0.00075681                             & FPP\\_D11                              & 11\\_107726716\\_A\\_C-ENSG00000110660\\\\\n",
       "\t 7                                      & 11\\_106001229\\_C\\_A                 & 5.034677e-05                           & -0.24701335                            & 0.06093060                             & 0.0258019418                           & 11                                     & 105946228                              & 105969437                              & 173                                    & ...                                    & 106001229                              & A                                      & 1                                      & 0.1213873                              & 0.4744572                              & ENSG00000149313                        & 0.116865230                            & 0.04889743                             & FPP\\_D11                              & 11\\_106001229\\_C\\_A-ENSG00000149313\\\\\n",
       "\\end{tabular}\n"
      ],
      "text/markdown": [
       "\n",
       "| X | snp_id | p_value | beta | beta_se | empirical_feature_p_value | feature_chromosome | feature_start | feature_end | n_samples | ... | snp_position | assessed_allele | call_rate | maf | hwe_p | feature_id | BH_fdr | q_value | label | eqtl |\n",
       "|---|---|---|---|---|---|---|---|---|---|---|---|---|---|---|---|---|---|---|---|---|\n",
       "| 2                                | 11_107726716_A_C                 | 4.544994e-05                     |  0.09036565                      | 0.02216001                       | 0.0001665921                     | 11                               | 107661717                        | 107799019                        | 173                              | ...                              | 107726716                        | C                                | 1                                | 0.4306358                        | 0.5386349                        | ENSG00000110660                  | 0.001808781                      | 0.00075681                       | FPP_D11                          | 11_107726716_A_C-ENSG00000110660 |\n",
       "| 7                                | 11_106001229_C_A                 | 5.034677e-05                     | -0.24701335                      | 0.06093060                       | 0.0258019418                     | 11                               | 105946228                        | 105969437                        | 173                              | ...                              | 106001229                        | A                                | 1                                | 0.1213873                        | 0.4744572                        | ENSG00000149313                  | 0.116865230                      | 0.04889743                       | FPP_D11                          | 11_106001229_C_A-ENSG00000149313 |\n",
       "\n"
      ],
      "text/plain": [
       "  X snp_id           p_value      beta        beta_se   \n",
       "1 2 11_107726716_A_C 4.544994e-05  0.09036565 0.02216001\n",
       "2 7 11_106001229_C_A 5.034677e-05 -0.24701335 0.06093060\n",
       "  empirical_feature_p_value feature_chromosome feature_start feature_end\n",
       "1 0.0001665921              11                 107661717     107799019  \n",
       "2 0.0258019418              11                 105946228     105969437  \n",
       "  n_samples ... snp_position assessed_allele call_rate maf       hwe_p    \n",
       "1 173       ... 107726716    C               1         0.4306358 0.5386349\n",
       "2 173       ... 106001229    A               1         0.1213873 0.4744572\n",
       "  feature_id      BH_fdr      q_value    label  \n",
       "1 ENSG00000110660 0.001808781 0.00075681 FPP_D11\n",
       "2 ENSG00000149313 0.116865230 0.04889743 FPP_D11\n",
       "  eqtl                            \n",
       "1 11_107726716_A_C-ENSG00000110660\n",
       "2 11_106001229_C_A-ENSG00000149313"
      ]
     },
     "metadata": {},
     "output_type": "display_data"
    }
   ],
   "source": [
    "head(leads,2)"
   ]
  },
  {
   "cell_type": "code",
   "execution_count": 35,
   "metadata": {},
   "outputs": [],
   "source": [
    "leads$eqtl = paste0(leads$snp_id,\"-\",leads$feature_id)"
   ]
  },
  {
   "cell_type": "code",
   "execution_count": 36,
   "metadata": {},
   "outputs": [],
   "source": [
    "# leads"
   ]
  },
  {
   "cell_type": "code",
   "execution_count": 37,
   "metadata": {},
   "outputs": [],
   "source": [
    "# FPP & P_FPP\n",
    "D11 = leads[leads$label == \"FPP_D11\",]\n",
    "D30 = leads[leads$label == \"FPP_D30\",]\n",
    "P_FPP = leads[leads$label == \"P_FPP_D11\",]\n",
    "\n",
    "egenes0 = unique(D11$feature_id)\n",
    "egenes1 = unique(D30$feature_id)\n",
    "egenes2 = unique(P_FPP$feature_id)\n",
    "##\n",
    "D11 = c(length(egenes0),length(unique(c(egenes0,egenes1))),length(egenes2))\n",
    "# D11 = c(length(egenes0),length(egenes2))"
   ]
  },
  {
   "cell_type": "code",
   "execution_count": 38,
   "metadata": {},
   "outputs": [
    {
     "data": {
      "text/html": [
       "<ol class=list-inline>\n",
       "\t<li>2560</li>\n",
       "\t<li>2784</li>\n",
       "\t<li>2457</li>\n",
       "</ol>\n"
      ],
      "text/latex": [
       "\\begin{enumerate*}\n",
       "\\item 2560\n",
       "\\item 2784\n",
       "\\item 2457\n",
       "\\end{enumerate*}\n"
      ],
      "text/markdown": [
       "1. 2560\n",
       "2. 2784\n",
       "3. 2457\n",
       "\n",
       "\n"
      ],
      "text/plain": [
       "[1] 2560 2784 2457"
      ]
     },
     "metadata": {},
     "output_type": "display_data"
    }
   ],
   "source": [
    "D11"
   ]
  },
  {
   "cell_type": "code",
   "execution_count": 39,
   "metadata": {},
   "outputs": [],
   "source": [
    "# DA\n",
    "D30 = leads[leads$label == \"DA_D30\",]\n",
    "D52 = leads[leads$label == \"DA_D52\",]\n",
    "D52_r = leads[leads$label == \"DA_ROT_D52\",]\n",
    "egenes30 = unique(D30$feature_id)\n",
    "egenes = unique(D52$feature_id)\n",
    "egenesROT = unique(D52_r$feature_id)\n",
    "##\n",
    "DA = c(length(egenes30),length(unique(c(egenes30,egenes))),length(unique(c(egenes30,egenes,egenesROT))))"
   ]
  },
  {
   "cell_type": "code",
   "execution_count": 40,
   "metadata": {},
   "outputs": [
    {
     "data": {
      "text/html": [
       "<ol class=list-inline>\n",
       "\t<li>872</li>\n",
       "\t<li>1313</li>\n",
       "\t<li>1313</li>\n",
       "</ol>\n"
      ],
      "text/latex": [
       "\\begin{enumerate*}\n",
       "\\item 872\n",
       "\\item 1313\n",
       "\\item 1313\n",
       "\\end{enumerate*}\n"
      ],
      "text/markdown": [
       "1. 872\n",
       "2. 1313\n",
       "3. 1313\n",
       "\n",
       "\n"
      ],
      "text/plain": [
       "[1]  872 1313 1313"
      ]
     },
     "metadata": {},
     "output_type": "display_data"
    }
   ],
   "source": [
    "DA"
   ]
  },
  {
   "cell_type": "code",
   "execution_count": 41,
   "metadata": {},
   "outputs": [],
   "source": [
    "# Sert\n",
    "D30 = leads[leads$label == \"Sert_D30\",]\n",
    "D52 = leads[leads$label == \"Sert_D52\",]\n",
    "D52_r = leads[leads$label == \"Sert_ROT_D52\",]\n",
    "egenes30 = unique(D30$feature_id)\n",
    "egenes = unique(D52$feature_id)\n",
    "egenesROT = unique(D52_r$feature_id)\n",
    "##\n",
    "Sert = c(length(egenes30),length(unique(c(egenes30,egenes))),length(unique(c(egenes30,egenes,egenesROT))))"
   ]
  },
  {
   "cell_type": "code",
   "execution_count": 42,
   "metadata": {},
   "outputs": [
    {
     "data": {
      "text/html": [
       "<ol class=list-inline>\n",
       "\t<li>776</li>\n",
       "\t<li>1617</li>\n",
       "\t<li>1617</li>\n",
       "</ol>\n"
      ],
      "text/latex": [
       "\\begin{enumerate*}\n",
       "\\item 776\n",
       "\\item 1617\n",
       "\\item 1617\n",
       "\\end{enumerate*}\n"
      ],
      "text/markdown": [
       "1. 776\n",
       "2. 1617\n",
       "3. 1617\n",
       "\n",
       "\n"
      ],
      "text/plain": [
       "[1]  776 1617 1617"
      ]
     },
     "metadata": {},
     "output_type": "display_data"
    }
   ],
   "source": [
    "Sert"
   ]
  },
  {
   "cell_type": "code",
   "execution_count": 43,
   "metadata": {},
   "outputs": [],
   "source": [
    "# Epen1\n",
    "D30 = leads[leads$label == \"Epen1_D30\",]\n",
    "D52 = leads[leads$label == \"Epen1_D52\",]\n",
    "D52_r = leads[leads$label == \"Epen1_D52_ROT\",]\n",
    "egenes30 = unique(D30$feature_id)\n",
    "egenes = unique(D52$feature_id)\n",
    "egenesROT = unique(D52_r$feature_id)\n",
    "##\n",
    "Epen1 = c(length(egenes30),length(unique(c(egenes30,egenes))),length(unique(c(egenes30,egenes,egenesROT))))"
   ]
  },
  {
   "cell_type": "code",
   "execution_count": 44,
   "metadata": {},
   "outputs": [
    {
     "data": {
      "text/html": [
       "<ol class=list-inline>\n",
       "\t<li>1011</li>\n",
       "\t<li>1664</li>\n",
       "\t<li>1917</li>\n",
       "</ol>\n"
      ],
      "text/latex": [
       "\\begin{enumerate*}\n",
       "\\item 1011\n",
       "\\item 1664\n",
       "\\item 1917\n",
       "\\end{enumerate*}\n"
      ],
      "text/markdown": [
       "1. 1011\n",
       "2. 1664\n",
       "3. 1917\n",
       "\n",
       "\n"
      ],
      "text/plain": [
       "[1] 1011 1664 1917"
      ]
     },
     "metadata": {},
     "output_type": "display_data"
    }
   ],
   "source": [
    "Epen1"
   ]
  },
  {
   "cell_type": "code",
   "execution_count": 45,
   "metadata": {},
   "outputs": [],
   "source": [
    "# Astro\n",
    "D52 = leads[leads$label == \"Astro_D52\",]\n",
    "D52_r = leads[leads$label == \"Astro_ROT_D52\",]\n",
    "egenes = unique(D52$feature_id)\n",
    "egenesROT = unique(D52_r$feature_id)\n",
    "##\n",
    "Astro = c(length(egenes),length(unique(c(egenes,egenesROT))))"
   ]
  },
  {
   "cell_type": "code",
   "execution_count": 46,
   "metadata": {},
   "outputs": [
    {
     "data": {
      "text/html": [
       "<ol class=list-inline>\n",
       "\t<li>257</li>\n",
       "\t<li>257</li>\n",
       "</ol>\n"
      ],
      "text/latex": [
       "\\begin{enumerate*}\n",
       "\\item 257\n",
       "\\item 257\n",
       "\\end{enumerate*}\n"
      ],
      "text/markdown": [
       "1. 257\n",
       "2. 257\n",
       "\n",
       "\n"
      ],
      "text/plain": [
       "[1] 257 257"
      ]
     },
     "metadata": {},
     "output_type": "display_data"
    }
   ],
   "source": [
    "Astro"
   ]
  },
  {
   "cell_type": "code",
   "execution_count": 47,
   "metadata": {},
   "outputs": [
    {
     "data": {
      "image/png": "[encoded data removed]",
      "text/plain": [
       "plot without title"
      ]
     },
     "metadata": {},
     "output_type": "display_data"
    }
   ],
   "source": [
    "col_FPP = \"#aec7e8\"\n",
    "col_P_FPP = \"#1f77b4\"\n",
    "col_DA = \"#2ca02c\"\n",
    "col_Sert = \"#98df8a\"\n",
    "col_Epen1 = \"#ff9896\"\n",
    "col_Astro = \"#9467bd\"\n",
    "\n",
    "options(repr.plot.width = 5, repr.plot.height = 4)\n",
    "my.xlim = c(0, 2800)\n",
    "my.ylim = c(0,20)\n",
    "my.space = c(0,0.1,0.3,0.5, 0.1, 0.1, 0.5, 0.1, 0.1, 0.5,0.1, 0.1,0.5,0.1)\n",
    "opar <- par(lwd = 1)\n",
    "\n",
    "barplot(c(D11,DA,Sert,Epen1,Astro),xlim = my.ylim, ylim = my.xlim, space = my.space,\n",
    "       col = c(col_FPP,   col_FPP, col_P_FPP,\n",
    "               col_DA,    col_DA,    col_DA, \n",
    "               col_Sert,  col_Sert,  col_Sert, \n",
    "               col_Epen1, col_Epen1, col_Epen1, \n",
    "               col_Astro, col_Astro))#,\n",
    "#        border = c(\"lightgrey\",\"darkgray\",\"black\", \n",
    "#                   \"lightgrey\",\"darkgray\",\"black\",  \n",
    "#                   \"lightgrey\",\"darkgray\",\"black\", \n",
    "#                   \"lightgrey\",\"darkgray\",\"black\"))"
   ]
  },
  {
   "cell_type": "code",
   "execution_count": 48,
   "metadata": {},
   "outputs": [
    {
     "data": {
      "text/html": [
       "<strong>png:</strong> 2"
      ],
      "text/latex": [
       "\\textbf{png:} 2"
      ],
      "text/markdown": [
       "**png:** 2"
      ],
      "text/plain": [
       "png \n",
       "  2 "
      ]
     },
     "metadata": {},
     "output_type": "display_data"
    }
   ],
   "source": [
    "fig_dir = \"/hps/nobackup/stegle/users/acuomo/all_scripts/sc_neuroseq/figures/main_figures/\"\n",
    "pdf(paste0(fig_dir,\"Figure4a.pdf\"), width=5, height=4)\n",
    "barplot(c(D11,DA,Sert,Epen1,Astro),xlim = my.ylim, ylim = my.xlim, space = my.space,\n",
    "       col = c(col_FPP,   col_FPP, col_P_FPP,\n",
    "               col_DA,    col_DA,    col_DA, \n",
    "               col_Sert,  col_Sert,  col_Sert, \n",
    "               col_Epen1, col_Epen1, col_Epen1, \n",
    "               col_Astro, col_Astro))\n",
    "dev.off()"
   ]
  },
  {
   "cell_type": "code",
   "execution_count": null,
   "metadata": {},
   "outputs": [],
   "source": []
  },
  {
   "cell_type": "code",
   "execution_count": null,
   "metadata": {},
   "outputs": [],
   "source": []
  }
 ],
 "metadata": {
  "kernelspec": {
   "display_name": "R",
   "language": "R",
   "name": "ir"
  }
 },
 "nbformat": 4,
 "nbformat_minor": 2
}
