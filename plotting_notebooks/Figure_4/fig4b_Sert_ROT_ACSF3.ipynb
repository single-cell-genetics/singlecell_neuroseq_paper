{
 "cells": [
  {
   "cell_type": "code",
   "execution_count": 4,
   "metadata": {},
   "outputs": [],
   "source": [
    "mydir.D52 = \"/nfs/leia/research/stegle/dseaton/hipsci/singlecell_neuroseq/data/data_processed/pool1_17_D52/qtl_analysis/eqtl_discovery_separated_by_treatment/input_files_untreated/celltype_Sert/summary_stats/\"\n",
    "res.Sert.D52 = read.csv(paste0(mydir.D52,\"pool1_17_D52.Sert.qtl_results_all.txt\"),sep=\"\\t\")"
   ]
  },
  {
   "cell_type": "code",
   "execution_count": 5,
   "metadata": {},
   "outputs": [],
   "source": [
    "mydir.D52ROT = \"/nfs/leia/research/stegle/dseaton/hipsci/singlecell_neuroseq/data/data_processed/pool1_17_D52/qtl_analysis/eqtl_discovery_separated_by_treatment/input_files_ROT_treated/celltype_Sert/summary_stats/\"\n",
    "res.Sert.D52ROT = read.csv(paste0(mydir.D52ROT,\"pool1_17_D52.Sert.qtl_results_all.txt\"),sep=\"\\t\")"
   ]
  },
  {
   "cell_type": "code",
   "execution_count": 6,
   "metadata": {},
   "outputs": [
    {
     "data": {
      "text/html": [
       "<table>\n",
       "<thead><tr><th scope=col>feature_id</th><th scope=col>snp_id</th><th scope=col>p_value</th><th scope=col>beta</th><th scope=col>beta_se</th><th scope=col>empirical_feature_p_value</th><th scope=col>feature_chromosome</th><th scope=col>feature_start</th><th scope=col>feature_end</th><th scope=col>n_samples</th><th scope=col>n_e_samples</th><th scope=col>snp_chromosome</th><th scope=col>snp_position</th><th scope=col>assessed_allele</th><th scope=col>call_rate</th><th scope=col>maf</th><th scope=col>hwe_p</th></tr></thead>\n",
       "<tbody>\n",
       "\t<tr><td>ENSG00000164346</td><td>5_74064340_A_G </td><td>8.528324e-27   </td><td>0.9590362      </td><td>0.08949262     </td><td>-1             </td><td>5              </td><td>74062817       </td><td>74072737       </td><td>154            </td><td>154            </td><td>5              </td><td>74064340       </td><td>G              </td><td>1              </td><td>0.1331169      </td><td>1              </td></tr>\n",
       "\t<tr><td>ENSG00000164346</td><td>5_74065821_A_G </td><td>8.528324e-27   </td><td>0.9590362      </td><td>0.08949262     </td><td>-1             </td><td>5              </td><td>74062817       </td><td>74072737       </td><td>154            </td><td>154            </td><td>5              </td><td>74065821       </td><td>G              </td><td>1              </td><td>0.1331169      </td><td>1              </td></tr>\n",
       "\t<tr><td>ENSG00000164346</td><td>5_74067536_G_C </td><td>8.528324e-27   </td><td>0.9590362      </td><td>0.08949262     </td><td>-1             </td><td>5              </td><td>74062817       </td><td>74072737       </td><td>154            </td><td>154            </td><td>5              </td><td>74067536       </td><td>C              </td><td>1              </td><td>0.1331169      </td><td>1              </td></tr>\n",
       "\t<tr><td>ENSG00000164346</td><td>5_74068774_C_T </td><td>8.528324e-27   </td><td>0.9590362      </td><td>0.08949262     </td><td>-1             </td><td>5              </td><td>74062817       </td><td>74072737       </td><td>154            </td><td>154            </td><td>5              </td><td>74068774       </td><td>T              </td><td>1              </td><td>0.1331169      </td><td>1              </td></tr>\n",
       "\t<tr><td>ENSG00000164346</td><td>5_74069311_A_T </td><td>8.528324e-27   </td><td>0.9590362      </td><td>0.08949262     </td><td>-1             </td><td>5              </td><td>74062817       </td><td>74072737       </td><td>154            </td><td>154            </td><td>5              </td><td>74069311       </td><td>T              </td><td>1              </td><td>0.1331169      </td><td>1              </td></tr>\n",
       "\t<tr><td>ENSG00000164346</td><td>5_74070053_T_A </td><td>8.528324e-27   </td><td>0.9590362      </td><td>0.08949262     </td><td>-1             </td><td>5              </td><td>74062817       </td><td>74072737       </td><td>154            </td><td>154            </td><td>5              </td><td>74070053       </td><td>A              </td><td>1              </td><td>0.1331169      </td><td>1              </td></tr>\n",
       "</tbody>\n",
       "</table>\n"
      ],
      "text/latex": [
       "\\begin{tabular}{r|lllllllllllllllll}\n",
       " feature\\_id & snp\\_id & p\\_value & beta & beta\\_se & empirical\\_feature\\_p\\_value & feature\\_chromosome & feature\\_start & feature\\_end & n\\_samples & n\\_e\\_samples & snp\\_chromosome & snp\\_position & assessed\\_allele & call\\_rate & maf & hwe\\_p\\\\\n",
       "\\hline\n",
       "\t ENSG00000164346      & 5\\_74064340\\_A\\_G & 8.528324e-27         & 0.9590362            & 0.08949262           & -1                   & 5                    & 74062817             & 74072737             & 154                  & 154                  & 5                    & 74064340             & G                    & 1                    & 0.1331169            & 1                   \\\\\n",
       "\t ENSG00000164346      & 5\\_74065821\\_A\\_G & 8.528324e-27         & 0.9590362            & 0.08949262           & -1                   & 5                    & 74062817             & 74072737             & 154                  & 154                  & 5                    & 74065821             & G                    & 1                    & 0.1331169            & 1                   \\\\\n",
       "\t ENSG00000164346      & 5\\_74067536\\_G\\_C & 8.528324e-27         & 0.9590362            & 0.08949262           & -1                   & 5                    & 74062817             & 74072737             & 154                  & 154                  & 5                    & 74067536             & C                    & 1                    & 0.1331169            & 1                   \\\\\n",
       "\t ENSG00000164346      & 5\\_74068774\\_C\\_T & 8.528324e-27         & 0.9590362            & 0.08949262           & -1                   & 5                    & 74062817             & 74072737             & 154                  & 154                  & 5                    & 74068774             & T                    & 1                    & 0.1331169            & 1                   \\\\\n",
       "\t ENSG00000164346      & 5\\_74069311\\_A\\_T & 8.528324e-27         & 0.9590362            & 0.08949262           & -1                   & 5                    & 74062817             & 74072737             & 154                  & 154                  & 5                    & 74069311             & T                    & 1                    & 0.1331169            & 1                   \\\\\n",
       "\t ENSG00000164346      & 5\\_74070053\\_T\\_A & 8.528324e-27         & 0.9590362            & 0.08949262           & -1                   & 5                    & 74062817             & 74072737             & 154                  & 154                  & 5                    & 74070053             & A                    & 1                    & 0.1331169            & 1                   \\\\\n",
       "\\end{tabular}\n"
      ],
      "text/markdown": [
       "\n",
       "| feature_id | snp_id | p_value | beta | beta_se | empirical_feature_p_value | feature_chromosome | feature_start | feature_end | n_samples | n_e_samples | snp_chromosome | snp_position | assessed_allele | call_rate | maf | hwe_p |\n",
       "|---|---|---|---|---|---|---|---|---|---|---|---|---|---|---|---|---|\n",
       "| ENSG00000164346 | 5_74064340_A_G  | 8.528324e-27    | 0.9590362       | 0.08949262      | -1              | 5               | 74062817        | 74072737        | 154             | 154             | 5               | 74064340        | G               | 1               | 0.1331169       | 1               |\n",
       "| ENSG00000164346 | 5_74065821_A_G  | 8.528324e-27    | 0.9590362       | 0.08949262      | -1              | 5               | 74062817        | 74072737        | 154             | 154             | 5               | 74065821        | G               | 1               | 0.1331169       | 1               |\n",
       "| ENSG00000164346 | 5_74067536_G_C  | 8.528324e-27    | 0.9590362       | 0.08949262      | -1              | 5               | 74062817        | 74072737        | 154             | 154             | 5               | 74067536        | C               | 1               | 0.1331169       | 1               |\n",
       "| ENSG00000164346 | 5_74068774_C_T  | 8.528324e-27    | 0.9590362       | 0.08949262      | -1              | 5               | 74062817        | 74072737        | 154             | 154             | 5               | 74068774        | T               | 1               | 0.1331169       | 1               |\n",
       "| ENSG00000164346 | 5_74069311_A_T  | 8.528324e-27    | 0.9590362       | 0.08949262      | -1              | 5               | 74062817        | 74072737        | 154             | 154             | 5               | 74069311        | T               | 1               | 0.1331169       | 1               |\n",
       "| ENSG00000164346 | 5_74070053_T_A  | 8.528324e-27    | 0.9590362       | 0.08949262      | -1              | 5               | 74062817        | 74072737        | 154             | 154             | 5               | 74070053        | A               | 1               | 0.1331169       | 1               |\n",
       "\n"
      ],
      "text/plain": [
       "  feature_id      snp_id         p_value      beta      beta_se   \n",
       "1 ENSG00000164346 5_74064340_A_G 8.528324e-27 0.9590362 0.08949262\n",
       "2 ENSG00000164346 5_74065821_A_G 8.528324e-27 0.9590362 0.08949262\n",
       "3 ENSG00000164346 5_74067536_G_C 8.528324e-27 0.9590362 0.08949262\n",
       "4 ENSG00000164346 5_74068774_C_T 8.528324e-27 0.9590362 0.08949262\n",
       "5 ENSG00000164346 5_74069311_A_T 8.528324e-27 0.9590362 0.08949262\n",
       "6 ENSG00000164346 5_74070053_T_A 8.528324e-27 0.9590362 0.08949262\n",
       "  empirical_feature_p_value feature_chromosome feature_start feature_end\n",
       "1 -1                        5                  74062817      74072737   \n",
       "2 -1                        5                  74062817      74072737   \n",
       "3 -1                        5                  74062817      74072737   \n",
       "4 -1                        5                  74062817      74072737   \n",
       "5 -1                        5                  74062817      74072737   \n",
       "6 -1                        5                  74062817      74072737   \n",
       "  n_samples n_e_samples snp_chromosome snp_position assessed_allele call_rate\n",
       "1 154       154         5              74064340     G               1        \n",
       "2 154       154         5              74065821     G               1        \n",
       "3 154       154         5              74067536     C               1        \n",
       "4 154       154         5              74068774     T               1        \n",
       "5 154       154         5              74069311     T               1        \n",
       "6 154       154         5              74070053     A               1        \n",
       "  maf       hwe_p\n",
       "1 0.1331169 1    \n",
       "2 0.1331169 1    \n",
       "3 0.1331169 1    \n",
       "4 0.1331169 1    \n",
       "5 0.1331169 1    \n",
       "6 0.1331169 1    "
      ]
     },
     "metadata": {},
     "output_type": "display_data"
    }
   ],
   "source": [
    "head(res.Sert.D52ROT)"
   ]
  },
  {
   "cell_type": "code",
   "execution_count": null,
   "metadata": {},
   "outputs": [],
   "source": [
    "leads = read.csv(\"/hps/nobackup/stegle/users/acuomo/all_scripts/sc_neuroseq/eqtl/all_leads_5pct_FDR_Storey.csv\")\n",
    "head(leads,2)"
   ]
  },
  {
   "cell_type": "code",
   "execution_count": null,
   "metadata": {},
   "outputs": [],
   "source": [
    "genes = as.character(leads[leads$label == \"Sert_D52\",\"feature_id\"])\n",
    "genes0 = as.character(leads[leads$label == \"Sert_D52_ROT\",\"feature_id\"])\n",
    "# genes\n",
    "ROT_genes = genes0[!(genes0 %in% genes)]\n",
    "length(ROT_genes)"
   ]
  },
  {
   "cell_type": "code",
   "execution_count": 4,
   "metadata": {},
   "outputs": [],
   "source": [
    "library(ggplot2)"
   ]
  },
  {
   "cell_type": "code",
   "execution_count": 9,
   "metadata": {},
   "outputs": [],
   "source": [
    "annos_file = \"/hps/nobackup/hipsci/scratch/singlecell_endodiff/data_processed/scQTLs/annos/combined_feature_id_annos.tsv\"\n",
    "annos = read.csv(annos_file,sep=\"\\t\")\n",
    "# head(annos,2)"
   ]
  },
  {
   "cell_type": "code",
   "execution_count": null,
   "metadata": {},
   "outputs": [],
   "source": []
  },
  {
   "cell_type": "code",
   "execution_count": null,
   "metadata": {},
   "outputs": [],
   "source": [
    "# library(ggplot2)"
   ]
  },
  {
   "cell_type": "code",
   "execution_count": 7,
   "metadata": {},
   "outputs": [],
   "source": [
    "gene_name = 'ACSF3'\n",
    "# gene_name = 'SQSTM1'"
   ]
  },
  {
   "cell_type": "code",
   "execution_count": 10,
   "metadata": {},
   "outputs": [
    {
     "data": {
      "text/html": [
       "<table>\n",
       "<thead><tr><th></th><th scope=col>feature_id</th><th scope=col>chromosome</th><th scope=col>start</th><th scope=col>end</th><th scope=col>hgnc_symbol</th><th scope=col>combined_feature_id</th><th scope=col>ensembl_gene_id</th></tr></thead>\n",
       "<tbody>\n",
       "\t<tr><th scope=row>9195</th><td>ENSG00000176715_ACSF3</td><td>16                   </td><td>89154783             </td><td>89222254             </td><td>ACSF3                </td><td>ENSG00000176715_ACSF3</td><td>ENSG00000176715      </td></tr>\n",
       "</tbody>\n",
       "</table>\n"
      ],
      "text/latex": [
       "\\begin{tabular}{r|lllllll}\n",
       "  & feature\\_id & chromosome & start & end & hgnc\\_symbol & combined\\_feature\\_id & ensembl\\_gene\\_id\\\\\n",
       "\\hline\n",
       "\t9195 & ENSG00000176715\\_ACSF3 & 16                      & 89154783                & 89222254                & ACSF3                   & ENSG00000176715\\_ACSF3 & ENSG00000176715        \\\\\n",
       "\\end{tabular}\n"
      ],
      "text/markdown": [
       "\n",
       "| <!--/--> | feature_id | chromosome | start | end | hgnc_symbol | combined_feature_id | ensembl_gene_id |\n",
       "|---|---|---|---|---|---|---|---|\n",
       "| 9195 | ENSG00000176715_ACSF3 | 16                    | 89154783              | 89222254              | ACSF3                 | ENSG00000176715_ACSF3 | ENSG00000176715       |\n",
       "\n"
      ],
      "text/plain": [
       "     feature_id            chromosome start    end      hgnc_symbol\n",
       "9195 ENSG00000176715_ACSF3 16         89154783 89222254 ACSF3      \n",
       "     combined_feature_id   ensembl_gene_id\n",
       "9195 ENSG00000176715_ACSF3 ENSG00000176715"
      ]
     },
     "metadata": {},
     "output_type": "display_data"
    }
   ],
   "source": [
    "annos[annos$hgnc_symbol == gene_name,]\n",
    "gene = as.character(annos[annos$hgnc_symbol == gene_name,\"ensembl_gene_id\"])"
   ]
  },
  {
   "cell_type": "code",
   "execution_count": 11,
   "metadata": {},
   "outputs": [
    {
     "data": {
      "text/html": [
       "<table>\n",
       "<thead><tr><th></th><th scope=col>X</th><th scope=col>snp_id</th><th scope=col>p_value</th><th scope=col>beta</th><th scope=col>beta_se</th><th scope=col>empirical_feature_p_value</th><th scope=col>feature_chromosome</th><th scope=col>feature_start</th><th scope=col>feature_end</th><th scope=col>n_samples</th><th scope=col>...</th><th scope=col>snp_chromosome</th><th scope=col>snp_position</th><th scope=col>assessed_allele</th><th scope=col>call_rate</th><th scope=col>maf</th><th scope=col>hwe_p</th><th scope=col>feature_id</th><th scope=col>BH_fdr</th><th scope=col>q_value</th><th scope=col>label</th></tr></thead>\n",
       "<tbody>\n",
       "\t<tr><th scope=row>9504</th><td>109631         </td><td>16_89049973_A_G</td><td>9.629261e-08   </td><td>-0.3082059     </td><td>0.05778588     </td><td>0.0020635629   </td><td>16             </td><td>89154783       </td><td>89222254       </td><td>175            </td><td>...            </td><td>16             </td><td>89049973       </td><td>G              </td><td>1              </td><td>0.4314286      </td><td>0.2169278      </td><td>ENSG00000176715</td><td>0.031150466    </td><td>0.01832831     </td><td>DA_D52         </td></tr>\n",
       "\t<tr><th scope=row>13910</th><td> 97051         </td><td>16_89234676_A_G</td><td>3.028844e-11   </td><td> 0.5328033     </td><td>0.08017913     </td><td>0.0003454116   </td><td>16             </td><td>89154783       </td><td>89222254       </td><td>154            </td><td>...            </td><td>16             </td><td>89234676       </td><td>G              </td><td>1              </td><td>0.2370130      </td><td>0.8261733      </td><td>ENSG00000176715</td><td>0.007495492    </td><td>0.00433907     </td><td>Sert_D52_ROT   </td></tr>\n",
       "</tbody>\n",
       "</table>\n"
      ],
      "text/latex": [
       "\\begin{tabular}{r|lllllllllllllllllllllll}\n",
       "  & X & snp\\_id & p\\_value & beta & beta\\_se & empirical\\_feature\\_p\\_value & feature\\_chromosome & feature\\_start & feature\\_end & n\\_samples & ... & snp\\_chromosome & snp\\_position & assessed\\_allele & call\\_rate & maf & hwe\\_p & feature\\_id & BH\\_fdr & q\\_value & label\\\\\n",
       "\\hline\n",
       "\t9504 & 109631                & 16\\_89049973\\_A\\_G & 9.629261e-08          & -0.3082059            & 0.05778588            & 0.0020635629          & 16                    & 89154783              & 89222254              & 175                   & ...                   & 16                    & 89049973              & G                     & 1                     & 0.4314286             & 0.2169278             & ENSG00000176715       & 0.031150466           & 0.01832831            & DA\\_D52             \\\\\n",
       "\t13910 &  97051                & 16\\_89234676\\_A\\_G & 3.028844e-11          &  0.5328033            & 0.08017913            & 0.0003454116          & 16                    & 89154783              & 89222254              & 154                   & ...                   & 16                    & 89234676              & G                     & 1                     & 0.2370130             & 0.8261733             & ENSG00000176715       & 0.007495492           & 0.00433907            & Sert\\_D52\\_ROT     \\\\\n",
       "\\end{tabular}\n"
      ],
      "text/markdown": [
       "\n",
       "| <!--/--> | X | snp_id | p_value | beta | beta_se | empirical_feature_p_value | feature_chromosome | feature_start | feature_end | n_samples | ... | snp_chromosome | snp_position | assessed_allele | call_rate | maf | hwe_p | feature_id | BH_fdr | q_value | label |\n",
       "|---|---|---|---|---|---|---|---|---|---|---|---|---|---|---|---|---|---|---|---|---|---|\n",
       "| 9504 | 109631          | 16_89049973_A_G | 9.629261e-08    | -0.3082059      | 0.05778588      | 0.0020635629    | 16              | 89154783        | 89222254        | 175             | ...             | 16              | 89049973        | G               | 1               | 0.4314286       | 0.2169278       | ENSG00000176715 | 0.031150466     | 0.01832831      | DA_D52          |\n",
       "| 13910 |  97051          | 16_89234676_A_G | 3.028844e-11    |  0.5328033      | 0.08017913      | 0.0003454116    | 16              | 89154783        | 89222254        | 154             | ...             | 16              | 89234676        | G               | 1               | 0.2370130       | 0.8261733       | ENSG00000176715 | 0.007495492     | 0.00433907      | Sert_D52_ROT    |\n",
       "\n"
      ],
      "text/plain": [
       "      X      snp_id          p_value      beta       beta_se   \n",
       "9504  109631 16_89049973_A_G 9.629261e-08 -0.3082059 0.05778588\n",
       "13910  97051 16_89234676_A_G 3.028844e-11  0.5328033 0.08017913\n",
       "      empirical_feature_p_value feature_chromosome feature_start feature_end\n",
       "9504  0.0020635629              16                 89154783      89222254   \n",
       "13910 0.0003454116              16                 89154783      89222254   \n",
       "      n_samples ... snp_chromosome snp_position assessed_allele call_rate\n",
       "9504  175       ... 16             89049973     G               1        \n",
       "13910 154       ... 16             89234676     G               1        \n",
       "      maf       hwe_p     feature_id      BH_fdr      q_value    label       \n",
       "9504  0.4314286 0.2169278 ENSG00000176715 0.031150466 0.01832831 DA_D52      \n",
       "13910 0.2370130 0.8261733 ENSG00000176715 0.007495492 0.00433907 Sert_D52_ROT"
      ]
     },
     "metadata": {},
     "output_type": "display_data"
    }
   ],
   "source": [
    "leads[leads$feature_id == gene,]"
   ]
  },
  {
   "cell_type": "code",
   "execution_count": null,
   "metadata": {},
   "outputs": [],
   "source": []
  },
  {
   "cell_type": "code",
   "execution_count": 7,
   "metadata": {},
   "outputs": [
    {
     "ename": "ERROR",
     "evalue": "Error in `[.data.frame`(res.Sert.D52, res.Sert.D52$feature_id == gene, : object 'gene' not found\n",
     "output_type": "error",
     "traceback": [
      "Error in `[.data.frame`(res.Sert.D52, res.Sert.D52$feature_id == gene, : object 'gene' not found\nTraceback:\n",
      "1. res.Sert.D52[res.Sert.D52$feature_id == gene, ]",
      "2. `[.data.frame`(res.Sert.D52, res.Sert.D52$feature_id == gene, \n .     )"
     ]
    }
   ],
   "source": [
    "r1 = res.Sert.D52[res.Sert.D52$feature_id == gene,]\n",
    "r2 = res.Sert.D52ROT[res.Sert.D52ROT$feature_id == gene,]"
   ]
  },
  {
   "cell_type": "code",
   "execution_count": null,
   "metadata": {},
   "outputs": [],
   "source": []
  },
  {
   "cell_type": "code",
   "execution_count": null,
   "metadata": {},
   "outputs": [],
   "source": [
    "library(ggthemes)"
   ]
  },
  {
   "cell_type": "code",
   "execution_count": null,
   "metadata": {},
   "outputs": [],
   "source": [
    "mypalette = \"Warm and cool\""
   ]
  },
  {
   "cell_type": "code",
   "execution_count": null,
   "metadata": {},
   "outputs": [],
   "source": [
    "col_D52 = canva_pal(mypalette)(4)[1]\n",
    "col_D52_ROT = canva_pal(mypalette)(4)[2]"
   ]
  },
  {
   "cell_type": "code",
   "execution_count": null,
   "metadata": {},
   "outputs": [],
   "source": [
    "options(repr.plot.width = 6, repr.plot.height = 3.5)"
   ]
  },
  {
   "cell_type": "code",
   "execution_count": null,
   "metadata": {},
   "outputs": [],
   "source": [
    "m1 = min(r1$p_value)\n",
    "m2 = min(r2$p_value)\n",
    "m = min(m1,m2)"
   ]
  },
  {
   "cell_type": "code",
   "execution_count": null,
   "metadata": {},
   "outputs": [],
   "source": [
    "fig_dir = \"/hps/nobackup/stegle/users/acuomo/all_scripts/sc_neuroseq/figures/main_figures/\""
   ]
  },
  {
   "cell_type": "code",
   "execution_count": null,
   "metadata": {},
   "outputs": [],
   "source": [
    "pos1 = r1[r1$p_value == m1,\"snp_position\"][1]\n",
    "p1 = ggplot(r1, aes(x = snp_position, y = -log10(p_value))) + geom_point(alpha = 0.5,col=col_D52) + \n",
    "    geom_point(aes(x=pos1, y = -log10(m1)),col=col_D52, size = 2, shape = 23, alpha = 1) + \n",
    "    ggtitle(gene_name) + ylim(c(0,-log10(m))) + theme_classic() + \n",
    "    xlab(\"Genomic position on chromosome 16\") + ylab(\"-log10(P)\")\n",
    "p1"
   ]
  },
  {
   "cell_type": "code",
   "execution_count": null,
   "metadata": {},
   "outputs": [],
   "source": [
    "pdf(paste0(fig_dir,\"Fig4b_ACSF3_D52.pdf\"), width=6, height=3.5)\n",
    "p1\n",
    "dev.off()"
   ]
  },
  {
   "cell_type": "code",
   "execution_count": null,
   "metadata": {},
   "outputs": [],
   "source": [
    "pos2 = r2[r2$p_value == m2,\"snp_position\"][1]\n",
    "p2 = ggplot(r2, aes(x = snp_position, y = -log10(p_value))) + geom_point(alpha = 0.5,col=col_D52_ROT) + \n",
    "    geom_point(aes(x=pos2, y = -log10(m2)),col=col_D52_ROT, size = 2, shape = 23, alpha = 1) + \n",
    "    ggtitle(gene_name) + ylim(c(0,-log10(m))) + theme_classic()+ \n",
    "    xlab(\"Genomic position on chromosome 16\") + ylab(\"-log10(P)\")\n",
    "p2"
   ]
  },
  {
   "cell_type": "code",
   "execution_count": null,
   "metadata": {},
   "outputs": [],
   "source": [
    "pdf(paste0(fig_dir,\"Fig4b_ACSF3_D52_ROT.pdf\"), width=6, height=3.5)\n",
    "p2\n",
    "dev.off()"
   ]
  },
  {
   "cell_type": "code",
   "execution_count": null,
   "metadata": {},
   "outputs": [],
   "source": []
  },
  {
   "cell_type": "code",
   "execution_count": null,
   "metadata": {},
   "outputs": [],
   "source": []
  }
 ],
 "metadata": {
  "kernelspec": {
   "display_name": "R",
   "language": "R",
   "name": "ir"
  },
  "language_info": {
   "codemirror_mode": "r",
   "file_extension": ".r",
   "mimetype": "text/x-r-source",
   "name": "R",
   "pygments_lexer": "r",
   "version": "3.6.1"
  }
 },
 "nbformat": 4,
 "nbformat_minor": 4
}
