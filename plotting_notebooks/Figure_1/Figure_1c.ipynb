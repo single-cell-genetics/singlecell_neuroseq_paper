{
 "cells": [
  {
   "cell_type": "code",
   "execution_count": 1,
   "metadata": {},
   "outputs": [
    {
     "name": "stderr",
     "output_type": "stream",
     "text": [
      "\n",
      "Attaching package: ‘dplyr’\n",
      "\n",
      "The following objects are masked from ‘package:stats’:\n",
      "\n",
      "    filter, lag\n",
      "\n",
      "The following objects are masked from ‘package:base’:\n",
      "\n",
      "    intersect, setdiff, setequal, union\n",
      "\n"
     ]
    }
   ],
   "source": [
    "# load useful packages\n",
    "library(dplyr)\n",
    "library(ggplot2)"
   ]
  },
  {
   "cell_type": "code",
   "execution_count": 2,
   "metadata": {},
   "outputs": [],
   "source": [
    "## main cell type colours \n",
    "col_FPP = \"#aec7e8\"\n",
    "col_P_FPP = \"#1f77b4\"\n",
    "col_NB = \"#ff7f0e\"\n",
    "\n",
    "col_DA = \"#2ca02c\"\n",
    "col_Sert = \"#98df8a\"\n",
    "col_Epen1 = \"#ff9896\"\n",
    "col_Astro = \"#9467bd\""
   ]
  },
  {
   "cell_type": "code",
   "execution_count": 3,
   "metadata": {},
   "outputs": [],
   "source": [
    "## other cell type colours \n",
    "col_Epen2 = '#c5b0d5'\n",
    "col_P_Sert = '#8c564b'\n",
    "col_U_Neur1 = '#ffbb78'\n",
    "col_U_Neur2 = '#d62728'\n",
    "col_U_Neur3 = '#c49c94'"
   ]
  },
  {
   "cell_type": "code",
   "execution_count": 4,
   "metadata": {},
   "outputs": [],
   "source": [
    "## order cell types in a sensible way \n",
    "## by time point and relevance\n",
    "ordering = c(\"FPP\",\"P_FPP\",\"NB\",\"DA\",\"Sert\",\"P_Sert\",\"Astro\",\"Epen1\",\"Epen2\",\"U_Neur1\",\"U_Neur2\",\"U_Neur3\")\n",
    "cols = c(col_FPP,col_P_FPP,col_NB,col_DA,col_Sert,col_P_Sert,col_Astro,col_Epen1,col_Epen2,col_U_Neur1,col_U_Neur2,col_U_Neur3)"
   ]
  },
  {
   "cell_type": "code",
   "execution_count": 5,
   "metadata": {},
   "outputs": [
    {
     "data": {
      "text/html": [
       "<table>\n",
       "<thead><tr><th scope=col>donor_id</th><th scope=col>pool_id</th><th scope=col>time_point</th><th scope=col>celltype</th><th scope=col>n_cells</th></tr></thead>\n",
       "<tbody>\n",
       "\t<tr><td>HPSI0114i-eipl_1</td><td>pool1           </td><td>D11             </td><td>FPP             </td><td>1672            </td></tr>\n",
       "\t<tr><td>HPSI0114i-eipl_1</td><td>pool1           </td><td>D11             </td><td>NB              </td><td> 228            </td></tr>\n",
       "</tbody>\n",
       "</table>\n"
      ],
      "text/latex": [
       "\\begin{tabular}{r|lllll}\n",
       " donor\\_id & pool\\_id & time\\_point & celltype & n\\_cells\\\\\n",
       "\\hline\n",
       "\t HPSI0114i-eipl\\_1 & pool1              & D11                & FPP                & 1672              \\\\\n",
       "\t HPSI0114i-eipl\\_1 & pool1              & D11                & NB                 &  228              \\\\\n",
       "\\end{tabular}\n"
      ],
      "text/markdown": [
       "\n",
       "| donor_id | pool_id | time_point | celltype | n_cells |\n",
       "|---|---|---|---|---|\n",
       "| HPSI0114i-eipl_1 | pool1            | D11              | FPP              | 1672             |\n",
       "| HPSI0114i-eipl_1 | pool1            | D11              | NB               |  228             |\n",
       "\n"
      ],
      "text/plain": [
       "  donor_id         pool_id time_point celltype n_cells\n",
       "1 HPSI0114i-eipl_1 pool1   D11        FPP      1672   \n",
       "2 HPSI0114i-eipl_1 pool1   D11        NB        228   "
      ]
     },
     "metadata": {},
     "output_type": "display_data"
    }
   ],
   "source": [
    "### Day 11\n",
    "mydir = \"/nfs/leia/research/stegle/dseaton/hipsci/singlecell_neuroseq/data/data_processed/pool1_13_noddd_D11/\"\n",
    "mysuffix = \"pool1_13_noddd_D11.scanpy.w_metadata.w_celltype.scanpy.obs_df.groupedby.donor_id-pool_id-time_point.celltype_counts.tsv\"\n",
    "\n",
    "myfilename = paste0(mydir,mysuffix)\n",
    "myfile = read.table(myfilename, header = T)\n",
    "head(myfile,2)"
   ]
  },
  {
   "cell_type": "code",
   "execution_count": 6,
   "metadata": {},
   "outputs": [
    {
     "data": {
      "text/html": [
       "1"
      ],
      "text/latex": [
       "1"
      ],
      "text/markdown": [
       "1"
      ],
      "text/plain": [
       "[1] 1"
      ]
     },
     "metadata": {},
     "output_type": "display_data"
    },
    {
     "data": {
      "text/html": [
       "<table>\n",
       "<thead><tr><th scope=col>celltype</th><th scope=col>time_point</th><th scope=col>ncells</th><th scope=col>fractions</th></tr></thead>\n",
       "<tbody>\n",
       "\t<tr><td>FPP      </td><td>D11      </td><td>136074   </td><td>0.5370332</td></tr>\n",
       "\t<tr><td>NB       </td><td>D11      </td><td>  9973   </td><td>0.0393597</td></tr>\n",
       "\t<tr><td>P_FPP    </td><td>D11      </td><td>107334   </td><td>0.4236071</td></tr>\n",
       "</tbody>\n",
       "</table>\n"
      ],
      "text/latex": [
       "\\begin{tabular}{r|llll}\n",
       " celltype & time\\_point & ncells & fractions\\\\\n",
       "\\hline\n",
       "\t FPP       & D11       & 136074    & 0.5370332\\\\\n",
       "\t NB        & D11       &   9973    & 0.0393597\\\\\n",
       "\t P\\_FPP   & D11       & 107334    & 0.4236071\\\\\n",
       "\\end{tabular}\n"
      ],
      "text/markdown": [
       "\n",
       "| celltype | time_point | ncells | fractions |\n",
       "|---|---|---|---|\n",
       "| FPP       | D11       | 136074    | 0.5370332 |\n",
       "| NB        | D11       |   9973    | 0.0393597 |\n",
       "| P_FPP     | D11       | 107334    | 0.4236071 |\n",
       "\n"
      ],
      "text/plain": [
       "  celltype time_point ncells fractions\n",
       "1 FPP      D11        136074 0.5370332\n",
       "2 NB       D11          9973 0.0393597\n",
       "3 P_FPP    D11        107334 0.4236071"
      ]
     },
     "metadata": {},
     "output_type": "display_data"
    }
   ],
   "source": [
    "df = myfile %>% group_by(celltype,time_point) %>% summarise(ncells = sum(n_cells))\n",
    "df$fractions = df$ncells/sum(df$ncells)\n",
    "sum(df$fractions)\n",
    "df"
   ]
  },
  {
   "cell_type": "code",
   "execution_count": 7,
   "metadata": {},
   "outputs": [
    {
     "data": {
      "text/html": [
       "<table>\n",
       "<thead><tr><th scope=col>celltype</th><th scope=col>time_point</th><th scope=col>ncells</th><th scope=col>fractions</th><th scope=col>order</th></tr></thead>\n",
       "<tbody>\n",
       "\t<tr><td>FPP      </td><td>D11      </td><td>136074   </td><td>0.5370332</td><td>1        </td></tr>\n",
       "\t<tr><td>P_FPP    </td><td>D11      </td><td>107334   </td><td>0.4236071</td><td>2        </td></tr>\n",
       "\t<tr><td>NB       </td><td>D11      </td><td>  9973   </td><td>0.0393597</td><td>3        </td></tr>\n",
       "</tbody>\n",
       "</table>\n"
      ],
      "text/latex": [
       "\\begin{tabular}{r|lllll}\n",
       " celltype & time\\_point & ncells & fractions & order\\\\\n",
       "\\hline\n",
       "\t FPP       & D11       & 136074    & 0.5370332 & 1        \\\\\n",
       "\t P\\_FPP   & D11       & 107334    & 0.4236071 & 2        \\\\\n",
       "\t NB        & D11       &   9973    & 0.0393597 & 3        \\\\\n",
       "\\end{tabular}\n"
      ],
      "text/markdown": [
       "\n",
       "| celltype | time_point | ncells | fractions | order |\n",
       "|---|---|---|---|---|\n",
       "| FPP       | D11       | 136074    | 0.5370332 | 1         |\n",
       "| P_FPP     | D11       | 107334    | 0.4236071 | 2         |\n",
       "| NB        | D11       |   9973    | 0.0393597 | 3         |\n",
       "\n"
      ],
      "text/plain": [
       "  celltype time_point ncells fractions order\n",
       "1 FPP      D11        136074 0.5370332 1    \n",
       "2 P_FPP    D11        107334 0.4236071 2    \n",
       "3 NB       D11          9973 0.0393597 3    "
      ]
     },
     "metadata": {},
     "output_type": "display_data"
    }
   ],
   "source": [
    "df$order = c()\n",
    "for (i in 1:length(ordering)){\n",
    "    if (ordering[i] %in% df$celltype){\n",
    "        df[df$celltype == ordering[i],'order'] <-  i\n",
    "    }   \n",
    "}\n",
    "\n",
    "df = df[order(df$order),]\n",
    "df"
   ]
  },
  {
   "cell_type": "code",
   "execution_count": 8,
   "metadata": {},
   "outputs": [
    {
     "data": {
      "image/png": "[encoded data removed]",
      "text/plain": [
       "plot without title"
      ]
     },
     "metadata": {},
     "output_type": "display_data"
    }
   ],
   "source": [
    "options(repr.plot.width=5, repr.plot.height=2.5)\n",
    "barplot(df$fractions[1]+df$fractions[2]+df$fractions[3], col = cols[3], horiz = T)\n",
    "barplot(df$fractions[1]+df$fractions[2], col = cols[2], add = T, horiz = T)\n",
    "barplot(df$fractions[1], col = cols[1], add = T, horiz = T) "
   ]
  },
  {
   "cell_type": "code",
   "execution_count": 9,
   "metadata": {},
   "outputs": [],
   "source": [
    "fig_dir = \"/hps/nobackup/stegle/users/acuomo/all_scripts/sc_neuroseq/figures/main_figures/\""
   ]
  },
  {
   "cell_type": "code",
   "execution_count": 14,
   "metadata": {},
   "outputs": [
    {
     "data": {
      "text/html": [
       "<strong>png:</strong> 2"
      ],
      "text/latex": [
       "\\textbf{png:} 2"
      ],
      "text/markdown": [
       "**png:** 2"
      ],
      "text/plain": [
       "png \n",
       "  2 "
      ]
     },
     "metadata": {},
     "output_type": "display_data"
    }
   ],
   "source": [
    "pdf(paste0(fig_dir,\"Fig1c_day11.pdf\"), width=5, height=2.5)\n",
    "barplot(df$fractions[1]+df$fractions[2]+df$fractions[3], col = cols[3], horiz = T)\n",
    "barplot(df$fractions[1]+df$fractions[2], col = cols[2], add = T, horiz = T)\n",
    "barplot(df$fractions[1], col = cols[1], add = T, horiz = T) \n",
    "dev.off()"
   ]
  },
  {
   "cell_type": "code",
   "execution_count": null,
   "metadata": {},
   "outputs": [],
   "source": []
  },
  {
   "cell_type": "code",
   "execution_count": 15,
   "metadata": {},
   "outputs": [
    {
     "data": {
      "text/html": [
       "<table>\n",
       "<thead><tr><th scope=col>donor_id</th><th scope=col>pool_id</th><th scope=col>time_point</th><th scope=col>celltype</th><th scope=col>n_cells</th></tr></thead>\n",
       "<tbody>\n",
       "\t<tr><td>HPSI0114i-bezi_3</td><td>pool10          </td><td>D30             </td><td>Astro           </td><td>62              </td></tr>\n",
       "\t<tr><td>HPSI0114i-bezi_3</td><td>pool10          </td><td>D30             </td><td>CHem            </td><td>11              </td></tr>\n",
       "</tbody>\n",
       "</table>\n"
      ],
      "text/latex": [
       "\\begin{tabular}{r|lllll}\n",
       " donor\\_id & pool\\_id & time\\_point & celltype & n\\_cells\\\\\n",
       "\\hline\n",
       "\t HPSI0114i-bezi\\_3 & pool10             & D30                & Astro              & 62                \\\\\n",
       "\t HPSI0114i-bezi\\_3 & pool10             & D30                & CHem               & 11                \\\\\n",
       "\\end{tabular}\n"
      ],
      "text/markdown": [
       "\n",
       "| donor_id | pool_id | time_point | celltype | n_cells |\n",
       "|---|---|---|---|---|\n",
       "| HPSI0114i-bezi_3 | pool10           | D30              | Astro            | 62               |\n",
       "| HPSI0114i-bezi_3 | pool10           | D30              | CHem             | 11               |\n",
       "\n"
      ],
      "text/plain": [
       "  donor_id         pool_id time_point celltype n_cells\n",
       "1 HPSI0114i-bezi_3 pool10  D30        Astro    62     \n",
       "2 HPSI0114i-bezi_3 pool10  D30        CHem     11     "
      ]
     },
     "metadata": {},
     "output_type": "display_data"
    }
   ],
   "source": [
    "## Day 30\n",
    "mydir = \"/nfs/leia/research/stegle/dseaton/hipsci/singlecell_neuroseq/data/data_processed/pool1_13_noddd_D30/\"\n",
    "mysuffix = \"pool1_13_noddd_D30.scanpy.w_metadata.w_celltype.scanpy.obs_df.groupedby.donor_id-pool_id-time_point.celltype_counts.tsv\"\n",
    "\n",
    "myfilename = paste0(mydir,mysuffix)\n",
    "myfile = read.table(myfilename, header = T)\n",
    "head(myfile,2)"
   ]
  },
  {
   "cell_type": "code",
   "execution_count": 16,
   "metadata": {},
   "outputs": [
    {
     "data": {
      "text/html": [
       "1"
      ],
      "text/latex": [
       "1"
      ],
      "text/markdown": [
       "1"
      ],
      "text/plain": [
       "[1] 1"
      ]
     },
     "metadata": {},
     "output_type": "display_data"
    },
    {
     "data": {
      "text/html": [
       "<table>\n",
       "<thead><tr><th scope=col>celltype</th><th scope=col>time_point</th><th scope=col>ncells</th><th scope=col>fractions</th></tr></thead>\n",
       "<tbody>\n",
       "\t<tr><td>Astro      </td><td>D30        </td><td>58109      </td><td>0.231581003</td></tr>\n",
       "\t<tr><td>CHem       </td><td>D30        </td><td>21268      </td><td>0.084759070</td></tr>\n",
       "\t<tr><td>DA         </td><td>D30        </td><td>69007      </td><td>0.275012653</td></tr>\n",
       "\t<tr><td>Epen1      </td><td>D30        </td><td>28145      </td><td>0.112165884</td></tr>\n",
       "\t<tr><td>P_FPP      </td><td>D30        </td><td>18988      </td><td>0.075672617</td></tr>\n",
       "\t<tr><td>Sert       </td><td>D30        </td><td>53774      </td><td>0.214304787</td></tr>\n",
       "\t<tr><td>unknown    </td><td>D30        </td><td> 1632      </td><td>0.006503987</td></tr>\n",
       "</tbody>\n",
       "</table>\n"
      ],
      "text/latex": [
       "\\begin{tabular}{r|llll}\n",
       " celltype & time\\_point & ncells & fractions\\\\\n",
       "\\hline\n",
       "\t Astro       & D30         & 58109       & 0.231581003\\\\\n",
       "\t CHem        & D30         & 21268       & 0.084759070\\\\\n",
       "\t DA          & D30         & 69007       & 0.275012653\\\\\n",
       "\t Epen1       & D30         & 28145       & 0.112165884\\\\\n",
       "\t P\\_FPP     & D30         & 18988       & 0.075672617\\\\\n",
       "\t Sert        & D30         & 53774       & 0.214304787\\\\\n",
       "\t unknown     & D30         &  1632       & 0.006503987\\\\\n",
       "\\end{tabular}\n"
      ],
      "text/markdown": [
       "\n",
       "| celltype | time_point | ncells | fractions |\n",
       "|---|---|---|---|\n",
       "| Astro       | D30         | 58109       | 0.231581003 |\n",
       "| CHem        | D30         | 21268       | 0.084759070 |\n",
       "| DA          | D30         | 69007       | 0.275012653 |\n",
       "| Epen1       | D30         | 28145       | 0.112165884 |\n",
       "| P_FPP       | D30         | 18988       | 0.075672617 |\n",
       "| Sert        | D30         | 53774       | 0.214304787 |\n",
       "| unknown     | D30         |  1632       | 0.006503987 |\n",
       "\n"
      ],
      "text/plain": [
       "  celltype time_point ncells fractions  \n",
       "1 Astro    D30        58109  0.231581003\n",
       "2 CHem     D30        21268  0.084759070\n",
       "3 DA       D30        69007  0.275012653\n",
       "4 Epen1    D30        28145  0.112165884\n",
       "5 P_FPP    D30        18988  0.075672617\n",
       "6 Sert     D30        53774  0.214304787\n",
       "7 unknown  D30         1632  0.006503987"
      ]
     },
     "metadata": {},
     "output_type": "display_data"
    }
   ],
   "source": [
    "df = myfile %>% group_by(celltype,time_point) %>% summarise(ncells = sum(n_cells))\n",
    "df$fractions = df$ncells/sum(df$ncells)\n",
    "sum(df$fractions)\n",
    "df"
   ]
  },
  {
   "cell_type": "code",
   "execution_count": 17,
   "metadata": {},
   "outputs": [],
   "source": [
    "df$celltype <- as.character(df$celltype)\n",
    "df$celltype[df$celltype == \"Astro\"] <- \"FPP\"\n",
    "df$celltype[df$celltype == \"CHem\"] <- \"U_Neur1\"\n",
    "df$celltype[df$celltype == \"unknown\"] <- \"U_Neur2\""
   ]
  },
  {
   "cell_type": "code",
   "execution_count": 18,
   "metadata": {},
   "outputs": [
    {
     "data": {
      "text/html": [
       "<table>\n",
       "<thead><tr><th scope=col>celltype</th><th scope=col>time_point</th><th scope=col>ncells</th><th scope=col>fractions</th><th scope=col>order</th></tr></thead>\n",
       "<tbody>\n",
       "\t<tr><td>FPP        </td><td>D30        </td><td>58109      </td><td>0.231581003</td><td> 1         </td></tr>\n",
       "\t<tr><td>P_FPP      </td><td>D30        </td><td>18988      </td><td>0.075672617</td><td> 2         </td></tr>\n",
       "\t<tr><td>DA         </td><td>D30        </td><td>69007      </td><td>0.275012653</td><td> 4         </td></tr>\n",
       "\t<tr><td>Sert       </td><td>D30        </td><td>53774      </td><td>0.214304787</td><td> 5         </td></tr>\n",
       "\t<tr><td>Epen1      </td><td>D30        </td><td>28145      </td><td>0.112165884</td><td> 8         </td></tr>\n",
       "\t<tr><td>U_Neur1    </td><td>D30        </td><td>21268      </td><td>0.084759070</td><td>10         </td></tr>\n",
       "\t<tr><td>U_Neur2    </td><td>D30        </td><td> 1632      </td><td>0.006503987</td><td>11         </td></tr>\n",
       "</tbody>\n",
       "</table>\n"
      ],
      "text/latex": [
       "\\begin{tabular}{r|lllll}\n",
       " celltype & time\\_point & ncells & fractions & order\\\\\n",
       "\\hline\n",
       "\t FPP         & D30         & 58109       & 0.231581003 &  1         \\\\\n",
       "\t P\\_FPP     & D30         & 18988       & 0.075672617 &  2         \\\\\n",
       "\t DA          & D30         & 69007       & 0.275012653 &  4         \\\\\n",
       "\t Sert        & D30         & 53774       & 0.214304787 &  5         \\\\\n",
       "\t Epen1       & D30         & 28145       & 0.112165884 &  8         \\\\\n",
       "\t U\\_Neur1   & D30         & 21268       & 0.084759070 & 10         \\\\\n",
       "\t U\\_Neur2   & D30         &  1632       & 0.006503987 & 11         \\\\\n",
       "\\end{tabular}\n"
      ],
      "text/markdown": [
       "\n",
       "| celltype | time_point | ncells | fractions | order |\n",
       "|---|---|---|---|---|\n",
       "| FPP         | D30         | 58109       | 0.231581003 |  1          |\n",
       "| P_FPP       | D30         | 18988       | 0.075672617 |  2          |\n",
       "| DA          | D30         | 69007       | 0.275012653 |  4          |\n",
       "| Sert        | D30         | 53774       | 0.214304787 |  5          |\n",
       "| Epen1       | D30         | 28145       | 0.112165884 |  8          |\n",
       "| U_Neur1     | D30         | 21268       | 0.084759070 | 10          |\n",
       "| U_Neur2     | D30         |  1632       | 0.006503987 | 11          |\n",
       "\n"
      ],
      "text/plain": [
       "  celltype time_point ncells fractions   order\n",
       "1 FPP      D30        58109  0.231581003  1   \n",
       "2 P_FPP    D30        18988  0.075672617  2   \n",
       "3 DA       D30        69007  0.275012653  4   \n",
       "4 Sert     D30        53774  0.214304787  5   \n",
       "5 Epen1    D30        28145  0.112165884  8   \n",
       "6 U_Neur1  D30        21268  0.084759070 10   \n",
       "7 U_Neur2  D30         1632  0.006503987 11   "
      ]
     },
     "metadata": {},
     "output_type": "display_data"
    }
   ],
   "source": [
    "df$order = c()\n",
    "for (i in 1:length(ordering)){\n",
    "    if (ordering[i] %in% df$celltype){\n",
    "        df[df$celltype == ordering[i],'order'] <-  i\n",
    "    }   \n",
    "}\n",
    "\n",
    "df = df[order(df$order),]\n",
    "df"
   ]
  },
  {
   "cell_type": "code",
   "execution_count": 19,
   "metadata": {},
   "outputs": [
    {
     "data": {
      "image/png": "[encoded data removed]",
      "text/plain": [
       "plot without title"
      ]
     },
     "metadata": {},
     "output_type": "display_data"
    }
   ],
   "source": [
    "options(repr.plot.width=5, repr.plot.height=2.5)\n",
    "barplot(df$fractions[1]+df$fractions[2]+df$fractions[3]+df$fractions[4]+df$fractions[5]+df$fractions[6]+df$fractions[7], col = cols[df$order[7]], horiz = T)\n",
    "barplot(df$fractions[1]+df$fractions[2]+df$fractions[3]+df$fractions[4]+df$fractions[5]+df$fractions[6], col = cols[df$order[6]], horiz = T, add = T)\n",
    "barplot(df$fractions[1]+df$fractions[2]+df$fractions[3]+df$fractions[4]+df$fractions[5], col = cols[df$order[5]], horiz = T, add = T)\n",
    "barplot(df$fractions[1]+df$fractions[2]+df$fractions[3]+df$fractions[4], col = cols[df$order[4]], horiz = T, add = T)\n",
    "barplot(df$fractions[1]+df$fractions[2]+df$fractions[3], col = cols[df$order[3]], horiz = T, add = T)\n",
    "barplot(df$fractions[1]+df$fractions[2], col = cols[df$order[2]], add = T, horiz = T)\n",
    "barplot(df$fractions[1], col = cols[df$order[1]], add = T, horiz = T) "
   ]
  },
  {
   "cell_type": "code",
   "execution_count": 20,
   "metadata": {},
   "outputs": [
    {
     "data": {
      "text/html": [
       "<strong>png:</strong> 2"
      ],
      "text/latex": [
       "\\textbf{png:} 2"
      ],
      "text/markdown": [
       "**png:** 2"
      ],
      "text/plain": [
       "png \n",
       "  2 "
      ]
     },
     "metadata": {},
     "output_type": "display_data"
    }
   ],
   "source": [
    "pdf(paste0(fig_dir,\"Fig1c_day30.pdf\"), width=5, height=2.5)\n",
    "barplot(df$fractions[1]+df$fractions[2]+df$fractions[3]+df$fractions[4]+df$fractions[5]+df$fractions[6]+df$fractions[7], col = cols[df$order[7]], horiz = T)\n",
    "barplot(df$fractions[1]+df$fractions[2]+df$fractions[3]+df$fractions[4]+df$fractions[5]+df$fractions[6], col = cols[df$order[6]], horiz = T, add = T)\n",
    "barplot(df$fractions[1]+df$fractions[2]+df$fractions[3]+df$fractions[4]+df$fractions[5], col = cols[df$order[5]], horiz = T, add = T)\n",
    "barplot(df$fractions[1]+df$fractions[2]+df$fractions[3]+df$fractions[4], col = cols[df$order[4]], horiz = T, add = T)\n",
    "barplot(df$fractions[1]+df$fractions[2]+df$fractions[3], col = cols[df$order[3]], horiz = T, add = T)\n",
    "barplot(df$fractions[1]+df$fractions[2], col = cols[df$order[2]], add = T, horiz = T)\n",
    "barplot(df$fractions[1], col = cols[df$order[1]], add = T, horiz = T) \n",
    "dev.off()"
   ]
  },
  {
   "cell_type": "code",
   "execution_count": null,
   "metadata": {},
   "outputs": [],
   "source": []
  },
  {
   "cell_type": "code",
   "execution_count": 21,
   "metadata": {},
   "outputs": [
    {
     "data": {
      "text/html": [
       "<table>\n",
       "<thead><tr><th scope=col>donor_id</th><th scope=col>pool_id</th><th scope=col>time_point</th><th scope=col>treatment</th><th scope=col>celltype</th><th scope=col>n_cells</th></tr></thead>\n",
       "<tbody>\n",
       "\t<tr><td>HPSI0114i-bezi_3</td><td>pool10          </td><td>D52             </td><td>NONE            </td><td>Astro           </td><td>2               </td></tr>\n",
       "\t<tr><td>HPSI0114i-bezi_3</td><td>pool10          </td><td>D52             </td><td>NONE            </td><td>CHem            </td><td>5               </td></tr>\n",
       "</tbody>\n",
       "</table>\n"
      ],
      "text/latex": [
       "\\begin{tabular}{r|llllll}\n",
       " donor\\_id & pool\\_id & time\\_point & treatment & celltype & n\\_cells\\\\\n",
       "\\hline\n",
       "\t HPSI0114i-bezi\\_3 & pool10             & D52                & NONE               & Astro              & 2                 \\\\\n",
       "\t HPSI0114i-bezi\\_3 & pool10             & D52                & NONE               & CHem               & 5                 \\\\\n",
       "\\end{tabular}\n"
      ],
      "text/markdown": [
       "\n",
       "| donor_id | pool_id | time_point | treatment | celltype | n_cells |\n",
       "|---|---|---|---|---|---|\n",
       "| HPSI0114i-bezi_3 | pool10           | D52              | NONE             | Astro            | 2                |\n",
       "| HPSI0114i-bezi_3 | pool10           | D52              | NONE             | CHem             | 5                |\n",
       "\n"
      ],
      "text/plain": [
       "  donor_id         pool_id time_point treatment celltype n_cells\n",
       "1 HPSI0114i-bezi_3 pool10  D52        NONE      Astro    2      \n",
       "2 HPSI0114i-bezi_3 pool10  D52        NONE      CHem     5      "
      ]
     },
     "metadata": {},
     "output_type": "display_data"
    }
   ],
   "source": [
    "## Day 52\n",
    "mydir = \"/nfs/leia/research/stegle/dseaton/hipsci/singlecell_neuroseq/data/data_processed/pool1_17_D52/\"\n",
    "mysuffix = \"pool1_17_D52.scanpy.w_metadata.w_celltype.scanpy.obs_df.groupedby.donor_id-pool_id-time_point-treatment.celltype_counts.tsv\"\n",
    "\n",
    "myfilename = paste0(mydir,mysuffix)\n",
    "myfile = read.table(myfilename, header = T)\n",
    "head(myfile,2)"
   ]
  },
  {
   "cell_type": "code",
   "execution_count": 22,
   "metadata": {},
   "outputs": [],
   "source": [
    "df = myfile %>% group_by(celltype,time_point,treatment) %>% summarise(ncells = sum(n_cells))"
   ]
  },
  {
   "cell_type": "code",
   "execution_count": 23,
   "metadata": {},
   "outputs": [
    {
     "data": {
      "text/html": [
       "<table>\n",
       "<thead><tr><th scope=col>celltype</th><th scope=col>time_point</th><th scope=col>treatment</th><th scope=col>ncells</th><th scope=col>fractions</th></tr></thead>\n",
       "<tbody>\n",
       "\t<tr><td>Astro      </td><td>D52        </td><td>NONE       </td><td>44059      </td><td>0.144999605</td></tr>\n",
       "\t<tr><td>CHem       </td><td>D52        </td><td>NONE       </td><td>22674      </td><td>0.074620873</td></tr>\n",
       "\t<tr><td>DA         </td><td>D52        </td><td>NONE       </td><td>54331      </td><td>0.178805092</td></tr>\n",
       "\t<tr><td>Epen1      </td><td>D52        </td><td>NONE       </td><td>50084      </td><td>0.164828076</td></tr>\n",
       "\t<tr><td>Epen2      </td><td>D52        </td><td>NONE       </td><td> 1869      </td><td>0.006150940</td></tr>\n",
       "\t<tr><td>FPP        </td><td>D52        </td><td>NONE       </td><td>34515      </td><td>0.113589990</td></tr>\n",
       "\t<tr><td>P_FPP      </td><td>D52        </td><td>NONE       </td><td>15390      </td><td>0.050648992</td></tr>\n",
       "\t<tr><td>P_Sert     </td><td>D52        </td><td>NONE       </td><td> 1793      </td><td>0.005900821</td></tr>\n",
       "\t<tr><td>Sert       </td><td>D52        </td><td>NONE       </td><td>74984      </td><td>0.246774788</td></tr>\n",
       "\t<tr><td>unknown    </td><td>D52        </td><td>NONE       </td><td> 4157      </td><td>0.013680822</td></tr>\n",
       "</tbody>\n",
       "</table>\n"
      ],
      "text/latex": [
       "\\begin{tabular}{r|lllll}\n",
       " celltype & time\\_point & treatment & ncells & fractions\\\\\n",
       "\\hline\n",
       "\t Astro       & D52         & NONE        & 44059       & 0.144999605\\\\\n",
       "\t CHem        & D52         & NONE        & 22674       & 0.074620873\\\\\n",
       "\t DA          & D52         & NONE        & 54331       & 0.178805092\\\\\n",
       "\t Epen1       & D52         & NONE        & 50084       & 0.164828076\\\\\n",
       "\t Epen2       & D52         & NONE        &  1869       & 0.006150940\\\\\n",
       "\t FPP         & D52         & NONE        & 34515       & 0.113589990\\\\\n",
       "\t P\\_FPP     & D52         & NONE        & 15390       & 0.050648992\\\\\n",
       "\t P\\_Sert    & D52         & NONE        &  1793       & 0.005900821\\\\\n",
       "\t Sert        & D52         & NONE        & 74984       & 0.246774788\\\\\n",
       "\t unknown     & D52         & NONE        &  4157       & 0.013680822\\\\\n",
       "\\end{tabular}\n"
      ],
      "text/markdown": [
       "\n",
       "| celltype | time_point | treatment | ncells | fractions |\n",
       "|---|---|---|---|---|\n",
       "| Astro       | D52         | NONE        | 44059       | 0.144999605 |\n",
       "| CHem        | D52         | NONE        | 22674       | 0.074620873 |\n",
       "| DA          | D52         | NONE        | 54331       | 0.178805092 |\n",
       "| Epen1       | D52         | NONE        | 50084       | 0.164828076 |\n",
       "| Epen2       | D52         | NONE        |  1869       | 0.006150940 |\n",
       "| FPP         | D52         | NONE        | 34515       | 0.113589990 |\n",
       "| P_FPP       | D52         | NONE        | 15390       | 0.050648992 |\n",
       "| P_Sert      | D52         | NONE        |  1793       | 0.005900821 |\n",
       "| Sert        | D52         | NONE        | 74984       | 0.246774788 |\n",
       "| unknown     | D52         | NONE        |  4157       | 0.013680822 |\n",
       "\n"
      ],
      "text/plain": [
       "   celltype time_point treatment ncells fractions  \n",
       "1  Astro    D52        NONE      44059  0.144999605\n",
       "2  CHem     D52        NONE      22674  0.074620873\n",
       "3  DA       D52        NONE      54331  0.178805092\n",
       "4  Epen1    D52        NONE      50084  0.164828076\n",
       "5  Epen2    D52        NONE       1869  0.006150940\n",
       "6  FPP      D52        NONE      34515  0.113589990\n",
       "7  P_FPP    D52        NONE      15390  0.050648992\n",
       "8  P_Sert   D52        NONE       1793  0.005900821\n",
       "9  Sert     D52        NONE      74984  0.246774788\n",
       "10 unknown  D52        NONE       4157  0.013680822"
      ]
     },
     "metadata": {},
     "output_type": "display_data"
    }
   ],
   "source": [
    "## Day 52 untreated cells\n",
    "df_NONE = df[df$treatment == 'NONE',]\n",
    "df_NONE$fractions = df_NONE$ncells/sum(df_NONE$ncells)\n",
    "df_NONE"
   ]
  },
  {
   "cell_type": "code",
   "execution_count": 24,
   "metadata": {},
   "outputs": [
    {
     "data": {
      "text/html": [
       "<table>\n",
       "<thead><tr><th scope=col>celltype</th><th scope=col>time_point</th><th scope=col>treatment</th><th scope=col>ncells</th><th scope=col>fractions</th><th scope=col>order</th></tr></thead>\n",
       "<tbody>\n",
       "\t<tr><td>FPP        </td><td>D52        </td><td>NONE       </td><td>34515      </td><td>0.113589990</td><td> 1         </td></tr>\n",
       "\t<tr><td>P_FPP      </td><td>D52        </td><td>NONE       </td><td>15390      </td><td>0.050648992</td><td> 2         </td></tr>\n",
       "\t<tr><td>DA         </td><td>D52        </td><td>NONE       </td><td>54331      </td><td>0.178805092</td><td> 4         </td></tr>\n",
       "\t<tr><td>Sert       </td><td>D52        </td><td>NONE       </td><td>74984      </td><td>0.246774788</td><td> 5         </td></tr>\n",
       "\t<tr><td>P_Sert     </td><td>D52        </td><td>NONE       </td><td> 1793      </td><td>0.005900821</td><td> 6         </td></tr>\n",
       "\t<tr><td>Astro      </td><td>D52        </td><td>NONE       </td><td>44059      </td><td>0.144999605</td><td> 7         </td></tr>\n",
       "\t<tr><td>Epen1      </td><td>D52        </td><td>NONE       </td><td>50084      </td><td>0.164828076</td><td> 8         </td></tr>\n",
       "\t<tr><td>Epen2      </td><td>D52        </td><td>NONE       </td><td> 1869      </td><td>0.006150940</td><td> 9         </td></tr>\n",
       "\t<tr><td>U_Neur1    </td><td>D52        </td><td>NONE       </td><td>22674      </td><td>0.074620873</td><td>10         </td></tr>\n",
       "\t<tr><td>U_Neur3    </td><td>D52        </td><td>NONE       </td><td> 4157      </td><td>0.013680822</td><td>12         </td></tr>\n",
       "</tbody>\n",
       "</table>\n"
      ],
      "text/latex": [
       "\\begin{tabular}{r|llllll}\n",
       " celltype & time\\_point & treatment & ncells & fractions & order\\\\\n",
       "\\hline\n",
       "\t FPP         & D52         & NONE        & 34515       & 0.113589990 &  1         \\\\\n",
       "\t P\\_FPP     & D52         & NONE        & 15390       & 0.050648992 &  2         \\\\\n",
       "\t DA          & D52         & NONE        & 54331       & 0.178805092 &  4         \\\\\n",
       "\t Sert        & D52         & NONE        & 74984       & 0.246774788 &  5         \\\\\n",
       "\t P\\_Sert    & D52         & NONE        &  1793       & 0.005900821 &  6         \\\\\n",
       "\t Astro       & D52         & NONE        & 44059       & 0.144999605 &  7         \\\\\n",
       "\t Epen1       & D52         & NONE        & 50084       & 0.164828076 &  8         \\\\\n",
       "\t Epen2       & D52         & NONE        &  1869       & 0.006150940 &  9         \\\\\n",
       "\t U\\_Neur1   & D52         & NONE        & 22674       & 0.074620873 & 10         \\\\\n",
       "\t U\\_Neur3   & D52         & NONE        &  4157       & 0.013680822 & 12         \\\\\n",
       "\\end{tabular}\n"
      ],
      "text/markdown": [
       "\n",
       "| celltype | time_point | treatment | ncells | fractions | order |\n",
       "|---|---|---|---|---|---|\n",
       "| FPP         | D52         | NONE        | 34515       | 0.113589990 |  1          |\n",
       "| P_FPP       | D52         | NONE        | 15390       | 0.050648992 |  2          |\n",
       "| DA          | D52         | NONE        | 54331       | 0.178805092 |  4          |\n",
       "| Sert        | D52         | NONE        | 74984       | 0.246774788 |  5          |\n",
       "| P_Sert      | D52         | NONE        |  1793       | 0.005900821 |  6          |\n",
       "| Astro       | D52         | NONE        | 44059       | 0.144999605 |  7          |\n",
       "| Epen1       | D52         | NONE        | 50084       | 0.164828076 |  8          |\n",
       "| Epen2       | D52         | NONE        |  1869       | 0.006150940 |  9          |\n",
       "| U_Neur1     | D52         | NONE        | 22674       | 0.074620873 | 10          |\n",
       "| U_Neur3     | D52         | NONE        |  4157       | 0.013680822 | 12          |\n",
       "\n"
      ],
      "text/plain": [
       "   celltype time_point treatment ncells fractions   order\n",
       "1  FPP      D52        NONE      34515  0.113589990  1   \n",
       "2  P_FPP    D52        NONE      15390  0.050648992  2   \n",
       "3  DA       D52        NONE      54331  0.178805092  4   \n",
       "4  Sert     D52        NONE      74984  0.246774788  5   \n",
       "5  P_Sert   D52        NONE       1793  0.005900821  6   \n",
       "6  Astro    D52        NONE      44059  0.144999605  7   \n",
       "7  Epen1    D52        NONE      50084  0.164828076  8   \n",
       "8  Epen2    D52        NONE       1869  0.006150940  9   \n",
       "9  U_Neur1  D52        NONE      22674  0.074620873 10   \n",
       "10 U_Neur3  D52        NONE       4157  0.013680822 12   "
      ]
     },
     "metadata": {},
     "output_type": "display_data"
    }
   ],
   "source": [
    "df = df_NONE\n",
    "df$celltype <- as.character(df$celltype)\n",
    "df$celltype[df$celltype == \"CHem\"] <- \"U_Neur1\"\n",
    "df$celltype[df$celltype == \"unknown\"] <- \"U_Neur3\"\n",
    "\n",
    "df$order = c()\n",
    "for (i in 1:length(ordering)){\n",
    "    if (ordering[i] %in% df$celltype){\n",
    "        df[df$celltype == ordering[i],'order'] <-  i\n",
    "    }   \n",
    "}\n",
    "\n",
    "df = df[order(df$order),]\n",
    "df"
   ]
  },
  {
   "cell_type": "code",
   "execution_count": 25,
   "metadata": {},
   "outputs": [
    {
     "data": {
      "image/png": "[encoded data removed]",
      "text/plain": [
       "plot without title"
      ]
     },
     "metadata": {},
     "output_type": "display_data"
    }
   ],
   "source": [
    "options(repr.plot.width=5, repr.plot.height=2.5)\n",
    "barplot(df$fractions[1]+df$fractions[2]+df$fractions[3]+df$fractions[4]+df$fractions[5]+df$fractions[6]+df$fractions[7]+df$fractions[8]+df$fractions[9]+df$fractions[10], col = cols[df$order[10]], horiz = T)\n",
    "barplot(df$fractions[1]+df$fractions[2]+df$fractions[3]+df$fractions[4]+df$fractions[5]+df$fractions[6]+df$fractions[7]+df$fractions[8]+df$fractions[9], col = cols[df$order[9]], horiz = T, add = T)\n",
    "barplot(df$fractions[1]+df$fractions[2]+df$fractions[3]+df$fractions[4]+df$fractions[5]+df$fractions[6]+df$fractions[7]+df$fractions[8], col = cols[df$order[8]], horiz = T, add = T)\n",
    "barplot(df$fractions[1]+df$fractions[2]+df$fractions[3]+df$fractions[4]+df$fractions[5]+df$fractions[6]+df$fractions[7], col = cols[df$order[7]], horiz = T, add = T)\n",
    "barplot(df$fractions[1]+df$fractions[2]+df$fractions[3]+df$fractions[4]+df$fractions[5]+df$fractions[6], col = cols[df$order[6]], horiz = T, add = T)\n",
    "barplot(df$fractions[1]+df$fractions[2]+df$fractions[3]+df$fractions[4]+df$fractions[5], col = cols[df$order[5]], horiz = T, add = T)\n",
    "barplot(df$fractions[1]+df$fractions[2]+df$fractions[3]+df$fractions[4], col = cols[df$order[4]], horiz = T, add = T)\n",
    "barplot(df$fractions[1]+df$fractions[2]+df$fractions[3], col = cols[df$order[3]], horiz = T, add = T)\n",
    "barplot(df$fractions[1]+df$fractions[2], col = cols[df$order[2]], add = T, horiz = T)\n",
    "barplot(df$fractions[1], col = cols[df$order[1]], add = T, horiz = T) "
   ]
  },
  {
   "cell_type": "code",
   "execution_count": 26,
   "metadata": {},
   "outputs": [
    {
     "data": {
      "text/html": [
       "<strong>png:</strong> 2"
      ],
      "text/latex": [
       "\\textbf{png:} 2"
      ],
      "text/markdown": [
       "**png:** 2"
      ],
      "text/plain": [
       "png \n",
       "  2 "
      ]
     },
     "metadata": {},
     "output_type": "display_data"
    }
   ],
   "source": [
    "pdf(paste0(fig_dir,\"Fig1c_day52_untreated.pdf\"), width=5, height=2.5)\n",
    "barplot(df$fractions[1]+df$fractions[2]+df$fractions[3]+df$fractions[4]+df$fractions[5]+df$fractions[6]+df$fractions[7]+df$fractions[8]+df$fractions[9]+df$fractions[10], col = cols[df$order[10]], horiz = T)\n",
    "barplot(df$fractions[1]+df$fractions[2]+df$fractions[3]+df$fractions[4]+df$fractions[5]+df$fractions[6]+df$fractions[7]+df$fractions[8]+df$fractions[9], col = cols[df$order[9]], horiz = T, add = T)\n",
    "barplot(df$fractions[1]+df$fractions[2]+df$fractions[3]+df$fractions[4]+df$fractions[5]+df$fractions[6]+df$fractions[7]+df$fractions[8], col = cols[df$order[8]], horiz = T, add = T)\n",
    "barplot(df$fractions[1]+df$fractions[2]+df$fractions[3]+df$fractions[4]+df$fractions[5]+df$fractions[6]+df$fractions[7], col = cols[df$order[7]], horiz = T, add = T)\n",
    "barplot(df$fractions[1]+df$fractions[2]+df$fractions[3]+df$fractions[4]+df$fractions[5]+df$fractions[6], col = cols[df$order[6]], horiz = T, add = T)\n",
    "barplot(df$fractions[1]+df$fractions[2]+df$fractions[3]+df$fractions[4]+df$fractions[5], col = cols[df$order[5]], horiz = T, add = T)\n",
    "barplot(df$fractions[1]+df$fractions[2]+df$fractions[3]+df$fractions[4], col = cols[df$order[4]], horiz = T, add = T)\n",
    "barplot(df$fractions[1]+df$fractions[2]+df$fractions[3], col = cols[df$order[3]], horiz = T, add = T)\n",
    "barplot(df$fractions[1]+df$fractions[2], col = cols[df$order[2]], add = T, horiz = T)\n",
    "barplot(df$fractions[1], col = cols[df$order[1]], add = T, horiz = T) \n",
    "dev.off()"
   ]
  },
  {
   "cell_type": "code",
   "execution_count": 27,
   "metadata": {},
   "outputs": [],
   "source": [
    "## load all day 52 counts again\n",
    "df = myfile %>% group_by(celltype,time_point,treatment) %>% summarise(ncells = sum(n_cells))"
   ]
  },
  {
   "cell_type": "code",
   "execution_count": 28,
   "metadata": {},
   "outputs": [
    {
     "data": {
      "text/html": [
       "<table>\n",
       "<thead><tr><th scope=col>celltype</th><th scope=col>time_point</th><th scope=col>treatment</th><th scope=col>ncells</th><th scope=col>fractions</th></tr></thead>\n",
       "<tbody>\n",
       "\t<tr><td>Astro      </td><td>D52        </td><td>ROT        </td><td>41392      </td><td>0.188799387</td></tr>\n",
       "\t<tr><td>CHem       </td><td>D52        </td><td>ROT        </td><td> 8694      </td><td>0.039655534</td></tr>\n",
       "\t<tr><td>DA         </td><td>D52        </td><td>ROT        </td><td>25470      </td><td>0.116175116</td></tr>\n",
       "\t<tr><td>Epen1      </td><td>D52        </td><td>ROT        </td><td>42063      </td><td>0.191859988</td></tr>\n",
       "\t<tr><td>Epen2      </td><td>D52        </td><td>ROT        </td><td> 1577      </td><td>0.007193096</td></tr>\n",
       "\t<tr><td>FPP        </td><td>D52        </td><td>ROT        </td><td>31203      </td><td>0.142324779</td></tr>\n",
       "\t<tr><td>P_FPP      </td><td>D52        </td><td>ROT        </td><td> 9741      </td><td>0.044431166</td></tr>\n",
       "\t<tr><td>P_Sert     </td><td>D52        </td><td>ROT        </td><td>  780      </td><td>0.003557777</td></tr>\n",
       "\t<tr><td>Sert       </td><td>D52        </td><td>ROT        </td><td>55225      </td><td>0.251895201</td></tr>\n",
       "\t<tr><td>unknown    </td><td>D52        </td><td>ROT        </td><td> 3093      </td><td>0.014107956</td></tr>\n",
       "</tbody>\n",
       "</table>\n"
      ],
      "text/latex": [
       "\\begin{tabular}{r|lllll}\n",
       " celltype & time\\_point & treatment & ncells & fractions\\\\\n",
       "\\hline\n",
       "\t Astro       & D52         & ROT         & 41392       & 0.188799387\\\\\n",
       "\t CHem        & D52         & ROT         &  8694       & 0.039655534\\\\\n",
       "\t DA          & D52         & ROT         & 25470       & 0.116175116\\\\\n",
       "\t Epen1       & D52         & ROT         & 42063       & 0.191859988\\\\\n",
       "\t Epen2       & D52         & ROT         &  1577       & 0.007193096\\\\\n",
       "\t FPP         & D52         & ROT         & 31203       & 0.142324779\\\\\n",
       "\t P\\_FPP     & D52         & ROT         &  9741       & 0.044431166\\\\\n",
       "\t P\\_Sert    & D52         & ROT         &   780       & 0.003557777\\\\\n",
       "\t Sert        & D52         & ROT         & 55225       & 0.251895201\\\\\n",
       "\t unknown     & D52         & ROT         &  3093       & 0.014107956\\\\\n",
       "\\end{tabular}\n"
      ],
      "text/markdown": [
       "\n",
       "| celltype | time_point | treatment | ncells | fractions |\n",
       "|---|---|---|---|---|\n",
       "| Astro       | D52         | ROT         | 41392       | 0.188799387 |\n",
       "| CHem        | D52         | ROT         |  8694       | 0.039655534 |\n",
       "| DA          | D52         | ROT         | 25470       | 0.116175116 |\n",
       "| Epen1       | D52         | ROT         | 42063       | 0.191859988 |\n",
       "| Epen2       | D52         | ROT         |  1577       | 0.007193096 |\n",
       "| FPP         | D52         | ROT         | 31203       | 0.142324779 |\n",
       "| P_FPP       | D52         | ROT         |  9741       | 0.044431166 |\n",
       "| P_Sert      | D52         | ROT         |   780       | 0.003557777 |\n",
       "| Sert        | D52         | ROT         | 55225       | 0.251895201 |\n",
       "| unknown     | D52         | ROT         |  3093       | 0.014107956 |\n",
       "\n"
      ],
      "text/plain": [
       "   celltype time_point treatment ncells fractions  \n",
       "1  Astro    D52        ROT       41392  0.188799387\n",
       "2  CHem     D52        ROT        8694  0.039655534\n",
       "3  DA       D52        ROT       25470  0.116175116\n",
       "4  Epen1    D52        ROT       42063  0.191859988\n",
       "5  Epen2    D52        ROT        1577  0.007193096\n",
       "6  FPP      D52        ROT       31203  0.142324779\n",
       "7  P_FPP    D52        ROT        9741  0.044431166\n",
       "8  P_Sert   D52        ROT         780  0.003557777\n",
       "9  Sert     D52        ROT       55225  0.251895201\n",
       "10 unknown  D52        ROT        3093  0.014107956"
      ]
     },
     "metadata": {},
     "output_type": "display_data"
    }
   ],
   "source": [
    "## Day 52 ROT treated cells\n",
    "df_ROT = df[df$treatment == 'ROT',]\n",
    "df_ROT$fractions = df_ROT$ncells/sum(df_ROT$ncells)\n",
    "df_ROT"
   ]
  },
  {
   "cell_type": "code",
   "execution_count": 29,
   "metadata": {},
   "outputs": [
    {
     "data": {
      "text/html": [
       "<table>\n",
       "<thead><tr><th scope=col>celltype</th><th scope=col>time_point</th><th scope=col>treatment</th><th scope=col>ncells</th><th scope=col>fractions</th><th scope=col>order</th></tr></thead>\n",
       "<tbody>\n",
       "\t<tr><td>FPP        </td><td>D52        </td><td>ROT        </td><td>31203      </td><td>0.142324779</td><td> 1         </td></tr>\n",
       "\t<tr><td>P_FPP      </td><td>D52        </td><td>ROT        </td><td> 9741      </td><td>0.044431166</td><td> 2         </td></tr>\n",
       "\t<tr><td>DA         </td><td>D52        </td><td>ROT        </td><td>25470      </td><td>0.116175116</td><td> 4         </td></tr>\n",
       "\t<tr><td>Sert       </td><td>D52        </td><td>ROT        </td><td>55225      </td><td>0.251895201</td><td> 5         </td></tr>\n",
       "\t<tr><td>P_Sert     </td><td>D52        </td><td>ROT        </td><td>  780      </td><td>0.003557777</td><td> 6         </td></tr>\n",
       "\t<tr><td>Astro      </td><td>D52        </td><td>ROT        </td><td>41392      </td><td>0.188799387</td><td> 7         </td></tr>\n",
       "\t<tr><td>Epen1      </td><td>D52        </td><td>ROT        </td><td>42063      </td><td>0.191859988</td><td> 8         </td></tr>\n",
       "\t<tr><td>Epen2      </td><td>D52        </td><td>ROT        </td><td> 1577      </td><td>0.007193096</td><td> 9         </td></tr>\n",
       "\t<tr><td>U_Neur1    </td><td>D52        </td><td>ROT        </td><td> 8694      </td><td>0.039655534</td><td>10         </td></tr>\n",
       "\t<tr><td>U_Neur3    </td><td>D52        </td><td>ROT        </td><td> 3093      </td><td>0.014107956</td><td>12         </td></tr>\n",
       "</tbody>\n",
       "</table>\n"
      ],
      "text/latex": [
       "\\begin{tabular}{r|llllll}\n",
       " celltype & time\\_point & treatment & ncells & fractions & order\\\\\n",
       "\\hline\n",
       "\t FPP         & D52         & ROT         & 31203       & 0.142324779 &  1         \\\\\n",
       "\t P\\_FPP     & D52         & ROT         &  9741       & 0.044431166 &  2         \\\\\n",
       "\t DA          & D52         & ROT         & 25470       & 0.116175116 &  4         \\\\\n",
       "\t Sert        & D52         & ROT         & 55225       & 0.251895201 &  5         \\\\\n",
       "\t P\\_Sert    & D52         & ROT         &   780       & 0.003557777 &  6         \\\\\n",
       "\t Astro       & D52         & ROT         & 41392       & 0.188799387 &  7         \\\\\n",
       "\t Epen1       & D52         & ROT         & 42063       & 0.191859988 &  8         \\\\\n",
       "\t Epen2       & D52         & ROT         &  1577       & 0.007193096 &  9         \\\\\n",
       "\t U\\_Neur1   & D52         & ROT         &  8694       & 0.039655534 & 10         \\\\\n",
       "\t U\\_Neur3   & D52         & ROT         &  3093       & 0.014107956 & 12         \\\\\n",
       "\\end{tabular}\n"
      ],
      "text/markdown": [
       "\n",
       "| celltype | time_point | treatment | ncells | fractions | order |\n",
       "|---|---|---|---|---|---|\n",
       "| FPP         | D52         | ROT         | 31203       | 0.142324779 |  1          |\n",
       "| P_FPP       | D52         | ROT         |  9741       | 0.044431166 |  2          |\n",
       "| DA          | D52         | ROT         | 25470       | 0.116175116 |  4          |\n",
       "| Sert        | D52         | ROT         | 55225       | 0.251895201 |  5          |\n",
       "| P_Sert      | D52         | ROT         |   780       | 0.003557777 |  6          |\n",
       "| Astro       | D52         | ROT         | 41392       | 0.188799387 |  7          |\n",
       "| Epen1       | D52         | ROT         | 42063       | 0.191859988 |  8          |\n",
       "| Epen2       | D52         | ROT         |  1577       | 0.007193096 |  9          |\n",
       "| U_Neur1     | D52         | ROT         |  8694       | 0.039655534 | 10          |\n",
       "| U_Neur3     | D52         | ROT         |  3093       | 0.014107956 | 12          |\n",
       "\n"
      ],
      "text/plain": [
       "   celltype time_point treatment ncells fractions   order\n",
       "1  FPP      D52        ROT       31203  0.142324779  1   \n",
       "2  P_FPP    D52        ROT        9741  0.044431166  2   \n",
       "3  DA       D52        ROT       25470  0.116175116  4   \n",
       "4  Sert     D52        ROT       55225  0.251895201  5   \n",
       "5  P_Sert   D52        ROT         780  0.003557777  6   \n",
       "6  Astro    D52        ROT       41392  0.188799387  7   \n",
       "7  Epen1    D52        ROT       42063  0.191859988  8   \n",
       "8  Epen2    D52        ROT        1577  0.007193096  9   \n",
       "9  U_Neur1  D52        ROT        8694  0.039655534 10   \n",
       "10 U_Neur3  D52        ROT        3093  0.014107956 12   "
      ]
     },
     "metadata": {},
     "output_type": "display_data"
    }
   ],
   "source": [
    "df = df_ROT\n",
    "df$celltype <- as.character(df$celltype)\n",
    "df$celltype[df$celltype == \"CHem\"] <- \"U_Neur1\"\n",
    "df$celltype[df$celltype == \"unknown\"] <- \"U_Neur3\"\n",
    "\n",
    "df$order = c()\n",
    "for (i in 1:length(ordering)){\n",
    "    if (ordering[i] %in% df$celltype){\n",
    "        df[df$celltype == ordering[i],'order'] <-  i\n",
    "    }   \n",
    "}\n",
    "\n",
    "df = df[order(df$order),]\n",
    "df"
   ]
  },
  {
   "cell_type": "code",
   "execution_count": 30,
   "metadata": {},
   "outputs": [],
   "source": [
    "# options(repr.plot.width=5, repr.plot.height=5)\n",
    "# barplot(df$fractions, col = cols[df$order], ylim = c(0,0.6))"
   ]
  },
  {
   "cell_type": "code",
   "execution_count": 31,
   "metadata": {},
   "outputs": [
    {
     "data": {
      "image/png": "[encoded data removed]",
      "text/plain": [
       "plot without title"
      ]
     },
     "metadata": {},
     "output_type": "display_data"
    }
   ],
   "source": [
    "options(repr.plot.width=5, repr.plot.height=2.5)\n",
    "barplot(df$fractions[1]+df$fractions[2]+df$fractions[3]+df$fractions[4]+df$fractions[5]+df$fractions[6]+df$fractions[7]+df$fractions[8]+df$fractions[9]+df$fractions[10], col = cols[df$order[10]], horiz = T)\n",
    "barplot(df$fractions[1]+df$fractions[2]+df$fractions[3]+df$fractions[4]+df$fractions[5]+df$fractions[6]+df$fractions[7]+df$fractions[8]+df$fractions[9], col = cols[df$order[9]], horiz = T, add = T)\n",
    "barplot(df$fractions[1]+df$fractions[2]+df$fractions[3]+df$fractions[4]+df$fractions[5]+df$fractions[6]+df$fractions[7]+df$fractions[8], col = cols[df$order[8]], horiz = T, add = T)\n",
    "barplot(df$fractions[1]+df$fractions[2]+df$fractions[3]+df$fractions[4]+df$fractions[5]+df$fractions[6]+df$fractions[7], col = cols[df$order[7]], horiz = T, add = T)\n",
    "barplot(df$fractions[1]+df$fractions[2]+df$fractions[3]+df$fractions[4]+df$fractions[5]+df$fractions[6], col = cols[df$order[6]], horiz = T, add = T)\n",
    "barplot(df$fractions[1]+df$fractions[2]+df$fractions[3]+df$fractions[4]+df$fractions[5], col = cols[df$order[5]], horiz = T, add = T)\n",
    "barplot(df$fractions[1]+df$fractions[2]+df$fractions[3]+df$fractions[4], col = cols[df$order[4]], horiz = T, add = T)\n",
    "barplot(df$fractions[1]+df$fractions[2]+df$fractions[3], col = cols[df$order[3]], horiz = T, add = T)\n",
    "barplot(df$fractions[1]+df$fractions[2], col = cols[df$order[2]], add = T, horiz = T)\n",
    "barplot(df$fractions[1], col = cols[df$order[1]], add = T, horiz = T) "
   ]
  },
  {
   "cell_type": "code",
   "execution_count": 32,
   "metadata": {},
   "outputs": [
    {
     "data": {
      "text/html": [
       "<strong>png:</strong> 2"
      ],
      "text/latex": [
       "\\textbf{png:} 2"
      ],
      "text/markdown": [
       "**png:** 2"
      ],
      "text/plain": [
       "png \n",
       "  2 "
      ]
     },
     "metadata": {},
     "output_type": "display_data"
    }
   ],
   "source": [
    "pdf(paste0(fig_dir,\"Fig1c_day52_ROT_treated.pdf\"), width=5, height=2.5)\n",
    "barplot(df$fractions[1]+df$fractions[2]+df$fractions[3]+df$fractions[4]+df$fractions[5]+df$fractions[6]+df$fractions[7]+df$fractions[8]+df$fractions[9]+df$fractions[10], col = cols[df$order[10]], horiz = T)\n",
    "barplot(df$fractions[1]+df$fractions[2]+df$fractions[3]+df$fractions[4]+df$fractions[5]+df$fractions[6]+df$fractions[7]+df$fractions[8]+df$fractions[9], col = cols[df$order[9]], horiz = T, add = T)\n",
    "barplot(df$fractions[1]+df$fractions[2]+df$fractions[3]+df$fractions[4]+df$fractions[5]+df$fractions[6]+df$fractions[7]+df$fractions[8], col = cols[df$order[8]], horiz = T, add = T)\n",
    "barplot(df$fractions[1]+df$fractions[2]+df$fractions[3]+df$fractions[4]+df$fractions[5]+df$fractions[6]+df$fractions[7], col = cols[df$order[7]], horiz = T, add = T)\n",
    "barplot(df$fractions[1]+df$fractions[2]+df$fractions[3]+df$fractions[4]+df$fractions[5]+df$fractions[6], col = cols[df$order[6]], horiz = T, add = T)\n",
    "barplot(df$fractions[1]+df$fractions[2]+df$fractions[3]+df$fractions[4]+df$fractions[5], col = cols[df$order[5]], horiz = T, add = T)\n",
    "barplot(df$fractions[1]+df$fractions[2]+df$fractions[3]+df$fractions[4], col = cols[df$order[4]], horiz = T, add = T)\n",
    "barplot(df$fractions[1]+df$fractions[2]+df$fractions[3], col = cols[df$order[3]], horiz = T, add = T)\n",
    "barplot(df$fractions[1]+df$fractions[2], col = cols[df$order[2]], add = T, horiz = T)\n",
    "barplot(df$fractions[1], col = cols[df$order[1]], add = T, horiz = T) \n",
    "dev.off()"
   ]
  },
  {
   "cell_type": "code",
   "execution_count": null,
   "metadata": {},
   "outputs": [],
   "source": []
  },
  {
   "cell_type": "code",
   "execution_count": 24,
   "metadata": {},
   "outputs": [],
   "source": [
    "#### Fisher's exact test for loss of DA upon ROT stimulation at Day 52"
   ]
  },
  {
   "cell_type": "code",
   "execution_count": 25,
   "metadata": {},
   "outputs": [
    {
     "data": {
      "text/html": [
       "<table>\n",
       "<thead><tr><th scope=col>donor_id</th><th scope=col>pool_id</th><th scope=col>time_point</th><th scope=col>treatment</th><th scope=col>celltype</th><th scope=col>n_cells</th></tr></thead>\n",
       "<tbody>\n",
       "\t<tr><td>HPSI0114i-bezi_3</td><td>pool10          </td><td>D52             </td><td>NONE            </td><td>Astro           </td><td>2               </td></tr>\n",
       "\t<tr><td>HPSI0114i-bezi_3</td><td>pool10          </td><td>D52             </td><td>NONE            </td><td>CHem            </td><td>5               </td></tr>\n",
       "</tbody>\n",
       "</table>\n"
      ],
      "text/latex": [
       "\\begin{tabular}{r|llllll}\n",
       " donor\\_id & pool\\_id & time\\_point & treatment & celltype & n\\_cells\\\\\n",
       "\\hline\n",
       "\t HPSI0114i-bezi\\_3 & pool10             & D52                & NONE               & Astro              & 2                 \\\\\n",
       "\t HPSI0114i-bezi\\_3 & pool10             & D52                & NONE               & CHem               & 5                 \\\\\n",
       "\\end{tabular}\n"
      ],
      "text/markdown": [
       "\n",
       "| donor_id | pool_id | time_point | treatment | celltype | n_cells |\n",
       "|---|---|---|---|---|---|\n",
       "| HPSI0114i-bezi_3 | pool10           | D52              | NONE             | Astro            | 2                |\n",
       "| HPSI0114i-bezi_3 | pool10           | D52              | NONE             | CHem             | 5                |\n",
       "\n"
      ],
      "text/plain": [
       "  donor_id         pool_id time_point treatment celltype n_cells\n",
       "1 HPSI0114i-bezi_3 pool10  D52        NONE      Astro    2      \n",
       "2 HPSI0114i-bezi_3 pool10  D52        NONE      CHem     5      "
      ]
     },
     "metadata": {},
     "output_type": "display_data"
    }
   ],
   "source": [
    "## Day 52\n",
    "mydir = \"/nfs/leia/research/stegle/dseaton/hipsci/singlecell_neuroseq/data/data_processed/pool1_17_D52/\"\n",
    "mysuffix = \"pool1_17_D52.scanpy.w_metadata.w_celltype.scanpy.obs_df.groupedby.donor_id-pool_id-time_point-treatment.celltype_counts.tsv\"\n",
    "\n",
    "myfilename = paste0(mydir,mysuffix)\n",
    "myfile = read.table(myfilename, header = T)\n",
    "head(myfile,2)"
   ]
  },
  {
   "cell_type": "code",
   "execution_count": 26,
   "metadata": {},
   "outputs": [],
   "source": [
    "df = myfile %>% group_by(celltype,time_point,treatment) %>% summarise(ncells = sum(n_cells))"
   ]
  },
  {
   "cell_type": "code",
   "execution_count": 27,
   "metadata": {},
   "outputs": [
    {
     "data": {
      "text/html": [
       "<table>\n",
       "<tbody>\n",
       "\t<tr><td> 54331</td><td> 25470</td></tr>\n",
       "\t<tr><td>249525</td><td>193768</td></tr>\n",
       "</tbody>\n",
       "</table>\n"
      ],
      "text/latex": [
       "\\begin{tabular}{ll}\n",
       "\t  54331 &  25470\\\\\n",
       "\t 249525 & 193768\\\\\n",
       "\\end{tabular}\n"
      ],
      "text/markdown": [
       "\n",
       "|  54331 |  25470 |\n",
       "| 249525 | 193768 |\n",
       "\n"
      ],
      "text/plain": [
       "     [,1]   [,2]  \n",
       "[1,]  54331  25470\n",
       "[2,] 249525 193768"
      ]
     },
     "metadata": {},
     "output_type": "display_data"
    }
   ],
   "source": [
    "mat = matrix(0, nrow=2,ncol=2)\n",
    "mat[1,1] = df[df$treatment == 'NONE' & df$celltype == 'DA',]$ncells\n",
    "mat[1,2] = df[df$treatment == 'ROT' & df$celltype == 'DA',]$ncells\n",
    "mat[2,1] = sum(df[df$treatment == 'NONE' & df$celltype != 'DA',]$ncells)\n",
    "mat[2,2] = sum(df[df$treatment == 'ROT' & df$celltype != 'DA',]$ncells)\n",
    "mat"
   ]
  },
  {
   "cell_type": "code",
   "execution_count": 28,
   "metadata": {},
   "outputs": [
    {
     "data": {
      "text/plain": [
       "\n",
       "\tFisher's Exact Test for Count Data\n",
       "\n",
       "data:  mat\n",
       "p-value < 2.2e-16\n",
       "alternative hypothesis: true odds ratio is not equal to 1\n",
       "95 percent confidence interval:\n",
       " 1.630161 1.683333\n",
       "sample estimates:\n",
       "odds ratio \n",
       "  1.656472 \n"
      ]
     },
     "metadata": {},
     "output_type": "display_data"
    }
   ],
   "source": [
    "fisher.test(mat)"
   ]
  },
  {
   "cell_type": "code",
   "execution_count": null,
   "metadata": {},
   "outputs": [],
   "source": []
  }
 ],
 "metadata": {
  "kernelspec": {
   "display_name": "R",
   "language": "R",
   "name": "ir"
  },
  "language_info": {
   "codemirror_mode": "r",
   "file_extension": ".r",
   "mimetype": "text/x-r-source",
   "name": "R",
   "pygments_lexer": "r",
   "version": "3.6.1"
  }
 },
 "nbformat": 4,
 "nbformat_minor": 2
}
