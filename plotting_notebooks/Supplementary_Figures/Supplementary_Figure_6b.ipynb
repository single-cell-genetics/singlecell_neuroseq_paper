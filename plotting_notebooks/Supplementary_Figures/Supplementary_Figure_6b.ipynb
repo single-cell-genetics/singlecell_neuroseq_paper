{
 "cells": [
  {
   "cell_type": "code",
   "execution_count": 1,
   "metadata": {},
   "outputs": [
    {
     "name": "stderr",
     "output_type": "stream",
     "text": [
      "\n",
      "Attaching package: ‘dplyr’\n",
      "\n",
      "The following objects are masked from ‘package:stats’:\n",
      "\n",
      "    filter, lag\n",
      "\n",
      "The following objects are masked from ‘package:base’:\n",
      "\n",
      "    intersect, setdiff, setequal, union\n",
      "\n"
     ]
    }
   ],
   "source": [
    "# library(reshape)\n",
    "library(ggthemes)\n",
    "library(ggplot2)\n",
    "library(dplyr)\n",
    "library(tidyr)"
   ]
  },
  {
   "cell_type": "code",
   "execution_count": 2,
   "metadata": {},
   "outputs": [],
   "source": [
    "mashr_dir = \"/hps/nobackup/hipsci/scratch/GTEx/MASHR_OUT/Anna_Brain_sc/\""
   ]
  },
  {
   "cell_type": "code",
   "execution_count": 3,
   "metadata": {},
   "outputs": [
    {
     "data": {
      "text/html": [
       "<ol class=list-inline>\n",
       "\t<li>'MASHR_local_false_sign_rate_sc_brain.txt'</li>\n",
       "\t<li>'MASHR_pairwise_sharing_F0.05_same_sign_sc_brain.txt'</li>\n",
       "\t<li>'MASHR_pairwise_sharing_same_sign_sc_brain.txt'</li>\n",
       "\t<li>'MASHR_posterior_mean_sc_brain.txt'</li>\n",
       "\t<li>'MASHR_posterior_standard_deviation_sc_brain.txt'</li>\n",
       "\t<li>'MASHR_Results.OriginalCovariance.sc_brain.Rdata'</li>\n",
       "\t<li>'MASHR_significant_effects_iPSC_sc_brain.txt'</li>\n",
       "\t<li>'MASHR_significant_effects_sc_brain.txt'</li>\n",
       "</ol>\n"
      ],
      "text/latex": [
       "\\begin{enumerate*}\n",
       "\\item 'MASHR\\_local\\_false\\_sign\\_rate\\_sc\\_brain.txt'\n",
       "\\item 'MASHR\\_pairwise\\_sharing\\_F0.05\\_same\\_sign\\_sc\\_brain.txt'\n",
       "\\item 'MASHR\\_pairwise\\_sharing\\_same\\_sign\\_sc\\_brain.txt'\n",
       "\\item 'MASHR\\_posterior\\_mean\\_sc\\_brain.txt'\n",
       "\\item 'MASHR\\_posterior\\_standard\\_deviation\\_sc\\_brain.txt'\n",
       "\\item 'MASHR\\_Results.OriginalCovariance.sc\\_brain.Rdata'\n",
       "\\item 'MASHR\\_significant\\_effects\\_iPSC\\_sc\\_brain.txt'\n",
       "\\item 'MASHR\\_significant\\_effects\\_sc\\_brain.txt'\n",
       "\\end{enumerate*}\n"
      ],
      "text/markdown": [
       "1. 'MASHR_local_false_sign_rate_sc_brain.txt'\n",
       "2. 'MASHR_pairwise_sharing_F0.05_same_sign_sc_brain.txt'\n",
       "3. 'MASHR_pairwise_sharing_same_sign_sc_brain.txt'\n",
       "4. 'MASHR_posterior_mean_sc_brain.txt'\n",
       "5. 'MASHR_posterior_standard_deviation_sc_brain.txt'\n",
       "6. 'MASHR_Results.OriginalCovariance.sc_brain.Rdata'\n",
       "7. 'MASHR_significant_effects_iPSC_sc_brain.txt'\n",
       "8. 'MASHR_significant_effects_sc_brain.txt'\n",
       "\n",
       "\n"
      ],
      "text/plain": [
       "[1] \"MASHR_local_false_sign_rate_sc_brain.txt\"           \n",
       "[2] \"MASHR_pairwise_sharing_F0.05_same_sign_sc_brain.txt\"\n",
       "[3] \"MASHR_pairwise_sharing_same_sign_sc_brain.txt\"      \n",
       "[4] \"MASHR_posterior_mean_sc_brain.txt\"                  \n",
       "[5] \"MASHR_posterior_standard_deviation_sc_brain.txt\"    \n",
       "[6] \"MASHR_Results.OriginalCovariance.sc_brain.Rdata\"    \n",
       "[7] \"MASHR_significant_effects_iPSC_sc_brain.txt\"        \n",
       "[8] \"MASHR_significant_effects_sc_brain.txt\"             "
      ]
     },
     "metadata": {},
     "output_type": "display_data"
    }
   ],
   "source": [
    "list.files(mashr_dir)"
   ]
  },
  {
   "cell_type": "code",
   "execution_count": 4,
   "metadata": {},
   "outputs": [],
   "source": [
    "sign_res = paste0(mashr_dir,\"MASHR_local_false_sign_rate_sc_brain.txt\")\n",
    "mean_beta = paste0(mashr_dir,\"MASHR_posterior_mean_sc_brain.txt\")\n",
    "# std_beta = paste0(mashr_dir,\"MASHR_posterior_standard_deviation_sc_brain.txt\")"
   ]
  },
  {
   "cell_type": "code",
   "execution_count": 5,
   "metadata": {},
   "outputs": [],
   "source": [
    "##Functions\n",
    "reorder_cormat <- function(cormat){\n",
    "  # Use correlation between variables as distance\n",
    "  dd <- as.dist((1-cormat)/2)\n",
    "  hc <- hclust(dd,method=\"complete\")\n",
    "  cormat <-cormat[hc$order, hc$order]\n",
    "}"
   ]
  },
  {
   "cell_type": "code",
   "execution_count": 6,
   "metadata": {},
   "outputs": [],
   "source": [
    "get_upper_tri <- function(cormat){\n",
    "  cormat[upper.tri(cormat)]<- NA\n",
    "  return(cormat)\n",
    "}"
   ]
  },
  {
   "cell_type": "code",
   "execution_count": 7,
   "metadata": {},
   "outputs": [],
   "source": [
    "# local false sign rate (lfsr)\n",
    "lfsrMat = read.delim(sign_res,as.is=T, row.names=1)\n",
    "posteriorMean = read.delim(mean_beta,as.is=T, row.names=1)"
   ]
  },
  {
   "cell_type": "code",
   "execution_count": 8,
   "metadata": {},
   "outputs": [
    {
     "data": {
      "text/html": [
       "7975"
      ],
      "text/latex": [
       "7975"
      ],
      "text/markdown": [
       "7975"
      ],
      "text/plain": [
       "[1] 7975"
      ]
     },
     "metadata": {},
     "output_type": "display_data"
    },
    {
     "data": {
      "text/html": [
       "29"
      ],
      "text/latex": [
       "29"
      ],
      "text/markdown": [
       "29"
      ],
      "text/plain": [
       "[1] 29"
      ]
     },
     "metadata": {},
     "output_type": "display_data"
    }
   ],
   "source": [
    "nrow(lfsrMat)\n",
    "ncol(lfsrMat)"
   ]
  },
  {
   "cell_type": "code",
   "execution_count": 9,
   "metadata": {},
   "outputs": [
    {
     "data": {
      "text/html": [
       "<ol class=list-inline>\n",
       "\t<li>'iPSC'</li>\n",
       "\t<li>'Brain_Amygdala'</li>\n",
       "\t<li>'Brain_Anterior_cingulate_cortex_BA24'</li>\n",
       "\t<li>'Brain_Caudate_basal_ganglia'</li>\n",
       "\t<li>'Brain_Cerebellar_Hemisphere'</li>\n",
       "\t<li>'Brain_Cerebellum'</li>\n",
       "\t<li>'Brain_Cortex'</li>\n",
       "\t<li>'Brain_Frontal_Cortex_BA9'</li>\n",
       "\t<li>'Brain_Hippocampus'</li>\n",
       "\t<li>'Brain_Hypothalamus'</li>\n",
       "\t<li>'Brain_Nucleus_accumbens_basal_ganglia'</li>\n",
       "\t<li>'Brain_Putamen_basal_ganglia'</li>\n",
       "\t<li>'Brain_Spinal_cord_cervical_c.1'</li>\n",
       "\t<li>'Brain_Substantia_nigra'</li>\n",
       "\t<li>'Pituitary'</li>\n",
       "\t<li>'Neuro.pool1_13_noddd_D11.FPP'</li>\n",
       "\t<li>'Neuro.pool1_13_noddd_D11.P_FPP'</li>\n",
       "\t<li>'Neuro.pool1_13_noddd_D30.Astro'</li>\n",
       "\t<li>'Neuro.pool1_13_noddd_D30.DA'</li>\n",
       "\t<li>'Neuro.pool1_13_noddd_D30.Epen1'</li>\n",
       "\t<li>'Neuro.pool1_13_noddd_D30.Sert'</li>\n",
       "\t<li>'Neuro.pool1_17_D52.ROT.Astro'</li>\n",
       "\t<li>'Neuro.pool1_17_D52.ROT.DA'</li>\n",
       "\t<li>'Neuro.pool1_17_D52.ROT.Epen1'</li>\n",
       "\t<li>'Neuro.pool1_17_D52.ROT.Sert'</li>\n",
       "\t<li>'Neuro.pool1_17_D52.Astro'</li>\n",
       "\t<li>'Neuro.pool1_17_D52.DA'</li>\n",
       "\t<li>'Neuro.pool1_17_D52.Epen1'</li>\n",
       "\t<li>'Neuro.pool1_17_D52.Sert'</li>\n",
       "</ol>\n"
      ],
      "text/latex": [
       "\\begin{enumerate*}\n",
       "\\item 'iPSC'\n",
       "\\item 'Brain\\_Amygdala'\n",
       "\\item 'Brain\\_Anterior\\_cingulate\\_cortex\\_BA24'\n",
       "\\item 'Brain\\_Caudate\\_basal\\_ganglia'\n",
       "\\item 'Brain\\_Cerebellar\\_Hemisphere'\n",
       "\\item 'Brain\\_Cerebellum'\n",
       "\\item 'Brain\\_Cortex'\n",
       "\\item 'Brain\\_Frontal\\_Cortex\\_BA9'\n",
       "\\item 'Brain\\_Hippocampus'\n",
       "\\item 'Brain\\_Hypothalamus'\n",
       "\\item 'Brain\\_Nucleus\\_accumbens\\_basal\\_ganglia'\n",
       "\\item 'Brain\\_Putamen\\_basal\\_ganglia'\n",
       "\\item 'Brain\\_Spinal\\_cord\\_cervical\\_c.1'\n",
       "\\item 'Brain\\_Substantia\\_nigra'\n",
       "\\item 'Pituitary'\n",
       "\\item 'Neuro.pool1\\_13\\_noddd\\_D11.FPP'\n",
       "\\item 'Neuro.pool1\\_13\\_noddd\\_D11.P\\_FPP'\n",
       "\\item 'Neuro.pool1\\_13\\_noddd\\_D30.Astro'\n",
       "\\item 'Neuro.pool1\\_13\\_noddd\\_D30.DA'\n",
       "\\item 'Neuro.pool1\\_13\\_noddd\\_D30.Epen1'\n",
       "\\item 'Neuro.pool1\\_13\\_noddd\\_D30.Sert'\n",
       "\\item 'Neuro.pool1\\_17\\_D52.ROT.Astro'\n",
       "\\item 'Neuro.pool1\\_17\\_D52.ROT.DA'\n",
       "\\item 'Neuro.pool1\\_17\\_D52.ROT.Epen1'\n",
       "\\item 'Neuro.pool1\\_17\\_D52.ROT.Sert'\n",
       "\\item 'Neuro.pool1\\_17\\_D52.Astro'\n",
       "\\item 'Neuro.pool1\\_17\\_D52.DA'\n",
       "\\item 'Neuro.pool1\\_17\\_D52.Epen1'\n",
       "\\item 'Neuro.pool1\\_17\\_D52.Sert'\n",
       "\\end{enumerate*}\n"
      ],
      "text/markdown": [
       "1. 'iPSC'\n",
       "2. 'Brain_Amygdala'\n",
       "3. 'Brain_Anterior_cingulate_cortex_BA24'\n",
       "4. 'Brain_Caudate_basal_ganglia'\n",
       "5. 'Brain_Cerebellar_Hemisphere'\n",
       "6. 'Brain_Cerebellum'\n",
       "7. 'Brain_Cortex'\n",
       "8. 'Brain_Frontal_Cortex_BA9'\n",
       "9. 'Brain_Hippocampus'\n",
       "10. 'Brain_Hypothalamus'\n",
       "11. 'Brain_Nucleus_accumbens_basal_ganglia'\n",
       "12. 'Brain_Putamen_basal_ganglia'\n",
       "13. 'Brain_Spinal_cord_cervical_c.1'\n",
       "14. 'Brain_Substantia_nigra'\n",
       "15. 'Pituitary'\n",
       "16. 'Neuro.pool1_13_noddd_D11.FPP'\n",
       "17. 'Neuro.pool1_13_noddd_D11.P_FPP'\n",
       "18. 'Neuro.pool1_13_noddd_D30.Astro'\n",
       "19. 'Neuro.pool1_13_noddd_D30.DA'\n",
       "20. 'Neuro.pool1_13_noddd_D30.Epen1'\n",
       "21. 'Neuro.pool1_13_noddd_D30.Sert'\n",
       "22. 'Neuro.pool1_17_D52.ROT.Astro'\n",
       "23. 'Neuro.pool1_17_D52.ROT.DA'\n",
       "24. 'Neuro.pool1_17_D52.ROT.Epen1'\n",
       "25. 'Neuro.pool1_17_D52.ROT.Sert'\n",
       "26. 'Neuro.pool1_17_D52.Astro'\n",
       "27. 'Neuro.pool1_17_D52.DA'\n",
       "28. 'Neuro.pool1_17_D52.Epen1'\n",
       "29. 'Neuro.pool1_17_D52.Sert'\n",
       "\n",
       "\n"
      ],
      "text/plain": [
       " [1] \"iPSC\"                                 \n",
       " [2] \"Brain_Amygdala\"                       \n",
       " [3] \"Brain_Anterior_cingulate_cortex_BA24\" \n",
       " [4] \"Brain_Caudate_basal_ganglia\"          \n",
       " [5] \"Brain_Cerebellar_Hemisphere\"          \n",
       " [6] \"Brain_Cerebellum\"                     \n",
       " [7] \"Brain_Cortex\"                         \n",
       " [8] \"Brain_Frontal_Cortex_BA9\"             \n",
       " [9] \"Brain_Hippocampus\"                    \n",
       "[10] \"Brain_Hypothalamus\"                   \n",
       "[11] \"Brain_Nucleus_accumbens_basal_ganglia\"\n",
       "[12] \"Brain_Putamen_basal_ganglia\"          \n",
       "[13] \"Brain_Spinal_cord_cervical_c.1\"       \n",
       "[14] \"Brain_Substantia_nigra\"               \n",
       "[15] \"Pituitary\"                            \n",
       "[16] \"Neuro.pool1_13_noddd_D11.FPP\"         \n",
       "[17] \"Neuro.pool1_13_noddd_D11.P_FPP\"       \n",
       "[18] \"Neuro.pool1_13_noddd_D30.Astro\"       \n",
       "[19] \"Neuro.pool1_13_noddd_D30.DA\"          \n",
       "[20] \"Neuro.pool1_13_noddd_D30.Epen1\"       \n",
       "[21] \"Neuro.pool1_13_noddd_D30.Sert\"        \n",
       "[22] \"Neuro.pool1_17_D52.ROT.Astro\"         \n",
       "[23] \"Neuro.pool1_17_D52.ROT.DA\"            \n",
       "[24] \"Neuro.pool1_17_D52.ROT.Epen1\"         \n",
       "[25] \"Neuro.pool1_17_D52.ROT.Sert\"          \n",
       "[26] \"Neuro.pool1_17_D52.Astro\"             \n",
       "[27] \"Neuro.pool1_17_D52.DA\"                \n",
       "[28] \"Neuro.pool1_17_D52.Epen1\"             \n",
       "[29] \"Neuro.pool1_17_D52.Sert\"              "
      ]
     },
     "metadata": {},
     "output_type": "display_data"
    }
   ],
   "source": [
    "colnames(lfsrMat)"
   ]
  },
  {
   "cell_type": "code",
   "execution_count": 10,
   "metadata": {},
   "outputs": [
    {
     "data": {
      "text/html": [
       "<table>\n",
       "<thead><tr><th></th><th scope=col>iPSC</th><th scope=col>Brain_Amygdala</th><th scope=col>Brain_Anterior_cingulate_cortex_BA24</th><th scope=col>Brain_Caudate_basal_ganglia</th><th scope=col>Brain_Cerebellar_Hemisphere</th><th scope=col>Brain_Cerebellum</th><th scope=col>Brain_Cortex</th><th scope=col>Brain_Frontal_Cortex_BA9</th><th scope=col>Brain_Hippocampus</th><th scope=col>Brain_Hypothalamus</th><th scope=col>...</th><th scope=col>Neuro.pool1_13_noddd_D30.Epen1</th><th scope=col>Neuro.pool1_13_noddd_D30.Sert</th><th scope=col>Neuro.pool1_17_D52.ROT.Astro</th><th scope=col>Neuro.pool1_17_D52.ROT.DA</th><th scope=col>Neuro.pool1_17_D52.ROT.Epen1</th><th scope=col>Neuro.pool1_17_D52.ROT.Sert</th><th scope=col>Neuro.pool1_17_D52.Astro</th><th scope=col>Neuro.pool1_17_D52.DA</th><th scope=col>Neuro.pool1_17_D52.Epen1</th><th scope=col>Neuro.pool1_17_D52.Sert</th></tr></thead>\n",
       "<tbody>\n",
       "\t<tr><th scope=row>1_100291080_C_T-ENSG00000156875</th><td>0.55240246  </td><td>0.2661899980</td><td>2.948368e-01</td><td>2.933655e-01</td><td>3.891269e-01</td><td>3.688221e-01</td><td>0.3244183043</td><td>0.354748408 </td><td>0.3113482930</td><td>0.28314784  </td><td>...         </td><td>0.4207356   </td><td>0.3957638   </td><td>0.3483573   </td><td>0.3480076   </td><td>0.3770463   </td><td>0.3279490   </td><td>0.3655997   </td><td>0.4063143   </td><td>0.3795389   </td><td>0.3653451   </td></tr>\n",
       "\t<tr><th scope=row>1_100373730_G_A-ENSG00000162688</th><td>0.00861245  </td><td>0.0007134121</td><td>9.319428e-05</td><td>2.174763e-05</td><td>2.322760e-07</td><td>6.200034e-07</td><td>0.0001547294</td><td>0.002938566 </td><td>0.0001856247</td><td>0.03353521  </td><td>...         </td><td>0.4630622   </td><td>0.3252611   </td><td>0.3656837   </td><td>0.3230259   </td><td>0.4115617   </td><td>0.3048215   </td><td>0.3537931   </td><td>0.4362284   </td><td>0.4845384   </td><td>0.3328717   </td></tr>\n",
       "</tbody>\n",
       "</table>\n"
      ],
      "text/latex": [
       "\\begin{tabular}{r|lllllllllllllllllllllllllllll}\n",
       "  & iPSC & Brain\\_Amygdala & Brain\\_Anterior\\_cingulate\\_cortex\\_BA24 & Brain\\_Caudate\\_basal\\_ganglia & Brain\\_Cerebellar\\_Hemisphere & Brain\\_Cerebellum & Brain\\_Cortex & Brain\\_Frontal\\_Cortex\\_BA9 & Brain\\_Hippocampus & Brain\\_Hypothalamus & ... & Neuro.pool1\\_13\\_noddd\\_D30.Epen1 & Neuro.pool1\\_13\\_noddd\\_D30.Sert & Neuro.pool1\\_17\\_D52.ROT.Astro & Neuro.pool1\\_17\\_D52.ROT.DA & Neuro.pool1\\_17\\_D52.ROT.Epen1 & Neuro.pool1\\_17\\_D52.ROT.Sert & Neuro.pool1\\_17\\_D52.Astro & Neuro.pool1\\_17\\_D52.DA & Neuro.pool1\\_17\\_D52.Epen1 & Neuro.pool1\\_17\\_D52.Sert\\\\\n",
       "\\hline\n",
       "\t1\\_100291080\\_C\\_T-ENSG00000156875 & 0.55240246   & 0.2661899980 & 2.948368e-01 & 2.933655e-01 & 3.891269e-01 & 3.688221e-01 & 0.3244183043 & 0.354748408  & 0.3113482930 & 0.28314784   & ...          & 0.4207356    & 0.3957638    & 0.3483573    & 0.3480076    & 0.3770463    & 0.3279490    & 0.3655997    & 0.4063143    & 0.3795389    & 0.3653451   \\\\\n",
       "\t1\\_100373730\\_G\\_A-ENSG00000162688 & 0.00861245   & 0.0007134121 & 9.319428e-05 & 2.174763e-05 & 2.322760e-07 & 6.200034e-07 & 0.0001547294 & 0.002938566  & 0.0001856247 & 0.03353521   & ...          & 0.4630622    & 0.3252611    & 0.3656837    & 0.3230259    & 0.4115617    & 0.3048215    & 0.3537931    & 0.4362284    & 0.4845384    & 0.3328717   \\\\\n",
       "\\end{tabular}\n"
      ],
      "text/markdown": [
       "\n",
       "| <!--/--> | iPSC | Brain_Amygdala | Brain_Anterior_cingulate_cortex_BA24 | Brain_Caudate_basal_ganglia | Brain_Cerebellar_Hemisphere | Brain_Cerebellum | Brain_Cortex | Brain_Frontal_Cortex_BA9 | Brain_Hippocampus | Brain_Hypothalamus | ... | Neuro.pool1_13_noddd_D30.Epen1 | Neuro.pool1_13_noddd_D30.Sert | Neuro.pool1_17_D52.ROT.Astro | Neuro.pool1_17_D52.ROT.DA | Neuro.pool1_17_D52.ROT.Epen1 | Neuro.pool1_17_D52.ROT.Sert | Neuro.pool1_17_D52.Astro | Neuro.pool1_17_D52.DA | Neuro.pool1_17_D52.Epen1 | Neuro.pool1_17_D52.Sert |\n",
       "|---|---|---|---|---|---|---|---|---|---|---|---|---|---|---|---|---|---|---|---|---|---|\n",
       "| 1_100291080_C_T-ENSG00000156875 | 0.55240246   | 0.2661899980 | 2.948368e-01 | 2.933655e-01 | 3.891269e-01 | 3.688221e-01 | 0.3244183043 | 0.354748408  | 0.3113482930 | 0.28314784   | ...          | 0.4207356    | 0.3957638    | 0.3483573    | 0.3480076    | 0.3770463    | 0.3279490    | 0.3655997    | 0.4063143    | 0.3795389    | 0.3653451    |\n",
       "| 1_100373730_G_A-ENSG00000162688 | 0.00861245   | 0.0007134121 | 9.319428e-05 | 2.174763e-05 | 2.322760e-07 | 6.200034e-07 | 0.0001547294 | 0.002938566  | 0.0001856247 | 0.03353521   | ...          | 0.4630622    | 0.3252611    | 0.3656837    | 0.3230259    | 0.4115617    | 0.3048215    | 0.3537931    | 0.4362284    | 0.4845384    | 0.3328717    |\n",
       "\n"
      ],
      "text/plain": [
       "                                iPSC       Brain_Amygdala\n",
       "1_100291080_C_T-ENSG00000156875 0.55240246 0.2661899980  \n",
       "1_100373730_G_A-ENSG00000162688 0.00861245 0.0007134121  \n",
       "                                Brain_Anterior_cingulate_cortex_BA24\n",
       "1_100291080_C_T-ENSG00000156875 2.948368e-01                        \n",
       "1_100373730_G_A-ENSG00000162688 9.319428e-05                        \n",
       "                                Brain_Caudate_basal_ganglia\n",
       "1_100291080_C_T-ENSG00000156875 2.933655e-01               \n",
       "1_100373730_G_A-ENSG00000162688 2.174763e-05               \n",
       "                                Brain_Cerebellar_Hemisphere Brain_Cerebellum\n",
       "1_100291080_C_T-ENSG00000156875 3.891269e-01                3.688221e-01    \n",
       "1_100373730_G_A-ENSG00000162688 2.322760e-07                6.200034e-07    \n",
       "                                Brain_Cortex Brain_Frontal_Cortex_BA9\n",
       "1_100291080_C_T-ENSG00000156875 0.3244183043 0.354748408             \n",
       "1_100373730_G_A-ENSG00000162688 0.0001547294 0.002938566             \n",
       "                                Brain_Hippocampus Brain_Hypothalamus ...\n",
       "1_100291080_C_T-ENSG00000156875 0.3113482930      0.28314784         ...\n",
       "1_100373730_G_A-ENSG00000162688 0.0001856247      0.03353521         ...\n",
       "                                Neuro.pool1_13_noddd_D30.Epen1\n",
       "1_100291080_C_T-ENSG00000156875 0.4207356                     \n",
       "1_100373730_G_A-ENSG00000162688 0.4630622                     \n",
       "                                Neuro.pool1_13_noddd_D30.Sert\n",
       "1_100291080_C_T-ENSG00000156875 0.3957638                    \n",
       "1_100373730_G_A-ENSG00000162688 0.3252611                    \n",
       "                                Neuro.pool1_17_D52.ROT.Astro\n",
       "1_100291080_C_T-ENSG00000156875 0.3483573                   \n",
       "1_100373730_G_A-ENSG00000162688 0.3656837                   \n",
       "                                Neuro.pool1_17_D52.ROT.DA\n",
       "1_100291080_C_T-ENSG00000156875 0.3480076                \n",
       "1_100373730_G_A-ENSG00000162688 0.3230259                \n",
       "                                Neuro.pool1_17_D52.ROT.Epen1\n",
       "1_100291080_C_T-ENSG00000156875 0.3770463                   \n",
       "1_100373730_G_A-ENSG00000162688 0.4115617                   \n",
       "                                Neuro.pool1_17_D52.ROT.Sert\n",
       "1_100291080_C_T-ENSG00000156875 0.3279490                  \n",
       "1_100373730_G_A-ENSG00000162688 0.3048215                  \n",
       "                                Neuro.pool1_17_D52.Astro Neuro.pool1_17_D52.DA\n",
       "1_100291080_C_T-ENSG00000156875 0.3655997                0.4063143            \n",
       "1_100373730_G_A-ENSG00000162688 0.3537931                0.4362284            \n",
       "                                Neuro.pool1_17_D52.Epen1\n",
       "1_100291080_C_T-ENSG00000156875 0.3795389               \n",
       "1_100373730_G_A-ENSG00000162688 0.4845384               \n",
       "                                Neuro.pool1_17_D52.Sert\n",
       "1_100291080_C_T-ENSG00000156875 0.3653451              \n",
       "1_100373730_G_A-ENSG00000162688 0.3328717              "
      ]
     },
     "metadata": {},
     "output_type": "display_data"
    }
   ],
   "source": [
    "head(lfsrMat,2)"
   ]
  },
  {
   "cell_type": "code",
   "execution_count": 11,
   "metadata": {},
   "outputs": [],
   "source": [
    "ratio = 2 # ratio of magnitude between 0.5 and 2 is \"same signal\"\n",
    "lfsrThreshold = 0.1 # significance threshold\n",
    "any = T       # at least one passing significance\n",
    "both = F      # both passing significance\n",
    "smallest = F  # smallest sample size set passing significance"
   ]
  },
  {
   "cell_type": "code",
   "execution_count": 12,
   "metadata": {},
   "outputs": [],
   "source": [
    "sameSignMagnitude = matrix(0, ncol=ncol(lfsrMat), nrow=ncol(lfsrMat))# check sign thr + same sign + ratio \n",
    "sameSign = matrix(0, ncol=ncol(lfsrMat), nrow=ncol(lfsrMat))         # check sign thr + same sign\n",
    "total = matrix(0, ncol=ncol(lfsrMat), nrow=ncol(lfsrMat))            # check only sign threshold"
   ]
  },
  {
   "cell_type": "code",
   "execution_count": 13,
   "metadata": {},
   "outputs": [],
   "source": [
    "options(warn=2)\n",
    "if(sum(any, both, smallest)==1){\n",
    "  for(colN in 1:ncol(lfsrMat)){\n",
    "    for(colM in colN:ncol(lfsrMat)){\n",
    "      if(any){\n",
    "        toConsider = unique(c(which(lfsrMat[,colN]<lfsrThreshold),which(lfsrMat[,colM]<lfsrThreshold)))\n",
    "      } else if(both) {\n",
    "        toConsider = intersect(which(lfsrMat[,colN]<lfsrThreshold),which(lfsrMat[,colM]<lfsrThreshold))\n",
    "      } else if(smallest){\n",
    "        if(sampleSizeTissues$n[colN] > sampleSizeTissues$n[colM]){\n",
    "          toConsider = which(lfsrMat[,colM]<lfsrThreshold)\n",
    "        } else {\n",
    "          toConsider = which(lfsrMat[,colN]<lfsrThreshold)\n",
    "        }\n",
    "      }\n",
    "      total[colN,colM] = length(toConsider)\n",
    "      total[colM,colN] = total[colN,colM]\n",
    "      \n",
    "      tmpInfo = posteriorMean[toConsider,colN]/posteriorMean[toConsider,colM] # check sign\n",
    "      tmpInfo2 = tmpInfo[which(tmpInfo>0)]\n",
    "      sameSign[colN,colM] = length(tmpInfo2)\n",
    "      sameSign[colM,colN] = sameSign[colN,colM]\n",
    "      \n",
    "      tmpInfo2[which(tmpInfo2<1)] = 1/tmpInfo2[which(tmpInfo2<1)] # check magn ratio\n",
    "      sameSignMagnitude[colN,colM] = length(which(tmpInfo2<=ratio))\n",
    "      sameSignMagnitude[colM,colN] = sameSignMagnitude[colN,colM]\n",
    "    }\n",
    "  }\n",
    "} else {\n",
    "  print(\"Setting issue.\")\n",
    "}"
   ]
  },
  {
   "cell_type": "code",
   "execution_count": 14,
   "metadata": {},
   "outputs": [],
   "source": [
    "# options(warn=1)\n",
    "\n",
    "pairwiseSharingSign = sameSign/total # get fraction\n",
    "pairwiseSharing = sameSignMagnitude/total\n",
    "\n",
    "colnames(pairwiseSharing) = colnames(lfsrMat)\n",
    "rownames(pairwiseSharing) = colnames(lfsrMat)\n",
    "colnames(pairwiseSharingSign) = colnames(lfsrMat)\n",
    "rownames(pairwiseSharingSign) = colnames(lfsrMat)\n",
    "\n",
    "## Sign and magnitude\n",
    "# upper_tri <- get_upper_tri(reorder_cormat(as.matrix(pairwiseSharing)))\n",
    "## Sign only\n",
    "# upper_tri <- get_upper_tri(reorder_cormat(as.matrix(pairwiseSharingSign)))\n",
    "# melted_cormat <- melt(upper_tri, na.rm = TRUE)\n",
    "# head(melted_cormat)"
   ]
  },
  {
   "cell_type": "code",
   "execution_count": 15,
   "metadata": {},
   "outputs": [],
   "source": [
    "col_ips = canva_pal(\"Modern and clean\")(4)[2]\n",
    "col_mesendo = canva_pal(\"Modern and clean\")(4)[4]\n",
    "col_defendo = canva_pal(\"Warm tones\")(4)[3]\n",
    "\n",
    "col_FPP = \"#aec7e8\"\n",
    "col_P_FPP = \"#1f77b4\"\n",
    "col_NB = \"#ff7f0e\"\n",
    "\n",
    "col_DA = \"#2ca02c\"\n",
    "col_Sert = \"#98df8a\"\n",
    "col_Epen1 = \"#ff9896\"\n",
    "# col_Astro = \"#d62728\"\n",
    "col_Astro = \"#9467bd\""
   ]
  },
  {
   "cell_type": "code",
   "execution_count": 16,
   "metadata": {},
   "outputs": [
    {
     "data": {
      "text/html": [
       "<ol class=list-inline>\n",
       "\t<li>'iPSC'</li>\n",
       "\t<li>'Brain_Amygdala'</li>\n",
       "\t<li>'Brain_Anterior_cingulate_cortex_BA24'</li>\n",
       "\t<li>'Brain_Caudate_basal_ganglia'</li>\n",
       "\t<li>'Brain_Cerebellar_Hemisphere'</li>\n",
       "\t<li>'Brain_Cerebellum'</li>\n",
       "\t<li>'Brain_Cortex'</li>\n",
       "\t<li>'Brain_Frontal_Cortex_BA9'</li>\n",
       "\t<li>'Brain_Hippocampus'</li>\n",
       "\t<li>'Brain_Hypothalamus'</li>\n",
       "\t<li>'Brain_Nucleus_accumbens_basal_ganglia'</li>\n",
       "\t<li>'Brain_Putamen_basal_ganglia'</li>\n",
       "\t<li>'Brain_Spinal_cord_cervical_c.1'</li>\n",
       "\t<li>'Brain_Substantia_nigra'</li>\n",
       "\t<li>'Pituitary'</li>\n",
       "\t<li>'Neuro.pool1_13_noddd_D11.FPP'</li>\n",
       "\t<li>'Neuro.pool1_13_noddd_D11.P_FPP'</li>\n",
       "\t<li>'Neuro.pool1_13_noddd_D30.Astro'</li>\n",
       "\t<li>'Neuro.pool1_13_noddd_D30.DA'</li>\n",
       "\t<li>'Neuro.pool1_13_noddd_D30.Epen1'</li>\n",
       "\t<li>'Neuro.pool1_13_noddd_D30.Sert'</li>\n",
       "\t<li>'Neuro.pool1_17_D52.ROT.Astro'</li>\n",
       "\t<li>'Neuro.pool1_17_D52.ROT.DA'</li>\n",
       "\t<li>'Neuro.pool1_17_D52.ROT.Epen1'</li>\n",
       "\t<li>'Neuro.pool1_17_D52.ROT.Sert'</li>\n",
       "\t<li>'Neuro.pool1_17_D52.Astro'</li>\n",
       "\t<li>'Neuro.pool1_17_D52.DA'</li>\n",
       "\t<li>'Neuro.pool1_17_D52.Epen1'</li>\n",
       "\t<li>'Neuro.pool1_17_D52.Sert'</li>\n",
       "</ol>\n"
      ],
      "text/latex": [
       "\\begin{enumerate*}\n",
       "\\item 'iPSC'\n",
       "\\item 'Brain\\_Amygdala'\n",
       "\\item 'Brain\\_Anterior\\_cingulate\\_cortex\\_BA24'\n",
       "\\item 'Brain\\_Caudate\\_basal\\_ganglia'\n",
       "\\item 'Brain\\_Cerebellar\\_Hemisphere'\n",
       "\\item 'Brain\\_Cerebellum'\n",
       "\\item 'Brain\\_Cortex'\n",
       "\\item 'Brain\\_Frontal\\_Cortex\\_BA9'\n",
       "\\item 'Brain\\_Hippocampus'\n",
       "\\item 'Brain\\_Hypothalamus'\n",
       "\\item 'Brain\\_Nucleus\\_accumbens\\_basal\\_ganglia'\n",
       "\\item 'Brain\\_Putamen\\_basal\\_ganglia'\n",
       "\\item 'Brain\\_Spinal\\_cord\\_cervical\\_c.1'\n",
       "\\item 'Brain\\_Substantia\\_nigra'\n",
       "\\item 'Pituitary'\n",
       "\\item 'Neuro.pool1\\_13\\_noddd\\_D11.FPP'\n",
       "\\item 'Neuro.pool1\\_13\\_noddd\\_D11.P\\_FPP'\n",
       "\\item 'Neuro.pool1\\_13\\_noddd\\_D30.Astro'\n",
       "\\item 'Neuro.pool1\\_13\\_noddd\\_D30.DA'\n",
       "\\item 'Neuro.pool1\\_13\\_noddd\\_D30.Epen1'\n",
       "\\item 'Neuro.pool1\\_13\\_noddd\\_D30.Sert'\n",
       "\\item 'Neuro.pool1\\_17\\_D52.ROT.Astro'\n",
       "\\item 'Neuro.pool1\\_17\\_D52.ROT.DA'\n",
       "\\item 'Neuro.pool1\\_17\\_D52.ROT.Epen1'\n",
       "\\item 'Neuro.pool1\\_17\\_D52.ROT.Sert'\n",
       "\\item 'Neuro.pool1\\_17\\_D52.Astro'\n",
       "\\item 'Neuro.pool1\\_17\\_D52.DA'\n",
       "\\item 'Neuro.pool1\\_17\\_D52.Epen1'\n",
       "\\item 'Neuro.pool1\\_17\\_D52.Sert'\n",
       "\\end{enumerate*}\n"
      ],
      "text/markdown": [
       "1. 'iPSC'\n",
       "2. 'Brain_Amygdala'\n",
       "3. 'Brain_Anterior_cingulate_cortex_BA24'\n",
       "4. 'Brain_Caudate_basal_ganglia'\n",
       "5. 'Brain_Cerebellar_Hemisphere'\n",
       "6. 'Brain_Cerebellum'\n",
       "7. 'Brain_Cortex'\n",
       "8. 'Brain_Frontal_Cortex_BA9'\n",
       "9. 'Brain_Hippocampus'\n",
       "10. 'Brain_Hypothalamus'\n",
       "11. 'Brain_Nucleus_accumbens_basal_ganglia'\n",
       "12. 'Brain_Putamen_basal_ganglia'\n",
       "13. 'Brain_Spinal_cord_cervical_c.1'\n",
       "14. 'Brain_Substantia_nigra'\n",
       "15. 'Pituitary'\n",
       "16. 'Neuro.pool1_13_noddd_D11.FPP'\n",
       "17. 'Neuro.pool1_13_noddd_D11.P_FPP'\n",
       "18. 'Neuro.pool1_13_noddd_D30.Astro'\n",
       "19. 'Neuro.pool1_13_noddd_D30.DA'\n",
       "20. 'Neuro.pool1_13_noddd_D30.Epen1'\n",
       "21. 'Neuro.pool1_13_noddd_D30.Sert'\n",
       "22. 'Neuro.pool1_17_D52.ROT.Astro'\n",
       "23. 'Neuro.pool1_17_D52.ROT.DA'\n",
       "24. 'Neuro.pool1_17_D52.ROT.Epen1'\n",
       "25. 'Neuro.pool1_17_D52.ROT.Sert'\n",
       "26. 'Neuro.pool1_17_D52.Astro'\n",
       "27. 'Neuro.pool1_17_D52.DA'\n",
       "28. 'Neuro.pool1_17_D52.Epen1'\n",
       "29. 'Neuro.pool1_17_D52.Sert'\n",
       "\n",
       "\n"
      ],
      "text/plain": [
       " [1] \"iPSC\"                                 \n",
       " [2] \"Brain_Amygdala\"                       \n",
       " [3] \"Brain_Anterior_cingulate_cortex_BA24\" \n",
       " [4] \"Brain_Caudate_basal_ganglia\"          \n",
       " [5] \"Brain_Cerebellar_Hemisphere\"          \n",
       " [6] \"Brain_Cerebellum\"                     \n",
       " [7] \"Brain_Cortex\"                         \n",
       " [8] \"Brain_Frontal_Cortex_BA9\"             \n",
       " [9] \"Brain_Hippocampus\"                    \n",
       "[10] \"Brain_Hypothalamus\"                   \n",
       "[11] \"Brain_Nucleus_accumbens_basal_ganglia\"\n",
       "[12] \"Brain_Putamen_basal_ganglia\"          \n",
       "[13] \"Brain_Spinal_cord_cervical_c.1\"       \n",
       "[14] \"Brain_Substantia_nigra\"               \n",
       "[15] \"Pituitary\"                            \n",
       "[16] \"Neuro.pool1_13_noddd_D11.FPP\"         \n",
       "[17] \"Neuro.pool1_13_noddd_D11.P_FPP\"       \n",
       "[18] \"Neuro.pool1_13_noddd_D30.Astro\"       \n",
       "[19] \"Neuro.pool1_13_noddd_D30.DA\"          \n",
       "[20] \"Neuro.pool1_13_noddd_D30.Epen1\"       \n",
       "[21] \"Neuro.pool1_13_noddd_D30.Sert\"        \n",
       "[22] \"Neuro.pool1_17_D52.ROT.Astro\"         \n",
       "[23] \"Neuro.pool1_17_D52.ROT.DA\"            \n",
       "[24] \"Neuro.pool1_17_D52.ROT.Epen1\"         \n",
       "[25] \"Neuro.pool1_17_D52.ROT.Sert\"          \n",
       "[26] \"Neuro.pool1_17_D52.Astro\"             \n",
       "[27] \"Neuro.pool1_17_D52.DA\"                \n",
       "[28] \"Neuro.pool1_17_D52.Epen1\"             \n",
       "[29] \"Neuro.pool1_17_D52.Sert\"              "
      ]
     },
     "metadata": {},
     "output_type": "display_data"
    }
   ],
   "source": [
    "colnames(pairwiseSharing)"
   ]
  },
  {
   "cell_type": "code",
   "execution_count": 20,
   "metadata": {},
   "outputs": [
    {
     "data": {
      "text/html": [
       "<table>\n",
       "<thead><tr><th></th><th scope=col>iPSC</th><th scope=col>Neuro.pool1_13_noddd_D11.FPP</th><th scope=col>Neuro.pool1_13_noddd_D11.P_FPP</th><th scope=col>Neuro.pool1_13_noddd_D30.Astro</th><th scope=col>Neuro.pool1_13_noddd_D30.DA</th><th scope=col>Neuro.pool1_13_noddd_D30.Epen1</th><th scope=col>Neuro.pool1_13_noddd_D30.Sert</th><th scope=col>Neuro.pool1_17_D52.ROT.Astro</th><th scope=col>Neuro.pool1_17_D52.ROT.DA</th><th scope=col>Neuro.pool1_17_D52.ROT.Epen1</th><th scope=col>Neuro.pool1_17_D52.ROT.Sert</th><th scope=col>Neuro.pool1_17_D52.Astro</th><th scope=col>Neuro.pool1_17_D52.DA</th><th scope=col>Neuro.pool1_17_D52.Epen1</th><th scope=col>Neuro.pool1_17_D52.Sert</th><th scope=col>Brain_Substantia_nigra</th></tr></thead>\n",
       "<tbody>\n",
       "\t<tr><th scope=row>Brain_Hypothalamus</th><td>0.3497781</td><td>0.3474227</td><td>0.3466437</td><td>0.3746907</td><td>0.3513418</td><td>0.3794201</td><td>0.3575478</td><td>0.3646018</td><td>0.3747741</td><td>0.3926924</td><td>0.4014011</td><td>0.3675946</td><td>0.4100642</td><td>0.3875833</td><td>0.4053110</td><td>0.8247341</td></tr>\n",
       "\t<tr><th scope=row>Brain_Nucleus_accumbens_basal_ganglia</th><td>0.3449896</td><td>0.3472603</td><td>0.3447087</td><td>0.3680141</td><td>0.3522211</td><td>0.3618881</td><td>0.3479944</td><td>0.3620629</td><td>0.3640586</td><td>0.3828070</td><td>0.3902523</td><td>0.3607483</td><td>0.3891626</td><td>0.3821478</td><td>0.3876987</td><td>0.7862389</td></tr>\n",
       "\t<tr><th scope=row>Brain_Putamen_basal_ganglia</th><td>0.3317672</td><td>0.3406293</td><td>0.3374486</td><td>0.3595388</td><td>0.3355470</td><td>0.3578397</td><td>0.3447672</td><td>0.3512658</td><td>0.3517730</td><td>0.3674825</td><td>0.3827801</td><td>0.3452045</td><td>0.3854240</td><td>0.3730929</td><td>0.3831840</td><td>0.8068403</td></tr>\n",
       "\t<tr><th scope=row>Brain_Spinal_cord_cervical_c.1</th><td>0.3406275</td><td>0.3356841</td><td>0.3343927</td><td>0.3655720</td><td>0.3410488</td><td>0.3655371</td><td>0.3565723</td><td>0.3563093</td><td>0.3480663</td><td>0.3698878</td><td>0.3760286</td><td>0.3608473</td><td>0.3732702</td><td>0.3649374</td><td>0.3852752</td><td>0.8101161</td></tr>\n",
       "\t<tr><th scope=row>Brain_Substantia_nigra</th><td>0.3620553</td><td>0.3537487</td><td>0.3514276</td><td>0.3838897</td><td>0.3579176</td><td>0.3826087</td><td>0.3670058</td><td>0.3806569</td><td>0.3773234</td><td>0.3946318</td><td>0.4125899</td><td>0.3727073</td><td>0.4015345</td><td>0.3948313</td><td>0.4127325</td><td>1.0000000</td></tr>\n",
       "\t<tr><th scope=row>Pituitary</th><td>0.3762223</td><td>0.3282137</td><td>0.3327759</td><td>0.3560192</td><td>0.3111339</td><td>0.3605605</td><td>0.3369863</td><td>0.3449812</td><td>0.3324128</td><td>0.3702434</td><td>0.3793688</td><td>0.3407049</td><td>0.3706485</td><td>0.3707102</td><td>0.3839406</td><td>0.6943729</td></tr>\n",
       "</tbody>\n",
       "</table>\n"
      ],
      "text/latex": [
       "\\begin{tabular}{r|llllllllllllllll}\n",
       "  & iPSC & Neuro.pool1\\_13\\_noddd\\_D11.FPP & Neuro.pool1\\_13\\_noddd\\_D11.P\\_FPP & Neuro.pool1\\_13\\_noddd\\_D30.Astro & Neuro.pool1\\_13\\_noddd\\_D30.DA & Neuro.pool1\\_13\\_noddd\\_D30.Epen1 & Neuro.pool1\\_13\\_noddd\\_D30.Sert & Neuro.pool1\\_17\\_D52.ROT.Astro & Neuro.pool1\\_17\\_D52.ROT.DA & Neuro.pool1\\_17\\_D52.ROT.Epen1 & Neuro.pool1\\_17\\_D52.ROT.Sert & Neuro.pool1\\_17\\_D52.Astro & Neuro.pool1\\_17\\_D52.DA & Neuro.pool1\\_17\\_D52.Epen1 & Neuro.pool1\\_17\\_D52.Sert & Brain\\_Substantia\\_nigra\\\\\n",
       "\\hline\n",
       "\tBrain\\_Hypothalamus & 0.3497781 & 0.3474227 & 0.3466437 & 0.3746907 & 0.3513418 & 0.3794201 & 0.3575478 & 0.3646018 & 0.3747741 & 0.3926924 & 0.4014011 & 0.3675946 & 0.4100642 & 0.3875833 & 0.4053110 & 0.8247341\\\\\n",
       "\tBrain\\_Nucleus\\_accumbens\\_basal\\_ganglia & 0.3449896 & 0.3472603 & 0.3447087 & 0.3680141 & 0.3522211 & 0.3618881 & 0.3479944 & 0.3620629 & 0.3640586 & 0.3828070 & 0.3902523 & 0.3607483 & 0.3891626 & 0.3821478 & 0.3876987 & 0.7862389\\\\\n",
       "\tBrain\\_Putamen\\_basal\\_ganglia & 0.3317672 & 0.3406293 & 0.3374486 & 0.3595388 & 0.3355470 & 0.3578397 & 0.3447672 & 0.3512658 & 0.3517730 & 0.3674825 & 0.3827801 & 0.3452045 & 0.3854240 & 0.3730929 & 0.3831840 & 0.8068403\\\\\n",
       "\tBrain\\_Spinal\\_cord\\_cervical\\_c.1 & 0.3406275 & 0.3356841 & 0.3343927 & 0.3655720 & 0.3410488 & 0.3655371 & 0.3565723 & 0.3563093 & 0.3480663 & 0.3698878 & 0.3760286 & 0.3608473 & 0.3732702 & 0.3649374 & 0.3852752 & 0.8101161\\\\\n",
       "\tBrain\\_Substantia\\_nigra & 0.3620553 & 0.3537487 & 0.3514276 & 0.3838897 & 0.3579176 & 0.3826087 & 0.3670058 & 0.3806569 & 0.3773234 & 0.3946318 & 0.4125899 & 0.3727073 & 0.4015345 & 0.3948313 & 0.4127325 & 1.0000000\\\\\n",
       "\tPituitary & 0.3762223 & 0.3282137 & 0.3327759 & 0.3560192 & 0.3111339 & 0.3605605 & 0.3369863 & 0.3449812 & 0.3324128 & 0.3702434 & 0.3793688 & 0.3407049 & 0.3706485 & 0.3707102 & 0.3839406 & 0.6943729\\\\\n",
       "\\end{tabular}\n"
      ],
      "text/markdown": [
       "\n",
       "| <!--/--> | iPSC | Neuro.pool1_13_noddd_D11.FPP | Neuro.pool1_13_noddd_D11.P_FPP | Neuro.pool1_13_noddd_D30.Astro | Neuro.pool1_13_noddd_D30.DA | Neuro.pool1_13_noddd_D30.Epen1 | Neuro.pool1_13_noddd_D30.Sert | Neuro.pool1_17_D52.ROT.Astro | Neuro.pool1_17_D52.ROT.DA | Neuro.pool1_17_D52.ROT.Epen1 | Neuro.pool1_17_D52.ROT.Sert | Neuro.pool1_17_D52.Astro | Neuro.pool1_17_D52.DA | Neuro.pool1_17_D52.Epen1 | Neuro.pool1_17_D52.Sert | Brain_Substantia_nigra |\n",
       "|---|---|---|---|---|---|---|---|---|---|---|---|---|---|---|---|---|\n",
       "| Brain_Hypothalamus | 0.3497781 | 0.3474227 | 0.3466437 | 0.3746907 | 0.3513418 | 0.3794201 | 0.3575478 | 0.3646018 | 0.3747741 | 0.3926924 | 0.4014011 | 0.3675946 | 0.4100642 | 0.3875833 | 0.4053110 | 0.8247341 |\n",
       "| Brain_Nucleus_accumbens_basal_ganglia | 0.3449896 | 0.3472603 | 0.3447087 | 0.3680141 | 0.3522211 | 0.3618881 | 0.3479944 | 0.3620629 | 0.3640586 | 0.3828070 | 0.3902523 | 0.3607483 | 0.3891626 | 0.3821478 | 0.3876987 | 0.7862389 |\n",
       "| Brain_Putamen_basal_ganglia | 0.3317672 | 0.3406293 | 0.3374486 | 0.3595388 | 0.3355470 | 0.3578397 | 0.3447672 | 0.3512658 | 0.3517730 | 0.3674825 | 0.3827801 | 0.3452045 | 0.3854240 | 0.3730929 | 0.3831840 | 0.8068403 |\n",
       "| Brain_Spinal_cord_cervical_c.1 | 0.3406275 | 0.3356841 | 0.3343927 | 0.3655720 | 0.3410488 | 0.3655371 | 0.3565723 | 0.3563093 | 0.3480663 | 0.3698878 | 0.3760286 | 0.3608473 | 0.3732702 | 0.3649374 | 0.3852752 | 0.8101161 |\n",
       "| Brain_Substantia_nigra | 0.3620553 | 0.3537487 | 0.3514276 | 0.3838897 | 0.3579176 | 0.3826087 | 0.3670058 | 0.3806569 | 0.3773234 | 0.3946318 | 0.4125899 | 0.3727073 | 0.4015345 | 0.3948313 | 0.4127325 | 1.0000000 |\n",
       "| Pituitary | 0.3762223 | 0.3282137 | 0.3327759 | 0.3560192 | 0.3111339 | 0.3605605 | 0.3369863 | 0.3449812 | 0.3324128 | 0.3702434 | 0.3793688 | 0.3407049 | 0.3706485 | 0.3707102 | 0.3839406 | 0.6943729 |\n",
       "\n"
      ],
      "text/plain": [
       "                                      iPSC      Neuro.pool1_13_noddd_D11.FPP\n",
       "Brain_Hypothalamus                    0.3497781 0.3474227                   \n",
       "Brain_Nucleus_accumbens_basal_ganglia 0.3449896 0.3472603                   \n",
       "Brain_Putamen_basal_ganglia           0.3317672 0.3406293                   \n",
       "Brain_Spinal_cord_cervical_c.1        0.3406275 0.3356841                   \n",
       "Brain_Substantia_nigra                0.3620553 0.3537487                   \n",
       "Pituitary                             0.3762223 0.3282137                   \n",
       "                                      Neuro.pool1_13_noddd_D11.P_FPP\n",
       "Brain_Hypothalamus                    0.3466437                     \n",
       "Brain_Nucleus_accumbens_basal_ganglia 0.3447087                     \n",
       "Brain_Putamen_basal_ganglia           0.3374486                     \n",
       "Brain_Spinal_cord_cervical_c.1        0.3343927                     \n",
       "Brain_Substantia_nigra                0.3514276                     \n",
       "Pituitary                             0.3327759                     \n",
       "                                      Neuro.pool1_13_noddd_D30.Astro\n",
       "Brain_Hypothalamus                    0.3746907                     \n",
       "Brain_Nucleus_accumbens_basal_ganglia 0.3680141                     \n",
       "Brain_Putamen_basal_ganglia           0.3595388                     \n",
       "Brain_Spinal_cord_cervical_c.1        0.3655720                     \n",
       "Brain_Substantia_nigra                0.3838897                     \n",
       "Pituitary                             0.3560192                     \n",
       "                                      Neuro.pool1_13_noddd_D30.DA\n",
       "Brain_Hypothalamus                    0.3513418                  \n",
       "Brain_Nucleus_accumbens_basal_ganglia 0.3522211                  \n",
       "Brain_Putamen_basal_ganglia           0.3355470                  \n",
       "Brain_Spinal_cord_cervical_c.1        0.3410488                  \n",
       "Brain_Substantia_nigra                0.3579176                  \n",
       "Pituitary                             0.3111339                  \n",
       "                                      Neuro.pool1_13_noddd_D30.Epen1\n",
       "Brain_Hypothalamus                    0.3794201                     \n",
       "Brain_Nucleus_accumbens_basal_ganglia 0.3618881                     \n",
       "Brain_Putamen_basal_ganglia           0.3578397                     \n",
       "Brain_Spinal_cord_cervical_c.1        0.3655371                     \n",
       "Brain_Substantia_nigra                0.3826087                     \n",
       "Pituitary                             0.3605605                     \n",
       "                                      Neuro.pool1_13_noddd_D30.Sert\n",
       "Brain_Hypothalamus                    0.3575478                    \n",
       "Brain_Nucleus_accumbens_basal_ganglia 0.3479944                    \n",
       "Brain_Putamen_basal_ganglia           0.3447672                    \n",
       "Brain_Spinal_cord_cervical_c.1        0.3565723                    \n",
       "Brain_Substantia_nigra                0.3670058                    \n",
       "Pituitary                             0.3369863                    \n",
       "                                      Neuro.pool1_17_D52.ROT.Astro\n",
       "Brain_Hypothalamus                    0.3646018                   \n",
       "Brain_Nucleus_accumbens_basal_ganglia 0.3620629                   \n",
       "Brain_Putamen_basal_ganglia           0.3512658                   \n",
       "Brain_Spinal_cord_cervical_c.1        0.3563093                   \n",
       "Brain_Substantia_nigra                0.3806569                   \n",
       "Pituitary                             0.3449812                   \n",
       "                                      Neuro.pool1_17_D52.ROT.DA\n",
       "Brain_Hypothalamus                    0.3747741                \n",
       "Brain_Nucleus_accumbens_basal_ganglia 0.3640586                \n",
       "Brain_Putamen_basal_ganglia           0.3517730                \n",
       "Brain_Spinal_cord_cervical_c.1        0.3480663                \n",
       "Brain_Substantia_nigra                0.3773234                \n",
       "Pituitary                             0.3324128                \n",
       "                                      Neuro.pool1_17_D52.ROT.Epen1\n",
       "Brain_Hypothalamus                    0.3926924                   \n",
       "Brain_Nucleus_accumbens_basal_ganglia 0.3828070                   \n",
       "Brain_Putamen_basal_ganglia           0.3674825                   \n",
       "Brain_Spinal_cord_cervical_c.1        0.3698878                   \n",
       "Brain_Substantia_nigra                0.3946318                   \n",
       "Pituitary                             0.3702434                   \n",
       "                                      Neuro.pool1_17_D52.ROT.Sert\n",
       "Brain_Hypothalamus                    0.4014011                  \n",
       "Brain_Nucleus_accumbens_basal_ganglia 0.3902523                  \n",
       "Brain_Putamen_basal_ganglia           0.3827801                  \n",
       "Brain_Spinal_cord_cervical_c.1        0.3760286                  \n",
       "Brain_Substantia_nigra                0.4125899                  \n",
       "Pituitary                             0.3793688                  \n",
       "                                      Neuro.pool1_17_D52.Astro\n",
       "Brain_Hypothalamus                    0.3675946               \n",
       "Brain_Nucleus_accumbens_basal_ganglia 0.3607483               \n",
       "Brain_Putamen_basal_ganglia           0.3452045               \n",
       "Brain_Spinal_cord_cervical_c.1        0.3608473               \n",
       "Brain_Substantia_nigra                0.3727073               \n",
       "Pituitary                             0.3407049               \n",
       "                                      Neuro.pool1_17_D52.DA\n",
       "Brain_Hypothalamus                    0.4100642            \n",
       "Brain_Nucleus_accumbens_basal_ganglia 0.3891626            \n",
       "Brain_Putamen_basal_ganglia           0.3854240            \n",
       "Brain_Spinal_cord_cervical_c.1        0.3732702            \n",
       "Brain_Substantia_nigra                0.4015345            \n",
       "Pituitary                             0.3706485            \n",
       "                                      Neuro.pool1_17_D52.Epen1\n",
       "Brain_Hypothalamus                    0.3875833               \n",
       "Brain_Nucleus_accumbens_basal_ganglia 0.3821478               \n",
       "Brain_Putamen_basal_ganglia           0.3730929               \n",
       "Brain_Spinal_cord_cervical_c.1        0.3649374               \n",
       "Brain_Substantia_nigra                0.3948313               \n",
       "Pituitary                             0.3707102               \n",
       "                                      Neuro.pool1_17_D52.Sert\n",
       "Brain_Hypothalamus                    0.4053110              \n",
       "Brain_Nucleus_accumbens_basal_ganglia 0.3876987              \n",
       "Brain_Putamen_basal_ganglia           0.3831840              \n",
       "Brain_Spinal_cord_cervical_c.1        0.3852752              \n",
       "Brain_Substantia_nigra                0.4127325              \n",
       "Pituitary                             0.3839406              \n",
       "                                      Brain_Substantia_nigra\n",
       "Brain_Hypothalamus                    0.8247341             \n",
       "Brain_Nucleus_accumbens_basal_ganglia 0.7862389             \n",
       "Brain_Putamen_basal_ganglia           0.8068403             \n",
       "Brain_Spinal_cord_cervical_c.1        0.8101161             \n",
       "Brain_Substantia_nigra                1.0000000             \n",
       "Pituitary                             0.6943729             "
      ]
     },
     "metadata": {},
     "output_type": "display_data"
    }
   ],
   "source": [
    "# mat_to_plot = pairwiseSharing[c(2:15),c(1,16:29)]\n",
    "mat_to_plot = pairwiseSharing[c(2:15),c(1,16:29,14)]\n",
    "# mat_to_plot = pairwiseSharingSign[c(2:15),c(1,16:29)] \n",
    "tail(mat_to_plot)"
   ]
  },
  {
   "cell_type": "code",
   "execution_count": 21,
   "metadata": {},
   "outputs": [],
   "source": [
    "mat_to_plot['Brain_Substantia_nigra','Brain_Substantia_nigra'] = mean(mat_to_plot[!(rownames(mat_to_plot) %in% 'Brain_Substantia_nigra'),'Brain_Substantia_nigra'])"
   ]
  },
  {
   "cell_type": "code",
   "execution_count": 22,
   "metadata": {},
   "outputs": [
    {
     "data": {
      "text/html": [
       "<table>\n",
       "<thead><tr><th scope=col>CellType</th><th scope=col>Sharing</th></tr></thead>\n",
       "<tbody>\n",
       "\t<tr><td>iPSC     </td><td>0.3356881</td></tr>\n",
       "\t<tr><td>iPSC     </td><td>0.3526809</td></tr>\n",
       "</tbody>\n",
       "</table>\n"
      ],
      "text/latex": [
       "\\begin{tabular}{r|ll}\n",
       " CellType & Sharing\\\\\n",
       "\\hline\n",
       "\t iPSC      & 0.3356881\\\\\n",
       "\t iPSC      & 0.3526809\\\\\n",
       "\\end{tabular}\n"
      ],
      "text/markdown": [
       "\n",
       "| CellType | Sharing |\n",
       "|---|---|\n",
       "| iPSC      | 0.3356881 |\n",
       "| iPSC      | 0.3526809 |\n",
       "\n"
      ],
      "text/plain": [
       "  CellType Sharing  \n",
       "1 iPSC     0.3356881\n",
       "2 iPSC     0.3526809"
      ]
     },
     "metadata": {},
     "output_type": "display_data"
    }
   ],
   "source": [
    "options(repr.plot.width=8, repr.plot.height=6)\n",
    "df = as.data.frame(mat_to_plot) %>% \n",
    "  gather(key=\"CellType\", value=\"Sharing\")\n",
    "\n",
    "head(df,2)"
   ]
  },
  {
   "cell_type": "code",
   "execution_count": 23,
   "metadata": {},
   "outputs": [
    {
     "data": {
      "text/html": [
       "16"
      ],
      "text/latex": [
       "16"
      ],
      "text/markdown": [
       "16"
      ],
      "text/plain": [
       "[1] 16"
      ]
     },
     "metadata": {},
     "output_type": "display_data"
    },
    {
     "data": {
      "text/html": [
       "<ol class=list-inline>\n",
       "\t<li>'iPSC'</li>\n",
       "\t<li>'Neuro.pool1_13_noddd_D11.FPP'</li>\n",
       "\t<li>'Neuro.pool1_13_noddd_D11.P_FPP'</li>\n",
       "\t<li>'Neuro.pool1_13_noddd_D30.Astro'</li>\n",
       "\t<li>'Neuro.pool1_13_noddd_D30.DA'</li>\n",
       "\t<li>'Neuro.pool1_13_noddd_D30.Epen1'</li>\n",
       "\t<li>'Neuro.pool1_13_noddd_D30.Sert'</li>\n",
       "\t<li>'Neuro.pool1_17_D52.ROT.Astro'</li>\n",
       "\t<li>'Neuro.pool1_17_D52.ROT.DA'</li>\n",
       "\t<li>'Neuro.pool1_17_D52.ROT.Epen1'</li>\n",
       "\t<li>'Neuro.pool1_17_D52.ROT.Sert'</li>\n",
       "\t<li>'Neuro.pool1_17_D52.Astro'</li>\n",
       "\t<li>'Neuro.pool1_17_D52.DA'</li>\n",
       "\t<li>'Neuro.pool1_17_D52.Epen1'</li>\n",
       "\t<li>'Neuro.pool1_17_D52.Sert'</li>\n",
       "\t<li>'Brain_Substantia_nigra'</li>\n",
       "</ol>\n"
      ],
      "text/latex": [
       "\\begin{enumerate*}\n",
       "\\item 'iPSC'\n",
       "\\item 'Neuro.pool1\\_13\\_noddd\\_D11.FPP'\n",
       "\\item 'Neuro.pool1\\_13\\_noddd\\_D11.P\\_FPP'\n",
       "\\item 'Neuro.pool1\\_13\\_noddd\\_D30.Astro'\n",
       "\\item 'Neuro.pool1\\_13\\_noddd\\_D30.DA'\n",
       "\\item 'Neuro.pool1\\_13\\_noddd\\_D30.Epen1'\n",
       "\\item 'Neuro.pool1\\_13\\_noddd\\_D30.Sert'\n",
       "\\item 'Neuro.pool1\\_17\\_D52.ROT.Astro'\n",
       "\\item 'Neuro.pool1\\_17\\_D52.ROT.DA'\n",
       "\\item 'Neuro.pool1\\_17\\_D52.ROT.Epen1'\n",
       "\\item 'Neuro.pool1\\_17\\_D52.ROT.Sert'\n",
       "\\item 'Neuro.pool1\\_17\\_D52.Astro'\n",
       "\\item 'Neuro.pool1\\_17\\_D52.DA'\n",
       "\\item 'Neuro.pool1\\_17\\_D52.Epen1'\n",
       "\\item 'Neuro.pool1\\_17\\_D52.Sert'\n",
       "\\item 'Brain\\_Substantia\\_nigra'\n",
       "\\end{enumerate*}\n"
      ],
      "text/markdown": [
       "1. 'iPSC'\n",
       "2. 'Neuro.pool1_13_noddd_D11.FPP'\n",
       "3. 'Neuro.pool1_13_noddd_D11.P_FPP'\n",
       "4. 'Neuro.pool1_13_noddd_D30.Astro'\n",
       "5. 'Neuro.pool1_13_noddd_D30.DA'\n",
       "6. 'Neuro.pool1_13_noddd_D30.Epen1'\n",
       "7. 'Neuro.pool1_13_noddd_D30.Sert'\n",
       "8. 'Neuro.pool1_17_D52.ROT.Astro'\n",
       "9. 'Neuro.pool1_17_D52.ROT.DA'\n",
       "10. 'Neuro.pool1_17_D52.ROT.Epen1'\n",
       "11. 'Neuro.pool1_17_D52.ROT.Sert'\n",
       "12. 'Neuro.pool1_17_D52.Astro'\n",
       "13. 'Neuro.pool1_17_D52.DA'\n",
       "14. 'Neuro.pool1_17_D52.Epen1'\n",
       "15. 'Neuro.pool1_17_D52.Sert'\n",
       "16. 'Brain_Substantia_nigra'\n",
       "\n",
       "\n"
      ],
      "text/plain": [
       " [1] \"iPSC\"                           \"Neuro.pool1_13_noddd_D11.FPP\"  \n",
       " [3] \"Neuro.pool1_13_noddd_D11.P_FPP\" \"Neuro.pool1_13_noddd_D30.Astro\"\n",
       " [5] \"Neuro.pool1_13_noddd_D30.DA\"    \"Neuro.pool1_13_noddd_D30.Epen1\"\n",
       " [7] \"Neuro.pool1_13_noddd_D30.Sert\"  \"Neuro.pool1_17_D52.ROT.Astro\"  \n",
       " [9] \"Neuro.pool1_17_D52.ROT.DA\"      \"Neuro.pool1_17_D52.ROT.Epen1\"  \n",
       "[11] \"Neuro.pool1_17_D52.ROT.Sert\"    \"Neuro.pool1_17_D52.Astro\"      \n",
       "[13] \"Neuro.pool1_17_D52.DA\"          \"Neuro.pool1_17_D52.Epen1\"      \n",
       "[15] \"Neuro.pool1_17_D52.Sert\"        \"Brain_Substantia_nigra\"        "
      ]
     },
     "metadata": {},
     "output_type": "display_data"
    }
   ],
   "source": [
    "ncol(mat_to_plot)\n",
    "colnames(mat_to_plot)"
   ]
  },
  {
   "cell_type": "code",
   "execution_count": 26,
   "metadata": {},
   "outputs": [
    {
     "data": {
      "image/png": "[encoded data removed]",
      "text/plain": [
       "plot without title"
      ]
     },
     "metadata": {},
     "output_type": "display_data"
    }
   ],
   "source": [
    "options(repr.plot.width=10, repr.plot.height=7)\n",
    "p = ggplot(df,aes(x=factor(CellType, levels=c(\"iPSC\",\n",
    "                                          \"Neuro.pool1_13_noddd_D11.FPP\",\"Neuro.pool1_13_noddd_D11.P_FPP\",\n",
    "                                          \"Neuro.pool1_13_noddd_D30.Astro\",\"Neuro.pool1_13_noddd_D30.DA\",\n",
    "                                          \"Neuro.pool1_13_noddd_D30.Sert\",\"Neuro.pool1_13_noddd_D30.Epen1\",\n",
    "                                          \"Neuro.pool1_17_D52.DA\",\"Neuro.pool1_17_D52.Sert\",\n",
    "                                          \"Neuro.pool1_17_D52.Epen1\",\"Neuro.pool1_17_D52.Astro\",\n",
    "                                          \"Neuro.pool1_17_D52.ROT.DA\",\"Neuro.pool1_17_D52.ROT.Sert\",\n",
    "                                          \"Neuro.pool1_17_D52.ROT.Epen1\",\"Neuro.pool1_17_D52.ROT.Astro\",\n",
    "                                          \"Brain_Substantia_nigra\")), \n",
    "              y=Sharing, \n",
    "              fill=factor(CellType, levels=c(\"iPSC\",\n",
    "                                          \"Neuro.pool1_13_noddd_D11.FPP\",\"Neuro.pool1_13_noddd_D11.P_FPP\",\n",
    "                                          \"Neuro.pool1_13_noddd_D30.Astro\",\"Neuro.pool1_13_noddd_D30.DA\",\n",
    "                                          \"Neuro.pool1_13_noddd_D30.Sert\",\"Neuro.pool1_13_noddd_D30.Epen1\",\n",
    "                                          \"Neuro.pool1_17_D52.DA\",\"Neuro.pool1_17_D52.Sert\",\n",
    "                                          \"Neuro.pool1_17_D52.Epen1\",\"Neuro.pool1_17_D52.Astro\",\n",
    "                                          \"Neuro.pool1_17_D52.ROT.DA\",\"Neuro.pool1_17_D52.ROT.Sert\",\n",
    "                                          \"Neuro.pool1_17_D52.ROT.Epen1\",\"Neuro.pool1_17_D52.ROT.Astro\",\n",
    "                                          \"Brain_Substantia_nigra\")))) +  \n",
    "    geom_violin() + \n",
    "    geom_boxplot(width = 0.2) + scale_fill_manual(values = c(col_ips,\n",
    "                            col_FPP,col_P_FPP,\n",
    "                            col_FPP,col_DA,col_Sert,col_Epen1,\n",
    "                            col_DA,col_Sert,col_Epen1,col_Astro,\n",
    "                            col_DA,col_Sert,col_Epen1,col_Astro,\n",
    "                            \"gold\"))+ theme_classic() + \n",
    "                            theme(legend.position = \"none\", axis.text.x = element_text(angle = 90)) \n",
    "p"
   ]
  },
  {
   "cell_type": "code",
   "execution_count": 27,
   "metadata": {},
   "outputs": [
    {
     "data": {
      "text/html": [
       "<strong>png:</strong> 2"
      ],
      "text/latex": [
       "\\textbf{png:} 2"
      ],
      "text/markdown": [
       "**png:** 2"
      ],
      "text/plain": [
       "png \n",
       "  2 "
      ]
     },
     "metadata": {},
     "output_type": "display_data"
    }
   ],
   "source": [
    "fig_dir = \"/hps/nobackup/stegle/users/acuomo/all_scripts/sc_neuroseq/figures/extended_figures/\"\n",
    "\n",
    "pdf(paste0(fig_dir,\"Supp_Fig_6b.pdf\"), width=10, height=7)\n",
    "p\n",
    "dev.off()"
   ]
  },
  {
   "cell_type": "code",
   "execution_count": null,
   "metadata": {},
   "outputs": [],
   "source": []
  }
 ],
 "metadata": {
  "kernelspec": {
   "display_name": "R",
   "language": "R",
   "name": "ir"
  },
  "language_info": {
   "codemirror_mode": "r",
   "file_extension": ".r",
   "mimetype": "text/x-r-source",
   "name": "R",
   "pygments_lexer": "r",
   "version": "3.6.1"
  }
 },
 "nbformat": 4,
 "nbformat_minor": 4
}
