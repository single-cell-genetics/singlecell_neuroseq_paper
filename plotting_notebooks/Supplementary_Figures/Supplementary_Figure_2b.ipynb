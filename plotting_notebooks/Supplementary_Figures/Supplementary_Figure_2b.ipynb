{
 "cells": [
  {
   "cell_type": "code",
   "execution_count": 1,
   "metadata": {},
   "outputs": [
    {
     "name": "stderr",
     "output_type": "stream",
     "text": [
      "\n",
      "Attaching package: ‘dplyr’\n",
      "\n",
      "The following objects are masked from ‘package:stats’:\n",
      "\n",
      "    filter, lag\n",
      "\n",
      "The following objects are masked from ‘package:base’:\n",
      "\n",
      "    intersect, setdiff, setequal, union\n",
      "\n"
     ]
    }
   ],
   "source": [
    "library(dplyr)"
   ]
  },
  {
   "cell_type": "code",
   "execution_count": 2,
   "metadata": {},
   "outputs": [],
   "source": [
    "mydir = '/nfs/leia/research/stegle/dseaton/hipsci/singlecell_neuroseq/data/data_processed/'"
   ]
  },
  {
   "cell_type": "code",
   "execution_count": 3,
   "metadata": {},
   "outputs": [],
   "source": [
    "# Day 11\n",
    "prefix = \"pool1_13_noddd_D11/pool1_13_noddd_D11.scanpy.w_metadata.w_celltype.scanpy.celltype.\"\n",
    "suffix = \".groupedby.donor_id-pool_id-celltype.mean.tsv\""
   ]
  },
  {
   "cell_type": "code",
   "execution_count": 4,
   "metadata": {},
   "outputs": [],
   "source": [
    "celltypes = c(\"FPP\",\"P_FPP\",\"NB\")"
   ]
  },
  {
   "cell_type": "code",
   "execution_count": 5,
   "metadata": {},
   "outputs": [
    {
     "name": "stdout",
     "output_type": "stream",
     "text": [
      "[1] 6642\n",
      "[1] 7512\n"
     ]
    },
    {
     "name": "stderr",
     "output_type": "stream",
     "text": [
      "Warning message in bind_rows_(x, .id):\n",
      "“Unequal factor levels: coercing to character”Warning message in bind_rows_(x, .id):\n",
      "“binding character and factor vector, coercing into character vector”Warning message in bind_rows_(x, .id):\n",
      "“binding character and factor vector, coercing into character vector”Warning message in bind_rows_(x, .id):\n",
      "“Unequal factor levels: coercing to character”Warning message in bind_rows_(x, .id):\n",
      "“binding character and factor vector, coercing into character vector”Warning message in bind_rows_(x, .id):\n",
      "“binding character and factor vector, coercing into character vector”"
     ]
    },
    {
     "name": "stdout",
     "output_type": "stream",
     "text": [
      "[1] 6416\n"
     ]
    },
    {
     "name": "stderr",
     "output_type": "stream",
     "text": [
      "Warning message in bind_rows_(x, .id):\n",
      "“binding character and factor vector, coercing into character vector”Warning message in bind_rows_(x, .id):\n",
      "“binding character and factor vector, coercing into character vector”"
     ]
    }
   ],
   "source": [
    "df = data.frame()\n",
    "for (celltype in celltypes){\n",
    "    filename = paste0(mydir,prefix,celltype,suffix)\n",
    "    print(ncol(read.csv(filename, sep ='\\t')))\n",
    "    df = bind_rows(df,read.csv(filename, sep ='\\t'))\n",
    "    \n",
    "} "
   ]
  },
  {
   "cell_type": "code",
   "execution_count": 6,
   "metadata": {},
   "outputs": [
    {
     "data": {
      "text/html": [
       "476"
      ],
      "text/latex": [
       "476"
      ],
      "text/markdown": [
       "476"
      ],
      "text/plain": [
       "[1] 476"
      ]
     },
     "metadata": {},
     "output_type": "display_data"
    },
    {
     "data": {
      "text/html": [
       "7815"
      ],
      "text/latex": [
       "7815"
      ],
      "text/markdown": [
       "7815"
      ],
      "text/plain": [
       "[1] 7815"
      ]
     },
     "metadata": {},
     "output_type": "display_data"
    },
    {
     "data": {
      "text/html": [
       "<table>\n",
       "<thead><tr><th scope=col>donor_id</th><th scope=col>pool_id</th><th scope=col>celltype</th><th scope=col>n_cells</th><th scope=col>AP006222.2</th><th scope=col>NOC2L</th><th scope=col>HES4</th><th scope=col>ISG15</th><th scope=col>AGRN</th><th scope=col>SDF4</th></tr></thead>\n",
       "<tbody>\n",
       "\t<tr><td>HPSI0114i-eipl_1</td><td>pool1           </td><td>FPP             </td><td>1672            </td><td>0.1818757       </td><td>0.4284513       </td><td>0.5028253       </td><td>0.1026510       </td><td>0.08505148      </td><td>0.3155400       </td></tr>\n",
       "\t<tr><td>HPSI0114i-kolf_2</td><td>pool12          </td><td>FPP             </td><td> 334            </td><td>0.1290806       </td><td>0.2929154       </td><td>0.3688705       </td><td>0.1298105       </td><td>0.03696265      </td><td>0.2554750       </td></tr>\n",
       "\t<tr><td>HPSI0114i-wegi_1</td><td>pool6           </td><td>FPP             </td><td>2478            </td><td>0.1364839       </td><td>0.3633004       </td><td>0.5243082       </td><td>0.2357602       </td><td>0.05533171      </td><td>0.1814124       </td></tr>\n",
       "\t<tr><td>HPSI0114i-wegi_1</td><td>pool7           </td><td>FPP             </td><td> 151            </td><td>0.2138128       </td><td>0.3278713       </td><td>0.1149412       </td><td>0.2068751       </td><td>0.04422506      </td><td>0.1201481       </td></tr>\n",
       "\t<tr><td>HPSI0115i-aion_2</td><td>pool4           </td><td>FPP             </td><td> 406            </td><td>0.1798693       </td><td>0.3145946       </td><td>0.7716492       </td><td>0.2128632       </td><td>0.08480867      </td><td>0.2694515       </td></tr>\n",
       "</tbody>\n",
       "</table>\n"
      ],
      "text/latex": [
       "\\begin{tabular}{r|llllllllll}\n",
       " donor\\_id & pool\\_id & celltype & n\\_cells & AP006222.2 & NOC2L & HES4 & ISG15 & AGRN & SDF4\\\\\n",
       "\\hline\n",
       "\t HPSI0114i-eipl\\_1 & pool1              & FPP                & 1672               & 0.1818757          & 0.4284513          & 0.5028253          & 0.1026510          & 0.08505148         & 0.3155400         \\\\\n",
       "\t HPSI0114i-kolf\\_2 & pool12             & FPP                &  334               & 0.1290806          & 0.2929154          & 0.3688705          & 0.1298105          & 0.03696265         & 0.2554750         \\\\\n",
       "\t HPSI0114i-wegi\\_1 & pool6              & FPP                & 2478               & 0.1364839          & 0.3633004          & 0.5243082          & 0.2357602          & 0.05533171         & 0.1814124         \\\\\n",
       "\t HPSI0114i-wegi\\_1 & pool7              & FPP                &  151               & 0.2138128          & 0.3278713          & 0.1149412          & 0.2068751          & 0.04422506         & 0.1201481         \\\\\n",
       "\t HPSI0115i-aion\\_2 & pool4              & FPP                &  406               & 0.1798693          & 0.3145946          & 0.7716492          & 0.2128632          & 0.08480867         & 0.2694515         \\\\\n",
       "\\end{tabular}\n"
      ],
      "text/markdown": [
       "\n",
       "| donor_id | pool_id | celltype | n_cells | AP006222.2 | NOC2L | HES4 | ISG15 | AGRN | SDF4 |\n",
       "|---|---|---|---|---|---|---|---|---|---|\n",
       "| HPSI0114i-eipl_1 | pool1            | FPP              | 1672             | 0.1818757        | 0.4284513        | 0.5028253        | 0.1026510        | 0.08505148       | 0.3155400        |\n",
       "| HPSI0114i-kolf_2 | pool12           | FPP              |  334             | 0.1290806        | 0.2929154        | 0.3688705        | 0.1298105        | 0.03696265       | 0.2554750        |\n",
       "| HPSI0114i-wegi_1 | pool6            | FPP              | 2478             | 0.1364839        | 0.3633004        | 0.5243082        | 0.2357602        | 0.05533171       | 0.1814124        |\n",
       "| HPSI0114i-wegi_1 | pool7            | FPP              |  151             | 0.2138128        | 0.3278713        | 0.1149412        | 0.2068751        | 0.04422506       | 0.1201481        |\n",
       "| HPSI0115i-aion_2 | pool4            | FPP              |  406             | 0.1798693        | 0.3145946        | 0.7716492        | 0.2128632        | 0.08480867       | 0.2694515        |\n",
       "\n"
      ],
      "text/plain": [
       "  donor_id         pool_id celltype n_cells AP006222.2 NOC2L     HES4     \n",
       "1 HPSI0114i-eipl_1 pool1   FPP      1672    0.1818757  0.4284513 0.5028253\n",
       "2 HPSI0114i-kolf_2 pool12  FPP       334    0.1290806  0.2929154 0.3688705\n",
       "3 HPSI0114i-wegi_1 pool6   FPP      2478    0.1364839  0.3633004 0.5243082\n",
       "4 HPSI0114i-wegi_1 pool7   FPP       151    0.2138128  0.3278713 0.1149412\n",
       "5 HPSI0115i-aion_2 pool4   FPP       406    0.1798693  0.3145946 0.7716492\n",
       "  ISG15     AGRN       SDF4     \n",
       "1 0.1026510 0.08505148 0.3155400\n",
       "2 0.1298105 0.03696265 0.2554750\n",
       "3 0.2357602 0.05533171 0.1814124\n",
       "4 0.2068751 0.04422506 0.1201481\n",
       "5 0.2128632 0.08480867 0.2694515"
      ]
     },
     "metadata": {},
     "output_type": "display_data"
    }
   ],
   "source": [
    "nrow(df)\n",
    "ncol(df)\n",
    "df[1:5,1:10]"
   ]
  },
  {
   "cell_type": "code",
   "execution_count": 7,
   "metadata": {},
   "outputs": [],
   "source": [
    "df = df[,colSums(is.na(df))==0]"
   ]
  },
  {
   "cell_type": "code",
   "execution_count": 8,
   "metadata": {},
   "outputs": [
    {
     "data": {
      "text/html": [
       "476"
      ],
      "text/latex": [
       "476"
      ],
      "text/markdown": [
       "476"
      ],
      "text/plain": [
       "[1] 476"
      ]
     },
     "metadata": {},
     "output_type": "display_data"
    },
    {
     "data": {
      "text/html": [
       "6017"
      ],
      "text/latex": [
       "6017"
      ],
      "text/markdown": [
       "6017"
      ],
      "text/plain": [
       "[1] 6017"
      ]
     },
     "metadata": {},
     "output_type": "display_data"
    },
    {
     "data": {
      "text/html": [
       "<table>\n",
       "<thead><tr><th scope=col>donor_id</th><th scope=col>pool_id</th><th scope=col>celltype</th><th scope=col>n_cells</th><th scope=col>AP006222.2</th><th scope=col>NOC2L</th><th scope=col>HES4</th><th scope=col>ISG15</th><th scope=col>AGRN</th><th scope=col>SDF4</th></tr></thead>\n",
       "<tbody>\n",
       "\t<tr><td>HPSI0114i-eipl_1</td><td>pool1           </td><td>FPP             </td><td>1672            </td><td>0.1818757       </td><td>0.4284513       </td><td>0.5028253       </td><td>0.1026510       </td><td>0.08505148      </td><td>0.3155400       </td></tr>\n",
       "\t<tr><td>HPSI0114i-kolf_2</td><td>pool12          </td><td>FPP             </td><td> 334            </td><td>0.1290806       </td><td>0.2929154       </td><td>0.3688705       </td><td>0.1298105       </td><td>0.03696265      </td><td>0.2554750       </td></tr>\n",
       "\t<tr><td>HPSI0114i-wegi_1</td><td>pool6           </td><td>FPP             </td><td>2478            </td><td>0.1364839       </td><td>0.3633004       </td><td>0.5243082       </td><td>0.2357602       </td><td>0.05533171      </td><td>0.1814124       </td></tr>\n",
       "\t<tr><td>HPSI0114i-wegi_1</td><td>pool7           </td><td>FPP             </td><td> 151            </td><td>0.2138128       </td><td>0.3278713       </td><td>0.1149412       </td><td>0.2068751       </td><td>0.04422506      </td><td>0.1201481       </td></tr>\n",
       "\t<tr><td>HPSI0115i-aion_2</td><td>pool4           </td><td>FPP             </td><td> 406            </td><td>0.1798693       </td><td>0.3145946       </td><td>0.7716492       </td><td>0.2128632       </td><td>0.08480867      </td><td>0.2694515       </td></tr>\n",
       "</tbody>\n",
       "</table>\n"
      ],
      "text/latex": [
       "\\begin{tabular}{r|llllllllll}\n",
       " donor\\_id & pool\\_id & celltype & n\\_cells & AP006222.2 & NOC2L & HES4 & ISG15 & AGRN & SDF4\\\\\n",
       "\\hline\n",
       "\t HPSI0114i-eipl\\_1 & pool1              & FPP                & 1672               & 0.1818757          & 0.4284513          & 0.5028253          & 0.1026510          & 0.08505148         & 0.3155400         \\\\\n",
       "\t HPSI0114i-kolf\\_2 & pool12             & FPP                &  334               & 0.1290806          & 0.2929154          & 0.3688705          & 0.1298105          & 0.03696265         & 0.2554750         \\\\\n",
       "\t HPSI0114i-wegi\\_1 & pool6              & FPP                & 2478               & 0.1364839          & 0.3633004          & 0.5243082          & 0.2357602          & 0.05533171         & 0.1814124         \\\\\n",
       "\t HPSI0114i-wegi\\_1 & pool7              & FPP                &  151               & 0.2138128          & 0.3278713          & 0.1149412          & 0.2068751          & 0.04422506         & 0.1201481         \\\\\n",
       "\t HPSI0115i-aion\\_2 & pool4              & FPP                &  406               & 0.1798693          & 0.3145946          & 0.7716492          & 0.2128632          & 0.08480867         & 0.2694515         \\\\\n",
       "\\end{tabular}\n"
      ],
      "text/markdown": [
       "\n",
       "| donor_id | pool_id | celltype | n_cells | AP006222.2 | NOC2L | HES4 | ISG15 | AGRN | SDF4 |\n",
       "|---|---|---|---|---|---|---|---|---|---|\n",
       "| HPSI0114i-eipl_1 | pool1            | FPP              | 1672             | 0.1818757        | 0.4284513        | 0.5028253        | 0.1026510        | 0.08505148       | 0.3155400        |\n",
       "| HPSI0114i-kolf_2 | pool12           | FPP              |  334             | 0.1290806        | 0.2929154        | 0.3688705        | 0.1298105        | 0.03696265       | 0.2554750        |\n",
       "| HPSI0114i-wegi_1 | pool6            | FPP              | 2478             | 0.1364839        | 0.3633004        | 0.5243082        | 0.2357602        | 0.05533171       | 0.1814124        |\n",
       "| HPSI0114i-wegi_1 | pool7            | FPP              |  151             | 0.2138128        | 0.3278713        | 0.1149412        | 0.2068751        | 0.04422506       | 0.1201481        |\n",
       "| HPSI0115i-aion_2 | pool4            | FPP              |  406             | 0.1798693        | 0.3145946        | 0.7716492        | 0.2128632        | 0.08480867       | 0.2694515        |\n",
       "\n"
      ],
      "text/plain": [
       "  donor_id         pool_id celltype n_cells AP006222.2 NOC2L     HES4     \n",
       "1 HPSI0114i-eipl_1 pool1   FPP      1672    0.1818757  0.4284513 0.5028253\n",
       "2 HPSI0114i-kolf_2 pool12  FPP       334    0.1290806  0.2929154 0.3688705\n",
       "3 HPSI0114i-wegi_1 pool6   FPP      2478    0.1364839  0.3633004 0.5243082\n",
       "4 HPSI0114i-wegi_1 pool7   FPP       151    0.2138128  0.3278713 0.1149412\n",
       "5 HPSI0115i-aion_2 pool4   FPP       406    0.1798693  0.3145946 0.7716492\n",
       "  ISG15     AGRN       SDF4     \n",
       "1 0.1026510 0.08505148 0.3155400\n",
       "2 0.1298105 0.03696265 0.2554750\n",
       "3 0.2357602 0.05533171 0.1814124\n",
       "4 0.2068751 0.04422506 0.1201481\n",
       "5 0.2128632 0.08480867 0.2694515"
      ]
     },
     "metadata": {},
     "output_type": "display_data"
    }
   ],
   "source": [
    "nrow(df)\n",
    "ncol(df)\n",
    "df[1:5,1:10]"
   ]
  },
  {
   "cell_type": "code",
   "execution_count": 9,
   "metadata": {},
   "outputs": [],
   "source": [
    "df_day11 = df\n",
    "# write.csv(df_day11,\"/hps/nobackup/stegle/users/acuomo/all_scripts/sc_neuroseq/day11_pseudobulk_mean_groupedby_donor_pool_celltype.csv\")"
   ]
  },
  {
   "cell_type": "code",
   "execution_count": null,
   "metadata": {},
   "outputs": [],
   "source": []
  },
  {
   "cell_type": "code",
   "execution_count": null,
   "metadata": {},
   "outputs": [],
   "source": []
  },
  {
   "cell_type": "code",
   "execution_count": 10,
   "metadata": {},
   "outputs": [],
   "source": [
    "# Day 30\n",
    "prefix = \"pool1_13_noddd_D30/pool1_13_noddd_D30.scanpy.w_metadata.w_celltype.scanpy.celltype.\"\n",
    "suffix = \".groupedby.donor_id-pool_id-celltype.mean.tsv\""
   ]
  },
  {
   "cell_type": "code",
   "execution_count": 11,
   "metadata": {},
   "outputs": [],
   "source": [
    "celltypes = c(\"DA\",\"Sert\",\"Epen1\",\"Astro\")"
   ]
  },
  {
   "cell_type": "code",
   "execution_count": 12,
   "metadata": {},
   "outputs": [
    {
     "name": "stdout",
     "output_type": "stream",
     "text": [
      "[1] 12337\n",
      "[1] 13633\n"
     ]
    },
    {
     "name": "stderr",
     "output_type": "stream",
     "text": [
      "Warning message in bind_rows_(x, .id):\n",
      "“Unequal factor levels: coercing to character”Warning message in bind_rows_(x, .id):\n",
      "“binding character and factor vector, coercing into character vector”Warning message in bind_rows_(x, .id):\n",
      "“binding character and factor vector, coercing into character vector”Warning message in bind_rows_(x, .id):\n",
      "“Unequal factor levels: coercing to character”Warning message in bind_rows_(x, .id):\n",
      "“binding character and factor vector, coercing into character vector”Warning message in bind_rows_(x, .id):\n",
      "“binding character and factor vector, coercing into character vector”"
     ]
    },
    {
     "name": "stdout",
     "output_type": "stream",
     "text": [
      "[1] 14846\n"
     ]
    },
    {
     "name": "stderr",
     "output_type": "stream",
     "text": [
      "Warning message in bind_rows_(x, .id):\n",
      "“binding character and factor vector, coercing into character vector”Warning message in bind_rows_(x, .id):\n",
      "“binding character and factor vector, coercing into character vector”"
     ]
    }
   ],
   "source": [
    "df = data.frame()\n",
    "for (celltype in celltypes){\n",
    "    filename = paste0(mydir,prefix,celltype,suffix)\n",
    "    print(ncol(read.csv(filename, sep ='\\t')))\n",
    "    df = bind_rows(df,read.csv(filename, sep ='\\t'))\n",
    "    \n",
    "} "
   ]
  },
  {
   "cell_type": "code",
   "execution_count": null,
   "metadata": {},
   "outputs": [],
   "source": [
    "nrow(df)\n",
    "ncol(df)\n",
    "df[1:5,1:10]"
   ]
  },
  {
   "cell_type": "code",
   "execution_count": null,
   "metadata": {},
   "outputs": [],
   "source": [
    "df = df[,colSums(is.na(df))==0]"
   ]
  },
  {
   "cell_type": "code",
   "execution_count": null,
   "metadata": {},
   "outputs": [],
   "source": [
    "nrow(df)\n",
    "ncol(df)\n",
    "df[1:5,1:10]"
   ]
  },
  {
   "cell_type": "code",
   "execution_count": null,
   "metadata": {},
   "outputs": [],
   "source": [
    "df_day30 = df\n",
    "# write.csv(df_day30,\"/hps/nobackup/stegle/users/acuomo/all_scripts/sc_neuroseq/day30_pseudobulk_mean_groupedby_donor_pool_celltype.csv\")"
   ]
  },
  {
   "cell_type": "code",
   "execution_count": null,
   "metadata": {},
   "outputs": [],
   "source": []
  },
  {
   "cell_type": "code",
   "execution_count": null,
   "metadata": {},
   "outputs": [],
   "source": [
    "# Day 52\n",
    "prefix = \"pool1_17_D52/pool1_17_D52.scanpy.w_metadata.w_celltype.scanpy.celltype.\"\n",
    "suffix = \".groupedby.donor_id-pool_id-celltype-treatment.mean.tsv\""
   ]
  },
  {
   "cell_type": "code",
   "execution_count": null,
   "metadata": {},
   "outputs": [],
   "source": [
    "celltypes = c(\"DA\",\"Sert\",\"Epen1\",\"Astro\")"
   ]
  },
  {
   "cell_type": "code",
   "execution_count": null,
   "metadata": {},
   "outputs": [],
   "source": [
    "df = data.frame()\n",
    "for (celltype in celltypes){\n",
    "    filename = paste0(mydir,prefix,celltype,suffix)\n",
    "    print(ncol(read.csv(filename, sep ='\\t')))\n",
    "    df = bind_rows(df,read.csv(filename, sep ='\\t'))\n",
    "    \n",
    "} "
   ]
  },
  {
   "cell_type": "code",
   "execution_count": null,
   "metadata": {},
   "outputs": [],
   "source": [
    "nrow(df)\n",
    "ncol(df)\n",
    "df[1:5,1:10]"
   ]
  },
  {
   "cell_type": "code",
   "execution_count": null,
   "metadata": {},
   "outputs": [],
   "source": [
    "df = df[,colSums(is.na(df))==0]"
   ]
  },
  {
   "cell_type": "code",
   "execution_count": null,
   "metadata": {},
   "outputs": [],
   "source": [
    "nrow(df)\n",
    "ncol(df)\n",
    "df[1:5,1:10]"
   ]
  },
  {
   "cell_type": "code",
   "execution_count": null,
   "metadata": {},
   "outputs": [],
   "source": [
    "df_day52 = df\n",
    "# write.csv(df_day52, \"/hps/nobackup/stegle/users/acuomo/all_scripts/sc_neuroseq/day52_pseudobulk_mean_groupedby_donor_pool_celltype_treatment.csv\")"
   ]
  },
  {
   "cell_type": "code",
   "execution_count": null,
   "metadata": {},
   "outputs": [],
   "source": []
  },
  {
   "cell_type": "code",
   "execution_count": null,
   "metadata": {},
   "outputs": [],
   "source": [
    "genes_day11 = colnames(df_day11)[5:ncol(df_day11)]\n",
    "genes_day30 = colnames(df_day30)[5:ncol(df_day30)]\n",
    "genes_day52 = colnames(df_day52)[6:ncol(df_day52)]"
   ]
  },
  {
   "cell_type": "code",
   "execution_count": null,
   "metadata": {},
   "outputs": [],
   "source": [
    "genes1 = genes_day11[genes_day11 %in% genes_day30]\n",
    "common_genes = genes1[genes1 %in% genes_day52]\n",
    "length(common_genes)"
   ]
  },
  {
   "cell_type": "code",
   "execution_count": null,
   "metadata": {},
   "outputs": [],
   "source": []
  },
  {
   "cell_type": "code",
   "execution_count": null,
   "metadata": {},
   "outputs": [],
   "source": [
    "df_day11$time_point = 'Day11'\n",
    "df_day30$time_point = 'Day30'\n",
    "df_day52$time_point = 'Day52'\n",
    "df_day11$treatment = 'NONE'\n",
    "df_day30$treatment = 'NONE'\n",
    "common_cols = c(\"donor_id\",\"pool_id\",\"celltype\",\"treatment\",\"n_cells\",\"time_point\", common_genes)\n",
    "df_all = rbind(df_day11[,common_cols],\n",
    "               df_day30[,common_cols],\n",
    "               df_day52[,common_cols])"
   ]
  },
  {
   "cell_type": "code",
   "execution_count": null,
   "metadata": {},
   "outputs": [],
   "source": [
    "c(nrow(df_all), ncol(df_all))\n",
    "df_all[1:5,1:10]"
   ]
  },
  {
   "cell_type": "code",
   "execution_count": null,
   "metadata": {},
   "outputs": [],
   "source": []
  },
  {
   "cell_type": "code",
   "execution_count": null,
   "metadata": {},
   "outputs": [],
   "source": []
  },
  {
   "cell_type": "code",
   "execution_count": null,
   "metadata": {},
   "outputs": [],
   "source": [
    "library(lme4)"
   ]
  },
  {
   "cell_type": "code",
   "execution_count": null,
   "metadata": {},
   "outputs": [],
   "source": [
    "common_genes[1]"
   ]
  },
  {
   "cell_type": "code",
   "execution_count": null,
   "metadata": {},
   "outputs": [],
   "source": [
    "lmm <- lmer(AP006222.2 ~ (1 | donor_id) + (1 | pool_id) + (1 | celltype) + (1 | time_point) + (1 | treatment), \n",
    "            data = df_all, REML = F)"
   ]
  },
  {
   "cell_type": "code",
   "execution_count": null,
   "metadata": {},
   "outputs": [],
   "source": [
    "# summary(lmm)"
   ]
  },
  {
   "cell_type": "code",
   "execution_count": null,
   "metadata": {},
   "outputs": [],
   "source": [
    "donor = summary(lmm)$varcor$donor_id[1,1]\n",
    "pool = summary(lmm)$varcor$pool_id[1,1]\n",
    "celltype = summary(lmm)$varcor$celltype[1,1]\n",
    "time_point = summary(lmm)$varcor$time_point[1,1]\n",
    "treatment = summary(lmm)$varcor$treatment[1,1]\n",
    "residual = summary(lmm)$sigma **2\n",
    "sum = donor+pool+celltype+time_point+treatment+residual"
   ]
  },
  {
   "cell_type": "code",
   "execution_count": null,
   "metadata": {},
   "outputs": [],
   "source": [
    "library(ggplot2)"
   ]
  },
  {
   "cell_type": "code",
   "execution_count": null,
   "metadata": {},
   "outputs": [],
   "source": [
    "options(repr.plot.width = 10, repr.plot.height = 5)\n",
    "df = data.frame(component = c(\"donor\",\"pool\",\"celltype\",\"time_point\",\"treatment\",\"z_residual\"),\n",
    "               variance = c(donor/sum, pool/sum, celltype/sum, time_point/sum, treatment/sum, residual/sum))\n",
    "p = ggplot(df, aes(x = component, y = variance*100, fill = component)) + geom_bar(stat=\"identity\")\n",
    "p + xlab(\"\") + ylab(\"% variance explained\")"
   ]
  },
  {
   "cell_type": "code",
   "execution_count": null,
   "metadata": {},
   "outputs": [],
   "source": [
    "mat = matrix(0,nrow=length(common_genes),ncol = 6)\n",
    "k = 0\n",
    "for (gene in common_genes){\n",
    "    k = k+1\n",
    "    df = df_all[,c(\"donor_id\",\"pool_id\",\"celltype\",\"treatment\",\"n_cells\",\"time_point\", gene)]\n",
    "    colnames(df)[7] = \"gene\"\n",
    "    lmm <- lmer(gene ~ (1 | donor_id) + (1 | pool_id) + (1 | celltype) + (1 | time_point) + (1 | treatment), \n",
    "            data = df, REML = F)\n",
    "    donor = summary(lmm)$varcor$donor_id[1,1]\n",
    "    pool = summary(lmm)$varcor$pool_id[1,1]\n",
    "    celltype = summary(lmm)$varcor$celltype[1,1]\n",
    "    time_point = summary(lmm)$varcor$time_point[1,1]\n",
    "    treatment = summary(lmm)$varcor$treatment[1,1]\n",
    "    residual = summary(lmm)$sigma **2\n",
    "    sum = donor+pool+celltype+time_point+treatment+residual\n",
    "    mat[k,] = c(donor, pool, celltype, time_point, treatment, residual)/sum\n",
    "#     print(mat[k,])\n",
    "}"
   ]
  },
  {
   "cell_type": "code",
   "execution_count": null,
   "metadata": {
    "scrolled": true
   },
   "outputs": [],
   "source": [
    "# mat1 = mat[1:100,]\n",
    "mat1 = mat"
   ]
  },
  {
   "cell_type": "code",
   "execution_count": null,
   "metadata": {},
   "outputs": [],
   "source": [
    "df1 = as.data.frame(mat1)\n",
    "colnames(df1) = c(c(\"donor_id\",\"pool_id\",\"celltype\",\"treatment\",\"time_point\",\"z_res\"))\n",
    "rownames(df1) = common_genes#[1:100]\n",
    "head(df1)"
   ]
  },
  {
   "cell_type": "code",
   "execution_count": null,
   "metadata": {},
   "outputs": [],
   "source": [
    "write.csv(df1, \"/hps/nobackup/stegle/users/acuomo/all_scripts/sc_neuroseq/variance_component_analysis.csv\")"
   ]
  },
  {
   "cell_type": "code",
   "execution_count": 13,
   "metadata": {},
   "outputs": [
    {
     "data": {
      "text/html": [
       "<table>\n",
       "<thead><tr><th></th><th scope=col>donor_id</th><th scope=col>pool_id</th><th scope=col>celltype</th><th scope=col>treatment</th><th scope=col>time_point</th><th scope=col>z_res</th></tr></thead>\n",
       "<tbody>\n",
       "\t<tr><th scope=row>AP006222.2</th><td>0.048853123 </td><td>0.04792794  </td><td>0.35412641  </td><td>0.046909433 </td><td>0.0185389068</td><td>0.4836442   </td></tr>\n",
       "\t<tr><th scope=row>NOC2L</th><td>0.001083453 </td><td>0.21679576  </td><td>0.14916837  </td><td>0.008406566 </td><td>0.0444217226</td><td>0.5801241   </td></tr>\n",
       "\t<tr><th scope=row>HES4</th><td>0.040373640 </td><td>0.03741172  </td><td>0.20091495  </td><td>0.508110133 </td><td>0.0000000000</td><td>0.2131896   </td></tr>\n",
       "\t<tr><th scope=row>ISG15</th><td>0.000000000 </td><td>0.43428255  </td><td>0.09088925  </td><td>0.107749475 </td><td>0.0327067581</td><td>0.3343720   </td></tr>\n",
       "\t<tr><th scope=row>AGRN</th><td>0.036769395 </td><td>0.07400895  </td><td>0.08687284  </td><td>0.118191507 </td><td>0.0027135501</td><td>0.6814438   </td></tr>\n",
       "\t<tr><th scope=row>SDF4</th><td>0.005659288 </td><td>0.13935561  </td><td>0.30161674  </td><td>0.344838695 </td><td>0.0005513193</td><td>0.2079783   </td></tr>\n",
       "</tbody>\n",
       "</table>\n"
      ],
      "text/latex": [
       "\\begin{tabular}{r|llllll}\n",
       "  & donor\\_id & pool\\_id & celltype & treatment & time\\_point & z\\_res\\\\\n",
       "\\hline\n",
       "\tAP006222.2 & 0.048853123  & 0.04792794   & 0.35412641   & 0.046909433  & 0.0185389068 & 0.4836442   \\\\\n",
       "\tNOC2L & 0.001083453  & 0.21679576   & 0.14916837   & 0.008406566  & 0.0444217226 & 0.5801241   \\\\\n",
       "\tHES4 & 0.040373640  & 0.03741172   & 0.20091495   & 0.508110133  & 0.0000000000 & 0.2131896   \\\\\n",
       "\tISG15 & 0.000000000  & 0.43428255   & 0.09088925   & 0.107749475  & 0.0327067581 & 0.3343720   \\\\\n",
       "\tAGRN & 0.036769395  & 0.07400895   & 0.08687284   & 0.118191507  & 0.0027135501 & 0.6814438   \\\\\n",
       "\tSDF4 & 0.005659288  & 0.13935561   & 0.30161674   & 0.344838695  & 0.0005513193 & 0.2079783   \\\\\n",
       "\\end{tabular}\n"
      ],
      "text/markdown": [
       "\n",
       "| <!--/--> | donor_id | pool_id | celltype | treatment | time_point | z_res |\n",
       "|---|---|---|---|---|---|---|\n",
       "| AP006222.2 | 0.048853123  | 0.04792794   | 0.35412641   | 0.046909433  | 0.0185389068 | 0.4836442    |\n",
       "| NOC2L | 0.001083453  | 0.21679576   | 0.14916837   | 0.008406566  | 0.0444217226 | 0.5801241    |\n",
       "| HES4 | 0.040373640  | 0.03741172   | 0.20091495   | 0.508110133  | 0.0000000000 | 0.2131896    |\n",
       "| ISG15 | 0.000000000  | 0.43428255   | 0.09088925   | 0.107749475  | 0.0327067581 | 0.3343720    |\n",
       "| AGRN | 0.036769395  | 0.07400895   | 0.08687284   | 0.118191507  | 0.0027135501 | 0.6814438    |\n",
       "| SDF4 | 0.005659288  | 0.13935561   | 0.30161674   | 0.344838695  | 0.0005513193 | 0.2079783    |\n",
       "\n"
      ],
      "text/plain": [
       "           donor_id    pool_id    celltype   treatment   time_point   z_res    \n",
       "AP006222.2 0.048853123 0.04792794 0.35412641 0.046909433 0.0185389068 0.4836442\n",
       "NOC2L      0.001083453 0.21679576 0.14916837 0.008406566 0.0444217226 0.5801241\n",
       "HES4       0.040373640 0.03741172 0.20091495 0.508110133 0.0000000000 0.2131896\n",
       "ISG15      0.000000000 0.43428255 0.09088925 0.107749475 0.0327067581 0.3343720\n",
       "AGRN       0.036769395 0.07400895 0.08687284 0.118191507 0.0027135501 0.6814438\n",
       "SDF4       0.005659288 0.13935561 0.30161674 0.344838695 0.0005513193 0.2079783"
      ]
     },
     "metadata": {},
     "output_type": "display_data"
    }
   ],
   "source": [
    "df1 = read.csv(\"/hps/nobackup/stegle/users/acuomo/all_scripts/sc_neuroseq/variance_component_analysis.csv\", row.names = 1)\n",
    "head(df1)"
   ]
  },
  {
   "cell_type": "code",
   "execution_count": 14,
   "metadata": {},
   "outputs": [
    {
     "name": "stderr",
     "output_type": "stream",
     "text": [
      "\n",
      "Attaching package: ‘reshape’\n",
      "\n",
      "The following object is masked from ‘package:dplyr’:\n",
      "\n",
      "    rename\n",
      "\n"
     ]
    }
   ],
   "source": [
    "library(reshape)"
   ]
  },
  {
   "cell_type": "code",
   "execution_count": 15,
   "metadata": {},
   "outputs": [
    {
     "name": "stderr",
     "output_type": "stream",
     "text": [
      "Using  as id variables\n"
     ]
    },
    {
     "data": {
      "text/html": [
       "<table>\n",
       "<thead><tr><th scope=col>variable</th><th scope=col>value</th></tr></thead>\n",
       "<tbody>\n",
       "\t<tr><td>donor_id   </td><td>0.048853123</td></tr>\n",
       "\t<tr><td>donor_id   </td><td>0.001083453</td></tr>\n",
       "\t<tr><td>donor_id   </td><td>0.040373640</td></tr>\n",
       "\t<tr><td>donor_id   </td><td>0.000000000</td></tr>\n",
       "\t<tr><td>donor_id   </td><td>0.036769395</td></tr>\n",
       "\t<tr><td>donor_id   </td><td>0.005659288</td></tr>\n",
       "</tbody>\n",
       "</table>\n"
      ],
      "text/latex": [
       "\\begin{tabular}{r|ll}\n",
       " variable & value\\\\\n",
       "\\hline\n",
       "\t donor\\_id  & 0.048853123\\\\\n",
       "\t donor\\_id  & 0.001083453\\\\\n",
       "\t donor\\_id  & 0.040373640\\\\\n",
       "\t donor\\_id  & 0.000000000\\\\\n",
       "\t donor\\_id  & 0.036769395\\\\\n",
       "\t donor\\_id  & 0.005659288\\\\\n",
       "\\end{tabular}\n"
      ],
      "text/markdown": [
       "\n",
       "| variable | value |\n",
       "|---|---|\n",
       "| donor_id    | 0.048853123 |\n",
       "| donor_id    | 0.001083453 |\n",
       "| donor_id    | 0.040373640 |\n",
       "| donor_id    | 0.000000000 |\n",
       "| donor_id    | 0.036769395 |\n",
       "| donor_id    | 0.005659288 |\n",
       "\n"
      ],
      "text/plain": [
       "  variable value      \n",
       "1 donor_id 0.048853123\n",
       "2 donor_id 0.001083453\n",
       "3 donor_id 0.040373640\n",
       "4 donor_id 0.000000000\n",
       "5 donor_id 0.036769395\n",
       "6 donor_id 0.005659288"
      ]
     },
     "metadata": {},
     "output_type": "display_data"
    }
   ],
   "source": [
    "df2 = melt(df1)\n",
    "head(df2)"
   ]
  },
  {
   "cell_type": "code",
   "execution_count": 16,
   "metadata": {},
   "outputs": [],
   "source": [
    "library(ggplot2)"
   ]
  },
  {
   "cell_type": "code",
   "execution_count": 20,
   "metadata": {},
   "outputs": [
    {
     "data": {
      "image/png": "[encoded data removed]",
      "text/plain": [
       "plot without title"
      ]
     },
     "metadata": {},
     "output_type": "display_data"
    }
   ],
   "source": [
    "options(repr.plot.width = 6, repr.plot.height = 4)\n",
    "p = ggplot(df2, aes(x = variable, y = value, colour = variable)) + geom_violin() + geom_boxplot(width = 0.2) + \n",
    "    theme_classic() + \n",
    "    xlab(\"\") + ylab(\"Proportion of variance explained\") + \n",
    "    theme(legend.position = \"none\", axis.text.x = element_text(angle = 90, hjust = 1, size = 11)) +\n",
    "    scale_x_discrete(labels = c(\"Donor/Line\",\"Pool\",\"Cell type\",\"Treatment\",\"Time point\",\"Residual\")) \n",
    "p"
   ]
  },
  {
   "cell_type": "code",
   "execution_count": 22,
   "metadata": {},
   "outputs": [],
   "source": [
    "fig_dir = \"/hps/nobackup/stegle/users/acuomo/all_scripts/sc_neuroseq/figures/extended_figures/\""
   ]
  },
  {
   "cell_type": "code",
   "execution_count": 23,
   "metadata": {},
   "outputs": [
    {
     "data": {
      "text/html": [
       "<strong>png:</strong> 2"
      ],
      "text/latex": [
       "\\textbf{png:} 2"
      ],
      "text/markdown": [
       "**png:** 2"
      ],
      "text/plain": [
       "png \n",
       "  2 "
      ]
     },
     "metadata": {},
     "output_type": "display_data"
    }
   ],
   "source": [
    "pdf(paste0(fig_dir,\"Supp_Fig_2b.pdf\"), width=6, height=4)\n",
    "p\n",
    "dev.off()"
   ]
  },
  {
   "cell_type": "code",
   "execution_count": null,
   "metadata": {},
   "outputs": [],
   "source": []
  },
  {
   "cell_type": "code",
   "execution_count": null,
   "metadata": {},
   "outputs": [],
   "source": []
  },
  {
   "cell_type": "code",
   "execution_count": null,
   "metadata": {},
   "outputs": [],
   "source": []
  }
 ],
 "metadata": {
  "kernelspec": {
   "display_name": "R",
   "language": "R",
   "name": "ir"
  },
  "language_info": {
   "codemirror_mode": "r",
   "file_extension": ".r",
   "mimetype": "text/x-r-source",
   "name": "R",
   "pygments_lexer": "r",
   "version": "3.6.1"
  }
 },
 "nbformat": 4,
 "nbformat_minor": 4
}
