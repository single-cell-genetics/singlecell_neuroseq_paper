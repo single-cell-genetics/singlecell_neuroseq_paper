{
 "cells": [
  {
   "cell_type": "code",
   "execution_count": 1,
   "metadata": {},
   "outputs": [
    {
     "name": "stderr",
     "output_type": "stream",
     "text": [
      "\n",
      "Attaching package: ‘dplyr’\n",
      "\n",
      "The following objects are masked from ‘package:stats’:\n",
      "\n",
      "    filter, lag\n",
      "\n",
      "The following objects are masked from ‘package:base’:\n",
      "\n",
      "    intersect, setdiff, setequal, union\n",
      "\n"
     ]
    }
   ],
   "source": [
    "library(dplyr)\n",
    "library(ggplot2)"
   ]
  },
  {
   "cell_type": "code",
   "execution_count": 2,
   "metadata": {},
   "outputs": [
    {
     "data": {
      "text/html": [
       "<table>\n",
       "<thead><tr><th scope=col>study_id</th><th scope=col>locus_id</th><th scope=col>celltype_tissue</th><th scope=col>Ensemble_ID</th><th scope=col>n_variants</th><th scope=col>PP0</th><th scope=col>PP1</th><th scope=col>PP2</th><th scope=col>PP3</th><th scope=col>PP4</th><th scope=col>chromosome_grch37</th><th scope=col>GWAS_index_pos_grch37</th><th scope=col>eQTL_lead_pos_grch37</th></tr></thead>\n",
       "<tbody>\n",
       "\t<tr><td>GCST003496     </td><td>17             </td><td>FPP_D11        </td><td>ENSG00000051825</td><td> 889           </td><td>4.539090e-04   </td><td>1.798307e-01   </td><td>0.000359974    </td><td>0.14193782     </td><td>0.6774176      </td><td>12             </td><td>123688849      </td><td>123404966      </td></tr>\n",
       "\t<tr><td>GCST003496     </td><td>28             </td><td>FPP_D11        </td><td>ENSG00000103512</td><td> 553           </td><td>3.690000e-14   </td><td>1.440000e-14   </td><td>0.082547906    </td><td>0.03138392     </td><td>0.8860682      </td><td>16             </td><td> 14579694      </td><td> 14975292      </td></tr>\n",
       "\t<tr><td>GCST003496     </td><td>33             </td><td>FPP_D11        </td><td>ENSG00000134490</td><td> 644           </td><td>9.601054e-02   </td><td>2.454605e-01   </td><td>0.041522537    </td><td>0.10564513     </td><td>0.5113613      </td><td>18             </td><td> 20885128      </td><td> 20876486      </td></tr>\n",
       "\t<tr><td>GCST003496     </td><td>58             </td><td>FPP_D11        </td><td>ENSG00000105968</td><td> 838           </td><td>3.853253e-02   </td><td>4.172537e-01   </td><td>0.003175182    </td><td>0.03387564     </td><td>0.5071629      </td><td> 7             </td><td> 44848740      </td><td> 44822731      </td></tr>\n",
       "\t<tr><td>GCST003724     </td><td> 6             </td><td>FPP_D11        </td><td>ENSG00000003249</td><td>1990           </td><td>3.407510e-04   </td><td>5.746611e-03   </td><td>0.007918431    </td><td>0.13268726     </td><td>0.8533069      </td><td>16             </td><td> 89706992      </td><td> 90054018      </td></tr>\n",
       "\t<tr><td>GCST003770     </td><td> 4             </td><td>FPP_D11        </td><td>ENSG00000109920</td><td> 747           </td><td>1.350620e-04   </td><td>6.973547e-02   </td><td>0.000370071    </td><td>0.19033619     </td><td>0.7394232      </td><td>11             </td><td> 47676170      </td><td> 47585348      </td></tr>\n",
       "</tbody>\n",
       "</table>\n"
      ],
      "text/latex": [
       "\\begin{tabular}{r|lllllllllllll}\n",
       " study\\_id & locus\\_id & celltype\\_tissue & Ensemble\\_ID & n\\_variants & PP0 & PP1 & PP2 & PP3 & PP4 & chromosome\\_grch37 & GWAS\\_index\\_pos\\_grch37 & eQTL\\_lead\\_pos\\_grch37\\\\\n",
       "\\hline\n",
       "\t GCST003496      & 17              & FPP\\_D11       & ENSG00000051825 &  889            & 4.539090e-04    & 1.798307e-01    & 0.000359974     & 0.14193782      & 0.6774176       & 12              & 123688849       & 123404966      \\\\\n",
       "\t GCST003496      & 28              & FPP\\_D11       & ENSG00000103512 &  553            & 3.690000e-14    & 1.440000e-14    & 0.082547906     & 0.03138392      & 0.8860682       & 16              &  14579694       &  14975292      \\\\\n",
       "\t GCST003496      & 33              & FPP\\_D11       & ENSG00000134490 &  644            & 9.601054e-02    & 2.454605e-01    & 0.041522537     & 0.10564513      & 0.5113613       & 18              &  20885128       &  20876486      \\\\\n",
       "\t GCST003496      & 58              & FPP\\_D11       & ENSG00000105968 &  838            & 3.853253e-02    & 4.172537e-01    & 0.003175182     & 0.03387564      & 0.5071629       &  7              &  44848740       &  44822731      \\\\\n",
       "\t GCST003724      &  6              & FPP\\_D11       & ENSG00000003249 & 1990            & 3.407510e-04    & 5.746611e-03    & 0.007918431     & 0.13268726      & 0.8533069       & 16              &  89706992       &  90054018      \\\\\n",
       "\t GCST003770      &  4              & FPP\\_D11       & ENSG00000109920 &  747            & 1.350620e-04    & 6.973547e-02    & 0.000370071     & 0.19033619      & 0.7394232       & 11              &  47676170       &  47585348      \\\\\n",
       "\\end{tabular}\n"
      ],
      "text/markdown": [
       "\n",
       "| study_id | locus_id | celltype_tissue | Ensemble_ID | n_variants | PP0 | PP1 | PP2 | PP3 | PP4 | chromosome_grch37 | GWAS_index_pos_grch37 | eQTL_lead_pos_grch37 |\n",
       "|---|---|---|---|---|---|---|---|---|---|---|---|---|\n",
       "| GCST003496      | 17              | FPP_D11         | ENSG00000051825 |  889            | 4.539090e-04    | 1.798307e-01    | 0.000359974     | 0.14193782      | 0.6774176       | 12              | 123688849       | 123404966       |\n",
       "| GCST003496      | 28              | FPP_D11         | ENSG00000103512 |  553            | 3.690000e-14    | 1.440000e-14    | 0.082547906     | 0.03138392      | 0.8860682       | 16              |  14579694       |  14975292       |\n",
       "| GCST003496      | 33              | FPP_D11         | ENSG00000134490 |  644            | 9.601054e-02    | 2.454605e-01    | 0.041522537     | 0.10564513      | 0.5113613       | 18              |  20885128       |  20876486       |\n",
       "| GCST003496      | 58              | FPP_D11         | ENSG00000105968 |  838            | 3.853253e-02    | 4.172537e-01    | 0.003175182     | 0.03387564      | 0.5071629       |  7              |  44848740       |  44822731       |\n",
       "| GCST003724      |  6              | FPP_D11         | ENSG00000003249 | 1990            | 3.407510e-04    | 5.746611e-03    | 0.007918431     | 0.13268726      | 0.8533069       | 16              |  89706992       |  90054018       |\n",
       "| GCST003770      |  4              | FPP_D11         | ENSG00000109920 |  747            | 1.350620e-04    | 6.973547e-02    | 0.000370071     | 0.19033619      | 0.7394232       | 11              |  47676170       |  47585348       |\n",
       "\n"
      ],
      "text/plain": [
       "  study_id   locus_id celltype_tissue Ensemble_ID     n_variants PP0         \n",
       "1 GCST003496 17       FPP_D11         ENSG00000051825  889       4.539090e-04\n",
       "2 GCST003496 28       FPP_D11         ENSG00000103512  553       3.690000e-14\n",
       "3 GCST003496 33       FPP_D11         ENSG00000134490  644       9.601054e-02\n",
       "4 GCST003496 58       FPP_D11         ENSG00000105968  838       3.853253e-02\n",
       "5 GCST003724  6       FPP_D11         ENSG00000003249 1990       3.407510e-04\n",
       "6 GCST003770  4       FPP_D11         ENSG00000109920  747       1.350620e-04\n",
       "  PP1          PP2         PP3        PP4       chromosome_grch37\n",
       "1 1.798307e-01 0.000359974 0.14193782 0.6774176 12               \n",
       "2 1.440000e-14 0.082547906 0.03138392 0.8860682 16               \n",
       "3 2.454605e-01 0.041522537 0.10564513 0.5113613 18               \n",
       "4 4.172537e-01 0.003175182 0.03387564 0.5071629  7               \n",
       "5 5.746611e-03 0.007918431 0.13268726 0.8533069 16               \n",
       "6 6.973547e-02 0.000370071 0.19033619 0.7394232 11               \n",
       "  GWAS_index_pos_grch37 eQTL_lead_pos_grch37\n",
       "1 123688849             123404966           \n",
       "2  14579694              14975292           \n",
       "3  20885128              20876486           \n",
       "4  44848740              44822731           \n",
       "5  89706992              90054018           \n",
       "6  47676170              47585348           "
      ]
     },
     "metadata": {},
     "output_type": "display_data"
    }
   ],
   "source": [
    "filename = \"/hps/nobackup/stegle/users/acuomo/all_scripts/sc_neuroseq/coloc/SupplementaryTable9_ColocNeuroSeq.csv\"\n",
    "# filename = \"/hps/nobackup/stegle/users/acuomo/all_scripts/sc_neuroseq/coloc/coloc_genes_w_sample_size.txt\"\n",
    "df = read.csv(filename)\n",
    "# df = read.csv(filename, sep = \"\\t\", header = F)\n",
    "# colnames(df) = c(\"gwas_trait\",\"gene_name\",\"eqtl_map\",\"top_GTEx_brain\",\"top_GTEx_non_brain\",\"category\")\n",
    "# df$X = c()\n",
    "head(df)"
   ]
  },
  {
   "cell_type": "code",
   "execution_count": 3,
   "metadata": {},
   "outputs": [],
   "source": [
    "# df = df[df$category == 'N',]"
   ]
  },
  {
   "cell_type": "code",
   "execution_count": 4,
   "metadata": {},
   "outputs": [
    {
     "data": {
      "text/html": [
       "<ol class=list-inline>\n",
       "\t<li>'FPP_D11'</li>\n",
       "\t<li>'P_FPP_D11'</li>\n",
       "\t<li>'FPP_D30'</li>\n",
       "\t<li>'DA_D30'</li>\n",
       "\t<li>'Epen1_D30'</li>\n",
       "\t<li>'Sert_D30'</li>\n",
       "\t<li>'Astro_D52_ROT'</li>\n",
       "\t<li>'Astro_D52_NONE'</li>\n",
       "\t<li>'DA_D52_ROT'</li>\n",
       "\t<li>'DA_D52_NONE'</li>\n",
       "\t<li>'Epen1_D52_ROT'</li>\n",
       "\t<li>'Epen1_D52_NONE'</li>\n",
       "\t<li>'Sert_D52_ROT'</li>\n",
       "\t<li>'Sert_D52_NONE'</li>\n",
       "</ol>\n"
      ],
      "text/latex": [
       "\\begin{enumerate*}\n",
       "\\item 'FPP\\_D11'\n",
       "\\item 'P\\_FPP\\_D11'\n",
       "\\item 'FPP\\_D30'\n",
       "\\item 'DA\\_D30'\n",
       "\\item 'Epen1\\_D30'\n",
       "\\item 'Sert\\_D30'\n",
       "\\item 'Astro\\_D52\\_ROT'\n",
       "\\item 'Astro\\_D52\\_NONE'\n",
       "\\item 'DA\\_D52\\_ROT'\n",
       "\\item 'DA\\_D52\\_NONE'\n",
       "\\item 'Epen1\\_D52\\_ROT'\n",
       "\\item 'Epen1\\_D52\\_NONE'\n",
       "\\item 'Sert\\_D52\\_ROT'\n",
       "\\item 'Sert\\_D52\\_NONE'\n",
       "\\end{enumerate*}\n"
      ],
      "text/markdown": [
       "1. 'FPP_D11'\n",
       "2. 'P_FPP_D11'\n",
       "3. 'FPP_D30'\n",
       "4. 'DA_D30'\n",
       "5. 'Epen1_D30'\n",
       "6. 'Sert_D30'\n",
       "7. 'Astro_D52_ROT'\n",
       "8. 'Astro_D52_NONE'\n",
       "9. 'DA_D52_ROT'\n",
       "10. 'DA_D52_NONE'\n",
       "11. 'Epen1_D52_ROT'\n",
       "12. 'Epen1_D52_NONE'\n",
       "13. 'Sert_D52_ROT'\n",
       "14. 'Sert_D52_NONE'\n",
       "\n",
       "\n"
      ],
      "text/plain": [
       " [1] \"FPP_D11\"        \"P_FPP_D11\"      \"FPP_D30\"        \"DA_D30\"        \n",
       " [5] \"Epen1_D30\"      \"Sert_D30\"       \"Astro_D52_ROT\"  \"Astro_D52_NONE\"\n",
       " [9] \"DA_D52_ROT\"     \"DA_D52_NONE\"    \"Epen1_D52_ROT\"  \"Epen1_D52_NONE\"\n",
       "[13] \"Sert_D52_ROT\"   \"Sert_D52_NONE\" "
      ]
     },
     "metadata": {},
     "output_type": "display_data"
    }
   ],
   "source": [
    "df$eqtl_map = as.character(df$celltype_tissue)\n",
    "unique(df$eqtl_map)"
   ]
  },
  {
   "cell_type": "code",
   "execution_count": 5,
   "metadata": {},
   "outputs": [],
   "source": [
    "# df = df %>% mutate(eqtl_map = factor(eqtl_map, levels=c(\"pool1_13_noddd_D11.FPP\",\"pool1_13_noddd_D11.P_FPP\",\n",
    "#                                                    \"pool1_13_noddd_D11.NB\",\n",
    "#                                                    \"pool1_13_noddd_D30.Astro\",\"pool1_13_noddd_D30.DA\",\n",
    "#                                                    \"pool1_13_noddd_D30.Sert\",\"pool1_13_noddd_D30.Epen1\",\n",
    "#                                                    \"NONE_DA\",\"NONE_Sert\",\"NONE_Epen1\",\"NONE_Astro\",\n",
    "#                                                    \"ROT_DA\",\"ROT_Sert\",\"ROT_Epen1\",\"ROT_Astro\")))"
   ]
  },
  {
   "cell_type": "code",
   "execution_count": 6,
   "metadata": {},
   "outputs": [
    {
     "data": {
      "text/html": [
       "<ol class=list-inline>\n",
       "\t<li>'D11'</li>\n",
       "\t<li>'D30'</li>\n",
       "\t<li>'D52_ROT'</li>\n",
       "\t<li>'D52'</li>\n",
       "</ol>\n"
      ],
      "text/latex": [
       "\\begin{enumerate*}\n",
       "\\item 'D11'\n",
       "\\item 'D30'\n",
       "\\item 'D52\\_ROT'\n",
       "\\item 'D52'\n",
       "\\end{enumerate*}\n"
      ],
      "text/markdown": [
       "1. 'D11'\n",
       "2. 'D30'\n",
       "3. 'D52_ROT'\n",
       "4. 'D52'\n",
       "\n",
       "\n"
      ],
      "text/plain": [
       "[1] \"D11\"     \"D30\"     \"D52_ROT\" \"D52\"    "
      ]
     },
     "metadata": {},
     "output_type": "display_data"
    }
   ],
   "source": [
    "df$condition = 'D11'\n",
    "df$condition[grep('D30',df$eqtl_map)] = 'D30'\n",
    "df$condition[grep('NONE',df$eqtl_map)] = 'D52'\n",
    "df$condition[grep('ROT',df$eqtl_map)] = 'D52_ROT'\n",
    "unique(df$condition)"
   ]
  },
  {
   "cell_type": "code",
   "execution_count": 7,
   "metadata": {},
   "outputs": [
    {
     "data": {
      "text/html": [
       "<table>\n",
       "<thead><tr><th></th><th scope=col>study_id</th><th scope=col>locus_id</th><th scope=col>celltype_tissue</th><th scope=col>Ensemble_ID</th><th scope=col>n_variants</th><th scope=col>PP0</th><th scope=col>PP1</th><th scope=col>PP2</th><th scope=col>PP3</th><th scope=col>PP4</th><th scope=col>chromosome_grch37</th><th scope=col>GWAS_index_pos_grch37</th><th scope=col>eQTL_lead_pos_grch37</th><th scope=col>eqtl_map</th><th scope=col>condition</th><th scope=col>time_point</th><th scope=col>treatment</th></tr></thead>\n",
       "<tbody>\n",
       "\t<tr><th scope=row>2457</th><td>PD             </td><td>15             </td><td>Sert_D52_NONE  </td><td>ENSG00000214941</td><td> 609           </td><td>4.300000e-25   </td><td>4.480000e-22   </td><td>2.008660e-04   </td><td>0.20825133     </td><td>0.7915478      </td><td>17             </td><td>16010920       </td><td>15875147       </td><td>Sert_D52_NONE  </td><td>D52            </td><td>D52            </td><td>NONE           </td></tr>\n",
       "\t<tr><th scope=row>2458</th><td>PD             </td><td>15             </td><td>Sert_D52_NONE  </td><td>ENSG00000011295</td><td> 582           </td><td>2.270000e-05   </td><td>2.360348e-02   </td><td>2.792960e-04   </td><td>0.28997993     </td><td>0.6861146      </td><td>17             </td><td>16010920       </td><td>15910286       </td><td>Sert_D52_NONE  </td><td>D52            </td><td>D52            </td><td>NONE           </td></tr>\n",
       "\t<tr><th scope=row>2459</th><td>PD             </td><td>22             </td><td>Sert_D52_NONE  </td><td>ENSG00000198171</td><td> 968           </td><td>4.216662e-02   </td><td>3.292763e-01   </td><td>8.945394e-03   </td><td>0.06930368     </td><td>0.5503080      </td><td>20             </td><td> 3172246       </td><td> 3155375       </td><td>Sert_D52_NONE  </td><td>D52            </td><td>D52            </td><td>NONE           </td></tr>\n",
       "\t<tr><th scope=row>2460</th><td>PD             </td><td>25             </td><td>Sert_D52_NONE  </td><td>ENSG00000163686</td><td>1358           </td><td>2.214291e-03   </td><td>1.524216e-01   </td><td>2.204194e-03   </td><td>0.15103451     </td><td>0.6921254      </td><td> 3             </td><td>58218352       </td><td>58225974       </td><td>Sert_D52_NONE  </td><td>D52            </td><td>D52            </td><td>NONE           </td></tr>\n",
       "\t<tr><th scope=row>2461</th><td>PD             </td><td>32             </td><td>Sert_D52_NONE  </td><td>ENSG00000188725</td><td> 940           </td><td>2.560000e-08   </td><td>2.846833e-01   </td><td>5.390000e-09   </td><td>0.05917128     </td><td>0.6561454      </td><td> 5             </td><td>60345424       </td><td>60493200       </td><td>Sert_D52_NONE  </td><td>D52            </td><td>D52            </td><td>NONE           </td></tr>\n",
       "\t<tr><th scope=row>2462</th><td>PD             </td><td>34             </td><td>Sert_D52_NONE  </td><td>ENSG00000136243</td><td> 695           </td><td>4.720000e-07   </td><td>1.717641e-03   </td><td>2.060000e-05   </td><td>0.07405854     </td><td>0.9242027      </td><td> 7             </td><td>23245569       </td><td>23241866       </td><td>Sert_D52_NONE  </td><td>D52            </td><td>D52            </td><td>NONE           </td></tr>\n",
       "</tbody>\n",
       "</table>\n"
      ],
      "text/latex": [
       "\\begin{tabular}{r|lllllllllllllllll}\n",
       "  & study\\_id & locus\\_id & celltype\\_tissue & Ensemble\\_ID & n\\_variants & PP0 & PP1 & PP2 & PP3 & PP4 & chromosome\\_grch37 & GWAS\\_index\\_pos\\_grch37 & eQTL\\_lead\\_pos\\_grch37 & eqtl\\_map & condition & time\\_point & treatment\\\\\n",
       "\\hline\n",
       "\t2457 & PD                & 15                & Sert\\_D52\\_NONE & ENSG00000214941   &  609              & 4.300000e-25      & 4.480000e-22      & 2.008660e-04      & 0.20825133        & 0.7915478         & 17                & 16010920          & 15875147          & Sert\\_D52\\_NONE & D52               & D52               & NONE             \\\\\n",
       "\t2458 & PD                & 15                & Sert\\_D52\\_NONE & ENSG00000011295   &  582              & 2.270000e-05      & 2.360348e-02      & 2.792960e-04      & 0.28997993        & 0.6861146         & 17                & 16010920          & 15910286          & Sert\\_D52\\_NONE & D52               & D52               & NONE             \\\\\n",
       "\t2459 & PD                & 22                & Sert\\_D52\\_NONE & ENSG00000198171   &  968              & 4.216662e-02      & 3.292763e-01      & 8.945394e-03      & 0.06930368        & 0.5503080         & 20                &  3172246          &  3155375          & Sert\\_D52\\_NONE & D52               & D52               & NONE             \\\\\n",
       "\t2460 & PD                & 25                & Sert\\_D52\\_NONE & ENSG00000163686   & 1358              & 2.214291e-03      & 1.524216e-01      & 2.204194e-03      & 0.15103451        & 0.6921254         &  3                & 58218352          & 58225974          & Sert\\_D52\\_NONE & D52               & D52               & NONE             \\\\\n",
       "\t2461 & PD                & 32                & Sert\\_D52\\_NONE & ENSG00000188725   &  940              & 2.560000e-08      & 2.846833e-01      & 5.390000e-09      & 0.05917128        & 0.6561454         &  5                & 60345424          & 60493200          & Sert\\_D52\\_NONE & D52               & D52               & NONE             \\\\\n",
       "\t2462 & PD                & 34                & Sert\\_D52\\_NONE & ENSG00000136243   &  695              & 4.720000e-07      & 1.717641e-03      & 2.060000e-05      & 0.07405854        & 0.9242027         &  7                & 23245569          & 23241866          & Sert\\_D52\\_NONE & D52               & D52               & NONE             \\\\\n",
       "\\end{tabular}\n"
      ],
      "text/markdown": [
       "\n",
       "| <!--/--> | study_id | locus_id | celltype_tissue | Ensemble_ID | n_variants | PP0 | PP1 | PP2 | PP3 | PP4 | chromosome_grch37 | GWAS_index_pos_grch37 | eQTL_lead_pos_grch37 | eqtl_map | condition | time_point | treatment |\n",
       "|---|---|---|---|---|---|---|---|---|---|---|---|---|---|---|---|---|---|\n",
       "| 2457 | PD              | 15              | Sert_D52_NONE   | ENSG00000214941 |  609            | 4.300000e-25    | 4.480000e-22    | 2.008660e-04    | 0.20825133      | 0.7915478       | 17              | 16010920        | 15875147        | Sert_D52_NONE   | D52             | D52             | NONE            |\n",
       "| 2458 | PD              | 15              | Sert_D52_NONE   | ENSG00000011295 |  582            | 2.270000e-05    | 2.360348e-02    | 2.792960e-04    | 0.28997993      | 0.6861146       | 17              | 16010920        | 15910286        | Sert_D52_NONE   | D52             | D52             | NONE            |\n",
       "| 2459 | PD              | 22              | Sert_D52_NONE   | ENSG00000198171 |  968            | 4.216662e-02    | 3.292763e-01    | 8.945394e-03    | 0.06930368      | 0.5503080       | 20              |  3172246        |  3155375        | Sert_D52_NONE   | D52             | D52             | NONE            |\n",
       "| 2460 | PD              | 25              | Sert_D52_NONE   | ENSG00000163686 | 1358            | 2.214291e-03    | 1.524216e-01    | 2.204194e-03    | 0.15103451      | 0.6921254       |  3              | 58218352        | 58225974        | Sert_D52_NONE   | D52             | D52             | NONE            |\n",
       "| 2461 | PD              | 32              | Sert_D52_NONE   | ENSG00000188725 |  940            | 2.560000e-08    | 2.846833e-01    | 5.390000e-09    | 0.05917128      | 0.6561454       |  5              | 60345424        | 60493200        | Sert_D52_NONE   | D52             | D52             | NONE            |\n",
       "| 2462 | PD              | 34              | Sert_D52_NONE   | ENSG00000136243 |  695            | 4.720000e-07    | 1.717641e-03    | 2.060000e-05    | 0.07405854      | 0.9242027       |  7              | 23245569        | 23241866        | Sert_D52_NONE   | D52             | D52             | NONE            |\n",
       "\n"
      ],
      "text/plain": [
       "     study_id locus_id celltype_tissue Ensemble_ID     n_variants PP0         \n",
       "2457 PD       15       Sert_D52_NONE   ENSG00000214941  609       4.300000e-25\n",
       "2458 PD       15       Sert_D52_NONE   ENSG00000011295  582       2.270000e-05\n",
       "2459 PD       22       Sert_D52_NONE   ENSG00000198171  968       4.216662e-02\n",
       "2460 PD       25       Sert_D52_NONE   ENSG00000163686 1358       2.214291e-03\n",
       "2461 PD       32       Sert_D52_NONE   ENSG00000188725  940       2.560000e-08\n",
       "2462 PD       34       Sert_D52_NONE   ENSG00000136243  695       4.720000e-07\n",
       "     PP1          PP2          PP3        PP4       chromosome_grch37\n",
       "2457 4.480000e-22 2.008660e-04 0.20825133 0.7915478 17               \n",
       "2458 2.360348e-02 2.792960e-04 0.28997993 0.6861146 17               \n",
       "2459 3.292763e-01 8.945394e-03 0.06930368 0.5503080 20               \n",
       "2460 1.524216e-01 2.204194e-03 0.15103451 0.6921254  3               \n",
       "2461 2.846833e-01 5.390000e-09 0.05917128 0.6561454  5               \n",
       "2462 1.717641e-03 2.060000e-05 0.07405854 0.9242027  7               \n",
       "     GWAS_index_pos_grch37 eQTL_lead_pos_grch37 eqtl_map      condition\n",
       "2457 16010920              15875147             Sert_D52_NONE D52      \n",
       "2458 16010920              15910286             Sert_D52_NONE D52      \n",
       "2459  3172246               3155375             Sert_D52_NONE D52      \n",
       "2460 58218352              58225974             Sert_D52_NONE D52      \n",
       "2461 60345424              60493200             Sert_D52_NONE D52      \n",
       "2462 23245569              23241866             Sert_D52_NONE D52      \n",
       "     time_point treatment\n",
       "2457 D52        NONE     \n",
       "2458 D52        NONE     \n",
       "2459 D52        NONE     \n",
       "2460 D52        NONE     \n",
       "2461 D52        NONE     \n",
       "2462 D52        NONE     "
      ]
     },
     "metadata": {},
     "output_type": "display_data"
    }
   ],
   "source": [
    "df$time_point = df$condition\n",
    "df$time_point[df$condition == \"D52_ROT\"] = 'D52'\n",
    "df$treatment = 'NONE'\n",
    "df$treatment[df$condition == \"D52_ROT\"] = 'ROT'\n",
    "tail(df)"
   ]
  },
  {
   "cell_type": "code",
   "execution_count": 8,
   "metadata": {},
   "outputs": [
    {
     "data": {
      "text/html": [
       "<table>\n",
       "<thead><tr><th scope=col>study_id</th><th scope=col>locus_id</th><th scope=col>celltype_tissue</th><th scope=col>Ensemble_ID</th><th scope=col>n_variants</th><th scope=col>PP0</th><th scope=col>PP1</th><th scope=col>PP2</th><th scope=col>PP3</th><th scope=col>PP4</th><th scope=col>chromosome_grch37</th><th scope=col>GWAS_index_pos_grch37</th><th scope=col>eQTL_lead_pos_grch37</th><th scope=col>eqtl_map</th><th scope=col>condition</th><th scope=col>time_point</th><th scope=col>treatment</th><th scope=col>celltype</th></tr></thead>\n",
       "<tbody>\n",
       "\t<tr><td>GCST003496     </td><td>17             </td><td>FPP_D11        </td><td>ENSG00000051825</td><td> 889           </td><td>4.539090e-04   </td><td>1.798307e-01   </td><td>0.000359974    </td><td>0.14193782     </td><td>0.6774176      </td><td>12             </td><td>123688849      </td><td>123404966      </td><td>FPP_D11        </td><td>D11            </td><td>D11            </td><td>NONE           </td><td>FPP            </td></tr>\n",
       "\t<tr><td>GCST003496     </td><td>28             </td><td>FPP_D11        </td><td>ENSG00000103512</td><td> 553           </td><td>3.690000e-14   </td><td>1.440000e-14   </td><td>0.082547906    </td><td>0.03138392     </td><td>0.8860682      </td><td>16             </td><td> 14579694      </td><td> 14975292      </td><td>FPP_D11        </td><td>D11            </td><td>D11            </td><td>NONE           </td><td>FPP            </td></tr>\n",
       "\t<tr><td>GCST003496     </td><td>33             </td><td>FPP_D11        </td><td>ENSG00000134490</td><td> 644           </td><td>9.601054e-02   </td><td>2.454605e-01   </td><td>0.041522537    </td><td>0.10564513     </td><td>0.5113613      </td><td>18             </td><td> 20885128      </td><td> 20876486      </td><td>FPP_D11        </td><td>D11            </td><td>D11            </td><td>NONE           </td><td>FPP            </td></tr>\n",
       "\t<tr><td>GCST003496     </td><td>58             </td><td>FPP_D11        </td><td>ENSG00000105968</td><td> 838           </td><td>3.853253e-02   </td><td>4.172537e-01   </td><td>0.003175182    </td><td>0.03387564     </td><td>0.5071629      </td><td> 7             </td><td> 44848740      </td><td> 44822731      </td><td>FPP_D11        </td><td>D11            </td><td>D11            </td><td>NONE           </td><td>FPP            </td></tr>\n",
       "\t<tr><td>GCST003724     </td><td> 6             </td><td>FPP_D11        </td><td>ENSG00000003249</td><td>1990           </td><td>3.407510e-04   </td><td>5.746611e-03   </td><td>0.007918431    </td><td>0.13268726     </td><td>0.8533069      </td><td>16             </td><td> 89706992      </td><td> 90054018      </td><td>FPP_D11        </td><td>D11            </td><td>D11            </td><td>NONE           </td><td>FPP            </td></tr>\n",
       "\t<tr><td>GCST003770     </td><td> 4             </td><td>FPP_D11        </td><td>ENSG00000109920</td><td> 747           </td><td>1.350620e-04   </td><td>6.973547e-02   </td><td>0.000370071    </td><td>0.19033619     </td><td>0.7394232      </td><td>11             </td><td> 47676170      </td><td> 47585348      </td><td>FPP_D11        </td><td>D11            </td><td>D11            </td><td>NONE           </td><td>FPP            </td></tr>\n",
       "</tbody>\n",
       "</table>\n"
      ],
      "text/latex": [
       "\\begin{tabular}{r|llllllllllllllllll}\n",
       " study\\_id & locus\\_id & celltype\\_tissue & Ensemble\\_ID & n\\_variants & PP0 & PP1 & PP2 & PP3 & PP4 & chromosome\\_grch37 & GWAS\\_index\\_pos\\_grch37 & eQTL\\_lead\\_pos\\_grch37 & eqtl\\_map & condition & time\\_point & treatment & celltype\\\\\n",
       "\\hline\n",
       "\t GCST003496      & 17              & FPP\\_D11       & ENSG00000051825 &  889            & 4.539090e-04    & 1.798307e-01    & 0.000359974     & 0.14193782      & 0.6774176       & 12              & 123688849       & 123404966       & FPP\\_D11       & D11             & D11             & NONE            & FPP            \\\\\n",
       "\t GCST003496      & 28              & FPP\\_D11       & ENSG00000103512 &  553            & 3.690000e-14    & 1.440000e-14    & 0.082547906     & 0.03138392      & 0.8860682       & 16              &  14579694       &  14975292       & FPP\\_D11       & D11             & D11             & NONE            & FPP            \\\\\n",
       "\t GCST003496      & 33              & FPP\\_D11       & ENSG00000134490 &  644            & 9.601054e-02    & 2.454605e-01    & 0.041522537     & 0.10564513      & 0.5113613       & 18              &  20885128       &  20876486       & FPP\\_D11       & D11             & D11             & NONE            & FPP            \\\\\n",
       "\t GCST003496      & 58              & FPP\\_D11       & ENSG00000105968 &  838            & 3.853253e-02    & 4.172537e-01    & 0.003175182     & 0.03387564      & 0.5071629       &  7              &  44848740       &  44822731       & FPP\\_D11       & D11             & D11             & NONE            & FPP            \\\\\n",
       "\t GCST003724      &  6              & FPP\\_D11       & ENSG00000003249 & 1990            & 3.407510e-04    & 5.746611e-03    & 0.007918431     & 0.13268726      & 0.8533069       & 16              &  89706992       &  90054018       & FPP\\_D11       & D11             & D11             & NONE            & FPP            \\\\\n",
       "\t GCST003770      &  4              & FPP\\_D11       & ENSG00000109920 &  747            & 1.350620e-04    & 6.973547e-02    & 0.000370071     & 0.19033619      & 0.7394232       & 11              &  47676170       &  47585348       & FPP\\_D11       & D11             & D11             & NONE            & FPP            \\\\\n",
       "\\end{tabular}\n"
      ],
      "text/markdown": [
       "\n",
       "| study_id | locus_id | celltype_tissue | Ensemble_ID | n_variants | PP0 | PP1 | PP2 | PP3 | PP4 | chromosome_grch37 | GWAS_index_pos_grch37 | eQTL_lead_pos_grch37 | eqtl_map | condition | time_point | treatment | celltype |\n",
       "|---|---|---|---|---|---|---|---|---|---|---|---|---|---|---|---|---|---|\n",
       "| GCST003496      | 17              | FPP_D11         | ENSG00000051825 |  889            | 4.539090e-04    | 1.798307e-01    | 0.000359974     | 0.14193782      | 0.6774176       | 12              | 123688849       | 123404966       | FPP_D11         | D11             | D11             | NONE            | FPP             |\n",
       "| GCST003496      | 28              | FPP_D11         | ENSG00000103512 |  553            | 3.690000e-14    | 1.440000e-14    | 0.082547906     | 0.03138392      | 0.8860682       | 16              |  14579694       |  14975292       | FPP_D11         | D11             | D11             | NONE            | FPP             |\n",
       "| GCST003496      | 33              | FPP_D11         | ENSG00000134490 |  644            | 9.601054e-02    | 2.454605e-01    | 0.041522537     | 0.10564513      | 0.5113613       | 18              |  20885128       |  20876486       | FPP_D11         | D11             | D11             | NONE            | FPP             |\n",
       "| GCST003496      | 58              | FPP_D11         | ENSG00000105968 |  838            | 3.853253e-02    | 4.172537e-01    | 0.003175182     | 0.03387564      | 0.5071629       |  7              |  44848740       |  44822731       | FPP_D11         | D11             | D11             | NONE            | FPP             |\n",
       "| GCST003724      |  6              | FPP_D11         | ENSG00000003249 | 1990            | 3.407510e-04    | 5.746611e-03    | 0.007918431     | 0.13268726      | 0.8533069       | 16              |  89706992       |  90054018       | FPP_D11         | D11             | D11             | NONE            | FPP             |\n",
       "| GCST003770      |  4              | FPP_D11         | ENSG00000109920 |  747            | 1.350620e-04    | 6.973547e-02    | 0.000370071     | 0.19033619      | 0.7394232       | 11              |  47676170       |  47585348       | FPP_D11         | D11             | D11             | NONE            | FPP             |\n",
       "\n"
      ],
      "text/plain": [
       "  study_id   locus_id celltype_tissue Ensemble_ID     n_variants PP0         \n",
       "1 GCST003496 17       FPP_D11         ENSG00000051825  889       4.539090e-04\n",
       "2 GCST003496 28       FPP_D11         ENSG00000103512  553       3.690000e-14\n",
       "3 GCST003496 33       FPP_D11         ENSG00000134490  644       9.601054e-02\n",
       "4 GCST003496 58       FPP_D11         ENSG00000105968  838       3.853253e-02\n",
       "5 GCST003724  6       FPP_D11         ENSG00000003249 1990       3.407510e-04\n",
       "6 GCST003770  4       FPP_D11         ENSG00000109920  747       1.350620e-04\n",
       "  PP1          PP2         PP3        PP4       chromosome_grch37\n",
       "1 1.798307e-01 0.000359974 0.14193782 0.6774176 12               \n",
       "2 1.440000e-14 0.082547906 0.03138392 0.8860682 16               \n",
       "3 2.454605e-01 0.041522537 0.10564513 0.5113613 18               \n",
       "4 4.172537e-01 0.003175182 0.03387564 0.5071629  7               \n",
       "5 5.746611e-03 0.007918431 0.13268726 0.8533069 16               \n",
       "6 6.973547e-02 0.000370071 0.19033619 0.7394232 11               \n",
       "  GWAS_index_pos_grch37 eQTL_lead_pos_grch37 eqtl_map condition time_point\n",
       "1 123688849             123404966            FPP_D11  D11       D11       \n",
       "2  14579694              14975292            FPP_D11  D11       D11       \n",
       "3  20885128              20876486            FPP_D11  D11       D11       \n",
       "4  44848740              44822731            FPP_D11  D11       D11       \n",
       "5  89706992              90054018            FPP_D11  D11       D11       \n",
       "6  47676170              47585348            FPP_D11  D11       D11       \n",
       "  treatment celltype\n",
       "1 NONE      FPP     \n",
       "2 NONE      FPP     \n",
       "3 NONE      FPP     \n",
       "4 NONE      FPP     \n",
       "5 NONE      FPP     \n",
       "6 NONE      FPP     "
      ]
     },
     "metadata": {},
     "output_type": "display_data"
    }
   ],
   "source": [
    "df$celltype = df$condition\n",
    "df$celltype[grep('FPP',df$eqtl_map)] = 'FPP'\n",
    "df$celltype[grep('P_FPP',df$eqtl_map)] = 'P_FPP'\n",
    "df$celltype[grep('NB',df$eqtl_map)] = 'NB'\n",
    "df$celltype[grep('DA',df$eqtl_map)] = 'DA'\n",
    "df$celltype[grep('Sert',df$eqtl_map)] = 'Sert'\n",
    "df$celltype[grep('Epen1',df$eqtl_map)] = 'Epen1'\n",
    "df$celltype[grep('Astro',df$eqtl_map)] = 'Astro'\n",
    "df$celltype[df$celltype == 'Astro' & df$condition == 'D30'] = 'FPP'\n",
    "head(df)"
   ]
  },
  {
   "cell_type": "code",
   "execution_count": 9,
   "metadata": {},
   "outputs": [],
   "source": [
    "# write.csv(df, filename, quote = F)"
   ]
  },
  {
   "cell_type": "code",
   "execution_count": 10,
   "metadata": {},
   "outputs": [
    {
     "data": {
      "text/html": [
       "<ol class=list-inline>\n",
       "\t<li>'FPP_D11'</li>\n",
       "\t<li>'P_FPP_D11'</li>\n",
       "\t<li>'FPP_D30'</li>\n",
       "\t<li>'DA_D30'</li>\n",
       "\t<li>'Epen1_D30'</li>\n",
       "\t<li>'Sert_D30'</li>\n",
       "\t<li>'Astro_D52_ROT'</li>\n",
       "\t<li>'Astro_D52'</li>\n",
       "\t<li>'DA_D52_ROT'</li>\n",
       "\t<li>'DA_D52'</li>\n",
       "\t<li>'Epen1_D52_ROT'</li>\n",
       "\t<li>'Epen1_D52'</li>\n",
       "\t<li>'Sert_D52_ROT'</li>\n",
       "\t<li>'Sert_D52'</li>\n",
       "</ol>\n"
      ],
      "text/latex": [
       "\\begin{enumerate*}\n",
       "\\item 'FPP\\_D11'\n",
       "\\item 'P\\_FPP\\_D11'\n",
       "\\item 'FPP\\_D30'\n",
       "\\item 'DA\\_D30'\n",
       "\\item 'Epen1\\_D30'\n",
       "\\item 'Sert\\_D30'\n",
       "\\item 'Astro\\_D52\\_ROT'\n",
       "\\item 'Astro\\_D52'\n",
       "\\item 'DA\\_D52\\_ROT'\n",
       "\\item 'DA\\_D52'\n",
       "\\item 'Epen1\\_D52\\_ROT'\n",
       "\\item 'Epen1\\_D52'\n",
       "\\item 'Sert\\_D52\\_ROT'\n",
       "\\item 'Sert\\_D52'\n",
       "\\end{enumerate*}\n"
      ],
      "text/markdown": [
       "1. 'FPP_D11'\n",
       "2. 'P_FPP_D11'\n",
       "3. 'FPP_D30'\n",
       "4. 'DA_D30'\n",
       "5. 'Epen1_D30'\n",
       "6. 'Sert_D30'\n",
       "7. 'Astro_D52_ROT'\n",
       "8. 'Astro_D52'\n",
       "9. 'DA_D52_ROT'\n",
       "10. 'DA_D52'\n",
       "11. 'Epen1_D52_ROT'\n",
       "12. 'Epen1_D52'\n",
       "13. 'Sert_D52_ROT'\n",
       "14. 'Sert_D52'\n",
       "\n",
       "\n"
      ],
      "text/plain": [
       " [1] \"FPP_D11\"       \"P_FPP_D11\"     \"FPP_D30\"       \"DA_D30\"       \n",
       " [5] \"Epen1_D30\"     \"Sert_D30\"      \"Astro_D52_ROT\" \"Astro_D52\"    \n",
       " [9] \"DA_D52_ROT\"    \"DA_D52\"        \"Epen1_D52_ROT\" \"Epen1_D52\"    \n",
       "[13] \"Sert_D52_ROT\"  \"Sert_D52\"     "
      ]
     },
     "metadata": {},
     "output_type": "display_data"
    }
   ],
   "source": [
    "leads = df\n",
    "leads$label = paste0(leads$celltype,\"_\",leads$condition)\n",
    "unique(leads$label)"
   ]
  },
  {
   "cell_type": "code",
   "execution_count": 11,
   "metadata": {},
   "outputs": [
    {
     "data": {
      "text/html": [
       "<ol class=list-inline>\n",
       "\t<li>'ENSG00000051825-GCST003496'</li>\n",
       "\t<li>'ENSG00000103512-GCST003496'</li>\n",
       "\t<li>'ENSG00000134490-GCST003496'</li>\n",
       "\t<li>'ENSG00000105968-GCST003496'</li>\n",
       "\t<li>'ENSG00000003249-GCST003724'</li>\n",
       "\t<li>'ENSG00000109920-GCST003770'</li>\n",
       "</ol>\n"
      ],
      "text/latex": [
       "\\begin{enumerate*}\n",
       "\\item 'ENSG00000051825-GCST003496'\n",
       "\\item 'ENSG00000103512-GCST003496'\n",
       "\\item 'ENSG00000134490-GCST003496'\n",
       "\\item 'ENSG00000105968-GCST003496'\n",
       "\\item 'ENSG00000003249-GCST003724'\n",
       "\\item 'ENSG00000109920-GCST003770'\n",
       "\\end{enumerate*}\n"
      ],
      "text/markdown": [
       "1. 'ENSG00000051825-GCST003496'\n",
       "2. 'ENSG00000103512-GCST003496'\n",
       "3. 'ENSG00000134490-GCST003496'\n",
       "4. 'ENSG00000105968-GCST003496'\n",
       "5. 'ENSG00000003249-GCST003724'\n",
       "6. 'ENSG00000109920-GCST003770'\n",
       "\n",
       "\n"
      ],
      "text/plain": [
       "[1] \"ENSG00000051825-GCST003496\" \"ENSG00000103512-GCST003496\"\n",
       "[3] \"ENSG00000134490-GCST003496\" \"ENSG00000105968-GCST003496\"\n",
       "[5] \"ENSG00000003249-GCST003724\" \"ENSG00000109920-GCST003770\""
      ]
     },
     "metadata": {},
     "output_type": "display_data"
    }
   ],
   "source": [
    "leads$coloc_id = paste0(leads$Ensemble_ID,\"-\",leads$study_id)\n",
    "head(leads$coloc_id)"
   ]
  },
  {
   "cell_type": "code",
   "execution_count": 12,
   "metadata": {},
   "outputs": [
    {
     "data": {
      "text/html": [
       "<ol class=list-inline>\n",
       "\t<li>226</li>\n",
       "\t<li>350</li>\n",
       "\t<li>219</li>\n",
       "</ol>\n"
      ],
      "text/latex": [
       "\\begin{enumerate*}\n",
       "\\item 226\n",
       "\\item 350\n",
       "\\item 219\n",
       "\\end{enumerate*}\n"
      ],
      "text/markdown": [
       "1. 226\n",
       "2. 350\n",
       "3. 219\n",
       "\n",
       "\n"
      ],
      "text/plain": [
       "[1] 226 350 219"
      ]
     },
     "metadata": {},
     "output_type": "display_data"
    }
   ],
   "source": [
    "# FPP & P_FPP\n",
    "D11 = leads[leads$label == \"FPP_D11\",]\n",
    "D30 = leads[leads$label == \"FPP_D30\",]\n",
    "P_FPP = leads[leads$label == \"P_FPP_D11\",]\n",
    "\n",
    "egenes0 = unique(D11$coloc_id)\n",
    "egenes1 = unique(D30$coloc_id)\n",
    "egenes2 = unique(P_FPP$coloc_id)\n",
    "##\n",
    "D11 = c(length(egenes0),length(unique(c(egenes0,egenes1))),length(egenes2))\n",
    "D11"
   ]
  },
  {
   "cell_type": "code",
   "execution_count": 13,
   "metadata": {},
   "outputs": [
    {
     "data": {
      "text/html": [
       "<ol class=list-inline>\n",
       "\t<li>142</li>\n",
       "\t<li>252</li>\n",
       "\t<li>327</li>\n",
       "</ol>\n"
      ],
      "text/latex": [
       "\\begin{enumerate*}\n",
       "\\item 142\n",
       "\\item 252\n",
       "\\item 327\n",
       "\\end{enumerate*}\n"
      ],
      "text/markdown": [
       "1. 142\n",
       "2. 252\n",
       "3. 327\n",
       "\n",
       "\n"
      ],
      "text/plain": [
       "[1] 142 252 327"
      ]
     },
     "metadata": {},
     "output_type": "display_data"
    }
   ],
   "source": [
    "# DA\n",
    "D30 = leads[leads$label == \"DA_D30\",]\n",
    "D52 = leads[leads$label == \"DA_D52\",]\n",
    "D52_r = leads[leads$label == \"DA_D52_ROT\",]\n",
    "egenes30 = unique(D30$coloc_id)\n",
    "egenes = unique(D52$coloc_id)\n",
    "egenesROT = unique(D52_r$coloc_id)\n",
    "##\n",
    "DA = c(length(egenes30),length(unique(c(egenes30,egenes))),length(unique(c(egenes30,egenes,egenesROT))))\n",
    "DA"
   ]
  },
  {
   "cell_type": "code",
   "execution_count": 14,
   "metadata": {},
   "outputs": [
    {
     "data": {
      "text/html": [
       "<ol class=list-inline>\n",
       "\t<li>179</li>\n",
       "\t<li>314</li>\n",
       "\t<li>480</li>\n",
       "</ol>\n"
      ],
      "text/latex": [
       "\\begin{enumerate*}\n",
       "\\item 179\n",
       "\\item 314\n",
       "\\item 480\n",
       "\\end{enumerate*}\n"
      ],
      "text/markdown": [
       "1. 179\n",
       "2. 314\n",
       "3. 480\n",
       "\n",
       "\n"
      ],
      "text/plain": [
       "[1] 179 314 480"
      ]
     },
     "metadata": {},
     "output_type": "display_data"
    }
   ],
   "source": [
    "# Sert\n",
    "D30 = leads[leads$label == \"Sert_D30\",]\n",
    "D52 = leads[leads$label == \"Sert_D52\",]\n",
    "D52_r = leads[leads$label == \"Sert_D52_ROT\",]\n",
    "egenes30 = unique(D30$coloc_id)\n",
    "egenes = unique(D52$coloc_id)\n",
    "egenesROT = unique(D52_r$coloc_id)\n",
    "##\n",
    "Sert = c(length(egenes30),length(unique(c(egenes30,egenes))),length(unique(c(egenes30,egenes,egenesROT))))\n",
    "Sert"
   ]
  },
  {
   "cell_type": "code",
   "execution_count": 15,
   "metadata": {},
   "outputs": [
    {
     "data": {
      "text/html": [
       "<ol class=list-inline>\n",
       "\t<li>171</li>\n",
       "\t<li>308</li>\n",
       "\t<li>423</li>\n",
       "</ol>\n"
      ],
      "text/latex": [
       "\\begin{enumerate*}\n",
       "\\item 171\n",
       "\\item 308\n",
       "\\item 423\n",
       "\\end{enumerate*}\n"
      ],
      "text/markdown": [
       "1. 171\n",
       "2. 308\n",
       "3. 423\n",
       "\n",
       "\n"
      ],
      "text/plain": [
       "[1] 171 308 423"
      ]
     },
     "metadata": {},
     "output_type": "display_data"
    }
   ],
   "source": [
    "# Epen1\n",
    "D30 = leads[leads$label == \"Epen1_D30\",]\n",
    "D52 = leads[leads$label == \"Epen1_D52\",]\n",
    "D52_r = leads[leads$label == \"Epen1_D52_ROT\",]\n",
    "egenes30 = unique(D30$coloc_id)\n",
    "egenes = unique(D52$coloc_id)\n",
    "egenesROT = unique(D52_r$coloc_id)\n",
    "##\n",
    "Epen1 = c(length(egenes30),length(unique(c(egenes30,egenes))),length(unique(c(egenes30,egenes,egenesROT))))\n",
    "Epen1"
   ]
  },
  {
   "cell_type": "code",
   "execution_count": 16,
   "metadata": {},
   "outputs": [
    {
     "data": {
      "text/html": [
       "<ol class=list-inline>\n",
       "\t<li>143</li>\n",
       "\t<li>217</li>\n",
       "</ol>\n"
      ],
      "text/latex": [
       "\\begin{enumerate*}\n",
       "\\item 143\n",
       "\\item 217\n",
       "\\end{enumerate*}\n"
      ],
      "text/markdown": [
       "1. 143\n",
       "2. 217\n",
       "\n",
       "\n"
      ],
      "text/plain": [
       "[1] 143 217"
      ]
     },
     "metadata": {},
     "output_type": "display_data"
    }
   ],
   "source": [
    "# Astro\n",
    "D52 = leads[leads$label == \"Astro_D52\",]\n",
    "D52_r = leads[leads$label == \"Astro_D52_ROT\",]\n",
    "egenes = unique(D52$coloc_id)\n",
    "egenesROT = unique(D52_r$coloc_id)\n",
    "##\n",
    "Astro = c(length(egenes),length(unique(c(egenes,egenesROT))))\n",
    "Astro"
   ]
  },
  {
   "cell_type": "code",
   "execution_count": 17,
   "metadata": {},
   "outputs": [
    {
     "data": {
      "image/png": "[encoded data removed]",
      "text/plain": [
       "plot without title"
      ]
     },
     "metadata": {},
     "output_type": "display_data"
    }
   ],
   "source": [
    "col_FPP = \"#aec7e8\"\n",
    "col_P_FPP = \"#1f77b4\"\n",
    "col_DA = \"#2ca02c\"\n",
    "col_Sert = \"#98df8a\"\n",
    "col_Epen1 = \"#ff9896\"\n",
    "col_Astro = \"#9467bd\"\n",
    "\n",
    "options(repr.plot.width = 5, repr.plot.height = 4)\n",
    "my.xlim = c(0, 400)\n",
    "my.ylim = c(0,20)\n",
    "my.space = c(0,0.1,0.3,0.5, 0.1, 0.1, 0.5, 0.1, 0.1, 0.5,0.1, 0.1,0.5,0.1)\n",
    "opar <- par(lwd = 1)\n",
    "\n",
    "barplot(c(D11,DA,Sert,Epen1,Astro),xlim = my.ylim, ylim = my.xlim, space = my.space,\n",
    "       col = c(col_FPP,   col_FPP, col_P_FPP,\n",
    "               col_DA,    col_DA,    col_DA, \n",
    "               col_Sert,  col_Sert,  col_Sert, \n",
    "               col_Epen1, col_Epen1, col_Epen1, \n",
    "               col_Astro, col_Astro))#,\n",
    "#        border = c(\"lightgrey\",\"darkgray\",\"black\", \n",
    "#                   \"lightgrey\",\"darkgray\",\"black\",  \n",
    "#                   \"lightgrey\",\"darkgray\",\"black\", \n",
    "#                   \"lightgrey\",\"darkgray\",\"black\"))"
   ]
  },
  {
   "cell_type": "code",
   "execution_count": 19,
   "metadata": {},
   "outputs": [],
   "source": [
    "fig_dir = \"/hps/nobackup/stegle/users/acuomo/all_scripts/sc_neuroseq/figures/extended_figures/\"\n",
    "\n",
    "pdf(paste0(fig_dir,\"Supp_Fig_6c.pdf\"), width=5, height=4)\n",
    "barplot(c(D11,DA,Sert,Epen1,Astro),xlim = my.ylim, ylim = my.xlim, space = my.space,\n",
    "       col = c(col_FPP,   col_FPP, col_P_FPP,\n",
    "               col_DA,    col_DA,    col_DA, \n",
    "               col_Sert,  col_Sert,  col_Sert, \n",
    "               col_Epen1, col_Epen1, col_Epen1, \n",
    "               col_Astro, col_Astro))\n",
    "dev.off()"
   ]
  },
  {
   "cell_type": "code",
   "execution_count": null,
   "metadata": {},
   "outputs": [],
   "source": []
  }
 ],
 "metadata": {
  "kernelspec": {
   "display_name": "R",
   "language": "R",
   "name": "ir"
  },
  "language_info": {
   "codemirror_mode": "r",
   "file_extension": ".r",
   "mimetype": "text/x-r-source",
   "name": "R",
   "pygments_lexer": "r",
   "version": "3.6.1"
  }
 },
 "nbformat": 4,
 "nbformat_minor": 4
}
