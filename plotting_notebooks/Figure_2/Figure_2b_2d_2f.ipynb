{
 "cells": [
  {
   "cell_type": "code",
   "execution_count": 26,
   "metadata": {},
   "outputs": [],
   "source": [
    "filename = \"/hps/nobackup/stegle/users/acuomo/all_scripts/sc_neuroseq/pca_celltype_fractions_heatmap_df.csv\""
   ]
  },
  {
   "cell_type": "code",
   "execution_count": 27,
   "metadata": {},
   "outputs": [
    {
     "data": {
      "text/html": [
       "<table>\n",
       "<thead><tr><th scope=col>donor_id</th><th scope=col>pool_id</th><th scope=col>P_FPP_D11</th><th scope=col>FPP_D11</th><th scope=col>NB_D11</th><th scope=col>P_FPP_D30</th><th scope=col>FPP_D30</th><th scope=col>Epen1_D30</th><th scope=col>U_Neur1_D30</th><th scope=col>DA_D30</th><th scope=col>Sert_D30</th><th scope=col>P_FPP_D52</th><th scope=col>FPP_D52</th><th scope=col>Astro_D52</th><th scope=col>Epen1_D52</th><th scope=col>U_Neur1_D52</th><th scope=col>DA_D52</th><th scope=col>Sert_D52</th></tr></thead>\n",
       "<tbody>\n",
       "\t<tr><td>HPSI1014i-tixi_4</td><td>pool7           </td><td>0.3666667       </td><td>0.5833333       </td><td>0.050000000     </td><td>0.06777108      </td><td>0.3147590       </td><td>0.04969880      </td><td>0.01506024      </td><td>0.45331325      </td><td>0.09939759      </td><td>0.04005525      </td><td>0.1422652       </td><td>0.052486188     </td><td>0.3936464       </td><td>0.005524862     </td><td>0.25276243      </td><td>0.08701657      </td></tr>\n",
       "\t<tr><td>HPSI0714i-kute_5</td><td>pool5           </td><td>0.5500000       </td><td>0.4166667       </td><td>0.033333333     </td><td>0.03305785      </td><td>0.1983471       </td><td>0.07438017      </td><td>0.11570248      </td><td>0.47107438      </td><td>0.10743802      </td><td>0.01111111      </td><td>0.2333333       </td><td>0.088888889     </td><td>0.3888889       </td><td>0.100000000     </td><td>0.06666667      </td><td>0.11111111      </td></tr>\n",
       "\t<tr><td>HPSI1014i-vils_1</td><td>pool8           </td><td>0.4947839       </td><td>0.5027322       </td><td>0.002483855     </td><td>0.07525952      </td><td>0.3399654       </td><td>0.06747405      </td><td>0.05622837      </td><td>0.25259516      </td><td>0.20847751      </td><td>0.02191011      </td><td>0.2078652       </td><td>0.001685393     </td><td>0.4140449       </td><td>0.022471910     </td><td>0.18539326      </td><td>0.11853933      </td></tr>\n",
       "\t<tr><td>HPSI0914i-zerv_7</td><td>pool8           </td><td>0.5062429       </td><td>0.4835414       </td><td>0.010215664     </td><td>0.06512605      </td><td>0.1932773       </td><td>0.14495798      </td><td>0.02521008      </td><td>0.37394958      </td><td>0.19747899      </td><td>0.03492433      </td><td>0.2339930       </td><td>0.000000000     </td><td>0.3701979       </td><td>0.018626310     </td><td>0.16181607      </td><td>0.15948778      </td></tr>\n",
       "\t<tr><td>HPSI1113i-hayt_3</td><td>pool9           </td><td>0.4978434       </td><td>0.4971623       </td><td>0.004994325     </td><td>0.06608293      </td><td>0.3011730       </td><td>0.05253593      </td><td>0.04196266      </td><td>0.41780935      </td><td>0.12010573      </td><td>0.03993673      </td><td>0.1759589       </td><td>0.013246342     </td><td>0.4570977       </td><td>0.013444049     </td><td>0.11130882      </td><td>0.13977857      </td></tr>\n",
       "\t<tr><td>HPSI0514i-qihv_1</td><td>pool6           </td><td>0.4477612       </td><td>0.5074627       </td><td>0.044776119     </td><td>0.11193242      </td><td>0.4149947       </td><td>0.19007392      </td><td>0.04435058      </td><td>0.05807814      </td><td>0.18057022      </td><td>0.03571429      </td><td>0.2361751       </td><td>0.102534562     </td><td>0.3940092       </td><td>0.020737327     </td><td>0.01958525      </td><td>0.15783410      </td></tr>\n",
       "</tbody>\n",
       "</table>\n"
      ],
      "text/latex": [
       "\\begin{tabular}{r|llllllllllllllllll}\n",
       " donor\\_id & pool\\_id & P\\_FPP\\_D11 & FPP\\_D11 & NB\\_D11 & P\\_FPP\\_D30 & FPP\\_D30 & Epen1\\_D30 & U\\_Neur1\\_D30 & DA\\_D30 & Sert\\_D30 & P\\_FPP\\_D52 & FPP\\_D52 & Astro\\_D52 & Epen1\\_D52 & U\\_Neur1\\_D52 & DA\\_D52 & Sert\\_D52\\\\\n",
       "\\hline\n",
       "\t HPSI1014i-tixi\\_4 & pool7              & 0.3666667          & 0.5833333          & 0.050000000        & 0.06777108         & 0.3147590          & 0.04969880         & 0.01506024         & 0.45331325         & 0.09939759         & 0.04005525         & 0.1422652          & 0.052486188        & 0.3936464          & 0.005524862        & 0.25276243         & 0.08701657        \\\\\n",
       "\t HPSI0714i-kute\\_5 & pool5              & 0.5500000          & 0.4166667          & 0.033333333        & 0.03305785         & 0.1983471          & 0.07438017         & 0.11570248         & 0.47107438         & 0.10743802         & 0.01111111         & 0.2333333          & 0.088888889        & 0.3888889          & 0.100000000        & 0.06666667         & 0.11111111        \\\\\n",
       "\t HPSI1014i-vils\\_1 & pool8              & 0.4947839          & 0.5027322          & 0.002483855        & 0.07525952         & 0.3399654          & 0.06747405         & 0.05622837         & 0.25259516         & 0.20847751         & 0.02191011         & 0.2078652          & 0.001685393        & 0.4140449          & 0.022471910        & 0.18539326         & 0.11853933        \\\\\n",
       "\t HPSI0914i-zerv\\_7 & pool8              & 0.5062429          & 0.4835414          & 0.010215664        & 0.06512605         & 0.1932773          & 0.14495798         & 0.02521008         & 0.37394958         & 0.19747899         & 0.03492433         & 0.2339930          & 0.000000000        & 0.3701979          & 0.018626310        & 0.16181607         & 0.15948778        \\\\\n",
       "\t HPSI1113i-hayt\\_3 & pool9              & 0.4978434          & 0.4971623          & 0.004994325        & 0.06608293         & 0.3011730          & 0.05253593         & 0.04196266         & 0.41780935         & 0.12010573         & 0.03993673         & 0.1759589          & 0.013246342        & 0.4570977          & 0.013444049        & 0.11130882         & 0.13977857        \\\\\n",
       "\t HPSI0514i-qihv\\_1 & pool6              & 0.4477612          & 0.5074627          & 0.044776119        & 0.11193242         & 0.4149947          & 0.19007392         & 0.04435058         & 0.05807814         & 0.18057022         & 0.03571429         & 0.2361751          & 0.102534562        & 0.3940092          & 0.020737327        & 0.01958525         & 0.15783410        \\\\\n",
       "\\end{tabular}\n"
      ],
      "text/markdown": [
       "\n",
       "| donor_id | pool_id | P_FPP_D11 | FPP_D11 | NB_D11 | P_FPP_D30 | FPP_D30 | Epen1_D30 | U_Neur1_D30 | DA_D30 | Sert_D30 | P_FPP_D52 | FPP_D52 | Astro_D52 | Epen1_D52 | U_Neur1_D52 | DA_D52 | Sert_D52 |\n",
       "|---|---|---|---|---|---|---|---|---|---|---|---|---|---|---|---|---|---|\n",
       "| HPSI1014i-tixi_4 | pool7            | 0.3666667        | 0.5833333        | 0.050000000      | 0.06777108       | 0.3147590        | 0.04969880       | 0.01506024       | 0.45331325       | 0.09939759       | 0.04005525       | 0.1422652        | 0.052486188      | 0.3936464        | 0.005524862      | 0.25276243       | 0.08701657       |\n",
       "| HPSI0714i-kute_5 | pool5            | 0.5500000        | 0.4166667        | 0.033333333      | 0.03305785       | 0.1983471        | 0.07438017       | 0.11570248       | 0.47107438       | 0.10743802       | 0.01111111       | 0.2333333        | 0.088888889      | 0.3888889        | 0.100000000      | 0.06666667       | 0.11111111       |\n",
       "| HPSI1014i-vils_1 | pool8            | 0.4947839        | 0.5027322        | 0.002483855      | 0.07525952       | 0.3399654        | 0.06747405       | 0.05622837       | 0.25259516       | 0.20847751       | 0.02191011       | 0.2078652        | 0.001685393      | 0.4140449        | 0.022471910      | 0.18539326       | 0.11853933       |\n",
       "| HPSI0914i-zerv_7 | pool8            | 0.5062429        | 0.4835414        | 0.010215664      | 0.06512605       | 0.1932773        | 0.14495798       | 0.02521008       | 0.37394958       | 0.19747899       | 0.03492433       | 0.2339930        | 0.000000000      | 0.3701979        | 0.018626310      | 0.16181607       | 0.15948778       |\n",
       "| HPSI1113i-hayt_3 | pool9            | 0.4978434        | 0.4971623        | 0.004994325      | 0.06608293       | 0.3011730        | 0.05253593       | 0.04196266       | 0.41780935       | 0.12010573       | 0.03993673       | 0.1759589        | 0.013246342      | 0.4570977        | 0.013444049      | 0.11130882       | 0.13977857       |\n",
       "| HPSI0514i-qihv_1 | pool6            | 0.4477612        | 0.5074627        | 0.044776119      | 0.11193242       | 0.4149947        | 0.19007392       | 0.04435058       | 0.05807814       | 0.18057022       | 0.03571429       | 0.2361751        | 0.102534562      | 0.3940092        | 0.020737327      | 0.01958525       | 0.15783410       |\n",
       "\n"
      ],
      "text/plain": [
       "  donor_id         pool_id P_FPP_D11 FPP_D11   NB_D11      P_FPP_D30  FPP_D30  \n",
       "1 HPSI1014i-tixi_4 pool7   0.3666667 0.5833333 0.050000000 0.06777108 0.3147590\n",
       "2 HPSI0714i-kute_5 pool5   0.5500000 0.4166667 0.033333333 0.03305785 0.1983471\n",
       "3 HPSI1014i-vils_1 pool8   0.4947839 0.5027322 0.002483855 0.07525952 0.3399654\n",
       "4 HPSI0914i-zerv_7 pool8   0.5062429 0.4835414 0.010215664 0.06512605 0.1932773\n",
       "5 HPSI1113i-hayt_3 pool9   0.4978434 0.4971623 0.004994325 0.06608293 0.3011730\n",
       "6 HPSI0514i-qihv_1 pool6   0.4477612 0.5074627 0.044776119 0.11193242 0.4149947\n",
       "  Epen1_D30  U_Neur1_D30 DA_D30     Sert_D30   P_FPP_D52  FPP_D52   Astro_D52  \n",
       "1 0.04969880 0.01506024  0.45331325 0.09939759 0.04005525 0.1422652 0.052486188\n",
       "2 0.07438017 0.11570248  0.47107438 0.10743802 0.01111111 0.2333333 0.088888889\n",
       "3 0.06747405 0.05622837  0.25259516 0.20847751 0.02191011 0.2078652 0.001685393\n",
       "4 0.14495798 0.02521008  0.37394958 0.19747899 0.03492433 0.2339930 0.000000000\n",
       "5 0.05253593 0.04196266  0.41780935 0.12010573 0.03993673 0.1759589 0.013246342\n",
       "6 0.19007392 0.04435058  0.05807814 0.18057022 0.03571429 0.2361751 0.102534562\n",
       "  Epen1_D52 U_Neur1_D52 DA_D52     Sert_D52  \n",
       "1 0.3936464 0.005524862 0.25276243 0.08701657\n",
       "2 0.3888889 0.100000000 0.06666667 0.11111111\n",
       "3 0.4140449 0.022471910 0.18539326 0.11853933\n",
       "4 0.3701979 0.018626310 0.16181607 0.15948778\n",
       "5 0.4570977 0.013444049 0.11130882 0.13977857\n",
       "6 0.3940092 0.020737327 0.01958525 0.15783410"
      ]
     },
     "metadata": {},
     "output_type": "display_data"
    }
   ],
   "source": [
    "df = read.csv(filename)\n",
    "head(df)"
   ]
  },
  {
   "cell_type": "code",
   "execution_count": 28,
   "metadata": {},
   "outputs": [
    {
     "data": {
      "text/html": [
       "10"
      ],
      "text/latex": [
       "10"
      ],
      "text/markdown": [
       "10"
      ],
      "text/plain": [
       "[1] 10"
      ]
     },
     "metadata": {},
     "output_type": "display_data"
    },
    {
     "data": {
      "text/html": [
       "<ol class=list-inline>\n",
       "\t<li>pool7</li>\n",
       "\t<li>pool5</li>\n",
       "\t<li>pool8</li>\n",
       "\t<li>pool9</li>\n",
       "\t<li>pool6</li>\n",
       "\t<li>pool4</li>\n",
       "\t<li>pool3</li>\n",
       "\t<li>pool11</li>\n",
       "\t<li>pool2</li>\n",
       "\t<li>pool1</li>\n",
       "</ol>\n",
       "\n",
       "<details>\n",
       "\t<summary style=display:list-item;cursor:pointer>\n",
       "\t\t<strong>Levels</strong>:\n",
       "\t</summary>\n",
       "\t<ol class=list-inline>\n",
       "\t\t<li>'pool1'</li>\n",
       "\t\t<li>'pool11'</li>\n",
       "\t\t<li>'pool2'</li>\n",
       "\t\t<li>'pool3'</li>\n",
       "\t\t<li>'pool4'</li>\n",
       "\t\t<li>'pool5'</li>\n",
       "\t\t<li>'pool6'</li>\n",
       "\t\t<li>'pool7'</li>\n",
       "\t\t<li>'pool8'</li>\n",
       "\t\t<li>'pool9'</li>\n",
       "\t</ol>\n",
       "</details>"
      ],
      "text/latex": [
       "\\begin{enumerate*}\n",
       "\\item pool7\n",
       "\\item pool5\n",
       "\\item pool8\n",
       "\\item pool9\n",
       "\\item pool6\n",
       "\\item pool4\n",
       "\\item pool3\n",
       "\\item pool11\n",
       "\\item pool2\n",
       "\\item pool1\n",
       "\\end{enumerate*}\n",
       "\n",
       "\\emph{Levels}: \\begin{enumerate*}\n",
       "\\item 'pool1'\n",
       "\\item 'pool11'\n",
       "\\item 'pool2'\n",
       "\\item 'pool3'\n",
       "\\item 'pool4'\n",
       "\\item 'pool5'\n",
       "\\item 'pool6'\n",
       "\\item 'pool7'\n",
       "\\item 'pool8'\n",
       "\\item 'pool9'\n",
       "\\end{enumerate*}\n"
      ],
      "text/markdown": [
       "1. pool7\n",
       "2. pool5\n",
       "3. pool8\n",
       "4. pool9\n",
       "5. pool6\n",
       "6. pool4\n",
       "7. pool3\n",
       "8. pool11\n",
       "9. pool2\n",
       "10. pool1\n",
       "\n",
       "\n",
       "\n",
       "**Levels**: 1. 'pool1'\n",
       "2. 'pool11'\n",
       "3. 'pool2'\n",
       "4. 'pool3'\n",
       "5. 'pool4'\n",
       "6. 'pool5'\n",
       "7. 'pool6'\n",
       "8. 'pool7'\n",
       "9. 'pool8'\n",
       "10. 'pool9'\n",
       "\n",
       "\n"
      ],
      "text/plain": [
       " [1] pool7  pool5  pool8  pool9  pool6  pool4  pool3  pool11 pool2  pool1 \n",
       "Levels: pool1 pool11 pool2 pool3 pool4 pool5 pool6 pool7 pool8 pool9"
      ]
     },
     "metadata": {},
     "output_type": "display_data"
    }
   ],
   "source": [
    "length(unique(df$pool_id))\n",
    "unique(df$pool_id)"
   ]
  },
  {
   "cell_type": "code",
   "execution_count": 29,
   "metadata": {},
   "outputs": [],
   "source": [
    "library(ggplot2)"
   ]
  },
  {
   "cell_type": "code",
   "execution_count": 30,
   "metadata": {
    "scrolled": false
   },
   "outputs": [
    {
     "data": {
      "image/png": "[encoded data removed]",
      "text/plain": [
       "plot without title"
      ]
     },
     "metadata": {},
     "output_type": "display_data"
    }
   ],
   "source": [
    "df$index = 1:nrow(df)\n",
    "options(repr.plot.width=2.5, repr.plot.height=6)\n",
    "ggplot(df,aes(x = Sert_D52+DA_D52, y = -index)) + geom_point(col = \"grey\",alpha = 1) + xlim(c(0,1)) +\n",
    "    geom_point(data = df[df$donor_id == 'HPSI0514i-fiaj_1',], size = 1.5, col = '#17becf') + \n",
    "    geom_point(data = df[df$donor_id == 'HPSI1213i-hehd_1',], size = 1.5, col = 'darkblue') + \n",
    "    theme_classic() + ylab(\"\")"
   ]
  },
  {
   "cell_type": "code",
   "execution_count": 31,
   "metadata": {},
   "outputs": [
    {
     "data": {
      "text/html": [
       "<strong>png:</strong> 2"
      ],
      "text/latex": [
       "\\textbf{png:} 2"
      ],
      "text/markdown": [
       "**png:** 2"
      ],
      "text/plain": [
       "png \n",
       "  2 "
      ]
     },
     "metadata": {},
     "output_type": "display_data"
    }
   ],
   "source": [
    "fig_dir = \"/hps/nobackup/stegle/users/acuomo/all_scripts/sc_neuroseq/figures/main_figures/\"\n",
    "pdf(paste0(fig_dir,\"Fig2b_middle.pdf\"), width=2.5, height=6)\n",
    "ggplot(df,aes(x = Sert_D52+DA_D52, y = -index)) + geom_point(col = \"grey\",alpha = 1) + xlim(c(0,1)) +\n",
    "    geom_point(data = df[df$donor_id == 'HPSI0514i-fiaj_1',], size = 1.5, col = '#17becf') + \n",
    "    geom_point(data = df[df$donor_id == 'HPSI1213i-hehd_1',], size = 1.5, col = 'darkblue') + \n",
    "    theme_classic() + ylab(\"\")\n",
    "dev.off()"
   ]
  },
  {
   "cell_type": "code",
   "execution_count": 32,
   "metadata": {},
   "outputs": [],
   "source": [
    "options(repr.plot.width=2.5, repr.plot.height=6)\n",
    "df$rep = FALSE\n",
    "for (donor in unique(df$donor_id)){\n",
    "    r = df[df$donor_id == donor,]\n",
    "    if (nrow(r)>2){\n",
    "        print(donor)\n",
    "    }\n",
    "    if (nrow(r)==2){\n",
    "        df$rep[df$donor_id == donor] = TRUE\n",
    "    }\n",
    "}"
   ]
  },
  {
   "cell_type": "code",
   "execution_count": 33,
   "metadata": {},
   "outputs": [
    {
     "data": {
      "text/html": [
       "<table>\n",
       "<thead><tr><th></th><th scope=col>donor_id</th><th scope=col>pool_id</th><th scope=col>P_FPP_D11</th><th scope=col>FPP_D11</th><th scope=col>NB_D11</th><th scope=col>P_FPP_D30</th><th scope=col>FPP_D30</th><th scope=col>Epen1_D30</th><th scope=col>U_Neur1_D30</th><th scope=col>DA_D30</th><th scope=col>Sert_D30</th><th scope=col>P_FPP_D52</th><th scope=col>FPP_D52</th><th scope=col>Astro_D52</th><th scope=col>Epen1_D52</th><th scope=col>U_Neur1_D52</th><th scope=col>DA_D52</th><th scope=col>Sert_D52</th><th scope=col>index</th><th scope=col>rep</th></tr></thead>\n",
       "<tbody>\n",
       "\t<tr><th scope=row>49</th><td>HPSI0114i-eipl_1</td><td>pool1           </td><td>0.3904395       </td><td>0.5364132       </td><td>0.073147257     </td><td>0.04438441      </td><td>0.29834041      </td><td>0.253570050     </td><td>0.333461984     </td><td>0.01968352      </td><td>0.005403319     </td><td>0.079699248     </td><td>0.15789474      </td><td>0.511933680     </td><td>0.138153075     </td><td>0.0904569115    </td><td>0.009562367     </td><td>0.003315982     </td><td> 49             </td><td>FALSE           </td></tr>\n",
       "\t<tr><th scope=row>96</th><td>HPSI0114i-wegi_1</td><td>pool6           </td><td>0.4495780       </td><td>0.5504220       </td><td>0.000000000     </td><td>0.09956553      </td><td>0.13830558      </td><td>0.006154960     </td><td>0.005068791     </td><td>0.10137581      </td><td>0.649529327     </td><td>0.002016129     </td><td>0.04781106      </td><td>0.001728111     </td><td>0.007200461     </td><td>0.0008640553    </td><td>0.047235023     </td><td>0.861463134     </td><td> 96             </td><td> TRUE           </td></tr>\n",
       "\t<tr><th scope=row>115</th><td>HPSI0114i-wegi_1</td><td>pool7           </td><td>0.3244444       </td><td>0.6711111       </td><td>0.004444444     </td><td>0.03403566      </td><td>0.05024311      </td><td>0.001620746     </td><td>0.000000000     </td><td>0.52350081      </td><td>0.390599676     </td><td>0.000000000     </td><td>0.01174168      </td><td>0.017612524     </td><td>0.000000000     </td><td>0.0000000000    </td><td>0.592954990     </td><td>0.293542074     </td><td>115             </td><td> TRUE           </td></tr>\n",
       "\t<tr><th scope=row>144</th><td>HPSI0115i-aion_2</td><td>pool4           </td><td>0.4387895       </td><td>0.5584594       </td><td>0.002751032     </td><td>0.02589396      </td><td>0.10604192      </td><td>0.054254007     </td><td>0.012330456     </td><td>0.55240444      </td><td>0.246609125     </td><td>0.010353753     </td><td>0.08541846      </td><td>0.005176877     </td><td>0.149266609     </td><td>0.0155306299    </td><td>0.313201035     </td><td>0.398619500     </td><td>144             </td><td>FALSE           </td></tr>\n",
       "\t<tr><th scope=row>8</th><td>HPSI0115i-aoxv_1</td><td>pool8           </td><td>0.4302359       </td><td>0.5391786       </td><td>0.030585494     </td><td>0.04949197      </td><td>0.37200918      </td><td>0.298590626     </td><td>0.072763029     </td><td>0.08423468      </td><td>0.122254998     </td><td>0.022948366     </td><td>0.10850586      </td><td>0.025941631     </td><td>0.534048391     </td><td>0.0486405587    </td><td>0.081317037     </td><td>0.139935146     </td><td>  8             </td><td>FALSE           </td></tr>\n",
       "\t<tr><th scope=row>45</th><td>HPSI0115i-bimq_4</td><td>pool4           </td><td>0.3285486       </td><td>0.5390750       </td><td>0.132376396     </td><td>0.07162534      </td><td>0.36225895      </td><td>0.148760331     </td><td>0.192837466     </td><td>0.18181818      </td><td>0.037190083     </td><td>0.108247423     </td><td>0.17619494      </td><td>0.361293346     </td><td>0.156513590     </td><td>0.1030927835    </td><td>0.052014995     </td><td>0.035613871     </td><td> 45             </td><td>FALSE           </td></tr>\n",
       "</tbody>\n",
       "</table>\n"
      ],
      "text/latex": [
       "\\begin{tabular}{r|llllllllllllllllllll}\n",
       "  & donor\\_id & pool\\_id & P\\_FPP\\_D11 & FPP\\_D11 & NB\\_D11 & P\\_FPP\\_D30 & FPP\\_D30 & Epen1\\_D30 & U\\_Neur1\\_D30 & DA\\_D30 & Sert\\_D30 & P\\_FPP\\_D52 & FPP\\_D52 & Astro\\_D52 & Epen1\\_D52 & U\\_Neur1\\_D52 & DA\\_D52 & Sert\\_D52 & index & rep\\\\\n",
       "\\hline\n",
       "\t49 & HPSI0114i-eipl\\_1 & pool1              & 0.3904395          & 0.5364132          & 0.073147257        & 0.04438441         & 0.29834041         & 0.253570050        & 0.333461984        & 0.01968352         & 0.005403319        & 0.079699248        & 0.15789474         & 0.511933680        & 0.138153075        & 0.0904569115       & 0.009562367        & 0.003315982        &  49                & FALSE             \\\\\n",
       "\t96 & HPSI0114i-wegi\\_1 & pool6              & 0.4495780          & 0.5504220          & 0.000000000        & 0.09956553         & 0.13830558         & 0.006154960        & 0.005068791        & 0.10137581         & 0.649529327        & 0.002016129        & 0.04781106         & 0.001728111        & 0.007200461        & 0.0008640553       & 0.047235023        & 0.861463134        &  96                &  TRUE             \\\\\n",
       "\t115 & HPSI0114i-wegi\\_1 & pool7              & 0.3244444          & 0.6711111          & 0.004444444        & 0.03403566         & 0.05024311         & 0.001620746        & 0.000000000        & 0.52350081         & 0.390599676        & 0.000000000        & 0.01174168         & 0.017612524        & 0.000000000        & 0.0000000000       & 0.592954990        & 0.293542074        & 115                &  TRUE             \\\\\n",
       "\t144 & HPSI0115i-aion\\_2 & pool4              & 0.4387895          & 0.5584594          & 0.002751032        & 0.02589396         & 0.10604192         & 0.054254007        & 0.012330456        & 0.55240444         & 0.246609125        & 0.010353753        & 0.08541846         & 0.005176877        & 0.149266609        & 0.0155306299       & 0.313201035        & 0.398619500        & 144                & FALSE             \\\\\n",
       "\t8 & HPSI0115i-aoxv\\_1 & pool8              & 0.4302359          & 0.5391786          & 0.030585494        & 0.04949197         & 0.37200918         & 0.298590626        & 0.072763029        & 0.08423468         & 0.122254998        & 0.022948366        & 0.10850586         & 0.025941631        & 0.534048391        & 0.0486405587       & 0.081317037        & 0.139935146        &   8                & FALSE             \\\\\n",
       "\t45 & HPSI0115i-bimq\\_4 & pool4              & 0.3285486          & 0.5390750          & 0.132376396        & 0.07162534         & 0.36225895         & 0.148760331        & 0.192837466        & 0.18181818         & 0.037190083        & 0.108247423        & 0.17619494         & 0.361293346        & 0.156513590        & 0.1030927835       & 0.052014995        & 0.035613871        &  45                & FALSE             \\\\\n",
       "\\end{tabular}\n"
      ],
      "text/markdown": [
       "\n",
       "| <!--/--> | donor_id | pool_id | P_FPP_D11 | FPP_D11 | NB_D11 | P_FPP_D30 | FPP_D30 | Epen1_D30 | U_Neur1_D30 | DA_D30 | Sert_D30 | P_FPP_D52 | FPP_D52 | Astro_D52 | Epen1_D52 | U_Neur1_D52 | DA_D52 | Sert_D52 | index | rep |\n",
       "|---|---|---|---|---|---|---|---|---|---|---|---|---|---|---|---|---|---|---|---|---|\n",
       "| 49 | HPSI0114i-eipl_1 | pool1            | 0.3904395        | 0.5364132        | 0.073147257      | 0.04438441       | 0.29834041       | 0.253570050      | 0.333461984      | 0.01968352       | 0.005403319      | 0.079699248      | 0.15789474       | 0.511933680      | 0.138153075      | 0.0904569115     | 0.009562367      | 0.003315982      |  49              | FALSE            |\n",
       "| 96 | HPSI0114i-wegi_1 | pool6            | 0.4495780        | 0.5504220        | 0.000000000      | 0.09956553       | 0.13830558       | 0.006154960      | 0.005068791      | 0.10137581       | 0.649529327      | 0.002016129      | 0.04781106       | 0.001728111      | 0.007200461      | 0.0008640553     | 0.047235023      | 0.861463134      |  96              |  TRUE            |\n",
       "| 115 | HPSI0114i-wegi_1 | pool7            | 0.3244444        | 0.6711111        | 0.004444444      | 0.03403566       | 0.05024311       | 0.001620746      | 0.000000000      | 0.52350081       | 0.390599676      | 0.000000000      | 0.01174168       | 0.017612524      | 0.000000000      | 0.0000000000     | 0.592954990      | 0.293542074      | 115              |  TRUE            |\n",
       "| 144 | HPSI0115i-aion_2 | pool4            | 0.4387895        | 0.5584594        | 0.002751032      | 0.02589396       | 0.10604192       | 0.054254007      | 0.012330456      | 0.55240444       | 0.246609125      | 0.010353753      | 0.08541846       | 0.005176877      | 0.149266609      | 0.0155306299     | 0.313201035      | 0.398619500      | 144              | FALSE            |\n",
       "| 8 | HPSI0115i-aoxv_1 | pool8            | 0.4302359        | 0.5391786        | 0.030585494      | 0.04949197       | 0.37200918       | 0.298590626      | 0.072763029      | 0.08423468       | 0.122254998      | 0.022948366      | 0.10850586       | 0.025941631      | 0.534048391      | 0.0486405587     | 0.081317037      | 0.139935146      |   8              | FALSE            |\n",
       "| 45 | HPSI0115i-bimq_4 | pool4            | 0.3285486        | 0.5390750        | 0.132376396      | 0.07162534       | 0.36225895       | 0.148760331      | 0.192837466      | 0.18181818       | 0.037190083      | 0.108247423      | 0.17619494       | 0.361293346      | 0.156513590      | 0.1030927835     | 0.052014995      | 0.035613871      |  45              | FALSE            |\n",
       "\n"
      ],
      "text/plain": [
       "    donor_id         pool_id P_FPP_D11 FPP_D11   NB_D11      P_FPP_D30 \n",
       "49  HPSI0114i-eipl_1 pool1   0.3904395 0.5364132 0.073147257 0.04438441\n",
       "96  HPSI0114i-wegi_1 pool6   0.4495780 0.5504220 0.000000000 0.09956553\n",
       "115 HPSI0114i-wegi_1 pool7   0.3244444 0.6711111 0.004444444 0.03403566\n",
       "144 HPSI0115i-aion_2 pool4   0.4387895 0.5584594 0.002751032 0.02589396\n",
       "8   HPSI0115i-aoxv_1 pool8   0.4302359 0.5391786 0.030585494 0.04949197\n",
       "45  HPSI0115i-bimq_4 pool4   0.3285486 0.5390750 0.132376396 0.07162534\n",
       "    FPP_D30    Epen1_D30   U_Neur1_D30 DA_D30     Sert_D30    P_FPP_D52  \n",
       "49  0.29834041 0.253570050 0.333461984 0.01968352 0.005403319 0.079699248\n",
       "96  0.13830558 0.006154960 0.005068791 0.10137581 0.649529327 0.002016129\n",
       "115 0.05024311 0.001620746 0.000000000 0.52350081 0.390599676 0.000000000\n",
       "144 0.10604192 0.054254007 0.012330456 0.55240444 0.246609125 0.010353753\n",
       "8   0.37200918 0.298590626 0.072763029 0.08423468 0.122254998 0.022948366\n",
       "45  0.36225895 0.148760331 0.192837466 0.18181818 0.037190083 0.108247423\n",
       "    FPP_D52    Astro_D52   Epen1_D52   U_Neur1_D52  DA_D52      Sert_D52   \n",
       "49  0.15789474 0.511933680 0.138153075 0.0904569115 0.009562367 0.003315982\n",
       "96  0.04781106 0.001728111 0.007200461 0.0008640553 0.047235023 0.861463134\n",
       "115 0.01174168 0.017612524 0.000000000 0.0000000000 0.592954990 0.293542074\n",
       "144 0.08541846 0.005176877 0.149266609 0.0155306299 0.313201035 0.398619500\n",
       "8   0.10850586 0.025941631 0.534048391 0.0486405587 0.081317037 0.139935146\n",
       "45  0.17619494 0.361293346 0.156513590 0.1030927835 0.052014995 0.035613871\n",
       "    index rep  \n",
       "49   49   FALSE\n",
       "96   96    TRUE\n",
       "115 115    TRUE\n",
       "144 144   FALSE\n",
       "8     8   FALSE\n",
       "45   45   FALSE"
      ]
     },
     "metadata": {},
     "output_type": "display_data"
    }
   ],
   "source": [
    "head(df[order(df$donor_id),])"
   ]
  },
  {
   "cell_type": "code",
   "execution_count": 34,
   "metadata": {},
   "outputs": [],
   "source": [
    "# if (!requireNamespace(\"BiocManager\", quietly = TRUE))\n",
    "#     install.packages(\"BiocManager\")\n",
    "\n",
    "# BiocManager::install(\"ComplexHeatmap\")"
   ]
  },
  {
   "cell_type": "code",
   "execution_count": 35,
   "metadata": {},
   "outputs": [
    {
     "data": {
      "image/png": "[encoded data removed]",
      "text/plain": [
       "plot without title"
      ]
     },
     "metadata": {},
     "output_type": "display_data"
    }
   ],
   "source": [
    "library(ComplexHeatmap)\n",
    "library(circlize)\n",
    "options(repr.plot.width=6, repr.plot.height=0.5)\n",
    "ha = HeatmapAnnotation(df = data.frame(rep = df$rep),\n",
    "    col = list(rep = c(\"TRUE\" = \"indianred3\", \"FALSE\" = \"grey90\")), border = TRUE)\n",
    "draw(ha)"
   ]
  },
  {
   "cell_type": "code",
   "execution_count": 36,
   "metadata": {},
   "outputs": [],
   "source": [
    "options(repr.plot.width=2.5, repr.plot.height=6)\n",
    "df$replicate = \"no_rep\"\n",
    "for (donor in unique(df$donor_id)){\n",
    "    r = df[df$donor_id == donor,]\n",
    "    if (nrow(r)>2){\n",
    "        print(donor)\n",
    "    }\n",
    "    if (nrow(r)==2){\n",
    "        df$replicate[df$donor_id == donor][1] = 'rep1'\n",
    "        df$replicate[df$donor_id == donor][2] = 'rep2'\n",
    "    }\n",
    "}"
   ]
  },
  {
   "cell_type": "code",
   "execution_count": 37,
   "metadata": {},
   "outputs": [
    {
     "data": {
      "text/html": [
       "<table>\n",
       "<thead><tr><th scope=col>donor_id</th><th scope=col>pool_id</th><th scope=col>P_FPP_D11</th><th scope=col>FPP_D11</th><th scope=col>NB_D11</th><th scope=col>P_FPP_D30</th><th scope=col>FPP_D30</th><th scope=col>Epen1_D30</th><th scope=col>U_Neur1_D30</th><th scope=col>DA_D30</th><th scope=col>...</th><th scope=col>P_FPP_D52</th><th scope=col>FPP_D52</th><th scope=col>Astro_D52</th><th scope=col>Epen1_D52</th><th scope=col>U_Neur1_D52</th><th scope=col>DA_D52</th><th scope=col>Sert_D52</th><th scope=col>index</th><th scope=col>rep</th><th scope=col>replicate</th></tr></thead>\n",
       "<tbody>\n",
       "\t<tr><td>HPSI1014i-tixi_4</td><td>pool7           </td><td>0.3666667       </td><td>0.5833333       </td><td>0.050000000     </td><td>0.06777108      </td><td>0.3147590       </td><td>0.04969880      </td><td>0.01506024      </td><td>0.45331325      </td><td>...             </td><td>0.04005525      </td><td>0.1422652       </td><td>0.052486188     </td><td>0.3936464       </td><td>0.005524862     </td><td>0.25276243      </td><td>0.08701657      </td><td>1               </td><td>FALSE           </td><td>no_rep          </td></tr>\n",
       "\t<tr><td>HPSI0714i-kute_5</td><td>pool5           </td><td>0.5500000       </td><td>0.4166667       </td><td>0.033333333     </td><td>0.03305785      </td><td>0.1983471       </td><td>0.07438017      </td><td>0.11570248      </td><td>0.47107438      </td><td>...             </td><td>0.01111111      </td><td>0.2333333       </td><td>0.088888889     </td><td>0.3888889       </td><td>0.100000000     </td><td>0.06666667      </td><td>0.11111111      </td><td>2               </td><td>FALSE           </td><td>no_rep          </td></tr>\n",
       "\t<tr><td>HPSI1014i-vils_1</td><td>pool8           </td><td>0.4947839       </td><td>0.5027322       </td><td>0.002483855     </td><td>0.07525952      </td><td>0.3399654       </td><td>0.06747405      </td><td>0.05622837      </td><td>0.25259516      </td><td>...             </td><td>0.02191011      </td><td>0.2078652       </td><td>0.001685393     </td><td>0.4140449       </td><td>0.022471910     </td><td>0.18539326      </td><td>0.11853933      </td><td>3               </td><td>FALSE           </td><td>no_rep          </td></tr>\n",
       "\t<tr><td>HPSI0914i-zerv_7</td><td>pool8           </td><td>0.5062429       </td><td>0.4835414       </td><td>0.010215664     </td><td>0.06512605      </td><td>0.1932773       </td><td>0.14495798      </td><td>0.02521008      </td><td>0.37394958      </td><td>...             </td><td>0.03492433      </td><td>0.2339930       </td><td>0.000000000     </td><td>0.3701979       </td><td>0.018626310     </td><td>0.16181607      </td><td>0.15948778      </td><td>4               </td><td> TRUE           </td><td>rep1            </td></tr>\n",
       "\t<tr><td>HPSI1113i-hayt_3</td><td>pool9           </td><td>0.4978434       </td><td>0.4971623       </td><td>0.004994325     </td><td>0.06608293      </td><td>0.3011730       </td><td>0.05253593      </td><td>0.04196266      </td><td>0.41780935      </td><td>...             </td><td>0.03993673      </td><td>0.1759589       </td><td>0.013246342     </td><td>0.4570977       </td><td>0.013444049     </td><td>0.11130882      </td><td>0.13977857      </td><td>5               </td><td>FALSE           </td><td>no_rep          </td></tr>\n",
       "\t<tr><td>HPSI0514i-qihv_1</td><td>pool6           </td><td>0.4477612       </td><td>0.5074627       </td><td>0.044776119     </td><td>0.11193242      </td><td>0.4149947       </td><td>0.19007392      </td><td>0.04435058      </td><td>0.05807814      </td><td>...             </td><td>0.03571429      </td><td>0.2361751       </td><td>0.102534562     </td><td>0.3940092       </td><td>0.020737327     </td><td>0.01958525      </td><td>0.15783410      </td><td>6               </td><td>FALSE           </td><td>no_rep          </td></tr>\n",
       "</tbody>\n",
       "</table>\n"
      ],
      "text/latex": [
       "\\begin{tabular}{r|lllllllllllllllllllll}\n",
       " donor\\_id & pool\\_id & P\\_FPP\\_D11 & FPP\\_D11 & NB\\_D11 & P\\_FPP\\_D30 & FPP\\_D30 & Epen1\\_D30 & U\\_Neur1\\_D30 & DA\\_D30 & ... & P\\_FPP\\_D52 & FPP\\_D52 & Astro\\_D52 & Epen1\\_D52 & U\\_Neur1\\_D52 & DA\\_D52 & Sert\\_D52 & index & rep & replicate\\\\\n",
       "\\hline\n",
       "\t HPSI1014i-tixi\\_4 & pool7              & 0.3666667          & 0.5833333          & 0.050000000        & 0.06777108         & 0.3147590          & 0.04969880         & 0.01506024         & 0.45331325         & ...                & 0.04005525         & 0.1422652          & 0.052486188        & 0.3936464          & 0.005524862        & 0.25276243         & 0.08701657         & 1                  & FALSE              & no\\_rep          \\\\\n",
       "\t HPSI0714i-kute\\_5 & pool5              & 0.5500000          & 0.4166667          & 0.033333333        & 0.03305785         & 0.1983471          & 0.07438017         & 0.11570248         & 0.47107438         & ...                & 0.01111111         & 0.2333333          & 0.088888889        & 0.3888889          & 0.100000000        & 0.06666667         & 0.11111111         & 2                  & FALSE              & no\\_rep          \\\\\n",
       "\t HPSI1014i-vils\\_1 & pool8              & 0.4947839          & 0.5027322          & 0.002483855        & 0.07525952         & 0.3399654          & 0.06747405         & 0.05622837         & 0.25259516         & ...                & 0.02191011         & 0.2078652          & 0.001685393        & 0.4140449          & 0.022471910        & 0.18539326         & 0.11853933         & 3                  & FALSE              & no\\_rep          \\\\\n",
       "\t HPSI0914i-zerv\\_7 & pool8              & 0.5062429          & 0.4835414          & 0.010215664        & 0.06512605         & 0.1932773          & 0.14495798         & 0.02521008         & 0.37394958         & ...                & 0.03492433         & 0.2339930          & 0.000000000        & 0.3701979          & 0.018626310        & 0.16181607         & 0.15948778         & 4                  &  TRUE              & rep1              \\\\\n",
       "\t HPSI1113i-hayt\\_3 & pool9              & 0.4978434          & 0.4971623          & 0.004994325        & 0.06608293         & 0.3011730          & 0.05253593         & 0.04196266         & 0.41780935         & ...                & 0.03993673         & 0.1759589          & 0.013246342        & 0.4570977          & 0.013444049        & 0.11130882         & 0.13977857         & 5                  & FALSE              & no\\_rep          \\\\\n",
       "\t HPSI0514i-qihv\\_1 & pool6              & 0.4477612          & 0.5074627          & 0.044776119        & 0.11193242         & 0.4149947          & 0.19007392         & 0.04435058         & 0.05807814         & ...                & 0.03571429         & 0.2361751          & 0.102534562        & 0.3940092          & 0.020737327        & 0.01958525         & 0.15783410         & 6                  & FALSE              & no\\_rep          \\\\\n",
       "\\end{tabular}\n"
      ],
      "text/markdown": [
       "\n",
       "| donor_id | pool_id | P_FPP_D11 | FPP_D11 | NB_D11 | P_FPP_D30 | FPP_D30 | Epen1_D30 | U_Neur1_D30 | DA_D30 | ... | P_FPP_D52 | FPP_D52 | Astro_D52 | Epen1_D52 | U_Neur1_D52 | DA_D52 | Sert_D52 | index | rep | replicate |\n",
       "|---|---|---|---|---|---|---|---|---|---|---|---|---|---|---|---|---|---|---|---|---|\n",
       "| HPSI1014i-tixi_4 | pool7            | 0.3666667        | 0.5833333        | 0.050000000      | 0.06777108       | 0.3147590        | 0.04969880       | 0.01506024       | 0.45331325       | ...              | 0.04005525       | 0.1422652        | 0.052486188      | 0.3936464        | 0.005524862      | 0.25276243       | 0.08701657       | 1                | FALSE            | no_rep           |\n",
       "| HPSI0714i-kute_5 | pool5            | 0.5500000        | 0.4166667        | 0.033333333      | 0.03305785       | 0.1983471        | 0.07438017       | 0.11570248       | 0.47107438       | ...              | 0.01111111       | 0.2333333        | 0.088888889      | 0.3888889        | 0.100000000      | 0.06666667       | 0.11111111       | 2                | FALSE            | no_rep           |\n",
       "| HPSI1014i-vils_1 | pool8            | 0.4947839        | 0.5027322        | 0.002483855      | 0.07525952       | 0.3399654        | 0.06747405       | 0.05622837       | 0.25259516       | ...              | 0.02191011       | 0.2078652        | 0.001685393      | 0.4140449        | 0.022471910      | 0.18539326       | 0.11853933       | 3                | FALSE            | no_rep           |\n",
       "| HPSI0914i-zerv_7 | pool8            | 0.5062429        | 0.4835414        | 0.010215664      | 0.06512605       | 0.1932773        | 0.14495798       | 0.02521008       | 0.37394958       | ...              | 0.03492433       | 0.2339930        | 0.000000000      | 0.3701979        | 0.018626310      | 0.16181607       | 0.15948778       | 4                |  TRUE            | rep1             |\n",
       "| HPSI1113i-hayt_3 | pool9            | 0.4978434        | 0.4971623        | 0.004994325      | 0.06608293       | 0.3011730        | 0.05253593       | 0.04196266       | 0.41780935       | ...              | 0.03993673       | 0.1759589        | 0.013246342      | 0.4570977        | 0.013444049      | 0.11130882       | 0.13977857       | 5                | FALSE            | no_rep           |\n",
       "| HPSI0514i-qihv_1 | pool6            | 0.4477612        | 0.5074627        | 0.044776119      | 0.11193242       | 0.4149947        | 0.19007392       | 0.04435058       | 0.05807814       | ...              | 0.03571429       | 0.2361751        | 0.102534562      | 0.3940092        | 0.020737327      | 0.01958525       | 0.15783410       | 6                | FALSE            | no_rep           |\n",
       "\n"
      ],
      "text/plain": [
       "  donor_id         pool_id P_FPP_D11 FPP_D11   NB_D11      P_FPP_D30  FPP_D30  \n",
       "1 HPSI1014i-tixi_4 pool7   0.3666667 0.5833333 0.050000000 0.06777108 0.3147590\n",
       "2 HPSI0714i-kute_5 pool5   0.5500000 0.4166667 0.033333333 0.03305785 0.1983471\n",
       "3 HPSI1014i-vils_1 pool8   0.4947839 0.5027322 0.002483855 0.07525952 0.3399654\n",
       "4 HPSI0914i-zerv_7 pool8   0.5062429 0.4835414 0.010215664 0.06512605 0.1932773\n",
       "5 HPSI1113i-hayt_3 pool9   0.4978434 0.4971623 0.004994325 0.06608293 0.3011730\n",
       "6 HPSI0514i-qihv_1 pool6   0.4477612 0.5074627 0.044776119 0.11193242 0.4149947\n",
       "  Epen1_D30  U_Neur1_D30 DA_D30     ... P_FPP_D52  FPP_D52   Astro_D52  \n",
       "1 0.04969880 0.01506024  0.45331325 ... 0.04005525 0.1422652 0.052486188\n",
       "2 0.07438017 0.11570248  0.47107438 ... 0.01111111 0.2333333 0.088888889\n",
       "3 0.06747405 0.05622837  0.25259516 ... 0.02191011 0.2078652 0.001685393\n",
       "4 0.14495798 0.02521008  0.37394958 ... 0.03492433 0.2339930 0.000000000\n",
       "5 0.05253593 0.04196266  0.41780935 ... 0.03993673 0.1759589 0.013246342\n",
       "6 0.19007392 0.04435058  0.05807814 ... 0.03571429 0.2361751 0.102534562\n",
       "  Epen1_D52 U_Neur1_D52 DA_D52     Sert_D52   index rep   replicate\n",
       "1 0.3936464 0.005524862 0.25276243 0.08701657 1     FALSE no_rep   \n",
       "2 0.3888889 0.100000000 0.06666667 0.11111111 2     FALSE no_rep   \n",
       "3 0.4140449 0.022471910 0.18539326 0.11853933 3     FALSE no_rep   \n",
       "4 0.3701979 0.018626310 0.16181607 0.15948778 4      TRUE rep1     \n",
       "5 0.4570977 0.013444049 0.11130882 0.13977857 5     FALSE no_rep   \n",
       "6 0.3940092 0.020737327 0.01958525 0.15783410 6     FALSE no_rep   "
      ]
     },
     "metadata": {},
     "output_type": "display_data"
    }
   ],
   "source": [
    "head(df)"
   ]
  },
  {
   "cell_type": "code",
   "execution_count": 38,
   "metadata": {},
   "outputs": [
    {
     "data": {
      "image/png": "[encoded data removed]",
      "text/plain": [
       "plot without title"
      ]
     },
     "metadata": {},
     "output_type": "display_data"
    }
   ],
   "source": [
    "options(repr.plot.width=6, repr.plot.height=0.5)\n",
    "ha = HeatmapAnnotation(df = data.frame(rep = df$replicate),\n",
    "    col = list(rep = c(\"rep1\" = \"indianred3\", \"rep2\" = \"#426e86\", \"no_rep\" = \"grey90\")), border = TRUE)\n",
    "draw(ha)"
   ]
  },
  {
   "cell_type": "code",
   "execution_count": 39,
   "metadata": {},
   "outputs": [
    {
     "data": {
      "text/html": [
       "<strong>png:</strong> 2"
      ],
      "text/latex": [
       "\\textbf{png:} 2"
      ],
      "text/markdown": [
       "**png:** 2"
      ],
      "text/plain": [
       "png \n",
       "  2 "
      ]
     },
     "metadata": {},
     "output_type": "display_data"
    }
   ],
   "source": [
    "pdf(paste0(fig_dir,\"Fig2b_replicate_bars.pdf\"), width=6, height=0.5)\n",
    "ha = HeatmapAnnotation(df = data.frame(rep = df$replicate),\n",
    "    col = list(rep = c(\"rep1\" = \"indianred3\", \"rep2\" = \"#426e86\", \"no_rep\" = \"grey90\")), border = TRUE)\n",
    "draw(ha)\n",
    "dev.off()"
   ]
  },
  {
   "cell_type": "code",
   "execution_count": 40,
   "metadata": {},
   "outputs": [],
   "source": [
    "df$diff_efficiency = df$DA_D52 + df$Sert_D52"
   ]
  },
  {
   "cell_type": "code",
   "execution_count": 41,
   "metadata": {},
   "outputs": [],
   "source": [
    "df_r = data.frame()"
   ]
  },
  {
   "cell_type": "code",
   "execution_count": 42,
   "metadata": {},
   "outputs": [],
   "source": [
    "for (donor in unique(df$donor_id)){\n",
    "    r = df[df$donor_id == donor,]\n",
    "    if (nrow(r)>2){\n",
    "        print(donor)\n",
    "    }\n",
    "    if (nrow(r)==2){\n",
    "        df_r = rbind(df_r, data.frame(donor = donor, \n",
    "                          de1 = r[r$replicate == \"rep1\",\"diff_efficiency\"],\n",
    "                          de2 = r[r$replicate == \"rep2\",\"diff_efficiency\"]))\n",
    "    }\n",
    "}"
   ]
  },
  {
   "cell_type": "code",
   "execution_count": 43,
   "metadata": {},
   "outputs": [
    {
     "data": {
      "text/html": [
       "<table>\n",
       "<thead><tr><th scope=col>donor</th><th scope=col>de1</th><th scope=col>de2</th></tr></thead>\n",
       "<tbody>\n",
       "\t<tr><td>HPSI0914i-zerv_7</td><td>0.32130384      </td><td>0.66428571      </td></tr>\n",
       "\t<tr><td>HPSI0215i-hipn_1</td><td>0.21067416      </td><td>0.52590420      </td></tr>\n",
       "\t<tr><td>HPSI0314i-sojd_3</td><td>0.11834962      </td><td>0.02929190      </td></tr>\n",
       "\t<tr><td>HPSI0214i-feec_2</td><td>0.04519774      </td><td>0.04014599      </td></tr>\n",
       "\t<tr><td>HPSI0514i-wiii_3</td><td>0.02131495      </td><td>0.03737925      </td></tr>\n",
       "\t<tr><td>HPSI0514i-uenn_3</td><td>0.11952555      </td><td>0.52076125      </td></tr>\n",
       "</tbody>\n",
       "</table>\n"
      ],
      "text/latex": [
       "\\begin{tabular}{r|lll}\n",
       " donor & de1 & de2\\\\\n",
       "\\hline\n",
       "\t HPSI0914i-zerv\\_7 & 0.32130384         & 0.66428571        \\\\\n",
       "\t HPSI0215i-hipn\\_1 & 0.21067416         & 0.52590420        \\\\\n",
       "\t HPSI0314i-sojd\\_3 & 0.11834962         & 0.02929190        \\\\\n",
       "\t HPSI0214i-feec\\_2 & 0.04519774         & 0.04014599        \\\\\n",
       "\t HPSI0514i-wiii\\_3 & 0.02131495         & 0.03737925        \\\\\n",
       "\t HPSI0514i-uenn\\_3 & 0.11952555         & 0.52076125        \\\\\n",
       "\\end{tabular}\n"
      ],
      "text/markdown": [
       "\n",
       "| donor | de1 | de2 |\n",
       "|---|---|---|\n",
       "| HPSI0914i-zerv_7 | 0.32130384       | 0.66428571       |\n",
       "| HPSI0215i-hipn_1 | 0.21067416       | 0.52590420       |\n",
       "| HPSI0314i-sojd_3 | 0.11834962       | 0.02929190       |\n",
       "| HPSI0214i-feec_2 | 0.04519774       | 0.04014599       |\n",
       "| HPSI0514i-wiii_3 | 0.02131495       | 0.03737925       |\n",
       "| HPSI0514i-uenn_3 | 0.11952555       | 0.52076125       |\n",
       "\n"
      ],
      "text/plain": [
       "  donor            de1        de2       \n",
       "1 HPSI0914i-zerv_7 0.32130384 0.66428571\n",
       "2 HPSI0215i-hipn_1 0.21067416 0.52590420\n",
       "3 HPSI0314i-sojd_3 0.11834962 0.02929190\n",
       "4 HPSI0214i-feec_2 0.04519774 0.04014599\n",
       "5 HPSI0514i-wiii_3 0.02131495 0.03737925\n",
       "6 HPSI0514i-uenn_3 0.11952555 0.52076125"
      ]
     },
     "metadata": {},
     "output_type": "display_data"
    }
   ],
   "source": [
    "head(df_r)"
   ]
  },
  {
   "cell_type": "code",
   "execution_count": 44,
   "metadata": {
    "scrolled": false
   },
   "outputs": [
    {
     "name": "stderr",
     "output_type": "stream",
     "text": [
      "`geom_smooth()` using formula 'y ~ x'\n"
     ]
    },
    {
     "data": {
      "image/png": "[encoded data removed]",
      "text/plain": [
       "plot without title"
      ]
     },
     "metadata": {},
     "output_type": "display_data"
    }
   ],
   "source": [
    "options(repr.plot.width=5, repr.plot.height=4.8)\n",
    "ggplot(df_r, aes(x=de1,y=de2)) + geom_point(size = 1.8, col ='grey60') + stat_smooth(method = \"lm\", col = \"grey40\", alpha = \"0.25\") +\n",
    "    xlab(\"Differentiation efficiency \\n(replicate 1)\") + ylab(\"Differentiation efficiency \\n(replicate 2)\") + \n",
    "    xlim(c(0,1)) + ylim(c(0,1))+\n",
    "    geom_point(data = df_r[df_r$donor == \"HPSI0514i-fiaj_1\",], col = \"#17becf\", size = 2.8) +\n",
    "    geom_point(data = df_r[df_r$donor == \"HPSI1213i-hehd_1\",], col = \"darkblue\", size = 2.8) + \n",
    "    theme_bw() + theme(axis.title = element_text(size = 14))"
   ]
  },
  {
   "cell_type": "code",
   "execution_count": 45,
   "metadata": {},
   "outputs": [
    {
     "data": {
      "text/html": [
       "12"
      ],
      "text/latex": [
       "12"
      ],
      "text/markdown": [
       "12"
      ],
      "text/plain": [
       "[1] 12"
      ]
     },
     "metadata": {},
     "output_type": "display_data"
    },
    {
     "data": {
      "text/html": [
       "<table>\n",
       "<thead><tr><th scope=col>donor_id</th><th scope=col>selected_fraction</th></tr></thead>\n",
       "<tbody>\n",
       "\t<tr><td>HPSI0115i-aion_2</td><td>1               </td></tr>\n",
       "\t<tr><td>HPSI0115i-bimq_4</td><td>0               </td></tr>\n",
       "</tbody>\n",
       "</table>\n"
      ],
      "text/latex": [
       "\\begin{tabular}{r|ll}\n",
       " donor\\_id & selected\\_fraction\\\\\n",
       "\\hline\n",
       "\t HPSI0115i-aion\\_2 & 1                 \\\\\n",
       "\t HPSI0115i-bimq\\_4 & 0                 \\\\\n",
       "\\end{tabular}\n"
      ],
      "text/markdown": [
       "\n",
       "| donor_id | selected_fraction |\n",
       "|---|---|\n",
       "| HPSI0115i-aion_2 | 1                |\n",
       "| HPSI0115i-bimq_4 | 0                |\n",
       "\n"
      ],
      "text/plain": [
       "  donor_id         selected_fraction\n",
       "1 HPSI0115i-aion_2 1                \n",
       "2 HPSI0115i-bimq_4 0                "
      ]
     },
     "metadata": {},
     "output_type": "display_data"
    }
   ],
   "source": [
    "# org = read.csv(\"/hps/nobackup/stegle/users/acuomo/all_scripts/sc_neuroseq/organoid_brain_fraction.csv\")\n",
    "org = read.csv(\"/hps/nobackup/stegle/users/acuomo/all_scripts/sc_neuroseq/organoid_neuron_fraction.csv\")\n",
    "nrow(org)\n",
    "head(org,2)"
   ]
  },
  {
   "cell_type": "code",
   "execution_count": 46,
   "metadata": {},
   "outputs": [],
   "source": [
    "library(dplyr)"
   ]
  },
  {
   "cell_type": "code",
   "execution_count": 47,
   "metadata": {},
   "outputs": [
    {
     "name": "stderr",
     "output_type": "stream",
     "text": [
      "Warning message:\n",
      "“Column `donor_id` joining factors with different levels, coercing to character vector”"
     ]
    },
    {
     "data": {
      "text/html": [
       "<table>\n",
       "<thead><tr><th scope=col>donor_id</th><th scope=col>selected_fraction</th><th scope=col>avg_de</th></tr></thead>\n",
       "<tbody>\n",
       "\t<tr><td>HPSI0115i-aion_2</td><td>1.0000000       </td><td>0.71182053      </td></tr>\n",
       "\t<tr><td>HPSI0115i-bimq_4</td><td>0.0000000       </td><td>0.08762887      </td></tr>\n",
       "\t<tr><td>HPSI0214i-feec_2</td><td>0.0000000       </td><td>0.04267186      </td></tr>\n",
       "\t<tr><td>HPSI0214i-giju_3</td><td>0.2500000       </td><td>0.80407701      </td></tr>\n",
       "\t<tr><td>HPSI0215i-deyz_2</td><td>0.6514286       </td><td>0.61663905      </td></tr>\n",
       "\t<tr><td>HPSI0215i-fawm_2</td><td>0.3947368       </td><td>0.80810640      </td></tr>\n",
       "</tbody>\n",
       "</table>\n"
      ],
      "text/latex": [
       "\\begin{tabular}{r|lll}\n",
       " donor\\_id & selected\\_fraction & avg\\_de\\\\\n",
       "\\hline\n",
       "\t HPSI0115i-aion\\_2 & 1.0000000          & 0.71182053        \\\\\n",
       "\t HPSI0115i-bimq\\_4 & 0.0000000          & 0.08762887        \\\\\n",
       "\t HPSI0214i-feec\\_2 & 0.0000000          & 0.04267186        \\\\\n",
       "\t HPSI0214i-giju\\_3 & 0.2500000          & 0.80407701        \\\\\n",
       "\t HPSI0215i-deyz\\_2 & 0.6514286          & 0.61663905        \\\\\n",
       "\t HPSI0215i-fawm\\_2 & 0.3947368          & 0.80810640        \\\\\n",
       "\\end{tabular}\n"
      ],
      "text/markdown": [
       "\n",
       "| donor_id | selected_fraction | avg_de |\n",
       "|---|---|---|\n",
       "| HPSI0115i-aion_2 | 1.0000000        | 0.71182053       |\n",
       "| HPSI0115i-bimq_4 | 0.0000000        | 0.08762887       |\n",
       "| HPSI0214i-feec_2 | 0.0000000        | 0.04267186       |\n",
       "| HPSI0214i-giju_3 | 0.2500000        | 0.80407701       |\n",
       "| HPSI0215i-deyz_2 | 0.6514286        | 0.61663905       |\n",
       "| HPSI0215i-fawm_2 | 0.3947368        | 0.80810640       |\n",
       "\n"
      ],
      "text/plain": [
       "  donor_id         selected_fraction avg_de    \n",
       "1 HPSI0115i-aion_2 1.0000000         0.71182053\n",
       "2 HPSI0115i-bimq_4 0.0000000         0.08762887\n",
       "3 HPSI0214i-feec_2 0.0000000         0.04267186\n",
       "4 HPSI0214i-giju_3 0.2500000         0.80407701\n",
       "5 HPSI0215i-deyz_2 0.6514286         0.61663905\n",
       "6 HPSI0215i-fawm_2 0.3947368         0.80810640"
      ]
     },
     "metadata": {},
     "output_type": "display_data"
    }
   ],
   "source": [
    "df0 = df %>% group_by(donor_id) %>% summarise(avg_de = mean(diff_efficiency))\n",
    "df_org = left_join(org,df0,by = \"donor_id\")\n",
    "head(df_org)"
   ]
  },
  {
   "cell_type": "code",
   "execution_count": 48,
   "metadata": {},
   "outputs": [
    {
     "data": {
      "text/html": [
       "12"
      ],
      "text/latex": [
       "12"
      ],
      "text/markdown": [
       "12"
      ],
      "text/plain": [
       "[1] 12"
      ]
     },
     "metadata": {},
     "output_type": "display_data"
    }
   ],
   "source": [
    "nrow(df_org)"
   ]
  },
  {
   "cell_type": "code",
   "execution_count": 50,
   "metadata": {},
   "outputs": [
    {
     "data": {
      "text/plain": [
       "\n",
       "\tPearson's product-moment correlation\n",
       "\n",
       "data:  df_org$avg_de and df_org$selected_fraction\n",
       "t = 3.9792, df = 10, p-value = 0.002604\n",
       "alternative hypothesis: true correlation is not equal to 0\n",
       "95 percent confidence interval:\n",
       " 0.3794888 0.9361679\n",
       "sample estimates:\n",
       "      cor \n",
       "0.7828862 \n"
      ]
     },
     "metadata": {},
     "output_type": "display_data"
    }
   ],
   "source": [
    "cor.test(df_org$avg_de, df_org$selected_fraction)"
   ]
  },
  {
   "cell_type": "code",
   "execution_count": 49,
   "metadata": {},
   "outputs": [
    {
     "name": "stderr",
     "output_type": "stream",
     "text": [
      "`geom_smooth()` using formula 'y ~ x'\n"
     ]
    },
    {
     "data": {
      "image/png": "[encoded data removed]",
      "text/plain": [
       "plot without title"
      ]
     },
     "metadata": {},
     "output_type": "display_data"
    }
   ],
   "source": [
    "options(repr.plot.width=5, repr.plot.height=4.8)\n",
    "ggplot(df_org, aes(x=avg_de,y=selected_fraction)) + geom_point(size = 1.8, col ='grey60') + \n",
    "    stat_smooth(method = \"lm\", col = \"grey40\", alpha = \"0.25\") +\n",
    "    xlab(\"Neuronal differentiation efficiency \\n(midbrain DA)\") + ylab(\"Neuronal differentiation efficiency \\n(brain organoid)\") +  \n",
    "    xlim(c(0,1)) + #ylim(c(0,1))+\n",
    "    geom_point(data = df_org[df_org$donor == \"HPSI0514i-fiaj_1\",], col = \"#17becf\", size = 2.8) +\n",
    "    geom_point(data = df_org[df_org$donor == \"HPSI1213i-hehd_1\",], col = \"darkblue\", size = 2.8) + \n",
    "    theme_classic() + theme(axis.title = element_text(size = 14))"
   ]
  },
  {
   "cell_type": "code",
   "execution_count": 51,
   "metadata": {},
   "outputs": [
    {
     "name": "stderr",
     "output_type": "stream",
     "text": [
      "`geom_smooth()` using formula 'y ~ x'\n"
     ]
    },
    {
     "data": {
      "text/html": [
       "<strong>png:</strong> 2"
      ],
      "text/latex": [
       "\\textbf{png:} 2"
      ],
      "text/markdown": [
       "**png:** 2"
      ],
      "text/plain": [
       "png \n",
       "  2 "
      ]
     },
     "metadata": {},
     "output_type": "display_data"
    }
   ],
   "source": [
    "pdf(paste0(fig_dir,\"Fig2f.pdf\"), width=5, height=4.8)\n",
    "ggplot(df_org, aes(x=avg_de,y=selected_fraction)) + geom_point(size = 1.8, col ='grey60') + \n",
    "    stat_smooth(method = \"lm\", col = \"grey40\", alpha = \"0.25\") +\n",
    "    xlab(\"Neuronal differentiation efficiency \\n(midbrain DA)\") + ylab(\"Neuronal differentiation efficiency \\n(brain organoid)\") +  \n",
    "    xlim(c(0,1)) + #ylim(c(0,1))+\n",
    "    geom_point(data = df_org[df_org$donor == \"HPSI0514i-fiaj_1\",], col = \"#17becf\", size = 2.8) +\n",
    "    geom_point(data = df_org[df_org$donor == \"HPSI1213i-hehd_1\",], col = \"darkblue\", size = 2.8) + \n",
    "    theme_classic() + theme(axis.title = element_text(size = 14))\n",
    "dev.off()"
   ]
  },
  {
   "cell_type": "code",
   "execution_count": null,
   "metadata": {},
   "outputs": [],
   "source": []
  }
 ],
 "metadata": {
  "kernelspec": {
   "display_name": "R",
   "language": "R",
   "name": "ir"
  },
  "language_info": {
   "codemirror_mode": "r",
   "file_extension": ".r",
   "mimetype": "text/x-r-source",
   "name": "R",
   "pygments_lexer": "r",
   "version": "3.6.1"
  }
 },
 "nbformat": 4,
 "nbformat_minor": 4
}
