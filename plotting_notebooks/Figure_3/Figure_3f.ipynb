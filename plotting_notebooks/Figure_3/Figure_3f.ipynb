{
 "cells": [
  {
   "cell_type": "code",
   "execution_count": 1,
   "metadata": {},
   "outputs": [
    {
     "data": {
      "text/html": [
       "<table>\n",
       "<thead><tr><th scope=col>donor_id</th><th scope=col>pool_id</th><th scope=col>time_point</th><th scope=col>celltype</th><th scope=col>f_cells</th></tr></thead>\n",
       "<tbody>\n",
       "\t<tr><td>HPSI0114i-bezi_3</td><td>pool10          </td><td>D52             </td><td>Astro           </td><td>0.01526718      </td></tr>\n",
       "\t<tr><td>HPSI0114i-bezi_3</td><td>pool10          </td><td>D52             </td><td>CHem            </td><td>0.01526718      </td></tr>\n",
       "</tbody>\n",
       "</table>\n"
      ],
      "text/latex": [
       "\\begin{tabular}{r|lllll}\n",
       " donor\\_id & pool\\_id & time\\_point & celltype & f\\_cells\\\\\n",
       "\\hline\n",
       "\t HPSI0114i-bezi\\_3 & pool10             & D52                & Astro              & 0.01526718        \\\\\n",
       "\t HPSI0114i-bezi\\_3 & pool10             & D52                & CHem               & 0.01526718        \\\\\n",
       "\\end{tabular}\n"
      ],
      "text/markdown": [
       "\n",
       "| donor_id | pool_id | time_point | celltype | f_cells |\n",
       "|---|---|---|---|---|\n",
       "| HPSI0114i-bezi_3 | pool10           | D52              | Astro            | 0.01526718       |\n",
       "| HPSI0114i-bezi_3 | pool10           | D52              | CHem             | 0.01526718       |\n",
       "\n"
      ],
      "text/plain": [
       "  donor_id         pool_id time_point celltype f_cells   \n",
       "1 HPSI0114i-bezi_3 pool10  D52        Astro    0.01526718\n",
       "2 HPSI0114i-bezi_3 pool10  D52        CHem     0.01526718"
      ]
     },
     "metadata": {},
     "output_type": "display_data"
    }
   ],
   "source": [
    "mydir = \"/nfs/leia/research/stegle/dseaton/hipsci/singlecell_neuroseq/data/data_processed/pool1_17_D52/\"\n",
    "mysuffix = \"pool1_17_D52.scanpy.w_metadata.w_celltype.scanpy.obs_df.groupedby.donor_id-pool_id-time_point.celltype_fractions.tsv\"\n",
    "\n",
    "myfilename = paste0(mydir,mysuffix)\n",
    "myfile = read.table(myfilename, header = T)\n",
    "head(myfile,2)"
   ]
  },
  {
   "cell_type": "code",
   "execution_count": 9,
   "metadata": {},
   "outputs": [],
   "source": [
    "library(dplyr)\n",
    "library(ggplot2)"
   ]
  },
  {
   "cell_type": "code",
   "execution_count": 10,
   "metadata": {},
   "outputs": [],
   "source": [
    "df = myfile[myfile$celltype %in% c('DA','Sert'),] %>% group_by(donor_id, pool_id)  %>% summarise(diff.eff = sum(f_cells))\n",
    "# hist(df$diff.eff)"
   ]
  },
  {
   "cell_type": "code",
   "execution_count": 11,
   "metadata": {},
   "outputs": [
    {
     "data": {
      "text/html": [
       "<table>\n",
       "<thead><tr><th scope=col>donor_id</th><th scope=col>pool_id</th><th scope=col>diff.eff</th></tr></thead>\n",
       "<tbody>\n",
       "\t<tr><td>HPSI0114i-bezi_3</td><td>pool10          </td><td>0.58269720      </td></tr>\n",
       "\t<tr><td>HPSI0114i-eipl_1</td><td>pool1           </td><td>0.01287835      </td></tr>\n",
       "</tbody>\n",
       "</table>\n"
      ],
      "text/latex": [
       "\\begin{tabular}{r|lll}\n",
       " donor\\_id & pool\\_id & diff.eff\\\\\n",
       "\\hline\n",
       "\t HPSI0114i-bezi\\_3 & pool10             & 0.58269720        \\\\\n",
       "\t HPSI0114i-eipl\\_1 & pool1              & 0.01287835        \\\\\n",
       "\\end{tabular}\n"
      ],
      "text/markdown": [
       "\n",
       "| donor_id | pool_id | diff.eff |\n",
       "|---|---|---|\n",
       "| HPSI0114i-bezi_3 | pool10           | 0.58269720       |\n",
       "| HPSI0114i-eipl_1 | pool1            | 0.01287835       |\n",
       "\n"
      ],
      "text/plain": [
       "  donor_id         pool_id diff.eff  \n",
       "1 HPSI0114i-bezi_3 pool10  0.58269720\n",
       "2 HPSI0114i-eipl_1 pool1   0.01287835"
      ]
     },
     "metadata": {},
     "output_type": "display_data"
    }
   ],
   "source": [
    "head(df,2)"
   ]
  },
  {
   "cell_type": "code",
   "execution_count": 12,
   "metadata": {},
   "outputs": [
    {
     "data": {
      "text/html": [
       "230"
      ],
      "text/latex": [
       "230"
      ],
      "text/markdown": [
       "230"
      ],
      "text/plain": [
       "[1] 230"
      ]
     },
     "metadata": {},
     "output_type": "display_data"
    }
   ],
   "source": [
    "nrow(df)"
   ]
  },
  {
   "cell_type": "code",
   "execution_count": 13,
   "metadata": {},
   "outputs": [
    {
     "data": {
      "text/html": [
       "<table>\n",
       "<thead><tr><th scope=col>donor_id</th><th scope=col>diff.eff</th></tr></thead>\n",
       "<tbody>\n",
       "\t<tr><td>HPSI0114i-bezi_3</td><td>0.58269720      </td></tr>\n",
       "\t<tr><td>HPSI0114i-eipl_1</td><td>0.01287835      </td></tr>\n",
       "</tbody>\n",
       "</table>\n"
      ],
      "text/latex": [
       "\\begin{tabular}{r|ll}\n",
       " donor\\_id & diff.eff\\\\\n",
       "\\hline\n",
       "\t HPSI0114i-bezi\\_3 & 0.58269720        \\\\\n",
       "\t HPSI0114i-eipl\\_1 & 0.01287835        \\\\\n",
       "\\end{tabular}\n"
      ],
      "text/markdown": [
       "\n",
       "| donor_id | diff.eff |\n",
       "|---|---|\n",
       "| HPSI0114i-bezi_3 | 0.58269720       |\n",
       "| HPSI0114i-eipl_1 | 0.01287835       |\n",
       "\n"
      ],
      "text/plain": [
       "  donor_id         diff.eff  \n",
       "1 HPSI0114i-bezi_3 0.58269720\n",
       "2 HPSI0114i-eipl_1 0.01287835"
      ]
     },
     "metadata": {},
     "output_type": "display_data"
    }
   ],
   "source": [
    "df0 = df  %>% group_by(donor_id)  %>% summarise(diff.eff = mean(diff.eff))\n",
    "# hist(df0$diff.eff)\n",
    "head(df0,2)"
   ]
  },
  {
   "cell_type": "code",
   "execution_count": 14,
   "metadata": {},
   "outputs": [
    {
     "data": {
      "text/html": [
       "197"
      ],
      "text/latex": [
       "197"
      ],
      "text/markdown": [
       "197"
      ],
      "text/plain": [
       "[1] 197"
      ]
     },
     "metadata": {},
     "output_type": "display_data"
    }
   ],
   "source": [
    "nrow(df0)"
   ]
  },
  {
   "cell_type": "code",
   "execution_count": 15,
   "metadata": {},
   "outputs": [],
   "source": [
    "indir = '/nfs/leia/research/stegle/dseaton/hipsci/singlecell_endodiff/data/scanpy_data_v2/'\n",
    "suffix = 'sce_merged_afterqc_filt_allexpts_exprs_20180618.day0.cluster2_fraction.tsv'\n",
    "filename = paste0(indir,suffix)"
   ]
  },
  {
   "cell_type": "code",
   "execution_count": 16,
   "metadata": {},
   "outputs": [],
   "source": [
    "# indir = '/nfs/leia/research/stegle/dseaton/hipsci/singlecell_neuroseq/data/ipsc_singlecell_analysis/sarkar2019_cuomo2020_merged/'\n",
    "# suffix = 'sarkar2019_cuomo2020_merged.scanpy.dimreduction.obs_df.tsv'\n",
    "# filename = paste0(indir,suffix)"
   ]
  },
  {
   "cell_type": "code",
   "execution_count": 17,
   "metadata": {},
   "outputs": [
    {
     "data": {
      "text/html": [
       "<table>\n",
       "<thead><tr><th scope=col>donor_long_id</th><th scope=col>f_cells</th></tr></thead>\n",
       "<tbody>\n",
       "\t<tr><td>HPSI0114i-bezi_1</td><td>0.00000000      </td></tr>\n",
       "\t<tr><td>HPSI0114i-eipl_1</td><td>0.81818182      </td></tr>\n",
       "\t<tr><td>HPSI0114i-iisa_1</td><td>0.02564103      </td></tr>\n",
       "\t<tr><td>HPSI0114i-iisa_3</td><td>0.05263158      </td></tr>\n",
       "\t<tr><td>HPSI0114i-joxm_1</td><td>0.06005222      </td></tr>\n",
       "\t<tr><td>HPSI0114i-kolf_2</td><td>0.68493151      </td></tr>\n",
       "</tbody>\n",
       "</table>\n"
      ],
      "text/latex": [
       "\\begin{tabular}{r|ll}\n",
       " donor\\_long\\_id & f\\_cells\\\\\n",
       "\\hline\n",
       "\t HPSI0114i-bezi\\_1 & 0.00000000        \\\\\n",
       "\t HPSI0114i-eipl\\_1 & 0.81818182        \\\\\n",
       "\t HPSI0114i-iisa\\_1 & 0.02564103        \\\\\n",
       "\t HPSI0114i-iisa\\_3 & 0.05263158        \\\\\n",
       "\t HPSI0114i-joxm\\_1 & 0.06005222        \\\\\n",
       "\t HPSI0114i-kolf\\_2 & 0.68493151        \\\\\n",
       "\\end{tabular}\n"
      ],
      "text/markdown": [
       "\n",
       "| donor_long_id | f_cells |\n",
       "|---|---|\n",
       "| HPSI0114i-bezi_1 | 0.00000000       |\n",
       "| HPSI0114i-eipl_1 | 0.81818182       |\n",
       "| HPSI0114i-iisa_1 | 0.02564103       |\n",
       "| HPSI0114i-iisa_3 | 0.05263158       |\n",
       "| HPSI0114i-joxm_1 | 0.06005222       |\n",
       "| HPSI0114i-kolf_2 | 0.68493151       |\n",
       "\n"
      ],
      "text/plain": [
       "  donor_long_id    f_cells   \n",
       "1 HPSI0114i-bezi_1 0.00000000\n",
       "2 HPSI0114i-eipl_1 0.81818182\n",
       "3 HPSI0114i-iisa_1 0.02564103\n",
       "4 HPSI0114i-iisa_3 0.05263158\n",
       "5 HPSI0114i-joxm_1 0.06005222\n",
       "6 HPSI0114i-kolf_2 0.68493151"
      ]
     },
     "metadata": {},
     "output_type": "display_data"
    }
   ],
   "source": [
    "file1 = read.csv(filename, sep = \"\\t\")\n",
    "head(file1)"
   ]
  },
  {
   "cell_type": "code",
   "execution_count": 18,
   "metadata": {},
   "outputs": [
    {
     "data": {
      "text/html": [
       "112"
      ],
      "text/latex": [
       "112"
      ],
      "text/markdown": [
       "112"
      ],
      "text/plain": [
       "[1] 112"
      ]
     },
     "metadata": {},
     "output_type": "display_data"
    }
   ],
   "source": [
    "nrow(file1)"
   ]
  },
  {
   "cell_type": "code",
   "execution_count": 23,
   "metadata": {},
   "outputs": [
    {
     "data": {
      "text/html": [
       "<table>\n",
       "<thead><tr><th scope=col>donor_id</th><th scope=col>diff.eff</th></tr></thead>\n",
       "<tbody>\n",
       "\t<tr><td>HPSI0114i-bezi_3</td><td>0.58269720      </td></tr>\n",
       "\t<tr><td>HPSI0114i-eipl_1</td><td>0.01287835      </td></tr>\n",
       "\t<tr><td>HPSI0114i-fikt_3</td><td>0.40282686      </td></tr>\n",
       "\t<tr><td>HPSI0114i-kolf_2</td><td>0.47059133      </td></tr>\n",
       "\t<tr><td>HPSI0114i-lexy_2</td><td>0.72690535      </td></tr>\n",
       "\t<tr><td>HPSI0114i-posc_1</td><td>0.81349206      </td></tr>\n",
       "</tbody>\n",
       "</table>\n"
      ],
      "text/latex": [
       "\\begin{tabular}{r|ll}\n",
       " donor\\_id & diff.eff\\\\\n",
       "\\hline\n",
       "\t HPSI0114i-bezi\\_3 & 0.58269720        \\\\\n",
       "\t HPSI0114i-eipl\\_1 & 0.01287835        \\\\\n",
       "\t HPSI0114i-fikt\\_3 & 0.40282686        \\\\\n",
       "\t HPSI0114i-kolf\\_2 & 0.47059133        \\\\\n",
       "\t HPSI0114i-lexy\\_2 & 0.72690535        \\\\\n",
       "\t HPSI0114i-posc\\_1 & 0.81349206        \\\\\n",
       "\\end{tabular}\n"
      ],
      "text/markdown": [
       "\n",
       "| donor_id | diff.eff |\n",
       "|---|---|\n",
       "| HPSI0114i-bezi_3 | 0.58269720       |\n",
       "| HPSI0114i-eipl_1 | 0.01287835       |\n",
       "| HPSI0114i-fikt_3 | 0.40282686       |\n",
       "| HPSI0114i-kolf_2 | 0.47059133       |\n",
       "| HPSI0114i-lexy_2 | 0.72690535       |\n",
       "| HPSI0114i-posc_1 | 0.81349206       |\n",
       "\n"
      ],
      "text/plain": [
       "  donor_id         diff.eff  \n",
       "1 HPSI0114i-bezi_3 0.58269720\n",
       "2 HPSI0114i-eipl_1 0.01287835\n",
       "3 HPSI0114i-fikt_3 0.40282686\n",
       "4 HPSI0114i-kolf_2 0.47059133\n",
       "5 HPSI0114i-lexy_2 0.72690535\n",
       "6 HPSI0114i-posc_1 0.81349206"
      ]
     },
     "metadata": {},
     "output_type": "display_data"
    }
   ],
   "source": [
    "head(df0)"
   ]
  },
  {
   "cell_type": "code",
   "execution_count": 24,
   "metadata": {},
   "outputs": [],
   "source": [
    "df0$donor_long_id = df0$donor_id"
   ]
  },
  {
   "cell_type": "code",
   "execution_count": 25,
   "metadata": {},
   "outputs": [
    {
     "name": "stderr",
     "output_type": "stream",
     "text": [
      "Warning message:\n",
      "“Column `donor_long_id` joining factors with different levels, coercing to character vector”"
     ]
    },
    {
     "data": {
      "text/html": [
       "45"
      ],
      "text/latex": [
       "45"
      ],
      "text/markdown": [
       "45"
      ],
      "text/plain": [
       "[1] 45"
      ]
     },
     "metadata": {},
     "output_type": "display_data"
    },
    {
     "data": {
      "text/html": [
       "<table>\n",
       "<thead><tr><th scope=col>donor_id</th><th scope=col>diff.eff</th><th scope=col>donor_long_id</th><th scope=col>f_cells</th></tr></thead>\n",
       "<tbody>\n",
       "\t<tr><td>HPSI0114i-eipl_1</td><td>0.01287835      </td><td>HPSI0114i-eipl_1</td><td>0.8181818       </td></tr>\n",
       "\t<tr><td>HPSI0114i-kolf_2</td><td>0.47059133      </td><td>HPSI0114i-kolf_2</td><td>0.6849315       </td></tr>\n",
       "</tbody>\n",
       "</table>\n"
      ],
      "text/latex": [
       "\\begin{tabular}{r|llll}\n",
       " donor\\_id & diff.eff & donor\\_long\\_id & f\\_cells\\\\\n",
       "\\hline\n",
       "\t HPSI0114i-eipl\\_1 & 0.01287835         & HPSI0114i-eipl\\_1 & 0.8181818         \\\\\n",
       "\t HPSI0114i-kolf\\_2 & 0.47059133         & HPSI0114i-kolf\\_2 & 0.6849315         \\\\\n",
       "\\end{tabular}\n"
      ],
      "text/markdown": [
       "\n",
       "| donor_id | diff.eff | donor_long_id | f_cells |\n",
       "|---|---|---|---|\n",
       "| HPSI0114i-eipl_1 | 0.01287835       | HPSI0114i-eipl_1 | 0.8181818        |\n",
       "| HPSI0114i-kolf_2 | 0.47059133       | HPSI0114i-kolf_2 | 0.6849315        |\n",
       "\n"
      ],
      "text/plain": [
       "  donor_id         diff.eff   donor_long_id    f_cells  \n",
       "1 HPSI0114i-eipl_1 0.01287835 HPSI0114i-eipl_1 0.8181818\n",
       "2 HPSI0114i-kolf_2 0.47059133 HPSI0114i-kolf_2 0.6849315"
      ]
     },
     "metadata": {},
     "output_type": "display_data"
    }
   ],
   "source": [
    "df7 = inner_join(df0,file1,by = 'donor_long_id')\n",
    "nrow(df7)\n",
    "head(df7,2)"
   ]
  },
  {
   "cell_type": "code",
   "execution_count": 26,
   "metadata": {
    "scrolled": true
   },
   "outputs": [
    {
     "data": {
      "text/html": [
       "<table>\n",
       "<thead><tr><th scope=col>donor_id</th><th scope=col>diff.eff</th><th scope=col>donor_long_id</th><th scope=col>f_cells</th></tr></thead>\n",
       "<tbody>\n",
       "\t<tr><td>HPSI0114i-eipl_1</td><td>0.01287835      </td><td>HPSI0114i-eipl_1</td><td>0.818181818     </td></tr>\n",
       "\t<tr><td>HPSI0114i-kolf_2</td><td>0.47059133      </td><td>HPSI0114i-kolf_2</td><td>0.684931507     </td></tr>\n",
       "\t<tr><td>HPSI0114i-vass_1</td><td>0.85217391      </td><td>HPSI0114i-vass_1</td><td>0.000000000     </td></tr>\n",
       "\t<tr><td>HPSI0114i-wegi_1</td><td>0.89759761      </td><td>HPSI0114i-wegi_1</td><td>0.027777778     </td></tr>\n",
       "\t<tr><td>HPSI0214i-datg_2</td><td>0.44299163      </td><td>HPSI0214i-datg_2</td><td>0.000000000     </td></tr>\n",
       "\t<tr><td>HPSI0214i-eiwy_1</td><td>0.60120482      </td><td>HPSI0214i-eiwy_1</td><td>0.040000000     </td></tr>\n",
       "\t<tr><td>HPSI0214i-feec_2</td><td>0.04267186      </td><td>HPSI0214i-feec_2</td><td>0.733333333     </td></tr>\n",
       "\t<tr><td>HPSI0214i-heth_1</td><td>0.03326828      </td><td>HPSI0214i-heth_1</td><td>0.687500000     </td></tr>\n",
       "\t<tr><td>HPSI0214i-kucg_2</td><td>0.08373436      </td><td>HPSI0214i-kucg_2</td><td>0.819444444     </td></tr>\n",
       "\t<tr><td>HPSI0214i-pelm_3</td><td>0.59398253      </td><td>HPSI0214i-pelm_3</td><td>0.244485077     </td></tr>\n",
       "\t<tr><td>HPSI0214i-rayr_1</td><td>0.71179039      </td><td>HPSI0214i-rayr_1</td><td>0.000000000     </td></tr>\n",
       "\t<tr><td>HPSI0215i-fawm_2</td><td>0.80810640      </td><td>HPSI0215i-fawm_2</td><td>0.081632653     </td></tr>\n",
       "\t<tr><td>HPSI0215i-yoch_6</td><td>0.02979066      </td><td>HPSI0215i-yoch_6</td><td>0.344827586     </td></tr>\n",
       "\t<tr><td>HPSI0314i-cuhk_2</td><td>0.15756664      </td><td>HPSI0314i-cuhk_2</td><td>0.073170732     </td></tr>\n",
       "\t<tr><td>HPSI0314i-hoik_1</td><td>0.07487754      </td><td>HPSI0314i-hoik_1</td><td>0.468750000     </td></tr>\n",
       "\t<tr><td>HPSI0314i-qaqx_1</td><td>0.61124402      </td><td>HPSI0314i-qaqx_1</td><td>0.009900990     </td></tr>\n",
       "\t<tr><td>HPSI0314i-sojd_3</td><td>0.07382076      </td><td>HPSI0314i-sojd_3</td><td>0.638629283     </td></tr>\n",
       "\t<tr><td>HPSI0314i-wigw_2</td><td>0.57432432      </td><td>HPSI0314i-wigw_2</td><td>0.000000000     </td></tr>\n",
       "\t<tr><td>HPSI0413i-nudd_1</td><td>0.57392687      </td><td>HPSI0413i-nudd_1</td><td>0.059821057     </td></tr>\n",
       "\t<tr><td>HPSI0414i-seru_1</td><td>0.84507042      </td><td>HPSI0414i-seru_1</td><td>0.000000000     </td></tr>\n",
       "\t<tr><td>HPSI0414i-xojn_3</td><td>0.70781664      </td><td>HPSI0414i-xojn_3</td><td>0.000000000     </td></tr>\n",
       "\t<tr><td>HPSI0513i-fejf_2</td><td>0.22746331      </td><td>HPSI0513i-fejf_2</td><td>0.079365079     </td></tr>\n",
       "\t<tr><td>HPSI0513i-oibg_1</td><td>0.06175562      </td><td>HPSI0513i-oibg_1</td><td>0.631067961     </td></tr>\n",
       "\t<tr><td>HPSI0514i-letw_1</td><td>0.85359477      </td><td>HPSI0514i-letw_1</td><td>0.006465517     </td></tr>\n",
       "\t<tr><td>HPSI0514i-naah_2</td><td>0.85360825      </td><td>HPSI0514i-naah_2</td><td>0.032786885     </td></tr>\n",
       "\t<tr><td>HPSI0514i-rutc_2</td><td>0.90118153      </td><td>HPSI0514i-rutc_2</td><td>0.028037383     </td></tr>\n",
       "\t<tr><td>HPSI0514i-tert_1</td><td>0.75174338      </td><td>HPSI0514i-tert_1</td><td>0.000000000     </td></tr>\n",
       "\t<tr><td>HPSI0514i-uenn_3</td><td>0.32014340      </td><td>HPSI0514i-uenn_3</td><td>0.090909091     </td></tr>\n",
       "\t<tr><td>HPSI0613i-hegp_3</td><td>0.68312757      </td><td>HPSI0613i-hegp_3</td><td>0.000000000     </td></tr>\n",
       "\t<tr><td>HPSI0614i-liqa_1</td><td>0.55523673      </td><td>HPSI0614i-liqa_1</td><td>0.036363636     </td></tr>\n",
       "\t<tr><td>HPSI0715i-aowh_2</td><td>0.62082330      </td><td>HPSI0715i-aowh_2</td><td>0.106849315     </td></tr>\n",
       "\t<tr><td>HPSI0813i-guss_1</td><td>0.02482877      </td><td>HPSI0813i-guss_1</td><td>0.611067240     </td></tr>\n",
       "\t<tr><td>HPSI0914i-iezw_2</td><td>0.18508655      </td><td>HPSI0914i-iezw_2</td><td>0.000000000     </td></tr>\n",
       "\t<tr><td>HPSI0914i-jejf_2</td><td>0.84516129      </td><td>HPSI0914i-jejf_2</td><td>0.009345794     </td></tr>\n",
       "\t<tr><td>HPSI0914i-suop_5</td><td>0.85540335      </td><td>HPSI0914i-suop_5</td><td>0.000000000     </td></tr>\n",
       "\t<tr><td>HPSI1013i-jogf_2</td><td>0.03095238      </td><td>HPSI1013i-jogf_2</td><td>0.803921569     </td></tr>\n",
       "\t<tr><td>HPSI1013i-kuxp_1</td><td>0.92523364      </td><td>HPSI1013i-kuxp_1</td><td>0.011904762     </td></tr>\n",
       "\t<tr><td>HPSI1013i-sita_1</td><td>0.02971768      </td><td>HPSI1013i-sita_1</td><td>0.666666667     </td></tr>\n",
       "\t<tr><td>HPSI1013i-zagm_1</td><td>0.77777778      </td><td>HPSI1013i-zagm_1</td><td>0.008264463     </td></tr>\n",
       "\t<tr><td>HPSI1014i-babz_3</td><td>0.72462858      </td><td>HPSI1014i-babz_3</td><td>0.035714286     </td></tr>\n",
       "\t<tr><td>HPSI1014i-eesb_1</td><td>0.54081994      </td><td>HPSI1014i-eesb_1</td><td>0.030303030     </td></tr>\n",
       "\t<tr><td>HPSI1014i-kefb_1</td><td>0.05555556      </td><td>HPSI1014i-kefb_1</td><td>0.059701493     </td></tr>\n",
       "\t<tr><td>HPSI1014i-quls_2</td><td>0.01473772      </td><td>HPSI1014i-quls_2</td><td>0.613636364     </td></tr>\n",
       "\t<tr><td>HPSI1014i-sehl_6</td><td>0.86508853      </td><td>HPSI1014i-sehl_6</td><td>0.028178123     </td></tr>\n",
       "\t<tr><td>HPSI1014i-vils_1</td><td>0.30393258      </td><td>HPSI1014i-vils_1</td><td>0.000000000     </td></tr>\n",
       "</tbody>\n",
       "</table>\n"
      ],
      "text/latex": [
       "\\begin{tabular}{r|llll}\n",
       " donor\\_id & diff.eff & donor\\_long\\_id & f\\_cells\\\\\n",
       "\\hline\n",
       "\t HPSI0114i-eipl\\_1 & 0.01287835         & HPSI0114i-eipl\\_1 & 0.818181818       \\\\\n",
       "\t HPSI0114i-kolf\\_2 & 0.47059133         & HPSI0114i-kolf\\_2 & 0.684931507       \\\\\n",
       "\t HPSI0114i-vass\\_1 & 0.85217391         & HPSI0114i-vass\\_1 & 0.000000000       \\\\\n",
       "\t HPSI0114i-wegi\\_1 & 0.89759761         & HPSI0114i-wegi\\_1 & 0.027777778       \\\\\n",
       "\t HPSI0214i-datg\\_2 & 0.44299163         & HPSI0214i-datg\\_2 & 0.000000000       \\\\\n",
       "\t HPSI0214i-eiwy\\_1 & 0.60120482         & HPSI0214i-eiwy\\_1 & 0.040000000       \\\\\n",
       "\t HPSI0214i-feec\\_2 & 0.04267186         & HPSI0214i-feec\\_2 & 0.733333333       \\\\\n",
       "\t HPSI0214i-heth\\_1 & 0.03326828         & HPSI0214i-heth\\_1 & 0.687500000       \\\\\n",
       "\t HPSI0214i-kucg\\_2 & 0.08373436         & HPSI0214i-kucg\\_2 & 0.819444444       \\\\\n",
       "\t HPSI0214i-pelm\\_3 & 0.59398253         & HPSI0214i-pelm\\_3 & 0.244485077       \\\\\n",
       "\t HPSI0214i-rayr\\_1 & 0.71179039         & HPSI0214i-rayr\\_1 & 0.000000000       \\\\\n",
       "\t HPSI0215i-fawm\\_2 & 0.80810640         & HPSI0215i-fawm\\_2 & 0.081632653       \\\\\n",
       "\t HPSI0215i-yoch\\_6 & 0.02979066         & HPSI0215i-yoch\\_6 & 0.344827586       \\\\\n",
       "\t HPSI0314i-cuhk\\_2 & 0.15756664         & HPSI0314i-cuhk\\_2 & 0.073170732       \\\\\n",
       "\t HPSI0314i-hoik\\_1 & 0.07487754         & HPSI0314i-hoik\\_1 & 0.468750000       \\\\\n",
       "\t HPSI0314i-qaqx\\_1 & 0.61124402         & HPSI0314i-qaqx\\_1 & 0.009900990       \\\\\n",
       "\t HPSI0314i-sojd\\_3 & 0.07382076         & HPSI0314i-sojd\\_3 & 0.638629283       \\\\\n",
       "\t HPSI0314i-wigw\\_2 & 0.57432432         & HPSI0314i-wigw\\_2 & 0.000000000       \\\\\n",
       "\t HPSI0413i-nudd\\_1 & 0.57392687         & HPSI0413i-nudd\\_1 & 0.059821057       \\\\\n",
       "\t HPSI0414i-seru\\_1 & 0.84507042         & HPSI0414i-seru\\_1 & 0.000000000       \\\\\n",
       "\t HPSI0414i-xojn\\_3 & 0.70781664         & HPSI0414i-xojn\\_3 & 0.000000000       \\\\\n",
       "\t HPSI0513i-fejf\\_2 & 0.22746331         & HPSI0513i-fejf\\_2 & 0.079365079       \\\\\n",
       "\t HPSI0513i-oibg\\_1 & 0.06175562         & HPSI0513i-oibg\\_1 & 0.631067961       \\\\\n",
       "\t HPSI0514i-letw\\_1 & 0.85359477         & HPSI0514i-letw\\_1 & 0.006465517       \\\\\n",
       "\t HPSI0514i-naah\\_2 & 0.85360825         & HPSI0514i-naah\\_2 & 0.032786885       \\\\\n",
       "\t HPSI0514i-rutc\\_2 & 0.90118153         & HPSI0514i-rutc\\_2 & 0.028037383       \\\\\n",
       "\t HPSI0514i-tert\\_1 & 0.75174338         & HPSI0514i-tert\\_1 & 0.000000000       \\\\\n",
       "\t HPSI0514i-uenn\\_3 & 0.32014340         & HPSI0514i-uenn\\_3 & 0.090909091       \\\\\n",
       "\t HPSI0613i-hegp\\_3 & 0.68312757         & HPSI0613i-hegp\\_3 & 0.000000000       \\\\\n",
       "\t HPSI0614i-liqa\\_1 & 0.55523673         & HPSI0614i-liqa\\_1 & 0.036363636       \\\\\n",
       "\t HPSI0715i-aowh\\_2 & 0.62082330         & HPSI0715i-aowh\\_2 & 0.106849315       \\\\\n",
       "\t HPSI0813i-guss\\_1 & 0.02482877         & HPSI0813i-guss\\_1 & 0.611067240       \\\\\n",
       "\t HPSI0914i-iezw\\_2 & 0.18508655         & HPSI0914i-iezw\\_2 & 0.000000000       \\\\\n",
       "\t HPSI0914i-jejf\\_2 & 0.84516129         & HPSI0914i-jejf\\_2 & 0.009345794       \\\\\n",
       "\t HPSI0914i-suop\\_5 & 0.85540335         & HPSI0914i-suop\\_5 & 0.000000000       \\\\\n",
       "\t HPSI1013i-jogf\\_2 & 0.03095238         & HPSI1013i-jogf\\_2 & 0.803921569       \\\\\n",
       "\t HPSI1013i-kuxp\\_1 & 0.92523364         & HPSI1013i-kuxp\\_1 & 0.011904762       \\\\\n",
       "\t HPSI1013i-sita\\_1 & 0.02971768         & HPSI1013i-sita\\_1 & 0.666666667       \\\\\n",
       "\t HPSI1013i-zagm\\_1 & 0.77777778         & HPSI1013i-zagm\\_1 & 0.008264463       \\\\\n",
       "\t HPSI1014i-babz\\_3 & 0.72462858         & HPSI1014i-babz\\_3 & 0.035714286       \\\\\n",
       "\t HPSI1014i-eesb\\_1 & 0.54081994         & HPSI1014i-eesb\\_1 & 0.030303030       \\\\\n",
       "\t HPSI1014i-kefb\\_1 & 0.05555556         & HPSI1014i-kefb\\_1 & 0.059701493       \\\\\n",
       "\t HPSI1014i-quls\\_2 & 0.01473772         & HPSI1014i-quls\\_2 & 0.613636364       \\\\\n",
       "\t HPSI1014i-sehl\\_6 & 0.86508853         & HPSI1014i-sehl\\_6 & 0.028178123       \\\\\n",
       "\t HPSI1014i-vils\\_1 & 0.30393258         & HPSI1014i-vils\\_1 & 0.000000000       \\\\\n",
       "\\end{tabular}\n"
      ],
      "text/markdown": [
       "\n",
       "| donor_id | diff.eff | donor_long_id | f_cells |\n",
       "|---|---|---|---|\n",
       "| HPSI0114i-eipl_1 | 0.01287835       | HPSI0114i-eipl_1 | 0.818181818      |\n",
       "| HPSI0114i-kolf_2 | 0.47059133       | HPSI0114i-kolf_2 | 0.684931507      |\n",
       "| HPSI0114i-vass_1 | 0.85217391       | HPSI0114i-vass_1 | 0.000000000      |\n",
       "| HPSI0114i-wegi_1 | 0.89759761       | HPSI0114i-wegi_1 | 0.027777778      |\n",
       "| HPSI0214i-datg_2 | 0.44299163       | HPSI0214i-datg_2 | 0.000000000      |\n",
       "| HPSI0214i-eiwy_1 | 0.60120482       | HPSI0214i-eiwy_1 | 0.040000000      |\n",
       "| HPSI0214i-feec_2 | 0.04267186       | HPSI0214i-feec_2 | 0.733333333      |\n",
       "| HPSI0214i-heth_1 | 0.03326828       | HPSI0214i-heth_1 | 0.687500000      |\n",
       "| HPSI0214i-kucg_2 | 0.08373436       | HPSI0214i-kucg_2 | 0.819444444      |\n",
       "| HPSI0214i-pelm_3 | 0.59398253       | HPSI0214i-pelm_3 | 0.244485077      |\n",
       "| HPSI0214i-rayr_1 | 0.71179039       | HPSI0214i-rayr_1 | 0.000000000      |\n",
       "| HPSI0215i-fawm_2 | 0.80810640       | HPSI0215i-fawm_2 | 0.081632653      |\n",
       "| HPSI0215i-yoch_6 | 0.02979066       | HPSI0215i-yoch_6 | 0.344827586      |\n",
       "| HPSI0314i-cuhk_2 | 0.15756664       | HPSI0314i-cuhk_2 | 0.073170732      |\n",
       "| HPSI0314i-hoik_1 | 0.07487754       | HPSI0314i-hoik_1 | 0.468750000      |\n",
       "| HPSI0314i-qaqx_1 | 0.61124402       | HPSI0314i-qaqx_1 | 0.009900990      |\n",
       "| HPSI0314i-sojd_3 | 0.07382076       | HPSI0314i-sojd_3 | 0.638629283      |\n",
       "| HPSI0314i-wigw_2 | 0.57432432       | HPSI0314i-wigw_2 | 0.000000000      |\n",
       "| HPSI0413i-nudd_1 | 0.57392687       | HPSI0413i-nudd_1 | 0.059821057      |\n",
       "| HPSI0414i-seru_1 | 0.84507042       | HPSI0414i-seru_1 | 0.000000000      |\n",
       "| HPSI0414i-xojn_3 | 0.70781664       | HPSI0414i-xojn_3 | 0.000000000      |\n",
       "| HPSI0513i-fejf_2 | 0.22746331       | HPSI0513i-fejf_2 | 0.079365079      |\n",
       "| HPSI0513i-oibg_1 | 0.06175562       | HPSI0513i-oibg_1 | 0.631067961      |\n",
       "| HPSI0514i-letw_1 | 0.85359477       | HPSI0514i-letw_1 | 0.006465517      |\n",
       "| HPSI0514i-naah_2 | 0.85360825       | HPSI0514i-naah_2 | 0.032786885      |\n",
       "| HPSI0514i-rutc_2 | 0.90118153       | HPSI0514i-rutc_2 | 0.028037383      |\n",
       "| HPSI0514i-tert_1 | 0.75174338       | HPSI0514i-tert_1 | 0.000000000      |\n",
       "| HPSI0514i-uenn_3 | 0.32014340       | HPSI0514i-uenn_3 | 0.090909091      |\n",
       "| HPSI0613i-hegp_3 | 0.68312757       | HPSI0613i-hegp_3 | 0.000000000      |\n",
       "| HPSI0614i-liqa_1 | 0.55523673       | HPSI0614i-liqa_1 | 0.036363636      |\n",
       "| HPSI0715i-aowh_2 | 0.62082330       | HPSI0715i-aowh_2 | 0.106849315      |\n",
       "| HPSI0813i-guss_1 | 0.02482877       | HPSI0813i-guss_1 | 0.611067240      |\n",
       "| HPSI0914i-iezw_2 | 0.18508655       | HPSI0914i-iezw_2 | 0.000000000      |\n",
       "| HPSI0914i-jejf_2 | 0.84516129       | HPSI0914i-jejf_2 | 0.009345794      |\n",
       "| HPSI0914i-suop_5 | 0.85540335       | HPSI0914i-suop_5 | 0.000000000      |\n",
       "| HPSI1013i-jogf_2 | 0.03095238       | HPSI1013i-jogf_2 | 0.803921569      |\n",
       "| HPSI1013i-kuxp_1 | 0.92523364       | HPSI1013i-kuxp_1 | 0.011904762      |\n",
       "| HPSI1013i-sita_1 | 0.02971768       | HPSI1013i-sita_1 | 0.666666667      |\n",
       "| HPSI1013i-zagm_1 | 0.77777778       | HPSI1013i-zagm_1 | 0.008264463      |\n",
       "| HPSI1014i-babz_3 | 0.72462858       | HPSI1014i-babz_3 | 0.035714286      |\n",
       "| HPSI1014i-eesb_1 | 0.54081994       | HPSI1014i-eesb_1 | 0.030303030      |\n",
       "| HPSI1014i-kefb_1 | 0.05555556       | HPSI1014i-kefb_1 | 0.059701493      |\n",
       "| HPSI1014i-quls_2 | 0.01473772       | HPSI1014i-quls_2 | 0.613636364      |\n",
       "| HPSI1014i-sehl_6 | 0.86508853       | HPSI1014i-sehl_6 | 0.028178123      |\n",
       "| HPSI1014i-vils_1 | 0.30393258       | HPSI1014i-vils_1 | 0.000000000      |\n",
       "\n"
      ],
      "text/plain": [
       "   donor_id         diff.eff   donor_long_id    f_cells    \n",
       "1  HPSI0114i-eipl_1 0.01287835 HPSI0114i-eipl_1 0.818181818\n",
       "2  HPSI0114i-kolf_2 0.47059133 HPSI0114i-kolf_2 0.684931507\n",
       "3  HPSI0114i-vass_1 0.85217391 HPSI0114i-vass_1 0.000000000\n",
       "4  HPSI0114i-wegi_1 0.89759761 HPSI0114i-wegi_1 0.027777778\n",
       "5  HPSI0214i-datg_2 0.44299163 HPSI0214i-datg_2 0.000000000\n",
       "6  HPSI0214i-eiwy_1 0.60120482 HPSI0214i-eiwy_1 0.040000000\n",
       "7  HPSI0214i-feec_2 0.04267186 HPSI0214i-feec_2 0.733333333\n",
       "8  HPSI0214i-heth_1 0.03326828 HPSI0214i-heth_1 0.687500000\n",
       "9  HPSI0214i-kucg_2 0.08373436 HPSI0214i-kucg_2 0.819444444\n",
       "10 HPSI0214i-pelm_3 0.59398253 HPSI0214i-pelm_3 0.244485077\n",
       "11 HPSI0214i-rayr_1 0.71179039 HPSI0214i-rayr_1 0.000000000\n",
       "12 HPSI0215i-fawm_2 0.80810640 HPSI0215i-fawm_2 0.081632653\n",
       "13 HPSI0215i-yoch_6 0.02979066 HPSI0215i-yoch_6 0.344827586\n",
       "14 HPSI0314i-cuhk_2 0.15756664 HPSI0314i-cuhk_2 0.073170732\n",
       "15 HPSI0314i-hoik_1 0.07487754 HPSI0314i-hoik_1 0.468750000\n",
       "16 HPSI0314i-qaqx_1 0.61124402 HPSI0314i-qaqx_1 0.009900990\n",
       "17 HPSI0314i-sojd_3 0.07382076 HPSI0314i-sojd_3 0.638629283\n",
       "18 HPSI0314i-wigw_2 0.57432432 HPSI0314i-wigw_2 0.000000000\n",
       "19 HPSI0413i-nudd_1 0.57392687 HPSI0413i-nudd_1 0.059821057\n",
       "20 HPSI0414i-seru_1 0.84507042 HPSI0414i-seru_1 0.000000000\n",
       "21 HPSI0414i-xojn_3 0.70781664 HPSI0414i-xojn_3 0.000000000\n",
       "22 HPSI0513i-fejf_2 0.22746331 HPSI0513i-fejf_2 0.079365079\n",
       "23 HPSI0513i-oibg_1 0.06175562 HPSI0513i-oibg_1 0.631067961\n",
       "24 HPSI0514i-letw_1 0.85359477 HPSI0514i-letw_1 0.006465517\n",
       "25 HPSI0514i-naah_2 0.85360825 HPSI0514i-naah_2 0.032786885\n",
       "26 HPSI0514i-rutc_2 0.90118153 HPSI0514i-rutc_2 0.028037383\n",
       "27 HPSI0514i-tert_1 0.75174338 HPSI0514i-tert_1 0.000000000\n",
       "28 HPSI0514i-uenn_3 0.32014340 HPSI0514i-uenn_3 0.090909091\n",
       "29 HPSI0613i-hegp_3 0.68312757 HPSI0613i-hegp_3 0.000000000\n",
       "30 HPSI0614i-liqa_1 0.55523673 HPSI0614i-liqa_1 0.036363636\n",
       "31 HPSI0715i-aowh_2 0.62082330 HPSI0715i-aowh_2 0.106849315\n",
       "32 HPSI0813i-guss_1 0.02482877 HPSI0813i-guss_1 0.611067240\n",
       "33 HPSI0914i-iezw_2 0.18508655 HPSI0914i-iezw_2 0.000000000\n",
       "34 HPSI0914i-jejf_2 0.84516129 HPSI0914i-jejf_2 0.009345794\n",
       "35 HPSI0914i-suop_5 0.85540335 HPSI0914i-suop_5 0.000000000\n",
       "36 HPSI1013i-jogf_2 0.03095238 HPSI1013i-jogf_2 0.803921569\n",
       "37 HPSI1013i-kuxp_1 0.92523364 HPSI1013i-kuxp_1 0.011904762\n",
       "38 HPSI1013i-sita_1 0.02971768 HPSI1013i-sita_1 0.666666667\n",
       "39 HPSI1013i-zagm_1 0.77777778 HPSI1013i-zagm_1 0.008264463\n",
       "40 HPSI1014i-babz_3 0.72462858 HPSI1014i-babz_3 0.035714286\n",
       "41 HPSI1014i-eesb_1 0.54081994 HPSI1014i-eesb_1 0.030303030\n",
       "42 HPSI1014i-kefb_1 0.05555556 HPSI1014i-kefb_1 0.059701493\n",
       "43 HPSI1014i-quls_2 0.01473772 HPSI1014i-quls_2 0.613636364\n",
       "44 HPSI1014i-sehl_6 0.86508853 HPSI1014i-sehl_6 0.028178123\n",
       "45 HPSI1014i-vils_1 0.30393258 HPSI1014i-vils_1 0.000000000"
      ]
     },
     "metadata": {},
     "output_type": "display_data"
    }
   ],
   "source": [
    "df7"
   ]
  },
  {
   "cell_type": "code",
   "execution_count": 27,
   "metadata": {},
   "outputs": [
    {
     "data": {
      "text/html": [
       "-0.755139411493646"
      ],
      "text/latex": [
       "-0.755139411493646"
      ],
      "text/markdown": [
       "-0.755139411493646"
      ],
      "text/plain": [
       "[1] -0.7551394"
      ]
     },
     "metadata": {},
     "output_type": "display_data"
    },
    {
     "data": {
      "text/html": [
       "2.0516608629681e-09"
      ],
      "text/latex": [
       "2.0516608629681e-09"
      ],
      "text/markdown": [
       "2.0516608629681e-09"
      ],
      "text/plain": [
       "[1] 2.051661e-09"
      ]
     },
     "metadata": {},
     "output_type": "display_data"
    }
   ],
   "source": [
    "df7$frac.cluster2 = df7$f_cells\n",
    "cor(df7$diff.eff, df7$frac.cluster2)\n",
    "cor.test(df7$diff.eff, df7$frac.cluster2)$p.value"
   ]
  },
  {
   "cell_type": "code",
   "execution_count": 38,
   "metadata": {},
   "outputs": [
    {
     "data": {
      "image/png": "[encoded data removed]",
      "text/plain": [
       "plot without title"
      ]
     },
     "metadata": {},
     "output_type": "display_data"
    }
   ],
   "source": [
    "options(repr.plot.width=4, repr.plot.height=3.5)\n",
    "ggplot(df7, aes(x = diff.eff, y = frac.cluster2)) + geom_point(size = 2.5) + \n",
    "    xlim(c(0,1)) + ylim(c(0,1)) + \n",
    "   xlab(\"Differentiation efficiency\") + \n",
    "#     ylab(\"fraction of cells \\nin the UTF1+ cluster\") + \n",
    "    ylab(\"Fraction of cells \\nin the iPSC cluster 2\") + \n",
    "#     stat_smooth(method = \"lm\", col = \"royalblue\") + \n",
    "     theme_classic() + theme(text = element_text(size=16))"
   ]
  },
  {
   "cell_type": "code",
   "execution_count": 39,
   "metadata": {},
   "outputs": [
    {
     "data": {
      "text/html": [
       "<strong>png:</strong> 2"
      ],
      "text/latex": [
       "\\textbf{png:} 2"
      ],
      "text/markdown": [
       "**png:** 2"
      ],
      "text/plain": [
       "png \n",
       "  2 "
      ]
     },
     "metadata": {},
     "output_type": "display_data"
    }
   ],
   "source": [
    "fig_dir = \"/hps/nobackup/stegle/users/acuomo/all_scripts/sc_neuroseq/figures/main_figures/\"\n",
    "pdf(paste0(fig_dir,\"Fig3f\"), width=4, height=3.5)\n",
    "ggplot(df7, aes(x = diff.eff, y = frac.cluster2)) + geom_point(size = 2.5) + \n",
    "    xlim(c(0,1)) + ylim(c(0,1)) + \n",
    "   xlab(\"Differentiation efficiency\") + \n",
    "#     ylab(\"fraction of cells \\nin the UTF1+ cluster\") + \n",
    "    ylab(\"Fraction of cells \\nin the iPSC cluster 2\") + \n",
    "#     stat_smooth(method = \"lm\", col = \"royalblue\") + \n",
    "     theme_classic() + theme(text = element_text(size=16))\n",
    "dev.off()"
   ]
  },
  {
   "cell_type": "code",
   "execution_count": null,
   "metadata": {},
   "outputs": [],
   "source": []
  },
  {
   "cell_type": "code",
   "execution_count": 40,
   "metadata": {},
   "outputs": [],
   "source": [
    "file2 = \"/nfs/leia/research/stegle/dseaton/hipsci/singlecell_neuroseq/data/ipsc_deconvolution/output_donor_celltype_estimation.tsv\""
   ]
  },
  {
   "cell_type": "code",
   "execution_count": 41,
   "metadata": {},
   "outputs": [
    {
     "data": {
      "text/html": [
       "<table>\n",
       "<thead><tr><th></th><th scope=col>f_cells</th><th scope=col>o_cells</th></tr></thead>\n",
       "<tbody>\n",
       "\t<tr><th scope=row>1191d5e0-9a2a-4ba4-b322-a591912160ee</th><td>0.1622908</td><td>0.8377092</td></tr>\n",
       "\t<tr><th scope=row>1b4ab422-05e5-4891-906e-12e9e9c65745</th><td>0.1638584</td><td>0.8361416</td></tr>\n",
       "\t<tr><th scope=row>217cd7ee-bfe8-4d37-b014-e47187901dbe</th><td>0.1477820</td><td>0.8522180</td></tr>\n",
       "\t<tr><th scope=row>6a50e9bf-8d92-4bac-98f0-50eee10d91d4</th><td>0.1785642</td><td>0.8214358</td></tr>\n",
       "\t<tr><th scope=row>896a9050-1423-490a-a12e-3db6217b49d3</th><td>0.1453645</td><td>0.8546355</td></tr>\n",
       "\t<tr><th scope=row>a9cadef1-380e-4c4f-a33c-a828a58680e0</th><td>0.1116698</td><td>0.8883302</td></tr>\n",
       "</tbody>\n",
       "</table>\n"
      ],
      "text/latex": [
       "\\begin{tabular}{r|ll}\n",
       "  & f\\_cells & o\\_cells\\\\\n",
       "\\hline\n",
       "\t1191d5e0-9a2a-4ba4-b322-a591912160ee & 0.1622908 & 0.8377092\\\\\n",
       "\t1b4ab422-05e5-4891-906e-12e9e9c65745 & 0.1638584 & 0.8361416\\\\\n",
       "\t217cd7ee-bfe8-4d37-b014-e47187901dbe & 0.1477820 & 0.8522180\\\\\n",
       "\t6a50e9bf-8d92-4bac-98f0-50eee10d91d4 & 0.1785642 & 0.8214358\\\\\n",
       "\t896a9050-1423-490a-a12e-3db6217b49d3 & 0.1453645 & 0.8546355\\\\\n",
       "\ta9cadef1-380e-4c4f-a33c-a828a58680e0 & 0.1116698 & 0.8883302\\\\\n",
       "\\end{tabular}\n"
      ],
      "text/markdown": [
       "\n",
       "| <!--/--> | f_cells | o_cells |\n",
       "|---|---|---|\n",
       "| 1191d5e0-9a2a-4ba4-b322-a591912160ee | 0.1622908 | 0.8377092 |\n",
       "| 1b4ab422-05e5-4891-906e-12e9e9c65745 | 0.1638584 | 0.8361416 |\n",
       "| 217cd7ee-bfe8-4d37-b014-e47187901dbe | 0.1477820 | 0.8522180 |\n",
       "| 6a50e9bf-8d92-4bac-98f0-50eee10d91d4 | 0.1785642 | 0.8214358 |\n",
       "| 896a9050-1423-490a-a12e-3db6217b49d3 | 0.1453645 | 0.8546355 |\n",
       "| a9cadef1-380e-4c4f-a33c-a828a58680e0 | 0.1116698 | 0.8883302 |\n",
       "\n"
      ],
      "text/plain": [
       "                                     f_cells   o_cells  \n",
       "1191d5e0-9a2a-4ba4-b322-a591912160ee 0.1622908 0.8377092\n",
       "1b4ab422-05e5-4891-906e-12e9e9c65745 0.1638584 0.8361416\n",
       "217cd7ee-bfe8-4d37-b014-e47187901dbe 0.1477820 0.8522180\n",
       "6a50e9bf-8d92-4bac-98f0-50eee10d91d4 0.1785642 0.8214358\n",
       "896a9050-1423-490a-a12e-3db6217b49d3 0.1453645 0.8546355\n",
       "a9cadef1-380e-4c4f-a33c-a828a58680e0 0.1116698 0.8883302"
      ]
     },
     "metadata": {},
     "output_type": "display_data"
    }
   ],
   "source": [
    "df6 = read.csv(file2,sep=\"\\t\",row.names = 1)\n",
    "head(df6)"
   ]
  },
  {
   "cell_type": "code",
   "execution_count": 42,
   "metadata": {},
   "outputs": [
    {
     "data": {
      "text/html": [
       "197"
      ],
      "text/latex": [
       "197"
      ],
      "text/markdown": [
       "197"
      ],
      "text/plain": [
       "[1] 197"
      ]
     },
     "metadata": {},
     "output_type": "display_data"
    },
    {
     "data": {
      "text/html": [
       "<table>\n",
       "<thead><tr><th scope=col>donor_id</th><th scope=col>diff.eff</th><th scope=col>donor_long_id</th></tr></thead>\n",
       "<tbody>\n",
       "\t<tr><td>HPSI0114i-bezi_3</td><td>0.58269720      </td><td>HPSI0114i-bezi_3</td></tr>\n",
       "\t<tr><td>HPSI0114i-eipl_1</td><td>0.01287835      </td><td>HPSI0114i-eipl_1</td></tr>\n",
       "</tbody>\n",
       "</table>\n"
      ],
      "text/latex": [
       "\\begin{tabular}{r|lll}\n",
       " donor\\_id & diff.eff & donor\\_long\\_id\\\\\n",
       "\\hline\n",
       "\t HPSI0114i-bezi\\_3 & 0.58269720         & HPSI0114i-bezi\\_3\\\\\n",
       "\t HPSI0114i-eipl\\_1 & 0.01287835         & HPSI0114i-eipl\\_1\\\\\n",
       "\\end{tabular}\n"
      ],
      "text/markdown": [
       "\n",
       "| donor_id | diff.eff | donor_long_id |\n",
       "|---|---|---|\n",
       "| HPSI0114i-bezi_3 | 0.58269720       | HPSI0114i-bezi_3 |\n",
       "| HPSI0114i-eipl_1 | 0.01287835       | HPSI0114i-eipl_1 |\n",
       "\n"
      ],
      "text/plain": [
       "  donor_id         diff.eff   donor_long_id   \n",
       "1 HPSI0114i-bezi_3 0.58269720 HPSI0114i-bezi_3\n",
       "2 HPSI0114i-eipl_1 0.01287835 HPSI0114i-eipl_1"
      ]
     },
     "metadata": {},
     "output_type": "display_data"
    }
   ],
   "source": [
    "nrow(df0)\n",
    "head(df0,2)"
   ]
  },
  {
   "cell_type": "code",
   "execution_count": 43,
   "metadata": {},
   "outputs": [
    {
     "data": {
      "text/html": [
       "1440"
      ],
      "text/latex": [
       "1440"
      ],
      "text/markdown": [
       "1440"
      ],
      "text/plain": [
       "[1] 1440"
      ]
     },
     "metadata": {},
     "output_type": "display_data"
    },
    {
     "data": {
      "text/html": [
       "<table>\n",
       "<thead><tr><th></th><th scope=col>f_cells</th><th scope=col>o_cells</th><th scope=col>donor_id</th></tr></thead>\n",
       "<tbody>\n",
       "\t<tr><th scope=row>1191d5e0-9a2a-4ba4-b322-a591912160ee</th><td>0.1622908                           </td><td>0.8377092                           </td><td>1191d5e0-9a2a-4ba4-b322-a591912160ee</td></tr>\n",
       "\t<tr><th scope=row>1b4ab422-05e5-4891-906e-12e9e9c65745</th><td>0.1638584                           </td><td>0.8361416                           </td><td>1b4ab422-05e5-4891-906e-12e9e9c65745</td></tr>\n",
       "</tbody>\n",
       "</table>\n"
      ],
      "text/latex": [
       "\\begin{tabular}{r|lll}\n",
       "  & f\\_cells & o\\_cells & donor\\_id\\\\\n",
       "\\hline\n",
       "\t1191d5e0-9a2a-4ba4-b322-a591912160ee & 0.1622908                            & 0.8377092                            & 1191d5e0-9a2a-4ba4-b322-a591912160ee\\\\\n",
       "\t1b4ab422-05e5-4891-906e-12e9e9c65745 & 0.1638584                            & 0.8361416                            & 1b4ab422-05e5-4891-906e-12e9e9c65745\\\\\n",
       "\\end{tabular}\n"
      ],
      "text/markdown": [
       "\n",
       "| <!--/--> | f_cells | o_cells | donor_id |\n",
       "|---|---|---|---|\n",
       "| 1191d5e0-9a2a-4ba4-b322-a591912160ee | 0.1622908                            | 0.8377092                            | 1191d5e0-9a2a-4ba4-b322-a591912160ee |\n",
       "| 1b4ab422-05e5-4891-906e-12e9e9c65745 | 0.1638584                            | 0.8361416                            | 1b4ab422-05e5-4891-906e-12e9e9c65745 |\n",
       "\n"
      ],
      "text/plain": [
       "                                     f_cells   o_cells  \n",
       "1191d5e0-9a2a-4ba4-b322-a591912160ee 0.1622908 0.8377092\n",
       "1b4ab422-05e5-4891-906e-12e9e9c65745 0.1638584 0.8361416\n",
       "                                     donor_id                            \n",
       "1191d5e0-9a2a-4ba4-b322-a591912160ee 1191d5e0-9a2a-4ba4-b322-a591912160ee\n",
       "1b4ab422-05e5-4891-906e-12e9e9c65745 1b4ab422-05e5-4891-906e-12e9e9c65745"
      ]
     },
     "metadata": {},
     "output_type": "display_data"
    }
   ],
   "source": [
    "df6$donor_id = rownames(df6)\n",
    "nrow(df6)\n",
    "head(df6,2)"
   ]
  },
  {
   "cell_type": "code",
   "execution_count": 44,
   "metadata": {},
   "outputs": [],
   "source": [
    "df6$donor_id = gsub(\".hs37d5\",\"\",df6$donor_id)"
   ]
  },
  {
   "cell_type": "code",
   "execution_count": 45,
   "metadata": {},
   "outputs": [
    {
     "name": "stderr",
     "output_type": "stream",
     "text": [
      "Joining, by = \"donor_id\"\n",
      "Warning message:\n",
      "“Column `donor_id` joining factor and character vector, coercing into character vector”"
     ]
    },
    {
     "data": {
      "text/html": [
       "<table>\n",
       "<thead><tr><th scope=col>donor_id</th><th scope=col>diff.eff</th><th scope=col>donor_long_id</th><th scope=col>f_cells</th><th scope=col>o_cells</th></tr></thead>\n",
       "<tbody>\n",
       "\t<tr><td>HPSI0114i-bezi_3</td><td>0.58269720      </td><td>HPSI0114i-bezi_3</td><td>0.1288848       </td><td>0.8711152       </td></tr>\n",
       "\t<tr><td>HPSI0114i-eipl_1</td><td>0.01287835      </td><td>HPSI0114i-eipl_1</td><td>0.3991039       </td><td>0.6008961       </td></tr>\n",
       "\t<tr><td>HPSI0114i-fikt_3</td><td>0.40282686      </td><td>HPSI0114i-fikt_3</td><td>0.1233551       </td><td>0.8766449       </td></tr>\n",
       "\t<tr><td>HPSI0114i-kolf_2</td><td>0.47059133      </td><td>HPSI0114i-kolf_2</td><td>0.1892075       </td><td>0.8107925       </td></tr>\n",
       "\t<tr><td>HPSI0114i-lexy_2</td><td>0.72690535      </td><td>HPSI0114i-lexy_2</td><td>0.1227552       </td><td>0.8772448       </td></tr>\n",
       "\t<tr><td>HPSI0114i-rozh_4</td><td>0.56146789      </td><td>HPSI0114i-rozh_4</td><td>0.1638520       </td><td>0.8361480       </td></tr>\n",
       "</tbody>\n",
       "</table>\n"
      ],
      "text/latex": [
       "\\begin{tabular}{r|lllll}\n",
       " donor\\_id & diff.eff & donor\\_long\\_id & f\\_cells & o\\_cells\\\\\n",
       "\\hline\n",
       "\t HPSI0114i-bezi\\_3 & 0.58269720         & HPSI0114i-bezi\\_3 & 0.1288848          & 0.8711152         \\\\\n",
       "\t HPSI0114i-eipl\\_1 & 0.01287835         & HPSI0114i-eipl\\_1 & 0.3991039          & 0.6008961         \\\\\n",
       "\t HPSI0114i-fikt\\_3 & 0.40282686         & HPSI0114i-fikt\\_3 & 0.1233551          & 0.8766449         \\\\\n",
       "\t HPSI0114i-kolf\\_2 & 0.47059133         & HPSI0114i-kolf\\_2 & 0.1892075          & 0.8107925         \\\\\n",
       "\t HPSI0114i-lexy\\_2 & 0.72690535         & HPSI0114i-lexy\\_2 & 0.1227552          & 0.8772448         \\\\\n",
       "\t HPSI0114i-rozh\\_4 & 0.56146789         & HPSI0114i-rozh\\_4 & 0.1638520          & 0.8361480         \\\\\n",
       "\\end{tabular}\n"
      ],
      "text/markdown": [
       "\n",
       "| donor_id | diff.eff | donor_long_id | f_cells | o_cells |\n",
       "|---|---|---|---|---|\n",
       "| HPSI0114i-bezi_3 | 0.58269720       | HPSI0114i-bezi_3 | 0.1288848        | 0.8711152        |\n",
       "| HPSI0114i-eipl_1 | 0.01287835       | HPSI0114i-eipl_1 | 0.3991039        | 0.6008961        |\n",
       "| HPSI0114i-fikt_3 | 0.40282686       | HPSI0114i-fikt_3 | 0.1233551        | 0.8766449        |\n",
       "| HPSI0114i-kolf_2 | 0.47059133       | HPSI0114i-kolf_2 | 0.1892075        | 0.8107925        |\n",
       "| HPSI0114i-lexy_2 | 0.72690535       | HPSI0114i-lexy_2 | 0.1227552        | 0.8772448        |\n",
       "| HPSI0114i-rozh_4 | 0.56146789       | HPSI0114i-rozh_4 | 0.1638520        | 0.8361480        |\n",
       "\n"
      ],
      "text/plain": [
       "  donor_id         diff.eff   donor_long_id    f_cells   o_cells  \n",
       "1 HPSI0114i-bezi_3 0.58269720 HPSI0114i-bezi_3 0.1288848 0.8711152\n",
       "2 HPSI0114i-eipl_1 0.01287835 HPSI0114i-eipl_1 0.3991039 0.6008961\n",
       "3 HPSI0114i-fikt_3 0.40282686 HPSI0114i-fikt_3 0.1233551 0.8766449\n",
       "4 HPSI0114i-kolf_2 0.47059133 HPSI0114i-kolf_2 0.1892075 0.8107925\n",
       "5 HPSI0114i-lexy_2 0.72690535 HPSI0114i-lexy_2 0.1227552 0.8772448\n",
       "6 HPSI0114i-rozh_4 0.56146789 HPSI0114i-rozh_4 0.1638520 0.8361480"
      ]
     },
     "metadata": {},
     "output_type": "display_data"
    },
    {
     "data": {
      "text/html": [
       "182"
      ],
      "text/latex": [
       "182"
      ],
      "text/markdown": [
       "182"
      ],
      "text/plain": [
       "[1] 182"
      ]
     },
     "metadata": {},
     "output_type": "display_data"
    }
   ],
   "source": [
    "df8 = inner_join(df0,df6)\n",
    "head(df8)\n",
    "nrow(df8)"
   ]
  },
  {
   "cell_type": "code",
   "execution_count": 46,
   "metadata": {},
   "outputs": [
    {
     "data": {
      "text/html": [
       "3.01529439680072e-12"
      ],
      "text/latex": [
       "3.01529439680072e-12"
      ],
      "text/markdown": [
       "3.01529439680072e-12"
      ],
      "text/plain": [
       "[1] 3.015294e-12"
      ]
     },
     "metadata": {},
     "output_type": "display_data"
    }
   ],
   "source": [
    "cor.test(df8$diff.eff, df8$f_cells)$p.value"
   ]
  },
  {
   "cell_type": "code",
   "execution_count": 47,
   "metadata": {},
   "outputs": [
    {
     "data": {
      "image/png": "[encoded data removed]",
      "text/plain": [
       "plot without title"
      ]
     },
     "metadata": {},
     "output_type": "display_data"
    }
   ],
   "source": [
    "options(repr.plot.width=4, repr.plot.height=3.5)\n",
    "ggplot(df8, aes(x = diff.eff, y = f_cells)) + geom_point(size = 2.5, alpha = 0.9) + \n",
    "    xlim(c(0,1)) + ylim(c(0,1)) + \n",
    "   xlab(\"Differentiation efficiency\") + \n",
    "#     ylab(\"fraction of cells \\nin the UTF1+ cluster\") + \n",
    "    ylab(\"Estimated fraction of cells \\nin the iPSC cluster 2\") + \n",
    "#     stat_smooth(method = \"lm\", col = \"royalblue\") + \n",
    "     theme_classic() + theme(text = element_text(size=16))"
   ]
  },
  {
   "cell_type": "code",
   "execution_count": 48,
   "metadata": {},
   "outputs": [
    {
     "data": {
      "text/html": [
       "<strong>png:</strong> 2"
      ],
      "text/latex": [
       "\\textbf{png:} 2"
      ],
      "text/markdown": [
       "**png:** 2"
      ],
      "text/plain": [
       "png \n",
       "  2 "
      ]
     },
     "metadata": {},
     "output_type": "display_data"
    }
   ],
   "source": [
    "fig_dir = \"/hps/nobackup/stegle/users/acuomo/all_scripts/sc_neuroseq/figures/extended_figures/\"\n",
    "pdf(paste0(fig_dir,\"Fig3f_extended_version.pdf\"), width=4, height=3.5)\n",
    "ggplot(df8, aes(x = diff.eff, y = f_cells)) + geom_point(size = 2.5, alpha = 0.9) + \n",
    "    xlim(c(0,1)) + ylim(c(0,1)) + \n",
    "   xlab(\"Differentiation efficiency\") + \n",
    "#     ylab(\"fraction of cells \\nin the UTF1+ cluster\") + \n",
    "    ylab(\"Estimated fraction of cells \\nin the iPSC cluster 2\") + \n",
    "#     stat_smooth(method = \"lm\", col = \"royalblue\") + \n",
    "     theme_classic() + theme(text = element_text(size=16))\n",
    "dev.off()"
   ]
  },
  {
   "cell_type": "code",
   "execution_count": null,
   "metadata": {},
   "outputs": [],
   "source": []
  }
 ],
 "metadata": {
  "kernelspec": {
   "display_name": "R",
   "language": "R",
   "name": "ir"
  },
  "language_info": {
   "codemirror_mode": "r",
   "file_extension": ".r",
   "mimetype": "text/x-r-source",
   "name": "R",
   "pygments_lexer": "r",
   "version": "3.6.1"
  }
 },
 "nbformat": 4,
 "nbformat_minor": 4
}
