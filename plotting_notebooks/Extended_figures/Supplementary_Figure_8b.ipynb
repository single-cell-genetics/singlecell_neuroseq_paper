{
 "cells": [
  {
   "cell_type": "code",
   "execution_count": 4,
   "metadata": {},
   "outputs": [],
   "source": [
    "library(dplyr)"
   ]
  },
  {
   "cell_type": "code",
   "execution_count": 5,
   "metadata": {},
   "outputs": [],
   "source": [
    "mydir = '/nfs/leia/research/stegle/dseaton/hipsci/singlecell_neuroseq/data/data_processed/'"
   ]
  },
  {
   "cell_type": "code",
   "execution_count": 6,
   "metadata": {},
   "outputs": [],
   "source": [
    "# Day 11\n",
    "prefix = \"pool1_13_noddd_D11/pool1_13_noddd_D11.scanpy.w_metadata.w_celltype.scanpy.celltype.\"\n",
    "suffix = \".groupedby.donor_id-pool_id-celltype.mean.tsv\""
   ]
  },
  {
   "cell_type": "code",
   "execution_count": 7,
   "metadata": {},
   "outputs": [],
   "source": [
    "celltypes = c(\"FPP\",\"P_FPP\",\"NB\")"
   ]
  },
  {
   "cell_type": "code",
   "execution_count": 8,
   "metadata": {},
   "outputs": [
    {
     "name": "stdout",
     "output_type": "stream",
     "text": [
      "[1] 6642\n",
      "[1] 7512\n"
     ]
    },
    {
     "name": "stderr",
     "output_type": "stream",
     "text": [
      "Warning message in bind_rows_(x, .id):\n",
      "“Unequal factor levels: coercing to character”Warning message in bind_rows_(x, .id):\n",
      "“binding character and factor vector, coercing into character vector”Warning message in bind_rows_(x, .id):\n",
      "“binding character and factor vector, coercing into character vector”Warning message in bind_rows_(x, .id):\n",
      "“Unequal factor levels: coercing to character”Warning message in bind_rows_(x, .id):\n",
      "“binding character and factor vector, coercing into character vector”Warning message in bind_rows_(x, .id):\n",
      "“binding character and factor vector, coercing into character vector”"
     ]
    },
    {
     "name": "stdout",
     "output_type": "stream",
     "text": [
      "[1] 6416\n"
     ]
    },
    {
     "name": "stderr",
     "output_type": "stream",
     "text": [
      "Warning message in bind_rows_(x, .id):\n",
      "“binding character and factor vector, coercing into character vector”Warning message in bind_rows_(x, .id):\n",
      "“binding character and factor vector, coercing into character vector”"
     ]
    }
   ],
   "source": [
    "df = data.frame()\n",
    "for (celltype in celltypes){\n",
    "    filename = paste0(mydir,prefix,celltype,suffix)\n",
    "    print(ncol(read.csv(filename, sep ='\\t')))\n",
    "    df = bind_rows(df,read.csv(filename, sep ='\\t'))\n",
    "    \n",
    "} "
   ]
  },
  {
   "cell_type": "code",
   "execution_count": 9,
   "metadata": {},
   "outputs": [
    {
     "data": {
      "text/html": [
       "476"
      ],
      "text/latex": [
       "476"
      ],
      "text/markdown": [
       "476"
      ],
      "text/plain": [
       "[1] 476"
      ]
     },
     "metadata": {},
     "output_type": "display_data"
    },
    {
     "data": {
      "text/html": [
       "7815"
      ],
      "text/latex": [
       "7815"
      ],
      "text/markdown": [
       "7815"
      ],
      "text/plain": [
       "[1] 7815"
      ]
     },
     "metadata": {},
     "output_type": "display_data"
    },
    {
     "data": {
      "text/html": [
       "<table>\n",
       "<thead><tr><th scope=col>donor_id</th><th scope=col>pool_id</th><th scope=col>celltype</th><th scope=col>n_cells</th><th scope=col>AP006222.2</th><th scope=col>NOC2L</th><th scope=col>HES4</th><th scope=col>ISG15</th><th scope=col>AGRN</th><th scope=col>SDF4</th></tr></thead>\n",
       "<tbody>\n",
       "\t<tr><td>HPSI0114i-eipl_1</td><td>pool1           </td><td>FPP             </td><td>1672            </td><td>0.1818757       </td><td>0.4284513       </td><td>0.5028253       </td><td>0.1026510       </td><td>0.08505148      </td><td>0.3155400       </td></tr>\n",
       "\t<tr><td>HPSI0114i-kolf_2</td><td>pool12          </td><td>FPP             </td><td> 334            </td><td>0.1290806       </td><td>0.2929154       </td><td>0.3688705       </td><td>0.1298105       </td><td>0.03696265      </td><td>0.2554750       </td></tr>\n",
       "\t<tr><td>HPSI0114i-wegi_1</td><td>pool6           </td><td>FPP             </td><td>2478            </td><td>0.1364839       </td><td>0.3633004       </td><td>0.5243082       </td><td>0.2357602       </td><td>0.05533171      </td><td>0.1814124       </td></tr>\n",
       "\t<tr><td>HPSI0114i-wegi_1</td><td>pool7           </td><td>FPP             </td><td> 151            </td><td>0.2138128       </td><td>0.3278713       </td><td>0.1149412       </td><td>0.2068751       </td><td>0.04422506      </td><td>0.1201481       </td></tr>\n",
       "\t<tr><td>HPSI0115i-aion_2</td><td>pool4           </td><td>FPP             </td><td> 406            </td><td>0.1798693       </td><td>0.3145946       </td><td>0.7716492       </td><td>0.2128632       </td><td>0.08480867      </td><td>0.2694515       </td></tr>\n",
       "</tbody>\n",
       "</table>\n"
      ],
      "text/latex": [
       "\\begin{tabular}{r|llllllllll}\n",
       " donor\\_id & pool\\_id & celltype & n\\_cells & AP006222.2 & NOC2L & HES4 & ISG15 & AGRN & SDF4\\\\\n",
       "\\hline\n",
       "\t HPSI0114i-eipl\\_1 & pool1              & FPP                & 1672               & 0.1818757          & 0.4284513          & 0.5028253          & 0.1026510          & 0.08505148         & 0.3155400         \\\\\n",
       "\t HPSI0114i-kolf\\_2 & pool12             & FPP                &  334               & 0.1290806          & 0.2929154          & 0.3688705          & 0.1298105          & 0.03696265         & 0.2554750         \\\\\n",
       "\t HPSI0114i-wegi\\_1 & pool6              & FPP                & 2478               & 0.1364839          & 0.3633004          & 0.5243082          & 0.2357602          & 0.05533171         & 0.1814124         \\\\\n",
       "\t HPSI0114i-wegi\\_1 & pool7              & FPP                &  151               & 0.2138128          & 0.3278713          & 0.1149412          & 0.2068751          & 0.04422506         & 0.1201481         \\\\\n",
       "\t HPSI0115i-aion\\_2 & pool4              & FPP                &  406               & 0.1798693          & 0.3145946          & 0.7716492          & 0.2128632          & 0.08480867         & 0.2694515         \\\\\n",
       "\\end{tabular}\n"
      ],
      "text/markdown": [
       "\n",
       "| donor_id | pool_id | celltype | n_cells | AP006222.2 | NOC2L | HES4 | ISG15 | AGRN | SDF4 |\n",
       "|---|---|---|---|---|---|---|---|---|---|\n",
       "| HPSI0114i-eipl_1 | pool1            | FPP              | 1672             | 0.1818757        | 0.4284513        | 0.5028253        | 0.1026510        | 0.08505148       | 0.3155400        |\n",
       "| HPSI0114i-kolf_2 | pool12           | FPP              |  334             | 0.1290806        | 0.2929154        | 0.3688705        | 0.1298105        | 0.03696265       | 0.2554750        |\n",
       "| HPSI0114i-wegi_1 | pool6            | FPP              | 2478             | 0.1364839        | 0.3633004        | 0.5243082        | 0.2357602        | 0.05533171       | 0.1814124        |\n",
       "| HPSI0114i-wegi_1 | pool7            | FPP              |  151             | 0.2138128        | 0.3278713        | 0.1149412        | 0.2068751        | 0.04422506       | 0.1201481        |\n",
       "| HPSI0115i-aion_2 | pool4            | FPP              |  406             | 0.1798693        | 0.3145946        | 0.7716492        | 0.2128632        | 0.08480867       | 0.2694515        |\n",
       "\n"
      ],
      "text/plain": [
       "  donor_id         pool_id celltype n_cells AP006222.2 NOC2L     HES4     \n",
       "1 HPSI0114i-eipl_1 pool1   FPP      1672    0.1818757  0.4284513 0.5028253\n",
       "2 HPSI0114i-kolf_2 pool12  FPP       334    0.1290806  0.2929154 0.3688705\n",
       "3 HPSI0114i-wegi_1 pool6   FPP      2478    0.1364839  0.3633004 0.5243082\n",
       "4 HPSI0114i-wegi_1 pool7   FPP       151    0.2138128  0.3278713 0.1149412\n",
       "5 HPSI0115i-aion_2 pool4   FPP       406    0.1798693  0.3145946 0.7716492\n",
       "  ISG15     AGRN       SDF4     \n",
       "1 0.1026510 0.08505148 0.3155400\n",
       "2 0.1298105 0.03696265 0.2554750\n",
       "3 0.2357602 0.05533171 0.1814124\n",
       "4 0.2068751 0.04422506 0.1201481\n",
       "5 0.2128632 0.08480867 0.2694515"
      ]
     },
     "metadata": {},
     "output_type": "display_data"
    }
   ],
   "source": [
    "nrow(df)\n",
    "ncol(df)\n",
    "df[1:5,1:10]"
   ]
  },
  {
   "cell_type": "code",
   "execution_count": 10,
   "metadata": {},
   "outputs": [],
   "source": [
    "df = df[,colSums(is.na(df))==0]"
   ]
  },
  {
   "cell_type": "code",
   "execution_count": 11,
   "metadata": {},
   "outputs": [
    {
     "data": {
      "text/html": [
       "476"
      ],
      "text/latex": [
       "476"
      ],
      "text/markdown": [
       "476"
      ],
      "text/plain": [
       "[1] 476"
      ]
     },
     "metadata": {},
     "output_type": "display_data"
    },
    {
     "data": {
      "text/html": [
       "6017"
      ],
      "text/latex": [
       "6017"
      ],
      "text/markdown": [
       "6017"
      ],
      "text/plain": [
       "[1] 6017"
      ]
     },
     "metadata": {},
     "output_type": "display_data"
    },
    {
     "data": {
      "text/html": [
       "<table>\n",
       "<thead><tr><th scope=col>donor_id</th><th scope=col>pool_id</th><th scope=col>celltype</th><th scope=col>n_cells</th><th scope=col>AP006222.2</th><th scope=col>NOC2L</th><th scope=col>HES4</th><th scope=col>ISG15</th><th scope=col>AGRN</th><th scope=col>SDF4</th></tr></thead>\n",
       "<tbody>\n",
       "\t<tr><td>HPSI0114i-eipl_1</td><td>pool1           </td><td>FPP             </td><td>1672            </td><td>0.1818757       </td><td>0.4284513       </td><td>0.5028253       </td><td>0.1026510       </td><td>0.08505148      </td><td>0.3155400       </td></tr>\n",
       "\t<tr><td>HPSI0114i-kolf_2</td><td>pool12          </td><td>FPP             </td><td> 334            </td><td>0.1290806       </td><td>0.2929154       </td><td>0.3688705       </td><td>0.1298105       </td><td>0.03696265      </td><td>0.2554750       </td></tr>\n",
       "\t<tr><td>HPSI0114i-wegi_1</td><td>pool6           </td><td>FPP             </td><td>2478            </td><td>0.1364839       </td><td>0.3633004       </td><td>0.5243082       </td><td>0.2357602       </td><td>0.05533171      </td><td>0.1814124       </td></tr>\n",
       "\t<tr><td>HPSI0114i-wegi_1</td><td>pool7           </td><td>FPP             </td><td> 151            </td><td>0.2138128       </td><td>0.3278713       </td><td>0.1149412       </td><td>0.2068751       </td><td>0.04422506      </td><td>0.1201481       </td></tr>\n",
       "\t<tr><td>HPSI0115i-aion_2</td><td>pool4           </td><td>FPP             </td><td> 406            </td><td>0.1798693       </td><td>0.3145946       </td><td>0.7716492       </td><td>0.2128632       </td><td>0.08480867      </td><td>0.2694515       </td></tr>\n",
       "</tbody>\n",
       "</table>\n"
      ],
      "text/latex": [
       "\\begin{tabular}{r|llllllllll}\n",
       " donor\\_id & pool\\_id & celltype & n\\_cells & AP006222.2 & NOC2L & HES4 & ISG15 & AGRN & SDF4\\\\\n",
       "\\hline\n",
       "\t HPSI0114i-eipl\\_1 & pool1              & FPP                & 1672               & 0.1818757          & 0.4284513          & 0.5028253          & 0.1026510          & 0.08505148         & 0.3155400         \\\\\n",
       "\t HPSI0114i-kolf\\_2 & pool12             & FPP                &  334               & 0.1290806          & 0.2929154          & 0.3688705          & 0.1298105          & 0.03696265         & 0.2554750         \\\\\n",
       "\t HPSI0114i-wegi\\_1 & pool6              & FPP                & 2478               & 0.1364839          & 0.3633004          & 0.5243082          & 0.2357602          & 0.05533171         & 0.1814124         \\\\\n",
       "\t HPSI0114i-wegi\\_1 & pool7              & FPP                &  151               & 0.2138128          & 0.3278713          & 0.1149412          & 0.2068751          & 0.04422506         & 0.1201481         \\\\\n",
       "\t HPSI0115i-aion\\_2 & pool4              & FPP                &  406               & 0.1798693          & 0.3145946          & 0.7716492          & 0.2128632          & 0.08480867         & 0.2694515         \\\\\n",
       "\\end{tabular}\n"
      ],
      "text/markdown": [
       "\n",
       "| donor_id | pool_id | celltype | n_cells | AP006222.2 | NOC2L | HES4 | ISG15 | AGRN | SDF4 |\n",
       "|---|---|---|---|---|---|---|---|---|---|\n",
       "| HPSI0114i-eipl_1 | pool1            | FPP              | 1672             | 0.1818757        | 0.4284513        | 0.5028253        | 0.1026510        | 0.08505148       | 0.3155400        |\n",
       "| HPSI0114i-kolf_2 | pool12           | FPP              |  334             | 0.1290806        | 0.2929154        | 0.3688705        | 0.1298105        | 0.03696265       | 0.2554750        |\n",
       "| HPSI0114i-wegi_1 | pool6            | FPP              | 2478             | 0.1364839        | 0.3633004        | 0.5243082        | 0.2357602        | 0.05533171       | 0.1814124        |\n",
       "| HPSI0114i-wegi_1 | pool7            | FPP              |  151             | 0.2138128        | 0.3278713        | 0.1149412        | 0.2068751        | 0.04422506       | 0.1201481        |\n",
       "| HPSI0115i-aion_2 | pool4            | FPP              |  406             | 0.1798693        | 0.3145946        | 0.7716492        | 0.2128632        | 0.08480867       | 0.2694515        |\n",
       "\n"
      ],
      "text/plain": [
       "  donor_id         pool_id celltype n_cells AP006222.2 NOC2L     HES4     \n",
       "1 HPSI0114i-eipl_1 pool1   FPP      1672    0.1818757  0.4284513 0.5028253\n",
       "2 HPSI0114i-kolf_2 pool12  FPP       334    0.1290806  0.2929154 0.3688705\n",
       "3 HPSI0114i-wegi_1 pool6   FPP      2478    0.1364839  0.3633004 0.5243082\n",
       "4 HPSI0114i-wegi_1 pool7   FPP       151    0.2138128  0.3278713 0.1149412\n",
       "5 HPSI0115i-aion_2 pool4   FPP       406    0.1798693  0.3145946 0.7716492\n",
       "  ISG15     AGRN       SDF4     \n",
       "1 0.1026510 0.08505148 0.3155400\n",
       "2 0.1298105 0.03696265 0.2554750\n",
       "3 0.2357602 0.05533171 0.1814124\n",
       "4 0.2068751 0.04422506 0.1201481\n",
       "5 0.2128632 0.08480867 0.2694515"
      ]
     },
     "metadata": {},
     "output_type": "display_data"
    }
   ],
   "source": [
    "nrow(df)\n",
    "ncol(df)\n",
    "df[1:5,1:10]"
   ]
  },
  {
   "cell_type": "code",
   "execution_count": 12,
   "metadata": {},
   "outputs": [],
   "source": [
    "df_day11 = df\n",
    "write.csv(df_day11,\"/hps/nobackup/stegle/users/acuomo/all_scripts/sc_neuroseq/day11_pseudobulk_mean_groupedby_donor_pool_celltype.csv\")"
   ]
  },
  {
   "cell_type": "code",
   "execution_count": null,
   "metadata": {},
   "outputs": [],
   "source": []
  },
  {
   "cell_type": "code",
   "execution_count": null,
   "metadata": {},
   "outputs": [],
   "source": []
  },
  {
   "cell_type": "code",
   "execution_count": 13,
   "metadata": {},
   "outputs": [],
   "source": [
    "# Day 30\n",
    "prefix = \"pool1_13_noddd_D30/pool1_13_noddd_D30.scanpy.w_metadata.w_celltype.scanpy.celltype.\"\n",
    "suffix = \".groupedby.donor_id-pool_id-celltype.mean.tsv\""
   ]
  },
  {
   "cell_type": "code",
   "execution_count": 14,
   "metadata": {},
   "outputs": [],
   "source": [
    "celltypes = c(\"DA\",\"Sert\",\"Epen1\",\"Astro\")"
   ]
  },
  {
   "cell_type": "code",
   "execution_count": 15,
   "metadata": {},
   "outputs": [
    {
     "name": "stdout",
     "output_type": "stream",
     "text": [
      "[1] 12337\n",
      "[1] 13633\n"
     ]
    },
    {
     "name": "stderr",
     "output_type": "stream",
     "text": [
      "Warning message in bind_rows_(x, .id):\n",
      "“Unequal factor levels: coercing to character”Warning message in bind_rows_(x, .id):\n",
      "“binding character and factor vector, coercing into character vector”Warning message in bind_rows_(x, .id):\n",
      "“binding character and factor vector, coercing into character vector”Warning message in bind_rows_(x, .id):\n",
      "“Unequal factor levels: coercing to character”Warning message in bind_rows_(x, .id):\n",
      "“binding character and factor vector, coercing into character vector”Warning message in bind_rows_(x, .id):\n",
      "“binding character and factor vector, coercing into character vector”"
     ]
    },
    {
     "name": "stdout",
     "output_type": "stream",
     "text": [
      "[1] 14846\n"
     ]
    },
    {
     "name": "stderr",
     "output_type": "stream",
     "text": [
      "Warning message in bind_rows_(x, .id):\n",
      "“binding character and factor vector, coercing into character vector”Warning message in bind_rows_(x, .id):\n",
      "“binding character and factor vector, coercing into character vector”"
     ]
    },
    {
     "name": "stdout",
     "output_type": "stream",
     "text": [
      "[1] 13608\n"
     ]
    },
    {
     "name": "stderr",
     "output_type": "stream",
     "text": [
      "Warning message in bind_rows_(x, .id):\n",
      "“binding character and factor vector, coercing into character vector”Warning message in bind_rows_(x, .id):\n",
      "“binding character and factor vector, coercing into character vector”"
     ]
    }
   ],
   "source": [
    "df = data.frame()\n",
    "for (celltype in celltypes){\n",
    "    filename = paste0(mydir,prefix,celltype,suffix)\n",
    "    print(ncol(read.csv(filename, sep ='\\t')))\n",
    "    df = bind_rows(df,read.csv(filename, sep ='\\t'))\n",
    "    \n",
    "} "
   ]
  },
  {
   "cell_type": "code",
   "execution_count": 16,
   "metadata": {},
   "outputs": [
    {
     "data": {
      "text/html": [
       "691"
      ],
      "text/latex": [
       "691"
      ],
      "text/markdown": [
       "691"
      ],
      "text/plain": [
       "[1] 691"
      ]
     },
     "metadata": {},
     "output_type": "display_data"
    },
    {
     "data": {
      "text/html": [
       "15808"
      ],
      "text/latex": [
       "15808"
      ],
      "text/markdown": [
       "15808"
      ],
      "text/plain": [
       "[1] 15808"
      ]
     },
     "metadata": {},
     "output_type": "display_data"
    },
    {
     "data": {
      "text/html": [
       "<table>\n",
       "<thead><tr><th scope=col>donor_id</th><th scope=col>pool_id</th><th scope=col>celltype</th><th scope=col>n_cells</th><th scope=col>AP006222.2</th><th scope=col>RP11.206L10.9</th><th scope=col>LINC00115</th><th scope=col>FAM41C</th><th scope=col>RP11.54O7.1</th><th scope=col>RP11.54O7.3</th></tr></thead>\n",
       "<tbody>\n",
       "\t<tr><td>HPSI0114i-bezi_3</td><td>pool10          </td><td>DA              </td><td>115             </td><td>0.1983263       </td><td>0.047601476     </td><td>0.00000000      </td><td>0.01811696      </td><td>0.02295148      </td><td>0.013092472     </td></tr>\n",
       "\t<tr><td>HPSI0114i-eipl_1</td><td>pool1           </td><td>DA              </td><td> 51             </td><td>0.2246863       </td><td>0.000000000     </td><td>0.01262993      </td><td>0.04306599      </td><td>0.02714102      </td><td>0.010593234     </td></tr>\n",
       "\t<tr><td>HPSI0114i-kolf_2</td><td>pool10          </td><td>DA              </td><td> 67             </td><td>0.2350840       </td><td>0.010203722     </td><td>0.02535193      </td><td>0.01097705      </td><td>0.04569566      </td><td>0.029663783     </td></tr>\n",
       "\t<tr><td>HPSI0114i-kolf_2</td><td>pool12          </td><td>DA              </td><td>182             </td><td>0.1079344       </td><td>0.004537755     </td><td>0.01380603      </td><td>0.01934709      </td><td>0.00000000      </td><td>0.006065263     </td></tr>\n",
       "\t<tr><td>HPSI0114i-lexy_2</td><td>pool10          </td><td>DA              </td><td> 54             </td><td>0.1927520       </td><td>0.016040634     </td><td>0.00000000      </td><td>0.00000000      </td><td>0.00000000      </td><td>0.015228746     </td></tr>\n",
       "</tbody>\n",
       "</table>\n"
      ],
      "text/latex": [
       "\\begin{tabular}{r|llllllllll}\n",
       " donor\\_id & pool\\_id & celltype & n\\_cells & AP006222.2 & RP11.206L10.9 & LINC00115 & FAM41C & RP11.54O7.1 & RP11.54O7.3\\\\\n",
       "\\hline\n",
       "\t HPSI0114i-bezi\\_3 & pool10             & DA                 & 115                & 0.1983263          & 0.047601476        & 0.00000000         & 0.01811696         & 0.02295148         & 0.013092472       \\\\\n",
       "\t HPSI0114i-eipl\\_1 & pool1              & DA                 &  51                & 0.2246863          & 0.000000000        & 0.01262993         & 0.04306599         & 0.02714102         & 0.010593234       \\\\\n",
       "\t HPSI0114i-kolf\\_2 & pool10             & DA                 &  67                & 0.2350840          & 0.010203722        & 0.02535193         & 0.01097705         & 0.04569566         & 0.029663783       \\\\\n",
       "\t HPSI0114i-kolf\\_2 & pool12             & DA                 & 182                & 0.1079344          & 0.004537755        & 0.01380603         & 0.01934709         & 0.00000000         & 0.006065263       \\\\\n",
       "\t HPSI0114i-lexy\\_2 & pool10             & DA                 &  54                & 0.1927520          & 0.016040634        & 0.00000000         & 0.00000000         & 0.00000000         & 0.015228746       \\\\\n",
       "\\end{tabular}\n"
      ],
      "text/markdown": [
       "\n",
       "| donor_id | pool_id | celltype | n_cells | AP006222.2 | RP11.206L10.9 | LINC00115 | FAM41C | RP11.54O7.1 | RP11.54O7.3 |\n",
       "|---|---|---|---|---|---|---|---|---|---|\n",
       "| HPSI0114i-bezi_3 | pool10           | DA               | 115              | 0.1983263        | 0.047601476      | 0.00000000       | 0.01811696       | 0.02295148       | 0.013092472      |\n",
       "| HPSI0114i-eipl_1 | pool1            | DA               |  51              | 0.2246863        | 0.000000000      | 0.01262993       | 0.04306599       | 0.02714102       | 0.010593234      |\n",
       "| HPSI0114i-kolf_2 | pool10           | DA               |  67              | 0.2350840        | 0.010203722      | 0.02535193       | 0.01097705       | 0.04569566       | 0.029663783      |\n",
       "| HPSI0114i-kolf_2 | pool12           | DA               | 182              | 0.1079344        | 0.004537755      | 0.01380603       | 0.01934709       | 0.00000000       | 0.006065263      |\n",
       "| HPSI0114i-lexy_2 | pool10           | DA               |  54              | 0.1927520        | 0.016040634      | 0.00000000       | 0.00000000       | 0.00000000       | 0.015228746      |\n",
       "\n"
      ],
      "text/plain": [
       "  donor_id         pool_id celltype n_cells AP006222.2 RP11.206L10.9 LINC00115 \n",
       "1 HPSI0114i-bezi_3 pool10  DA       115     0.1983263  0.047601476   0.00000000\n",
       "2 HPSI0114i-eipl_1 pool1   DA        51     0.2246863  0.000000000   0.01262993\n",
       "3 HPSI0114i-kolf_2 pool10  DA        67     0.2350840  0.010203722   0.02535193\n",
       "4 HPSI0114i-kolf_2 pool12  DA       182     0.1079344  0.004537755   0.01380603\n",
       "5 HPSI0114i-lexy_2 pool10  DA        54     0.1927520  0.016040634   0.00000000\n",
       "  FAM41C     RP11.54O7.1 RP11.54O7.3\n",
       "1 0.01811696 0.02295148  0.013092472\n",
       "2 0.04306599 0.02714102  0.010593234\n",
       "3 0.01097705 0.04569566  0.029663783\n",
       "4 0.01934709 0.00000000  0.006065263\n",
       "5 0.00000000 0.00000000  0.015228746"
      ]
     },
     "metadata": {},
     "output_type": "display_data"
    }
   ],
   "source": [
    "nrow(df)\n",
    "ncol(df)\n",
    "df[1:5,1:10]"
   ]
  },
  {
   "cell_type": "code",
   "execution_count": 17,
   "metadata": {},
   "outputs": [],
   "source": [
    "df = df[,colSums(is.na(df))==0]"
   ]
  },
  {
   "cell_type": "code",
   "execution_count": 18,
   "metadata": {},
   "outputs": [
    {
     "data": {
      "text/html": [
       "691"
      ],
      "text/latex": [
       "691"
      ],
      "text/markdown": [
       "691"
      ],
      "text/plain": [
       "[1] 691"
      ]
     },
     "metadata": {},
     "output_type": "display_data"
    },
    {
     "data": {
      "text/html": [
       "11497"
      ],
      "text/latex": [
       "11497"
      ],
      "text/markdown": [
       "11497"
      ],
      "text/plain": [
       "[1] 11497"
      ]
     },
     "metadata": {},
     "output_type": "display_data"
    },
    {
     "data": {
      "text/html": [
       "<table>\n",
       "<thead><tr><th scope=col>donor_id</th><th scope=col>pool_id</th><th scope=col>celltype</th><th scope=col>n_cells</th><th scope=col>AP006222.2</th><th scope=col>RP11.206L10.9</th><th scope=col>FAM41C</th><th scope=col>RP11.54O7.1</th><th scope=col>SAMD11</th><th scope=col>NOC2L</th></tr></thead>\n",
       "<tbody>\n",
       "\t<tr><td>HPSI0114i-bezi_3</td><td>pool10          </td><td>DA              </td><td>115             </td><td>0.1983263       </td><td>0.047601476     </td><td>0.01811696      </td><td>0.02295148      </td><td>0.5085698       </td><td>0.2852803       </td></tr>\n",
       "\t<tr><td>HPSI0114i-eipl_1</td><td>pool1           </td><td>DA              </td><td> 51             </td><td>0.2246863       </td><td>0.000000000     </td><td>0.04306599      </td><td>0.02714102      </td><td>0.3683892       </td><td>0.4796791       </td></tr>\n",
       "\t<tr><td>HPSI0114i-kolf_2</td><td>pool10          </td><td>DA              </td><td> 67             </td><td>0.2350840       </td><td>0.010203722     </td><td>0.01097705      </td><td>0.04569566      </td><td>0.4561152       </td><td>0.2426226       </td></tr>\n",
       "\t<tr><td>HPSI0114i-kolf_2</td><td>pool12          </td><td>DA              </td><td>182             </td><td>0.1079344       </td><td>0.004537755     </td><td>0.01934709      </td><td>0.00000000      </td><td>0.3240020       </td><td>0.2557466       </td></tr>\n",
       "\t<tr><td>HPSI0114i-lexy_2</td><td>pool10          </td><td>DA              </td><td> 54             </td><td>0.1927520       </td><td>0.016040634     </td><td>0.00000000      </td><td>0.00000000      </td><td>0.5482945       </td><td>0.3007463       </td></tr>\n",
       "</tbody>\n",
       "</table>\n"
      ],
      "text/latex": [
       "\\begin{tabular}{r|llllllllll}\n",
       " donor\\_id & pool\\_id & celltype & n\\_cells & AP006222.2 & RP11.206L10.9 & FAM41C & RP11.54O7.1 & SAMD11 & NOC2L\\\\\n",
       "\\hline\n",
       "\t HPSI0114i-bezi\\_3 & pool10             & DA                 & 115                & 0.1983263          & 0.047601476        & 0.01811696         & 0.02295148         & 0.5085698          & 0.2852803         \\\\\n",
       "\t HPSI0114i-eipl\\_1 & pool1              & DA                 &  51                & 0.2246863          & 0.000000000        & 0.04306599         & 0.02714102         & 0.3683892          & 0.4796791         \\\\\n",
       "\t HPSI0114i-kolf\\_2 & pool10             & DA                 &  67                & 0.2350840          & 0.010203722        & 0.01097705         & 0.04569566         & 0.4561152          & 0.2426226         \\\\\n",
       "\t HPSI0114i-kolf\\_2 & pool12             & DA                 & 182                & 0.1079344          & 0.004537755        & 0.01934709         & 0.00000000         & 0.3240020          & 0.2557466         \\\\\n",
       "\t HPSI0114i-lexy\\_2 & pool10             & DA                 &  54                & 0.1927520          & 0.016040634        & 0.00000000         & 0.00000000         & 0.5482945          & 0.3007463         \\\\\n",
       "\\end{tabular}\n"
      ],
      "text/markdown": [
       "\n",
       "| donor_id | pool_id | celltype | n_cells | AP006222.2 | RP11.206L10.9 | FAM41C | RP11.54O7.1 | SAMD11 | NOC2L |\n",
       "|---|---|---|---|---|---|---|---|---|---|\n",
       "| HPSI0114i-bezi_3 | pool10           | DA               | 115              | 0.1983263        | 0.047601476      | 0.01811696       | 0.02295148       | 0.5085698        | 0.2852803        |\n",
       "| HPSI0114i-eipl_1 | pool1            | DA               |  51              | 0.2246863        | 0.000000000      | 0.04306599       | 0.02714102       | 0.3683892        | 0.4796791        |\n",
       "| HPSI0114i-kolf_2 | pool10           | DA               |  67              | 0.2350840        | 0.010203722      | 0.01097705       | 0.04569566       | 0.4561152        | 0.2426226        |\n",
       "| HPSI0114i-kolf_2 | pool12           | DA               | 182              | 0.1079344        | 0.004537755      | 0.01934709       | 0.00000000       | 0.3240020        | 0.2557466        |\n",
       "| HPSI0114i-lexy_2 | pool10           | DA               |  54              | 0.1927520        | 0.016040634      | 0.00000000       | 0.00000000       | 0.5482945        | 0.3007463        |\n",
       "\n"
      ],
      "text/plain": [
       "  donor_id         pool_id celltype n_cells AP006222.2 RP11.206L10.9 FAM41C    \n",
       "1 HPSI0114i-bezi_3 pool10  DA       115     0.1983263  0.047601476   0.01811696\n",
       "2 HPSI0114i-eipl_1 pool1   DA        51     0.2246863  0.000000000   0.04306599\n",
       "3 HPSI0114i-kolf_2 pool10  DA        67     0.2350840  0.010203722   0.01097705\n",
       "4 HPSI0114i-kolf_2 pool12  DA       182     0.1079344  0.004537755   0.01934709\n",
       "5 HPSI0114i-lexy_2 pool10  DA        54     0.1927520  0.016040634   0.00000000\n",
       "  RP11.54O7.1 SAMD11    NOC2L    \n",
       "1 0.02295148  0.5085698 0.2852803\n",
       "2 0.02714102  0.3683892 0.4796791\n",
       "3 0.04569566  0.4561152 0.2426226\n",
       "4 0.00000000  0.3240020 0.2557466\n",
       "5 0.00000000  0.5482945 0.3007463"
      ]
     },
     "metadata": {},
     "output_type": "display_data"
    }
   ],
   "source": [
    "nrow(df)\n",
    "ncol(df)\n",
    "df[1:5,1:10]"
   ]
  },
  {
   "cell_type": "code",
   "execution_count": 19,
   "metadata": {},
   "outputs": [],
   "source": [
    "df_day30 = df\n",
    "write.csv(df_day30,\"/hps/nobackup/stegle/users/acuomo/all_scripts/sc_neuroseq/day30_pseudobulk_mean_groupedby_donor_pool_celltype.csv\")"
   ]
  },
  {
   "cell_type": "code",
   "execution_count": null,
   "metadata": {},
   "outputs": [],
   "source": []
  },
  {
   "cell_type": "code",
   "execution_count": 20,
   "metadata": {},
   "outputs": [],
   "source": [
    "# Day 52\n",
    "prefix = \"pool1_17_D52/pool1_17_D52.scanpy.w_metadata.w_celltype.scanpy.celltype.\"\n",
    "suffix = \".groupedby.donor_id-pool_id-celltype-treatment.mean.tsv\""
   ]
  },
  {
   "cell_type": "code",
   "execution_count": 21,
   "metadata": {},
   "outputs": [],
   "source": [
    "celltypes = c(\"DA\",\"Sert\",\"Epen1\",\"Astro\")"
   ]
  },
  {
   "cell_type": "code",
   "execution_count": 22,
   "metadata": {},
   "outputs": [
    {
     "name": "stdout",
     "output_type": "stream",
     "text": [
      "[1] 13635\n",
      "[1] 14322\n"
     ]
    },
    {
     "name": "stderr",
     "output_type": "stream",
     "text": [
      "Warning message in bind_rows_(x, .id):\n",
      "“Unequal factor levels: coercing to character”Warning message in bind_rows_(x, .id):\n",
      "“binding character and factor vector, coercing into character vector”Warning message in bind_rows_(x, .id):\n",
      "“binding character and factor vector, coercing into character vector”Warning message in bind_rows_(x, .id):\n",
      "“Unequal factor levels: coercing to character”Warning message in bind_rows_(x, .id):\n",
      "“binding character and factor vector, coercing into character vector”Warning message in bind_rows_(x, .id):\n",
      "“binding character and factor vector, coercing into character vector”"
     ]
    },
    {
     "name": "stdout",
     "output_type": "stream",
     "text": [
      "[1] 14415\n"
     ]
    },
    {
     "name": "stderr",
     "output_type": "stream",
     "text": [
      "Warning message in bind_rows_(x, .id):\n",
      "“binding character and factor vector, coercing into character vector”Warning message in bind_rows_(x, .id):\n",
      "“binding character and factor vector, coercing into character vector”"
     ]
    },
    {
     "name": "stdout",
     "output_type": "stream",
     "text": [
      "[1] 13434\n"
     ]
    },
    {
     "name": "stderr",
     "output_type": "stream",
     "text": [
      "Warning message in bind_rows_(x, .id):\n",
      "“binding character and factor vector, coercing into character vector”Warning message in bind_rows_(x, .id):\n",
      "“binding character and factor vector, coercing into character vector”"
     ]
    }
   ],
   "source": [
    "df = data.frame()\n",
    "for (celltype in celltypes){\n",
    "    filename = paste0(mydir,prefix,celltype,suffix)\n",
    "    print(ncol(read.csv(filename, sep ='\\t')))\n",
    "    df = bind_rows(df,read.csv(filename, sep ='\\t'))\n",
    "    \n",
    "} "
   ]
  },
  {
   "cell_type": "code",
   "execution_count": 23,
   "metadata": {},
   "outputs": [
    {
     "data": {
      "text/html": [
       "1384"
      ],
      "text/latex": [
       "1384"
      ],
      "text/markdown": [
       "1384"
      ],
      "text/plain": [
       "[1] 1384"
      ]
     },
     "metadata": {},
     "output_type": "display_data"
    },
    {
     "data": {
      "text/html": [
       "16213"
      ],
      "text/latex": [
       "16213"
      ],
      "text/markdown": [
       "16213"
      ],
      "text/plain": [
       "[1] 16213"
      ]
     },
     "metadata": {},
     "output_type": "display_data"
    },
    {
     "data": {
      "text/html": [
       "<table>\n",
       "<thead><tr><th scope=col>donor_id</th><th scope=col>pool_id</th><th scope=col>celltype</th><th scope=col>treatment</th><th scope=col>n_cells</th><th scope=col>AP006222.2</th><th scope=col>RP11.206L10.3</th><th scope=col>RP11.206L10.9</th><th scope=col>LINC00115</th><th scope=col>FAM41C</th></tr></thead>\n",
       "<tbody>\n",
       "\t<tr><td>HPSI0114i-bezi_3</td><td>pool10          </td><td>DA              </td><td>NONE            </td><td> 66             </td><td>0.3731484       </td><td>0.010520994     </td><td>0.03468661      </td><td>0.01299685      </td><td>0.01437325      </td></tr>\n",
       "\t<tr><td>HPSI0114i-bezi_3</td><td>pool10          </td><td>DA              </td><td>ROT             </td><td> 37             </td><td>0.4486321       </td><td>0.000000000     </td><td>0.00000000      </td><td>0.02907423      </td><td>0.01921101      </td></tr>\n",
       "\t<tr><td>HPSI0114i-eipl_1</td><td>pool1           </td><td>DA              </td><td>NONE            </td><td>189             </td><td>0.3629357       </td><td>0.006137582     </td><td>0.01582589      </td><td>0.02663645      </td><td>0.02393198      </td></tr>\n",
       "\t<tr><td>HPSI0114i-eipl_1</td><td>pool1           </td><td>DA              </td><td>ROT             </td><td> 59             </td><td>0.3373866       </td><td>0.000000000     </td><td>0.01763997      </td><td>0.06121597      </td><td>0.00751512      </td></tr>\n",
       "\t<tr><td>HPSI0114i-fikt_3</td><td>pool14          </td><td>DA              </td><td>NONE            </td><td> 26             </td><td>0.2690070       </td><td>0.000000000     </td><td>0.06255674      </td><td>0.00000000      </td><td>0.00000000      </td></tr>\n",
       "</tbody>\n",
       "</table>\n"
      ],
      "text/latex": [
       "\\begin{tabular}{r|llllllllll}\n",
       " donor\\_id & pool\\_id & celltype & treatment & n\\_cells & AP006222.2 & RP11.206L10.3 & RP11.206L10.9 & LINC00115 & FAM41C\\\\\n",
       "\\hline\n",
       "\t HPSI0114i-bezi\\_3 & pool10             & DA                 & NONE               &  66                & 0.3731484          & 0.010520994        & 0.03468661         & 0.01299685         & 0.01437325        \\\\\n",
       "\t HPSI0114i-bezi\\_3 & pool10             & DA                 & ROT                &  37                & 0.4486321          & 0.000000000        & 0.00000000         & 0.02907423         & 0.01921101        \\\\\n",
       "\t HPSI0114i-eipl\\_1 & pool1              & DA                 & NONE               & 189                & 0.3629357          & 0.006137582        & 0.01582589         & 0.02663645         & 0.02393198        \\\\\n",
       "\t HPSI0114i-eipl\\_1 & pool1              & DA                 & ROT                &  59                & 0.3373866          & 0.000000000        & 0.01763997         & 0.06121597         & 0.00751512        \\\\\n",
       "\t HPSI0114i-fikt\\_3 & pool14             & DA                 & NONE               &  26                & 0.2690070          & 0.000000000        & 0.06255674         & 0.00000000         & 0.00000000        \\\\\n",
       "\\end{tabular}\n"
      ],
      "text/markdown": [
       "\n",
       "| donor_id | pool_id | celltype | treatment | n_cells | AP006222.2 | RP11.206L10.3 | RP11.206L10.9 | LINC00115 | FAM41C |\n",
       "|---|---|---|---|---|---|---|---|---|---|\n",
       "| HPSI0114i-bezi_3 | pool10           | DA               | NONE             |  66              | 0.3731484        | 0.010520994      | 0.03468661       | 0.01299685       | 0.01437325       |\n",
       "| HPSI0114i-bezi_3 | pool10           | DA               | ROT              |  37              | 0.4486321        | 0.000000000      | 0.00000000       | 0.02907423       | 0.01921101       |\n",
       "| HPSI0114i-eipl_1 | pool1            | DA               | NONE             | 189              | 0.3629357        | 0.006137582      | 0.01582589       | 0.02663645       | 0.02393198       |\n",
       "| HPSI0114i-eipl_1 | pool1            | DA               | ROT              |  59              | 0.3373866        | 0.000000000      | 0.01763997       | 0.06121597       | 0.00751512       |\n",
       "| HPSI0114i-fikt_3 | pool14           | DA               | NONE             |  26              | 0.2690070        | 0.000000000      | 0.06255674       | 0.00000000       | 0.00000000       |\n",
       "\n"
      ],
      "text/plain": [
       "  donor_id         pool_id celltype treatment n_cells AP006222.2 RP11.206L10.3\n",
       "1 HPSI0114i-bezi_3 pool10  DA       NONE       66     0.3731484  0.010520994  \n",
       "2 HPSI0114i-bezi_3 pool10  DA       ROT        37     0.4486321  0.000000000  \n",
       "3 HPSI0114i-eipl_1 pool1   DA       NONE      189     0.3629357  0.006137582  \n",
       "4 HPSI0114i-eipl_1 pool1   DA       ROT        59     0.3373866  0.000000000  \n",
       "5 HPSI0114i-fikt_3 pool14  DA       NONE       26     0.2690070  0.000000000  \n",
       "  RP11.206L10.9 LINC00115  FAM41C    \n",
       "1 0.03468661    0.01299685 0.01437325\n",
       "2 0.00000000    0.02907423 0.01921101\n",
       "3 0.01582589    0.02663645 0.02393198\n",
       "4 0.01763997    0.06121597 0.00751512\n",
       "5 0.06255674    0.00000000 0.00000000"
      ]
     },
     "metadata": {},
     "output_type": "display_data"
    }
   ],
   "source": [
    "nrow(df)\n",
    "ncol(df)\n",
    "df[1:5,1:10]"
   ]
  },
  {
   "cell_type": "code",
   "execution_count": 24,
   "metadata": {},
   "outputs": [],
   "source": [
    "df = df[,colSums(is.na(df))==0]"
   ]
  },
  {
   "cell_type": "code",
   "execution_count": 25,
   "metadata": {},
   "outputs": [
    {
     "data": {
      "text/html": [
       "1384"
      ],
      "text/latex": [
       "1384"
      ],
      "text/markdown": [
       "1384"
      ],
      "text/plain": [
       "[1] 1384"
      ]
     },
     "metadata": {},
     "output_type": "display_data"
    },
    {
     "data": {
      "text/html": [
       "11907"
      ],
      "text/latex": [
       "11907"
      ],
      "text/markdown": [
       "11907"
      ],
      "text/plain": [
       "[1] 11907"
      ]
     },
     "metadata": {},
     "output_type": "display_data"
    },
    {
     "data": {
      "text/html": [
       "<table>\n",
       "<thead><tr><th scope=col>donor_id</th><th scope=col>pool_id</th><th scope=col>celltype</th><th scope=col>treatment</th><th scope=col>n_cells</th><th scope=col>AP006222.2</th><th scope=col>RP11.206L10.3</th><th scope=col>RP11.206L10.9</th><th scope=col>LINC00115</th><th scope=col>FAM41C</th></tr></thead>\n",
       "<tbody>\n",
       "\t<tr><td>HPSI0114i-bezi_3</td><td>pool10          </td><td>DA              </td><td>NONE            </td><td> 66             </td><td>0.3731484       </td><td>0.010520994     </td><td>0.03468661      </td><td>0.01299685      </td><td>0.01437325      </td></tr>\n",
       "\t<tr><td>HPSI0114i-bezi_3</td><td>pool10          </td><td>DA              </td><td>ROT             </td><td> 37             </td><td>0.4486321       </td><td>0.000000000     </td><td>0.00000000      </td><td>0.02907423      </td><td>0.01921101      </td></tr>\n",
       "\t<tr><td>HPSI0114i-eipl_1</td><td>pool1           </td><td>DA              </td><td>NONE            </td><td>189             </td><td>0.3629357       </td><td>0.006137582     </td><td>0.01582589      </td><td>0.02663645      </td><td>0.02393198      </td></tr>\n",
       "\t<tr><td>HPSI0114i-eipl_1</td><td>pool1           </td><td>DA              </td><td>ROT             </td><td> 59             </td><td>0.3373866       </td><td>0.000000000     </td><td>0.01763997      </td><td>0.06121597      </td><td>0.00751512      </td></tr>\n",
       "\t<tr><td>HPSI0114i-fikt_3</td><td>pool14          </td><td>DA              </td><td>NONE            </td><td> 26             </td><td>0.2690070       </td><td>0.000000000     </td><td>0.06255674      </td><td>0.00000000      </td><td>0.00000000      </td></tr>\n",
       "</tbody>\n",
       "</table>\n"
      ],
      "text/latex": [
       "\\begin{tabular}{r|llllllllll}\n",
       " donor\\_id & pool\\_id & celltype & treatment & n\\_cells & AP006222.2 & RP11.206L10.3 & RP11.206L10.9 & LINC00115 & FAM41C\\\\\n",
       "\\hline\n",
       "\t HPSI0114i-bezi\\_3 & pool10             & DA                 & NONE               &  66                & 0.3731484          & 0.010520994        & 0.03468661         & 0.01299685         & 0.01437325        \\\\\n",
       "\t HPSI0114i-bezi\\_3 & pool10             & DA                 & ROT                &  37                & 0.4486321          & 0.000000000        & 0.00000000         & 0.02907423         & 0.01921101        \\\\\n",
       "\t HPSI0114i-eipl\\_1 & pool1              & DA                 & NONE               & 189                & 0.3629357          & 0.006137582        & 0.01582589         & 0.02663645         & 0.02393198        \\\\\n",
       "\t HPSI0114i-eipl\\_1 & pool1              & DA                 & ROT                &  59                & 0.3373866          & 0.000000000        & 0.01763997         & 0.06121597         & 0.00751512        \\\\\n",
       "\t HPSI0114i-fikt\\_3 & pool14             & DA                 & NONE               &  26                & 0.2690070          & 0.000000000        & 0.06255674         & 0.00000000         & 0.00000000        \\\\\n",
       "\\end{tabular}\n"
      ],
      "text/markdown": [
       "\n",
       "| donor_id | pool_id | celltype | treatment | n_cells | AP006222.2 | RP11.206L10.3 | RP11.206L10.9 | LINC00115 | FAM41C |\n",
       "|---|---|---|---|---|---|---|---|---|---|\n",
       "| HPSI0114i-bezi_3 | pool10           | DA               | NONE             |  66              | 0.3731484        | 0.010520994      | 0.03468661       | 0.01299685       | 0.01437325       |\n",
       "| HPSI0114i-bezi_3 | pool10           | DA               | ROT              |  37              | 0.4486321        | 0.000000000      | 0.00000000       | 0.02907423       | 0.01921101       |\n",
       "| HPSI0114i-eipl_1 | pool1            | DA               | NONE             | 189              | 0.3629357        | 0.006137582      | 0.01582589       | 0.02663645       | 0.02393198       |\n",
       "| HPSI0114i-eipl_1 | pool1            | DA               | ROT              |  59              | 0.3373866        | 0.000000000      | 0.01763997       | 0.06121597       | 0.00751512       |\n",
       "| HPSI0114i-fikt_3 | pool14           | DA               | NONE             |  26              | 0.2690070        | 0.000000000      | 0.06255674       | 0.00000000       | 0.00000000       |\n",
       "\n"
      ],
      "text/plain": [
       "  donor_id         pool_id celltype treatment n_cells AP006222.2 RP11.206L10.3\n",
       "1 HPSI0114i-bezi_3 pool10  DA       NONE       66     0.3731484  0.010520994  \n",
       "2 HPSI0114i-bezi_3 pool10  DA       ROT        37     0.4486321  0.000000000  \n",
       "3 HPSI0114i-eipl_1 pool1   DA       NONE      189     0.3629357  0.006137582  \n",
       "4 HPSI0114i-eipl_1 pool1   DA       ROT        59     0.3373866  0.000000000  \n",
       "5 HPSI0114i-fikt_3 pool14  DA       NONE       26     0.2690070  0.000000000  \n",
       "  RP11.206L10.9 LINC00115  FAM41C    \n",
       "1 0.03468661    0.01299685 0.01437325\n",
       "2 0.00000000    0.02907423 0.01921101\n",
       "3 0.01582589    0.02663645 0.02393198\n",
       "4 0.01763997    0.06121597 0.00751512\n",
       "5 0.06255674    0.00000000 0.00000000"
      ]
     },
     "metadata": {},
     "output_type": "display_data"
    }
   ],
   "source": [
    "nrow(df)\n",
    "ncol(df)\n",
    "df[1:5,1:10]"
   ]
  },
  {
   "cell_type": "code",
   "execution_count": 26,
   "metadata": {},
   "outputs": [],
   "source": [
    "df_day52 = df\n",
    "write.csv(df_day52, \"/hps/nobackup/stegle/users/acuomo/all_scripts/sc_neuroseq/day52_pseudobulk_mean_groupedby_donor_pool_celltype_treatment.csv\")"
   ]
  },
  {
   "cell_type": "code",
   "execution_count": null,
   "metadata": {},
   "outputs": [],
   "source": []
  },
  {
   "cell_type": "code",
   "execution_count": 27,
   "metadata": {},
   "outputs": [],
   "source": [
    "genes_day11 = colnames(df_day11)[5:ncol(df_day11)]\n",
    "genes_day30 = colnames(df_day30)[5:ncol(df_day30)]\n",
    "genes_day52 = colnames(df_day52)[6:ncol(df_day52)]"
   ]
  },
  {
   "cell_type": "code",
   "execution_count": 28,
   "metadata": {},
   "outputs": [
    {
     "data": {
      "text/html": [
       "5893"
      ],
      "text/latex": [
       "5893"
      ],
      "text/markdown": [
       "5893"
      ],
      "text/plain": [
       "[1] 5893"
      ]
     },
     "metadata": {},
     "output_type": "display_data"
    }
   ],
   "source": [
    "genes1 = genes_day11[genes_day11 %in% genes_day30]\n",
    "common_genes = genes1[genes1 %in% genes_day52]\n",
    "length(common_genes)"
   ]
  },
  {
   "cell_type": "code",
   "execution_count": null,
   "metadata": {},
   "outputs": [],
   "source": []
  },
  {
   "cell_type": "code",
   "execution_count": 29,
   "metadata": {},
   "outputs": [],
   "source": [
    "df_day11$time_point = 'Day11'\n",
    "df_day30$time_point = 'Day30'\n",
    "df_day52$time_point = 'Day52'\n",
    "df_day11$treatment = 'NONE'\n",
    "df_day30$treatment = 'NONE'\n",
    "common_cols = c(\"donor_id\",\"pool_id\",\"celltype\",\"treatment\",\"n_cells\",\"time_point\", common_genes)\n",
    "df_all = rbind(df_day11[,common_cols],\n",
    "               df_day30[,common_cols],\n",
    "               df_day52[,common_cols])"
   ]
  },
  {
   "cell_type": "code",
   "execution_count": 30,
   "metadata": {},
   "outputs": [
    {
     "data": {
      "text/html": [
       "<ol class=list-inline>\n",
       "\t<li>2551</li>\n",
       "\t<li>5899</li>\n",
       "</ol>\n"
      ],
      "text/latex": [
       "\\begin{enumerate*}\n",
       "\\item 2551\n",
       "\\item 5899\n",
       "\\end{enumerate*}\n"
      ],
      "text/markdown": [
       "1. 2551\n",
       "2. 5899\n",
       "\n",
       "\n"
      ],
      "text/plain": [
       "[1] 2551 5899"
      ]
     },
     "metadata": {},
     "output_type": "display_data"
    },
    {
     "data": {
      "text/html": [
       "<table>\n",
       "<thead><tr><th scope=col>donor_id</th><th scope=col>pool_id</th><th scope=col>celltype</th><th scope=col>treatment</th><th scope=col>n_cells</th><th scope=col>time_point</th><th scope=col>AP006222.2</th><th scope=col>NOC2L</th><th scope=col>HES4</th><th scope=col>ISG15</th></tr></thead>\n",
       "<tbody>\n",
       "\t<tr><td>HPSI0114i-eipl_1</td><td>pool1           </td><td>FPP             </td><td>NONE            </td><td>1672            </td><td>Day11           </td><td>0.1818757       </td><td>0.4284513       </td><td>0.5028253       </td><td>0.1026510       </td></tr>\n",
       "\t<tr><td>HPSI0114i-kolf_2</td><td>pool12          </td><td>FPP             </td><td>NONE            </td><td> 334            </td><td>Day11           </td><td>0.1290806       </td><td>0.2929154       </td><td>0.3688705       </td><td>0.1298105       </td></tr>\n",
       "\t<tr><td>HPSI0114i-wegi_1</td><td>pool6           </td><td>FPP             </td><td>NONE            </td><td>2478            </td><td>Day11           </td><td>0.1364839       </td><td>0.3633004       </td><td>0.5243082       </td><td>0.2357602       </td></tr>\n",
       "\t<tr><td>HPSI0114i-wegi_1</td><td>pool7           </td><td>FPP             </td><td>NONE            </td><td> 151            </td><td>Day11           </td><td>0.2138128       </td><td>0.3278713       </td><td>0.1149412       </td><td>0.2068751       </td></tr>\n",
       "\t<tr><td>HPSI0115i-aion_2</td><td>pool4           </td><td>FPP             </td><td>NONE            </td><td> 406            </td><td>Day11           </td><td>0.1798693       </td><td>0.3145946       </td><td>0.7716492       </td><td>0.2128632       </td></tr>\n",
       "</tbody>\n",
       "</table>\n"
      ],
      "text/latex": [
       "\\begin{tabular}{r|llllllllll}\n",
       " donor\\_id & pool\\_id & celltype & treatment & n\\_cells & time\\_point & AP006222.2 & NOC2L & HES4 & ISG15\\\\\n",
       "\\hline\n",
       "\t HPSI0114i-eipl\\_1 & pool1              & FPP                & NONE               & 1672               & Day11              & 0.1818757          & 0.4284513          & 0.5028253          & 0.1026510         \\\\\n",
       "\t HPSI0114i-kolf\\_2 & pool12             & FPP                & NONE               &  334               & Day11              & 0.1290806          & 0.2929154          & 0.3688705          & 0.1298105         \\\\\n",
       "\t HPSI0114i-wegi\\_1 & pool6              & FPP                & NONE               & 2478               & Day11              & 0.1364839          & 0.3633004          & 0.5243082          & 0.2357602         \\\\\n",
       "\t HPSI0114i-wegi\\_1 & pool7              & FPP                & NONE               &  151               & Day11              & 0.2138128          & 0.3278713          & 0.1149412          & 0.2068751         \\\\\n",
       "\t HPSI0115i-aion\\_2 & pool4              & FPP                & NONE               &  406               & Day11              & 0.1798693          & 0.3145946          & 0.7716492          & 0.2128632         \\\\\n",
       "\\end{tabular}\n"
      ],
      "text/markdown": [
       "\n",
       "| donor_id | pool_id | celltype | treatment | n_cells | time_point | AP006222.2 | NOC2L | HES4 | ISG15 |\n",
       "|---|---|---|---|---|---|---|---|---|---|\n",
       "| HPSI0114i-eipl_1 | pool1            | FPP              | NONE             | 1672             | Day11            | 0.1818757        | 0.4284513        | 0.5028253        | 0.1026510        |\n",
       "| HPSI0114i-kolf_2 | pool12           | FPP              | NONE             |  334             | Day11            | 0.1290806        | 0.2929154        | 0.3688705        | 0.1298105        |\n",
       "| HPSI0114i-wegi_1 | pool6            | FPP              | NONE             | 2478             | Day11            | 0.1364839        | 0.3633004        | 0.5243082        | 0.2357602        |\n",
       "| HPSI0114i-wegi_1 | pool7            | FPP              | NONE             |  151             | Day11            | 0.2138128        | 0.3278713        | 0.1149412        | 0.2068751        |\n",
       "| HPSI0115i-aion_2 | pool4            | FPP              | NONE             |  406             | Day11            | 0.1798693        | 0.3145946        | 0.7716492        | 0.2128632        |\n",
       "\n"
      ],
      "text/plain": [
       "  donor_id         pool_id celltype treatment n_cells time_point AP006222.2\n",
       "1 HPSI0114i-eipl_1 pool1   FPP      NONE      1672    Day11      0.1818757 \n",
       "2 HPSI0114i-kolf_2 pool12  FPP      NONE       334    Day11      0.1290806 \n",
       "3 HPSI0114i-wegi_1 pool6   FPP      NONE      2478    Day11      0.1364839 \n",
       "4 HPSI0114i-wegi_1 pool7   FPP      NONE       151    Day11      0.2138128 \n",
       "5 HPSI0115i-aion_2 pool4   FPP      NONE       406    Day11      0.1798693 \n",
       "  NOC2L     HES4      ISG15    \n",
       "1 0.4284513 0.5028253 0.1026510\n",
       "2 0.2929154 0.3688705 0.1298105\n",
       "3 0.3633004 0.5243082 0.2357602\n",
       "4 0.3278713 0.1149412 0.2068751\n",
       "5 0.3145946 0.7716492 0.2128632"
      ]
     },
     "metadata": {},
     "output_type": "display_data"
    }
   ],
   "source": [
    "c(nrow(df_all), ncol(df_all))\n",
    "df_all[1:5,1:10]"
   ]
  },
  {
   "cell_type": "code",
   "execution_count": null,
   "metadata": {},
   "outputs": [],
   "source": []
  },
  {
   "cell_type": "code",
   "execution_count": null,
   "metadata": {},
   "outputs": [],
   "source": []
  },
  {
   "cell_type": "code",
   "execution_count": 31,
   "metadata": {},
   "outputs": [
    {
     "name": "stderr",
     "output_type": "stream",
     "text": [
      "Loading required package: Matrix\n"
     ]
    }
   ],
   "source": [
    "library(lme4)"
   ]
  },
  {
   "cell_type": "code",
   "execution_count": 32,
   "metadata": {},
   "outputs": [
    {
     "data": {
      "text/html": [
       "'AP006222.2'"
      ],
      "text/latex": [
       "'AP006222.2'"
      ],
      "text/markdown": [
       "'AP006222.2'"
      ],
      "text/plain": [
       "[1] \"AP006222.2\""
      ]
     },
     "metadata": {},
     "output_type": "display_data"
    }
   ],
   "source": [
    "common_genes[1]"
   ]
  },
  {
   "cell_type": "code",
   "execution_count": 33,
   "metadata": {},
   "outputs": [],
   "source": [
    "lmm <- lmer(AP006222.2 ~ (1 | donor_id) + (1 | pool_id) + (1 | celltype) + (1 | time_point) + (1 | treatment), \n",
    "            data = df_all, REML = F)"
   ]
  },
  {
   "cell_type": "code",
   "execution_count": 34,
   "metadata": {},
   "outputs": [],
   "source": [
    "# summary(lmm)"
   ]
  },
  {
   "cell_type": "code",
   "execution_count": 35,
   "metadata": {},
   "outputs": [],
   "source": [
    "donor = summary(lmm)$varcor$donor_id[1,1]\n",
    "pool = summary(lmm)$varcor$pool_id[1,1]\n",
    "celltype = summary(lmm)$varcor$celltype[1,1]\n",
    "time_point = summary(lmm)$varcor$time_point[1,1]\n",
    "treatment = summary(lmm)$varcor$treatment[1,1]\n",
    "residual = summary(lmm)$sigma **2\n",
    "sum = donor+pool+celltype+time_point+treatment+residual"
   ]
  },
  {
   "cell_type": "code",
   "execution_count": 36,
   "metadata": {},
   "outputs": [],
   "source": [
    "library(ggplot2)"
   ]
  },
  {
   "cell_type": "code",
   "execution_count": 37,
   "metadata": {},
   "outputs": [
    {
     "data": {
      "image/png": "[encoded data removed]",
      "text/plain": [
       "plot without title"
      ]
     },
     "metadata": {},
     "output_type": "display_data"
    }
   ],
   "source": [
    "options(repr.plot.width = 10, repr.plot.height = 5)\n",
    "df = data.frame(component = c(\"donor\",\"pool\",\"celltype\",\"time_point\",\"treatment\",\"z_residual\"),\n",
    "               variance = c(donor/sum, pool/sum, celltype/sum, time_point/sum, treatment/sum, residual/sum))\n",
    "p = ggplot(df, aes(x = component, y = variance*100, fill = component)) + geom_bar(stat=\"identity\")\n",
    "p + xlab(\"\") + ylab(\"% variance explained\")"
   ]
  },
  {
   "cell_type": "code",
   "execution_count": null,
   "metadata": {},
   "outputs": [
    {
     "name": "stderr",
     "output_type": "stream",
     "text": [
      "boundary (singular) fit: see ?isSingular\n",
      "boundary (singular) fit: see ?isSingular\n",
      "Warning message in checkConv(attr(opt, \"derivs\"), opt$par, ctrl = control$checkConv, :\n",
      "“Model failed to converge with max|grad| = 0.0031783 (tol = 0.002, component 1)”Warning message in checkConv(attr(opt, \"derivs\"), opt$par, ctrl = control$checkConv, :\n",
      "“Model failed to converge with max|grad| = 0.00201736 (tol = 0.002, component 1)”boundary (singular) fit: see ?isSingular\n",
      "boundary (singular) fit: see ?isSingular\n",
      "boundary (singular) fit: see ?isSingular\n",
      "boundary (singular) fit: see ?isSingular\n",
      "boundary (singular) fit: see ?isSingular\n",
      "boundary (singular) fit: see ?isSingular\n",
      "boundary (singular) fit: see ?isSingular\n",
      "boundary (singular) fit: see ?isSingular\n",
      "boundary (singular) fit: see ?isSingular\n",
      "boundary (singular) fit: see ?isSingular\n",
      "Warning message in checkConv(attr(opt, \"derivs\"), opt$par, ctrl = control$checkConv, :\n",
      "“Model failed to converge with max|grad| = 0.0107223 (tol = 0.002, component 1)”boundary (singular) fit: see ?isSingular\n",
      "Warning message in checkConv(attr(opt, \"derivs\"), opt$par, ctrl = control$checkConv, :\n",
      "“unable to evaluate scaled gradient”Warning message in checkConv(attr(opt, \"derivs\"), opt$par, ctrl = control$checkConv, :\n",
      "“Model failed to converge: degenerate  Hessian with 1 negative eigenvalues”boundary (singular) fit: see ?isSingular\n",
      "boundary (singular) fit: see ?isSingular\n",
      "boundary (singular) fit: see ?isSingular\n",
      "boundary (singular) fit: see ?isSingular\n",
      "boundary (singular) fit: see ?isSingular\n",
      "boundary (singular) fit: see ?isSingular\n",
      "boundary (singular) fit: see ?isSingular\n",
      "boundary (singular) fit: see ?isSingular\n",
      "boundary (singular) fit: see ?isSingular\n",
      "boundary (singular) fit: see ?isSingular\n",
      "boundary (singular) fit: see ?isSingular\n",
      "boundary (singular) fit: see ?isSingular\n",
      "boundary (singular) fit: see ?isSingular\n",
      "boundary (singular) fit: see ?isSingular\n",
      "boundary (singular) fit: see ?isSingular\n",
      "boundary (singular) fit: see ?isSingular\n",
      "Warning message in checkConv(attr(opt, \"derivs\"), opt$par, ctrl = control$checkConv, :\n",
      "“Model failed to converge with max|grad| = 0.00487663 (tol = 0.002, component 1)”boundary (singular) fit: see ?isSingular\n",
      "Warning message in checkConv(attr(opt, \"derivs\"), opt$par, ctrl = control$checkConv, :\n",
      "“Model failed to converge with max|grad| = 1.43548 (tol = 0.002, component 1)”boundary (singular) fit: see ?isSingular\n",
      "boundary (singular) fit: see ?isSingular\n",
      "boundary (singular) fit: see ?isSingular\n",
      "boundary (singular) fit: see ?isSingular\n",
      "boundary (singular) fit: see ?isSingular\n",
      "boundary (singular) fit: see ?isSingular\n",
      "boundary (singular) fit: see ?isSingular\n",
      "boundary (singular) fit: see ?isSingular\n",
      "boundary (singular) fit: see ?isSingular\n",
      "boundary (singular) fit: see ?isSingular\n",
      "boundary (singular) fit: see ?isSingular\n",
      "boundary (singular) fit: see ?isSingular\n",
      "boundary (singular) fit: see ?isSingular\n",
      "boundary (singular) fit: see ?isSingular\n",
      "Warning message in checkConv(attr(opt, \"derivs\"), opt$par, ctrl = control$checkConv, :\n",
      "“Model failed to converge with max|grad| = 0.00364554 (tol = 0.002, component 1)”boundary (singular) fit: see ?isSingular\n",
      "boundary (singular) fit: see ?isSingular\n",
      "boundary (singular) fit: see ?isSingular\n",
      "boundary (singular) fit: see ?isSingular\n",
      "boundary (singular) fit: see ?isSingular\n",
      "boundary (singular) fit: see ?isSingular\n",
      "boundary (singular) fit: see ?isSingular\n",
      "boundary (singular) fit: see ?isSingular\n",
      "boundary (singular) fit: see ?isSingular\n",
      "boundary (singular) fit: see ?isSingular\n",
      "boundary (singular) fit: see ?isSingular\n",
      "boundary (singular) fit: see ?isSingular\n",
      "boundary (singular) fit: see ?isSingular\n",
      "boundary (singular) fit: see ?isSingular\n",
      "boundary (singular) fit: see ?isSingular\n",
      "boundary (singular) fit: see ?isSingular\n",
      "boundary (singular) fit: see ?isSingular\n",
      "boundary (singular) fit: see ?isSingular\n",
      "boundary (singular) fit: see ?isSingular\n",
      "boundary (singular) fit: see ?isSingular\n",
      "boundary (singular) fit: see ?isSingular\n",
      "boundary (singular) fit: see ?isSingular\n",
      "boundary (singular) fit: see ?isSingular\n",
      "boundary (singular) fit: see ?isSingular\n",
      "boundary (singular) fit: see ?isSingular\n",
      "boundary (singular) fit: see ?isSingular\n",
      "boundary (singular) fit: see ?isSingular\n",
      "boundary (singular) fit: see ?isSingular\n",
      "boundary (singular) fit: see ?isSingular\n",
      "boundary (singular) fit: see ?isSingular\n",
      "boundary (singular) fit: see ?isSingular\n",
      "boundary (singular) fit: see ?isSingular\n",
      "boundary (singular) fit: see ?isSingular\n",
      "Warning message in checkConv(attr(opt, \"derivs\"), opt$par, ctrl = control$checkConv, :\n",
      "“Model failed to converge with max|grad| = 0.00261372 (tol = 0.002, component 1)”boundary (singular) fit: see ?isSingular\n",
      "boundary (singular) fit: see ?isSingular\n",
      "boundary (singular) fit: see ?isSingular\n",
      "boundary (singular) fit: see ?isSingular\n",
      "boundary (singular) fit: see ?isSingular\n",
      "boundary (singular) fit: see ?isSingular\n",
      "boundary (singular) fit: see ?isSingular\n",
      "Warning message in checkConv(attr(opt, \"derivs\"), opt$par, ctrl = control$checkConv, :\n",
      "“Model failed to converge with max|grad| = 0.0124492 (tol = 0.002, component 1)”boundary (singular) fit: see ?isSingular\n",
      "boundary (singular) fit: see ?isSingular\n",
      "boundary (singular) fit: see ?isSingular\n",
      "boundary (singular) fit: see ?isSingular\n",
      "boundary (singular) fit: see ?isSingular\n",
      "boundary (singular) fit: see ?isSingular\n",
      "Warning message in checkConv(attr(opt, \"derivs\"), opt$par, ctrl = control$checkConv, :\n",
      "“Model failed to converge with max|grad| = 0.00225088 (tol = 0.002, component 1)”boundary (singular) fit: see ?isSingular\n",
      "boundary (singular) fit: see ?isSingular\n",
      "boundary (singular) fit: see ?isSingular\n",
      "boundary (singular) fit: see ?isSingular\n",
      "boundary (singular) fit: see ?isSingular\n",
      "boundary (singular) fit: see ?isSingular\n",
      "boundary (singular) fit: see ?isSingular\n",
      "boundary (singular) fit: see ?isSingular\n",
      "boundary (singular) fit: see ?isSingular\n",
      "boundary (singular) fit: see ?isSingular\n",
      "boundary (singular) fit: see ?isSingular\n",
      "boundary (singular) fit: see ?isSingular\n",
      "boundary (singular) fit: see ?isSingular\n",
      "boundary (singular) fit: see ?isSingular\n",
      "Warning message in checkConv(attr(opt, \"derivs\"), opt$par, ctrl = control$checkConv, :\n",
      "“Model failed to converge with max|grad| = 0.00945353 (tol = 0.002, component 1)”boundary (singular) fit: see ?isSingular\n",
      "boundary (singular) fit: see ?isSingular\n",
      "boundary (singular) fit: see ?isSingular\n",
      "boundary (singular) fit: see ?isSingular\n",
      "boundary (singular) fit: see ?isSingular\n",
      "boundary (singular) fit: see ?isSingular\n",
      "Warning message in checkConv(attr(opt, \"derivs\"), opt$par, ctrl = control$checkConv, :\n",
      "“Model failed to converge with max|grad| = 0.00389181 (tol = 0.002, component 1)”boundary (singular) fit: see ?isSingular\n",
      "boundary (singular) fit: see ?isSingular\n",
      "boundary (singular) fit: see ?isSingular\n",
      "Warning message in checkConv(attr(opt, \"derivs\"), opt$par, ctrl = control$checkConv, :\n",
      "“Model failed to converge with max|grad| = 0.00227397 (tol = 0.002, component 1)”Warning message in checkConv(attr(opt, \"derivs\"), opt$par, ctrl = control$checkConv, :\n",
      "“Model failed to converge with max|grad| = 0.00399077 (tol = 0.002, component 1)”boundary (singular) fit: see ?isSingular\n",
      "boundary (singular) fit: see ?isSingular\n",
      "boundary (singular) fit: see ?isSingular\n",
      "Warning message in checkConv(attr(opt, \"derivs\"), opt$par, ctrl = control$checkConv, :\n",
      "“Model failed to converge with max|grad| = 0.002269 (tol = 0.002, component 1)”boundary (singular) fit: see ?isSingular\n",
      "boundary (singular) fit: see ?isSingular\n",
      "boundary (singular) fit: see ?isSingular\n",
      "boundary (singular) fit: see ?isSingular\n",
      "Warning message in checkConv(attr(opt, \"derivs\"), opt$par, ctrl = control$checkConv, :\n",
      "“Model failed to converge with max|grad| = 0.00350391 (tol = 0.002, component 1)”boundary (singular) fit: see ?isSingular\n",
      "boundary (singular) fit: see ?isSingular\n",
      "boundary (singular) fit: see ?isSingular\n",
      "boundary (singular) fit: see ?isSingular\n",
      "boundary (singular) fit: see ?isSingular\n",
      "boundary (singular) fit: see ?isSingular\n",
      "boundary (singular) fit: see ?isSingular\n",
      "boundary (singular) fit: see ?isSingular\n",
      "boundary (singular) fit: see ?isSingular\n",
      "boundary (singular) fit: see ?isSingular\n",
      "boundary (singular) fit: see ?isSingular\n",
      "boundary (singular) fit: see ?isSingular\n"
     ]
    },
    {
     "name": "stderr",
     "output_type": "stream",
     "text": [
      "boundary (singular) fit: see ?isSingular\n",
      "Warning message in checkConv(attr(opt, \"derivs\"), opt$par, ctrl = control$checkConv, :\n",
      "“Model failed to converge with max|grad| = 0.00251817 (tol = 0.002, component 1)”boundary (singular) fit: see ?isSingular\n",
      "boundary (singular) fit: see ?isSingular\n",
      "boundary (singular) fit: see ?isSingular\n",
      "boundary (singular) fit: see ?isSingular\n",
      "boundary (singular) fit: see ?isSingular\n",
      "boundary (singular) fit: see ?isSingular\n",
      "boundary (singular) fit: see ?isSingular\n",
      "boundary (singular) fit: see ?isSingular\n",
      "boundary (singular) fit: see ?isSingular\n",
      "boundary (singular) fit: see ?isSingular\n",
      "boundary (singular) fit: see ?isSingular\n",
      "boundary (singular) fit: see ?isSingular\n",
      "boundary (singular) fit: see ?isSingular\n",
      "boundary (singular) fit: see ?isSingular\n",
      "boundary (singular) fit: see ?isSingular\n",
      "boundary (singular) fit: see ?isSingular\n",
      "boundary (singular) fit: see ?isSingular\n",
      "boundary (singular) fit: see ?isSingular\n",
      "Warning message in checkConv(attr(opt, \"derivs\"), opt$par, ctrl = control$checkConv, :\n",
      "“Model failed to converge with max|grad| = 0.0113021 (tol = 0.002, component 1)”boundary (singular) fit: see ?isSingular\n",
      "boundary (singular) fit: see ?isSingular\n",
      "boundary (singular) fit: see ?isSingular\n",
      "boundary (singular) fit: see ?isSingular\n",
      "boundary (singular) fit: see ?isSingular\n",
      "boundary (singular) fit: see ?isSingular\n",
      "boundary (singular) fit: see ?isSingular\n",
      "boundary (singular) fit: see ?isSingular\n",
      "boundary (singular) fit: see ?isSingular\n",
      "Warning message in checkConv(attr(opt, \"derivs\"), opt$par, ctrl = control$checkConv, :\n",
      "“Model failed to converge with max|grad| = 0.00232698 (tol = 0.002, component 1)”boundary (singular) fit: see ?isSingular\n",
      "boundary (singular) fit: see ?isSingular\n",
      "boundary (singular) fit: see ?isSingular\n",
      "boundary (singular) fit: see ?isSingular\n",
      "boundary (singular) fit: see ?isSingular\n",
      "boundary (singular) fit: see ?isSingular\n",
      "boundary (singular) fit: see ?isSingular\n",
      "Warning message in checkConv(attr(opt, \"derivs\"), opt$par, ctrl = control$checkConv, :\n",
      "“Model failed to converge with max|grad| = 0.00900499 (tol = 0.002, component 1)”Warning message in checkConv(attr(opt, \"derivs\"), opt$par, ctrl = control$checkConv, :\n",
      "“Model failed to converge with max|grad| = 0.00285383 (tol = 0.002, component 1)”Warning message in checkConv(attr(opt, \"derivs\"), opt$par, ctrl = control$checkConv, :\n",
      "“Model failed to converge with max|grad| = 0.00305416 (tol = 0.002, component 1)”boundary (singular) fit: see ?isSingular\n",
      "boundary (singular) fit: see ?isSingular\n",
      "boundary (singular) fit: see ?isSingular\n",
      "Warning message in checkConv(attr(opt, \"derivs\"), opt$par, ctrl = control$checkConv, :\n",
      "“Model failed to converge with max|grad| = 0.00267424 (tol = 0.002, component 1)”Warning message in checkConv(attr(opt, \"derivs\"), opt$par, ctrl = control$checkConv, :\n",
      "“unable to evaluate scaled gradient”Warning message in checkConv(attr(opt, \"derivs\"), opt$par, ctrl = control$checkConv, :\n",
      "“Model failed to converge: degenerate  Hessian with 1 negative eigenvalues”Warning message in checkConv(attr(opt, \"derivs\"), opt$par, ctrl = control$checkConv, :\n",
      "“Model failed to converge with max|grad| = 0.00212038 (tol = 0.002, component 1)”Warning message in checkConv(attr(opt, \"derivs\"), opt$par, ctrl = control$checkConv, :\n",
      "“Model failed to converge with max|grad| = 0.00252909 (tol = 0.002, component 1)”boundary (singular) fit: see ?isSingular\n",
      "boundary (singular) fit: see ?isSingular\n",
      "boundary (singular) fit: see ?isSingular\n",
      "boundary (singular) fit: see ?isSingular\n",
      "boundary (singular) fit: see ?isSingular\n",
      "boundary (singular) fit: see ?isSingular\n",
      "Warning message in checkConv(attr(opt, \"derivs\"), opt$par, ctrl = control$checkConv, :\n",
      "“Model failed to converge with max|grad| = 0.00493812 (tol = 0.002, component 1)”boundary (singular) fit: see ?isSingular\n",
      "Warning message in checkConv(attr(opt, \"derivs\"), opt$par, ctrl = control$checkConv, :\n",
      "“Model failed to converge with max|grad| = 0.00286816 (tol = 0.002, component 1)”boundary (singular) fit: see ?isSingular\n",
      "Warning message in checkConv(attr(opt, \"derivs\"), opt$par, ctrl = control$checkConv, :\n",
      "“Model failed to converge with max|grad| = 0.00350047 (tol = 0.002, component 1)”boundary (singular) fit: see ?isSingular\n",
      "Warning message in checkConv(attr(opt, \"derivs\"), opt$par, ctrl = control$checkConv, :\n",
      "“Model failed to converge with max|grad| = 0.00245196 (tol = 0.002, component 1)”Warning message in checkConv(attr(opt, \"derivs\"), opt$par, ctrl = control$checkConv, :\n",
      "“Model failed to converge with max|grad| = 0.0923484 (tol = 0.002, component 1)”Warning message in checkConv(attr(opt, \"derivs\"), opt$par, ctrl = control$checkConv, :\n",
      "“Model failed to converge with max|grad| = 0.0021032 (tol = 0.002, component 1)”boundary (singular) fit: see ?isSingular\n",
      "boundary (singular) fit: see ?isSingular\n",
      "boundary (singular) fit: see ?isSingular\n",
      "boundary (singular) fit: see ?isSingular\n",
      "boundary (singular) fit: see ?isSingular\n",
      "Warning message in checkConv(attr(opt, \"derivs\"), opt$par, ctrl = control$checkConv, :\n",
      "“Model failed to converge with max|grad| = 0.00217026 (tol = 0.002, component 1)”boundary (singular) fit: see ?isSingular\n",
      "boundary (singular) fit: see ?isSingular\n",
      "Warning message in checkConv(attr(opt, \"derivs\"), opt$par, ctrl = control$checkConv, :\n",
      "“Model failed to converge with max|grad| = 0.00318778 (tol = 0.002, component 1)”boundary (singular) fit: see ?isSingular\n",
      "boundary (singular) fit: see ?isSingular\n",
      "Warning message in checkConv(attr(opt, \"derivs\"), opt$par, ctrl = control$checkConv, :\n",
      "“Model failed to converge with max|grad| = 0.0199513 (tol = 0.002, component 1)”boundary (singular) fit: see ?isSingular\n",
      "boundary (singular) fit: see ?isSingular\n",
      "boundary (singular) fit: see ?isSingular\n",
      "boundary (singular) fit: see ?isSingular\n",
      "Warning message in checkConv(attr(opt, \"derivs\"), opt$par, ctrl = control$checkConv, :\n",
      "“Model failed to converge with max|grad| = 0.0025083 (tol = 0.002, component 1)”boundary (singular) fit: see ?isSingular\n",
      "boundary (singular) fit: see ?isSingular\n",
      "boundary (singular) fit: see ?isSingular\n",
      "boundary (singular) fit: see ?isSingular\n",
      "boundary (singular) fit: see ?isSingular\n",
      "boundary (singular) fit: see ?isSingular\n",
      "boundary (singular) fit: see ?isSingular\n",
      "boundary (singular) fit: see ?isSingular\n",
      "Warning message in checkConv(attr(opt, \"derivs\"), opt$par, ctrl = control$checkConv, :\n",
      "“Model failed to converge with max|grad| = 0.00464769 (tol = 0.002, component 1)”boundary (singular) fit: see ?isSingular\n",
      "Warning message in checkConv(attr(opt, \"derivs\"), opt$par, ctrl = control$checkConv, :\n",
      "“unable to evaluate scaled gradient”Warning message in checkConv(attr(opt, \"derivs\"), opt$par, ctrl = control$checkConv, :\n",
      "“Model failed to converge: degenerate  Hessian with 1 negative eigenvalues”boundary (singular) fit: see ?isSingular\n",
      "boundary (singular) fit: see ?isSingular\n",
      "Warning message in checkConv(attr(opt, \"derivs\"), opt$par, ctrl = control$checkConv, :\n",
      "“Model failed to converge with max|grad| = 0.00330714 (tol = 0.002, component 1)”Warning message in checkConv(attr(opt, \"derivs\"), opt$par, ctrl = control$checkConv, :\n",
      "“Model failed to converge with max|grad| = 0.00214083 (tol = 0.002, component 1)”boundary (singular) fit: see ?isSingular\n",
      "boundary (singular) fit: see ?isSingular\n",
      "boundary (singular) fit: see ?isSingular\n",
      "boundary (singular) fit: see ?isSingular\n",
      "boundary (singular) fit: see ?isSingular\n",
      "boundary (singular) fit: see ?isSingular\n",
      "boundary (singular) fit: see ?isSingular\n",
      "boundary (singular) fit: see ?isSingular\n",
      "boundary (singular) fit: see ?isSingular\n",
      "boundary (singular) fit: see ?isSingular\n",
      "boundary (singular) fit: see ?isSingular\n",
      "boundary (singular) fit: see ?isSingular\n",
      "boundary (singular) fit: see ?isSingular\n",
      "boundary (singular) fit: see ?isSingular\n",
      "boundary (singular) fit: see ?isSingular\n",
      "boundary (singular) fit: see ?isSingular\n",
      "boundary (singular) fit: see ?isSingular\n",
      "boundary (singular) fit: see ?isSingular\n",
      "boundary (singular) fit: see ?isSingular\n",
      "Warning message in checkConv(attr(opt, \"derivs\"), opt$par, ctrl = control$checkConv, :\n",
      "“Model failed to converge with max|grad| = 0.00562389 (tol = 0.002, component 1)”boundary (singular) fit: see ?isSingular\n",
      "boundary (singular) fit: see ?isSingular\n"
     ]
    },
    {
     "name": "stderr",
     "output_type": "stream",
     "text": [
      "boundary (singular) fit: see ?isSingular\n",
      "boundary (singular) fit: see ?isSingular\n",
      "boundary (singular) fit: see ?isSingular\n",
      "boundary (singular) fit: see ?isSingular\n",
      "boundary (singular) fit: see ?isSingular\n",
      "boundary (singular) fit: see ?isSingular\n",
      "boundary (singular) fit: see ?isSingular\n",
      "boundary (singular) fit: see ?isSingular\n",
      "boundary (singular) fit: see ?isSingular\n",
      "boundary (singular) fit: see ?isSingular\n",
      "boundary (singular) fit: see ?isSingular\n",
      "boundary (singular) fit: see ?isSingular\n",
      "boundary (singular) fit: see ?isSingular\n",
      "Warning message in checkConv(attr(opt, \"derivs\"), opt$par, ctrl = control$checkConv, :\n",
      "“unable to evaluate scaled gradient”Warning message in checkConv(attr(opt, \"derivs\"), opt$par, ctrl = control$checkConv, :\n",
      "“Model failed to converge: degenerate  Hessian with 1 negative eigenvalues”boundary (singular) fit: see ?isSingular\n",
      "boundary (singular) fit: see ?isSingular\n",
      "boundary (singular) fit: see ?isSingular\n",
      "boundary (singular) fit: see ?isSingular\n",
      "Warning message in checkConv(attr(opt, \"derivs\"), opt$par, ctrl = control$checkConv, :\n",
      "“Model failed to converge with max|grad| = 0.002455 (tol = 0.002, component 1)”boundary (singular) fit: see ?isSingular\n",
      "boundary (singular) fit: see ?isSingular\n",
      "boundary (singular) fit: see ?isSingular\n",
      "boundary (singular) fit: see ?isSingular\n",
      "boundary (singular) fit: see ?isSingular\n",
      "boundary (singular) fit: see ?isSingular\n",
      "boundary (singular) fit: see ?isSingular\n",
      "boundary (singular) fit: see ?isSingular\n",
      "boundary (singular) fit: see ?isSingular\n",
      "boundary (singular) fit: see ?isSingular\n",
      "boundary (singular) fit: see ?isSingular\n",
      "boundary (singular) fit: see ?isSingular\n",
      "boundary (singular) fit: see ?isSingular\n",
      "boundary (singular) fit: see ?isSingular\n",
      "boundary (singular) fit: see ?isSingular\n",
      "boundary (singular) fit: see ?isSingular\n",
      "boundary (singular) fit: see ?isSingular\n",
      "boundary (singular) fit: see ?isSingular\n",
      "boundary (singular) fit: see ?isSingular\n",
      "Warning message in checkConv(attr(opt, \"derivs\"), opt$par, ctrl = control$checkConv, :\n",
      "“Model failed to converge with max|grad| = 0.00211037 (tol = 0.002, component 1)”boundary (singular) fit: see ?isSingular\n",
      "boundary (singular) fit: see ?isSingular\n",
      "boundary (singular) fit: see ?isSingular\n",
      "boundary (singular) fit: see ?isSingular\n",
      "boundary (singular) fit: see ?isSingular\n",
      "boundary (singular) fit: see ?isSingular\n",
      "boundary (singular) fit: see ?isSingular\n",
      "boundary (singular) fit: see ?isSingular\n",
      "boundary (singular) fit: see ?isSingular\n",
      "Warning message in checkConv(attr(opt, \"derivs\"), opt$par, ctrl = control$checkConv, :\n",
      "“Model failed to converge with max|grad| = 0.00251699 (tol = 0.002, component 1)”boundary (singular) fit: see ?isSingular\n",
      "boundary (singular) fit: see ?isSingular\n",
      "boundary (singular) fit: see ?isSingular\n",
      "boundary (singular) fit: see ?isSingular\n",
      "boundary (singular) fit: see ?isSingular\n",
      "boundary (singular) fit: see ?isSingular\n",
      "boundary (singular) fit: see ?isSingular\n",
      "boundary (singular) fit: see ?isSingular\n",
      "boundary (singular) fit: see ?isSingular\n",
      "boundary (singular) fit: see ?isSingular\n",
      "boundary (singular) fit: see ?isSingular\n",
      "boundary (singular) fit: see ?isSingular\n",
      "boundary (singular) fit: see ?isSingular\n",
      "boundary (singular) fit: see ?isSingular\n",
      "boundary (singular) fit: see ?isSingular\n",
      "boundary (singular) fit: see ?isSingular\n",
      "boundary (singular) fit: see ?isSingular\n",
      "boundary (singular) fit: see ?isSingular\n",
      "boundary (singular) fit: see ?isSingular\n",
      "boundary (singular) fit: see ?isSingular\n",
      "boundary (singular) fit: see ?isSingular\n",
      "boundary (singular) fit: see ?isSingular\n",
      "boundary (singular) fit: see ?isSingular\n",
      "boundary (singular) fit: see ?isSingular\n",
      "boundary (singular) fit: see ?isSingular\n",
      "Warning message in checkConv(attr(opt, \"derivs\"), opt$par, ctrl = control$checkConv, :\n",
      "“Model failed to converge with max|grad| = 0.0051409 (tol = 0.002, component 1)”boundary (singular) fit: see ?isSingular\n",
      "boundary (singular) fit: see ?isSingular\n",
      "boundary (singular) fit: see ?isSingular\n",
      "boundary (singular) fit: see ?isSingular\n",
      "Warning message in checkConv(attr(opt, \"derivs\"), opt$par, ctrl = control$checkConv, :\n",
      "“Model failed to converge with max|grad| = 0.00396425 (tol = 0.002, component 1)”boundary (singular) fit: see ?isSingular\n",
      "boundary (singular) fit: see ?isSingular\n",
      "boundary (singular) fit: see ?isSingular\n",
      "boundary (singular) fit: see ?isSingular\n",
      "boundary (singular) fit: see ?isSingular\n",
      "boundary (singular) fit: see ?isSingular\n",
      "boundary (singular) fit: see ?isSingular\n",
      "boundary (singular) fit: see ?isSingular\n",
      "boundary (singular) fit: see ?isSingular\n",
      "boundary (singular) fit: see ?isSingular\n",
      "boundary (singular) fit: see ?isSingular\n",
      "boundary (singular) fit: see ?isSingular\n",
      "boundary (singular) fit: see ?isSingular\n",
      "boundary (singular) fit: see ?isSingular\n",
      "boundary (singular) fit: see ?isSingular\n",
      "boundary (singular) fit: see ?isSingular\n",
      "boundary (singular) fit: see ?isSingular\n",
      "Warning message in checkConv(attr(opt, \"derivs\"), opt$par, ctrl = control$checkConv, :\n",
      "“Model failed to converge with max|grad| = 0.00258223 (tol = 0.002, component 1)”boundary (singular) fit: see ?isSingular\n",
      "Warning message in checkConv(attr(opt, \"derivs\"), opt$par, ctrl = control$checkConv, :\n",
      "“Model failed to converge with max|grad| = 0.0128945 (tol = 0.002, component 1)”boundary (singular) fit: see ?isSingular\n",
      "boundary (singular) fit: see ?isSingular\n",
      "boundary (singular) fit: see ?isSingular\n",
      "boundary (singular) fit: see ?isSingular\n",
      "boundary (singular) fit: see ?isSingular\n",
      "boundary (singular) fit: see ?isSingular\n",
      "boundary (singular) fit: see ?isSingular\n",
      "boundary (singular) fit: see ?isSingular\n",
      "boundary (singular) fit: see ?isSingular\n",
      "boundary (singular) fit: see ?isSingular\n",
      "boundary (singular) fit: see ?isSingular\n",
      "boundary (singular) fit: see ?isSingular\n",
      "boundary (singular) fit: see ?isSingular\n",
      "boundary (singular) fit: see ?isSingular\n",
      "boundary (singular) fit: see ?isSingular\n",
      "boundary (singular) fit: see ?isSingular\n",
      "boundary (singular) fit: see ?isSingular\n",
      "boundary (singular) fit: see ?isSingular\n",
      "boundary (singular) fit: see ?isSingular\n",
      "boundary (singular) fit: see ?isSingular\n",
      "boundary (singular) fit: see ?isSingular\n",
      "boundary (singular) fit: see ?isSingular\n",
      "boundary (singular) fit: see ?isSingular\n",
      "boundary (singular) fit: see ?isSingular\n",
      "boundary (singular) fit: see ?isSingular\n",
      "boundary (singular) fit: see ?isSingular\n",
      "boundary (singular) fit: see ?isSingular\n",
      "boundary (singular) fit: see ?isSingular\n",
      "boundary (singular) fit: see ?isSingular\n",
      "boundary (singular) fit: see ?isSingular\n",
      "boundary (singular) fit: see ?isSingular\n",
      "boundary (singular) fit: see ?isSingular\n",
      "boundary (singular) fit: see ?isSingular\n",
      "boundary (singular) fit: see ?isSingular\n",
      "boundary (singular) fit: see ?isSingular\n",
      "boundary (singular) fit: see ?isSingular\n",
      "boundary (singular) fit: see ?isSingular\n",
      "boundary (singular) fit: see ?isSingular\n",
      "boundary (singular) fit: see ?isSingular\n",
      "boundary (singular) fit: see ?isSingular\n",
      "boundary (singular) fit: see ?isSingular\n",
      "boundary (singular) fit: see ?isSingular\n",
      "boundary (singular) fit: see ?isSingular\n",
      "boundary (singular) fit: see ?isSingular\n",
      "boundary (singular) fit: see ?isSingular\n",
      "boundary (singular) fit: see ?isSingular\n",
      "boundary (singular) fit: see ?isSingular\n",
      "boundary (singular) fit: see ?isSingular\n",
      "boundary (singular) fit: see ?isSingular\n",
      "Warning message in checkConv(attr(opt, \"derivs\"), opt$par, ctrl = control$checkConv, :\n",
      "“Model failed to converge with max|grad| = 0.0057627 (tol = 0.002, component 1)”boundary (singular) fit: see ?isSingular\n",
      "boundary (singular) fit: see ?isSingular\n",
      "boundary (singular) fit: see ?isSingular\n",
      "boundary (singular) fit: see ?isSingular\n",
      "boundary (singular) fit: see ?isSingular\n",
      "boundary (singular) fit: see ?isSingular\n",
      "boundary (singular) fit: see ?isSingular\n",
      "boundary (singular) fit: see ?isSingular\n",
      "boundary (singular) fit: see ?isSingular\n",
      "boundary (singular) fit: see ?isSingular\n",
      "boundary (singular) fit: see ?isSingular\n",
      "boundary (singular) fit: see ?isSingular\n",
      "boundary (singular) fit: see ?isSingular\n",
      "boundary (singular) fit: see ?isSingular\n",
      "boundary (singular) fit: see ?isSingular\n",
      "boundary (singular) fit: see ?isSingular\n",
      "boundary (singular) fit: see ?isSingular\n",
      "boundary (singular) fit: see ?isSingular\n",
      "boundary (singular) fit: see ?isSingular\n",
      "boundary (singular) fit: see ?isSingular\n"
     ]
    },
    {
     "name": "stderr",
     "output_type": "stream",
     "text": [
      "boundary (singular) fit: see ?isSingular\n",
      "boundary (singular) fit: see ?isSingular\n",
      "boundary (singular) fit: see ?isSingular\n",
      "boundary (singular) fit: see ?isSingular\n",
      "boundary (singular) fit: see ?isSingular\n",
      "boundary (singular) fit: see ?isSingular\n",
      "boundary (singular) fit: see ?isSingular\n",
      "boundary (singular) fit: see ?isSingular\n",
      "boundary (singular) fit: see ?isSingular\n",
      "boundary (singular) fit: see ?isSingular\n",
      "boundary (singular) fit: see ?isSingular\n",
      "boundary (singular) fit: see ?isSingular\n",
      "boundary (singular) fit: see ?isSingular\n",
      "boundary (singular) fit: see ?isSingular\n",
      "boundary (singular) fit: see ?isSingular\n",
      "boundary (singular) fit: see ?isSingular\n",
      "boundary (singular) fit: see ?isSingular\n",
      "boundary (singular) fit: see ?isSingular\n",
      "boundary (singular) fit: see ?isSingular\n",
      "boundary (singular) fit: see ?isSingular\n",
      "boundary (singular) fit: see ?isSingular\n",
      "boundary (singular) fit: see ?isSingular\n",
      "Warning message in checkConv(attr(opt, \"derivs\"), opt$par, ctrl = control$checkConv, :\n",
      "“Model failed to converge with max|grad| = 0.0193577 (tol = 0.002, component 1)”boundary (singular) fit: see ?isSingular\n",
      "boundary (singular) fit: see ?isSingular\n",
      "boundary (singular) fit: see ?isSingular\n",
      "boundary (singular) fit: see ?isSingular\n",
      "boundary (singular) fit: see ?isSingular\n",
      "boundary (singular) fit: see ?isSingular\n",
      "boundary (singular) fit: see ?isSingular\n",
      "boundary (singular) fit: see ?isSingular\n",
      "boundary (singular) fit: see ?isSingular\n",
      "boundary (singular) fit: see ?isSingular\n",
      "boundary (singular) fit: see ?isSingular\n",
      "boundary (singular) fit: see ?isSingular\n",
      "boundary (singular) fit: see ?isSingular\n",
      "boundary (singular) fit: see ?isSingular\n",
      "boundary (singular) fit: see ?isSingular\n",
      "boundary (singular) fit: see ?isSingular\n",
      "boundary (singular) fit: see ?isSingular\n",
      "boundary (singular) fit: see ?isSingular\n",
      "boundary (singular) fit: see ?isSingular\n",
      "boundary (singular) fit: see ?isSingular\n",
      "boundary (singular) fit: see ?isSingular\n",
      "boundary (singular) fit: see ?isSingular\n",
      "boundary (singular) fit: see ?isSingular\n",
      "Warning message in checkConv(attr(opt, \"derivs\"), opt$par, ctrl = control$checkConv, :\n",
      "“Model failed to converge with max|grad| = 0.00201798 (tol = 0.002, component 1)”boundary (singular) fit: see ?isSingular\n",
      "boundary (singular) fit: see ?isSingular\n",
      "boundary (singular) fit: see ?isSingular\n",
      "boundary (singular) fit: see ?isSingular\n",
      "boundary (singular) fit: see ?isSingular\n",
      "boundary (singular) fit: see ?isSingular\n",
      "boundary (singular) fit: see ?isSingular\n",
      "boundary (singular) fit: see ?isSingular\n",
      "boundary (singular) fit: see ?isSingular\n",
      "boundary (singular) fit: see ?isSingular\n",
      "boundary (singular) fit: see ?isSingular\n",
      "boundary (singular) fit: see ?isSingular\n",
      "boundary (singular) fit: see ?isSingular\n",
      "boundary (singular) fit: see ?isSingular\n",
      "boundary (singular) fit: see ?isSingular\n",
      "Warning message in checkConv(attr(opt, \"derivs\"), opt$par, ctrl = control$checkConv, :\n",
      "“Model failed to converge with max|grad| = 0.187342 (tol = 0.002, component 1)”boundary (singular) fit: see ?isSingular\n",
      "boundary (singular) fit: see ?isSingular\n",
      "boundary (singular) fit: see ?isSingular\n",
      "boundary (singular) fit: see ?isSingular\n",
      "boundary (singular) fit: see ?isSingular\n",
      "boundary (singular) fit: see ?isSingular\n",
      "boundary (singular) fit: see ?isSingular\n",
      "boundary (singular) fit: see ?isSingular\n",
      "Warning message in checkConv(attr(opt, \"derivs\"), opt$par, ctrl = control$checkConv, :\n",
      "“Model failed to converge with max|grad| = 0.00538765 (tol = 0.002, component 1)”boundary (singular) fit: see ?isSingular\n",
      "boundary (singular) fit: see ?isSingular\n",
      "boundary (singular) fit: see ?isSingular\n",
      "boundary (singular) fit: see ?isSingular\n",
      "boundary (singular) fit: see ?isSingular\n",
      "boundary (singular) fit: see ?isSingular\n",
      "boundary (singular) fit: see ?isSingular\n",
      "boundary (singular) fit: see ?isSingular\n",
      "boundary (singular) fit: see ?isSingular\n",
      "boundary (singular) fit: see ?isSingular\n",
      "Warning message in checkConv(attr(opt, \"derivs\"), opt$par, ctrl = control$checkConv, :\n",
      "“unable to evaluate scaled gradient”Warning message in checkConv(attr(opt, \"derivs\"), opt$par, ctrl = control$checkConv, :\n",
      "“Model failed to converge: degenerate  Hessian with 1 negative eigenvalues”boundary (singular) fit: see ?isSingular\n",
      "boundary (singular) fit: see ?isSingular\n",
      "boundary (singular) fit: see ?isSingular\n",
      "boundary (singular) fit: see ?isSingular\n",
      "boundary (singular) fit: see ?isSingular\n",
      "boundary (singular) fit: see ?isSingular\n",
      "boundary (singular) fit: see ?isSingular\n",
      "boundary (singular) fit: see ?isSingular\n",
      "boundary (singular) fit: see ?isSingular\n",
      "boundary (singular) fit: see ?isSingular\n",
      "boundary (singular) fit: see ?isSingular\n",
      "boundary (singular) fit: see ?isSingular\n",
      "boundary (singular) fit: see ?isSingular\n",
      "Warning message in checkConv(attr(opt, \"derivs\"), opt$par, ctrl = control$checkConv, :\n",
      "“Model failed to converge with max|grad| = 0.00213386 (tol = 0.002, component 1)”boundary (singular) fit: see ?isSingular\n",
      "boundary (singular) fit: see ?isSingular\n",
      "boundary (singular) fit: see ?isSingular\n",
      "boundary (singular) fit: see ?isSingular\n",
      "boundary (singular) fit: see ?isSingular\n",
      "boundary (singular) fit: see ?isSingular\n",
      "boundary (singular) fit: see ?isSingular\n",
      "boundary (singular) fit: see ?isSingular\n",
      "boundary (singular) fit: see ?isSingular\n",
      "boundary (singular) fit: see ?isSingular\n",
      "boundary (singular) fit: see ?isSingular\n",
      "boundary (singular) fit: see ?isSingular\n",
      "boundary (singular) fit: see ?isSingular\n",
      "boundary (singular) fit: see ?isSingular\n",
      "boundary (singular) fit: see ?isSingular\n",
      "boundary (singular) fit: see ?isSingular\n",
      "boundary (singular) fit: see ?isSingular\n",
      "boundary (singular) fit: see ?isSingular\n",
      "boundary (singular) fit: see ?isSingular\n",
      "boundary (singular) fit: see ?isSingular\n",
      "boundary (singular) fit: see ?isSingular\n",
      "boundary (singular) fit: see ?isSingular\n",
      "boundary (singular) fit: see ?isSingular\n",
      "boundary (singular) fit: see ?isSingular\n",
      "boundary (singular) fit: see ?isSingular\n",
      "boundary (singular) fit: see ?isSingular\n",
      "boundary (singular) fit: see ?isSingular\n",
      "boundary (singular) fit: see ?isSingular\n",
      "boundary (singular) fit: see ?isSingular\n",
      "Warning message in checkConv(attr(opt, \"derivs\"), opt$par, ctrl = control$checkConv, :\n",
      "“Model failed to converge with max|grad| = 0.00981122 (tol = 0.002, component 1)”Warning message in checkConv(attr(opt, \"derivs\"), opt$par, ctrl = control$checkConv, :\n",
      "“Model failed to converge with max|grad| = 0.00349017 (tol = 0.002, component 1)”boundary (singular) fit: see ?isSingular\n",
      "Warning message in checkConv(attr(opt, \"derivs\"), opt$par, ctrl = control$checkConv, :\n",
      "“Model failed to converge with max|grad| = 0.011317 (tol = 0.002, component 1)”boundary (singular) fit: see ?isSingular\n",
      "boundary (singular) fit: see ?isSingular\n",
      "Warning message in checkConv(attr(opt, \"derivs\"), opt$par, ctrl = control$checkConv, :\n",
      "“Model failed to converge with max|grad| = 0.00206102 (tol = 0.002, component 1)”boundary (singular) fit: see ?isSingular\n",
      "boundary (singular) fit: see ?isSingular\n",
      "boundary (singular) fit: see ?isSingular\n",
      "boundary (singular) fit: see ?isSingular\n",
      "boundary (singular) fit: see ?isSingular\n",
      "boundary (singular) fit: see ?isSingular\n",
      "boundary (singular) fit: see ?isSingular\n",
      "boundary (singular) fit: see ?isSingular\n",
      "boundary (singular) fit: see ?isSingular\n",
      "boundary (singular) fit: see ?isSingular\n",
      "boundary (singular) fit: see ?isSingular\n",
      "boundary (singular) fit: see ?isSingular\n",
      "boundary (singular) fit: see ?isSingular\n",
      "boundary (singular) fit: see ?isSingular\n",
      "boundary (singular) fit: see ?isSingular\n",
      "boundary (singular) fit: see ?isSingular\n",
      "boundary (singular) fit: see ?isSingular\n",
      "boundary (singular) fit: see ?isSingular\n",
      "boundary (singular) fit: see ?isSingular\n",
      "boundary (singular) fit: see ?isSingular\n",
      "boundary (singular) fit: see ?isSingular\n",
      "Warning message in checkConv(attr(opt, \"derivs\"), opt$par, ctrl = control$checkConv, :\n",
      "“Model failed to converge with max|grad| = 0.00254378 (tol = 0.002, component 1)”Warning message in checkConv(attr(opt, \"derivs\"), opt$par, ctrl = control$checkConv, :\n",
      "“Model failed to converge with max|grad| = 0.00423637 (tol = 0.002, component 1)”boundary (singular) fit: see ?isSingular\n",
      "Warning message in checkConv(attr(opt, \"derivs\"), opt$par, ctrl = control$checkConv, :\n"
     ]
    },
    {
     "name": "stderr",
     "output_type": "stream",
     "text": [
      "“unable to evaluate scaled gradient”Warning message in checkConv(attr(opt, \"derivs\"), opt$par, ctrl = control$checkConv, :\n",
      "“Model failed to converge: degenerate  Hessian with 1 negative eigenvalues”boundary (singular) fit: see ?isSingular\n",
      "boundary (singular) fit: see ?isSingular\n",
      "boundary (singular) fit: see ?isSingular\n",
      "boundary (singular) fit: see ?isSingular\n",
      "Warning message in checkConv(attr(opt, \"derivs\"), opt$par, ctrl = control$checkConv, :\n",
      "“Model failed to converge with max|grad| = 0.00554881 (tol = 0.002, component 1)”boundary (singular) fit: see ?isSingular\n",
      "boundary (singular) fit: see ?isSingular\n",
      "boundary (singular) fit: see ?isSingular\n",
      "boundary (singular) fit: see ?isSingular\n",
      "boundary (singular) fit: see ?isSingular\n",
      "boundary (singular) fit: see ?isSingular\n",
      "boundary (singular) fit: see ?isSingular\n",
      "boundary (singular) fit: see ?isSingular\n",
      "boundary (singular) fit: see ?isSingular\n",
      "boundary (singular) fit: see ?isSingular\n",
      "boundary (singular) fit: see ?isSingular\n",
      "boundary (singular) fit: see ?isSingular\n",
      "boundary (singular) fit: see ?isSingular\n",
      "boundary (singular) fit: see ?isSingular\n",
      "boundary (singular) fit: see ?isSingular\n",
      "boundary (singular) fit: see ?isSingular\n",
      "boundary (singular) fit: see ?isSingular\n",
      "boundary (singular) fit: see ?isSingular\n",
      "boundary (singular) fit: see ?isSingular\n",
      "boundary (singular) fit: see ?isSingular\n",
      "boundary (singular) fit: see ?isSingular\n",
      "boundary (singular) fit: see ?isSingular\n",
      "boundary (singular) fit: see ?isSingular\n",
      "boundary (singular) fit: see ?isSingular\n",
      "boundary (singular) fit: see ?isSingular\n",
      "boundary (singular) fit: see ?isSingular\n",
      "Warning message in checkConv(attr(opt, \"derivs\"), opt$par, ctrl = control$checkConv, :\n",
      "“Model failed to converge with max|grad| = 0.0048487 (tol = 0.002, component 1)”boundary (singular) fit: see ?isSingular\n",
      "boundary (singular) fit: see ?isSingular\n",
      "boundary (singular) fit: see ?isSingular\n",
      "boundary (singular) fit: see ?isSingular\n",
      "boundary (singular) fit: see ?isSingular\n",
      "boundary (singular) fit: see ?isSingular\n",
      "Warning message in checkConv(attr(opt, \"derivs\"), opt$par, ctrl = control$checkConv, :\n",
      "“Model failed to converge with max|grad| = 0.00472964 (tol = 0.002, component 1)”boundary (singular) fit: see ?isSingular\n",
      "boundary (singular) fit: see ?isSingular\n",
      "boundary (singular) fit: see ?isSingular\n",
      "boundary (singular) fit: see ?isSingular\n",
      "boundary (singular) fit: see ?isSingular\n",
      "boundary (singular) fit: see ?isSingular\n",
      "boundary (singular) fit: see ?isSingular\n",
      "boundary (singular) fit: see ?isSingular\n",
      "Warning message in checkConv(attr(opt, \"derivs\"), opt$par, ctrl = control$checkConv, :\n",
      "“Model failed to converge with max|grad| = 0.00634731 (tol = 0.002, component 1)”boundary (singular) fit: see ?isSingular\n",
      "boundary (singular) fit: see ?isSingular\n",
      "boundary (singular) fit: see ?isSingular\n",
      "boundary (singular) fit: see ?isSingular\n",
      "boundary (singular) fit: see ?isSingular\n",
      "boundary (singular) fit: see ?isSingular\n",
      "boundary (singular) fit: see ?isSingular\n",
      "boundary (singular) fit: see ?isSingular\n",
      "boundary (singular) fit: see ?isSingular\n",
      "boundary (singular) fit: see ?isSingular\n",
      "boundary (singular) fit: see ?isSingular\n",
      "boundary (singular) fit: see ?isSingular\n",
      "Warning message in checkConv(attr(opt, \"derivs\"), opt$par, ctrl = control$checkConv, :\n",
      "“Model failed to converge with max|grad| = 0.0788905 (tol = 0.002, component 1)”boundary (singular) fit: see ?isSingular\n",
      "boundary (singular) fit: see ?isSingular\n",
      "boundary (singular) fit: see ?isSingular\n",
      "boundary (singular) fit: see ?isSingular\n",
      "boundary (singular) fit: see ?isSingular\n",
      "boundary (singular) fit: see ?isSingular\n",
      "boundary (singular) fit: see ?isSingular\n",
      "boundary (singular) fit: see ?isSingular\n",
      "boundary (singular) fit: see ?isSingular\n",
      "boundary (singular) fit: see ?isSingular\n",
      "boundary (singular) fit: see ?isSingular\n",
      "boundary (singular) fit: see ?isSingular\n",
      "boundary (singular) fit: see ?isSingular\n",
      "boundary (singular) fit: see ?isSingular\n",
      "boundary (singular) fit: see ?isSingular\n",
      "boundary (singular) fit: see ?isSingular\n",
      "boundary (singular) fit: see ?isSingular\n",
      "boundary (singular) fit: see ?isSingular\n",
      "boundary (singular) fit: see ?isSingular\n",
      "Warning message in checkConv(attr(opt, \"derivs\"), opt$par, ctrl = control$checkConv, :\n",
      "“Model failed to converge with max|grad| = 0.00200889 (tol = 0.002, component 1)”boundary (singular) fit: see ?isSingular\n",
      "boundary (singular) fit: see ?isSingular\n",
      "boundary (singular) fit: see ?isSingular\n",
      "boundary (singular) fit: see ?isSingular\n",
      "boundary (singular) fit: see ?isSingular\n",
      "boundary (singular) fit: see ?isSingular\n",
      "boundary (singular) fit: see ?isSingular\n",
      "boundary (singular) fit: see ?isSingular\n",
      "boundary (singular) fit: see ?isSingular\n",
      "Warning message in checkConv(attr(opt, \"derivs\"), opt$par, ctrl = control$checkConv, :\n",
      "“Model failed to converge with max|grad| = 0.00881422 (tol = 0.002, component 1)”boundary (singular) fit: see ?isSingular\n",
      "boundary (singular) fit: see ?isSingular\n",
      "boundary (singular) fit: see ?isSingular\n",
      "boundary (singular) fit: see ?isSingular\n",
      "boundary (singular) fit: see ?isSingular\n",
      "boundary (singular) fit: see ?isSingular\n",
      "boundary (singular) fit: see ?isSingular\n",
      "boundary (singular) fit: see ?isSingular\n",
      "boundary (singular) fit: see ?isSingular\n",
      "boundary (singular) fit: see ?isSingular\n",
      "boundary (singular) fit: see ?isSingular\n",
      "boundary (singular) fit: see ?isSingular\n",
      "boundary (singular) fit: see ?isSingular\n",
      "boundary (singular) fit: see ?isSingular\n",
      "boundary (singular) fit: see ?isSingular\n",
      "boundary (singular) fit: see ?isSingular\n",
      "boundary (singular) fit: see ?isSingular\n",
      "boundary (singular) fit: see ?isSingular\n",
      "boundary (singular) fit: see ?isSingular\n",
      "boundary (singular) fit: see ?isSingular\n",
      "boundary (singular) fit: see ?isSingular\n",
      "boundary (singular) fit: see ?isSingular\n",
      "boundary (singular) fit: see ?isSingular\n",
      "boundary (singular) fit: see ?isSingular\n",
      "boundary (singular) fit: see ?isSingular\n",
      "boundary (singular) fit: see ?isSingular\n",
      "boundary (singular) fit: see ?isSingular\n",
      "boundary (singular) fit: see ?isSingular\n",
      "boundary (singular) fit: see ?isSingular\n",
      "boundary (singular) fit: see ?isSingular\n",
      "boundary (singular) fit: see ?isSingular\n",
      "boundary (singular) fit: see ?isSingular\n",
      "boundary (singular) fit: see ?isSingular\n",
      "Warning message in checkConv(attr(opt, \"derivs\"), opt$par, ctrl = control$checkConv, :\n",
      "“Model failed to converge with max|grad| = 0.00321485 (tol = 0.002, component 1)”boundary (singular) fit: see ?isSingular\n",
      "boundary (singular) fit: see ?isSingular\n",
      "boundary (singular) fit: see ?isSingular\n",
      "boundary (singular) fit: see ?isSingular\n",
      "boundary (singular) fit: see ?isSingular\n",
      "boundary (singular) fit: see ?isSingular\n",
      "boundary (singular) fit: see ?isSingular\n",
      "boundary (singular) fit: see ?isSingular\n",
      "boundary (singular) fit: see ?isSingular\n",
      "boundary (singular) fit: see ?isSingular\n",
      "boundary (singular) fit: see ?isSingular\n",
      "boundary (singular) fit: see ?isSingular\n",
      "boundary (singular) fit: see ?isSingular\n",
      "boundary (singular) fit: see ?isSingular\n",
      "boundary (singular) fit: see ?isSingular\n",
      "boundary (singular) fit: see ?isSingular\n",
      "boundary (singular) fit: see ?isSingular\n",
      "boundary (singular) fit: see ?isSingular\n",
      "boundary (singular) fit: see ?isSingular\n",
      "boundary (singular) fit: see ?isSingular\n",
      "boundary (singular) fit: see ?isSingular\n",
      "boundary (singular) fit: see ?isSingular\n",
      "boundary (singular) fit: see ?isSingular\n",
      "boundary (singular) fit: see ?isSingular\n",
      "boundary (singular) fit: see ?isSingular\n",
      "boundary (singular) fit: see ?isSingular\n",
      "boundary (singular) fit: see ?isSingular\n",
      "boundary (singular) fit: see ?isSingular\n",
      "boundary (singular) fit: see ?isSingular\n",
      "Warning message in checkConv(attr(opt, \"derivs\"), opt$par, ctrl = control$checkConv, :\n",
      "“Model failed to converge with max|grad| = 0.00625592 (tol = 0.002, component 1)”boundary (singular) fit: see ?isSingular\n",
      "boundary (singular) fit: see ?isSingular\n",
      "boundary (singular) fit: see ?isSingular\n",
      "boundary (singular) fit: see ?isSingular\n",
      "boundary (singular) fit: see ?isSingular\n",
      "boundary (singular) fit: see ?isSingular\n",
      "boundary (singular) fit: see ?isSingular\n",
      "boundary (singular) fit: see ?isSingular\n",
      "boundary (singular) fit: see ?isSingular\n",
      "boundary (singular) fit: see ?isSingular\n",
      "boundary (singular) fit: see ?isSingular\n",
      "Warning message in checkConv(attr(opt, \"derivs\"), opt$par, ctrl = control$checkConv, :\n"
     ]
    },
    {
     "name": "stderr",
     "output_type": "stream",
     "text": [
      "“Model failed to converge with max|grad| = 0.00301165 (tol = 0.002, component 1)”boundary (singular) fit: see ?isSingular\n",
      "boundary (singular) fit: see ?isSingular\n",
      "boundary (singular) fit: see ?isSingular\n",
      "boundary (singular) fit: see ?isSingular\n",
      "boundary (singular) fit: see ?isSingular\n",
      "boundary (singular) fit: see ?isSingular\n",
      "boundary (singular) fit: see ?isSingular\n",
      "boundary (singular) fit: see ?isSingular\n",
      "boundary (singular) fit: see ?isSingular\n",
      "boundary (singular) fit: see ?isSingular\n",
      "boundary (singular) fit: see ?isSingular\n",
      "boundary (singular) fit: see ?isSingular\n",
      "boundary (singular) fit: see ?isSingular\n",
      "boundary (singular) fit: see ?isSingular\n",
      "boundary (singular) fit: see ?isSingular\n",
      "boundary (singular) fit: see ?isSingular\n",
      "boundary (singular) fit: see ?isSingular\n",
      "boundary (singular) fit: see ?isSingular\n",
      "boundary (singular) fit: see ?isSingular\n",
      "boundary (singular) fit: see ?isSingular\n",
      "boundary (singular) fit: see ?isSingular\n",
      "boundary (singular) fit: see ?isSingular\n",
      "boundary (singular) fit: see ?isSingular\n",
      "boundary (singular) fit: see ?isSingular\n",
      "boundary (singular) fit: see ?isSingular\n",
      "boundary (singular) fit: see ?isSingular\n",
      "boundary (singular) fit: see ?isSingular\n",
      "boundary (singular) fit: see ?isSingular\n",
      "boundary (singular) fit: see ?isSingular\n",
      "boundary (singular) fit: see ?isSingular\n",
      "boundary (singular) fit: see ?isSingular\n",
      "Warning message in checkConv(attr(opt, \"derivs\"), opt$par, ctrl = control$checkConv, :\n",
      "“Model failed to converge with max|grad| = 0.00219477 (tol = 0.002, component 1)”boundary (singular) fit: see ?isSingular\n",
      "boundary (singular) fit: see ?isSingular\n",
      "boundary (singular) fit: see ?isSingular\n",
      "boundary (singular) fit: see ?isSingular\n",
      "boundary (singular) fit: see ?isSingular\n",
      "boundary (singular) fit: see ?isSingular\n",
      "Warning message in checkConv(attr(opt, \"derivs\"), opt$par, ctrl = control$checkConv, :\n",
      "“Model failed to converge with max|grad| = 0.00346947 (tol = 0.002, component 1)”boundary (singular) fit: see ?isSingular\n",
      "boundary (singular) fit: see ?isSingular\n",
      "boundary (singular) fit: see ?isSingular\n",
      "boundary (singular) fit: see ?isSingular\n",
      "boundary (singular) fit: see ?isSingular\n",
      "boundary (singular) fit: see ?isSingular\n",
      "boundary (singular) fit: see ?isSingular\n",
      "boundary (singular) fit: see ?isSingular\n",
      "boundary (singular) fit: see ?isSingular\n",
      "boundary (singular) fit: see ?isSingular\n",
      "boundary (singular) fit: see ?isSingular\n",
      "boundary (singular) fit: see ?isSingular\n",
      "boundary (singular) fit: see ?isSingular\n",
      "boundary (singular) fit: see ?isSingular\n",
      "boundary (singular) fit: see ?isSingular\n",
      "boundary (singular) fit: see ?isSingular\n",
      "boundary (singular) fit: see ?isSingular\n",
      "boundary (singular) fit: see ?isSingular\n",
      "boundary (singular) fit: see ?isSingular\n",
      "boundary (singular) fit: see ?isSingular\n",
      "boundary (singular) fit: see ?isSingular\n",
      "boundary (singular) fit: see ?isSingular\n",
      "boundary (singular) fit: see ?isSingular\n",
      "boundary (singular) fit: see ?isSingular\n",
      "Warning message in checkConv(attr(opt, \"derivs\"), opt$par, ctrl = control$checkConv, :\n",
      "“Model failed to converge with max|grad| = 0.00356419 (tol = 0.002, component 1)”boundary (singular) fit: see ?isSingular\n",
      "boundary (singular) fit: see ?isSingular\n",
      "boundary (singular) fit: see ?isSingular\n",
      "boundary (singular) fit: see ?isSingular\n",
      "boundary (singular) fit: see ?isSingular\n",
      "boundary (singular) fit: see ?isSingular\n",
      "boundary (singular) fit: see ?isSingular\n",
      "boundary (singular) fit: see ?isSingular\n",
      "boundary (singular) fit: see ?isSingular\n",
      "boundary (singular) fit: see ?isSingular\n",
      "boundary (singular) fit: see ?isSingular\n",
      "boundary (singular) fit: see ?isSingular\n",
      "boundary (singular) fit: see ?isSingular\n",
      "boundary (singular) fit: see ?isSingular\n",
      "boundary (singular) fit: see ?isSingular\n",
      "boundary (singular) fit: see ?isSingular\n",
      "boundary (singular) fit: see ?isSingular\n",
      "boundary (singular) fit: see ?isSingular\n",
      "boundary (singular) fit: see ?isSingular\n",
      "boundary (singular) fit: see ?isSingular\n",
      "boundary (singular) fit: see ?isSingular\n",
      "boundary (singular) fit: see ?isSingular\n",
      "boundary (singular) fit: see ?isSingular\n",
      "Warning message in checkConv(attr(opt, \"derivs\"), opt$par, ctrl = control$checkConv, :\n",
      "“Model failed to converge with max|grad| = 0.445098 (tol = 0.002, component 1)”boundary (singular) fit: see ?isSingular\n",
      "boundary (singular) fit: see ?isSingular\n",
      "boundary (singular) fit: see ?isSingular\n",
      "boundary (singular) fit: see ?isSingular\n",
      "boundary (singular) fit: see ?isSingular\n",
      "boundary (singular) fit: see ?isSingular\n",
      "boundary (singular) fit: see ?isSingular\n",
      "Warning message in checkConv(attr(opt, \"derivs\"), opt$par, ctrl = control$checkConv, :\n",
      "“Model failed to converge with max|grad| = 0.00453209 (tol = 0.002, component 1)”boundary (singular) fit: see ?isSingular\n",
      "boundary (singular) fit: see ?isSingular\n",
      "boundary (singular) fit: see ?isSingular\n",
      "boundary (singular) fit: see ?isSingular\n",
      "boundary (singular) fit: see ?isSingular\n",
      "boundary (singular) fit: see ?isSingular\n",
      "boundary (singular) fit: see ?isSingular\n",
      "boundary (singular) fit: see ?isSingular\n",
      "boundary (singular) fit: see ?isSingular\n",
      "Warning message in checkConv(attr(opt, \"derivs\"), opt$par, ctrl = control$checkConv, :\n",
      "“Model failed to converge with max|grad| = 0.00303061 (tol = 0.002, component 1)”boundary (singular) fit: see ?isSingular\n",
      "boundary (singular) fit: see ?isSingular\n",
      "boundary (singular) fit: see ?isSingular\n",
      "boundary (singular) fit: see ?isSingular\n",
      "boundary (singular) fit: see ?isSingular\n",
      "boundary (singular) fit: see ?isSingular\n",
      "boundary (singular) fit: see ?isSingular\n",
      "boundary (singular) fit: see ?isSingular\n",
      "boundary (singular) fit: see ?isSingular\n",
      "Warning message in checkConv(attr(opt, \"derivs\"), opt$par, ctrl = control$checkConv, :\n",
      "“Model failed to converge with max|grad| = 0.00653916 (tol = 0.002, component 1)”boundary (singular) fit: see ?isSingular\n",
      "Warning message in checkConv(attr(opt, \"derivs\"), opt$par, ctrl = control$checkConv, :\n",
      "“Model failed to converge with max|grad| = 0.00423384 (tol = 0.002, component 1)”boundary (singular) fit: see ?isSingular\n",
      "boundary (singular) fit: see ?isSingular\n",
      "boundary (singular) fit: see ?isSingular\n",
      "Warning message in checkConv(attr(opt, \"derivs\"), opt$par, ctrl = control$checkConv, :\n",
      "“Model failed to converge with max|grad| = 0.00530998 (tol = 0.002, component 1)”boundary (singular) fit: see ?isSingular\n",
      "boundary (singular) fit: see ?isSingular\n",
      "boundary (singular) fit: see ?isSingular\n",
      "boundary (singular) fit: see ?isSingular\n",
      "boundary (singular) fit: see ?isSingular\n",
      "boundary (singular) fit: see ?isSingular\n",
      "boundary (singular) fit: see ?isSingular\n",
      "boundary (singular) fit: see ?isSingular\n",
      "boundary (singular) fit: see ?isSingular\n",
      "boundary (singular) fit: see ?isSingular\n",
      "boundary (singular) fit: see ?isSingular\n",
      "boundary (singular) fit: see ?isSingular\n",
      "boundary (singular) fit: see ?isSingular\n",
      "boundary (singular) fit: see ?isSingular\n",
      "boundary (singular) fit: see ?isSingular\n",
      "Warning message in checkConv(attr(opt, \"derivs\"), opt$par, ctrl = control$checkConv, :\n",
      "“Model failed to converge with max|grad| = 0.00551874 (tol = 0.002, component 1)”boundary (singular) fit: see ?isSingular\n",
      "boundary (singular) fit: see ?isSingular\n",
      "boundary (singular) fit: see ?isSingular\n",
      "boundary (singular) fit: see ?isSingular\n",
      "boundary (singular) fit: see ?isSingular\n",
      "boundary (singular) fit: see ?isSingular\n"
     ]
    }
   ],
   "source": [
    "mat = matrix(0,nrow=length(common_genes),ncol = 6)\n",
    "k = 0\n",
    "for (gene in common_genes){\n",
    "    k = k+1\n",
    "    df = df_all[,c(\"donor_id\",\"pool_id\",\"celltype\",\"treatment\",\"n_cells\",\"time_point\", gene)]\n",
    "    colnames(df)[7] = \"gene\"\n",
    "    lmm <- lmer(gene ~ (1 | donor_id) + (1 | pool_id) + (1 | celltype) + (1 | time_point) + (1 | treatment), \n",
    "            data = df, REML = F)\n",
    "    donor = summary(lmm)$varcor$donor_id[1,1]\n",
    "    pool = summary(lmm)$varcor$pool_id[1,1]\n",
    "    celltype = summary(lmm)$varcor$celltype[1,1]\n",
    "    time_point = summary(lmm)$varcor$time_point[1,1]\n",
    "    treatment = summary(lmm)$varcor$treatment[1,1]\n",
    "    residual = summary(lmm)$sigma **2\n",
    "    sum = donor+pool+celltype+time_point+treatment+residual\n",
    "    mat[k,] = c(donor, pool, celltype, time_point, treatment, residual)/sum\n",
    "#     print(mat[k,])\n",
    "}"
   ]
  },
  {
   "cell_type": "code",
   "execution_count": null,
   "metadata": {
    "scrolled": true
   },
   "outputs": [],
   "source": [
    "# mat1 = mat[1:100,]\n",
    "mat1 = mat"
   ]
  },
  {
   "cell_type": "code",
   "execution_count": null,
   "metadata": {},
   "outputs": [],
   "source": [
    "df1 = as.data.frame(mat1)\n",
    "colnames(df1) = c(c(\"donor_id\",\"pool_id\",\"celltype\",\"treatment\",\"time_point\",\"z_res\"))\n",
    "rownames(df1) = common_genes#[1:100]\n",
    "head(df1)"
   ]
  },
  {
   "cell_type": "code",
   "execution_count": null,
   "metadata": {},
   "outputs": [],
   "source": [
    "write.csv(df1, \"/hps/nobackup/stegle/users/acuomo/all_scripts/sc_neuroseq/variance_component_analysis.csv\")"
   ]
  },
  {
   "cell_type": "code",
   "execution_count": null,
   "metadata": {},
   "outputs": [],
   "source": [
    "df1 = read.csv(\"/hps/nobackup/stegle/users/acuomo/all_scripts/sc_neuroseq/variance_component_analysis.csv\", row.names = 1)\n",
    "head(df1)"
   ]
  },
  {
   "cell_type": "code",
   "execution_count": null,
   "metadata": {},
   "outputs": [],
   "source": [
    "library(reshape)"
   ]
  },
  {
   "cell_type": "code",
   "execution_count": null,
   "metadata": {},
   "outputs": [],
   "source": [
    "df2 = melt(df1)\n",
    "head(df2)"
   ]
  },
  {
   "cell_type": "code",
   "execution_count": null,
   "metadata": {},
   "outputs": [],
   "source": [
    "library(ggplot2)"
   ]
  },
  {
   "cell_type": "code",
   "execution_count": null,
   "metadata": {},
   "outputs": [],
   "source": [
    "options(repr.plot.width = 10, repr.plot.height = 4)\n",
    "ggplot(df2, aes(x = variable, y = value, colour = variable)) + geom_violin() + geom_boxplot(width = 0.2) + \n",
    "    theme_classic() + \n",
    "    xlab(\"\") + ylab(\"Proportion of variance explained\") + \n",
    "    theme(legend.position = \"none\", axis.text.x = element_text(angle = 90, hjust = 1, size = 11)) +\n",
    "    scale_x_discrete(labels = c(\"Donor/Line\",\"Pool\",\"Cell type\",\"Treatment\",\"Time point\",\"Residual\")) "
   ]
  },
  {
   "cell_type": "code",
   "execution_count": null,
   "metadata": {},
   "outputs": [],
   "source": [
    "fig_dir = \"/hps/nobackup/stegle/users/acuomo/all_scripts/sc_neuroseq/figures/extended_figures/\""
   ]
  },
  {
   "cell_type": "code",
   "execution_count": null,
   "metadata": {},
   "outputs": [],
   "source": [
    "pdf(paste0(fig_dir,\"SF_8b.pdf\"), width=10, height=4)\n",
    "ggplot(df2, aes(x = variable, y = value, colour = variable)) + geom_violin() + geom_boxplot(width = 0.2) + \n",
    "    theme_classic() + \n",
    "    xlab(\"\") + ylab(\"Proportion of variance explained\") + \n",
    "    theme(legend.position = \"none\", axis.text.x = element_text(angle = 90, hjust = 1, size = 11)) +\n",
    "    scale_x_discrete(labels = c(\"Donor/Line\",\"Pool\",\"Cell type\",\"Treatment\",\"Time point\",\"Residual\")) \n",
    "dev.off()"
   ]
  },
  {
   "cell_type": "code",
   "execution_count": null,
   "metadata": {},
   "outputs": [],
   "source": []
  },
  {
   "cell_type": "code",
   "execution_count": 99,
   "metadata": {},
   "outputs": [
    {
     "data": {
      "image/png": "[encoded data removed]",
      "text/plain": [
       "plot without title"
      ]
     },
     "metadata": {},
     "output_type": "display_data"
    }
   ],
   "source": [
    "df = data.frame(component = c(\"donor_id\",\"pool_id\",\"celltype\",\"treatment\",\"time_point\",\"z_res\"),\n",
    "                variance = mat[k,])\n",
    "p = ggplot(df, aes(x = component, y = variance*100, fill = component)) + geom_bar(stat=\"identity\")\n",
    "p + xlab(\"\") + ylab(\"% variance explained\")"
   ]
  },
  {
   "cell_type": "code",
   "execution_count": null,
   "metadata": {},
   "outputs": [],
   "source": []
  }
 ],
 "metadata": {
  "kernelspec": {
   "display_name": "R",
   "language": "R",
   "name": "ir"
  },
  "language_info": {
   "codemirror_mode": "r",
   "file_extension": ".r",
   "mimetype": "text/x-r-source",
   "name": "R",
   "pygments_lexer": "r",
   "version": "3.6.1"
  }
 },
 "nbformat": 4,
 "nbformat_minor": 4
}
