{
 "cells": [
  {
   "cell_type": "code",
   "execution_count": 1,
   "metadata": {},
   "outputs": [],
   "source": [
    "library(tidyr)\n",
    "library(ggplot2)"
   ]
  },
  {
   "cell_type": "code",
   "execution_count": 2,
   "metadata": {},
   "outputs": [],
   "source": [
    "folder_D11 = \"/nfs/leia/research/stegle/dseaton/hipsci/singlecell_neuroseq/data/data_processed/pool1_13_noddd_D11/qtl_analysis/eqtl_discovery/\"\n",
    "folder_D30 = \"/nfs/leia/research/stegle/dseaton/hipsci/singlecell_neuroseq/data/data_processed/pool1_13_noddd_D30/qtl_analysis/eqtl_discovery/\"\n",
    "folder_D52_NONE = \"/nfs/leia/research/stegle/dseaton/hipsci/singlecell_neuroseq/data/data_processed/pool1_17_D52/qtl_analysis/eqtl_discovery_separated_by_treatment/input_files_untreated/\"\n",
    "folder_D52_ROT = \"/nfs/leia/research/stegle/dseaton/hipsci/singlecell_neuroseq/data/data_processed/pool1_17_D52/qtl_analysis/eqtl_discovery_separated_by_treatment/input_files_ROT_treated/\""
   ]
  },
  {
   "cell_type": "code",
   "execution_count": 3,
   "metadata": {},
   "outputs": [
    {
     "data": {
      "text/html": [
       "<ol class=list-inline>\n",
       "\t<li>'/nfs/leia/research/stegle/dseaton/hipsci/singlecell_neuroseq/data/data_processed/pool1_13_noddd_D11/qtl_analysis/eqtl_discovery/celltype_FPP/top_qtl_results_all.txt'</li>\n",
       "\t<li>'/nfs/leia/research/stegle/dseaton/hipsci/singlecell_neuroseq/data/data_processed/pool1_13_noddd_D11/qtl_analysis/eqtl_discovery/celltype_P_FPP/top_qtl_results_all.txt'</li>\n",
       "\t<li>'/nfs/leia/research/stegle/dseaton/hipsci/singlecell_neuroseq/data/data_processed/pool1_13_noddd_D30/qtl_analysis/eqtl_discovery/celltype_Astro/top_qtl_results_all.txt'</li>\n",
       "\t<li>'/nfs/leia/research/stegle/dseaton/hipsci/singlecell_neuroseq/data/data_processed/pool1_13_noddd_D30/qtl_analysis/eqtl_discovery/celltype_DA/top_qtl_results_all.txt'</li>\n",
       "\t<li>'/nfs/leia/research/stegle/dseaton/hipsci/singlecell_neuroseq/data/data_processed/pool1_13_noddd_D30/qtl_analysis/eqtl_discovery/celltype_Sert/top_qtl_results_all.txt'</li>\n",
       "\t<li>'/nfs/leia/research/stegle/dseaton/hipsci/singlecell_neuroseq/data/data_processed/pool1_13_noddd_D30/qtl_analysis/eqtl_discovery/celltype_Epen1/top_qtl_results_all.txt'</li>\n",
       "\t<li>'/nfs/leia/research/stegle/dseaton/hipsci/singlecell_neuroseq/data/data_processed/pool1_17_D52/qtl_analysis/eqtl_discovery_separated_by_treatment/input_files_untreated/celltype_DA/top_qtl_results_all.txt'</li>\n",
       "\t<li>'/nfs/leia/research/stegle/dseaton/hipsci/singlecell_neuroseq/data/data_processed/pool1_17_D52/qtl_analysis/eqtl_discovery_separated_by_treatment/input_files_untreated/celltype_Sert/top_qtl_results_all.txt'</li>\n",
       "\t<li>'/nfs/leia/research/stegle/dseaton/hipsci/singlecell_neuroseq/data/data_processed/pool1_17_D52/qtl_analysis/eqtl_discovery_separated_by_treatment/input_files_untreated/celltype_Epen1/top_qtl_results_all.txt'</li>\n",
       "\t<li>'/nfs/leia/research/stegle/dseaton/hipsci/singlecell_neuroseq/data/data_processed/pool1_17_D52/qtl_analysis/eqtl_discovery_separated_by_treatment/input_files_untreated/celltype_Astro/top_qtl_results_all.txt'</li>\n",
       "\t<li>'/nfs/leia/research/stegle/dseaton/hipsci/singlecell_neuroseq/data/data_processed/pool1_17_D52/qtl_analysis/eqtl_discovery_separated_by_treatment/input_files_ROT_treated/celltype_DA/top_qtl_results_all.txt'</li>\n",
       "\t<li>'/nfs/leia/research/stegle/dseaton/hipsci/singlecell_neuroseq/data/data_processed/pool1_17_D52/qtl_analysis/eqtl_discovery_separated_by_treatment/input_files_ROT_treated/celltype_Sert/top_qtl_results_all.txt'</li>\n",
       "\t<li>'/nfs/leia/research/stegle/dseaton/hipsci/singlecell_neuroseq/data/data_processed/pool1_17_D52/qtl_analysis/eqtl_discovery_separated_by_treatment/input_files_ROT_treated/celltype_Epen1/top_qtl_results_all.txt'</li>\n",
       "\t<li>'/nfs/leia/research/stegle/dseaton/hipsci/singlecell_neuroseq/data/data_processed/pool1_17_D52/qtl_analysis/eqtl_discovery_separated_by_treatment/input_files_ROT_treated/celltype_Astro/top_qtl_results_all.txt'</li>\n",
       "</ol>\n"
      ],
      "text/latex": [
       "\\begin{enumerate*}\n",
       "\\item '/nfs/leia/research/stegle/dseaton/hipsci/singlecell\\_neuroseq/data/data\\_processed/pool1\\_13\\_noddd\\_D11/qtl\\_analysis/eqtl\\_discovery/celltype\\_FPP/top\\_qtl\\_results\\_all.txt'\n",
       "\\item '/nfs/leia/research/stegle/dseaton/hipsci/singlecell\\_neuroseq/data/data\\_processed/pool1\\_13\\_noddd\\_D11/qtl\\_analysis/eqtl\\_discovery/celltype\\_P\\_FPP/top\\_qtl\\_results\\_all.txt'\n",
       "\\item '/nfs/leia/research/stegle/dseaton/hipsci/singlecell\\_neuroseq/data/data\\_processed/pool1\\_13\\_noddd\\_D30/qtl\\_analysis/eqtl\\_discovery/celltype\\_Astro/top\\_qtl\\_results\\_all.txt'\n",
       "\\item '/nfs/leia/research/stegle/dseaton/hipsci/singlecell\\_neuroseq/data/data\\_processed/pool1\\_13\\_noddd\\_D30/qtl\\_analysis/eqtl\\_discovery/celltype\\_DA/top\\_qtl\\_results\\_all.txt'\n",
       "\\item '/nfs/leia/research/stegle/dseaton/hipsci/singlecell\\_neuroseq/data/data\\_processed/pool1\\_13\\_noddd\\_D30/qtl\\_analysis/eqtl\\_discovery/celltype\\_Sert/top\\_qtl\\_results\\_all.txt'\n",
       "\\item '/nfs/leia/research/stegle/dseaton/hipsci/singlecell\\_neuroseq/data/data\\_processed/pool1\\_13\\_noddd\\_D30/qtl\\_analysis/eqtl\\_discovery/celltype\\_Epen1/top\\_qtl\\_results\\_all.txt'\n",
       "\\item '/nfs/leia/research/stegle/dseaton/hipsci/singlecell\\_neuroseq/data/data\\_processed/pool1\\_17\\_D52/qtl\\_analysis/eqtl\\_discovery\\_separated\\_by\\_treatment/input\\_files\\_untreated/celltype\\_DA/top\\_qtl\\_results\\_all.txt'\n",
       "\\item '/nfs/leia/research/stegle/dseaton/hipsci/singlecell\\_neuroseq/data/data\\_processed/pool1\\_17\\_D52/qtl\\_analysis/eqtl\\_discovery\\_separated\\_by\\_treatment/input\\_files\\_untreated/celltype\\_Sert/top\\_qtl\\_results\\_all.txt'\n",
       "\\item '/nfs/leia/research/stegle/dseaton/hipsci/singlecell\\_neuroseq/data/data\\_processed/pool1\\_17\\_D52/qtl\\_analysis/eqtl\\_discovery\\_separated\\_by\\_treatment/input\\_files\\_untreated/celltype\\_Epen1/top\\_qtl\\_results\\_all.txt'\n",
       "\\item '/nfs/leia/research/stegle/dseaton/hipsci/singlecell\\_neuroseq/data/data\\_processed/pool1\\_17\\_D52/qtl\\_analysis/eqtl\\_discovery\\_separated\\_by\\_treatment/input\\_files\\_untreated/celltype\\_Astro/top\\_qtl\\_results\\_all.txt'\n",
       "\\item '/nfs/leia/research/stegle/dseaton/hipsci/singlecell\\_neuroseq/data/data\\_processed/pool1\\_17\\_D52/qtl\\_analysis/eqtl\\_discovery\\_separated\\_by\\_treatment/input\\_files\\_ROT\\_treated/celltype\\_DA/top\\_qtl\\_results\\_all.txt'\n",
       "\\item '/nfs/leia/research/stegle/dseaton/hipsci/singlecell\\_neuroseq/data/data\\_processed/pool1\\_17\\_D52/qtl\\_analysis/eqtl\\_discovery\\_separated\\_by\\_treatment/input\\_files\\_ROT\\_treated/celltype\\_Sert/top\\_qtl\\_results\\_all.txt'\n",
       "\\item '/nfs/leia/research/stegle/dseaton/hipsci/singlecell\\_neuroseq/data/data\\_processed/pool1\\_17\\_D52/qtl\\_analysis/eqtl\\_discovery\\_separated\\_by\\_treatment/input\\_files\\_ROT\\_treated/celltype\\_Epen1/top\\_qtl\\_results\\_all.txt'\n",
       "\\item '/nfs/leia/research/stegle/dseaton/hipsci/singlecell\\_neuroseq/data/data\\_processed/pool1\\_17\\_D52/qtl\\_analysis/eqtl\\_discovery\\_separated\\_by\\_treatment/input\\_files\\_ROT\\_treated/celltype\\_Astro/top\\_qtl\\_results\\_all.txt'\n",
       "\\end{enumerate*}\n"
      ],
      "text/markdown": [
       "1. '/nfs/leia/research/stegle/dseaton/hipsci/singlecell_neuroseq/data/data_processed/pool1_13_noddd_D11/qtl_analysis/eqtl_discovery/celltype_FPP/top_qtl_results_all.txt'\n",
       "2. '/nfs/leia/research/stegle/dseaton/hipsci/singlecell_neuroseq/data/data_processed/pool1_13_noddd_D11/qtl_analysis/eqtl_discovery/celltype_P_FPP/top_qtl_results_all.txt'\n",
       "3. '/nfs/leia/research/stegle/dseaton/hipsci/singlecell_neuroseq/data/data_processed/pool1_13_noddd_D30/qtl_analysis/eqtl_discovery/celltype_Astro/top_qtl_results_all.txt'\n",
       "4. '/nfs/leia/research/stegle/dseaton/hipsci/singlecell_neuroseq/data/data_processed/pool1_13_noddd_D30/qtl_analysis/eqtl_discovery/celltype_DA/top_qtl_results_all.txt'\n",
       "5. '/nfs/leia/research/stegle/dseaton/hipsci/singlecell_neuroseq/data/data_processed/pool1_13_noddd_D30/qtl_analysis/eqtl_discovery/celltype_Sert/top_qtl_results_all.txt'\n",
       "6. '/nfs/leia/research/stegle/dseaton/hipsci/singlecell_neuroseq/data/data_processed/pool1_13_noddd_D30/qtl_analysis/eqtl_discovery/celltype_Epen1/top_qtl_results_all.txt'\n",
       "7. '/nfs/leia/research/stegle/dseaton/hipsci/singlecell_neuroseq/data/data_processed/pool1_17_D52/qtl_analysis/eqtl_discovery_separated_by_treatment/input_files_untreated/celltype_DA/top_qtl_results_all.txt'\n",
       "8. '/nfs/leia/research/stegle/dseaton/hipsci/singlecell_neuroseq/data/data_processed/pool1_17_D52/qtl_analysis/eqtl_discovery_separated_by_treatment/input_files_untreated/celltype_Sert/top_qtl_results_all.txt'\n",
       "9. '/nfs/leia/research/stegle/dseaton/hipsci/singlecell_neuroseq/data/data_processed/pool1_17_D52/qtl_analysis/eqtl_discovery_separated_by_treatment/input_files_untreated/celltype_Epen1/top_qtl_results_all.txt'\n",
       "10. '/nfs/leia/research/stegle/dseaton/hipsci/singlecell_neuroseq/data/data_processed/pool1_17_D52/qtl_analysis/eqtl_discovery_separated_by_treatment/input_files_untreated/celltype_Astro/top_qtl_results_all.txt'\n",
       "11. '/nfs/leia/research/stegle/dseaton/hipsci/singlecell_neuroseq/data/data_processed/pool1_17_D52/qtl_analysis/eqtl_discovery_separated_by_treatment/input_files_ROT_treated/celltype_DA/top_qtl_results_all.txt'\n",
       "12. '/nfs/leia/research/stegle/dseaton/hipsci/singlecell_neuroseq/data/data_processed/pool1_17_D52/qtl_analysis/eqtl_discovery_separated_by_treatment/input_files_ROT_treated/celltype_Sert/top_qtl_results_all.txt'\n",
       "13. '/nfs/leia/research/stegle/dseaton/hipsci/singlecell_neuroseq/data/data_processed/pool1_17_D52/qtl_analysis/eqtl_discovery_separated_by_treatment/input_files_ROT_treated/celltype_Epen1/top_qtl_results_all.txt'\n",
       "14. '/nfs/leia/research/stegle/dseaton/hipsci/singlecell_neuroseq/data/data_processed/pool1_17_D52/qtl_analysis/eqtl_discovery_separated_by_treatment/input_files_ROT_treated/celltype_Astro/top_qtl_results_all.txt'\n",
       "\n",
       "\n"
      ],
      "text/plain": [
       " [1] \"/nfs/leia/research/stegle/dseaton/hipsci/singlecell_neuroseq/data/data_processed/pool1_13_noddd_D11/qtl_analysis/eqtl_discovery/celltype_FPP/top_qtl_results_all.txt\"                                           \n",
       " [2] \"/nfs/leia/research/stegle/dseaton/hipsci/singlecell_neuroseq/data/data_processed/pool1_13_noddd_D11/qtl_analysis/eqtl_discovery/celltype_P_FPP/top_qtl_results_all.txt\"                                         \n",
       " [3] \"/nfs/leia/research/stegle/dseaton/hipsci/singlecell_neuroseq/data/data_processed/pool1_13_noddd_D30/qtl_analysis/eqtl_discovery/celltype_Astro/top_qtl_results_all.txt\"                                         \n",
       " [4] \"/nfs/leia/research/stegle/dseaton/hipsci/singlecell_neuroseq/data/data_processed/pool1_13_noddd_D30/qtl_analysis/eqtl_discovery/celltype_DA/top_qtl_results_all.txt\"                                            \n",
       " [5] \"/nfs/leia/research/stegle/dseaton/hipsci/singlecell_neuroseq/data/data_processed/pool1_13_noddd_D30/qtl_analysis/eqtl_discovery/celltype_Sert/top_qtl_results_all.txt\"                                          \n",
       " [6] \"/nfs/leia/research/stegle/dseaton/hipsci/singlecell_neuroseq/data/data_processed/pool1_13_noddd_D30/qtl_analysis/eqtl_discovery/celltype_Epen1/top_qtl_results_all.txt\"                                         \n",
       " [7] \"/nfs/leia/research/stegle/dseaton/hipsci/singlecell_neuroseq/data/data_processed/pool1_17_D52/qtl_analysis/eqtl_discovery_separated_by_treatment/input_files_untreated/celltype_DA/top_qtl_results_all.txt\"     \n",
       " [8] \"/nfs/leia/research/stegle/dseaton/hipsci/singlecell_neuroseq/data/data_processed/pool1_17_D52/qtl_analysis/eqtl_discovery_separated_by_treatment/input_files_untreated/celltype_Sert/top_qtl_results_all.txt\"   \n",
       " [9] \"/nfs/leia/research/stegle/dseaton/hipsci/singlecell_neuroseq/data/data_processed/pool1_17_D52/qtl_analysis/eqtl_discovery_separated_by_treatment/input_files_untreated/celltype_Epen1/top_qtl_results_all.txt\"  \n",
       "[10] \"/nfs/leia/research/stegle/dseaton/hipsci/singlecell_neuroseq/data/data_processed/pool1_17_D52/qtl_analysis/eqtl_discovery_separated_by_treatment/input_files_untreated/celltype_Astro/top_qtl_results_all.txt\"  \n",
       "[11] \"/nfs/leia/research/stegle/dseaton/hipsci/singlecell_neuroseq/data/data_processed/pool1_17_D52/qtl_analysis/eqtl_discovery_separated_by_treatment/input_files_ROT_treated/celltype_DA/top_qtl_results_all.txt\"   \n",
       "[12] \"/nfs/leia/research/stegle/dseaton/hipsci/singlecell_neuroseq/data/data_processed/pool1_17_D52/qtl_analysis/eqtl_discovery_separated_by_treatment/input_files_ROT_treated/celltype_Sert/top_qtl_results_all.txt\" \n",
       "[13] \"/nfs/leia/research/stegle/dseaton/hipsci/singlecell_neuroseq/data/data_processed/pool1_17_D52/qtl_analysis/eqtl_discovery_separated_by_treatment/input_files_ROT_treated/celltype_Epen1/top_qtl_results_all.txt\"\n",
       "[14] \"/nfs/leia/research/stegle/dseaton/hipsci/singlecell_neuroseq/data/data_processed/pool1_17_D52/qtl_analysis/eqtl_discovery_separated_by_treatment/input_files_ROT_treated/celltype_Astro/top_qtl_results_all.txt\""
      ]
     },
     "metadata": {},
     "output_type": "display_data"
    }
   ],
   "source": [
    "celltypes = c(\"FPP\",\"P_FPP\")\n",
    "files_d11 = paste0(folder_D11,'celltype_',celltypes,'/top_qtl_results_all.txt')\n",
    "#\n",
    "celltypes = c(\"Astro\",\"DA\",\"Sert\",\"Epen1\")\n",
    "files_d30 = paste0(folder_D30,'celltype_',celltypes,'/top_qtl_results_all.txt')\n",
    "#\n",
    "celltypes = c(\"DA\",\"Sert\",\"Epen1\",\"Astro\")\n",
    "files_d52_none = paste0(folder_D52_NONE,\"celltype_\",celltypes,\"/top_qtl_results_all.txt\")\n",
    "files_d52_rot = paste0(folder_D52_ROT,\"celltype_\",celltypes,\"/top_qtl_results_all.txt\")\n",
    "neuro_files = c(files_d11, files_d30,files_d52_none, files_d52_rot)\n",
    "neuro_files"
   ]
  },
  {
   "cell_type": "code",
   "execution_count": 4,
   "metadata": {},
   "outputs": [],
   "source": [
    "eqtl_maps = c(\"FPP_D11\",\"P_FPP_D11\",\n",
    "             \"FPP_D30\",\"DA_D30\",\"Sert_D30\",\"Epen1_D30\",\n",
    "             \"DA_D52\",\"Sert_D52\",\"Epen1_D52\",\"Astro_D52\",\n",
    "             \"DA_D52_ROT\",\"Sert_D52_ROT\",\"Epen1_D52_ROT\",\"Astro_D52_ROT\")"
   ]
  },
  {
   "cell_type": "code",
   "execution_count": 5,
   "metadata": {},
   "outputs": [],
   "source": [
    "#### GTEx files"
   ]
  },
  {
   "cell_type": "code",
   "execution_count": 6,
   "metadata": {},
   "outputs": [
    {
     "data": {
      "text/html": [
       "<ol class=list-inline>\n",
       "\t<li>'Adipose_Subcutaneous.v7.egenes.txt'</li>\n",
       "\t<li>'Adipose_Visceral_Omentum.v7.egenes.txt'</li>\n",
       "\t<li>'Adrenal_Gland.v7.egenes.txt'</li>\n",
       "\t<li>'Artery_Aorta.v7.egenes.txt'</li>\n",
       "\t<li>'Artery_Coronary.v7.egenes.txt'</li>\n",
       "\t<li>'Artery_Tibial.v7.egenes.txt'</li>\n",
       "</ol>\n"
      ],
      "text/latex": [
       "\\begin{enumerate*}\n",
       "\\item 'Adipose\\_Subcutaneous.v7.egenes.txt'\n",
       "\\item 'Adipose\\_Visceral\\_Omentum.v7.egenes.txt'\n",
       "\\item 'Adrenal\\_Gland.v7.egenes.txt'\n",
       "\\item 'Artery\\_Aorta.v7.egenes.txt'\n",
       "\\item 'Artery\\_Coronary.v7.egenes.txt'\n",
       "\\item 'Artery\\_Tibial.v7.egenes.txt'\n",
       "\\end{enumerate*}\n"
      ],
      "text/markdown": [
       "1. 'Adipose_Subcutaneous.v7.egenes.txt'\n",
       "2. 'Adipose_Visceral_Omentum.v7.egenes.txt'\n",
       "3. 'Adrenal_Gland.v7.egenes.txt'\n",
       "4. 'Artery_Aorta.v7.egenes.txt'\n",
       "5. 'Artery_Coronary.v7.egenes.txt'\n",
       "6. 'Artery_Tibial.v7.egenes.txt'\n",
       "\n",
       "\n"
      ],
      "text/plain": [
       "[1] \"Adipose_Subcutaneous.v7.egenes.txt\"    \n",
       "[2] \"Adipose_Visceral_Omentum.v7.egenes.txt\"\n",
       "[3] \"Adrenal_Gland.v7.egenes.txt\"           \n",
       "[4] \"Artery_Aorta.v7.egenes.txt\"            \n",
       "[5] \"Artery_Coronary.v7.egenes.txt\"         \n",
       "[6] \"Artery_Tibial.v7.egenes.txt\"           "
      ]
     },
     "metadata": {},
     "output_type": "display_data"
    }
   ],
   "source": [
    "gtex_folder = \"/hps/nobackup/hipsci/scratch/GTEx/GTEx_Analysis_v7_eQTL/\"\n",
    "head(list.files(gtex_folder,\".egenes.txt\"))"
   ]
  },
  {
   "cell_type": "code",
   "execution_count": 7,
   "metadata": {},
   "outputs": [
    {
     "data": {
      "text/html": [
       "48"
      ],
      "text/latex": [
       "48"
      ],
      "text/markdown": [
       "48"
      ],
      "text/plain": [
       "[1] 48"
      ]
     },
     "metadata": {},
     "output_type": "display_data"
    },
    {
     "data": {
      "text/html": [
       "<ol class=list-inline>\n",
       "\t<li>'/hps/nobackup/hipsci/scratch/GTEx/GTEx_Analysis_v7_eQTL/Adipose_Subcutaneous.v7.egenes.txt'</li>\n",
       "\t<li>'/hps/nobackup/hipsci/scratch/GTEx/GTEx_Analysis_v7_eQTL/Adipose_Visceral_Omentum.v7.egenes.txt'</li>\n",
       "</ol>\n"
      ],
      "text/latex": [
       "\\begin{enumerate*}\n",
       "\\item '/hps/nobackup/hipsci/scratch/GTEx/GTEx\\_Analysis\\_v7\\_eQTL/Adipose\\_Subcutaneous.v7.egenes.txt'\n",
       "\\item '/hps/nobackup/hipsci/scratch/GTEx/GTEx\\_Analysis\\_v7\\_eQTL/Adipose\\_Visceral\\_Omentum.v7.egenes.txt'\n",
       "\\end{enumerate*}\n"
      ],
      "text/markdown": [
       "1. '/hps/nobackup/hipsci/scratch/GTEx/GTEx_Analysis_v7_eQTL/Adipose_Subcutaneous.v7.egenes.txt'\n",
       "2. '/hps/nobackup/hipsci/scratch/GTEx/GTEx_Analysis_v7_eQTL/Adipose_Visceral_Omentum.v7.egenes.txt'\n",
       "\n",
       "\n"
      ],
      "text/plain": [
       "[1] \"/hps/nobackup/hipsci/scratch/GTEx/GTEx_Analysis_v7_eQTL/Adipose_Subcutaneous.v7.egenes.txt\"    \n",
       "[2] \"/hps/nobackup/hipsci/scratch/GTEx/GTEx_Analysis_v7_eQTL/Adipose_Visceral_Omentum.v7.egenes.txt\""
      ]
     },
     "metadata": {},
     "output_type": "display_data"
    }
   ],
   "source": [
    "files = paste0(gtex_folder, list.files(gtex_folder,\".egenes.txt\"))\n",
    "length(files)\n",
    "head(files,2)"
   ]
  },
  {
   "cell_type": "code",
   "execution_count": 8,
   "metadata": {},
   "outputs": [],
   "source": [
    "## Select files corresponding to GTEx brain tissues"
   ]
  },
  {
   "cell_type": "code",
   "execution_count": 9,
   "metadata": {},
   "outputs": [
    {
     "data": {
      "text/html": [
       "<ol class=list-inline>\n",
       "\t<li>'/hps/nobackup/hipsci/scratch/GTEx/GTEx_Analysis_v7_eQTL/Brain_Amygdala.v7.egenes.txt'</li>\n",
       "\t<li>'/hps/nobackup/hipsci/scratch/GTEx/GTEx_Analysis_v7_eQTL/Brain_Anterior_cingulate_cortex_BA24.v7.egenes.txt'</li>\n",
       "</ol>\n"
      ],
      "text/latex": [
       "\\begin{enumerate*}\n",
       "\\item '/hps/nobackup/hipsci/scratch/GTEx/GTEx\\_Analysis\\_v7\\_eQTL/Brain\\_Amygdala.v7.egenes.txt'\n",
       "\\item '/hps/nobackup/hipsci/scratch/GTEx/GTEx\\_Analysis\\_v7\\_eQTL/Brain\\_Anterior\\_cingulate\\_cortex\\_BA24.v7.egenes.txt'\n",
       "\\end{enumerate*}\n"
      ],
      "text/markdown": [
       "1. '/hps/nobackup/hipsci/scratch/GTEx/GTEx_Analysis_v7_eQTL/Brain_Amygdala.v7.egenes.txt'\n",
       "2. '/hps/nobackup/hipsci/scratch/GTEx/GTEx_Analysis_v7_eQTL/Brain_Anterior_cingulate_cortex_BA24.v7.egenes.txt'\n",
       "\n",
       "\n"
      ],
      "text/plain": [
       "[1] \"/hps/nobackup/hipsci/scratch/GTEx/GTEx_Analysis_v7_eQTL/Brain_Amygdala.v7.egenes.txt\"                      \n",
       "[2] \"/hps/nobackup/hipsci/scratch/GTEx/GTEx_Analysis_v7_eQTL/Brain_Anterior_cingulate_cortex_BA24.v7.egenes.txt\""
      ]
     },
     "metadata": {},
     "output_type": "display_data"
    },
    {
     "data": {
      "text/html": [
       "13"
      ],
      "text/latex": [
       "13"
      ],
      "text/markdown": [
       "13"
      ],
      "text/plain": [
       "[1] 13"
      ]
     },
     "metadata": {},
     "output_type": "display_data"
    }
   ],
   "source": [
    "brain_files = files[grep(\"Brain\",files)]\n",
    "head(brain_files,2)\n",
    "length(brain_files)"
   ]
  },
  {
   "cell_type": "code",
   "execution_count": 10,
   "metadata": {},
   "outputs": [
    {
     "data": {
      "text/html": [
       "<table>\n",
       "<thead><tr><th></th><th scope=col>FPP_D11</th><th scope=col>P_FPP_D11</th><th scope=col>FPP_D30</th><th scope=col>DA_D30</th><th scope=col>Sert_D30</th><th scope=col>Epen1_D30</th><th scope=col>DA_D52</th><th scope=col>Sert_D52</th><th scope=col>Epen1_D52</th><th scope=col>Astro_D52</th><th scope=col>DA_D52_ROT</th><th scope=col>Sert_D52_ROT</th><th scope=col>Epen1_D52_ROT</th><th scope=col>Astro_D52_ROT</th></tr></thead>\n",
       "<tbody>\n",
       "\t<tr><th scope=row>Brain_Amygdala</th><td>0</td><td>0</td><td>0</td><td>0</td><td>0</td><td>0</td><td>0</td><td>0</td><td>0</td><td>0</td><td>0</td><td>0</td><td>0</td><td>0</td></tr>\n",
       "\t<tr><th scope=row>Brain_Anterior_cingulate_cortex_BA24</th><td>0</td><td>0</td><td>0</td><td>0</td><td>0</td><td>0</td><td>0</td><td>0</td><td>0</td><td>0</td><td>0</td><td>0</td><td>0</td><td>0</td></tr>\n",
       "\t<tr><th scope=row>Brain_Caudate_basal_ganglia</th><td>0</td><td>0</td><td>0</td><td>0</td><td>0</td><td>0</td><td>0</td><td>0</td><td>0</td><td>0</td><td>0</td><td>0</td><td>0</td><td>0</td></tr>\n",
       "\t<tr><th scope=row>Brain_Cerebellar_Hemisphere</th><td>0</td><td>0</td><td>0</td><td>0</td><td>0</td><td>0</td><td>0</td><td>0</td><td>0</td><td>0</td><td>0</td><td>0</td><td>0</td><td>0</td></tr>\n",
       "\t<tr><th scope=row>Brain_Cerebellum</th><td>0</td><td>0</td><td>0</td><td>0</td><td>0</td><td>0</td><td>0</td><td>0</td><td>0</td><td>0</td><td>0</td><td>0</td><td>0</td><td>0</td></tr>\n",
       "\t<tr><th scope=row>Brain_Cortex</th><td>0</td><td>0</td><td>0</td><td>0</td><td>0</td><td>0</td><td>0</td><td>0</td><td>0</td><td>0</td><td>0</td><td>0</td><td>0</td><td>0</td></tr>\n",
       "\t<tr><th scope=row>Brain_Frontal_Cortex_BA9</th><td>0</td><td>0</td><td>0</td><td>0</td><td>0</td><td>0</td><td>0</td><td>0</td><td>0</td><td>0</td><td>0</td><td>0</td><td>0</td><td>0</td></tr>\n",
       "\t<tr><th scope=row>Brain_Hippocampus</th><td>0</td><td>0</td><td>0</td><td>0</td><td>0</td><td>0</td><td>0</td><td>0</td><td>0</td><td>0</td><td>0</td><td>0</td><td>0</td><td>0</td></tr>\n",
       "\t<tr><th scope=row>Brain_Hypothalamus</th><td>0</td><td>0</td><td>0</td><td>0</td><td>0</td><td>0</td><td>0</td><td>0</td><td>0</td><td>0</td><td>0</td><td>0</td><td>0</td><td>0</td></tr>\n",
       "\t<tr><th scope=row>Brain_Nucleus_accumbens_basal_ganglia</th><td>0</td><td>0</td><td>0</td><td>0</td><td>0</td><td>0</td><td>0</td><td>0</td><td>0</td><td>0</td><td>0</td><td>0</td><td>0</td><td>0</td></tr>\n",
       "\t<tr><th scope=row>Brain_Putamen_basal_ganglia</th><td>0</td><td>0</td><td>0</td><td>0</td><td>0</td><td>0</td><td>0</td><td>0</td><td>0</td><td>0</td><td>0</td><td>0</td><td>0</td><td>0</td></tr>\n",
       "\t<tr><th scope=row>Brain_Spinal_cord_cervical_c-1</th><td>0</td><td>0</td><td>0</td><td>0</td><td>0</td><td>0</td><td>0</td><td>0</td><td>0</td><td>0</td><td>0</td><td>0</td><td>0</td><td>0</td></tr>\n",
       "\t<tr><th scope=row>Brain_Substantia_nigra</th><td>0</td><td>0</td><td>0</td><td>0</td><td>0</td><td>0</td><td>0</td><td>0</td><td>0</td><td>0</td><td>0</td><td>0</td><td>0</td><td>0</td></tr>\n",
       "</tbody>\n",
       "</table>\n"
      ],
      "text/latex": [
       "\\begin{tabular}{r|llllllllllllll}\n",
       "  & FPP\\_D11 & P\\_FPP\\_D11 & FPP\\_D30 & DA\\_D30 & Sert\\_D30 & Epen1\\_D30 & DA\\_D52 & Sert\\_D52 & Epen1\\_D52 & Astro\\_D52 & DA\\_D52\\_ROT & Sert\\_D52\\_ROT & Epen1\\_D52\\_ROT & Astro\\_D52\\_ROT\\\\\n",
       "\\hline\n",
       "\tBrain\\_Amygdala & 0 & 0 & 0 & 0 & 0 & 0 & 0 & 0 & 0 & 0 & 0 & 0 & 0 & 0\\\\\n",
       "\tBrain\\_Anterior\\_cingulate\\_cortex\\_BA24 & 0 & 0 & 0 & 0 & 0 & 0 & 0 & 0 & 0 & 0 & 0 & 0 & 0 & 0\\\\\n",
       "\tBrain\\_Caudate\\_basal\\_ganglia & 0 & 0 & 0 & 0 & 0 & 0 & 0 & 0 & 0 & 0 & 0 & 0 & 0 & 0\\\\\n",
       "\tBrain\\_Cerebellar\\_Hemisphere & 0 & 0 & 0 & 0 & 0 & 0 & 0 & 0 & 0 & 0 & 0 & 0 & 0 & 0\\\\\n",
       "\tBrain\\_Cerebellum & 0 & 0 & 0 & 0 & 0 & 0 & 0 & 0 & 0 & 0 & 0 & 0 & 0 & 0\\\\\n",
       "\tBrain\\_Cortex & 0 & 0 & 0 & 0 & 0 & 0 & 0 & 0 & 0 & 0 & 0 & 0 & 0 & 0\\\\\n",
       "\tBrain\\_Frontal\\_Cortex\\_BA9 & 0 & 0 & 0 & 0 & 0 & 0 & 0 & 0 & 0 & 0 & 0 & 0 & 0 & 0\\\\\n",
       "\tBrain\\_Hippocampus & 0 & 0 & 0 & 0 & 0 & 0 & 0 & 0 & 0 & 0 & 0 & 0 & 0 & 0\\\\\n",
       "\tBrain\\_Hypothalamus & 0 & 0 & 0 & 0 & 0 & 0 & 0 & 0 & 0 & 0 & 0 & 0 & 0 & 0\\\\\n",
       "\tBrain\\_Nucleus\\_accumbens\\_basal\\_ganglia & 0 & 0 & 0 & 0 & 0 & 0 & 0 & 0 & 0 & 0 & 0 & 0 & 0 & 0\\\\\n",
       "\tBrain\\_Putamen\\_basal\\_ganglia & 0 & 0 & 0 & 0 & 0 & 0 & 0 & 0 & 0 & 0 & 0 & 0 & 0 & 0\\\\\n",
       "\tBrain\\_Spinal\\_cord\\_cervical\\_c-1 & 0 & 0 & 0 & 0 & 0 & 0 & 0 & 0 & 0 & 0 & 0 & 0 & 0 & 0\\\\\n",
       "\tBrain\\_Substantia\\_nigra & 0 & 0 & 0 & 0 & 0 & 0 & 0 & 0 & 0 & 0 & 0 & 0 & 0 & 0\\\\\n",
       "\\end{tabular}\n"
      ],
      "text/markdown": [
       "\n",
       "| <!--/--> | FPP_D11 | P_FPP_D11 | FPP_D30 | DA_D30 | Sert_D30 | Epen1_D30 | DA_D52 | Sert_D52 | Epen1_D52 | Astro_D52 | DA_D52_ROT | Sert_D52_ROT | Epen1_D52_ROT | Astro_D52_ROT |\n",
       "|---|---|---|---|---|---|---|---|---|---|---|---|---|---|---|\n",
       "| Brain_Amygdala | 0 | 0 | 0 | 0 | 0 | 0 | 0 | 0 | 0 | 0 | 0 | 0 | 0 | 0 |\n",
       "| Brain_Anterior_cingulate_cortex_BA24 | 0 | 0 | 0 | 0 | 0 | 0 | 0 | 0 | 0 | 0 | 0 | 0 | 0 | 0 |\n",
       "| Brain_Caudate_basal_ganglia | 0 | 0 | 0 | 0 | 0 | 0 | 0 | 0 | 0 | 0 | 0 | 0 | 0 | 0 |\n",
       "| Brain_Cerebellar_Hemisphere | 0 | 0 | 0 | 0 | 0 | 0 | 0 | 0 | 0 | 0 | 0 | 0 | 0 | 0 |\n",
       "| Brain_Cerebellum | 0 | 0 | 0 | 0 | 0 | 0 | 0 | 0 | 0 | 0 | 0 | 0 | 0 | 0 |\n",
       "| Brain_Cortex | 0 | 0 | 0 | 0 | 0 | 0 | 0 | 0 | 0 | 0 | 0 | 0 | 0 | 0 |\n",
       "| Brain_Frontal_Cortex_BA9 | 0 | 0 | 0 | 0 | 0 | 0 | 0 | 0 | 0 | 0 | 0 | 0 | 0 | 0 |\n",
       "| Brain_Hippocampus | 0 | 0 | 0 | 0 | 0 | 0 | 0 | 0 | 0 | 0 | 0 | 0 | 0 | 0 |\n",
       "| Brain_Hypothalamus | 0 | 0 | 0 | 0 | 0 | 0 | 0 | 0 | 0 | 0 | 0 | 0 | 0 | 0 |\n",
       "| Brain_Nucleus_accumbens_basal_ganglia | 0 | 0 | 0 | 0 | 0 | 0 | 0 | 0 | 0 | 0 | 0 | 0 | 0 | 0 |\n",
       "| Brain_Putamen_basal_ganglia | 0 | 0 | 0 | 0 | 0 | 0 | 0 | 0 | 0 | 0 | 0 | 0 | 0 | 0 |\n",
       "| Brain_Spinal_cord_cervical_c-1 | 0 | 0 | 0 | 0 | 0 | 0 | 0 | 0 | 0 | 0 | 0 | 0 | 0 | 0 |\n",
       "| Brain_Substantia_nigra | 0 | 0 | 0 | 0 | 0 | 0 | 0 | 0 | 0 | 0 | 0 | 0 | 0 | 0 |\n",
       "\n"
      ],
      "text/plain": [
       "                                      FPP_D11 P_FPP_D11 FPP_D30 DA_D30 Sert_D30\n",
       "Brain_Amygdala                        0       0         0       0      0       \n",
       "Brain_Anterior_cingulate_cortex_BA24  0       0         0       0      0       \n",
       "Brain_Caudate_basal_ganglia           0       0         0       0      0       \n",
       "Brain_Cerebellar_Hemisphere           0       0         0       0      0       \n",
       "Brain_Cerebellum                      0       0         0       0      0       \n",
       "Brain_Cortex                          0       0         0       0      0       \n",
       "Brain_Frontal_Cortex_BA9              0       0         0       0      0       \n",
       "Brain_Hippocampus                     0       0         0       0      0       \n",
       "Brain_Hypothalamus                    0       0         0       0      0       \n",
       "Brain_Nucleus_accumbens_basal_ganglia 0       0         0       0      0       \n",
       "Brain_Putamen_basal_ganglia           0       0         0       0      0       \n",
       "Brain_Spinal_cord_cervical_c-1        0       0         0       0      0       \n",
       "Brain_Substantia_nigra                0       0         0       0      0       \n",
       "                                      Epen1_D30 DA_D52 Sert_D52 Epen1_D52\n",
       "Brain_Amygdala                        0         0      0        0        \n",
       "Brain_Anterior_cingulate_cortex_BA24  0         0      0        0        \n",
       "Brain_Caudate_basal_ganglia           0         0      0        0        \n",
       "Brain_Cerebellar_Hemisphere           0         0      0        0        \n",
       "Brain_Cerebellum                      0         0      0        0        \n",
       "Brain_Cortex                          0         0      0        0        \n",
       "Brain_Frontal_Cortex_BA9              0         0      0        0        \n",
       "Brain_Hippocampus                     0         0      0        0        \n",
       "Brain_Hypothalamus                    0         0      0        0        \n",
       "Brain_Nucleus_accumbens_basal_ganglia 0         0      0        0        \n",
       "Brain_Putamen_basal_ganglia           0         0      0        0        \n",
       "Brain_Spinal_cord_cervical_c-1        0         0      0        0        \n",
       "Brain_Substantia_nigra                0         0      0        0        \n",
       "                                      Astro_D52 DA_D52_ROT Sert_D52_ROT\n",
       "Brain_Amygdala                        0         0          0           \n",
       "Brain_Anterior_cingulate_cortex_BA24  0         0          0           \n",
       "Brain_Caudate_basal_ganglia           0         0          0           \n",
       "Brain_Cerebellar_Hemisphere           0         0          0           \n",
       "Brain_Cerebellum                      0         0          0           \n",
       "Brain_Cortex                          0         0          0           \n",
       "Brain_Frontal_Cortex_BA9              0         0          0           \n",
       "Brain_Hippocampus                     0         0          0           \n",
       "Brain_Hypothalamus                    0         0          0           \n",
       "Brain_Nucleus_accumbens_basal_ganglia 0         0          0           \n",
       "Brain_Putamen_basal_ganglia           0         0          0           \n",
       "Brain_Spinal_cord_cervical_c-1        0         0          0           \n",
       "Brain_Substantia_nigra                0         0          0           \n",
       "                                      Epen1_D52_ROT Astro_D52_ROT\n",
       "Brain_Amygdala                        0             0            \n",
       "Brain_Anterior_cingulate_cortex_BA24  0             0            \n",
       "Brain_Caudate_basal_ganglia           0             0            \n",
       "Brain_Cerebellar_Hemisphere           0             0            \n",
       "Brain_Cerebellum                      0             0            \n",
       "Brain_Cortex                          0             0            \n",
       "Brain_Frontal_Cortex_BA9              0             0            \n",
       "Brain_Hippocampus                     0             0            \n",
       "Brain_Hypothalamus                    0             0            \n",
       "Brain_Nucleus_accumbens_basal_ganglia 0             0            \n",
       "Brain_Putamen_basal_ganglia           0             0            \n",
       "Brain_Spinal_cord_cervical_c-1        0             0            \n",
       "Brain_Substantia_nigra                0             0            "
      ]
     },
     "metadata": {},
     "output_type": "display_data"
    }
   ],
   "source": [
    "mat = matrix(0, nrow = 13, ncol = 14)\n",
    "colnames(mat) = eqtl_maps\n",
    "rownames(mat) = gsub(\"/hps/nobackup/hipsci/scratch/GTEx/GTEx_Analysis_v7_eQTL/\",\"\",\n",
    "                     gsub(\".v7.egenes.txt\",\"\",brain_files))\n",
    "mat"
   ]
  },
  {
   "cell_type": "code",
   "execution_count": 11,
   "metadata": {},
   "outputs": [
    {
     "data": {
      "text/html": [
       "48"
      ],
      "text/latex": [
       "48"
      ],
      "text/markdown": [
       "48"
      ],
      "text/plain": [
       "[1] 48"
      ]
     },
     "metadata": {},
     "output_type": "display_data"
    }
   ],
   "source": [
    "length(files)"
   ]
  },
  {
   "cell_type": "code",
   "execution_count": 12,
   "metadata": {},
   "outputs": [],
   "source": [
    "i = 0\n",
    "for (brain_file in brain_files){\n",
    "    i = i+1\n",
    "    j = 0\n",
    "    df = read.csv(brain_file, sep =\"\\t\")\n",
    "    df$feature_id = gsub(\"\\\\..*\",\"\",df$gene_id)\n",
    "    df$snp_id = gsub(\"_b37\",\"\",df$variant_id)\n",
    "    df_sign = df[df$qval<0.05,]\n",
    "    egenes = unique(df_sign$feature_id)\n",
    "    for (neuro_file in neuro_files){\n",
    "        j = j+1\n",
    "        df0 = read.csv(neuro_file, sep = \"\\t\")\n",
    "        genes = unique(as.character(df0$feature_id))\n",
    "        mat[i,j] = length(egenes[egenes %in% genes])/length(egenes)   \n",
    "    }\n",
    "}"
   ]
  },
  {
   "cell_type": "code",
   "execution_count": 13,
   "metadata": {},
   "outputs": [
    {
     "data": {
      "text/html": [
       "<table>\n",
       "<thead><tr><th></th><th scope=col>FPP_D11</th><th scope=col>P_FPP_D11</th><th scope=col>FPP_D30</th><th scope=col>DA_D30</th><th scope=col>Sert_D30</th><th scope=col>Epen1_D30</th><th scope=col>DA_D52</th><th scope=col>Sert_D52</th><th scope=col>Epen1_D52</th><th scope=col>Astro_D52</th><th scope=col>DA_D52_ROT</th><th scope=col>Sert_D52_ROT</th><th scope=col>Epen1_D52_ROT</th><th scope=col>Astro_D52_ROT</th></tr></thead>\n",
       "<tbody>\n",
       "\t<tr><th scope=row>Brain_Amygdala</th><td>0.4540153</td><td>0.4567070</td><td>0.4706146</td><td>0.4333782</td><td>0.4827277</td><td>0.5015702</td><td>0.4786900</td><td>0.5002243</td><td>0.4957380</td><td>0.4688201</td><td>0.4786900</td><td>0.5002243</td><td>0.4957380</td><td>0.4688201</td></tr>\n",
       "\t<tr><th scope=row>Brain_Anterior_cingulate_cortex_BA24</th><td>0.4786741</td><td>0.4823300</td><td>0.4993907</td><td>0.4582013</td><td>0.5076773</td><td>0.5266878</td><td>0.5062150</td><td>0.5276627</td><td>0.5205947</td><td>0.4925664</td><td>0.5062150</td><td>0.5276627</td><td>0.5205947</td><td>0.4925664</td></tr>\n",
       "\t<tr><th scope=row>Brain_Caudate_basal_ganglia</th><td>0.4743860</td><td>0.4796491</td><td>0.4977193</td><td>0.4535088</td><td>0.5061404</td><td>0.5271930</td><td>0.5015789</td><td>0.5212281</td><td>0.5217544</td><td>0.4938596</td><td>0.5015789</td><td>0.5212281</td><td>0.5217544</td><td>0.4938596</td></tr>\n",
       "\t<tr><th scope=row>Brain_Cerebellar_Hemisphere</th><td>0.4907824</td><td>0.4936856</td><td>0.5137175</td><td>0.4787342</td><td>0.5205400</td><td>0.5430396</td><td>0.5219916</td><td>0.5379591</td><td>0.5338946</td><td>0.5076208</td><td>0.5219916</td><td>0.5379591</td><td>0.5338946</td><td>0.5076208</td></tr>\n",
       "\t<tr><th scope=row>Brain_Cerebellum</th><td>0.5121604</td><td>0.5171432</td><td>0.5356507</td><td>0.4982797</td><td>0.5418199</td><td>0.5645984</td><td>0.5435995</td><td>0.5580733</td><td>0.5539210</td><td>0.5294816</td><td>0.5435995</td><td>0.5580733</td><td>0.5539210</td><td>0.5294816</td></tr>\n",
       "\t<tr><th scope=row>Brain_Cortex</th><td>0.4902376</td><td>0.4913765</td><td>0.5091116</td><td>0.4668077</td><td>0.5169216</td><td>0.5398633</td><td>0.5135047</td><td>0.5344940</td><td>0.5307517</td><td>0.5043931</td><td>0.5135047</td><td>0.5344940</td><td>0.5307517</td><td>0.5043931</td></tr>\n",
       "\t<tr><th scope=row>Brain_Frontal_Cortex_BA9</th><td>0.4919387</td><td>0.4946913</td><td>0.5147464</td><td>0.4685411</td><td>0.5233976</td><td>0.5460087</td><td>0.5198584</td><td>0.5414864</td><td>0.5381439</td><td>0.5090444</td><td>0.5198584</td><td>0.5414864</td><td>0.5381439</td><td>0.5090444</td></tr>\n",
       "\t<tr><th scope=row>Brain_Hippocampus</th><td>0.4570815</td><td>0.4601471</td><td>0.4816064</td><td>0.4429798</td><td>0.4892704</td><td>0.5141018</td><td>0.4862048</td><td>0.5110362</td><td>0.5070509</td><td>0.4776211</td><td>0.4862048</td><td>0.5110362</td><td>0.5070509</td><td>0.4776211</td></tr>\n",
       "\t<tr><th scope=row>Brain_Hypothalamus</th><td>0.4410140</td><td>0.4462138</td><td>0.4598635</td><td>0.4192395</td><td>0.4679883</td><td>0.4913877</td><td>0.4670133</td><td>0.4871628</td><td>0.4826129</td><td>0.4510887</td><td>0.4670133</td><td>0.4871628</td><td>0.4826129</td><td>0.4510887</td></tr>\n",
       "\t<tr><th scope=row>Brain_Nucleus_accumbens_basal_ganglia</th><td>0.4671747</td><td>0.4718640</td><td>0.4888628</td><td>0.4419695</td><td>0.4978507</td><td>0.5181712</td><td>0.4935522</td><td>0.5146542</td><td>0.5099648</td><td>0.4800703</td><td>0.4935522</td><td>0.5146542</td><td>0.5099648</td><td>0.4800703</td></tr>\n",
       "\t<tr><th scope=row>Brain_Putamen_basal_ganglia</th><td>0.4774335</td><td>0.4815809</td><td>0.5047573</td><td>0.4566968</td><td>0.5113442</td><td>0.5293974</td><td>0.5037814</td><td>0.5298853</td><td>0.5262259</td><td>0.4984142</td><td>0.5037814</td><td>0.5298853</td><td>0.5262259</td><td>0.4984142</td></tr>\n",
       "\t<tr><th scope=row>Brain_Spinal_cord_cervical_c-1</th><td>0.4644478</td><td>0.4712557</td><td>0.4886536</td><td>0.4466717</td><td>0.4977307</td><td>0.5139939</td><td>0.4901664</td><td>0.5094554</td><td>0.5037821</td><td>0.4784418</td><td>0.4901664</td><td>0.5094554</td><td>0.5037821</td><td>0.4784418</td></tr>\n",
       "\t<tr><th scope=row>Brain_Substantia_nigra</th><td>0.4427227</td><td>0.4499170</td><td>0.4692861</td><td>0.4277809</td><td>0.4786940</td><td>0.4986165</td><td>0.4676259</td><td>0.4869950</td><td>0.4903154</td><td>0.4620919</td><td>0.4676259</td><td>0.4869950</td><td>0.4903154</td><td>0.4620919</td></tr>\n",
       "</tbody>\n",
       "</table>\n"
      ],
      "text/latex": [
       "\\begin{tabular}{r|llllllllllllll}\n",
       "  & FPP\\_D11 & P\\_FPP\\_D11 & FPP\\_D30 & DA\\_D30 & Sert\\_D30 & Epen1\\_D30 & DA\\_D52 & Sert\\_D52 & Epen1\\_D52 & Astro\\_D52 & DA\\_D52\\_ROT & Sert\\_D52\\_ROT & Epen1\\_D52\\_ROT & Astro\\_D52\\_ROT\\\\\n",
       "\\hline\n",
       "\tBrain\\_Amygdala & 0.4540153 & 0.4567070 & 0.4706146 & 0.4333782 & 0.4827277 & 0.5015702 & 0.4786900 & 0.5002243 & 0.4957380 & 0.4688201 & 0.4786900 & 0.5002243 & 0.4957380 & 0.4688201\\\\\n",
       "\tBrain\\_Anterior\\_cingulate\\_cortex\\_BA24 & 0.4786741 & 0.4823300 & 0.4993907 & 0.4582013 & 0.5076773 & 0.5266878 & 0.5062150 & 0.5276627 & 0.5205947 & 0.4925664 & 0.5062150 & 0.5276627 & 0.5205947 & 0.4925664\\\\\n",
       "\tBrain\\_Caudate\\_basal\\_ganglia & 0.4743860 & 0.4796491 & 0.4977193 & 0.4535088 & 0.5061404 & 0.5271930 & 0.5015789 & 0.5212281 & 0.5217544 & 0.4938596 & 0.5015789 & 0.5212281 & 0.5217544 & 0.4938596\\\\\n",
       "\tBrain\\_Cerebellar\\_Hemisphere & 0.4907824 & 0.4936856 & 0.5137175 & 0.4787342 & 0.5205400 & 0.5430396 & 0.5219916 & 0.5379591 & 0.5338946 & 0.5076208 & 0.5219916 & 0.5379591 & 0.5338946 & 0.5076208\\\\\n",
       "\tBrain\\_Cerebellum & 0.5121604 & 0.5171432 & 0.5356507 & 0.4982797 & 0.5418199 & 0.5645984 & 0.5435995 & 0.5580733 & 0.5539210 & 0.5294816 & 0.5435995 & 0.5580733 & 0.5539210 & 0.5294816\\\\\n",
       "\tBrain\\_Cortex & 0.4902376 & 0.4913765 & 0.5091116 & 0.4668077 & 0.5169216 & 0.5398633 & 0.5135047 & 0.5344940 & 0.5307517 & 0.5043931 & 0.5135047 & 0.5344940 & 0.5307517 & 0.5043931\\\\\n",
       "\tBrain\\_Frontal\\_Cortex\\_BA9 & 0.4919387 & 0.4946913 & 0.5147464 & 0.4685411 & 0.5233976 & 0.5460087 & 0.5198584 & 0.5414864 & 0.5381439 & 0.5090444 & 0.5198584 & 0.5414864 & 0.5381439 & 0.5090444\\\\\n",
       "\tBrain\\_Hippocampus & 0.4570815 & 0.4601471 & 0.4816064 & 0.4429798 & 0.4892704 & 0.5141018 & 0.4862048 & 0.5110362 & 0.5070509 & 0.4776211 & 0.4862048 & 0.5110362 & 0.5070509 & 0.4776211\\\\\n",
       "\tBrain\\_Hypothalamus & 0.4410140 & 0.4462138 & 0.4598635 & 0.4192395 & 0.4679883 & 0.4913877 & 0.4670133 & 0.4871628 & 0.4826129 & 0.4510887 & 0.4670133 & 0.4871628 & 0.4826129 & 0.4510887\\\\\n",
       "\tBrain\\_Nucleus\\_accumbens\\_basal\\_ganglia & 0.4671747 & 0.4718640 & 0.4888628 & 0.4419695 & 0.4978507 & 0.5181712 & 0.4935522 & 0.5146542 & 0.5099648 & 0.4800703 & 0.4935522 & 0.5146542 & 0.5099648 & 0.4800703\\\\\n",
       "\tBrain\\_Putamen\\_basal\\_ganglia & 0.4774335 & 0.4815809 & 0.5047573 & 0.4566968 & 0.5113442 & 0.5293974 & 0.5037814 & 0.5298853 & 0.5262259 & 0.4984142 & 0.5037814 & 0.5298853 & 0.5262259 & 0.4984142\\\\\n",
       "\tBrain\\_Spinal\\_cord\\_cervical\\_c-1 & 0.4644478 & 0.4712557 & 0.4886536 & 0.4466717 & 0.4977307 & 0.5139939 & 0.4901664 & 0.5094554 & 0.5037821 & 0.4784418 & 0.4901664 & 0.5094554 & 0.5037821 & 0.4784418\\\\\n",
       "\tBrain\\_Substantia\\_nigra & 0.4427227 & 0.4499170 & 0.4692861 & 0.4277809 & 0.4786940 & 0.4986165 & 0.4676259 & 0.4869950 & 0.4903154 & 0.4620919 & 0.4676259 & 0.4869950 & 0.4903154 & 0.4620919\\\\\n",
       "\\end{tabular}\n"
      ],
      "text/markdown": [
       "\n",
       "| <!--/--> | FPP_D11 | P_FPP_D11 | FPP_D30 | DA_D30 | Sert_D30 | Epen1_D30 | DA_D52 | Sert_D52 | Epen1_D52 | Astro_D52 | DA_D52_ROT | Sert_D52_ROT | Epen1_D52_ROT | Astro_D52_ROT |\n",
       "|---|---|---|---|---|---|---|---|---|---|---|---|---|---|---|\n",
       "| Brain_Amygdala | 0.4540153 | 0.4567070 | 0.4706146 | 0.4333782 | 0.4827277 | 0.5015702 | 0.4786900 | 0.5002243 | 0.4957380 | 0.4688201 | 0.4786900 | 0.5002243 | 0.4957380 | 0.4688201 |\n",
       "| Brain_Anterior_cingulate_cortex_BA24 | 0.4786741 | 0.4823300 | 0.4993907 | 0.4582013 | 0.5076773 | 0.5266878 | 0.5062150 | 0.5276627 | 0.5205947 | 0.4925664 | 0.5062150 | 0.5276627 | 0.5205947 | 0.4925664 |\n",
       "| Brain_Caudate_basal_ganglia | 0.4743860 | 0.4796491 | 0.4977193 | 0.4535088 | 0.5061404 | 0.5271930 | 0.5015789 | 0.5212281 | 0.5217544 | 0.4938596 | 0.5015789 | 0.5212281 | 0.5217544 | 0.4938596 |\n",
       "| Brain_Cerebellar_Hemisphere | 0.4907824 | 0.4936856 | 0.5137175 | 0.4787342 | 0.5205400 | 0.5430396 | 0.5219916 | 0.5379591 | 0.5338946 | 0.5076208 | 0.5219916 | 0.5379591 | 0.5338946 | 0.5076208 |\n",
       "| Brain_Cerebellum | 0.5121604 | 0.5171432 | 0.5356507 | 0.4982797 | 0.5418199 | 0.5645984 | 0.5435995 | 0.5580733 | 0.5539210 | 0.5294816 | 0.5435995 | 0.5580733 | 0.5539210 | 0.5294816 |\n",
       "| Brain_Cortex | 0.4902376 | 0.4913765 | 0.5091116 | 0.4668077 | 0.5169216 | 0.5398633 | 0.5135047 | 0.5344940 | 0.5307517 | 0.5043931 | 0.5135047 | 0.5344940 | 0.5307517 | 0.5043931 |\n",
       "| Brain_Frontal_Cortex_BA9 | 0.4919387 | 0.4946913 | 0.5147464 | 0.4685411 | 0.5233976 | 0.5460087 | 0.5198584 | 0.5414864 | 0.5381439 | 0.5090444 | 0.5198584 | 0.5414864 | 0.5381439 | 0.5090444 |\n",
       "| Brain_Hippocampus | 0.4570815 | 0.4601471 | 0.4816064 | 0.4429798 | 0.4892704 | 0.5141018 | 0.4862048 | 0.5110362 | 0.5070509 | 0.4776211 | 0.4862048 | 0.5110362 | 0.5070509 | 0.4776211 |\n",
       "| Brain_Hypothalamus | 0.4410140 | 0.4462138 | 0.4598635 | 0.4192395 | 0.4679883 | 0.4913877 | 0.4670133 | 0.4871628 | 0.4826129 | 0.4510887 | 0.4670133 | 0.4871628 | 0.4826129 | 0.4510887 |\n",
       "| Brain_Nucleus_accumbens_basal_ganglia | 0.4671747 | 0.4718640 | 0.4888628 | 0.4419695 | 0.4978507 | 0.5181712 | 0.4935522 | 0.5146542 | 0.5099648 | 0.4800703 | 0.4935522 | 0.5146542 | 0.5099648 | 0.4800703 |\n",
       "| Brain_Putamen_basal_ganglia | 0.4774335 | 0.4815809 | 0.5047573 | 0.4566968 | 0.5113442 | 0.5293974 | 0.5037814 | 0.5298853 | 0.5262259 | 0.4984142 | 0.5037814 | 0.5298853 | 0.5262259 | 0.4984142 |\n",
       "| Brain_Spinal_cord_cervical_c-1 | 0.4644478 | 0.4712557 | 0.4886536 | 0.4466717 | 0.4977307 | 0.5139939 | 0.4901664 | 0.5094554 | 0.5037821 | 0.4784418 | 0.4901664 | 0.5094554 | 0.5037821 | 0.4784418 |\n",
       "| Brain_Substantia_nigra | 0.4427227 | 0.4499170 | 0.4692861 | 0.4277809 | 0.4786940 | 0.4986165 | 0.4676259 | 0.4869950 | 0.4903154 | 0.4620919 | 0.4676259 | 0.4869950 | 0.4903154 | 0.4620919 |\n",
       "\n"
      ],
      "text/plain": [
       "                                      FPP_D11   P_FPP_D11 FPP_D30   DA_D30   \n",
       "Brain_Amygdala                        0.4540153 0.4567070 0.4706146 0.4333782\n",
       "Brain_Anterior_cingulate_cortex_BA24  0.4786741 0.4823300 0.4993907 0.4582013\n",
       "Brain_Caudate_basal_ganglia           0.4743860 0.4796491 0.4977193 0.4535088\n",
       "Brain_Cerebellar_Hemisphere           0.4907824 0.4936856 0.5137175 0.4787342\n",
       "Brain_Cerebellum                      0.5121604 0.5171432 0.5356507 0.4982797\n",
       "Brain_Cortex                          0.4902376 0.4913765 0.5091116 0.4668077\n",
       "Brain_Frontal_Cortex_BA9              0.4919387 0.4946913 0.5147464 0.4685411\n",
       "Brain_Hippocampus                     0.4570815 0.4601471 0.4816064 0.4429798\n",
       "Brain_Hypothalamus                    0.4410140 0.4462138 0.4598635 0.4192395\n",
       "Brain_Nucleus_accumbens_basal_ganglia 0.4671747 0.4718640 0.4888628 0.4419695\n",
       "Brain_Putamen_basal_ganglia           0.4774335 0.4815809 0.5047573 0.4566968\n",
       "Brain_Spinal_cord_cervical_c-1        0.4644478 0.4712557 0.4886536 0.4466717\n",
       "Brain_Substantia_nigra                0.4427227 0.4499170 0.4692861 0.4277809\n",
       "                                      Sert_D30  Epen1_D30 DA_D52    Sert_D52 \n",
       "Brain_Amygdala                        0.4827277 0.5015702 0.4786900 0.5002243\n",
       "Brain_Anterior_cingulate_cortex_BA24  0.5076773 0.5266878 0.5062150 0.5276627\n",
       "Brain_Caudate_basal_ganglia           0.5061404 0.5271930 0.5015789 0.5212281\n",
       "Brain_Cerebellar_Hemisphere           0.5205400 0.5430396 0.5219916 0.5379591\n",
       "Brain_Cerebellum                      0.5418199 0.5645984 0.5435995 0.5580733\n",
       "Brain_Cortex                          0.5169216 0.5398633 0.5135047 0.5344940\n",
       "Brain_Frontal_Cortex_BA9              0.5233976 0.5460087 0.5198584 0.5414864\n",
       "Brain_Hippocampus                     0.4892704 0.5141018 0.4862048 0.5110362\n",
       "Brain_Hypothalamus                    0.4679883 0.4913877 0.4670133 0.4871628\n",
       "Brain_Nucleus_accumbens_basal_ganglia 0.4978507 0.5181712 0.4935522 0.5146542\n",
       "Brain_Putamen_basal_ganglia           0.5113442 0.5293974 0.5037814 0.5298853\n",
       "Brain_Spinal_cord_cervical_c-1        0.4977307 0.5139939 0.4901664 0.5094554\n",
       "Brain_Substantia_nigra                0.4786940 0.4986165 0.4676259 0.4869950\n",
       "                                      Epen1_D52 Astro_D52 DA_D52_ROT\n",
       "Brain_Amygdala                        0.4957380 0.4688201 0.4786900 \n",
       "Brain_Anterior_cingulate_cortex_BA24  0.5205947 0.4925664 0.5062150 \n",
       "Brain_Caudate_basal_ganglia           0.5217544 0.4938596 0.5015789 \n",
       "Brain_Cerebellar_Hemisphere           0.5338946 0.5076208 0.5219916 \n",
       "Brain_Cerebellum                      0.5539210 0.5294816 0.5435995 \n",
       "Brain_Cortex                          0.5307517 0.5043931 0.5135047 \n",
       "Brain_Frontal_Cortex_BA9              0.5381439 0.5090444 0.5198584 \n",
       "Brain_Hippocampus                     0.5070509 0.4776211 0.4862048 \n",
       "Brain_Hypothalamus                    0.4826129 0.4510887 0.4670133 \n",
       "Brain_Nucleus_accumbens_basal_ganglia 0.5099648 0.4800703 0.4935522 \n",
       "Brain_Putamen_basal_ganglia           0.5262259 0.4984142 0.5037814 \n",
       "Brain_Spinal_cord_cervical_c-1        0.5037821 0.4784418 0.4901664 \n",
       "Brain_Substantia_nigra                0.4903154 0.4620919 0.4676259 \n",
       "                                      Sert_D52_ROT Epen1_D52_ROT Astro_D52_ROT\n",
       "Brain_Amygdala                        0.5002243    0.4957380     0.4688201    \n",
       "Brain_Anterior_cingulate_cortex_BA24  0.5276627    0.5205947     0.4925664    \n",
       "Brain_Caudate_basal_ganglia           0.5212281    0.5217544     0.4938596    \n",
       "Brain_Cerebellar_Hemisphere           0.5379591    0.5338946     0.5076208    \n",
       "Brain_Cerebellum                      0.5580733    0.5539210     0.5294816    \n",
       "Brain_Cortex                          0.5344940    0.5307517     0.5043931    \n",
       "Brain_Frontal_Cortex_BA9              0.5414864    0.5381439     0.5090444    \n",
       "Brain_Hippocampus                     0.5110362    0.5070509     0.4776211    \n",
       "Brain_Hypothalamus                    0.4871628    0.4826129     0.4510887    \n",
       "Brain_Nucleus_accumbens_basal_ganglia 0.5146542    0.5099648     0.4800703    \n",
       "Brain_Putamen_basal_ganglia           0.5298853    0.5262259     0.4984142    \n",
       "Brain_Spinal_cord_cervical_c-1        0.5094554    0.5037821     0.4784418    \n",
       "Brain_Substantia_nigra                0.4869950    0.4903154     0.4620919    "
      ]
     },
     "metadata": {},
     "output_type": "display_data"
    }
   ],
   "source": [
    "mat"
   ]
  },
  {
   "cell_type": "code",
   "execution_count": 14,
   "metadata": {},
   "outputs": [
    {
     "data": {
      "text/html": [
       "<table>\n",
       "<thead><tr><th scope=col>CellType</th><th scope=col>Sharing</th></tr></thead>\n",
       "<tbody>\n",
       "\t<tr><td>FPP_D11  </td><td>0.4540153</td></tr>\n",
       "\t<tr><td>FPP_D11  </td><td>0.4786741</td></tr>\n",
       "</tbody>\n",
       "</table>\n"
      ],
      "text/latex": [
       "\\begin{tabular}{r|ll}\n",
       " CellType & Sharing\\\\\n",
       "\\hline\n",
       "\t FPP\\_D11 & 0.4540153\\\\\n",
       "\t FPP\\_D11 & 0.4786741\\\\\n",
       "\\end{tabular}\n"
      ],
      "text/markdown": [
       "\n",
       "| CellType | Sharing |\n",
       "|---|---|\n",
       "| FPP_D11   | 0.4540153 |\n",
       "| FPP_D11   | 0.4786741 |\n",
       "\n"
      ],
      "text/plain": [
       "  CellType Sharing  \n",
       "1 FPP_D11  0.4540153\n",
       "2 FPP_D11  0.4786741"
      ]
     },
     "metadata": {},
     "output_type": "display_data"
    }
   ],
   "source": [
    "options(repr.plot.width=8, repr.plot.height=6)\n",
    "df = as.data.frame(mat) %>% \n",
    "  gather(key=\"CellType\", value=\"Sharing\")\n",
    "\n",
    "head(df,2)"
   ]
  },
  {
   "cell_type": "code",
   "execution_count": 15,
   "metadata": {},
   "outputs": [],
   "source": [
    "col_FPP = \"#aec7e8\"\n",
    "col_P_FPP = \"#1f77b4\"\n",
    "col_NB = \"#ff7f0e\"\n",
    "\n",
    "col_DA = \"#2ca02c\"\n",
    "col_Sert = \"#98df8a\"\n",
    "col_Epen1 = \"#ff9896\"\n",
    "col_Astro = \"#9467bd\""
   ]
  },
  {
   "cell_type": "code",
   "execution_count": 16,
   "metadata": {},
   "outputs": [
    {
     "data": {
      "image/png": "[encoded data removed]",
      "text/plain": [
       "plot without title"
      ]
     },
     "metadata": {},
     "output_type": "display_data"
    }
   ],
   "source": [
    "options(repr.plot.width=10, repr.plot.height=6)\n",
    "ggplot(df,aes(x=factor(CellType, levels=eqtl_maps), \n",
    "              y=Sharing, \n",
    "              fill=factor(CellType, levels=eqtl_maps))) +  \n",
    "    geom_violin() + \n",
    "    geom_boxplot(width = 0.2) + scale_fill_manual(values = c(col_FPP,col_P_FPP,\n",
    "                            col_FPP,col_DA,col_Sert,col_Epen1,\n",
    "                            col_DA,col_Sert,col_Epen1,col_Astro,\n",
    "                            col_DA,col_Sert,col_Epen1,col_Astro))+ theme_classic() + \n",
    "                            theme(legend.position = \"none\", axis.text.x = element_text(angle = 90)) "
   ]
  },
  {
   "cell_type": "code",
   "execution_count": 17,
   "metadata": {},
   "outputs": [],
   "source": [
    "fig_dir = \"/hps/nobackup/stegle/users/acuomo/all_scripts/sc_neuroseq/figures/extended_figures/\""
   ]
  },
  {
   "cell_type": "code",
   "execution_count": 18,
   "metadata": {},
   "outputs": [
    {
     "data": {
      "text/html": [
       "<strong>png:</strong> 2"
      ],
      "text/latex": [
       "\\textbf{png:} 2"
      ],
      "text/markdown": [
       "**png:** 2"
      ],
      "text/plain": [
       "png \n",
       "  2 "
      ]
     },
     "metadata": {},
     "output_type": "display_data"
    }
   ],
   "source": [
    "pdf(paste0(fig_dir,\"Ext_Fig_8a.pdf\"), width=10, height=6)\n",
    "ggplot(df,aes(x=factor(CellType, levels=eqtl_maps), \n",
    "              y=Sharing, \n",
    "              fill=factor(CellType, levels=eqtl_maps))) +  \n",
    "    geom_violin() + \n",
    "    geom_boxplot(width = 0.2) + scale_fill_manual(values = c(col_FPP,col_P_FPP,\n",
    "                            col_FPP,col_DA,col_Sert,col_Epen1,\n",
    "                            col_DA,col_Sert,col_Epen1,col_Astro,\n",
    "                            col_DA,col_Sert,col_Epen1,col_Astro))+ theme_classic() + \n",
    "                            theme(legend.position = \"none\", axis.text.x = element_text(angle = 90)) \n",
    "dev.off()"
   ]
  },
  {
   "cell_type": "code",
   "execution_count": null,
   "metadata": {},
   "outputs": [],
   "source": []
  },
  {
   "cell_type": "code",
   "execution_count": 74,
   "metadata": {},
   "outputs": [],
   "source": [
    "write.csv(mat, \"/hps/nobackup/stegle/users/acuomo/all_scripts/sc_neuroseq/eqtl/gtex_brain_egenes_assessed_fraction.txt\")"
   ]
  },
  {
   "cell_type": "code",
   "execution_count": 75,
   "metadata": {},
   "outputs": [],
   "source": [
    "mat2 = mat"
   ]
  },
  {
   "cell_type": "code",
   "execution_count": 76,
   "metadata": {},
   "outputs": [],
   "source": [
    "i = 0\n",
    "for (brain_file in brain_files){\n",
    "    i = i+1\n",
    "    j = 0\n",
    "    df = read.csv(brain_file, sep =\"\\t\")\n",
    "    df$feature_id = gsub(\"\\\\..*\",\"\",df$gene_id)\n",
    "    df$snp_id = gsub(\"_b37\",\"\",df$variant_id)\n",
    "    df_sign = df[df$qval<0.05,]\n",
    "    egenes = unique(df_sign$feature_id)\n",
    "    for (neuro_file in neuro_files){\n",
    "        j = j+1\n",
    "        df0 = read.csv(neuro_file, sep = \"\\t\")\n",
    "        genes = unique(as.character(df0$feature_id))\n",
    "        mat2[i,j] = length(egenes[egenes %in% genes])  \n",
    "    }\n",
    "}"
   ]
  },
  {
   "cell_type": "code",
   "execution_count": 78,
   "metadata": {},
   "outputs": [
    {
     "data": {
      "text/html": [
       "<table>\n",
       "<thead><tr><th></th><th scope=col>FPP_D11</th><th scope=col>P_FPP_D11</th><th scope=col>FPP_D30</th><th scope=col>DA_D30</th><th scope=col>Sert_D30</th><th scope=col>Epen1_D30</th><th scope=col>DA_D52</th><th scope=col>Sert_D52</th><th scope=col>Epen1_D52</th><th scope=col>Astro_D52</th><th scope=col>DA_D52_ROT</th><th scope=col>Sert_D52_ROT</th><th scope=col>Epen1_D52_ROT</th><th scope=col>Astro_D52_ROT</th></tr></thead>\n",
       "<tbody>\n",
       "\t<tr><th scope=row>Brain_Amygdala</th><td>1012</td><td>1018</td><td>1049</td><td> 966</td><td>1076</td><td>1118</td><td>1067</td><td>1115</td><td>1105</td><td>1045</td><td>1067</td><td>1115</td><td>1105</td><td>1045</td></tr>\n",
       "\t<tr><th scope=row>Brain_Anterior_cingulate_cortex_BA24</th><td>1964</td><td>1979</td><td>2049</td><td>1880</td><td>2083</td><td>2161</td><td>2077</td><td>2165</td><td>2136</td><td>2021</td><td>2077</td><td>2165</td><td>2136</td><td>2021</td></tr>\n",
       "\t<tr><th scope=row>Brain_Caudate_basal_ganglia</th><td>2704</td><td>2734</td><td>2837</td><td>2585</td><td>2885</td><td>3005</td><td>2859</td><td>2971</td><td>2974</td><td>2815</td><td>2859</td><td>2971</td><td>2974</td><td>2815</td></tr>\n",
       "\t<tr><th scope=row>Brain_Cerebellar_Hemisphere</th><td>3381</td><td>3401</td><td>3539</td><td>3298</td><td>3586</td><td>3741</td><td>3596</td><td>3706</td><td>3678</td><td>3497</td><td>3596</td><td>3706</td><td>3678</td><td>3497</td></tr>\n",
       "\t<tr><th scope=row>Brain_Cerebellum</th><td>4317</td><td>4359</td><td>4515</td><td>4200</td><td>4567</td><td>4759</td><td>4582</td><td>4704</td><td>4669</td><td>4463</td><td>4582</td><td>4704</td><td>4669</td><td>4463</td></tr>\n",
       "\t<tr><th scope=row>Brain_Cortex</th><td>3013</td><td>3020</td><td>3129</td><td>2869</td><td>3177</td><td>3318</td><td>3156</td><td>3285</td><td>3262</td><td>3100</td><td>3156</td><td>3285</td><td>3262</td><td>3100</td></tr>\n",
       "\t<tr><th scope=row>Brain_Frontal_Cortex_BA9</th><td>2502</td><td>2516</td><td>2618</td><td>2383</td><td>2662</td><td>2777</td><td>2644</td><td>2754</td><td>2737</td><td>2589</td><td>2644</td><td>2754</td><td>2737</td><td>2589</td></tr>\n",
       "\t<tr><th scope=row>Brain_Hippocampus</th><td>1491</td><td>1501</td><td>1571</td><td>1445</td><td>1596</td><td>1677</td><td>1586</td><td>1667</td><td>1654</td><td>1558</td><td>1586</td><td>1667</td><td>1654</td><td>1558</td></tr>\n",
       "\t<tr><th scope=row>Brain_Hypothalamus</th><td>1357</td><td>1373</td><td>1415</td><td>1290</td><td>1440</td><td>1512</td><td>1437</td><td>1499</td><td>1485</td><td>1388</td><td>1437</td><td>1499</td><td>1485</td><td>1388</td></tr>\n",
       "\t<tr><th scope=row>Brain_Nucleus_accumbens_basal_ganglia</th><td>2391</td><td>2415</td><td>2502</td><td>2262</td><td>2548</td><td>2652</td><td>2526</td><td>2634</td><td>2610</td><td>2457</td><td>2526</td><td>2634</td><td>2610</td><td>2457</td></tr>\n",
       "\t<tr><th scope=row>Brain_Putamen_basal_ganglia</th><td>1957</td><td>1974</td><td>2069</td><td>1872</td><td>2096</td><td>2170</td><td>2065</td><td>2172</td><td>2157</td><td>2043</td><td>2065</td><td>2172</td><td>2157</td><td>2043</td></tr>\n",
       "\t<tr><th scope=row>Brain_Spinal_cord_cervical_c-1</th><td>1228</td><td>1246</td><td>1292</td><td>1181</td><td>1316</td><td>1359</td><td>1296</td><td>1347</td><td>1332</td><td>1265</td><td>1296</td><td>1347</td><td>1332</td><td>1265</td></tr>\n",
       "\t<tr><th scope=row>Brain_Substantia_nigra</th><td> 800</td><td> 813</td><td> 848</td><td> 773</td><td> 865</td><td> 901</td><td> 845</td><td> 880</td><td> 886</td><td> 835</td><td> 845</td><td> 880</td><td> 886</td><td> 835</td></tr>\n",
       "</tbody>\n",
       "</table>\n"
      ],
      "text/latex": [
       "\\begin{tabular}{r|llllllllllllll}\n",
       "  & FPP\\_D11 & P\\_FPP\\_D11 & FPP\\_D30 & DA\\_D30 & Sert\\_D30 & Epen1\\_D30 & DA\\_D52 & Sert\\_D52 & Epen1\\_D52 & Astro\\_D52 & DA\\_D52\\_ROT & Sert\\_D52\\_ROT & Epen1\\_D52\\_ROT & Astro\\_D52\\_ROT\\\\\n",
       "\\hline\n",
       "\tBrain\\_Amygdala & 1012 & 1018 & 1049 &  966 & 1076 & 1118 & 1067 & 1115 & 1105 & 1045 & 1067 & 1115 & 1105 & 1045\\\\\n",
       "\tBrain\\_Anterior\\_cingulate\\_cortex\\_BA24 & 1964 & 1979 & 2049 & 1880 & 2083 & 2161 & 2077 & 2165 & 2136 & 2021 & 2077 & 2165 & 2136 & 2021\\\\\n",
       "\tBrain\\_Caudate\\_basal\\_ganglia & 2704 & 2734 & 2837 & 2585 & 2885 & 3005 & 2859 & 2971 & 2974 & 2815 & 2859 & 2971 & 2974 & 2815\\\\\n",
       "\tBrain\\_Cerebellar\\_Hemisphere & 3381 & 3401 & 3539 & 3298 & 3586 & 3741 & 3596 & 3706 & 3678 & 3497 & 3596 & 3706 & 3678 & 3497\\\\\n",
       "\tBrain\\_Cerebellum & 4317 & 4359 & 4515 & 4200 & 4567 & 4759 & 4582 & 4704 & 4669 & 4463 & 4582 & 4704 & 4669 & 4463\\\\\n",
       "\tBrain\\_Cortex & 3013 & 3020 & 3129 & 2869 & 3177 & 3318 & 3156 & 3285 & 3262 & 3100 & 3156 & 3285 & 3262 & 3100\\\\\n",
       "\tBrain\\_Frontal\\_Cortex\\_BA9 & 2502 & 2516 & 2618 & 2383 & 2662 & 2777 & 2644 & 2754 & 2737 & 2589 & 2644 & 2754 & 2737 & 2589\\\\\n",
       "\tBrain\\_Hippocampus & 1491 & 1501 & 1571 & 1445 & 1596 & 1677 & 1586 & 1667 & 1654 & 1558 & 1586 & 1667 & 1654 & 1558\\\\\n",
       "\tBrain\\_Hypothalamus & 1357 & 1373 & 1415 & 1290 & 1440 & 1512 & 1437 & 1499 & 1485 & 1388 & 1437 & 1499 & 1485 & 1388\\\\\n",
       "\tBrain\\_Nucleus\\_accumbens\\_basal\\_ganglia & 2391 & 2415 & 2502 & 2262 & 2548 & 2652 & 2526 & 2634 & 2610 & 2457 & 2526 & 2634 & 2610 & 2457\\\\\n",
       "\tBrain\\_Putamen\\_basal\\_ganglia & 1957 & 1974 & 2069 & 1872 & 2096 & 2170 & 2065 & 2172 & 2157 & 2043 & 2065 & 2172 & 2157 & 2043\\\\\n",
       "\tBrain\\_Spinal\\_cord\\_cervical\\_c-1 & 1228 & 1246 & 1292 & 1181 & 1316 & 1359 & 1296 & 1347 & 1332 & 1265 & 1296 & 1347 & 1332 & 1265\\\\\n",
       "\tBrain\\_Substantia\\_nigra &  800 &  813 &  848 &  773 &  865 &  901 &  845 &  880 &  886 &  835 &  845 &  880 &  886 &  835\\\\\n",
       "\\end{tabular}\n"
      ],
      "text/markdown": [
       "\n",
       "| <!--/--> | FPP_D11 | P_FPP_D11 | FPP_D30 | DA_D30 | Sert_D30 | Epen1_D30 | DA_D52 | Sert_D52 | Epen1_D52 | Astro_D52 | DA_D52_ROT | Sert_D52_ROT | Epen1_D52_ROT | Astro_D52_ROT |\n",
       "|---|---|---|---|---|---|---|---|---|---|---|---|---|---|---|\n",
       "| Brain_Amygdala | 1012 | 1018 | 1049 |  966 | 1076 | 1118 | 1067 | 1115 | 1105 | 1045 | 1067 | 1115 | 1105 | 1045 |\n",
       "| Brain_Anterior_cingulate_cortex_BA24 | 1964 | 1979 | 2049 | 1880 | 2083 | 2161 | 2077 | 2165 | 2136 | 2021 | 2077 | 2165 | 2136 | 2021 |\n",
       "| Brain_Caudate_basal_ganglia | 2704 | 2734 | 2837 | 2585 | 2885 | 3005 | 2859 | 2971 | 2974 | 2815 | 2859 | 2971 | 2974 | 2815 |\n",
       "| Brain_Cerebellar_Hemisphere | 3381 | 3401 | 3539 | 3298 | 3586 | 3741 | 3596 | 3706 | 3678 | 3497 | 3596 | 3706 | 3678 | 3497 |\n",
       "| Brain_Cerebellum | 4317 | 4359 | 4515 | 4200 | 4567 | 4759 | 4582 | 4704 | 4669 | 4463 | 4582 | 4704 | 4669 | 4463 |\n",
       "| Brain_Cortex | 3013 | 3020 | 3129 | 2869 | 3177 | 3318 | 3156 | 3285 | 3262 | 3100 | 3156 | 3285 | 3262 | 3100 |\n",
       "| Brain_Frontal_Cortex_BA9 | 2502 | 2516 | 2618 | 2383 | 2662 | 2777 | 2644 | 2754 | 2737 | 2589 | 2644 | 2754 | 2737 | 2589 |\n",
       "| Brain_Hippocampus | 1491 | 1501 | 1571 | 1445 | 1596 | 1677 | 1586 | 1667 | 1654 | 1558 | 1586 | 1667 | 1654 | 1558 |\n",
       "| Brain_Hypothalamus | 1357 | 1373 | 1415 | 1290 | 1440 | 1512 | 1437 | 1499 | 1485 | 1388 | 1437 | 1499 | 1485 | 1388 |\n",
       "| Brain_Nucleus_accumbens_basal_ganglia | 2391 | 2415 | 2502 | 2262 | 2548 | 2652 | 2526 | 2634 | 2610 | 2457 | 2526 | 2634 | 2610 | 2457 |\n",
       "| Brain_Putamen_basal_ganglia | 1957 | 1974 | 2069 | 1872 | 2096 | 2170 | 2065 | 2172 | 2157 | 2043 | 2065 | 2172 | 2157 | 2043 |\n",
       "| Brain_Spinal_cord_cervical_c-1 | 1228 | 1246 | 1292 | 1181 | 1316 | 1359 | 1296 | 1347 | 1332 | 1265 | 1296 | 1347 | 1332 | 1265 |\n",
       "| Brain_Substantia_nigra |  800 |  813 |  848 |  773 |  865 |  901 |  845 |  880 |  886 |  835 |  845 |  880 |  886 |  835 |\n",
       "\n"
      ],
      "text/plain": [
       "                                      FPP_D11 P_FPP_D11 FPP_D30 DA_D30 Sert_D30\n",
       "Brain_Amygdala                        1012    1018      1049     966   1076    \n",
       "Brain_Anterior_cingulate_cortex_BA24  1964    1979      2049    1880   2083    \n",
       "Brain_Caudate_basal_ganglia           2704    2734      2837    2585   2885    \n",
       "Brain_Cerebellar_Hemisphere           3381    3401      3539    3298   3586    \n",
       "Brain_Cerebellum                      4317    4359      4515    4200   4567    \n",
       "Brain_Cortex                          3013    3020      3129    2869   3177    \n",
       "Brain_Frontal_Cortex_BA9              2502    2516      2618    2383   2662    \n",
       "Brain_Hippocampus                     1491    1501      1571    1445   1596    \n",
       "Brain_Hypothalamus                    1357    1373      1415    1290   1440    \n",
       "Brain_Nucleus_accumbens_basal_ganglia 2391    2415      2502    2262   2548    \n",
       "Brain_Putamen_basal_ganglia           1957    1974      2069    1872   2096    \n",
       "Brain_Spinal_cord_cervical_c-1        1228    1246      1292    1181   1316    \n",
       "Brain_Substantia_nigra                 800     813       848     773    865    \n",
       "                                      Epen1_D30 DA_D52 Sert_D52 Epen1_D52\n",
       "Brain_Amygdala                        1118      1067   1115     1105     \n",
       "Brain_Anterior_cingulate_cortex_BA24  2161      2077   2165     2136     \n",
       "Brain_Caudate_basal_ganglia           3005      2859   2971     2974     \n",
       "Brain_Cerebellar_Hemisphere           3741      3596   3706     3678     \n",
       "Brain_Cerebellum                      4759      4582   4704     4669     \n",
       "Brain_Cortex                          3318      3156   3285     3262     \n",
       "Brain_Frontal_Cortex_BA9              2777      2644   2754     2737     \n",
       "Brain_Hippocampus                     1677      1586   1667     1654     \n",
       "Brain_Hypothalamus                    1512      1437   1499     1485     \n",
       "Brain_Nucleus_accumbens_basal_ganglia 2652      2526   2634     2610     \n",
       "Brain_Putamen_basal_ganglia           2170      2065   2172     2157     \n",
       "Brain_Spinal_cord_cervical_c-1        1359      1296   1347     1332     \n",
       "Brain_Substantia_nigra                 901       845    880      886     \n",
       "                                      Astro_D52 DA_D52_ROT Sert_D52_ROT\n",
       "Brain_Amygdala                        1045      1067       1115        \n",
       "Brain_Anterior_cingulate_cortex_BA24  2021      2077       2165        \n",
       "Brain_Caudate_basal_ganglia           2815      2859       2971        \n",
       "Brain_Cerebellar_Hemisphere           3497      3596       3706        \n",
       "Brain_Cerebellum                      4463      4582       4704        \n",
       "Brain_Cortex                          3100      3156       3285        \n",
       "Brain_Frontal_Cortex_BA9              2589      2644       2754        \n",
       "Brain_Hippocampus                     1558      1586       1667        \n",
       "Brain_Hypothalamus                    1388      1437       1499        \n",
       "Brain_Nucleus_accumbens_basal_ganglia 2457      2526       2634        \n",
       "Brain_Putamen_basal_ganglia           2043      2065       2172        \n",
       "Brain_Spinal_cord_cervical_c-1        1265      1296       1347        \n",
       "Brain_Substantia_nigra                 835       845        880        \n",
       "                                      Epen1_D52_ROT Astro_D52_ROT\n",
       "Brain_Amygdala                        1105          1045         \n",
       "Brain_Anterior_cingulate_cortex_BA24  2136          2021         \n",
       "Brain_Caudate_basal_ganglia           2974          2815         \n",
       "Brain_Cerebellar_Hemisphere           3678          3497         \n",
       "Brain_Cerebellum                      4669          4463         \n",
       "Brain_Cortex                          3262          3100         \n",
       "Brain_Frontal_Cortex_BA9              2737          2589         \n",
       "Brain_Hippocampus                     1654          1558         \n",
       "Brain_Hypothalamus                    1485          1388         \n",
       "Brain_Nucleus_accumbens_basal_ganglia 2610          2457         \n",
       "Brain_Putamen_basal_ganglia           2157          2043         \n",
       "Brain_Spinal_cord_cervical_c-1        1332          1265         \n",
       "Brain_Substantia_nigra                 886           835         "
      ]
     },
     "metadata": {},
     "output_type": "display_data"
    }
   ],
   "source": [
    "mat2"
   ]
  },
  {
   "cell_type": "code",
   "execution_count": 79,
   "metadata": {},
   "outputs": [],
   "source": [
    "write.csv(mat2, \"/hps/nobackup/stegle/users/acuomo/all_scripts/sc_neuroseq/eqtl/gtex_brain_egenes_assessed.txt\")"
   ]
  },
  {
   "cell_type": "code",
   "execution_count": null,
   "metadata": {},
   "outputs": [],
   "source": []
  }
 ],
 "metadata": {
  "kernelspec": {
   "display_name": "R",
   "language": "R",
   "name": "ir"
  },
  "language_info": {
   "codemirror_mode": "r",
   "file_extension": ".r",
   "mimetype": "text/x-r-source",
   "name": "R",
   "pygments_lexer": "r",
   "version": "3.6.1"
  }
 },
 "nbformat": 4,
 "nbformat_minor": 4
}
