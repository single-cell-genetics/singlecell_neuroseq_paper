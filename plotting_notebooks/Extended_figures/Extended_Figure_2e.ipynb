{
 "cells": [
  {
   "cell_type": "code",
   "execution_count": 1,
   "metadata": {},
   "outputs": [
    {
     "name": "stderr",
     "output_type": "stream",
     "text": [
      "\n",
      "Attaching package: ‘dplyr’\n",
      "\n",
      "The following objects are masked from ‘package:stats’:\n",
      "\n",
      "    filter, lag\n",
      "\n",
      "The following objects are masked from ‘package:base’:\n",
      "\n",
      "    intersect, setdiff, setequal, union\n",
      "\n"
     ]
    }
   ],
   "source": [
    "library(dplyr)\n",
    "library(ggplot2)"
   ]
  },
  {
   "cell_type": "code",
   "execution_count": 2,
   "metadata": {},
   "outputs": [],
   "source": [
    "mydir = \"/nfs/leia/research/stegle/dseaton/hipsci/singlecell_neuroseq/\""
   ]
  },
  {
   "cell_type": "code",
   "execution_count": 3,
   "metadata": {},
   "outputs": [],
   "source": [
    "f_out_file = paste0(mydir,'data/analysis_results/20200103_data_freeze/differentiation_trajectories/cell_fractions.all_timepoints.all_complete_trajectories.tsv')\n",
    "pca_out_file = paste0(mydir,'data/analysis_results/20200103_data_freeze/differentiation_trajectories/cell_fractions.all_timepoints.all_complete_trajectories.PCA.tsv')"
   ]
  },
  {
   "cell_type": "code",
   "execution_count": 4,
   "metadata": {},
   "outputs": [
    {
     "data": {
      "text/html": [
       "<table>\n",
       "<thead><tr><th scope=col>donor_id</th><th scope=col>pool_id</th><th scope=col>FPP_D11</th><th scope=col>NB_D11</th><th scope=col>P_FPP_D11</th><th scope=col>Astro_D30</th><th scope=col>CHem_D30</th><th scope=col>DA_D30</th><th scope=col>Epen1_D30</th><th scope=col>P_FPP_D30</th><th scope=col>...</th><th scope=col>Astro_D52</th><th scope=col>CHem_D52</th><th scope=col>DA_D52</th><th scope=col>Epen1_D52</th><th scope=col>Epen2_D52</th><th scope=col>FPP_D52</th><th scope=col>P_FPP_D52</th><th scope=col>P_Sert_D52</th><th scope=col>Sert_D52</th><th scope=col>unknown_D52</th></tr></thead>\n",
       "<tbody>\n",
       "\t<tr><td>HPSI0114i-eipl_1</td><td>pool1           </td><td>0.5364132       </td><td>0.073147257     </td><td>0.3904395       </td><td>0.29834041      </td><td>0.333461984     </td><td>0.01968352      </td><td>0.253570050     </td><td>0.04438441      </td><td>...             </td><td>0.511933680     </td><td>0.0904569115    </td><td>0.009562367     </td><td>0.138153075     </td><td>0.0030846347    </td><td>0.15789474      </td><td>0.079699248     </td><td>0.0001927897    </td><td>0.003315982     </td><td>0.005706574     </td></tr>\n",
       "\t<tr><td>HPSI0114i-wegi_1</td><td>pool6           </td><td>0.5504220       </td><td>0.000000000     </td><td>0.4495780       </td><td>0.13830558      </td><td>0.005068791     </td><td>0.10137581      </td><td>0.006154960     </td><td>0.09956553      </td><td>...             </td><td>0.001728111     </td><td>0.0008640553    </td><td>0.047235023     </td><td>0.007200461     </td><td>0.0002880184    </td><td>0.04781106      </td><td>0.002016129     </td><td>0.0025921659    </td><td>0.861463134     </td><td>0.028801843     </td></tr>\n",
       "\t<tr><td>HPSI0114i-wegi_1</td><td>pool7           </td><td>0.6711111       </td><td>0.004444444     </td><td>0.3244444       </td><td>0.05024311      </td><td>0.000000000     </td><td>0.52350081      </td><td>0.001620746     </td><td>0.03403566      </td><td>...             </td><td>0.017612524     </td><td>0.0000000000    </td><td>0.592954990     </td><td>0.000000000     </td><td>0.0000000000    </td><td>0.01174168      </td><td>0.000000000     </td><td>0.0000000000    </td><td>0.293542074     </td><td>0.084148728     </td></tr>\n",
       "\t<tr><td>HPSI0115i-aion_2</td><td>pool4           </td><td>0.5584594       </td><td>0.002751032     </td><td>0.4387895       </td><td>0.10604192      </td><td>0.012330456     </td><td>0.55240444      </td><td>0.054254007     </td><td>0.02589396      </td><td>...             </td><td>0.005176877     </td><td>0.0155306299    </td><td>0.313201035     </td><td>0.149266609     </td><td>0.0034512511    </td><td>0.08541846      </td><td>0.010353753     </td><td>0.0086281277    </td><td>0.398619500     </td><td>0.010353753     </td></tr>\n",
       "\t<tr><td>HPSI0115i-aoxv_1</td><td>pool8           </td><td>0.5391786       </td><td>0.030585494     </td><td>0.4302359       </td><td>0.37200918      </td><td>0.072763029     </td><td>0.08423468      </td><td>0.298590626     </td><td>0.04949197      </td><td>...             </td><td>0.025941631     </td><td>0.0486405587    </td><td>0.081317037     </td><td>0.534048391     </td><td>0.0177101522    </td><td>0.10850586      </td><td>0.022948366     </td><td>0.0049887753    </td><td>0.139935146     </td><td>0.015964081     </td></tr>\n",
       "\t<tr><td>HPSI0115i-bimq_4</td><td>pool4           </td><td>0.5390750       </td><td>0.132376396     </td><td>0.3285486       </td><td>0.36225895      </td><td>0.192837466     </td><td>0.18181818      </td><td>0.148760331     </td><td>0.07162534      </td><td>...             </td><td>0.361293346     </td><td>0.1030927835    </td><td>0.052014995     </td><td>0.156513590     </td><td>0.0023430178    </td><td>0.17619494      </td><td>0.108247423     </td><td>0.0000000000    </td><td>0.035613871     </td><td>0.004686036     </td></tr>\n",
       "</tbody>\n",
       "</table>\n"
      ],
      "text/latex": [
       "\\begin{tabular}{r|llllllllllllllllllllll}\n",
       " donor\\_id & pool\\_id & FPP\\_D11 & NB\\_D11 & P\\_FPP\\_D11 & Astro\\_D30 & CHem\\_D30 & DA\\_D30 & Epen1\\_D30 & P\\_FPP\\_D30 & ... & Astro\\_D52 & CHem\\_D52 & DA\\_D52 & Epen1\\_D52 & Epen2\\_D52 & FPP\\_D52 & P\\_FPP\\_D52 & P\\_Sert\\_D52 & Sert\\_D52 & unknown\\_D52\\\\\n",
       "\\hline\n",
       "\t HPSI0114i-eipl\\_1 & pool1              & 0.5364132          & 0.073147257        & 0.3904395          & 0.29834041         & 0.333461984        & 0.01968352         & 0.253570050        & 0.04438441         & ...                & 0.511933680        & 0.0904569115       & 0.009562367        & 0.138153075        & 0.0030846347       & 0.15789474         & 0.079699248        & 0.0001927897       & 0.003315982        & 0.005706574       \\\\\n",
       "\t HPSI0114i-wegi\\_1 & pool6              & 0.5504220          & 0.000000000        & 0.4495780          & 0.13830558         & 0.005068791        & 0.10137581         & 0.006154960        & 0.09956553         & ...                & 0.001728111        & 0.0008640553       & 0.047235023        & 0.007200461        & 0.0002880184       & 0.04781106         & 0.002016129        & 0.0025921659       & 0.861463134        & 0.028801843       \\\\\n",
       "\t HPSI0114i-wegi\\_1 & pool7              & 0.6711111          & 0.004444444        & 0.3244444          & 0.05024311         & 0.000000000        & 0.52350081         & 0.001620746        & 0.03403566         & ...                & 0.017612524        & 0.0000000000       & 0.592954990        & 0.000000000        & 0.0000000000       & 0.01174168         & 0.000000000        & 0.0000000000       & 0.293542074        & 0.084148728       \\\\\n",
       "\t HPSI0115i-aion\\_2 & pool4              & 0.5584594          & 0.002751032        & 0.4387895          & 0.10604192         & 0.012330456        & 0.55240444         & 0.054254007        & 0.02589396         & ...                & 0.005176877        & 0.0155306299       & 0.313201035        & 0.149266609        & 0.0034512511       & 0.08541846         & 0.010353753        & 0.0086281277       & 0.398619500        & 0.010353753       \\\\\n",
       "\t HPSI0115i-aoxv\\_1 & pool8              & 0.5391786          & 0.030585494        & 0.4302359          & 0.37200918         & 0.072763029        & 0.08423468         & 0.298590626        & 0.04949197         & ...                & 0.025941631        & 0.0486405587       & 0.081317037        & 0.534048391        & 0.0177101522       & 0.10850586         & 0.022948366        & 0.0049887753       & 0.139935146        & 0.015964081       \\\\\n",
       "\t HPSI0115i-bimq\\_4 & pool4              & 0.5390750          & 0.132376396        & 0.3285486          & 0.36225895         & 0.192837466        & 0.18181818         & 0.148760331        & 0.07162534         & ...                & 0.361293346        & 0.1030927835       & 0.052014995        & 0.156513590        & 0.0023430178       & 0.17619494         & 0.108247423        & 0.0000000000       & 0.035613871        & 0.004686036       \\\\\n",
       "\\end{tabular}\n"
      ],
      "text/markdown": [
       "\n",
       "| donor_id | pool_id | FPP_D11 | NB_D11 | P_FPP_D11 | Astro_D30 | CHem_D30 | DA_D30 | Epen1_D30 | P_FPP_D30 | ... | Astro_D52 | CHem_D52 | DA_D52 | Epen1_D52 | Epen2_D52 | FPP_D52 | P_FPP_D52 | P_Sert_D52 | Sert_D52 | unknown_D52 |\n",
       "|---|---|---|---|---|---|---|---|---|---|---|---|---|---|---|---|---|---|---|---|---|\n",
       "| HPSI0114i-eipl_1 | pool1            | 0.5364132        | 0.073147257      | 0.3904395        | 0.29834041       | 0.333461984      | 0.01968352       | 0.253570050      | 0.04438441       | ...              | 0.511933680      | 0.0904569115     | 0.009562367      | 0.138153075      | 0.0030846347     | 0.15789474       | 0.079699248      | 0.0001927897     | 0.003315982      | 0.005706574      |\n",
       "| HPSI0114i-wegi_1 | pool6            | 0.5504220        | 0.000000000      | 0.4495780        | 0.13830558       | 0.005068791      | 0.10137581       | 0.006154960      | 0.09956553       | ...              | 0.001728111      | 0.0008640553     | 0.047235023      | 0.007200461      | 0.0002880184     | 0.04781106       | 0.002016129      | 0.0025921659     | 0.861463134      | 0.028801843      |\n",
       "| HPSI0114i-wegi_1 | pool7            | 0.6711111        | 0.004444444      | 0.3244444        | 0.05024311       | 0.000000000      | 0.52350081       | 0.001620746      | 0.03403566       | ...              | 0.017612524      | 0.0000000000     | 0.592954990      | 0.000000000      | 0.0000000000     | 0.01174168       | 0.000000000      | 0.0000000000     | 0.293542074      | 0.084148728      |\n",
       "| HPSI0115i-aion_2 | pool4            | 0.5584594        | 0.002751032      | 0.4387895        | 0.10604192       | 0.012330456      | 0.55240444       | 0.054254007      | 0.02589396       | ...              | 0.005176877      | 0.0155306299     | 0.313201035      | 0.149266609      | 0.0034512511     | 0.08541846       | 0.010353753      | 0.0086281277     | 0.398619500      | 0.010353753      |\n",
       "| HPSI0115i-aoxv_1 | pool8            | 0.5391786        | 0.030585494      | 0.4302359        | 0.37200918       | 0.072763029      | 0.08423468       | 0.298590626      | 0.04949197       | ...              | 0.025941631      | 0.0486405587     | 0.081317037      | 0.534048391      | 0.0177101522     | 0.10850586       | 0.022948366      | 0.0049887753     | 0.139935146      | 0.015964081      |\n",
       "| HPSI0115i-bimq_4 | pool4            | 0.5390750        | 0.132376396      | 0.3285486        | 0.36225895       | 0.192837466      | 0.18181818       | 0.148760331      | 0.07162534       | ...              | 0.361293346      | 0.1030927835     | 0.052014995      | 0.156513590      | 0.0023430178     | 0.17619494       | 0.108247423      | 0.0000000000     | 0.035613871      | 0.004686036      |\n",
       "\n"
      ],
      "text/plain": [
       "  donor_id         pool_id FPP_D11   NB_D11      P_FPP_D11 Astro_D30 \n",
       "1 HPSI0114i-eipl_1 pool1   0.5364132 0.073147257 0.3904395 0.29834041\n",
       "2 HPSI0114i-wegi_1 pool6   0.5504220 0.000000000 0.4495780 0.13830558\n",
       "3 HPSI0114i-wegi_1 pool7   0.6711111 0.004444444 0.3244444 0.05024311\n",
       "4 HPSI0115i-aion_2 pool4   0.5584594 0.002751032 0.4387895 0.10604192\n",
       "5 HPSI0115i-aoxv_1 pool8   0.5391786 0.030585494 0.4302359 0.37200918\n",
       "6 HPSI0115i-bimq_4 pool4   0.5390750 0.132376396 0.3285486 0.36225895\n",
       "  CHem_D30    DA_D30     Epen1_D30   P_FPP_D30  ... Astro_D52   CHem_D52    \n",
       "1 0.333461984 0.01968352 0.253570050 0.04438441 ... 0.511933680 0.0904569115\n",
       "2 0.005068791 0.10137581 0.006154960 0.09956553 ... 0.001728111 0.0008640553\n",
       "3 0.000000000 0.52350081 0.001620746 0.03403566 ... 0.017612524 0.0000000000\n",
       "4 0.012330456 0.55240444 0.054254007 0.02589396 ... 0.005176877 0.0155306299\n",
       "5 0.072763029 0.08423468 0.298590626 0.04949197 ... 0.025941631 0.0486405587\n",
       "6 0.192837466 0.18181818 0.148760331 0.07162534 ... 0.361293346 0.1030927835\n",
       "  DA_D52      Epen1_D52   Epen2_D52    FPP_D52    P_FPP_D52   P_Sert_D52  \n",
       "1 0.009562367 0.138153075 0.0030846347 0.15789474 0.079699248 0.0001927897\n",
       "2 0.047235023 0.007200461 0.0002880184 0.04781106 0.002016129 0.0025921659\n",
       "3 0.592954990 0.000000000 0.0000000000 0.01174168 0.000000000 0.0000000000\n",
       "4 0.313201035 0.149266609 0.0034512511 0.08541846 0.010353753 0.0086281277\n",
       "5 0.081317037 0.534048391 0.0177101522 0.10850586 0.022948366 0.0049887753\n",
       "6 0.052014995 0.156513590 0.0023430178 0.17619494 0.108247423 0.0000000000\n",
       "  Sert_D52    unknown_D52\n",
       "1 0.003315982 0.005706574\n",
       "2 0.861463134 0.028801843\n",
       "3 0.293542074 0.084148728\n",
       "4 0.398619500 0.010353753\n",
       "5 0.139935146 0.015964081\n",
       "6 0.035613871 0.004686036"
      ]
     },
     "metadata": {},
     "output_type": "display_data"
    }
   ],
   "source": [
    "df_prop = read.csv(f_out_file, sep = \"\\t\")\n",
    "head(df_prop)"
   ]
  },
  {
   "cell_type": "code",
   "execution_count": 5,
   "metadata": {},
   "outputs": [
    {
     "data": {
      "text/html": [
       "<table>\n",
       "<thead><tr><th scope=col>donor_id</th><th scope=col>pool_id</th><th scope=col>PC1</th><th scope=col>PC2</th><th scope=col>PC3</th><th scope=col>PC4</th><th scope=col>PC5</th><th scope=col>PC6</th><th scope=col>PC7</th><th scope=col>PC8</th><th scope=col>PC9</th><th scope=col>PC10</th></tr></thead>\n",
       "<tbody>\n",
       "\t<tr><td>HPSI0114i-eipl_1</td><td>pool1           </td><td> 0.5677167      </td><td>-0.01367960     </td><td> 0.39233382     </td><td> 0.009068288    </td><td>-0.033492469    </td><td>-0.08485208     </td><td>-0.01546020     </td><td>-0.053418757    </td><td> 0.041803885    </td><td>-0.043790191    </td></tr>\n",
       "\t<tr><td>HPSI0114i-wegi_1</td><td>pool6           </td><td>-0.4914857      </td><td>-0.65860144     </td><td> 0.10461253     </td><td> 0.009256117    </td><td> 0.009257946    </td><td> 0.01751410     </td><td>-0.05641375     </td><td> 0.052746274    </td><td>-0.008646654    </td><td> 0.015523836    </td></tr>\n",
       "\t<tr><td>HPSI0114i-wegi_1</td><td>pool7           </td><td>-0.4626597      </td><td> 0.24577121     </td><td> 0.06143014     </td><td>-0.186339252    </td><td>-0.079454519    </td><td> 0.11464528     </td><td>-0.20945720     </td><td>-0.027912701    </td><td>-0.070024954    </td><td> 0.036489114    </td></tr>\n",
       "\t<tr><td>HPSI0115i-aion_2</td><td>pool4           </td><td>-0.3213558      </td><td> 0.12003841     </td><td>-0.05276415     </td><td>-0.029334965    </td><td>-0.050232778    </td><td> 0.01073035     </td><td> 0.06192593     </td><td> 0.030122622    </td><td> 0.027519550    </td><td>-0.009384255    </td></tr>\n",
       "\t<tr><td>HPSI0115i-aoxv_1</td><td>pool8           </td><td> 0.3974012      </td><td>-0.12324291     </td><td>-0.27707915     </td><td> 0.002604215    </td><td>-0.038938741    </td><td> 0.03454042     </td><td>-0.04181556     </td><td>-0.004850481    </td><td> 0.022924765    </td><td>-0.042832670    </td></tr>\n",
       "\t<tr><td>HPSI0115i-bimq_4</td><td>pool4           </td><td> 0.4212096      </td><td> 0.05948631     </td><td> 0.26125499     </td><td>-0.050445552    </td><td> 0.044168521    </td><td>-0.05980972     </td><td> 0.02712366     </td><td> 0.048732804    </td><td> 0.004741356    </td><td> 0.028764518    </td></tr>\n",
       "</tbody>\n",
       "</table>\n"
      ],
      "text/latex": [
       "\\begin{tabular}{r|llllllllllll}\n",
       " donor\\_id & pool\\_id & PC1 & PC2 & PC3 & PC4 & PC5 & PC6 & PC7 & PC8 & PC9 & PC10\\\\\n",
       "\\hline\n",
       "\t HPSI0114i-eipl\\_1 & pool1              &  0.5677167         & -0.01367960        &  0.39233382        &  0.009068288       & -0.033492469       & -0.08485208        & -0.01546020        & -0.053418757       &  0.041803885       & -0.043790191      \\\\\n",
       "\t HPSI0114i-wegi\\_1 & pool6              & -0.4914857         & -0.65860144        &  0.10461253        &  0.009256117       &  0.009257946       &  0.01751410        & -0.05641375        &  0.052746274       & -0.008646654       &  0.015523836      \\\\\n",
       "\t HPSI0114i-wegi\\_1 & pool7              & -0.4626597         &  0.24577121        &  0.06143014        & -0.186339252       & -0.079454519       &  0.11464528        & -0.20945720        & -0.027912701       & -0.070024954       &  0.036489114      \\\\\n",
       "\t HPSI0115i-aion\\_2 & pool4              & -0.3213558         &  0.12003841        & -0.05276415        & -0.029334965       & -0.050232778       &  0.01073035        &  0.06192593        &  0.030122622       &  0.027519550       & -0.009384255      \\\\\n",
       "\t HPSI0115i-aoxv\\_1 & pool8              &  0.3974012         & -0.12324291        & -0.27707915        &  0.002604215       & -0.038938741       &  0.03454042        & -0.04181556        & -0.004850481       &  0.022924765       & -0.042832670      \\\\\n",
       "\t HPSI0115i-bimq\\_4 & pool4              &  0.4212096         &  0.05948631        &  0.26125499        & -0.050445552       &  0.044168521       & -0.05980972        &  0.02712366        &  0.048732804       &  0.004741356       &  0.028764518      \\\\\n",
       "\\end{tabular}\n"
      ],
      "text/markdown": [
       "\n",
       "| donor_id | pool_id | PC1 | PC2 | PC3 | PC4 | PC5 | PC6 | PC7 | PC8 | PC9 | PC10 |\n",
       "|---|---|---|---|---|---|---|---|---|---|---|---|\n",
       "| HPSI0114i-eipl_1 | pool1            |  0.5677167       | -0.01367960      |  0.39233382      |  0.009068288     | -0.033492469     | -0.08485208      | -0.01546020      | -0.053418757     |  0.041803885     | -0.043790191     |\n",
       "| HPSI0114i-wegi_1 | pool6            | -0.4914857       | -0.65860144      |  0.10461253      |  0.009256117     |  0.009257946     |  0.01751410      | -0.05641375      |  0.052746274     | -0.008646654     |  0.015523836     |\n",
       "| HPSI0114i-wegi_1 | pool7            | -0.4626597       |  0.24577121      |  0.06143014      | -0.186339252     | -0.079454519     |  0.11464528      | -0.20945720      | -0.027912701     | -0.070024954     |  0.036489114     |\n",
       "| HPSI0115i-aion_2 | pool4            | -0.3213558       |  0.12003841      | -0.05276415      | -0.029334965     | -0.050232778     |  0.01073035      |  0.06192593      |  0.030122622     |  0.027519550     | -0.009384255     |\n",
       "| HPSI0115i-aoxv_1 | pool8            |  0.3974012       | -0.12324291      | -0.27707915      |  0.002604215     | -0.038938741     |  0.03454042      | -0.04181556      | -0.004850481     |  0.022924765     | -0.042832670     |\n",
       "| HPSI0115i-bimq_4 | pool4            |  0.4212096       |  0.05948631      |  0.26125499      | -0.050445552     |  0.044168521     | -0.05980972      |  0.02712366      |  0.048732804     |  0.004741356     |  0.028764518     |\n",
       "\n"
      ],
      "text/plain": [
       "  donor_id         pool_id PC1        PC2         PC3         PC4         \n",
       "1 HPSI0114i-eipl_1 pool1    0.5677167 -0.01367960  0.39233382  0.009068288\n",
       "2 HPSI0114i-wegi_1 pool6   -0.4914857 -0.65860144  0.10461253  0.009256117\n",
       "3 HPSI0114i-wegi_1 pool7   -0.4626597  0.24577121  0.06143014 -0.186339252\n",
       "4 HPSI0115i-aion_2 pool4   -0.3213558  0.12003841 -0.05276415 -0.029334965\n",
       "5 HPSI0115i-aoxv_1 pool8    0.3974012 -0.12324291 -0.27707915  0.002604215\n",
       "6 HPSI0115i-bimq_4 pool4    0.4212096  0.05948631  0.26125499 -0.050445552\n",
       "  PC5          PC6         PC7         PC8          PC9          PC10        \n",
       "1 -0.033492469 -0.08485208 -0.01546020 -0.053418757  0.041803885 -0.043790191\n",
       "2  0.009257946  0.01751410 -0.05641375  0.052746274 -0.008646654  0.015523836\n",
       "3 -0.079454519  0.11464528 -0.20945720 -0.027912701 -0.070024954  0.036489114\n",
       "4 -0.050232778  0.01073035  0.06192593  0.030122622  0.027519550 -0.009384255\n",
       "5 -0.038938741  0.03454042 -0.04181556 -0.004850481  0.022924765 -0.042832670\n",
       "6  0.044168521 -0.05980972  0.02712366  0.048732804  0.004741356  0.028764518"
      ]
     },
     "metadata": {},
     "output_type": "display_data"
    }
   ],
   "source": [
    "df_pca = read.csv(pca_out_file, sep = \"\\t\")\n",
    "head(df_pca)"
   ]
  },
  {
   "cell_type": "code",
   "execution_count": 6,
   "metadata": {},
   "outputs": [
    {
     "name": "stderr",
     "output_type": "stream",
     "text": [
      "Joining, by = c(\"donor_id\", \"pool_id\")\n"
     ]
    },
    {
     "data": {
      "text/html": [
       "<table>\n",
       "<thead><tr><th scope=col>donor_id</th><th scope=col>pool_id</th><th scope=col>PC1</th><th scope=col>PC2</th><th scope=col>PC3</th><th scope=col>PC4</th><th scope=col>PC5</th><th scope=col>PC6</th><th scope=col>PC7</th><th scope=col>PC8</th><th scope=col>...</th><th scope=col>CHem_D52</th><th scope=col>DA_D52</th><th scope=col>Epen1_D52</th><th scope=col>Epen2_D52</th><th scope=col>FPP_D52</th><th scope=col>P_FPP_D52</th><th scope=col>P_Sert_D52</th><th scope=col>Sert_D52</th><th scope=col>unknown_D52</th><th scope=col>diff_eff</th></tr></thead>\n",
       "<tbody>\n",
       "\t<tr><td>HPSI0114i-eipl_1</td><td>pool1           </td><td> 0.5677167      </td><td>-0.0136796      </td><td>0.3923338       </td><td>0.009068288     </td><td>-0.033492469    </td><td>-0.08485208     </td><td>-0.01546020     </td><td>-0.05341876     </td><td>...             </td><td>0.0904569115    </td><td>0.009562367     </td><td>0.138153075     </td><td>0.0030846347    </td><td>0.15789474      </td><td>0.079699248     </td><td>0.0001927897    </td><td>0.003315982     </td><td>0.005706574     </td><td>0.01287835      </td></tr>\n",
       "\t<tr><td>HPSI0114i-wegi_1</td><td>pool6           </td><td>-0.4914857      </td><td>-0.6586014      </td><td>0.1046125       </td><td>0.009256117     </td><td> 0.009257946    </td><td> 0.01751410     </td><td>-0.05641375     </td><td> 0.05274627     </td><td>...             </td><td>0.0008640553    </td><td>0.047235023     </td><td>0.007200461     </td><td>0.0002880184    </td><td>0.04781106      </td><td>0.002016129     </td><td>0.0025921659    </td><td>0.861463134     </td><td>0.028801843     </td><td>0.90869816      </td></tr>\n",
       "</tbody>\n",
       "</table>\n"
      ],
      "text/latex": [
       "\\begin{tabular}{r|lllllllllllllllllllllllllllllllll}\n",
       " donor\\_id & pool\\_id & PC1 & PC2 & PC3 & PC4 & PC5 & PC6 & PC7 & PC8 & ... & CHem\\_D52 & DA\\_D52 & Epen1\\_D52 & Epen2\\_D52 & FPP\\_D52 & P\\_FPP\\_D52 & P\\_Sert\\_D52 & Sert\\_D52 & unknown\\_D52 & diff\\_eff\\\\\n",
       "\\hline\n",
       "\t HPSI0114i-eipl\\_1 & pool1              &  0.5677167         & -0.0136796         & 0.3923338          & 0.009068288        & -0.033492469       & -0.08485208        & -0.01546020        & -0.05341876        & ...                & 0.0904569115       & 0.009562367        & 0.138153075        & 0.0030846347       & 0.15789474         & 0.079699248        & 0.0001927897       & 0.003315982        & 0.005706574        & 0.01287835        \\\\\n",
       "\t HPSI0114i-wegi\\_1 & pool6              & -0.4914857         & -0.6586014         & 0.1046125          & 0.009256117        &  0.009257946       &  0.01751410        & -0.05641375        &  0.05274627        & ...                & 0.0008640553       & 0.047235023        & 0.007200461        & 0.0002880184       & 0.04781106         & 0.002016129        & 0.0025921659       & 0.861463134        & 0.028801843        & 0.90869816        \\\\\n",
       "\\end{tabular}\n"
      ],
      "text/markdown": [
       "\n",
       "| donor_id | pool_id | PC1 | PC2 | PC3 | PC4 | PC5 | PC6 | PC7 | PC8 | ... | CHem_D52 | DA_D52 | Epen1_D52 | Epen2_D52 | FPP_D52 | P_FPP_D52 | P_Sert_D52 | Sert_D52 | unknown_D52 | diff_eff |\n",
       "|---|---|---|---|---|---|---|---|---|---|---|---|---|---|---|---|---|---|---|---|---|\n",
       "| HPSI0114i-eipl_1 | pool1            |  0.5677167       | -0.0136796       | 0.3923338        | 0.009068288      | -0.033492469     | -0.08485208      | -0.01546020      | -0.05341876      | ...              | 0.0904569115     | 0.009562367      | 0.138153075      | 0.0030846347     | 0.15789474       | 0.079699248      | 0.0001927897     | 0.003315982      | 0.005706574      | 0.01287835       |\n",
       "| HPSI0114i-wegi_1 | pool6            | -0.4914857       | -0.6586014       | 0.1046125        | 0.009256117      |  0.009257946     |  0.01751410      | -0.05641375      |  0.05274627      | ...              | 0.0008640553     | 0.047235023      | 0.007200461      | 0.0002880184     | 0.04781106       | 0.002016129      | 0.0025921659     | 0.861463134      | 0.028801843      | 0.90869816       |\n",
       "\n"
      ],
      "text/plain": [
       "  donor_id         pool_id PC1        PC2        PC3       PC4        \n",
       "1 HPSI0114i-eipl_1 pool1    0.5677167 -0.0136796 0.3923338 0.009068288\n",
       "2 HPSI0114i-wegi_1 pool6   -0.4914857 -0.6586014 0.1046125 0.009256117\n",
       "  PC5          PC6         PC7         PC8         ... CHem_D52     DA_D52     \n",
       "1 -0.033492469 -0.08485208 -0.01546020 -0.05341876 ... 0.0904569115 0.009562367\n",
       "2  0.009257946  0.01751410 -0.05641375  0.05274627 ... 0.0008640553 0.047235023\n",
       "  Epen1_D52   Epen2_D52    FPP_D52    P_FPP_D52   P_Sert_D52   Sert_D52   \n",
       "1 0.138153075 0.0030846347 0.15789474 0.079699248 0.0001927897 0.003315982\n",
       "2 0.007200461 0.0002880184 0.04781106 0.002016129 0.0025921659 0.861463134\n",
       "  unknown_D52 diff_eff  \n",
       "1 0.005706574 0.01287835\n",
       "2 0.028801843 0.90869816"
      ]
     },
     "metadata": {},
     "output_type": "display_data"
    }
   ],
   "source": [
    "df = inner_join(df_pca, df_prop)\n",
    "df$diff_eff = df$DA_D52 + df$Sert_D52\n",
    "head(df,2)"
   ]
  },
  {
   "cell_type": "code",
   "execution_count": 10,
   "metadata": {},
   "outputs": [
    {
     "name": "stderr",
     "output_type": "stream",
     "text": [
      "Warning message:\n",
      "“Use of `df$diff_eff` is discouraged. Use `diff_eff` instead.”"
     ]
    },
    {
     "data": {
      "image/png": "[encoded data removed]",
      "text/plain": [
       "plot without title"
      ]
     },
     "metadata": {},
     "output_type": "display_data"
    }
   ],
   "source": [
    "options(repr.plot.width=5, repr.plot.height=4.5)\n",
    "ggplot(df, aes(x = PC1, y = df$diff_eff)) + geom_point() + theme_classic() + \n",
    "    xlab(\"PC1\") + ylab(\"Fraction of DA + Sert at day 52\") + \n",
    "    theme(text = element_text(size=20)) "
   ]
  },
  {
   "cell_type": "code",
   "execution_count": 11,
   "metadata": {},
   "outputs": [
    {
     "name": "stderr",
     "output_type": "stream",
     "text": [
      "Warning message:\n",
      "“Use of `df$diff_eff` is discouraged. Use `diff_eff` instead.”"
     ]
    },
    {
     "data": {
      "text/html": [
       "<strong>png:</strong> 2"
      ],
      "text/latex": [
       "\\textbf{png:} 2"
      ],
      "text/markdown": [
       "**png:** 2"
      ],
      "text/plain": [
       "png \n",
       "  2 "
      ]
     },
     "metadata": {},
     "output_type": "display_data"
    }
   ],
   "source": [
    "fig_dir = \"/hps/nobackup/stegle/users/acuomo/all_scripts/sc_neuroseq/figures/extended_figures/\"\n",
    "pdf(paste0(fig_dir,\"Extended_Figure2c.pdf\"), width=5, height=4.5)\n",
    "ggplot(df, aes(x = PC1, y = df$diff_eff)) + geom_point() + theme_classic() + \n",
    "    xlab(\"PC1\") + ylab(\"Fraction of DA + Sert at day 52\") + \n",
    "    theme(text = element_text(size=20)) \n",
    "dev.off()"
   ]
  },
  {
   "cell_type": "code",
   "execution_count": null,
   "metadata": {},
   "outputs": [],
   "source": []
  }
 ],
 "metadata": {
  "kernelspec": {
   "display_name": "R",
   "language": "R",
   "name": "ir"
  },
  "language_info": {
   "codemirror_mode": "r",
   "file_extension": ".r",
   "mimetype": "text/x-r-source",
   "name": "R",
   "pygments_lexer": "r",
   "version": "3.6.1"
  }
 },
 "nbformat": 4,
 "nbformat_minor": 4
}
