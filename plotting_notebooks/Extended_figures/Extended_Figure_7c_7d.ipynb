{
 "cells": [
  {
   "cell_type": "code",
   "execution_count": 44,
   "metadata": {},
   "outputs": [],
   "source": [
    "fig_dir = \"/hps/nobackup/stegle/users/acuomo/all_scripts/sc_neuroseq/figures/extended_figures/\""
   ]
  },
  {
   "cell_type": "code",
   "execution_count": 23,
   "metadata": {},
   "outputs": [],
   "source": [
    "# library(reshape)\n",
    "library(ggthemes)\n",
    "library(ggplot2)\n",
    "library(dplyr)\n",
    "library(tidyr)"
   ]
  },
  {
   "cell_type": "code",
   "execution_count": 24,
   "metadata": {},
   "outputs": [],
   "source": [
    "mashr_dir = \"/hps/nobackup/hipsci/scratch/GTEx/MASHR_OUT/Anna_Neuro/\""
   ]
  },
  {
   "cell_type": "code",
   "execution_count": 25,
   "metadata": {},
   "outputs": [
    {
     "data": {
      "text/html": [
       "<ol class=list-inline>\n",
       "\t<li>'MASHR_local_false_sign_rate_NeuroSeq.txt'</li>\n",
       "\t<li>'MASHR_pairwise_sharing_F0.05_same_sign_NeuroSeq.txt'</li>\n",
       "\t<li>'MASHR_pairwise_sharing_same_sign_NeuroSeq.txt'</li>\n",
       "\t<li>'MASHR_posterior_mean_NeuroSeq.txt'</li>\n",
       "\t<li>'MASHR_posterior_standard_deviation_NeuroSeq.txt'</li>\n",
       "\t<li>'MASHR_Results.OriginalCovariance.NeuroSeq.Rdata'</li>\n",
       "\t<li>'MASHR_significant_effects_NeuroSeq.txt'</li>\n",
       "</ol>\n"
      ],
      "text/latex": [
       "\\begin{enumerate*}\n",
       "\\item 'MASHR\\_local\\_false\\_sign\\_rate\\_NeuroSeq.txt'\n",
       "\\item 'MASHR\\_pairwise\\_sharing\\_F0.05\\_same\\_sign\\_NeuroSeq.txt'\n",
       "\\item 'MASHR\\_pairwise\\_sharing\\_same\\_sign\\_NeuroSeq.txt'\n",
       "\\item 'MASHR\\_posterior\\_mean\\_NeuroSeq.txt'\n",
       "\\item 'MASHR\\_posterior\\_standard\\_deviation\\_NeuroSeq.txt'\n",
       "\\item 'MASHR\\_Results.OriginalCovariance.NeuroSeq.Rdata'\n",
       "\\item 'MASHR\\_significant\\_effects\\_NeuroSeq.txt'\n",
       "\\end{enumerate*}\n"
      ],
      "text/markdown": [
       "1. 'MASHR_local_false_sign_rate_NeuroSeq.txt'\n",
       "2. 'MASHR_pairwise_sharing_F0.05_same_sign_NeuroSeq.txt'\n",
       "3. 'MASHR_pairwise_sharing_same_sign_NeuroSeq.txt'\n",
       "4. 'MASHR_posterior_mean_NeuroSeq.txt'\n",
       "5. 'MASHR_posterior_standard_deviation_NeuroSeq.txt'\n",
       "6. 'MASHR_Results.OriginalCovariance.NeuroSeq.Rdata'\n",
       "7. 'MASHR_significant_effects_NeuroSeq.txt'\n",
       "\n",
       "\n"
      ],
      "text/plain": [
       "[1] \"MASHR_local_false_sign_rate_NeuroSeq.txt\"           \n",
       "[2] \"MASHR_pairwise_sharing_F0.05_same_sign_NeuroSeq.txt\"\n",
       "[3] \"MASHR_pairwise_sharing_same_sign_NeuroSeq.txt\"      \n",
       "[4] \"MASHR_posterior_mean_NeuroSeq.txt\"                  \n",
       "[5] \"MASHR_posterior_standard_deviation_NeuroSeq.txt\"    \n",
       "[6] \"MASHR_Results.OriginalCovariance.NeuroSeq.Rdata\"    \n",
       "[7] \"MASHR_significant_effects_NeuroSeq.txt\"             "
      ]
     },
     "metadata": {},
     "output_type": "display_data"
    }
   ],
   "source": [
    "list.files(mashr_dir)"
   ]
  },
  {
   "cell_type": "code",
   "execution_count": 26,
   "metadata": {},
   "outputs": [],
   "source": [
    "sign_res = paste0(mashr_dir,\"MASHR_local_false_sign_rate_NeuroSeq.txt\")\n",
    "mean_beta = paste0(mashr_dir,\"MASHR_posterior_mean_NeuroSeq.txt\")\n",
    "# std_beta = paste0(mashr_dir,\"MASHR_posterior_standard_deviation_sc_brain.txt\")"
   ]
  },
  {
   "cell_type": "code",
   "execution_count": 27,
   "metadata": {},
   "outputs": [],
   "source": [
    "##Functions\n",
    "reorder_cormat <- function(cormat){\n",
    "  # Use correlation between variables as distance\n",
    "  dd <- as.dist((1-cormat)/2)\n",
    "  hc <- hclust(dd,method=\"complete\")\n",
    "  cormat <-cormat[hc$order, hc$order]\n",
    "}"
   ]
  },
  {
   "cell_type": "code",
   "execution_count": 28,
   "metadata": {},
   "outputs": [],
   "source": [
    "get_upper_tri <- function(cormat){\n",
    "  cormat[upper.tri(cormat)]<- NA\n",
    "  return(cormat)\n",
    "}"
   ]
  },
  {
   "cell_type": "code",
   "execution_count": 29,
   "metadata": {},
   "outputs": [],
   "source": [
    "# local false sign rate (lfsr)\n",
    "lfsrMat = read.delim(sign_res,as.is=T, row.names=1)\n",
    "posteriorMean = read.delim(mean_beta,as.is=T, row.names=1)"
   ]
  },
  {
   "cell_type": "code",
   "execution_count": 30,
   "metadata": {},
   "outputs": [
    {
     "data": {
      "text/html": [
       "9641"
      ],
      "text/latex": [
       "9641"
      ],
      "text/markdown": [
       "9641"
      ],
      "text/plain": [
       "[1] 9641"
      ]
     },
     "metadata": {},
     "output_type": "display_data"
    },
    {
     "data": {
      "text/html": [
       "14"
      ],
      "text/latex": [
       "14"
      ],
      "text/markdown": [
       "14"
      ],
      "text/plain": [
       "[1] 14"
      ]
     },
     "metadata": {},
     "output_type": "display_data"
    }
   ],
   "source": [
    "nrow(lfsrMat)\n",
    "ncol(lfsrMat)"
   ]
  },
  {
   "cell_type": "code",
   "execution_count": 31,
   "metadata": {},
   "outputs": [
    {
     "data": {
      "text/html": [
       "<ol class=list-inline>\n",
       "\t<li>'Neuro.pool1_13_noddd_D11.FPP'</li>\n",
       "\t<li>'Neuro.pool1_13_noddd_D11.P_FPP'</li>\n",
       "\t<li>'Neuro.pool1_13_noddd_D30.Astro'</li>\n",
       "\t<li>'Neuro.pool1_13_noddd_D30.DA'</li>\n",
       "\t<li>'Neuro.pool1_13_noddd_D30.Epen1'</li>\n",
       "\t<li>'Neuro.pool1_13_noddd_D30.Sert'</li>\n",
       "\t<li>'Neuro.pool1_17_D52.ROT.Astro'</li>\n",
       "\t<li>'Neuro.pool1_17_D52.ROT.DA'</li>\n",
       "\t<li>'Neuro.pool1_17_D52.ROT.Epen1'</li>\n",
       "\t<li>'Neuro.pool1_17_D52.ROT.Sert'</li>\n",
       "\t<li>'Neuro.pool1_17_D52.Astro'</li>\n",
       "\t<li>'Neuro.pool1_17_D52.DA'</li>\n",
       "\t<li>'Neuro.pool1_17_D52.Epen1'</li>\n",
       "\t<li>'Neuro.pool1_17_D52.Sert'</li>\n",
       "</ol>\n"
      ],
      "text/latex": [
       "\\begin{enumerate*}\n",
       "\\item 'Neuro.pool1\\_13\\_noddd\\_D11.FPP'\n",
       "\\item 'Neuro.pool1\\_13\\_noddd\\_D11.P\\_FPP'\n",
       "\\item 'Neuro.pool1\\_13\\_noddd\\_D30.Astro'\n",
       "\\item 'Neuro.pool1\\_13\\_noddd\\_D30.DA'\n",
       "\\item 'Neuro.pool1\\_13\\_noddd\\_D30.Epen1'\n",
       "\\item 'Neuro.pool1\\_13\\_noddd\\_D30.Sert'\n",
       "\\item 'Neuro.pool1\\_17\\_D52.ROT.Astro'\n",
       "\\item 'Neuro.pool1\\_17\\_D52.ROT.DA'\n",
       "\\item 'Neuro.pool1\\_17\\_D52.ROT.Epen1'\n",
       "\\item 'Neuro.pool1\\_17\\_D52.ROT.Sert'\n",
       "\\item 'Neuro.pool1\\_17\\_D52.Astro'\n",
       "\\item 'Neuro.pool1\\_17\\_D52.DA'\n",
       "\\item 'Neuro.pool1\\_17\\_D52.Epen1'\n",
       "\\item 'Neuro.pool1\\_17\\_D52.Sert'\n",
       "\\end{enumerate*}\n"
      ],
      "text/markdown": [
       "1. 'Neuro.pool1_13_noddd_D11.FPP'\n",
       "2. 'Neuro.pool1_13_noddd_D11.P_FPP'\n",
       "3. 'Neuro.pool1_13_noddd_D30.Astro'\n",
       "4. 'Neuro.pool1_13_noddd_D30.DA'\n",
       "5. 'Neuro.pool1_13_noddd_D30.Epen1'\n",
       "6. 'Neuro.pool1_13_noddd_D30.Sert'\n",
       "7. 'Neuro.pool1_17_D52.ROT.Astro'\n",
       "8. 'Neuro.pool1_17_D52.ROT.DA'\n",
       "9. 'Neuro.pool1_17_D52.ROT.Epen1'\n",
       "10. 'Neuro.pool1_17_D52.ROT.Sert'\n",
       "11. 'Neuro.pool1_17_D52.Astro'\n",
       "12. 'Neuro.pool1_17_D52.DA'\n",
       "13. 'Neuro.pool1_17_D52.Epen1'\n",
       "14. 'Neuro.pool1_17_D52.Sert'\n",
       "\n",
       "\n"
      ],
      "text/plain": [
       " [1] \"Neuro.pool1_13_noddd_D11.FPP\"   \"Neuro.pool1_13_noddd_D11.P_FPP\"\n",
       " [3] \"Neuro.pool1_13_noddd_D30.Astro\" \"Neuro.pool1_13_noddd_D30.DA\"   \n",
       " [5] \"Neuro.pool1_13_noddd_D30.Epen1\" \"Neuro.pool1_13_noddd_D30.Sert\" \n",
       " [7] \"Neuro.pool1_17_D52.ROT.Astro\"   \"Neuro.pool1_17_D52.ROT.DA\"     \n",
       " [9] \"Neuro.pool1_17_D52.ROT.Epen1\"   \"Neuro.pool1_17_D52.ROT.Sert\"   \n",
       "[11] \"Neuro.pool1_17_D52.Astro\"       \"Neuro.pool1_17_D52.DA\"         \n",
       "[13] \"Neuro.pool1_17_D52.Epen1\"       \"Neuro.pool1_17_D52.Sert\"       "
      ]
     },
     "metadata": {},
     "output_type": "display_data"
    }
   ],
   "source": [
    "colnames(lfsrMat)"
   ]
  },
  {
   "cell_type": "code",
   "execution_count": 32,
   "metadata": {},
   "outputs": [
    {
     "data": {
      "text/html": [
       "<table>\n",
       "<thead><tr><th></th><th scope=col>Neuro.pool1_13_noddd_D11.FPP</th><th scope=col>Neuro.pool1_13_noddd_D11.P_FPP</th><th scope=col>Neuro.pool1_13_noddd_D30.Astro</th><th scope=col>Neuro.pool1_13_noddd_D30.DA</th><th scope=col>Neuro.pool1_13_noddd_D30.Epen1</th><th scope=col>Neuro.pool1_13_noddd_D30.Sert</th><th scope=col>Neuro.pool1_17_D52.ROT.Astro</th><th scope=col>Neuro.pool1_17_D52.ROT.DA</th><th scope=col>Neuro.pool1_17_D52.ROT.Epen1</th><th scope=col>Neuro.pool1_17_D52.ROT.Sert</th><th scope=col>Neuro.pool1_17_D52.Astro</th><th scope=col>Neuro.pool1_17_D52.DA</th><th scope=col>Neuro.pool1_17_D52.Epen1</th><th scope=col>Neuro.pool1_17_D52.Sert</th></tr></thead>\n",
       "<tbody>\n",
       "\t<tr><th scope=row>1_10003457_G_C-ENSG00000173614</th><td>0.0006040145</td><td>0.001786852 </td><td>0.0006551525</td><td>0.00258465  </td><td>0.008236295 </td><td>6.183711e-04</td><td>0.002368163 </td><td>0.08873411  </td><td>0.0008797272</td><td>2.943990e-04</td><td>0.16794242  </td><td>1.185161e-02</td><td>0.00175612  </td><td>6.311160e-04</td></tr>\n",
       "\t<tr><th scope=row>1_100302872_T_C-ENSG00000162688</th><td>0.4507945203</td><td>0.391163422 </td><td>0.0418977856</td><td>0.02597381  </td><td>0.200079852 </td><td>5.902281e-07</td><td>0.001205189 </td><td>0.02289986  </td><td>0.0416331366</td><td>1.856957e-07</td><td>0.02531262  </td><td>1.246268e-06</td><td>0.03007824  </td><td>6.884493e-13</td></tr>\n",
       "</tbody>\n",
       "</table>\n"
      ],
      "text/latex": [
       "\\begin{tabular}{r|llllllllllllll}\n",
       "  & Neuro.pool1\\_13\\_noddd\\_D11.FPP & Neuro.pool1\\_13\\_noddd\\_D11.P\\_FPP & Neuro.pool1\\_13\\_noddd\\_D30.Astro & Neuro.pool1\\_13\\_noddd\\_D30.DA & Neuro.pool1\\_13\\_noddd\\_D30.Epen1 & Neuro.pool1\\_13\\_noddd\\_D30.Sert & Neuro.pool1\\_17\\_D52.ROT.Astro & Neuro.pool1\\_17\\_D52.ROT.DA & Neuro.pool1\\_17\\_D52.ROT.Epen1 & Neuro.pool1\\_17\\_D52.ROT.Sert & Neuro.pool1\\_17\\_D52.Astro & Neuro.pool1\\_17\\_D52.DA & Neuro.pool1\\_17\\_D52.Epen1 & Neuro.pool1\\_17\\_D52.Sert\\\\\n",
       "\\hline\n",
       "\t1\\_10003457\\_G\\_C-ENSG00000173614 & 0.0006040145 & 0.001786852  & 0.0006551525 & 0.00258465   & 0.008236295  & 6.183711e-04 & 0.002368163  & 0.08873411   & 0.0008797272 & 2.943990e-04 & 0.16794242   & 1.185161e-02 & 0.00175612   & 6.311160e-04\\\\\n",
       "\t1\\_100302872\\_T\\_C-ENSG00000162688 & 0.4507945203 & 0.391163422  & 0.0418977856 & 0.02597381   & 0.200079852  & 5.902281e-07 & 0.001205189  & 0.02289986   & 0.0416331366 & 1.856957e-07 & 0.02531262   & 1.246268e-06 & 0.03007824   & 6.884493e-13\\\\\n",
       "\\end{tabular}\n"
      ],
      "text/markdown": [
       "\n",
       "| <!--/--> | Neuro.pool1_13_noddd_D11.FPP | Neuro.pool1_13_noddd_D11.P_FPP | Neuro.pool1_13_noddd_D30.Astro | Neuro.pool1_13_noddd_D30.DA | Neuro.pool1_13_noddd_D30.Epen1 | Neuro.pool1_13_noddd_D30.Sert | Neuro.pool1_17_D52.ROT.Astro | Neuro.pool1_17_D52.ROT.DA | Neuro.pool1_17_D52.ROT.Epen1 | Neuro.pool1_17_D52.ROT.Sert | Neuro.pool1_17_D52.Astro | Neuro.pool1_17_D52.DA | Neuro.pool1_17_D52.Epen1 | Neuro.pool1_17_D52.Sert |\n",
       "|---|---|---|---|---|---|---|---|---|---|---|---|---|---|---|\n",
       "| 1_10003457_G_C-ENSG00000173614 | 0.0006040145 | 0.001786852  | 0.0006551525 | 0.00258465   | 0.008236295  | 6.183711e-04 | 0.002368163  | 0.08873411   | 0.0008797272 | 2.943990e-04 | 0.16794242   | 1.185161e-02 | 0.00175612   | 6.311160e-04 |\n",
       "| 1_100302872_T_C-ENSG00000162688 | 0.4507945203 | 0.391163422  | 0.0418977856 | 0.02597381   | 0.200079852  | 5.902281e-07 | 0.001205189  | 0.02289986   | 0.0416331366 | 1.856957e-07 | 0.02531262   | 1.246268e-06 | 0.03007824   | 6.884493e-13 |\n",
       "\n"
      ],
      "text/plain": [
       "                                Neuro.pool1_13_noddd_D11.FPP\n",
       "1_10003457_G_C-ENSG00000173614  0.0006040145                \n",
       "1_100302872_T_C-ENSG00000162688 0.4507945203                \n",
       "                                Neuro.pool1_13_noddd_D11.P_FPP\n",
       "1_10003457_G_C-ENSG00000173614  0.001786852                   \n",
       "1_100302872_T_C-ENSG00000162688 0.391163422                   \n",
       "                                Neuro.pool1_13_noddd_D30.Astro\n",
       "1_10003457_G_C-ENSG00000173614  0.0006551525                  \n",
       "1_100302872_T_C-ENSG00000162688 0.0418977856                  \n",
       "                                Neuro.pool1_13_noddd_D30.DA\n",
       "1_10003457_G_C-ENSG00000173614  0.00258465                 \n",
       "1_100302872_T_C-ENSG00000162688 0.02597381                 \n",
       "                                Neuro.pool1_13_noddd_D30.Epen1\n",
       "1_10003457_G_C-ENSG00000173614  0.008236295                   \n",
       "1_100302872_T_C-ENSG00000162688 0.200079852                   \n",
       "                                Neuro.pool1_13_noddd_D30.Sert\n",
       "1_10003457_G_C-ENSG00000173614  6.183711e-04                 \n",
       "1_100302872_T_C-ENSG00000162688 5.902281e-07                 \n",
       "                                Neuro.pool1_17_D52.ROT.Astro\n",
       "1_10003457_G_C-ENSG00000173614  0.002368163                 \n",
       "1_100302872_T_C-ENSG00000162688 0.001205189                 \n",
       "                                Neuro.pool1_17_D52.ROT.DA\n",
       "1_10003457_G_C-ENSG00000173614  0.08873411               \n",
       "1_100302872_T_C-ENSG00000162688 0.02289986               \n",
       "                                Neuro.pool1_17_D52.ROT.Epen1\n",
       "1_10003457_G_C-ENSG00000173614  0.0008797272                \n",
       "1_100302872_T_C-ENSG00000162688 0.0416331366                \n",
       "                                Neuro.pool1_17_D52.ROT.Sert\n",
       "1_10003457_G_C-ENSG00000173614  2.943990e-04               \n",
       "1_100302872_T_C-ENSG00000162688 1.856957e-07               \n",
       "                                Neuro.pool1_17_D52.Astro Neuro.pool1_17_D52.DA\n",
       "1_10003457_G_C-ENSG00000173614  0.16794242               1.185161e-02         \n",
       "1_100302872_T_C-ENSG00000162688 0.02531262               1.246268e-06         \n",
       "                                Neuro.pool1_17_D52.Epen1\n",
       "1_10003457_G_C-ENSG00000173614  0.00175612              \n",
       "1_100302872_T_C-ENSG00000162688 0.03007824              \n",
       "                                Neuro.pool1_17_D52.Sert\n",
       "1_10003457_G_C-ENSG00000173614  6.311160e-04           \n",
       "1_100302872_T_C-ENSG00000162688 6.884493e-13           "
      ]
     },
     "metadata": {},
     "output_type": "display_data"
    }
   ],
   "source": [
    "head(lfsrMat,2)"
   ]
  },
  {
   "cell_type": "code",
   "execution_count": 33,
   "metadata": {},
   "outputs": [],
   "source": [
    "ratio = 2 # ratio of magnitude between 0.5 and 2 is \"same signal\"\n",
    "lfsrThreshold = 0.1 # significance threshold\n",
    "any = T       # at least one passing significance\n",
    "both = F      # both passing significance\n",
    "smallest = F  # smallest sample size set passing significance"
   ]
  },
  {
   "cell_type": "code",
   "execution_count": 34,
   "metadata": {},
   "outputs": [],
   "source": [
    "sameSignMagnitude = matrix(0, ncol=ncol(lfsrMat), nrow=ncol(lfsrMat))# check sign thr + same sign + ratio \n",
    "sameSign = matrix(0, ncol=ncol(lfsrMat), nrow=ncol(lfsrMat))         # check sign thr + same sign\n",
    "total = matrix(0, ncol=ncol(lfsrMat), nrow=ncol(lfsrMat))            # check only sign threshold"
   ]
  },
  {
   "cell_type": "code",
   "execution_count": 35,
   "metadata": {},
   "outputs": [],
   "source": [
    "options(warn=2)\n",
    "if(sum(any, both, smallest)==1){\n",
    "  for(colN in 1:ncol(lfsrMat)){\n",
    "    for(colM in colN:ncol(lfsrMat)){\n",
    "      if(any){\n",
    "        toConsider = unique(c(which(lfsrMat[,colN]<lfsrThreshold),which(lfsrMat[,colM]<lfsrThreshold)))\n",
    "      } else if(both) {\n",
    "        toConsider = intersect(which(lfsrMat[,colN]<lfsrThreshold),which(lfsrMat[,colM]<lfsrThreshold))\n",
    "      } else if(smallest){\n",
    "        if(sampleSizeTissues$n[colN] > sampleSizeTissues$n[colM]){\n",
    "          toConsider = which(lfsrMat[,colM]<lfsrThreshold)\n",
    "        } else {\n",
    "          toConsider = which(lfsrMat[,colN]<lfsrThreshold)\n",
    "        }\n",
    "      }\n",
    "      total[colN,colM] = length(toConsider)\n",
    "      total[colM,colN] = total[colN,colM]\n",
    "      \n",
    "      tmpInfo = posteriorMean[toConsider,colN]/posteriorMean[toConsider,colM] # check sign\n",
    "      tmpInfo2 = tmpInfo[which(tmpInfo>0)]\n",
    "      sameSign[colN,colM] = length(tmpInfo2)\n",
    "      sameSign[colM,colN] = sameSign[colN,colM]\n",
    "      \n",
    "      tmpInfo2[which(tmpInfo2<1)] = 1/tmpInfo2[which(tmpInfo2<1)] # check magn ratio\n",
    "      sameSignMagnitude[colN,colM] = length(which(tmpInfo2<=ratio))\n",
    "      sameSignMagnitude[colM,colN] = sameSignMagnitude[colN,colM]\n",
    "    }\n",
    "  }\n",
    "} else {\n",
    "  print(\"Setting issue.\")\n",
    "}"
   ]
  },
  {
   "cell_type": "code",
   "execution_count": 36,
   "metadata": {},
   "outputs": [],
   "source": [
    "# options(warn=1)\n",
    "\n",
    "pairwiseSharingSign = sameSign/total # get fraction\n",
    "pairwiseSharing = sameSignMagnitude/total\n",
    "\n",
    "colnames(pairwiseSharing) = colnames(lfsrMat)\n",
    "rownames(pairwiseSharing) = colnames(lfsrMat)\n",
    "colnames(pairwiseSharingSign) = colnames(lfsrMat)\n",
    "rownames(pairwiseSharingSign) = colnames(lfsrMat)\n",
    "\n",
    "## Sign and magnitude\n",
    "# upper_tri <- get_upper_tri(reorder_cormat(as.matrix(pairwiseSharing)))\n",
    "## Sign only\n",
    "# upper_tri <- get_upper_tri(reorder_cormat(as.matrix(pairwiseSharingSign)))\n",
    "# melted_cormat <- melt(upper_tri, na.rm = TRUE)\n",
    "# head(melted_cormat)"
   ]
  },
  {
   "cell_type": "code",
   "execution_count": 37,
   "metadata": {},
   "outputs": [
    {
     "data": {
      "text/html": [
       "<table>\n",
       "<thead><tr><th></th><th scope=col>Neuro.pool1_13_noddd_D11.FPP</th><th scope=col>Neuro.pool1_13_noddd_D11.P_FPP</th><th scope=col>Neuro.pool1_13_noddd_D30.Astro</th><th scope=col>Neuro.pool1_13_noddd_D30.DA</th><th scope=col>Neuro.pool1_13_noddd_D30.Epen1</th><th scope=col>Neuro.pool1_13_noddd_D30.Sert</th><th scope=col>Neuro.pool1_17_D52.ROT.Astro</th><th scope=col>Neuro.pool1_17_D52.ROT.DA</th><th scope=col>Neuro.pool1_17_D52.ROT.Epen1</th><th scope=col>Neuro.pool1_17_D52.ROT.Sert</th><th scope=col>Neuro.pool1_17_D52.Astro</th><th scope=col>Neuro.pool1_17_D52.DA</th><th scope=col>Neuro.pool1_17_D52.Epen1</th><th scope=col>Neuro.pool1_17_D52.Sert</th></tr></thead>\n",
       "<tbody>\n",
       "\t<tr><th scope=row>Neuro.pool1_13_noddd_D11.FPP</th><td>1.0000000</td><td>0.9886364</td><td>0.9464952</td><td>0.9378601</td><td>0.9355241</td><td>0.9368421</td><td>0.9241862</td><td>0.9196581</td><td>0.9337398</td><td>0.9179405</td><td>0.8882163</td><td>0.9325381</td><td>0.9265006</td><td>0.9200482</td></tr>\n",
       "\t<tr><th scope=row>Neuro.pool1_13_noddd_D11.P_FPP</th><td>0.9886364</td><td>1.0000000</td><td>0.9375775</td><td>0.9345336</td><td>0.9288981</td><td>0.9307290</td><td>0.9150435</td><td>0.9160959</td><td>0.9261663</td><td>0.9097835</td><td>0.8817595</td><td>0.9241492</td><td>0.9185336</td><td>0.9135308</td></tr>\n",
       "\t<tr><th scope=row>Neuro.pool1_13_noddd_D30.Astro</th><td>0.9464952</td><td>0.9375775</td><td>1.0000000</td><td>0.9722797</td><td>0.9791932</td><td>0.9733825</td><td>0.9446254</td><td>0.9368729</td><td>0.9722682</td><td>0.9426394</td><td>0.9413934</td><td>0.9627792</td><td>0.9710813</td><td>0.9583670</td></tr>\n",
       "\t<tr><th scope=row>Neuro.pool1_13_noddd_D30.DA</th><td>0.9378601</td><td>0.9345336</td><td>0.9722797</td><td>1.0000000</td><td>0.9515002</td><td>0.9818706</td><td>0.9265355</td><td>0.9596432</td><td>0.9532447</td><td>0.9481511</td><td>0.9162325</td><td>0.9822185</td><td>0.9545270</td><td>0.9602595</td></tr>\n",
       "\t<tr><th scope=row>Neuro.pool1_13_noddd_D30.Epen1</th><td>0.9355241</td><td>0.9288981</td><td>0.9791932</td><td>0.9515002</td><td>1.0000000</td><td>0.9562576</td><td>0.9475671</td><td>0.9180944</td><td>0.9817874</td><td>0.9319838</td><td>0.9498513</td><td>0.9490341</td><td>0.9861472</td><td>0.9471974</td></tr>\n",
       "\t<tr><th scope=row>Neuro.pool1_13_noddd_D30.Sert</th><td>0.9368421</td><td>0.9307290</td><td>0.9733825</td><td>0.9818706</td><td>0.9562576</td><td>1.0000000</td><td>0.9300199</td><td>0.9539419</td><td>0.9610911</td><td>0.9691182</td><td>0.9217701</td><td>0.9756098</td><td>0.9632323</td><td>0.9798271</td></tr>\n",
       "\t<tr><th scope=row>Neuro.pool1_17_D52.ROT.Astro</th><td>0.9241862</td><td>0.9150435</td><td>0.9446254</td><td>0.9265355</td><td>0.9475671</td><td>0.9300199</td><td>1.0000000</td><td>0.9141886</td><td>0.9633443</td><td>0.9249395</td><td>0.9476150</td><td>0.9291242</td><td>0.9514403</td><td>0.9250906</td></tr>\n",
       "\t<tr><th scope=row>Neuro.pool1_17_D52.ROT.DA</th><td>0.9196581</td><td>0.9160959</td><td>0.9368729</td><td>0.9596432</td><td>0.9180944</td><td>0.9539419</td><td>0.9141886</td><td>1.0000000</td><td>0.9259564</td><td>0.9464812</td><td>0.8965662</td><td>0.9797802</td><td>0.9187629</td><td>0.9436090</td></tr>\n",
       "\t<tr><th scope=row>Neuro.pool1_17_D52.ROT.Epen1</th><td>0.9337398</td><td>0.9261663</td><td>0.9722682</td><td>0.9532447</td><td>0.9817874</td><td>0.9610911</td><td>0.9633443</td><td>0.9259564</td><td>1.0000000</td><td>0.9530874</td><td>0.9405779</td><td>0.9494949</td><td>0.9898691</td><td>0.9588544</td></tr>\n",
       "\t<tr><th scope=row>Neuro.pool1_17_D52.ROT.Sert</th><td>0.9179405</td><td>0.9097835</td><td>0.9426394</td><td>0.9481511</td><td>0.9319838</td><td>0.9691182</td><td>0.9249395</td><td>0.9464812</td><td>0.9530874</td><td>1.0000000</td><td>0.8965927</td><td>0.9539715</td><td>0.9473261</td><td>0.9818947</td></tr>\n",
       "\t<tr><th scope=row>Neuro.pool1_17_D52.Astro</th><td>0.8882163</td><td>0.8817595</td><td>0.9413934</td><td>0.9162325</td><td>0.9498513</td><td>0.9217701</td><td>0.9476150</td><td>0.8965662</td><td>0.9405779</td><td>0.8965927</td><td>1.0000000</td><td>0.9230769</td><td>0.9519669</td><td>0.9171315</td></tr>\n",
       "\t<tr><th scope=row>Neuro.pool1_17_D52.DA</th><td>0.9325381</td><td>0.9241492</td><td>0.9627792</td><td>0.9822185</td><td>0.9490341</td><td>0.9756098</td><td>0.9291242</td><td>0.9797802</td><td>0.9494949</td><td>0.9539715</td><td>0.9230769</td><td>1.0000000</td><td>0.9532330</td><td>0.9623722</td></tr>\n",
       "\t<tr><th scope=row>Neuro.pool1_17_D52.Epen1</th><td>0.9265006</td><td>0.9185336</td><td>0.9710813</td><td>0.9545270</td><td>0.9861472</td><td>0.9632323</td><td>0.9514403</td><td>0.9187629</td><td>0.9898691</td><td>0.9473261</td><td>0.9519669</td><td>0.9532330</td><td>1.0000000</td><td>0.9618197</td></tr>\n",
       "\t<tr><th scope=row>Neuro.pool1_17_D52.Sert</th><td>0.9200482</td><td>0.9135308</td><td>0.9583670</td><td>0.9602595</td><td>0.9471974</td><td>0.9798271</td><td>0.9250906</td><td>0.9436090</td><td>0.9588544</td><td>0.9818947</td><td>0.9171315</td><td>0.9623722</td><td>0.9618197</td><td>1.0000000</td></tr>\n",
       "</tbody>\n",
       "</table>\n"
      ],
      "text/latex": [
       "\\begin{tabular}{r|llllllllllllll}\n",
       "  & Neuro.pool1\\_13\\_noddd\\_D11.FPP & Neuro.pool1\\_13\\_noddd\\_D11.P\\_FPP & Neuro.pool1\\_13\\_noddd\\_D30.Astro & Neuro.pool1\\_13\\_noddd\\_D30.DA & Neuro.pool1\\_13\\_noddd\\_D30.Epen1 & Neuro.pool1\\_13\\_noddd\\_D30.Sert & Neuro.pool1\\_17\\_D52.ROT.Astro & Neuro.pool1\\_17\\_D52.ROT.DA & Neuro.pool1\\_17\\_D52.ROT.Epen1 & Neuro.pool1\\_17\\_D52.ROT.Sert & Neuro.pool1\\_17\\_D52.Astro & Neuro.pool1\\_17\\_D52.DA & Neuro.pool1\\_17\\_D52.Epen1 & Neuro.pool1\\_17\\_D52.Sert\\\\\n",
       "\\hline\n",
       "\tNeuro.pool1\\_13\\_noddd\\_D11.FPP & 1.0000000 & 0.9886364 & 0.9464952 & 0.9378601 & 0.9355241 & 0.9368421 & 0.9241862 & 0.9196581 & 0.9337398 & 0.9179405 & 0.8882163 & 0.9325381 & 0.9265006 & 0.9200482\\\\\n",
       "\tNeuro.pool1\\_13\\_noddd\\_D11.P\\_FPP & 0.9886364 & 1.0000000 & 0.9375775 & 0.9345336 & 0.9288981 & 0.9307290 & 0.9150435 & 0.9160959 & 0.9261663 & 0.9097835 & 0.8817595 & 0.9241492 & 0.9185336 & 0.9135308\\\\\n",
       "\tNeuro.pool1\\_13\\_noddd\\_D30.Astro & 0.9464952 & 0.9375775 & 1.0000000 & 0.9722797 & 0.9791932 & 0.9733825 & 0.9446254 & 0.9368729 & 0.9722682 & 0.9426394 & 0.9413934 & 0.9627792 & 0.9710813 & 0.9583670\\\\\n",
       "\tNeuro.pool1\\_13\\_noddd\\_D30.DA & 0.9378601 & 0.9345336 & 0.9722797 & 1.0000000 & 0.9515002 & 0.9818706 & 0.9265355 & 0.9596432 & 0.9532447 & 0.9481511 & 0.9162325 & 0.9822185 & 0.9545270 & 0.9602595\\\\\n",
       "\tNeuro.pool1\\_13\\_noddd\\_D30.Epen1 & 0.9355241 & 0.9288981 & 0.9791932 & 0.9515002 & 1.0000000 & 0.9562576 & 0.9475671 & 0.9180944 & 0.9817874 & 0.9319838 & 0.9498513 & 0.9490341 & 0.9861472 & 0.9471974\\\\\n",
       "\tNeuro.pool1\\_13\\_noddd\\_D30.Sert & 0.9368421 & 0.9307290 & 0.9733825 & 0.9818706 & 0.9562576 & 1.0000000 & 0.9300199 & 0.9539419 & 0.9610911 & 0.9691182 & 0.9217701 & 0.9756098 & 0.9632323 & 0.9798271\\\\\n",
       "\tNeuro.pool1\\_17\\_D52.ROT.Astro & 0.9241862 & 0.9150435 & 0.9446254 & 0.9265355 & 0.9475671 & 0.9300199 & 1.0000000 & 0.9141886 & 0.9633443 & 0.9249395 & 0.9476150 & 0.9291242 & 0.9514403 & 0.9250906\\\\\n",
       "\tNeuro.pool1\\_17\\_D52.ROT.DA & 0.9196581 & 0.9160959 & 0.9368729 & 0.9596432 & 0.9180944 & 0.9539419 & 0.9141886 & 1.0000000 & 0.9259564 & 0.9464812 & 0.8965662 & 0.9797802 & 0.9187629 & 0.9436090\\\\\n",
       "\tNeuro.pool1\\_17\\_D52.ROT.Epen1 & 0.9337398 & 0.9261663 & 0.9722682 & 0.9532447 & 0.9817874 & 0.9610911 & 0.9633443 & 0.9259564 & 1.0000000 & 0.9530874 & 0.9405779 & 0.9494949 & 0.9898691 & 0.9588544\\\\\n",
       "\tNeuro.pool1\\_17\\_D52.ROT.Sert & 0.9179405 & 0.9097835 & 0.9426394 & 0.9481511 & 0.9319838 & 0.9691182 & 0.9249395 & 0.9464812 & 0.9530874 & 1.0000000 & 0.8965927 & 0.9539715 & 0.9473261 & 0.9818947\\\\\n",
       "\tNeuro.pool1\\_17\\_D52.Astro & 0.8882163 & 0.8817595 & 0.9413934 & 0.9162325 & 0.9498513 & 0.9217701 & 0.9476150 & 0.8965662 & 0.9405779 & 0.8965927 & 1.0000000 & 0.9230769 & 0.9519669 & 0.9171315\\\\\n",
       "\tNeuro.pool1\\_17\\_D52.DA & 0.9325381 & 0.9241492 & 0.9627792 & 0.9822185 & 0.9490341 & 0.9756098 & 0.9291242 & 0.9797802 & 0.9494949 & 0.9539715 & 0.9230769 & 1.0000000 & 0.9532330 & 0.9623722\\\\\n",
       "\tNeuro.pool1\\_17\\_D52.Epen1 & 0.9265006 & 0.9185336 & 0.9710813 & 0.9545270 & 0.9861472 & 0.9632323 & 0.9514403 & 0.9187629 & 0.9898691 & 0.9473261 & 0.9519669 & 0.9532330 & 1.0000000 & 0.9618197\\\\\n",
       "\tNeuro.pool1\\_17\\_D52.Sert & 0.9200482 & 0.9135308 & 0.9583670 & 0.9602595 & 0.9471974 & 0.9798271 & 0.9250906 & 0.9436090 & 0.9588544 & 0.9818947 & 0.9171315 & 0.9623722 & 0.9618197 & 1.0000000\\\\\n",
       "\\end{tabular}\n"
      ],
      "text/markdown": [
       "\n",
       "| <!--/--> | Neuro.pool1_13_noddd_D11.FPP | Neuro.pool1_13_noddd_D11.P_FPP | Neuro.pool1_13_noddd_D30.Astro | Neuro.pool1_13_noddd_D30.DA | Neuro.pool1_13_noddd_D30.Epen1 | Neuro.pool1_13_noddd_D30.Sert | Neuro.pool1_17_D52.ROT.Astro | Neuro.pool1_17_D52.ROT.DA | Neuro.pool1_17_D52.ROT.Epen1 | Neuro.pool1_17_D52.ROT.Sert | Neuro.pool1_17_D52.Astro | Neuro.pool1_17_D52.DA | Neuro.pool1_17_D52.Epen1 | Neuro.pool1_17_D52.Sert |\n",
       "|---|---|---|---|---|---|---|---|---|---|---|---|---|---|---|\n",
       "| Neuro.pool1_13_noddd_D11.FPP | 1.0000000 | 0.9886364 | 0.9464952 | 0.9378601 | 0.9355241 | 0.9368421 | 0.9241862 | 0.9196581 | 0.9337398 | 0.9179405 | 0.8882163 | 0.9325381 | 0.9265006 | 0.9200482 |\n",
       "| Neuro.pool1_13_noddd_D11.P_FPP | 0.9886364 | 1.0000000 | 0.9375775 | 0.9345336 | 0.9288981 | 0.9307290 | 0.9150435 | 0.9160959 | 0.9261663 | 0.9097835 | 0.8817595 | 0.9241492 | 0.9185336 | 0.9135308 |\n",
       "| Neuro.pool1_13_noddd_D30.Astro | 0.9464952 | 0.9375775 | 1.0000000 | 0.9722797 | 0.9791932 | 0.9733825 | 0.9446254 | 0.9368729 | 0.9722682 | 0.9426394 | 0.9413934 | 0.9627792 | 0.9710813 | 0.9583670 |\n",
       "| Neuro.pool1_13_noddd_D30.DA | 0.9378601 | 0.9345336 | 0.9722797 | 1.0000000 | 0.9515002 | 0.9818706 | 0.9265355 | 0.9596432 | 0.9532447 | 0.9481511 | 0.9162325 | 0.9822185 | 0.9545270 | 0.9602595 |\n",
       "| Neuro.pool1_13_noddd_D30.Epen1 | 0.9355241 | 0.9288981 | 0.9791932 | 0.9515002 | 1.0000000 | 0.9562576 | 0.9475671 | 0.9180944 | 0.9817874 | 0.9319838 | 0.9498513 | 0.9490341 | 0.9861472 | 0.9471974 |\n",
       "| Neuro.pool1_13_noddd_D30.Sert | 0.9368421 | 0.9307290 | 0.9733825 | 0.9818706 | 0.9562576 | 1.0000000 | 0.9300199 | 0.9539419 | 0.9610911 | 0.9691182 | 0.9217701 | 0.9756098 | 0.9632323 | 0.9798271 |\n",
       "| Neuro.pool1_17_D52.ROT.Astro | 0.9241862 | 0.9150435 | 0.9446254 | 0.9265355 | 0.9475671 | 0.9300199 | 1.0000000 | 0.9141886 | 0.9633443 | 0.9249395 | 0.9476150 | 0.9291242 | 0.9514403 | 0.9250906 |\n",
       "| Neuro.pool1_17_D52.ROT.DA | 0.9196581 | 0.9160959 | 0.9368729 | 0.9596432 | 0.9180944 | 0.9539419 | 0.9141886 | 1.0000000 | 0.9259564 | 0.9464812 | 0.8965662 | 0.9797802 | 0.9187629 | 0.9436090 |\n",
       "| Neuro.pool1_17_D52.ROT.Epen1 | 0.9337398 | 0.9261663 | 0.9722682 | 0.9532447 | 0.9817874 | 0.9610911 | 0.9633443 | 0.9259564 | 1.0000000 | 0.9530874 | 0.9405779 | 0.9494949 | 0.9898691 | 0.9588544 |\n",
       "| Neuro.pool1_17_D52.ROT.Sert | 0.9179405 | 0.9097835 | 0.9426394 | 0.9481511 | 0.9319838 | 0.9691182 | 0.9249395 | 0.9464812 | 0.9530874 | 1.0000000 | 0.8965927 | 0.9539715 | 0.9473261 | 0.9818947 |\n",
       "| Neuro.pool1_17_D52.Astro | 0.8882163 | 0.8817595 | 0.9413934 | 0.9162325 | 0.9498513 | 0.9217701 | 0.9476150 | 0.8965662 | 0.9405779 | 0.8965927 | 1.0000000 | 0.9230769 | 0.9519669 | 0.9171315 |\n",
       "| Neuro.pool1_17_D52.DA | 0.9325381 | 0.9241492 | 0.9627792 | 0.9822185 | 0.9490341 | 0.9756098 | 0.9291242 | 0.9797802 | 0.9494949 | 0.9539715 | 0.9230769 | 1.0000000 | 0.9532330 | 0.9623722 |\n",
       "| Neuro.pool1_17_D52.Epen1 | 0.9265006 | 0.9185336 | 0.9710813 | 0.9545270 | 0.9861472 | 0.9632323 | 0.9514403 | 0.9187629 | 0.9898691 | 0.9473261 | 0.9519669 | 0.9532330 | 1.0000000 | 0.9618197 |\n",
       "| Neuro.pool1_17_D52.Sert | 0.9200482 | 0.9135308 | 0.9583670 | 0.9602595 | 0.9471974 | 0.9798271 | 0.9250906 | 0.9436090 | 0.9588544 | 0.9818947 | 0.9171315 | 0.9623722 | 0.9618197 | 1.0000000 |\n",
       "\n"
      ],
      "text/plain": [
       "                               Neuro.pool1_13_noddd_D11.FPP\n",
       "Neuro.pool1_13_noddd_D11.FPP   1.0000000                   \n",
       "Neuro.pool1_13_noddd_D11.P_FPP 0.9886364                   \n",
       "Neuro.pool1_13_noddd_D30.Astro 0.9464952                   \n",
       "Neuro.pool1_13_noddd_D30.DA    0.9378601                   \n",
       "Neuro.pool1_13_noddd_D30.Epen1 0.9355241                   \n",
       "Neuro.pool1_13_noddd_D30.Sert  0.9368421                   \n",
       "Neuro.pool1_17_D52.ROT.Astro   0.9241862                   \n",
       "Neuro.pool1_17_D52.ROT.DA      0.9196581                   \n",
       "Neuro.pool1_17_D52.ROT.Epen1   0.9337398                   \n",
       "Neuro.pool1_17_D52.ROT.Sert    0.9179405                   \n",
       "Neuro.pool1_17_D52.Astro       0.8882163                   \n",
       "Neuro.pool1_17_D52.DA          0.9325381                   \n",
       "Neuro.pool1_17_D52.Epen1       0.9265006                   \n",
       "Neuro.pool1_17_D52.Sert        0.9200482                   \n",
       "                               Neuro.pool1_13_noddd_D11.P_FPP\n",
       "Neuro.pool1_13_noddd_D11.FPP   0.9886364                     \n",
       "Neuro.pool1_13_noddd_D11.P_FPP 1.0000000                     \n",
       "Neuro.pool1_13_noddd_D30.Astro 0.9375775                     \n",
       "Neuro.pool1_13_noddd_D30.DA    0.9345336                     \n",
       "Neuro.pool1_13_noddd_D30.Epen1 0.9288981                     \n",
       "Neuro.pool1_13_noddd_D30.Sert  0.9307290                     \n",
       "Neuro.pool1_17_D52.ROT.Astro   0.9150435                     \n",
       "Neuro.pool1_17_D52.ROT.DA      0.9160959                     \n",
       "Neuro.pool1_17_D52.ROT.Epen1   0.9261663                     \n",
       "Neuro.pool1_17_D52.ROT.Sert    0.9097835                     \n",
       "Neuro.pool1_17_D52.Astro       0.8817595                     \n",
       "Neuro.pool1_17_D52.DA          0.9241492                     \n",
       "Neuro.pool1_17_D52.Epen1       0.9185336                     \n",
       "Neuro.pool1_17_D52.Sert        0.9135308                     \n",
       "                               Neuro.pool1_13_noddd_D30.Astro\n",
       "Neuro.pool1_13_noddd_D11.FPP   0.9464952                     \n",
       "Neuro.pool1_13_noddd_D11.P_FPP 0.9375775                     \n",
       "Neuro.pool1_13_noddd_D30.Astro 1.0000000                     \n",
       "Neuro.pool1_13_noddd_D30.DA    0.9722797                     \n",
       "Neuro.pool1_13_noddd_D30.Epen1 0.9791932                     \n",
       "Neuro.pool1_13_noddd_D30.Sert  0.9733825                     \n",
       "Neuro.pool1_17_D52.ROT.Astro   0.9446254                     \n",
       "Neuro.pool1_17_D52.ROT.DA      0.9368729                     \n",
       "Neuro.pool1_17_D52.ROT.Epen1   0.9722682                     \n",
       "Neuro.pool1_17_D52.ROT.Sert    0.9426394                     \n",
       "Neuro.pool1_17_D52.Astro       0.9413934                     \n",
       "Neuro.pool1_17_D52.DA          0.9627792                     \n",
       "Neuro.pool1_17_D52.Epen1       0.9710813                     \n",
       "Neuro.pool1_17_D52.Sert        0.9583670                     \n",
       "                               Neuro.pool1_13_noddd_D30.DA\n",
       "Neuro.pool1_13_noddd_D11.FPP   0.9378601                  \n",
       "Neuro.pool1_13_noddd_D11.P_FPP 0.9345336                  \n",
       "Neuro.pool1_13_noddd_D30.Astro 0.9722797                  \n",
       "Neuro.pool1_13_noddd_D30.DA    1.0000000                  \n",
       "Neuro.pool1_13_noddd_D30.Epen1 0.9515002                  \n",
       "Neuro.pool1_13_noddd_D30.Sert  0.9818706                  \n",
       "Neuro.pool1_17_D52.ROT.Astro   0.9265355                  \n",
       "Neuro.pool1_17_D52.ROT.DA      0.9596432                  \n",
       "Neuro.pool1_17_D52.ROT.Epen1   0.9532447                  \n",
       "Neuro.pool1_17_D52.ROT.Sert    0.9481511                  \n",
       "Neuro.pool1_17_D52.Astro       0.9162325                  \n",
       "Neuro.pool1_17_D52.DA          0.9822185                  \n",
       "Neuro.pool1_17_D52.Epen1       0.9545270                  \n",
       "Neuro.pool1_17_D52.Sert        0.9602595                  \n",
       "                               Neuro.pool1_13_noddd_D30.Epen1\n",
       "Neuro.pool1_13_noddd_D11.FPP   0.9355241                     \n",
       "Neuro.pool1_13_noddd_D11.P_FPP 0.9288981                     \n",
       "Neuro.pool1_13_noddd_D30.Astro 0.9791932                     \n",
       "Neuro.pool1_13_noddd_D30.DA    0.9515002                     \n",
       "Neuro.pool1_13_noddd_D30.Epen1 1.0000000                     \n",
       "Neuro.pool1_13_noddd_D30.Sert  0.9562576                     \n",
       "Neuro.pool1_17_D52.ROT.Astro   0.9475671                     \n",
       "Neuro.pool1_17_D52.ROT.DA      0.9180944                     \n",
       "Neuro.pool1_17_D52.ROT.Epen1   0.9817874                     \n",
       "Neuro.pool1_17_D52.ROT.Sert    0.9319838                     \n",
       "Neuro.pool1_17_D52.Astro       0.9498513                     \n",
       "Neuro.pool1_17_D52.DA          0.9490341                     \n",
       "Neuro.pool1_17_D52.Epen1       0.9861472                     \n",
       "Neuro.pool1_17_D52.Sert        0.9471974                     \n",
       "                               Neuro.pool1_13_noddd_D30.Sert\n",
       "Neuro.pool1_13_noddd_D11.FPP   0.9368421                    \n",
       "Neuro.pool1_13_noddd_D11.P_FPP 0.9307290                    \n",
       "Neuro.pool1_13_noddd_D30.Astro 0.9733825                    \n",
       "Neuro.pool1_13_noddd_D30.DA    0.9818706                    \n",
       "Neuro.pool1_13_noddd_D30.Epen1 0.9562576                    \n",
       "Neuro.pool1_13_noddd_D30.Sert  1.0000000                    \n",
       "Neuro.pool1_17_D52.ROT.Astro   0.9300199                    \n",
       "Neuro.pool1_17_D52.ROT.DA      0.9539419                    \n",
       "Neuro.pool1_17_D52.ROT.Epen1   0.9610911                    \n",
       "Neuro.pool1_17_D52.ROT.Sert    0.9691182                    \n",
       "Neuro.pool1_17_D52.Astro       0.9217701                    \n",
       "Neuro.pool1_17_D52.DA          0.9756098                    \n",
       "Neuro.pool1_17_D52.Epen1       0.9632323                    \n",
       "Neuro.pool1_17_D52.Sert        0.9798271                    \n",
       "                               Neuro.pool1_17_D52.ROT.Astro\n",
       "Neuro.pool1_13_noddd_D11.FPP   0.9241862                   \n",
       "Neuro.pool1_13_noddd_D11.P_FPP 0.9150435                   \n",
       "Neuro.pool1_13_noddd_D30.Astro 0.9446254                   \n",
       "Neuro.pool1_13_noddd_D30.DA    0.9265355                   \n",
       "Neuro.pool1_13_noddd_D30.Epen1 0.9475671                   \n",
       "Neuro.pool1_13_noddd_D30.Sert  0.9300199                   \n",
       "Neuro.pool1_17_D52.ROT.Astro   1.0000000                   \n",
       "Neuro.pool1_17_D52.ROT.DA      0.9141886                   \n",
       "Neuro.pool1_17_D52.ROT.Epen1   0.9633443                   \n",
       "Neuro.pool1_17_D52.ROT.Sert    0.9249395                   \n",
       "Neuro.pool1_17_D52.Astro       0.9476150                   \n",
       "Neuro.pool1_17_D52.DA          0.9291242                   \n",
       "Neuro.pool1_17_D52.Epen1       0.9514403                   \n",
       "Neuro.pool1_17_D52.Sert        0.9250906                   \n",
       "                               Neuro.pool1_17_D52.ROT.DA\n",
       "Neuro.pool1_13_noddd_D11.FPP   0.9196581                \n",
       "Neuro.pool1_13_noddd_D11.P_FPP 0.9160959                \n",
       "Neuro.pool1_13_noddd_D30.Astro 0.9368729                \n",
       "Neuro.pool1_13_noddd_D30.DA    0.9596432                \n",
       "Neuro.pool1_13_noddd_D30.Epen1 0.9180944                \n",
       "Neuro.pool1_13_noddd_D30.Sert  0.9539419                \n",
       "Neuro.pool1_17_D52.ROT.Astro   0.9141886                \n",
       "Neuro.pool1_17_D52.ROT.DA      1.0000000                \n",
       "Neuro.pool1_17_D52.ROT.Epen1   0.9259564                \n",
       "Neuro.pool1_17_D52.ROT.Sert    0.9464812                \n",
       "Neuro.pool1_17_D52.Astro       0.8965662                \n",
       "Neuro.pool1_17_D52.DA          0.9797802                \n",
       "Neuro.pool1_17_D52.Epen1       0.9187629                \n",
       "Neuro.pool1_17_D52.Sert        0.9436090                \n",
       "                               Neuro.pool1_17_D52.ROT.Epen1\n",
       "Neuro.pool1_13_noddd_D11.FPP   0.9337398                   \n",
       "Neuro.pool1_13_noddd_D11.P_FPP 0.9261663                   \n",
       "Neuro.pool1_13_noddd_D30.Astro 0.9722682                   \n",
       "Neuro.pool1_13_noddd_D30.DA    0.9532447                   \n",
       "Neuro.pool1_13_noddd_D30.Epen1 0.9817874                   \n",
       "Neuro.pool1_13_noddd_D30.Sert  0.9610911                   \n",
       "Neuro.pool1_17_D52.ROT.Astro   0.9633443                   \n",
       "Neuro.pool1_17_D52.ROT.DA      0.9259564                   \n",
       "Neuro.pool1_17_D52.ROT.Epen1   1.0000000                   \n",
       "Neuro.pool1_17_D52.ROT.Sert    0.9530874                   \n",
       "Neuro.pool1_17_D52.Astro       0.9405779                   \n",
       "Neuro.pool1_17_D52.DA          0.9494949                   \n",
       "Neuro.pool1_17_D52.Epen1       0.9898691                   \n",
       "Neuro.pool1_17_D52.Sert        0.9588544                   \n",
       "                               Neuro.pool1_17_D52.ROT.Sert\n",
       "Neuro.pool1_13_noddd_D11.FPP   0.9179405                  \n",
       "Neuro.pool1_13_noddd_D11.P_FPP 0.9097835                  \n",
       "Neuro.pool1_13_noddd_D30.Astro 0.9426394                  \n",
       "Neuro.pool1_13_noddd_D30.DA    0.9481511                  \n",
       "Neuro.pool1_13_noddd_D30.Epen1 0.9319838                  \n",
       "Neuro.pool1_13_noddd_D30.Sert  0.9691182                  \n",
       "Neuro.pool1_17_D52.ROT.Astro   0.9249395                  \n",
       "Neuro.pool1_17_D52.ROT.DA      0.9464812                  \n",
       "Neuro.pool1_17_D52.ROT.Epen1   0.9530874                  \n",
       "Neuro.pool1_17_D52.ROT.Sert    1.0000000                  \n",
       "Neuro.pool1_17_D52.Astro       0.8965927                  \n",
       "Neuro.pool1_17_D52.DA          0.9539715                  \n",
       "Neuro.pool1_17_D52.Epen1       0.9473261                  \n",
       "Neuro.pool1_17_D52.Sert        0.9818947                  \n",
       "                               Neuro.pool1_17_D52.Astro Neuro.pool1_17_D52.DA\n",
       "Neuro.pool1_13_noddd_D11.FPP   0.8882163                0.9325381            \n",
       "Neuro.pool1_13_noddd_D11.P_FPP 0.8817595                0.9241492            \n",
       "Neuro.pool1_13_noddd_D30.Astro 0.9413934                0.9627792            \n",
       "Neuro.pool1_13_noddd_D30.DA    0.9162325                0.9822185            \n",
       "Neuro.pool1_13_noddd_D30.Epen1 0.9498513                0.9490341            \n",
       "Neuro.pool1_13_noddd_D30.Sert  0.9217701                0.9756098            \n",
       "Neuro.pool1_17_D52.ROT.Astro   0.9476150                0.9291242            \n",
       "Neuro.pool1_17_D52.ROT.DA      0.8965662                0.9797802            \n",
       "Neuro.pool1_17_D52.ROT.Epen1   0.9405779                0.9494949            \n",
       "Neuro.pool1_17_D52.ROT.Sert    0.8965927                0.9539715            \n",
       "Neuro.pool1_17_D52.Astro       1.0000000                0.9230769            \n",
       "Neuro.pool1_17_D52.DA          0.9230769                1.0000000            \n",
       "Neuro.pool1_17_D52.Epen1       0.9519669                0.9532330            \n",
       "Neuro.pool1_17_D52.Sert        0.9171315                0.9623722            \n",
       "                               Neuro.pool1_17_D52.Epen1 Neuro.pool1_17_D52.Sert\n",
       "Neuro.pool1_13_noddd_D11.FPP   0.9265006                0.9200482              \n",
       "Neuro.pool1_13_noddd_D11.P_FPP 0.9185336                0.9135308              \n",
       "Neuro.pool1_13_noddd_D30.Astro 0.9710813                0.9583670              \n",
       "Neuro.pool1_13_noddd_D30.DA    0.9545270                0.9602595              \n",
       "Neuro.pool1_13_noddd_D30.Epen1 0.9861472                0.9471974              \n",
       "Neuro.pool1_13_noddd_D30.Sert  0.9632323                0.9798271              \n",
       "Neuro.pool1_17_D52.ROT.Astro   0.9514403                0.9250906              \n",
       "Neuro.pool1_17_D52.ROT.DA      0.9187629                0.9436090              \n",
       "Neuro.pool1_17_D52.ROT.Epen1   0.9898691                0.9588544              \n",
       "Neuro.pool1_17_D52.ROT.Sert    0.9473261                0.9818947              \n",
       "Neuro.pool1_17_D52.Astro       0.9519669                0.9171315              \n",
       "Neuro.pool1_17_D52.DA          0.9532330                0.9623722              \n",
       "Neuro.pool1_17_D52.Epen1       1.0000000                0.9618197              \n",
       "Neuro.pool1_17_D52.Sert        0.9618197                1.0000000              "
      ]
     },
     "metadata": {},
     "output_type": "display_data"
    }
   ],
   "source": [
    "mat_to_plot = pairwiseSharingSign\n",
    "# mat_to_plot = pairwiseSharing\n",
    "mat_to_plot"
   ]
  },
  {
   "cell_type": "code",
   "execution_count": 38,
   "metadata": {},
   "outputs": [],
   "source": [
    "rownames(mat_to_plot) <- c(\"D11_FPP\", \n",
    "#                            \"D11_NB\", \n",
    "                           \"D11_P_FPP\",\n",
    "                           \"D30_FPP\",\"D30_DA\",\"D30_Epen1\",\"D30_Sert\",\n",
    "                           \"D52_Astro_ROT\",\"D52_DA_ROT\",\"D52_Epen1_ROT\",\"D52_Sert_ROT\",\n",
    "                           \"D52_Astro\",\"D52_DA\",\"D52_Epen1\",\"D52_Sert\"\n",
    "                           )\n",
    "colnames(mat_to_plot) = rownames(mat_to_plot)"
   ]
  },
  {
   "cell_type": "code",
   "execution_count": 39,
   "metadata": {},
   "outputs": [],
   "source": [
    "library(RColorBrewer)"
   ]
  },
  {
   "cell_type": "code",
   "execution_count": 40,
   "metadata": {},
   "outputs": [
    {
     "data": {
      "image/png": "[encoded data removed]",
      "text/plain": [
       "plot without title"
      ]
     },
     "metadata": {},
     "output_type": "display_data"
    }
   ],
   "source": [
    "options(repr.plot.width=12, repr.plot.height=6)\n",
    "heatmap(mat_to_plot, symm = T, col= colorRampPalette(brewer.pal(8, \"Oranges\"))(25))\n",
    "legend(x=\"bottomleft\", legend=c(round(min(mat_to_plot),digits = 2), \n",
    "                                round(mean(mat_to_plot),digits = 2), max(mat_to_plot)), \n",
    "       fill=colorRampPalette(brewer.pal(8, \"Oranges\"))(3),\n",
    "      title = \"eQTL sharing\", bty = \"n\")"
   ]
  },
  {
   "cell_type": "code",
   "execution_count": 45,
   "metadata": {},
   "outputs": [
    {
     "data": {
      "text/html": [
       "<strong>png:</strong> 2"
      ],
      "text/latex": [
       "\\textbf{png:} 2"
      ],
      "text/markdown": [
       "**png:** 2"
      ],
      "text/plain": [
       "png \n",
       "  2 "
      ]
     },
     "metadata": {},
     "output_type": "display_data"
    }
   ],
   "source": [
    "pdf(paste0(fig_dir,\"Ext_Fig_7c.pdf\"), width=12, height=6)\n",
    "heatmap(mat_to_plot, symm = T, col= colorRampPalette(brewer.pal(8, \"Oranges\"))(25))\n",
    "legend(x=\"bottomleft\", legend=c(round(min(mat_to_plot),digits = 2), \n",
    "                                round(mean(mat_to_plot),digits = 2), max(mat_to_plot)), \n",
    "       fill=colorRampPalette(brewer.pal(8, \"Oranges\"))(3),\n",
    "      title = \"eQTL sharing\", bty = \"n\") \n",
    "dev.off()"
   ]
  },
  {
   "cell_type": "code",
   "execution_count": null,
   "metadata": {},
   "outputs": [],
   "source": []
  },
  {
   "cell_type": "code",
   "execution_count": 41,
   "metadata": {},
   "outputs": [],
   "source": [
    "###"
   ]
  },
  {
   "cell_type": "code",
   "execution_count": 42,
   "metadata": {},
   "outputs": [],
   "source": [
    "df = lfsrMat\n",
    "df$how_many_maps = 0\n",
    "for (i in 1:nrow(df)){\n",
    "    df$how_many_maps[i] = sum(df[i,1:(ncol(df)-1)]<0.05)\n",
    "}"
   ]
  },
  {
   "cell_type": "code",
   "execution_count": 48,
   "metadata": {},
   "outputs": [
    {
     "data": {
      "image/png": "[encoded data removed]",
      "text/plain": [
       "Plot with title “”"
      ]
     },
     "metadata": {},
     "output_type": "display_data"
    }
   ],
   "source": [
    "options(repr.plot.width=6, repr.plot.height=6)\n",
    "hist(df[df$how_many_maps>0,'how_many_maps'], breaks = 14, main = \"\", xlab = \"Number of maps\")"
   ]
  },
  {
   "cell_type": "code",
   "execution_count": 49,
   "metadata": {},
   "outputs": [
    {
     "data": {
      "text/html": [
       "<strong>png:</strong> 2"
      ],
      "text/latex": [
       "\\textbf{png:} 2"
      ],
      "text/markdown": [
       "**png:** 2"
      ],
      "text/plain": [
       "png \n",
       "  2 "
      ]
     },
     "metadata": {},
     "output_type": "display_data"
    }
   ],
   "source": [
    "pdf(paste0(fig_dir,\"Ext_Fig_7d.pdf\"), width=6, height=6)\n",
    "hist(df[df$how_many_maps>0,'how_many_maps'], breaks = 14, main = \"\", xlab = \"Number of maps\")\n",
    "dev.off()"
   ]
  },
  {
   "cell_type": "code",
   "execution_count": null,
   "metadata": {},
   "outputs": [],
   "source": []
  }
 ],
 "metadata": {
  "kernelspec": {
   "display_name": "R",
   "language": "R",
   "name": "ir"
  },
  "language_info": {
   "codemirror_mode": "r",
   "file_extension": ".r",
   "mimetype": "text/x-r-source",
   "name": "R",
   "pygments_lexer": "r",
   "version": "3.6.1"
  }
 },
 "nbformat": 4,
 "nbformat_minor": 4
}
