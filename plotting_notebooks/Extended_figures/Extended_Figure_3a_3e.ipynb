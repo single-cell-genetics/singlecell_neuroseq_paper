{
 "cells": [
  {
   "cell_type": "code",
   "execution_count": 9,
   "metadata": {},
   "outputs": [],
   "source": [
    "fig_dir = \"/hps/nobackup/stegle/users/acuomo/all_scripts/sc_neuroseq/figures/extended_figures/\""
   ]
  },
  {
   "cell_type": "code",
   "execution_count": 2,
   "metadata": {},
   "outputs": [],
   "source": [
    "library(ggplot2)"
   ]
  },
  {
   "cell_type": "code",
   "execution_count": 1,
   "metadata": {},
   "outputs": [
    {
     "data": {
      "text/html": [
       "199"
      ],
      "text/latex": [
       "199"
      ],
      "text/markdown": [
       "199"
      ],
      "text/plain": [
       "[1] 199"
      ]
     },
     "metadata": {},
     "output_type": "display_data"
    },
    {
     "data": {
      "text/html": [
       "<table>\n",
       "<thead><tr><th scope=col>donor_id</th><th scope=col>diff_efficiency</th></tr></thead>\n",
       "<tbody>\n",
       "\t<tr><td>HPSI0114i-bezi_3</td><td>0.58269720      </td></tr>\n",
       "\t<tr><td>HPSI0114i-eipl_1</td><td>0.01287835      </td></tr>\n",
       "\t<tr><td>HPSI0114i-fikt_3</td><td>0.40282686      </td></tr>\n",
       "\t<tr><td>HPSI0114i-kolf_2</td><td>0.47059133      </td></tr>\n",
       "\t<tr><td>HPSI0114i-lexy_2</td><td>0.72690535      </td></tr>\n",
       "\t<tr><td>HPSI0114i-posc_1</td><td>0.81349206      </td></tr>\n",
       "</tbody>\n",
       "</table>\n"
      ],
      "text/latex": [
       "\\begin{tabular}{r|ll}\n",
       " donor\\_id & diff\\_efficiency\\\\\n",
       "\\hline\n",
       "\t HPSI0114i-bezi\\_3 & 0.58269720        \\\\\n",
       "\t HPSI0114i-eipl\\_1 & 0.01287835        \\\\\n",
       "\t HPSI0114i-fikt\\_3 & 0.40282686        \\\\\n",
       "\t HPSI0114i-kolf\\_2 & 0.47059133        \\\\\n",
       "\t HPSI0114i-lexy\\_2 & 0.72690535        \\\\\n",
       "\t HPSI0114i-posc\\_1 & 0.81349206        \\\\\n",
       "\\end{tabular}\n"
      ],
      "text/markdown": [
       "\n",
       "| donor_id | diff_efficiency |\n",
       "|---|---|\n",
       "| HPSI0114i-bezi_3 | 0.58269720       |\n",
       "| HPSI0114i-eipl_1 | 0.01287835       |\n",
       "| HPSI0114i-fikt_3 | 0.40282686       |\n",
       "| HPSI0114i-kolf_2 | 0.47059133       |\n",
       "| HPSI0114i-lexy_2 | 0.72690535       |\n",
       "| HPSI0114i-posc_1 | 0.81349206       |\n",
       "\n"
      ],
      "text/plain": [
       "  donor_id         diff_efficiency\n",
       "1 HPSI0114i-bezi_3 0.58269720     \n",
       "2 HPSI0114i-eipl_1 0.01287835     \n",
       "3 HPSI0114i-fikt_3 0.40282686     \n",
       "4 HPSI0114i-kolf_2 0.47059133     \n",
       "5 HPSI0114i-lexy_2 0.72690535     \n",
       "6 HPSI0114i-posc_1 0.81349206     "
      ]
     },
     "metadata": {},
     "output_type": "display_data"
    }
   ],
   "source": [
    "filename = '/nfs/leia/research/stegle/dseaton/hipsci/singlecell_neuroseq/data/data_processed/pool1_17_D52/pool1_17_D52.scanpy.w_metadata.w_celltype.scanpy.obs_df.groupedby.donor_id-pool_id-time_point.diff_efficiency_by_cell_line.tsv'\n",
    "diff_df = read.csv(filename,sep='\\t')\n",
    "nrow(diff_df)\n",
    "head(diff_df)"
   ]
  },
  {
   "cell_type": "code",
   "execution_count": 7,
   "metadata": {},
   "outputs": [
    {
     "data": {
      "image/png": "[encoded data removed]",
      "text/plain": [
       "plot without title"
      ]
     },
     "metadata": {},
     "output_type": "display_data"
    }
   ],
   "source": [
    "options(repr.plot.width=6, repr.plot.height=4)\n",
    "x = 0.2\n",
    "ggplot(diff_df, aes(x = diff_efficiency)) + geom_histogram(alpha = 0.6, binwidth = 0.04) + \n",
    "#     coord_cartesian(ylim = c(0, 2000), xlim(c(-0.6,0.6)) +\n",
    "    xlab(\"Neuronal differentiation efficiency\") + ylab(\"Number of lines\") +\n",
    "    geom_vline(xintercept = x, linetype=\"dashed\", col = \"forestgreen\") +\n",
    "    theme_classic() + theme(text = element_text(size=16))"
   ]
  },
  {
   "cell_type": "code",
   "execution_count": 10,
   "metadata": {},
   "outputs": [
    {
     "data": {
      "text/html": [
       "<strong>png:</strong> 2"
      ],
      "text/latex": [
       "\\textbf{png:} 2"
      ],
      "text/markdown": [
       "**png:** 2"
      ],
      "text/plain": [
       "png \n",
       "  2 "
      ]
     },
     "metadata": {},
     "output_type": "display_data"
    }
   ],
   "source": [
    "pdf(paste0(fig_dir,\"Ext_Fig_3a.pdf\"), width=6, height=4)\n",
    "ggplot(diff_df, aes(x = diff_efficiency)) + geom_histogram(alpha = 0.6, binwidth = 0.04) + \n",
    "#     coord_cartesian(ylim = c(0, 2000), xlim(c(-0.6,0.6)) +\n",
    "    xlab(\"Neuronal differentiation efficiency\") + ylab(\"Number of lines\") +\n",
    "    geom_vline(xintercept = x, linetype=\"dashed\", col = \"forestgreen\") +\n",
    "    theme_classic() + theme(text = element_text(size=16)) \n",
    "dev.off()"
   ]
  },
  {
   "cell_type": "code",
   "execution_count": 11,
   "metadata": {},
   "outputs": [
    {
     "data": {
      "text/html": [
       "<table>\n",
       "<thead><tr><th scope=col>donor_id</th><th scope=col>diff_efficiency</th><th scope=col>diff_outcome</th><th scope=col>model_score</th><th scope=col>model_predicted_outcome</th></tr></thead>\n",
       "<tbody>\n",
       "\t<tr><td>HPSI0114i-bezi_1</td><td>        NA      </td><td>not_assessed    </td><td>0.795830284     </td><td>success         </td></tr>\n",
       "\t<tr><td>HPSI0114i-bezi_3</td><td>0.58269720      </td><td>success         </td><td>0.990335903     </td><td>success         </td></tr>\n",
       "\t<tr><td>HPSI0114i-eipl_1</td><td>0.01287835      </td><td>failure         </td><td>0.008453323     </td><td>failure         </td></tr>\n",
       "\t<tr><td>HPSI0114i-eipl_3</td><td>        NA      </td><td>not_assessed    </td><td>0.009314145     </td><td>failure         </td></tr>\n",
       "\t<tr><td>HPSI0114i-fikt_3</td><td>0.40282686      </td><td>success         </td><td>0.950780075     </td><td>success         </td></tr>\n",
       "\t<tr><td>HPSI0114i-iisa_1</td><td>        NA      </td><td>not_assessed    </td><td>0.981784364     </td><td>success         </td></tr>\n",
       "</tbody>\n",
       "</table>\n"
      ],
      "text/latex": [
       "\\begin{tabular}{r|lllll}\n",
       " donor\\_id & diff\\_efficiency & diff\\_outcome & model\\_score & model\\_predicted\\_outcome\\\\\n",
       "\\hline\n",
       "\t HPSI0114i-bezi\\_1 &         NA         & not\\_assessed     & 0.795830284        & success           \\\\\n",
       "\t HPSI0114i-bezi\\_3 & 0.58269720         & success            & 0.990335903        & success           \\\\\n",
       "\t HPSI0114i-eipl\\_1 & 0.01287835         & failure            & 0.008453323        & failure           \\\\\n",
       "\t HPSI0114i-eipl\\_3 &         NA         & not\\_assessed     & 0.009314145        & failure           \\\\\n",
       "\t HPSI0114i-fikt\\_3 & 0.40282686         & success            & 0.950780075        & success           \\\\\n",
       "\t HPSI0114i-iisa\\_1 &         NA         & not\\_assessed     & 0.981784364        & success           \\\\\n",
       "\\end{tabular}\n"
      ],
      "text/markdown": [
       "\n",
       "| donor_id | diff_efficiency | diff_outcome | model_score | model_predicted_outcome |\n",
       "|---|---|---|---|---|\n",
       "| HPSI0114i-bezi_1 |         NA       | not_assessed     | 0.795830284      | success          |\n",
       "| HPSI0114i-bezi_3 | 0.58269720       | success          | 0.990335903      | success          |\n",
       "| HPSI0114i-eipl_1 | 0.01287835       | failure          | 0.008453323      | failure          |\n",
       "| HPSI0114i-eipl_3 |         NA       | not_assessed     | 0.009314145      | failure          |\n",
       "| HPSI0114i-fikt_3 | 0.40282686       | success          | 0.950780075      | success          |\n",
       "| HPSI0114i-iisa_1 |         NA       | not_assessed     | 0.981784364      | success          |\n",
       "\n"
      ],
      "text/plain": [
       "  donor_id         diff_efficiency diff_outcome model_score\n",
       "1 HPSI0114i-bezi_1         NA      not_assessed 0.795830284\n",
       "2 HPSI0114i-bezi_3 0.58269720      success      0.990335903\n",
       "3 HPSI0114i-eipl_1 0.01287835      failure      0.008453323\n",
       "4 HPSI0114i-eipl_3         NA      not_assessed 0.009314145\n",
       "5 HPSI0114i-fikt_3 0.40282686      success      0.950780075\n",
       "6 HPSI0114i-iisa_1         NA      not_assessed 0.981784364\n",
       "  model_predicted_outcome\n",
       "1 success                \n",
       "2 success                \n",
       "3 failure                \n",
       "4 failure                \n",
       "5 success                \n",
       "6 success                "
      ]
     },
     "metadata": {},
     "output_type": "display_data"
    }
   ],
   "source": [
    "filename = \"/nfs/leia/research/stegle/dseaton/hipsci/singlecell_neuroseq/data/analysis_results/20200907_data_freeze/differentiation_trajectories/differentiation_efficiency_predictive_model_scores.tsv\"\n",
    "score_df = read.csv(filename, sep = \"\\t\")\n",
    "head(score_df)"
   ]
  },
  {
   "cell_type": "code",
   "execution_count": 12,
   "metadata": {},
   "outputs": [
    {
     "data": {
      "text/html": [
       "<table>\n",
       "<thead><tr><th scope=col>donor_id</th><th scope=col>in_study</th><th scope=col>diff_outcome</th><th scope=col>model_score</th><th scope=col>model_predicted_outcome</th></tr></thead>\n",
       "<tbody>\n",
       "\t<tr><td>HPSI0114i-bezi_1</td><td>        NA      </td><td>not_assessed    </td><td>0.795830284     </td><td>success         </td></tr>\n",
       "\t<tr><td>HPSI0114i-bezi_3</td><td>0.58269720      </td><td>success         </td><td>0.990335903     </td><td>success         </td></tr>\n",
       "\t<tr><td>HPSI0114i-eipl_1</td><td>0.01287835      </td><td>failure         </td><td>0.008453323     </td><td>failure         </td></tr>\n",
       "\t<tr><td>HPSI0114i-eipl_3</td><td>        NA      </td><td>not_assessed    </td><td>0.009314145     </td><td>failure         </td></tr>\n",
       "\t<tr><td>HPSI0114i-fikt_3</td><td>0.40282686      </td><td>success         </td><td>0.950780075     </td><td>success         </td></tr>\n",
       "\t<tr><td>HPSI0114i-iisa_1</td><td>        NA      </td><td>not_assessed    </td><td>0.981784364     </td><td>success         </td></tr>\n",
       "</tbody>\n",
       "</table>\n"
      ],
      "text/latex": [
       "\\begin{tabular}{r|lllll}\n",
       " donor\\_id & in\\_study & diff\\_outcome & model\\_score & model\\_predicted\\_outcome\\\\\n",
       "\\hline\n",
       "\t HPSI0114i-bezi\\_1 &         NA         & not\\_assessed     & 0.795830284        & success           \\\\\n",
       "\t HPSI0114i-bezi\\_3 & 0.58269720         & success            & 0.990335903        & success           \\\\\n",
       "\t HPSI0114i-eipl\\_1 & 0.01287835         & failure            & 0.008453323        & failure           \\\\\n",
       "\t HPSI0114i-eipl\\_3 &         NA         & not\\_assessed     & 0.009314145        & failure           \\\\\n",
       "\t HPSI0114i-fikt\\_3 & 0.40282686         & success            & 0.950780075        & success           \\\\\n",
       "\t HPSI0114i-iisa\\_1 &         NA         & not\\_assessed     & 0.981784364        & success           \\\\\n",
       "\\end{tabular}\n"
      ],
      "text/markdown": [
       "\n",
       "| donor_id | in_study | diff_outcome | model_score | model_predicted_outcome |\n",
       "|---|---|---|---|---|\n",
       "| HPSI0114i-bezi_1 |         NA       | not_assessed     | 0.795830284      | success          |\n",
       "| HPSI0114i-bezi_3 | 0.58269720       | success          | 0.990335903      | success          |\n",
       "| HPSI0114i-eipl_1 | 0.01287835       | failure          | 0.008453323      | failure          |\n",
       "| HPSI0114i-eipl_3 |         NA       | not_assessed     | 0.009314145      | failure          |\n",
       "| HPSI0114i-fikt_3 | 0.40282686       | success          | 0.950780075      | success          |\n",
       "| HPSI0114i-iisa_1 |         NA       | not_assessed     | 0.981784364      | success          |\n",
       "\n"
      ],
      "text/plain": [
       "  donor_id         in_study   diff_outcome model_score model_predicted_outcome\n",
       "1 HPSI0114i-bezi_1         NA not_assessed 0.795830284 success                \n",
       "2 HPSI0114i-bezi_3 0.58269720 success      0.990335903 success                \n",
       "3 HPSI0114i-eipl_1 0.01287835 failure      0.008453323 failure                \n",
       "4 HPSI0114i-eipl_3         NA not_assessed 0.009314145 failure                \n",
       "5 HPSI0114i-fikt_3 0.40282686 success      0.950780075 success                \n",
       "6 HPSI0114i-iisa_1         NA not_assessed 0.981784364 success                "
      ]
     },
     "metadata": {},
     "output_type": "display_data"
    }
   ],
   "source": [
    "colnames(score_df)[2] = 'in_study'\n",
    "head(score_df)"
   ]
  },
  {
   "cell_type": "code",
   "execution_count": 14,
   "metadata": {},
   "outputs": [
    {
     "data": {
      "image/png": "[encoded data removed]",
      "text/plain": [
       "plot without title"
      ]
     },
     "metadata": {},
     "output_type": "display_data"
    }
   ],
   "source": [
    "options(repr.plot.width=6, repr.plot.height=3.5)\n",
    "x = 0.02231\n",
    "ggplot(score_df, aes(x = model_score)) + geom_histogram(alpha = 0.6, binwidth = 0.04) + \n",
    "#     coord_cartesian(ylim = c(0, 2000), xlim(c(-0.6,0.6)) +\n",
    "    xlab(\"Predicted differentiation score\") + ylab(\"Number of lines\") +\n",
    "    geom_vline(xintercept = x, linetype=\"dashed\", col = \"forestgreen\") +\n",
    "    theme_classic() + theme(text = element_text(size=16))"
   ]
  },
  {
   "cell_type": "code",
   "execution_count": 15,
   "metadata": {},
   "outputs": [
    {
     "data": {
      "text/html": [
       "<strong>png:</strong> 2"
      ],
      "text/latex": [
       "\\textbf{png:} 2"
      ],
      "text/markdown": [
       "**png:** 2"
      ],
      "text/plain": [
       "png \n",
       "  2 "
      ]
     },
     "metadata": {},
     "output_type": "display_data"
    }
   ],
   "source": [
    "pdf(paste0(fig_dir,\"Ext_Fig_3e.pdf\"), width=6, height=3.5)\n",
    "ggplot(score_df, aes(x = model_score)) + geom_histogram(alpha = 0.6, binwidth = 0.04) + \n",
    "#     coord_cartesian(ylim = c(0, 2000), xlim(c(-0.6,0.6)) +\n",
    "    xlab(\"Predicted differentiation score\") + ylab(\"Number of lines\") +\n",
    "    geom_vline(xintercept = x, linetype=\"dashed\", col = \"forestgreen\") +\n",
    "    theme_classic() + theme(text = element_text(size=16)) \n",
    "dev.off()"
   ]
  },
  {
   "cell_type": "code",
   "execution_count": null,
   "metadata": {},
   "outputs": [],
   "source": []
  }
 ],
 "metadata": {
  "kernelspec": {
   "display_name": "R",
   "language": "R",
   "name": "ir"
  },
  "language_info": {
   "codemirror_mode": "r",
   "file_extension": ".r",
   "mimetype": "text/x-r-source",
   "name": "R",
   "pygments_lexer": "r",
   "version": "3.6.1"
  }
 },
 "nbformat": 4,
 "nbformat_minor": 4
}
