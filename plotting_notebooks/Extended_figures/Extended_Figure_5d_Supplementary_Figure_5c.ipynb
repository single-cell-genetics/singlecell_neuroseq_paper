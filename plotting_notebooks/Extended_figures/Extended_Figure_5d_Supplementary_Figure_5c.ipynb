{
 "cells": [
  {
   "cell_type": "code",
   "execution_count": 4,
   "metadata": {},
   "outputs": [],
   "source": [
    "mydir = \"/hps/nobackup/stegle/users/acuomo/all_scripts/sc_neuroseq/iPSC_scanpy/\""
   ]
  },
  {
   "cell_type": "code",
   "execution_count": 5,
   "metadata": {},
   "outputs": [],
   "source": [
    "### Cuomo et al"
   ]
  },
  {
   "cell_type": "code",
   "execution_count": 6,
   "metadata": {},
   "outputs": [
    {
     "data": {
      "text/html": [
       "<table>\n",
       "<thead><tr><th></th><th scope=col>donor_long_id</th><th scope=col>experiment</th><th scope=col>cluster_id</th><th scope=col>count</th><th scope=col>f_cells</th></tr></thead>\n",
       "<tbody>\n",
       "\t<tr><th scope=row>90</th><td>HPSI0114i-bezi_1</td><td>expt_39         </td><td>0               </td><td>7               </td><td>0.53846154      </td></tr>\n",
       "\t<tr><th scope=row>91</th><td>HPSI0114i-bezi_1</td><td>expt_39         </td><td>1               </td><td>6               </td><td>0.46153846      </td></tr>\n",
       "\t<tr><th scope=row>92</th><td>HPSI0114i-bezi_1</td><td>expt_39         </td><td>2               </td><td>0               </td><td>0.00000000      </td></tr>\n",
       "\t<tr><th scope=row>93</th><td>HPSI0114i-bezi_1</td><td>expt_39         </td><td>3               </td><td>0               </td><td>0.00000000      </td></tr>\n",
       "\t<tr><th scope=row>94</th><td>HPSI0114i-bezi_1</td><td>expt_39         </td><td>4               </td><td>0               </td><td>0.00000000      </td></tr>\n",
       "\t<tr><th scope=row>220</th><td>HPSI0114i-eipl_1</td><td>expt_41         </td><td>0               </td><td>5               </td><td>0.05050505      </td></tr>\n",
       "</tbody>\n",
       "</table>\n"
      ],
      "text/latex": [
       "\\begin{tabular}{r|lllll}\n",
       "  & donor\\_long\\_id & experiment & cluster\\_id & count & f\\_cells\\\\\n",
       "\\hline\n",
       "\t90 & HPSI0114i-bezi\\_1 & expt\\_39          & 0                  & 7                  & 0.53846154        \\\\\n",
       "\t91 & HPSI0114i-bezi\\_1 & expt\\_39          & 1                  & 6                  & 0.46153846        \\\\\n",
       "\t92 & HPSI0114i-bezi\\_1 & expt\\_39          & 2                  & 0                  & 0.00000000        \\\\\n",
       "\t93 & HPSI0114i-bezi\\_1 & expt\\_39          & 3                  & 0                  & 0.00000000        \\\\\n",
       "\t94 & HPSI0114i-bezi\\_1 & expt\\_39          & 4                  & 0                  & 0.00000000        \\\\\n",
       "\t220 & HPSI0114i-eipl\\_1 & expt\\_41          & 0                  & 5                  & 0.05050505        \\\\\n",
       "\\end{tabular}\n"
      ],
      "text/markdown": [
       "\n",
       "| <!--/--> | donor_long_id | experiment | cluster_id | count | f_cells |\n",
       "|---|---|---|---|---|---|\n",
       "| 90 | HPSI0114i-bezi_1 | expt_39          | 0                | 7                | 0.53846154       |\n",
       "| 91 | HPSI0114i-bezi_1 | expt_39          | 1                | 6                | 0.46153846       |\n",
       "| 92 | HPSI0114i-bezi_1 | expt_39          | 2                | 0                | 0.00000000       |\n",
       "| 93 | HPSI0114i-bezi_1 | expt_39          | 3                | 0                | 0.00000000       |\n",
       "| 94 | HPSI0114i-bezi_1 | expt_39          | 4                | 0                | 0.00000000       |\n",
       "| 220 | HPSI0114i-eipl_1 | expt_41          | 0                | 5                | 0.05050505       |\n",
       "\n"
      ],
      "text/plain": [
       "    donor_long_id    experiment cluster_id count f_cells   \n",
       "90  HPSI0114i-bezi_1 expt_39    0          7     0.53846154\n",
       "91  HPSI0114i-bezi_1 expt_39    1          6     0.46153846\n",
       "92  HPSI0114i-bezi_1 expt_39    2          0     0.00000000\n",
       "93  HPSI0114i-bezi_1 expt_39    3          0     0.00000000\n",
       "94  HPSI0114i-bezi_1 expt_39    4          0     0.00000000\n",
       "220 HPSI0114i-eipl_1 expt_41    0          5     0.05050505"
      ]
     },
     "metadata": {},
     "output_type": "display_data"
    }
   ],
   "source": [
    "filename = paste0(mydir,'Cuomo_cluster_cell_fractions_by_donor_experiment.csv')\n",
    "#\n",
    "df = read.csv(filename, row.names = 1)\n",
    "head(df)"
   ]
  },
  {
   "cell_type": "code",
   "execution_count": 7,
   "metadata": {},
   "outputs": [
    {
     "data": {
      "text/html": [
       "<table>\n",
       "<thead><tr><th></th><th scope=col>donor_long_id</th><th scope=col>experiment</th><th scope=col>cluster_id</th><th scope=col>count</th><th scope=col>f_cells</th></tr></thead>\n",
       "<tbody>\n",
       "\t<tr><th scope=row>92</th><td>HPSI0114i-bezi_1</td><td>expt_39         </td><td>2               </td><td> 0              </td><td>0.0000000       </td></tr>\n",
       "\t<tr><th scope=row>222</th><td>HPSI0114i-eipl_1</td><td>expt_41         </td><td>2               </td><td>81              </td><td>0.8181818       </td></tr>\n",
       "</tbody>\n",
       "</table>\n"
      ],
      "text/latex": [
       "\\begin{tabular}{r|lllll}\n",
       "  & donor\\_long\\_id & experiment & cluster\\_id & count & f\\_cells\\\\\n",
       "\\hline\n",
       "\t92 & HPSI0114i-bezi\\_1 & expt\\_39          & 2                  &  0                 & 0.0000000         \\\\\n",
       "\t222 & HPSI0114i-eipl\\_1 & expt\\_41          & 2                  & 81                 & 0.8181818         \\\\\n",
       "\\end{tabular}\n"
      ],
      "text/markdown": [
       "\n",
       "| <!--/--> | donor_long_id | experiment | cluster_id | count | f_cells |\n",
       "|---|---|---|---|---|---|\n",
       "| 92 | HPSI0114i-bezi_1 | expt_39          | 2                |  0               | 0.0000000        |\n",
       "| 222 | HPSI0114i-eipl_1 | expt_41          | 2                | 81               | 0.8181818        |\n",
       "\n"
      ],
      "text/plain": [
       "    donor_long_id    experiment cluster_id count f_cells  \n",
       "92  HPSI0114i-bezi_1 expt_39    2           0    0.0000000\n",
       "222 HPSI0114i-eipl_1 expt_41    2          81    0.8181818"
      ]
     },
     "metadata": {},
     "output_type": "display_data"
    }
   ],
   "source": [
    "df = df[df$cluster_id == '2',]\n",
    "head(df,2)"
   ]
  },
  {
   "cell_type": "code",
   "execution_count": 8,
   "metadata": {},
   "outputs": [],
   "source": [
    "df_r = data.frame()\n",
    "\n",
    "for (donor in unique(df$donor_long_id)){\n",
    "    r = df[df$donor_long_id == donor,]\n",
    "    if (nrow(r)>1){\n",
    "        df_r = rbind(df_r, data.frame(donor = donor, \n",
    "                          de1 = r[,\"f_cells\"][1],\n",
    "                          de2 = r[,\"f_cells\"][2]))\n",
    "    }\n",
    "}"
   ]
  },
  {
   "cell_type": "code",
   "execution_count": 9,
   "metadata": {},
   "outputs": [
    {
     "data": {
      "text/html": [
       "23"
      ],
      "text/latex": [
       "23"
      ],
      "text/markdown": [
       "23"
      ],
      "text/plain": [
       "[1] 23"
      ]
     },
     "metadata": {},
     "output_type": "display_data"
    },
    {
     "data": {
      "text/html": [
       "0.881546873634508"
      ],
      "text/latex": [
       "0.881546873634508"
      ],
      "text/markdown": [
       "0.881546873634508"
      ],
      "text/plain": [
       "[1] 0.8815469"
      ]
     },
     "metadata": {},
     "output_type": "display_data"
    }
   ],
   "source": [
    "nrow(df_r)\n",
    "cor(df_r$de1,df_r$de2)"
   ]
  },
  {
   "cell_type": "code",
   "execution_count": 10,
   "metadata": {},
   "outputs": [],
   "source": [
    "library(ggplot2)"
   ]
  },
  {
   "cell_type": "code",
   "execution_count": 11,
   "metadata": {},
   "outputs": [
    {
     "name": "stderr",
     "output_type": "stream",
     "text": [
      "`geom_smooth()` using formula 'y ~ x'\n"
     ]
    },
    {
     "data": {
      "image/png": "[encoded data removed]",
      "text/plain": [
       "plot without title"
      ]
     },
     "metadata": {},
     "output_type": "display_data"
    }
   ],
   "source": [
    "options(repr.plot.width=5, repr.plot.height=4.8)\n",
    "ggplot(df_r, aes(x=de1,y=de2)) + geom_point(size = 1.8) + stat_smooth(method = \"lm\", col = \"black\", alpha = \"0.25\") +\n",
    "    xlab(\"fraction of cells in cluster2 \\n(replicate 1)\") + ylab(\"fraction of cells in cluster2 \\n(replicate 2)\") + \n",
    "    xlim(c(0,1)) + ylim(c(0,1))+\n",
    "    theme_classic() + theme(axis.title = element_text(size = 16))"
   ]
  },
  {
   "cell_type": "code",
   "execution_count": 12,
   "metadata": {},
   "outputs": [
    {
     "name": "stderr",
     "output_type": "stream",
     "text": [
      "`geom_smooth()` using formula 'y ~ x'\n"
     ]
    },
    {
     "data": {
      "text/html": [
       "<strong>png:</strong> 2"
      ],
      "text/latex": [
       "\\textbf{png:} 2"
      ],
      "text/markdown": [
       "**png:** 2"
      ],
      "text/plain": [
       "png \n",
       "  2 "
      ]
     },
     "metadata": {},
     "output_type": "display_data"
    }
   ],
   "source": [
    "fig_dir = \"/hps/nobackup/stegle/users/acuomo/all_scripts/sc_neuroseq/figures/extended_figures/\"\n",
    "pdf(paste0(fig_dir,\"Extended_Figure5d.pdf\"), width=5, height=4.8)\n",
    "ggplot(df_r, aes(x=de1,y=de2)) + geom_point(size = 1.8) + stat_smooth(method = \"lm\", col = \"black\", alpha = \"0.25\") +\n",
    "    xlab(\"fraction of cells in cluster2 \\n(replicate 1)\") + ylab(\"fraction of cells in cluster2 \\n(replicate 2)\") + \n",
    "    xlim(c(0,1)) + ylim(c(0,1))+\n",
    "    theme_classic() + theme(axis.title = element_text(size = 16))\n",
    "dev.off()"
   ]
  },
  {
   "cell_type": "code",
   "execution_count": null,
   "metadata": {},
   "outputs": [],
   "source": []
  },
  {
   "cell_type": "code",
   "execution_count": 13,
   "metadata": {},
   "outputs": [],
   "source": [
    "### Sarkar et al"
   ]
  },
  {
   "cell_type": "code",
   "execution_count": 14,
   "metadata": {},
   "outputs": [
    {
     "data": {
      "text/html": [
       "<table>\n",
       "<thead><tr><th></th><th scope=col>donor_long_id</th><th scope=col>experiment</th><th scope=col>cluster_id</th><th scope=col>count</th><th scope=col>f_cells</th></tr></thead>\n",
       "<tbody>\n",
       "\t<tr><th scope=row>152</th><td>NA18489   </td><td> 9272017  </td><td>0         </td><td>1         </td><td>0.12500000</td></tr>\n",
       "\t<tr><th scope=row>153</th><td>NA18489   </td><td> 9272017  </td><td>1         </td><td>2         </td><td>0.25000000</td></tr>\n",
       "\t<tr><th scope=row>154</th><td>NA18489   </td><td> 9272017  </td><td>2         </td><td>5         </td><td>0.62500000</td></tr>\n",
       "\t<tr><th scope=row>155</th><td>NA18489   </td><td> 9272017  </td><td>3         </td><td>0         </td><td>0.00000000</td></tr>\n",
       "\t<tr><th scope=row>160</th><td>NA18489   </td><td>10042017  </td><td>0         </td><td>5         </td><td>0.19230769</td></tr>\n",
       "\t<tr><th scope=row>161</th><td>NA18489   </td><td>10042017  </td><td>1         </td><td>1         </td><td>0.03846154</td></tr>\n",
       "</tbody>\n",
       "</table>\n"
      ],
      "text/latex": [
       "\\begin{tabular}{r|lllll}\n",
       "  & donor\\_long\\_id & experiment & cluster\\_id & count & f\\_cells\\\\\n",
       "\\hline\n",
       "\t152 & NA18489    &  9272017   & 0          & 1          & 0.12500000\\\\\n",
       "\t153 & NA18489    &  9272017   & 1          & 2          & 0.25000000\\\\\n",
       "\t154 & NA18489    &  9272017   & 2          & 5          & 0.62500000\\\\\n",
       "\t155 & NA18489    &  9272017   & 3          & 0          & 0.00000000\\\\\n",
       "\t160 & NA18489    & 10042017   & 0          & 5          & 0.19230769\\\\\n",
       "\t161 & NA18489    & 10042017   & 1          & 1          & 0.03846154\\\\\n",
       "\\end{tabular}\n"
      ],
      "text/markdown": [
       "\n",
       "| <!--/--> | donor_long_id | experiment | cluster_id | count | f_cells |\n",
       "|---|---|---|---|---|---|\n",
       "| 152 | NA18489    |  9272017   | 0          | 1          | 0.12500000 |\n",
       "| 153 | NA18489    |  9272017   | 1          | 2          | 0.25000000 |\n",
       "| 154 | NA18489    |  9272017   | 2          | 5          | 0.62500000 |\n",
       "| 155 | NA18489    |  9272017   | 3          | 0          | 0.00000000 |\n",
       "| 160 | NA18489    | 10042017   | 0          | 5          | 0.19230769 |\n",
       "| 161 | NA18489    | 10042017   | 1          | 1          | 0.03846154 |\n",
       "\n"
      ],
      "text/plain": [
       "    donor_long_id experiment cluster_id count f_cells   \n",
       "152 NA18489        9272017   0          1     0.12500000\n",
       "153 NA18489        9272017   1          2     0.25000000\n",
       "154 NA18489        9272017   2          5     0.62500000\n",
       "155 NA18489        9272017   3          0     0.00000000\n",
       "160 NA18489       10042017   0          5     0.19230769\n",
       "161 NA18489       10042017   1          1     0.03846154"
      ]
     },
     "metadata": {},
     "output_type": "display_data"
    }
   ],
   "source": [
    "filename = paste0(mydir,'Sarkar_cluster_cell_fractions_by_donor_experiment.csv')\n",
    "#\n",
    "df = read.csv(filename, row.names = 1)\n",
    "head(df)"
   ]
  },
  {
   "cell_type": "code",
   "execution_count": 15,
   "metadata": {},
   "outputs": [
    {
     "data": {
      "text/html": [
       "<table>\n",
       "<thead><tr><th></th><th scope=col>donor_long_id</th><th scope=col>experiment</th><th scope=col>cluster_id</th><th scope=col>count</th><th scope=col>f_cells</th></tr></thead>\n",
       "<tbody>\n",
       "\t<tr><th scope=row>154</th><td>NA18489  </td><td> 9272017 </td><td>2        </td><td> 5       </td><td>0.6250000</td></tr>\n",
       "\t<tr><th scope=row>162</th><td>NA18489  </td><td>10042017 </td><td>2        </td><td>18       </td><td>0.6923077</td></tr>\n",
       "</tbody>\n",
       "</table>\n"
      ],
      "text/latex": [
       "\\begin{tabular}{r|lllll}\n",
       "  & donor\\_long\\_id & experiment & cluster\\_id & count & f\\_cells\\\\\n",
       "\\hline\n",
       "\t154 & NA18489   &  9272017  & 2         &  5        & 0.6250000\\\\\n",
       "\t162 & NA18489   & 10042017  & 2         & 18        & 0.6923077\\\\\n",
       "\\end{tabular}\n"
      ],
      "text/markdown": [
       "\n",
       "| <!--/--> | donor_long_id | experiment | cluster_id | count | f_cells |\n",
       "|---|---|---|---|---|---|\n",
       "| 154 | NA18489   |  9272017  | 2         |  5        | 0.6250000 |\n",
       "| 162 | NA18489   | 10042017  | 2         | 18        | 0.6923077 |\n",
       "\n"
      ],
      "text/plain": [
       "    donor_long_id experiment cluster_id count f_cells  \n",
       "154 NA18489        9272017   2           5    0.6250000\n",
       "162 NA18489       10042017   2          18    0.6923077"
      ]
     },
     "metadata": {},
     "output_type": "display_data"
    }
   ],
   "source": [
    "df = df[df$cluster_id == '2',]\n",
    "head(df,2)"
   ]
  },
  {
   "cell_type": "code",
   "execution_count": 16,
   "metadata": {},
   "outputs": [],
   "source": [
    "df_r = data.frame()\n",
    "\n",
    "for (donor in unique(df$donor_long_id)){\n",
    "    r = df[df$donor_long_id == donor,]\n",
    "    if (nrow(r)>1){\n",
    "        df_r = rbind(df_r, data.frame(donor = donor, \n",
    "                          de1 = r[,\"f_cells\"][1],\n",
    "                          de2 = r[,\"f_cells\"][2]))\n",
    "    }\n",
    "}"
   ]
  },
  {
   "cell_type": "code",
   "execution_count": 17,
   "metadata": {},
   "outputs": [],
   "source": [
    "# library(ggplot2)"
   ]
  },
  {
   "cell_type": "code",
   "execution_count": 18,
   "metadata": {},
   "outputs": [
    {
     "data": {
      "text/html": [
       "59"
      ],
      "text/latex": [
       "59"
      ],
      "text/markdown": [
       "59"
      ],
      "text/plain": [
       "[1] 59"
      ]
     },
     "metadata": {},
     "output_type": "display_data"
    },
    {
     "data": {
      "text/html": [
       "0.883915600337873"
      ],
      "text/latex": [
       "0.883915600337873"
      ],
      "text/markdown": [
       "0.883915600337873"
      ],
      "text/plain": [
       "[1] 0.8839156"
      ]
     },
     "metadata": {},
     "output_type": "display_data"
    }
   ],
   "source": [
    "nrow(df_r)\n",
    "cor(df_r$de1,df_r$de2)"
   ]
  },
  {
   "cell_type": "code",
   "execution_count": 19,
   "metadata": {},
   "outputs": [
    {
     "name": "stderr",
     "output_type": "stream",
     "text": [
      "`geom_smooth()` using formula 'y ~ x'\n"
     ]
    },
    {
     "data": {
      "image/png": "[encoded data removed]",
      "text/plain": [
       "plot without title"
      ]
     },
     "metadata": {},
     "output_type": "display_data"
    }
   ],
   "source": [
    "options(repr.plot.width=5, repr.plot.height=4.8)\n",
    "ggplot(df_r, aes(x=de1,y=de2)) + geom_point(size = 1.8) + stat_smooth(method = \"lm\", col = \"black\", alpha = \"0.25\") +\n",
    "    xlab(\"fraction of cells in cluster2 \\n(replicate 1)\") + ylab(\"fraction of cells in cluster2 \\n(replicate 2)\") + \n",
    "    xlim(c(0,1)) + ylim(c(0,1))+\n",
    "    theme_classic() + theme(axis.title = element_text(size = 14))"
   ]
  },
  {
   "cell_type": "code",
   "execution_count": 20,
   "metadata": {},
   "outputs": [
    {
     "name": "stderr",
     "output_type": "stream",
     "text": [
      "`geom_smooth()` using formula 'y ~ x'\n"
     ]
    },
    {
     "data": {
      "text/html": [
       "<strong>png:</strong> 2"
      ],
      "text/latex": [
       "\\textbf{png:} 2"
      ],
      "text/markdown": [
       "**png:** 2"
      ],
      "text/plain": [
       "png \n",
       "  2 "
      ]
     },
     "metadata": {},
     "output_type": "display_data"
    }
   ],
   "source": [
    "pdf(paste0(fig_dir,\"Supplementary_Figure5b.pdf\"), width=5, height=4.8)\n",
    "ggplot(df_r, aes(x=de1,y=de2)) + geom_point(size = 1.8) + stat_smooth(method = \"lm\", col = \"black\", alpha = \"0.25\") +\n",
    "    xlab(\"fraction of cells in cluster2 \\n(replicate 1)\") + ylab(\"fraction of cells in cluster2 \\n(replicate 2)\") + \n",
    "    xlim(c(0,1)) + ylim(c(0,1))+\n",
    "    theme_classic() + theme(axis.title = element_text(size = 14))\n",
    "dev.off()"
   ]
  },
  {
   "cell_type": "code",
   "execution_count": null,
   "metadata": {},
   "outputs": [],
   "source": []
  },
  {
   "cell_type": "code",
   "execution_count": null,
   "metadata": {},
   "outputs": [],
   "source": []
  },
  {
   "cell_type": "code",
   "execution_count": null,
   "metadata": {},
   "outputs": [],
   "source": []
  }
 ],
 "metadata": {
  "kernelspec": {
   "display_name": "R",
   "language": "R",
   "name": "ir"
  },
  "language_info": {
   "codemirror_mode": "r",
   "file_extension": ".r",
   "mimetype": "text/x-r-source",
   "name": "R",
   "pygments_lexer": "r",
   "version": "3.6.1"
  }
 },
 "nbformat": 4,
 "nbformat_minor": 4
}
