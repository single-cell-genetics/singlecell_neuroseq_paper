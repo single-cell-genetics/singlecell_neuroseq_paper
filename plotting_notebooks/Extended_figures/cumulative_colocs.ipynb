{
 "cells": [
  {
   "cell_type": "code",
   "execution_count": 1,
   "metadata": {},
   "outputs": [
    {
     "name": "stderr",
     "output_type": "stream",
     "text": [
      "\n",
      "Attaching package: ‘dplyr’\n",
      "\n",
      "The following objects are masked from ‘package:stats’:\n",
      "\n",
      "    filter, lag\n",
      "\n",
      "The following objects are masked from ‘package:base’:\n",
      "\n",
      "    intersect, setdiff, setequal, union\n",
      "\n",
      "Registered S3 methods overwritten by 'ggplot2':\n",
      "  method         from \n",
      "  [.quosures     rlang\n",
      "  c.quosures     rlang\n",
      "  print.quosures rlang\n"
     ]
    }
   ],
   "source": [
    "library(dplyr)\n",
    "library(ggplot2)"
   ]
  },
  {
   "cell_type": "code",
   "execution_count": 2,
   "metadata": {},
   "outputs": [
    {
     "data": {
      "text/html": [
       "<table>\n",
       "<thead><tr><th scope=col>gwas_trait</th><th scope=col>gene_name</th><th scope=col>eqtl_map</th><th scope=col>top_GTEx_brain</th><th scope=col>top_GTEx_non_brain</th><th scope=col>category</th></tr></thead>\n",
       "<tbody>\n",
       "\t<tr><td>Neuroticism                          </td><td>LRRC37A2                             </td><td>qtl_results_NONE_DA_all              </td><td>Brain_Cerebellar_Hemisphere          </td><td>Esophagus_Muscularis                 </td><td>N                                    </td></tr>\n",
       "\t<tr><td>Depressed affect                     </td><td>LRRC37A2                             </td><td>qtl_results_NONE_DA_all              </td><td>Brain_Hypothalamus                   </td><td>Heart_Atrial_Appendage               </td><td>N                                    </td></tr>\n",
       "\t<tr><td>Neuroticism                          </td><td>POLR3H                               </td><td>qtl_results_NONE_DA_all              </td><td>Brain_Nucleus_accumbens_basal_ganglia</td><td>Esophagus_Mucosa                     </td><td>N                                    </td></tr>\n",
       "\t<tr><td>Neuroticism                          </td><td>FANCL                                </td><td>qtl_results_NONE_DA_all              </td><td>Brain_Cerebellar_Hemisphere          </td><td>Pancreas                             </td><td>N                                    </td></tr>\n",
       "\t<tr><td>Depressed affect                     </td><td>ANKZF1                               </td><td>qtl_results_NONE_DA_all              </td><td>Brain_Hypothalamus                   </td><td>Whole_Blood                          </td><td>N                                    </td></tr>\n",
       "\t<tr><td>Cognitive performance                </td><td>AHSA1                                </td><td>qtl_results_NONE_DA_all              </td><td>Brain_Frontal_Cortex_BA9             </td><td>Cells_Transformed_fibroblasts        </td><td>N                                    </td></tr>\n",
       "</tbody>\n",
       "</table>\n"
      ],
      "text/latex": [
       "\\begin{tabular}{r|llllll}\n",
       " gwas\\_trait & gene\\_name & eqtl\\_map & top\\_GTEx\\_brain & top\\_GTEx\\_non\\_brain & category\\\\\n",
       "\\hline\n",
       "\t Neuroticism                               & LRRC37A2                                  & qtl\\_results\\_NONE\\_DA\\_all           & Brain\\_Cerebellar\\_Hemisphere           & Esophagus\\_Muscularis                    & N                                        \\\\\n",
       "\t Depressed affect                        & LRRC37A2                                & qtl\\_results\\_NONE\\_DA\\_all         & Brain\\_Hypothalamus                    & Heart\\_Atrial\\_Appendage              & N                                      \\\\\n",
       "\t Neuroticism                                   & POLR3H                                        & qtl\\_results\\_NONE\\_DA\\_all               & Brain\\_Nucleus\\_accumbens\\_basal\\_ganglia & Esophagus\\_Mucosa                            & N                                            \\\\\n",
       "\t Neuroticism                               & FANCL                                     & qtl\\_results\\_NONE\\_DA\\_all           & Brain\\_Cerebellar\\_Hemisphere           & Pancreas                                  & N                                        \\\\\n",
       "\t Depressed affect                        & ANKZF1                                  & qtl\\_results\\_NONE\\_DA\\_all         & Brain\\_Hypothalamus                    & Whole\\_Blood                           & N                                      \\\\\n",
       "\t Cognitive performance                       & AHSA1                                       & qtl\\_results\\_NONE\\_DA\\_all             & Brain\\_Frontal\\_Cortex\\_BA9              & Cells\\_Transformed\\_fibroblasts           & N                                          \\\\\n",
       "\\end{tabular}\n"
      ],
      "text/markdown": [
       "\n",
       "| gwas_trait | gene_name | eqtl_map | top_GTEx_brain | top_GTEx_non_brain | category |\n",
       "|---|---|---|---|---|---|\n",
       "| Neuroticism                           | LRRC37A2                              | qtl_results_NONE_DA_all               | Brain_Cerebellar_Hemisphere           | Esophagus_Muscularis                  | N                                     |\n",
       "| Depressed affect                      | LRRC37A2                              | qtl_results_NONE_DA_all               | Brain_Hypothalamus                    | Heart_Atrial_Appendage                | N                                     |\n",
       "| Neuroticism                           | POLR3H                                | qtl_results_NONE_DA_all               | Brain_Nucleus_accumbens_basal_ganglia | Esophagus_Mucosa                      | N                                     |\n",
       "| Neuroticism                           | FANCL                                 | qtl_results_NONE_DA_all               | Brain_Cerebellar_Hemisphere           | Pancreas                              | N                                     |\n",
       "| Depressed affect                      | ANKZF1                                | qtl_results_NONE_DA_all               | Brain_Hypothalamus                    | Whole_Blood                           | N                                     |\n",
       "| Cognitive performance                 | AHSA1                                 | qtl_results_NONE_DA_all               | Brain_Frontal_Cortex_BA9              | Cells_Transformed_fibroblasts         | N                                     |\n",
       "\n"
      ],
      "text/plain": [
       "  gwas_trait            gene_name eqtl_map               \n",
       "1 Neuroticism           LRRC37A2  qtl_results_NONE_DA_all\n",
       "2 Depressed affect      LRRC37A2  qtl_results_NONE_DA_all\n",
       "3 Neuroticism           POLR3H    qtl_results_NONE_DA_all\n",
       "4 Neuroticism           FANCL     qtl_results_NONE_DA_all\n",
       "5 Depressed affect      ANKZF1    qtl_results_NONE_DA_all\n",
       "6 Cognitive performance AHSA1     qtl_results_NONE_DA_all\n",
       "  top_GTEx_brain                        top_GTEx_non_brain            category\n",
       "1 Brain_Cerebellar_Hemisphere           Esophagus_Muscularis          N       \n",
       "2 Brain_Hypothalamus                    Heart_Atrial_Appendage        N       \n",
       "3 Brain_Nucleus_accumbens_basal_ganglia Esophagus_Mucosa              N       \n",
       "4 Brain_Cerebellar_Hemisphere           Pancreas                      N       \n",
       "5 Brain_Hypothalamus                    Whole_Blood                   N       \n",
       "6 Brain_Frontal_Cortex_BA9              Cells_Transformed_fibroblasts N       "
      ]
     },
     "metadata": {},
     "output_type": "display_data"
    }
   ],
   "source": [
    "filename = \"/hps/nobackup/stegle/users/acuomo/all_scripts/sc_neuroseq/coloc/coloc_genes.txt\"\n",
    "# filename = \"/hps/nobackup/stegle/users/acuomo/all_scripts/sc_neuroseq/coloc/coloc_genes_w_sample_size.txt\"\n",
    "# df = read.csv(filename)\n",
    "df = read.csv(filename, sep = \"\\t\", header = F)\n",
    "colnames(df) = c(\"gwas_trait\",\"gene_name\",\"eqtl_map\",\"top_GTEx_brain\",\"top_GTEx_non_brain\",\"category\")\n",
    "# df$X = c()\n",
    "head(df)"
   ]
  },
  {
   "cell_type": "code",
   "execution_count": 3,
   "metadata": {},
   "outputs": [],
   "source": [
    "# df = df[df$category == 'N',]"
   ]
  },
  {
   "cell_type": "code",
   "execution_count": 4,
   "metadata": {},
   "outputs": [
    {
     "data": {
      "text/html": [
       "<ol class=list-inline>\n",
       "\t<li>'NONE_DA'</li>\n",
       "\t<li>'ROT_DA'</li>\n",
       "\t<li>'pool1_13_noddd_D30.DA'</li>\n",
       "\t<li>'NONE_Sert'</li>\n",
       "\t<li>'ROT_Sert'</li>\n",
       "\t<li>'pool1_13_noddd_D30.Sert'</li>\n",
       "\t<li>'NONE_Epen1'</li>\n",
       "\t<li>'ROT_Epen1'</li>\n",
       "\t<li>'pool1_13_noddd_D30.Epen1'</li>\n",
       "\t<li>'NONE_Astro'</li>\n",
       "\t<li>'ROT_Astro'</li>\n",
       "\t<li>'pool1_13_noddd_D30.Astro'</li>\n",
       "\t<li>'pool1_13_noddd_D11.FPP'</li>\n",
       "\t<li>'pool1_13_noddd_D11.P_FPP'</li>\n",
       "\t<li>'pool1_13_noddd_D11.NB'</li>\n",
       "</ol>\n"
      ],
      "text/latex": [
       "\\begin{enumerate*}\n",
       "\\item 'NONE\\_DA'\n",
       "\\item 'ROT\\_DA'\n",
       "\\item 'pool1\\_13\\_noddd\\_D30.DA'\n",
       "\\item 'NONE\\_Sert'\n",
       "\\item 'ROT\\_Sert'\n",
       "\\item 'pool1\\_13\\_noddd\\_D30.Sert'\n",
       "\\item 'NONE\\_Epen1'\n",
       "\\item 'ROT\\_Epen1'\n",
       "\\item 'pool1\\_13\\_noddd\\_D30.Epen1'\n",
       "\\item 'NONE\\_Astro'\n",
       "\\item 'ROT\\_Astro'\n",
       "\\item 'pool1\\_13\\_noddd\\_D30.Astro'\n",
       "\\item 'pool1\\_13\\_noddd\\_D11.FPP'\n",
       "\\item 'pool1\\_13\\_noddd\\_D11.P\\_FPP'\n",
       "\\item 'pool1\\_13\\_noddd\\_D11.NB'\n",
       "\\end{enumerate*}\n"
      ],
      "text/markdown": [
       "1. 'NONE_DA'\n",
       "2. 'ROT_DA'\n",
       "3. 'pool1_13_noddd_D30.DA'\n",
       "4. 'NONE_Sert'\n",
       "5. 'ROT_Sert'\n",
       "6. 'pool1_13_noddd_D30.Sert'\n",
       "7. 'NONE_Epen1'\n",
       "8. 'ROT_Epen1'\n",
       "9. 'pool1_13_noddd_D30.Epen1'\n",
       "10. 'NONE_Astro'\n",
       "11. 'ROT_Astro'\n",
       "12. 'pool1_13_noddd_D30.Astro'\n",
       "13. 'pool1_13_noddd_D11.FPP'\n",
       "14. 'pool1_13_noddd_D11.P_FPP'\n",
       "15. 'pool1_13_noddd_D11.NB'\n",
       "\n",
       "\n"
      ],
      "text/plain": [
       " [1] \"NONE_DA\"                  \"ROT_DA\"                  \n",
       " [3] \"pool1_13_noddd_D30.DA\"    \"NONE_Sert\"               \n",
       " [5] \"ROT_Sert\"                 \"pool1_13_noddd_D30.Sert\" \n",
       " [7] \"NONE_Epen1\"               \"ROT_Epen1\"               \n",
       " [9] \"pool1_13_noddd_D30.Epen1\" \"NONE_Astro\"              \n",
       "[11] \"ROT_Astro\"                \"pool1_13_noddd_D30.Astro\"\n",
       "[13] \"pool1_13_noddd_D11.FPP\"   \"pool1_13_noddd_D11.P_FPP\"\n",
       "[15] \"pool1_13_noddd_D11.NB\"   "
      ]
     },
     "metadata": {},
     "output_type": "display_data"
    }
   ],
   "source": [
    "df$eqtl_map = as.character(df$eqtl_map)\n",
    "df$eqtl_map = gsub(\".qtl_results_all\",\"\",df$eqtl_map)\n",
    "df$eqtl_map = gsub(\"qtl_results_\",\"\",df$eqtl_map)\n",
    "df$eqtl_map = gsub(\"_all\",\"\",df$eqtl_map)\n",
    "unique(df$eqtl_map)"
   ]
  },
  {
   "cell_type": "code",
   "execution_count": 5,
   "metadata": {},
   "outputs": [],
   "source": [
    "df = df %>% mutate(eqtl_map = factor(eqtl_map, levels=c(\"pool1_13_noddd_D11.FPP\",\"pool1_13_noddd_D11.P_FPP\",\n",
    "                                                   \"pool1_13_noddd_D11.NB\",\n",
    "                                                   \"pool1_13_noddd_D30.Astro\",\"pool1_13_noddd_D30.DA\",\n",
    "                                                   \"pool1_13_noddd_D30.Sert\",\"pool1_13_noddd_D30.Epen1\",\n",
    "                                                   \"NONE_DA\",\"NONE_Sert\",\"NONE_Epen1\",\"NONE_Astro\",\n",
    "                                                   \"ROT_DA\",\"ROT_Sert\",\"ROT_Epen1\",\"ROT_Astro\")))"
   ]
  },
  {
   "cell_type": "code",
   "execution_count": 6,
   "metadata": {},
   "outputs": [
    {
     "data": {
      "text/html": [
       "<table>\n",
       "<thead><tr><th scope=col>gwas_trait</th><th scope=col>gene_name</th><th scope=col>eqtl_map</th><th scope=col>top_GTEx_brain</th><th scope=col>top_GTEx_non_brain</th><th scope=col>category</th><th scope=col>condition</th></tr></thead>\n",
       "<tbody>\n",
       "\t<tr><td>Neuroticism                          </td><td>LRRC37A2                             </td><td>NONE_DA                              </td><td>Brain_Cerebellar_Hemisphere          </td><td>Esophagus_Muscularis                 </td><td>N                                    </td><td>D52                                  </td></tr>\n",
       "\t<tr><td>Depressed affect                     </td><td>LRRC37A2                             </td><td>NONE_DA                              </td><td>Brain_Hypothalamus                   </td><td>Heart_Atrial_Appendage               </td><td>N                                    </td><td>D52                                  </td></tr>\n",
       "\t<tr><td>Neuroticism                          </td><td>POLR3H                               </td><td>NONE_DA                              </td><td>Brain_Nucleus_accumbens_basal_ganglia</td><td>Esophagus_Mucosa                     </td><td>N                                    </td><td>D52                                  </td></tr>\n",
       "\t<tr><td>Neuroticism                          </td><td>FANCL                                </td><td>NONE_DA                              </td><td>Brain_Cerebellar_Hemisphere          </td><td>Pancreas                             </td><td>N                                    </td><td>D52                                  </td></tr>\n",
       "\t<tr><td>Depressed affect                     </td><td>ANKZF1                               </td><td>NONE_DA                              </td><td>Brain_Hypothalamus                   </td><td>Whole_Blood                          </td><td>N                                    </td><td>D52                                  </td></tr>\n",
       "\t<tr><td>Cognitive performance                </td><td>AHSA1                                </td><td>NONE_DA                              </td><td>Brain_Frontal_Cortex_BA9             </td><td>Cells_Transformed_fibroblasts        </td><td>N                                    </td><td>D52                                  </td></tr>\n",
       "</tbody>\n",
       "</table>\n"
      ],
      "text/latex": [
       "\\begin{tabular}{r|lllllll}\n",
       " gwas\\_trait & gene\\_name & eqtl\\_map & top\\_GTEx\\_brain & top\\_GTEx\\_non\\_brain & category & condition\\\\\n",
       "\\hline\n",
       "\t Neuroticism                               & LRRC37A2                                  & NONE\\_DA                                 & Brain\\_Cerebellar\\_Hemisphere           & Esophagus\\_Muscularis                    & N                                         & D52                                      \\\\\n",
       "\t Depressed affect                        & LRRC37A2                                & NONE\\_DA                               & Brain\\_Hypothalamus                    & Heart\\_Atrial\\_Appendage              & N                                       & D52                                    \\\\\n",
       "\t Neuroticism                                   & POLR3H                                        & NONE\\_DA                                     & Brain\\_Nucleus\\_accumbens\\_basal\\_ganglia & Esophagus\\_Mucosa                            & N                                             & D52                                          \\\\\n",
       "\t Neuroticism                               & FANCL                                     & NONE\\_DA                                 & Brain\\_Cerebellar\\_Hemisphere           & Pancreas                                  & N                                         & D52                                      \\\\\n",
       "\t Depressed affect                        & ANKZF1                                  & NONE\\_DA                               & Brain\\_Hypothalamus                    & Whole\\_Blood                           & N                                       & D52                                    \\\\\n",
       "\t Cognitive performance                       & AHSA1                                       & NONE\\_DA                                   & Brain\\_Frontal\\_Cortex\\_BA9              & Cells\\_Transformed\\_fibroblasts           & N                                           & D52                                        \\\\\n",
       "\\end{tabular}\n"
      ],
      "text/markdown": [
       "\n",
       "| gwas_trait | gene_name | eqtl_map | top_GTEx_brain | top_GTEx_non_brain | category | condition |\n",
       "|---|---|---|---|---|---|---|\n",
       "| Neuroticism                           | LRRC37A2                              | NONE_DA                               | Brain_Cerebellar_Hemisphere           | Esophagus_Muscularis                  | N                                     | D52                                   |\n",
       "| Depressed affect                      | LRRC37A2                              | NONE_DA                               | Brain_Hypothalamus                    | Heart_Atrial_Appendage                | N                                     | D52                                   |\n",
       "| Neuroticism                           | POLR3H                                | NONE_DA                               | Brain_Nucleus_accumbens_basal_ganglia | Esophagus_Mucosa                      | N                                     | D52                                   |\n",
       "| Neuroticism                           | FANCL                                 | NONE_DA                               | Brain_Cerebellar_Hemisphere           | Pancreas                              | N                                     | D52                                   |\n",
       "| Depressed affect                      | ANKZF1                                | NONE_DA                               | Brain_Hypothalamus                    | Whole_Blood                           | N                                     | D52                                   |\n",
       "| Cognitive performance                 | AHSA1                                 | NONE_DA                               | Brain_Frontal_Cortex_BA9              | Cells_Transformed_fibroblasts         | N                                     | D52                                   |\n",
       "\n"
      ],
      "text/plain": [
       "  gwas_trait            gene_name eqtl_map\n",
       "1 Neuroticism           LRRC37A2  NONE_DA \n",
       "2 Depressed affect      LRRC37A2  NONE_DA \n",
       "3 Neuroticism           POLR3H    NONE_DA \n",
       "4 Neuroticism           FANCL     NONE_DA \n",
       "5 Depressed affect      ANKZF1    NONE_DA \n",
       "6 Cognitive performance AHSA1     NONE_DA \n",
       "  top_GTEx_brain                        top_GTEx_non_brain            category\n",
       "1 Brain_Cerebellar_Hemisphere           Esophagus_Muscularis          N       \n",
       "2 Brain_Hypothalamus                    Heart_Atrial_Appendage        N       \n",
       "3 Brain_Nucleus_accumbens_basal_ganglia Esophagus_Mucosa              N       \n",
       "4 Brain_Cerebellar_Hemisphere           Pancreas                      N       \n",
       "5 Brain_Hypothalamus                    Whole_Blood                   N       \n",
       "6 Brain_Frontal_Cortex_BA9              Cells_Transformed_fibroblasts N       \n",
       "  condition\n",
       "1 D52      \n",
       "2 D52      \n",
       "3 D52      \n",
       "4 D52      \n",
       "5 D52      \n",
       "6 D52      "
      ]
     },
     "metadata": {},
     "output_type": "display_data"
    }
   ],
   "source": [
    "df$condition = c()\n",
    "df$condition[grep('D11',df$eqtl_map)] = 'D11'\n",
    "df$condition[grep('D30',df$eqtl_map)] = 'D30'\n",
    "df$condition[grep('NONE',df$eqtl_map)] = 'D52'\n",
    "df$condition[grep('ROT',df$eqtl_map)] = 'D52_ROT'\n",
    "head(df)"
   ]
  },
  {
   "cell_type": "code",
   "execution_count": 7,
   "metadata": {},
   "outputs": [
    {
     "data": {
      "text/html": [
       "<table>\n",
       "<thead><tr><th></th><th scope=col>gwas_trait</th><th scope=col>gene_name</th><th scope=col>eqtl_map</th><th scope=col>top_GTEx_brain</th><th scope=col>top_GTEx_non_brain</th><th scope=col>category</th><th scope=col>condition</th><th scope=col>time_point</th><th scope=col>treatment</th></tr></thead>\n",
       "<tbody>\n",
       "\t<tr><th scope=row>1075</th><td>College or University degree | Qualifications    </td><td>NIPSNAP1                                         </td><td>pool1_13_noddd_D11.P_FPP                         </td><td>Brain_Anterior_cingulate_cortex_BA24             </td><td>Thyroid                                          </td><td>N-B-O                                            </td><td>D11                                              </td><td>D11                                              </td><td>NONE                                             </td></tr>\n",
       "\t<tr><th scope=row>1076</th><td>A levels/AS levels or equivalent | Qualifications</td><td>CHST10                                           </td><td>pool1_13_noddd_D11.P_FPP                         </td><td>Brain_Cerebellar_Hemisphere                      </td><td>Heart_Atrial_Appendage                           </td><td>N-B-O                                            </td><td>D11                                              </td><td>D11                                              </td><td>NONE                                             </td></tr>\n",
       "\t<tr><th scope=row>1077</th><td>PD                                               </td><td>TTC19                                            </td><td>pool1_13_noddd_D11.P_FPP                         </td><td>Brain_Hippocampus                                </td><td>Cells_EBV-transformed_lymphocytes                </td><td>N-B-O                                            </td><td>D11                                              </td><td>D11                                              </td><td>NONE                                             </td></tr>\n",
       "\t<tr><th scope=row>1078</th><td>PD                                               </td><td>NUPL2                                            </td><td>pool1_13_noddd_D11.P_FPP                         </td><td>Brain_Cerebellum                                 </td><td>Cells_Transformed_fibroblasts                    </td><td>N-B-O                                            </td><td>D11                                              </td><td>D11                                              </td><td>NONE                                             </td></tr>\n",
       "\t<tr><th scope=row>1079</th><td>Sleeplessness / insomnia                         </td><td>HEXIM1                                           </td><td>pool1_13_noddd_D11.NB                            </td><td>Brain_Frontal_Cortex_BA9                         </td><td>Nerve_Tibial                                     </td><td>N-B-O                                            </td><td>D11                                              </td><td>D11                                              </td><td>NONE                                             </td></tr>\n",
       "\t<tr><th scope=row>1080</th><td>PD                                               </td><td>ZSWIM7                                           </td><td>pool1_13_noddd_D11.NB                            </td><td>Brain_Cerebellar_Hemisphere                      </td><td>Vagina                                           </td><td>N-B-O                                            </td><td>D11                                              </td><td>D11                                              </td><td>NONE                                             </td></tr>\n",
       "</tbody>\n",
       "</table>\n"
      ],
      "text/latex": [
       "\\begin{tabular}{r|lllllllll}\n",
       "  & gwas\\_trait & gene\\_name & eqtl\\_map & top\\_GTEx\\_brain & top\\_GTEx\\_non\\_brain & category & condition & time\\_point & treatment\\\\\n",
       "\\hline\n",
       "\t1075 & College or University degree \\textbar{} Qualifications     & NIPSNAP1                                                    & pool1\\_13\\_noddd\\_D11.P\\_FPP                            & Brain\\_Anterior\\_cingulate\\_cortex\\_BA24                & Thyroid                                                     & N-B-O                                                       & D11                                                         & D11                                                         & NONE                                                       \\\\\n",
       "\t1076 & A levels/AS levels or equivalent \\textbar{} Qualifications & CHST10                                                      & pool1\\_13\\_noddd\\_D11.P\\_FPP                            & Brain\\_Cerebellar\\_Hemisphere                             & Heart\\_Atrial\\_Appendage                                  & N-B-O                                                       & D11                                                         & D11                                                         & NONE                                                       \\\\\n",
       "\t1077 & PD                                                & TTC19                                             & pool1\\_13\\_noddd\\_D11.P\\_FPP                  & Brain\\_Hippocampus                               & Cells\\_EBV-transformed\\_lymphocytes             & N-B-O                                             & D11                                               & D11                                               & NONE                                             \\\\\n",
       "\t1078 & PD                                                & NUPL2                                             & pool1\\_13\\_noddd\\_D11.P\\_FPP                  & Brain\\_Cerebellum                                & Cells\\_Transformed\\_fibroblasts                 & N-B-O                                             & D11                                               & D11                                               & NONE                                             \\\\\n",
       "\t1079 & Sleeplessness / insomnia                          & HEXIM1                                            & pool1\\_13\\_noddd\\_D11.NB                       & Brain\\_Frontal\\_Cortex\\_BA9                    & Nerve\\_Tibial                                    & N-B-O                                             & D11                                               & D11                                               & NONE                                             \\\\\n",
       "\t1080 & PD                                                & ZSWIM7                                            & pool1\\_13\\_noddd\\_D11.NB                       & Brain\\_Cerebellar\\_Hemisphere                   & Vagina                                            & N-B-O                                             & D11                                               & D11                                               & NONE                                             \\\\\n",
       "\\end{tabular}\n"
      ],
      "text/markdown": [
       "\n",
       "| <!--/--> | gwas_trait | gene_name | eqtl_map | top_GTEx_brain | top_GTEx_non_brain | category | condition | time_point | treatment |\n",
       "|---|---|---|---|---|---|---|---|---|---|\n",
       "| 1075 | College or University degree | Qualifications     | NIPSNAP1                                          | pool1_13_noddd_D11.P_FPP                          | Brain_Anterior_cingulate_cortex_BA24              | Thyroid                                           | N-B-O                                             | D11                                               | D11                                               | NONE                                              |\n",
       "| 1076 | A levels/AS levels or equivalent | Qualifications | CHST10                                            | pool1_13_noddd_D11.P_FPP                          | Brain_Cerebellar_Hemisphere                       | Heart_Atrial_Appendage                            | N-B-O                                             | D11                                               | D11                                               | NONE                                              |\n",
       "| 1077 | PD                                                | TTC19                                             | pool1_13_noddd_D11.P_FPP                          | Brain_Hippocampus                                 | Cells_EBV-transformed_lymphocytes                 | N-B-O                                             | D11                                               | D11                                               | NONE                                              |\n",
       "| 1078 | PD                                                | NUPL2                                             | pool1_13_noddd_D11.P_FPP                          | Brain_Cerebellum                                  | Cells_Transformed_fibroblasts                     | N-B-O                                             | D11                                               | D11                                               | NONE                                              |\n",
       "| 1079 | Sleeplessness / insomnia                          | HEXIM1                                            | pool1_13_noddd_D11.NB                             | Brain_Frontal_Cortex_BA9                          | Nerve_Tibial                                      | N-B-O                                             | D11                                               | D11                                               | NONE                                              |\n",
       "| 1080 | PD                                                | ZSWIM7                                            | pool1_13_noddd_D11.NB                             | Brain_Cerebellar_Hemisphere                       | Vagina                                            | N-B-O                                             | D11                                               | D11                                               | NONE                                              |\n",
       "\n"
      ],
      "text/plain": [
       "     gwas_trait                                        gene_name\n",
       "1075 College or University degree | Qualifications     NIPSNAP1 \n",
       "1076 A levels/AS levels or equivalent | Qualifications CHST10   \n",
       "1077 PD                                                TTC19    \n",
       "1078 PD                                                NUPL2    \n",
       "1079 Sleeplessness / insomnia                          HEXIM1   \n",
       "1080 PD                                                ZSWIM7   \n",
       "     eqtl_map                 top_GTEx_brain                      \n",
       "1075 pool1_13_noddd_D11.P_FPP Brain_Anterior_cingulate_cortex_BA24\n",
       "1076 pool1_13_noddd_D11.P_FPP Brain_Cerebellar_Hemisphere         \n",
       "1077 pool1_13_noddd_D11.P_FPP Brain_Hippocampus                   \n",
       "1078 pool1_13_noddd_D11.P_FPP Brain_Cerebellum                    \n",
       "1079 pool1_13_noddd_D11.NB    Brain_Frontal_Cortex_BA9            \n",
       "1080 pool1_13_noddd_D11.NB    Brain_Cerebellar_Hemisphere         \n",
       "     top_GTEx_non_brain                category condition time_point treatment\n",
       "1075 Thyroid                           N-B-O    D11       D11        NONE     \n",
       "1076 Heart_Atrial_Appendage            N-B-O    D11       D11        NONE     \n",
       "1077 Cells_EBV-transformed_lymphocytes N-B-O    D11       D11        NONE     \n",
       "1078 Cells_Transformed_fibroblasts     N-B-O    D11       D11        NONE     \n",
       "1079 Nerve_Tibial                      N-B-O    D11       D11        NONE     \n",
       "1080 Vagina                            N-B-O    D11       D11        NONE     "
      ]
     },
     "metadata": {},
     "output_type": "display_data"
    }
   ],
   "source": [
    "df$time_point = df$condition\n",
    "df$time_point[df$condition == \"D52_ROT\"] = 'D52'\n",
    "df$treatment = 'NONE'\n",
    "df$treatment[df$condition == \"D52_ROT\"] = 'ROT'\n",
    "tail(df)"
   ]
  },
  {
   "cell_type": "code",
   "execution_count": 8,
   "metadata": {},
   "outputs": [
    {
     "data": {
      "text/html": [
       "<table>\n",
       "<thead><tr><th scope=col>gwas_trait</th><th scope=col>gene_name</th><th scope=col>eqtl_map</th><th scope=col>top_GTEx_brain</th><th scope=col>top_GTEx_non_brain</th><th scope=col>category</th><th scope=col>condition</th><th scope=col>time_point</th><th scope=col>treatment</th><th scope=col>celltype</th></tr></thead>\n",
       "<tbody>\n",
       "\t<tr><td>Neuroticism                          </td><td>LRRC37A2                             </td><td>NONE_DA                              </td><td>Brain_Cerebellar_Hemisphere          </td><td>Esophagus_Muscularis                 </td><td>N                                    </td><td>D52                                  </td><td>D52                                  </td><td>NONE                                 </td><td>DA                                   </td></tr>\n",
       "\t<tr><td>Depressed affect                     </td><td>LRRC37A2                             </td><td>NONE_DA                              </td><td>Brain_Hypothalamus                   </td><td>Heart_Atrial_Appendage               </td><td>N                                    </td><td>D52                                  </td><td>D52                                  </td><td>NONE                                 </td><td>DA                                   </td></tr>\n",
       "\t<tr><td>Neuroticism                          </td><td>POLR3H                               </td><td>NONE_DA                              </td><td>Brain_Nucleus_accumbens_basal_ganglia</td><td>Esophagus_Mucosa                     </td><td>N                                    </td><td>D52                                  </td><td>D52                                  </td><td>NONE                                 </td><td>DA                                   </td></tr>\n",
       "\t<tr><td>Neuroticism                          </td><td>FANCL                                </td><td>NONE_DA                              </td><td>Brain_Cerebellar_Hemisphere          </td><td>Pancreas                             </td><td>N                                    </td><td>D52                                  </td><td>D52                                  </td><td>NONE                                 </td><td>DA                                   </td></tr>\n",
       "\t<tr><td>Depressed affect                     </td><td>ANKZF1                               </td><td>NONE_DA                              </td><td>Brain_Hypothalamus                   </td><td>Whole_Blood                          </td><td>N                                    </td><td>D52                                  </td><td>D52                                  </td><td>NONE                                 </td><td>DA                                   </td></tr>\n",
       "\t<tr><td>Cognitive performance                </td><td>AHSA1                                </td><td>NONE_DA                              </td><td>Brain_Frontal_Cortex_BA9             </td><td>Cells_Transformed_fibroblasts        </td><td>N                                    </td><td>D52                                  </td><td>D52                                  </td><td>NONE                                 </td><td>DA                                   </td></tr>\n",
       "</tbody>\n",
       "</table>\n"
      ],
      "text/latex": [
       "\\begin{tabular}{r|llllllllll}\n",
       " gwas\\_trait & gene\\_name & eqtl\\_map & top\\_GTEx\\_brain & top\\_GTEx\\_non\\_brain & category & condition & time\\_point & treatment & celltype\\\\\n",
       "\\hline\n",
       "\t Neuroticism                               & LRRC37A2                                  & NONE\\_DA                                 & Brain\\_Cerebellar\\_Hemisphere           & Esophagus\\_Muscularis                    & N                                         & D52                                       & D52                                       & NONE                                      & DA                                       \\\\\n",
       "\t Depressed affect                        & LRRC37A2                                & NONE\\_DA                               & Brain\\_Hypothalamus                    & Heart\\_Atrial\\_Appendage              & N                                       & D52                                     & D52                                     & NONE                                    & DA                                     \\\\\n",
       "\t Neuroticism                                   & POLR3H                                        & NONE\\_DA                                     & Brain\\_Nucleus\\_accumbens\\_basal\\_ganglia & Esophagus\\_Mucosa                            & N                                             & D52                                           & D52                                           & NONE                                          & DA                                           \\\\\n",
       "\t Neuroticism                               & FANCL                                     & NONE\\_DA                                 & Brain\\_Cerebellar\\_Hemisphere           & Pancreas                                  & N                                         & D52                                       & D52                                       & NONE                                      & DA                                       \\\\\n",
       "\t Depressed affect                        & ANKZF1                                  & NONE\\_DA                               & Brain\\_Hypothalamus                    & Whole\\_Blood                           & N                                       & D52                                     & D52                                     & NONE                                    & DA                                     \\\\\n",
       "\t Cognitive performance                       & AHSA1                                       & NONE\\_DA                                   & Brain\\_Frontal\\_Cortex\\_BA9              & Cells\\_Transformed\\_fibroblasts           & N                                           & D52                                         & D52                                         & NONE                                        & DA                                         \\\\\n",
       "\\end{tabular}\n"
      ],
      "text/markdown": [
       "\n",
       "| gwas_trait | gene_name | eqtl_map | top_GTEx_brain | top_GTEx_non_brain | category | condition | time_point | treatment | celltype |\n",
       "|---|---|---|---|---|---|---|---|---|---|\n",
       "| Neuroticism                           | LRRC37A2                              | NONE_DA                               | Brain_Cerebellar_Hemisphere           | Esophagus_Muscularis                  | N                                     | D52                                   | D52                                   | NONE                                  | DA                                    |\n",
       "| Depressed affect                      | LRRC37A2                              | NONE_DA                               | Brain_Hypothalamus                    | Heart_Atrial_Appendage                | N                                     | D52                                   | D52                                   | NONE                                  | DA                                    |\n",
       "| Neuroticism                           | POLR3H                                | NONE_DA                               | Brain_Nucleus_accumbens_basal_ganglia | Esophagus_Mucosa                      | N                                     | D52                                   | D52                                   | NONE                                  | DA                                    |\n",
       "| Neuroticism                           | FANCL                                 | NONE_DA                               | Brain_Cerebellar_Hemisphere           | Pancreas                              | N                                     | D52                                   | D52                                   | NONE                                  | DA                                    |\n",
       "| Depressed affect                      | ANKZF1                                | NONE_DA                               | Brain_Hypothalamus                    | Whole_Blood                           | N                                     | D52                                   | D52                                   | NONE                                  | DA                                    |\n",
       "| Cognitive performance                 | AHSA1                                 | NONE_DA                               | Brain_Frontal_Cortex_BA9              | Cells_Transformed_fibroblasts         | N                                     | D52                                   | D52                                   | NONE                                  | DA                                    |\n",
       "\n"
      ],
      "text/plain": [
       "  gwas_trait            gene_name eqtl_map\n",
       "1 Neuroticism           LRRC37A2  NONE_DA \n",
       "2 Depressed affect      LRRC37A2  NONE_DA \n",
       "3 Neuroticism           POLR3H    NONE_DA \n",
       "4 Neuroticism           FANCL     NONE_DA \n",
       "5 Depressed affect      ANKZF1    NONE_DA \n",
       "6 Cognitive performance AHSA1     NONE_DA \n",
       "  top_GTEx_brain                        top_GTEx_non_brain            category\n",
       "1 Brain_Cerebellar_Hemisphere           Esophagus_Muscularis          N       \n",
       "2 Brain_Hypothalamus                    Heart_Atrial_Appendage        N       \n",
       "3 Brain_Nucleus_accumbens_basal_ganglia Esophagus_Mucosa              N       \n",
       "4 Brain_Cerebellar_Hemisphere           Pancreas                      N       \n",
       "5 Brain_Hypothalamus                    Whole_Blood                   N       \n",
       "6 Brain_Frontal_Cortex_BA9              Cells_Transformed_fibroblasts N       \n",
       "  condition time_point treatment celltype\n",
       "1 D52       D52        NONE      DA      \n",
       "2 D52       D52        NONE      DA      \n",
       "3 D52       D52        NONE      DA      \n",
       "4 D52       D52        NONE      DA      \n",
       "5 D52       D52        NONE      DA      \n",
       "6 D52       D52        NONE      DA      "
      ]
     },
     "metadata": {},
     "output_type": "display_data"
    }
   ],
   "source": [
    "df$celltype = df$condition\n",
    "df$celltype[grep('FPP',df$eqtl_map)] = 'FPP'\n",
    "df$celltype[grep('P_FPP',df$eqtl_map)] = 'P_FPP'\n",
    "df$celltype[grep('NB',df$eqtl_map)] = 'NB'\n",
    "df$celltype[grep('DA',df$eqtl_map)] = 'DA'\n",
    "df$celltype[grep('Sert',df$eqtl_map)] = 'Sert'\n",
    "df$celltype[grep('Epen1',df$eqtl_map)] = 'Epen1'\n",
    "df$celltype[grep('Astro',df$eqtl_map)] = 'Astro'\n",
    "df$celltype[df$celltype == 'Astro' & df$condition == 'D30'] = 'FPP'\n",
    "head(df)"
   ]
  },
  {
   "cell_type": "code",
   "execution_count": 9,
   "metadata": {},
   "outputs": [],
   "source": [
    "# write.csv(df, filename, quote = F)"
   ]
  },
  {
   "cell_type": "code",
   "execution_count": 10,
   "metadata": {},
   "outputs": [
    {
     "data": {
      "text/html": [
       "<ol class=list-inline>\n",
       "\t<li>'DA_D52'</li>\n",
       "\t<li>'DA_D52_ROT'</li>\n",
       "\t<li>'DA_D30'</li>\n",
       "\t<li>'Sert_D52'</li>\n",
       "\t<li>'Sert_D52_ROT'</li>\n",
       "\t<li>'Sert_D30'</li>\n",
       "\t<li>'Epen1_D52'</li>\n",
       "\t<li>'Epen1_D52_ROT'</li>\n",
       "\t<li>'Epen1_D30'</li>\n",
       "\t<li>'Astro_D52'</li>\n",
       "\t<li>'Astro_D52_ROT'</li>\n",
       "\t<li>'FPP_D30'</li>\n",
       "\t<li>'FPP_D11'</li>\n",
       "\t<li>'P_FPP_D11'</li>\n",
       "\t<li>'NB_D11'</li>\n",
       "</ol>\n"
      ],
      "text/latex": [
       "\\begin{enumerate*}\n",
       "\\item 'DA\\_D52'\n",
       "\\item 'DA\\_D52\\_ROT'\n",
       "\\item 'DA\\_D30'\n",
       "\\item 'Sert\\_D52'\n",
       "\\item 'Sert\\_D52\\_ROT'\n",
       "\\item 'Sert\\_D30'\n",
       "\\item 'Epen1\\_D52'\n",
       "\\item 'Epen1\\_D52\\_ROT'\n",
       "\\item 'Epen1\\_D30'\n",
       "\\item 'Astro\\_D52'\n",
       "\\item 'Astro\\_D52\\_ROT'\n",
       "\\item 'FPP\\_D30'\n",
       "\\item 'FPP\\_D11'\n",
       "\\item 'P\\_FPP\\_D11'\n",
       "\\item 'NB\\_D11'\n",
       "\\end{enumerate*}\n"
      ],
      "text/markdown": [
       "1. 'DA_D52'\n",
       "2. 'DA_D52_ROT'\n",
       "3. 'DA_D30'\n",
       "4. 'Sert_D52'\n",
       "5. 'Sert_D52_ROT'\n",
       "6. 'Sert_D30'\n",
       "7. 'Epen1_D52'\n",
       "8. 'Epen1_D52_ROT'\n",
       "9. 'Epen1_D30'\n",
       "10. 'Astro_D52'\n",
       "11. 'Astro_D52_ROT'\n",
       "12. 'FPP_D30'\n",
       "13. 'FPP_D11'\n",
       "14. 'P_FPP_D11'\n",
       "15. 'NB_D11'\n",
       "\n",
       "\n"
      ],
      "text/plain": [
       " [1] \"DA_D52\"        \"DA_D52_ROT\"    \"DA_D30\"        \"Sert_D52\"     \n",
       " [5] \"Sert_D52_ROT\"  \"Sert_D30\"      \"Epen1_D52\"     \"Epen1_D52_ROT\"\n",
       " [9] \"Epen1_D30\"     \"Astro_D52\"     \"Astro_D52_ROT\" \"FPP_D30\"      \n",
       "[13] \"FPP_D11\"       \"P_FPP_D11\"     \"NB_D11\"       "
      ]
     },
     "metadata": {},
     "output_type": "display_data"
    }
   ],
   "source": [
    "leads = df\n",
    "leads$label = paste0(leads$celltype,\"_\",leads$condition)\n",
    "unique(leads$label)"
   ]
  },
  {
   "cell_type": "code",
   "execution_count": 11,
   "metadata": {},
   "outputs": [
    {
     "data": {
      "text/html": [
       "<ol class=list-inline>\n",
       "\t<li>'LRRC37A2-Neuroticism'</li>\n",
       "\t<li>'LRRC37A2-Depressed affect'</li>\n",
       "\t<li>'POLR3H-Neuroticism'</li>\n",
       "\t<li>'FANCL-Neuroticism'</li>\n",
       "\t<li>'ANKZF1-Depressed affect'</li>\n",
       "\t<li>'AHSA1-Cognitive performance'</li>\n",
       "</ol>\n"
      ],
      "text/latex": [
       "\\begin{enumerate*}\n",
       "\\item 'LRRC37A2-Neuroticism'\n",
       "\\item 'LRRC37A2-Depressed affect'\n",
       "\\item 'POLR3H-Neuroticism'\n",
       "\\item 'FANCL-Neuroticism'\n",
       "\\item 'ANKZF1-Depressed affect'\n",
       "\\item 'AHSA1-Cognitive performance'\n",
       "\\end{enumerate*}\n"
      ],
      "text/markdown": [
       "1. 'LRRC37A2-Neuroticism'\n",
       "2. 'LRRC37A2-Depressed affect'\n",
       "3. 'POLR3H-Neuroticism'\n",
       "4. 'FANCL-Neuroticism'\n",
       "5. 'ANKZF1-Depressed affect'\n",
       "6. 'AHSA1-Cognitive performance'\n",
       "\n",
       "\n"
      ],
      "text/plain": [
       "[1] \"LRRC37A2-Neuroticism\"        \"LRRC37A2-Depressed affect\"  \n",
       "[3] \"POLR3H-Neuroticism\"          \"FANCL-Neuroticism\"          \n",
       "[5] \"ANKZF1-Depressed affect\"     \"AHSA1-Cognitive performance\""
      ]
     },
     "metadata": {},
     "output_type": "display_data"
    }
   ],
   "source": [
    "leads$coloc_id = paste0(leads$gene_name,\"-\",leads$gwas_trait)\n",
    "head(leads$coloc_id)"
   ]
  },
  {
   "cell_type": "code",
   "execution_count": 12,
   "metadata": {},
   "outputs": [
    {
     "data": {
      "text/html": [
       "<ol class=list-inline>\n",
       "\t<li>90</li>\n",
       "\t<li>163</li>\n",
       "\t<li>114</li>\n",
       "</ol>\n"
      ],
      "text/latex": [
       "\\begin{enumerate*}\n",
       "\\item 90\n",
       "\\item 163\n",
       "\\item 114\n",
       "\\end{enumerate*}\n"
      ],
      "text/markdown": [
       "1. 90\n",
       "2. 163\n",
       "3. 114\n",
       "\n",
       "\n"
      ],
      "text/plain": [
       "[1]  90 163 114"
      ]
     },
     "metadata": {},
     "output_type": "display_data"
    }
   ],
   "source": [
    "# FPP & P_FPP\n",
    "D11 = leads[leads$label == \"FPP_D11\",]\n",
    "D30 = leads[leads$label == \"FPP_D30\",]\n",
    "P_FPP = leads[leads$label == \"P_FPP_D11\",]\n",
    "\n",
    "egenes0 = unique(D11$coloc_id)\n",
    "egenes1 = unique(D30$coloc_id)\n",
    "egenes2 = unique(P_FPP$coloc_id)\n",
    "##\n",
    "D11 = c(length(egenes0),length(unique(c(egenes0,egenes1))),length(egenes2))\n",
    "D11"
   ]
  },
  {
   "cell_type": "code",
   "execution_count": 13,
   "metadata": {},
   "outputs": [
    {
     "data": {
      "text/html": [
       "<ol class=list-inline>\n",
       "\t<li>57</li>\n",
       "\t<li>117</li>\n",
       "\t<li>157</li>\n",
       "</ol>\n"
      ],
      "text/latex": [
       "\\begin{enumerate*}\n",
       "\\item 57\n",
       "\\item 117\n",
       "\\item 157\n",
       "\\end{enumerate*}\n"
      ],
      "text/markdown": [
       "1. 57\n",
       "2. 117\n",
       "3. 157\n",
       "\n",
       "\n"
      ],
      "text/plain": [
       "[1]  57 117 157"
      ]
     },
     "metadata": {},
     "output_type": "display_data"
    }
   ],
   "source": [
    "# DA\n",
    "D30 = leads[leads$label == \"DA_D30\",]\n",
    "D52 = leads[leads$label == \"DA_D52\",]\n",
    "D52_r = leads[leads$label == \"DA_D52_ROT\",]\n",
    "egenes30 = unique(D30$coloc_id)\n",
    "egenes = unique(D52$coloc_id)\n",
    "egenesROT = unique(D52_r$coloc_id)\n",
    "##\n",
    "DA = c(length(egenes30),length(unique(c(egenes30,egenes))),length(unique(c(egenes30,egenes,egenesROT))))\n",
    "DA"
   ]
  },
  {
   "cell_type": "code",
   "execution_count": 153,
   "metadata": {},
   "outputs": [
    {
     "data": {
      "text/html": [
       "<ol class=list-inline>\n",
       "\t<li>73</li>\n",
       "\t<li>166</li>\n",
       "\t<li>280</li>\n",
       "</ol>\n"
      ],
      "text/latex": [
       "\\begin{enumerate*}\n",
       "\\item 73\n",
       "\\item 166\n",
       "\\item 280\n",
       "\\end{enumerate*}\n"
      ],
      "text/markdown": [
       "1. 73\n",
       "2. 166\n",
       "3. 280\n",
       "\n",
       "\n"
      ],
      "text/plain": [
       "[1]  73 166 280"
      ]
     },
     "metadata": {},
     "output_type": "display_data"
    }
   ],
   "source": [
    "# Sert\n",
    "D30 = leads[leads$label == \"Sert_D30\",]\n",
    "D52 = leads[leads$label == \"Sert_D52\",]\n",
    "D52_r = leads[leads$label == \"Sert_D52_ROT\",]\n",
    "egenes30 = unique(D30$coloc_id)\n",
    "egenes = unique(D52$coloc_id)\n",
    "egenesROT = unique(D52_r$coloc_id)\n",
    "##\n",
    "Sert = c(length(egenes30),length(unique(c(egenes30,egenes))),length(unique(c(egenes30,egenes,egenesROT))))\n",
    "Sert"
   ]
  },
  {
   "cell_type": "code",
   "execution_count": 154,
   "metadata": {},
   "outputs": [
    {
     "data": {
      "text/html": [
       "<ol class=list-inline>\n",
       "\t<li>67</li>\n",
       "\t<li>150</li>\n",
       "\t<li>217</li>\n",
       "</ol>\n"
      ],
      "text/latex": [
       "\\begin{enumerate*}\n",
       "\\item 67\n",
       "\\item 150\n",
       "\\item 217\n",
       "\\end{enumerate*}\n"
      ],
      "text/markdown": [
       "1. 67\n",
       "2. 150\n",
       "3. 217\n",
       "\n",
       "\n"
      ],
      "text/plain": [
       "[1]  67 150 217"
      ]
     },
     "metadata": {},
     "output_type": "display_data"
    }
   ],
   "source": [
    "# Epen1\n",
    "D30 = leads[leads$label == \"Epen1_D30\",]\n",
    "D52 = leads[leads$label == \"Epen1_D52\",]\n",
    "D52_r = leads[leads$label == \"Epen1_D52_ROT\",]\n",
    "egenes30 = unique(D30$coloc_id)\n",
    "egenes = unique(D52$coloc_id)\n",
    "egenesROT = unique(D52_r$coloc_id)\n",
    "##\n",
    "Epen1 = c(length(egenes30),length(unique(c(egenes30,egenes))),length(unique(c(egenes30,egenes,egenesROT))))\n",
    "Epen1"
   ]
  },
  {
   "cell_type": "code",
   "execution_count": 155,
   "metadata": {},
   "outputs": [
    {
     "data": {
      "text/html": [
       "<ol class=list-inline>\n",
       "\t<li>56</li>\n",
       "\t<li>111</li>\n",
       "</ol>\n"
      ],
      "text/latex": [
       "\\begin{enumerate*}\n",
       "\\item 56\n",
       "\\item 111\n",
       "\\end{enumerate*}\n"
      ],
      "text/markdown": [
       "1. 56\n",
       "2. 111\n",
       "\n",
       "\n"
      ],
      "text/plain": [
       "[1]  56 111"
      ]
     },
     "metadata": {},
     "output_type": "display_data"
    }
   ],
   "source": [
    "# Astro\n",
    "D52 = leads[leads$label == \"Astro_D52\",]\n",
    "D52_r = leads[leads$label == \"Astro_D52_ROT\",]\n",
    "egenes = unique(D52$coloc_id)\n",
    "egenesROT = unique(D52_r$coloc_id)\n",
    "##\n",
    "Astro = c(length(egenes),length(unique(c(egenes,egenesROT))))\n",
    "Astro"
   ]
  },
  {
   "cell_type": "code",
   "execution_count": 156,
   "metadata": {},
   "outputs": [
    {
     "data": {
      "image/png": "[encoded data removed]",
      "text/plain": [
       "plot without title"
      ]
     },
     "metadata": {},
     "output_type": "display_data"
    }
   ],
   "source": [
    "col_FPP = \"#aec7e8\"\n",
    "col_P_FPP = \"#1f77b4\"\n",
    "col_DA = \"#2ca02c\"\n",
    "col_Sert = \"#98df8a\"\n",
    "col_Epen1 = \"#ff9896\"\n",
    "col_Astro = \"#9467bd\"\n",
    "\n",
    "options(repr.plot.width = 5, repr.plot.height = 4)\n",
    "my.xlim = c(0, 300)\n",
    "my.ylim = c(0,20)\n",
    "my.space = c(0,0.1,0.3,0.5, 0.1, 0.1, 0.5, 0.1, 0.1, 0.5,0.1, 0.1,0.5,0.1)\n",
    "opar <- par(lwd = 1)\n",
    "\n",
    "barplot(c(D11,DA,Sert,Epen1,Astro),xlim = my.ylim, ylim = my.xlim, space = my.space,\n",
    "       col = c(col_FPP,   col_FPP, col_P_FPP,\n",
    "               col_DA,    col_DA,    col_DA, \n",
    "               col_Sert,  col_Sert,  col_Sert, \n",
    "               col_Epen1, col_Epen1, col_Epen1, \n",
    "               col_Astro, col_Astro))#,\n",
    "#        border = c(\"lightgrey\",\"darkgray\",\"black\", \n",
    "#                   \"lightgrey\",\"darkgray\",\"black\",  \n",
    "#                   \"lightgrey\",\"darkgray\",\"black\", \n",
    "#                   \"lightgrey\",\"darkgray\",\"black\"))"
   ]
  },
  {
   "cell_type": "code",
   "execution_count": 89,
   "metadata": {},
   "outputs": [
    {
     "data": {
      "image/png": "[encoded data removed]",
      "text/plain": [
       "plot without title"
      ]
     },
     "metadata": {},
     "output_type": "display_data"
    }
   ],
   "source": [
    "col_FPP = \"#aec7e8\"\n",
    "col_P_FPP = \"#1f77b4\"\n",
    "col_DA = \"#2ca02c\"\n",
    "col_Sert = \"#98df8a\"\n",
    "col_Epen1 = \"#ff9896\"\n",
    "col_Astro = \"#9467bd\"\n",
    "\n",
    "options(repr.plot.width = 5, repr.plot.height = 4)\n",
    "my.xlim = c(0, 130)\n",
    "my.ylim = c(0,20)\n",
    "my.space = c(0,0.1,0.3,0.5, 0.1, 0.1, 0.5, 0.1, 0.1, 0.5,0.1, 0.1,0.5,0.1)\n",
    "opar <- par(lwd = 1)\n",
    "\n",
    "barplot(c(D11,DA,Sert,Epen1,Astro),xlim = my.ylim, ylim = my.xlim, space = my.space,\n",
    "       col = c(col_FPP,   col_FPP, col_P_FPP,\n",
    "               col_DA,    col_DA,    col_DA, \n",
    "               col_Sert,  col_Sert,  col_Sert, \n",
    "               col_Epen1, col_Epen1, col_Epen1, \n",
    "               col_Astro, col_Astro))#,\n",
    "#        border = c(\"lightgrey\",\"darkgray\",\"black\", \n",
    "#                   \"lightgrey\",\"darkgray\",\"black\",  \n",
    "#                   \"lightgrey\",\"darkgray\",\"black\", \n",
    "#                   \"lightgrey\",\"darkgray\",\"black\"))"
   ]
  },
  {
   "cell_type": "code",
   "execution_count": null,
   "metadata": {},
   "outputs": [],
   "source": []
  }
 ],
 "metadata": {
  "kernelspec": {
   "display_name": "R",
   "language": "R",
   "name": "ir"
  },
  "language_info": {
   "codemirror_mode": "r",
   "file_extension": ".r",
   "mimetype": "text/x-r-source",
   "name": "R",
   "pygments_lexer": "r",
   "version": "3.6.1"
  }
 },
 "nbformat": 4,
 "nbformat_minor": 4
}
