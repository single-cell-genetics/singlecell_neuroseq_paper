{
 "cells": [
  {
   "cell_type": "code",
   "execution_count": 1,
   "metadata": {},
   "outputs": [
    {
     "name": "stderr",
     "output_type": "stream",
     "text": [
      "\n",
      "Attaching package: ‘dplyr’\n",
      "\n",
      "The following objects are masked from ‘package:stats’:\n",
      "\n",
      "    filter, lag\n",
      "\n",
      "The following objects are masked from ‘package:base’:\n",
      "\n",
      "    intersect, setdiff, setequal, union\n",
      "\n"
     ]
    }
   ],
   "source": [
    "library(qvalue)\n",
    "library(dplyr)\n",
    "library(ggplot2)"
   ]
  },
  {
   "cell_type": "code",
   "execution_count": 2,
   "metadata": {},
   "outputs": [
    {
     "data": {
      "text/html": [
       "<table>\n",
       "<thead><tr><th scope=col>snp_id</th><th scope=col>p_value</th><th scope=col>beta</th><th scope=col>beta_se</th><th scope=col>empirical_feature_p_value</th><th scope=col>feature_chromosome</th><th scope=col>feature_start</th><th scope=col>feature_end</th><th scope=col>n_samples</th><th scope=col>n_e_samples</th><th scope=col>alpha_param</th><th scope=col>beta_param</th><th scope=col>snp_chromosome</th><th scope=col>snp_position</th><th scope=col>assessed_allele</th><th scope=col>call_rate</th><th scope=col>maf</th><th scope=col>hwe_p</th><th scope=col>feature_id</th></tr></thead>\n",
       "<tbody>\n",
       "\t<tr><td>5_6605829_G_T  </td><td>4.526650e-04   </td><td>0.2143554      </td><td>0.06111680     </td><td>0.3137267      </td><td>5              </td><td>6599352        </td><td>6633404        </td><td>175            </td><td>175            </td><td>0.5234127      </td><td>210.2815       </td><td>5              </td><td>6605829        </td><td>T              </td><td>1              </td><td>0.4657143      </td><td>1.000000       </td><td>ENSG00000037474</td></tr>\n",
       "\t<tr><td>5_7344998_A_T  </td><td>3.154604e-05   </td><td>0.3821088      </td><td>0.09180874     </td><td>0.1073642      </td><td>5              </td><td>7396321        </td><td>7830194        </td><td>175            </td><td>175            </td><td>0.4945272      </td><td>274.1518       </td><td>5              </td><td>7344998        </td><td>T              </td><td>1              </td><td>0.1200000      </td><td>0.717637       </td><td>ENSG00000078295</td></tr>\n",
       "</tbody>\n",
       "</table>\n"
      ],
      "text/latex": [
       "\\begin{tabular}{r|lllllllllllllllllll}\n",
       " snp\\_id & p\\_value & beta & beta\\_se & empirical\\_feature\\_p\\_value & feature\\_chromosome & feature\\_start & feature\\_end & n\\_samples & n\\_e\\_samples & alpha\\_param & beta\\_param & snp\\_chromosome & snp\\_position & assessed\\_allele & call\\_rate & maf & hwe\\_p & feature\\_id\\\\\n",
       "\\hline\n",
       "\t 5\\_6605829\\_G\\_T & 4.526650e-04        & 0.2143554           & 0.06111680          & 0.3137267           & 5                   & 6599352             & 6633404             & 175                 & 175                 & 0.5234127           & 210.2815            & 5                   & 6605829             & T                   & 1                   & 0.4657143           & 1.000000            & ENSG00000037474    \\\\\n",
       "\t 5\\_7344998\\_A\\_T & 3.154604e-05        & 0.3821088           & 0.09180874          & 0.1073642           & 5                   & 7396321             & 7830194             & 175                 & 175                 & 0.4945272           & 274.1518            & 5                   & 7344998             & T                   & 1                   & 0.1200000           & 0.717637            & ENSG00000078295    \\\\\n",
       "\\end{tabular}\n"
      ],
      "text/markdown": [
       "\n",
       "| snp_id | p_value | beta | beta_se | empirical_feature_p_value | feature_chromosome | feature_start | feature_end | n_samples | n_e_samples | alpha_param | beta_param | snp_chromosome | snp_position | assessed_allele | call_rate | maf | hwe_p | feature_id |\n",
       "|---|---|---|---|---|---|---|---|---|---|---|---|---|---|---|---|---|---|---|\n",
       "| 5_6605829_G_T   | 4.526650e-04    | 0.2143554       | 0.06111680      | 0.3137267       | 5               | 6599352         | 6633404         | 175             | 175             | 0.5234127       | 210.2815        | 5               | 6605829         | T               | 1               | 0.4657143       | 1.000000        | ENSG00000037474 |\n",
       "| 5_7344998_A_T   | 3.154604e-05    | 0.3821088       | 0.09180874      | 0.1073642       | 5               | 7396321         | 7830194         | 175             | 175             | 0.4945272       | 274.1518        | 5               | 7344998         | T               | 1               | 0.1200000       | 0.717637        | ENSG00000078295 |\n",
       "\n"
      ],
      "text/plain": [
       "  snp_id        p_value      beta      beta_se    empirical_feature_p_value\n",
       "1 5_6605829_G_T 4.526650e-04 0.2143554 0.06111680 0.3137267                \n",
       "2 5_7344998_A_T 3.154604e-05 0.3821088 0.09180874 0.1073642                \n",
       "  feature_chromosome feature_start feature_end n_samples n_e_samples\n",
       "1 5                  6599352       6633404     175       175        \n",
       "2 5                  7396321       7830194     175       175        \n",
       "  alpha_param beta_param snp_chromosome snp_position assessed_allele call_rate\n",
       "1 0.5234127   210.2815   5              6605829      T               1        \n",
       "2 0.4945272   274.1518   5              7344998      T               1        \n",
       "  maf       hwe_p    feature_id     \n",
       "1 0.4657143 1.000000 ENSG00000037474\n",
       "2 0.1200000 0.717637 ENSG00000078295"
      ]
     },
     "metadata": {},
     "output_type": "display_data"
    },
    {
     "data": {
      "text/html": [
       "1024"
      ],
      "text/latex": [
       "1024"
      ],
      "text/markdown": [
       "1024"
      ],
      "text/plain": [
       "[1] 1024"
      ]
     },
     "metadata": {},
     "output_type": "display_data"
    }
   ],
   "source": [
    "filename2 = \"/nfs/leia/research/stegle/dseaton/hipsci/singlecell_neuroseq/data/data_processed/pool1_17_D52/qtl_analysis/eqtl_discovery_separated_by_treatment/input_files_untreated/celltype_DA/top_qtl_results_all.txt\"\n",
    "myfile2 = read.csv(filename2,sep=\"\\t\")\n",
    "head(myfile2,2)\n",
    "\n",
    "# myfile2$global_corr_p_value = p.adjust(myfile2$empirical_feature_p_value, method = \"BH\")\n",
    "# nrow(myfile2[myfile2$global_corr_p_value < 0.05,])\n",
    "myfile2$q_value = qvalue(myfile2$empirical_feature_p_value)$qvalues\n",
    "length(unique(myfile2[myfile2$q_value < 0.05,'feature_id']))"
   ]
  },
  {
   "cell_type": "code",
   "execution_count": 3,
   "metadata": {},
   "outputs": [
    {
     "data": {
      "text/html": [
       "<table>\n",
       "<thead><tr><th scope=col>Ensembl.Gene.ID</th><th scope=col>Ensembl.Transcript.ID</th><th scope=col>Ensembl.Protein.ID</th><th scope=col>Chromosome.Name</th><th scope=col>Gene.Start..bp.</th><th scope=col>Gene.End..bp.</th><th scope=col>Strand</th><th scope=col>Transcript.Start..bp.</th><th scope=col>Transcript.End..bp.</th><th scope=col>X5..UTR.Start</th><th scope=col>X5..UTR.End</th><th scope=col>X3..UTR.Start</th><th scope=col>X3..UTR.End</th><th scope=col>Exon.Chr.Start..bp.</th><th scope=col>Exon.Chr.End..bp.</th><th scope=col>Constitutive.Exon</th><th scope=col>Exon.Rank.in.Transcript</th><th scope=col>Ensembl.Exon.ID</th></tr></thead>\n",
       "<tbody>\n",
       "\t<tr><td>ENSG00000261657</td><td>ENST00000566782</td><td>ENSP00000456546</td><td>HG991_PATCH    </td><td>66119285       </td><td>66465398       </td><td>1              </td><td>66119285       </td><td>66456619       </td><td>66119285       </td><td>66119659       </td><td>NA             </td><td>NA             </td><td>66119285       </td><td>66119659       </td><td>0              </td><td>1              </td><td>ENSE00002619671</td></tr>\n",
       "\t<tr><td>ENSG00000261657</td><td>ENST00000566782</td><td>ENSP00000456546</td><td>HG991_PATCH    </td><td>66119285       </td><td>66465398       </td><td>1              </td><td>66119285       </td><td>66456619       </td><td>66298434       </td><td>66298786       </td><td>NA             </td><td>NA             </td><td>66298434       </td><td>66298819       </td><td>0              </td><td>2              </td><td>ENSE00002619173</td></tr>\n",
       "</tbody>\n",
       "</table>\n"
      ],
      "text/latex": [
       "\\begin{tabular}{r|llllllllllllllllll}\n",
       " Ensembl.Gene.ID & Ensembl.Transcript.ID & Ensembl.Protein.ID & Chromosome.Name & Gene.Start..bp. & Gene.End..bp. & Strand & Transcript.Start..bp. & Transcript.End..bp. & X5..UTR.Start & X5..UTR.End & X3..UTR.Start & X3..UTR.End & Exon.Chr.Start..bp. & Exon.Chr.End..bp. & Constitutive.Exon & Exon.Rank.in.Transcript & Ensembl.Exon.ID\\\\\n",
       "\\hline\n",
       "\t ENSG00000261657 & ENST00000566782 & ENSP00000456546 & HG991\\_PATCH   & 66119285        & 66465398        & 1               & 66119285        & 66456619        & 66119285        & 66119659        & NA              & NA              & 66119285        & 66119659        & 0               & 1               & ENSE00002619671\\\\\n",
       "\t ENSG00000261657 & ENST00000566782 & ENSP00000456546 & HG991\\_PATCH   & 66119285        & 66465398        & 1               & 66119285        & 66456619        & 66298434        & 66298786        & NA              & NA              & 66298434        & 66298819        & 0               & 2               & ENSE00002619173\\\\\n",
       "\\end{tabular}\n"
      ],
      "text/markdown": [
       "\n",
       "| Ensembl.Gene.ID | Ensembl.Transcript.ID | Ensembl.Protein.ID | Chromosome.Name | Gene.Start..bp. | Gene.End..bp. | Strand | Transcript.Start..bp. | Transcript.End..bp. | X5..UTR.Start | X5..UTR.End | X3..UTR.Start | X3..UTR.End | Exon.Chr.Start..bp. | Exon.Chr.End..bp. | Constitutive.Exon | Exon.Rank.in.Transcript | Ensembl.Exon.ID |\n",
       "|---|---|---|---|---|---|---|---|---|---|---|---|---|---|---|---|---|---|\n",
       "| ENSG00000261657 | ENST00000566782 | ENSP00000456546 | HG991_PATCH     | 66119285        | 66465398        | 1               | 66119285        | 66456619        | 66119285        | 66119659        | NA              | NA              | 66119285        | 66119659        | 0               | 1               | ENSE00002619671 |\n",
       "| ENSG00000261657 | ENST00000566782 | ENSP00000456546 | HG991_PATCH     | 66119285        | 66465398        | 1               | 66119285        | 66456619        | 66298434        | 66298786        | NA              | NA              | 66298434        | 66298819        | 0               | 2               | ENSE00002619173 |\n",
       "\n"
      ],
      "text/plain": [
       "  Ensembl.Gene.ID Ensembl.Transcript.ID Ensembl.Protein.ID Chromosome.Name\n",
       "1 ENSG00000261657 ENST00000566782       ENSP00000456546    HG991_PATCH    \n",
       "2 ENSG00000261657 ENST00000566782       ENSP00000456546    HG991_PATCH    \n",
       "  Gene.Start..bp. Gene.End..bp. Strand Transcript.Start..bp.\n",
       "1 66119285        66465398      1      66119285             \n",
       "2 66119285        66465398      1      66119285             \n",
       "  Transcript.End..bp. X5..UTR.Start X5..UTR.End X3..UTR.Start X3..UTR.End\n",
       "1 66456619            66119285      66119659    NA            NA         \n",
       "2 66456619            66298434      66298786    NA            NA         \n",
       "  Exon.Chr.Start..bp. Exon.Chr.End..bp. Constitutive.Exon\n",
       "1 66119285            66119659          0                \n",
       "2 66298434            66298819          0                \n",
       "  Exon.Rank.in.Transcript Ensembl.Exon.ID\n",
       "1 1                       ENSE00002619671\n",
       "2 2                       ENSE00002619173"
      ]
     },
     "metadata": {},
     "output_type": "display_data"
    }
   ],
   "source": [
    "annos_file = \"/hps/nobackup/stegle/users/acuomo/all_scripts/Ensemble_75_Gene_Structures_Exon_Info.txt\"\n",
    "annos = read.csv(annos_file, sep = \"\\t\")\n",
    "head(annos,2)"
   ]
  },
  {
   "cell_type": "code",
   "execution_count": 4,
   "metadata": {},
   "outputs": [
    {
     "data": {
      "text/html": [
       "<table>\n",
       "<thead><tr><th scope=col>feature_id</th><th scope=col>feature_start</th><th scope=col>feature_end</th><th scope=col>strand</th></tr></thead>\n",
       "<tbody>\n",
       "\t<tr><td>ENSG00000261657</td><td>66119285       </td><td>66465398       </td><td> 1             </td></tr>\n",
       "\t<tr><td>ENSG00000223116</td><td>23551994       </td><td>23552136       </td><td>-1             </td></tr>\n",
       "</tbody>\n",
       "</table>\n"
      ],
      "text/latex": [
       "\\begin{tabular}{r|llll}\n",
       " feature\\_id & feature\\_start & feature\\_end & strand\\\\\n",
       "\\hline\n",
       "\t ENSG00000261657 & 66119285        & 66465398        &  1             \\\\\n",
       "\t ENSG00000223116 & 23551994        & 23552136        & -1             \\\\\n",
       "\\end{tabular}\n"
      ],
      "text/markdown": [
       "\n",
       "| feature_id | feature_start | feature_end | strand |\n",
       "|---|---|---|---|\n",
       "| ENSG00000261657 | 66119285        | 66465398        |  1              |\n",
       "| ENSG00000223116 | 23551994        | 23552136        | -1              |\n",
       "\n"
      ],
      "text/plain": [
       "  feature_id      feature_start feature_end strand\n",
       "1 ENSG00000261657 66119285      66465398     1    \n",
       "2 ENSG00000223116 23551994      23552136    -1    "
      ]
     },
     "metadata": {},
     "output_type": "display_data"
    }
   ],
   "source": [
    "annos1 = distinct(annos[,c(\"Ensembl.Gene.ID\",\"Gene.Start..bp.\",\"Gene.End..bp.\",\"Strand\")])\n",
    "colnames(annos1) = c(\"feature_id\",\"feature_start\",\"feature_end\",\"strand\")\n",
    "head(annos1,2)"
   ]
  },
  {
   "cell_type": "code",
   "execution_count": 5,
   "metadata": {},
   "outputs": [],
   "source": [
    "myfile2 = myfile2[myfile2$q_value < 0.05,]"
   ]
  },
  {
   "cell_type": "code",
   "execution_count": 6,
   "metadata": {},
   "outputs": [
    {
     "data": {
      "text/html": [
       "1027"
      ],
      "text/latex": [
       "1027"
      ],
      "text/markdown": [
       "1027"
      ],
      "text/plain": [
       "[1] 1027"
      ]
     },
     "metadata": {},
     "output_type": "display_data"
    },
    {
     "name": "stderr",
     "output_type": "stream",
     "text": [
      "Joining, by = c(\"feature_start\", \"feature_end\", \"feature_id\")\n",
      "Warning message:\n",
      "“Column `feature_id` joining factors with different levels, coercing to character vector”"
     ]
    },
    {
     "data": {
      "text/html": [
       "1027"
      ],
      "text/latex": [
       "1027"
      ],
      "text/markdown": [
       "1027"
      ],
      "text/plain": [
       "[1] 1027"
      ]
     },
     "metadata": {},
     "output_type": "display_data"
    },
    {
     "data": {
      "text/html": [
       "<table>\n",
       "<thead><tr><th scope=col>snp_id</th><th scope=col>p_value</th><th scope=col>beta</th><th scope=col>beta_se</th><th scope=col>empirical_feature_p_value</th><th scope=col>feature_chromosome</th><th scope=col>feature_start</th><th scope=col>feature_end</th><th scope=col>n_samples</th><th scope=col>n_e_samples</th><th scope=col>...</th><th scope=col>beta_param</th><th scope=col>snp_chromosome</th><th scope=col>snp_position</th><th scope=col>assessed_allele</th><th scope=col>call_rate</th><th scope=col>maf</th><th scope=col>hwe_p</th><th scope=col>feature_id</th><th scope=col>q_value</th><th scope=col>strand</th></tr></thead>\n",
       "<tbody>\n",
       "\t<tr><td>9_94639418_T_A </td><td>1.322391e-08   </td><td>-0.8341359     </td><td>0.14677361     </td><td>0.0004332491   </td><td>9              </td><td>94794281       </td><td>94877666       </td><td>175            </td><td>175            </td><td>...            </td><td>72.68438       </td><td>9              </td><td>94639418       </td><td>A              </td><td>1              </td><td>0.05428571     </td><td>1.0000000      </td><td>ENSG00000090054</td><td>0.004995807    </td><td>-1             </td></tr>\n",
       "\t<tr><td>9_91743809_C_T </td><td>6.101031e-09   </td><td>-0.5494673     </td><td>0.09450819     </td><td>0.0004317183   </td><td>9              </td><td>91926113       </td><td>91931618       </td><td>175            </td><td>175            </td><td>...            </td><td>57.82682       </td><td>9              </td><td>91743809       </td><td>T              </td><td>1              </td><td>0.07142857     </td><td>0.6024874      </td><td>ENSG00000123975</td><td>0.004986263    </td><td> 1             </td></tr>\n",
       "</tbody>\n",
       "</table>\n"
      ],
      "text/latex": [
       "\\begin{tabular}{r|lllllllllllllllllllll}\n",
       " snp\\_id & p\\_value & beta & beta\\_se & empirical\\_feature\\_p\\_value & feature\\_chromosome & feature\\_start & feature\\_end & n\\_samples & n\\_e\\_samples & ... & beta\\_param & snp\\_chromosome & snp\\_position & assessed\\_allele & call\\_rate & maf & hwe\\_p & feature\\_id & q\\_value & strand\\\\\n",
       "\\hline\n",
       "\t 9\\_94639418\\_T\\_A & 1.322391e-08         & -0.8341359           & 0.14677361           & 0.0004332491         & 9                    & 94794281             & 94877666             & 175                  & 175                  & ...                  & 72.68438             & 9                    & 94639418             & A                    & 1                    & 0.05428571           & 1.0000000            & ENSG00000090054      & 0.004995807          & -1                  \\\\\n",
       "\t 9\\_91743809\\_C\\_T & 6.101031e-09         & -0.5494673           & 0.09450819           & 0.0004317183         & 9                    & 91926113             & 91931618             & 175                  & 175                  & ...                  & 57.82682             & 9                    & 91743809             & T                    & 1                    & 0.07142857           & 0.6024874            & ENSG00000123975      & 0.004986263          &  1                  \\\\\n",
       "\\end{tabular}\n"
      ],
      "text/markdown": [
       "\n",
       "| snp_id | p_value | beta | beta_se | empirical_feature_p_value | feature_chromosome | feature_start | feature_end | n_samples | n_e_samples | ... | beta_param | snp_chromosome | snp_position | assessed_allele | call_rate | maf | hwe_p | feature_id | q_value | strand |\n",
       "|---|---|---|---|---|---|---|---|---|---|---|---|---|---|---|---|---|---|---|---|---|\n",
       "| 9_94639418_T_A  | 1.322391e-08    | -0.8341359      | 0.14677361      | 0.0004332491    | 9               | 94794281        | 94877666        | 175             | 175             | ...             | 72.68438        | 9               | 94639418        | A               | 1               | 0.05428571      | 1.0000000       | ENSG00000090054 | 0.004995807     | -1              |\n",
       "| 9_91743809_C_T  | 6.101031e-09    | -0.5494673      | 0.09450819      | 0.0004317183    | 9               | 91926113        | 91931618        | 175             | 175             | ...             | 57.82682        | 9               | 91743809        | T               | 1               | 0.07142857      | 0.6024874       | ENSG00000123975 | 0.004986263     |  1              |\n",
       "\n"
      ],
      "text/plain": [
       "  snp_id         p_value      beta       beta_se    empirical_feature_p_value\n",
       "1 9_94639418_T_A 1.322391e-08 -0.8341359 0.14677361 0.0004332491             \n",
       "2 9_91743809_C_T 6.101031e-09 -0.5494673 0.09450819 0.0004317183             \n",
       "  feature_chromosome feature_start feature_end n_samples n_e_samples ...\n",
       "1 9                  94794281      94877666    175       175         ...\n",
       "2 9                  91926113      91931618    175       175         ...\n",
       "  beta_param snp_chromosome snp_position assessed_allele call_rate maf       \n",
       "1 72.68438   9              94639418     A               1         0.05428571\n",
       "2 57.82682   9              91743809     T               1         0.07142857\n",
       "  hwe_p     feature_id      q_value     strand\n",
       "1 1.0000000 ENSG00000090054 0.004995807 -1    \n",
       "2 0.6024874 ENSG00000123975 0.004986263  1    "
      ]
     },
     "metadata": {},
     "output_type": "display_data"
    }
   ],
   "source": [
    "nrow(myfile2)\n",
    "myfile3 = left_join(myfile2,annos1)\n",
    "nrow(myfile3)\n",
    "head(myfile3,2)"
   ]
  },
  {
   "cell_type": "code",
   "execution_count": 7,
   "metadata": {},
   "outputs": [
    {
     "data": {
      "text/html": [
       "<table>\n",
       "<thead><tr><th scope=col>feature_length</th><th scope=col>feature_start</th><th scope=col>feature_end</th><th scope=col>strand</th><th scope=col>TSS</th><th scope=col>TES</th><th scope=col>snp_position</th></tr></thead>\n",
       "<tbody>\n",
       "\t<tr><td> 83385  </td><td>94794281</td><td>94877666</td><td>-1      </td><td>94877666</td><td>94794281</td><td>94639418</td></tr>\n",
       "\t<tr><td>  5505  </td><td>91926113</td><td>91931618</td><td> 1      </td><td>91926113</td><td>91931618</td><td>91743809</td></tr>\n",
       "\t<tr><td>148098  </td><td>93976097</td><td>94124195</td><td>-1      </td><td>94124195</td><td>93976097</td><td>93981649</td></tr>\n",
       "\t<tr><td> 41618  </td><td>75784850</td><td>75826468</td><td> 1      </td><td>75784850</td><td>75826468</td><td>75836087</td></tr>\n",
       "\t<tr><td> 90108  </td><td>77157368</td><td>77247476</td><td> 1      </td><td>77157368</td><td>77247476</td><td>77128577</td></tr>\n",
       "\t<tr><td> 16340  </td><td>  420773</td><td>  437113</td><td>-1      </td><td>  437113</td><td>  420773</td><td>  421723</td></tr>\n",
       "</tbody>\n",
       "</table>\n"
      ],
      "text/latex": [
       "\\begin{tabular}{r|lllllll}\n",
       " feature\\_length & feature\\_start & feature\\_end & strand & TSS & TES & snp\\_position\\\\\n",
       "\\hline\n",
       "\t  83385   & 94794281 & 94877666 & -1       & 94877666 & 94794281 & 94639418\\\\\n",
       "\t   5505   & 91926113 & 91931618 &  1       & 91926113 & 91931618 & 91743809\\\\\n",
       "\t 148098   & 93976097 & 94124195 & -1       & 94124195 & 93976097 & 93981649\\\\\n",
       "\t  41618   & 75784850 & 75826468 &  1       & 75784850 & 75826468 & 75836087\\\\\n",
       "\t  90108   & 77157368 & 77247476 &  1       & 77157368 & 77247476 & 77128577\\\\\n",
       "\t  16340   &   420773 &   437113 & -1       &   437113 &   420773 &   421723\\\\\n",
       "\\end{tabular}\n"
      ],
      "text/markdown": [
       "\n",
       "| feature_length | feature_start | feature_end | strand | TSS | TES | snp_position |\n",
       "|---|---|---|---|---|---|---|\n",
       "|  83385   | 94794281 | 94877666 | -1       | 94877666 | 94794281 | 94639418 |\n",
       "|   5505   | 91926113 | 91931618 |  1       | 91926113 | 91931618 | 91743809 |\n",
       "| 148098   | 93976097 | 94124195 | -1       | 94124195 | 93976097 | 93981649 |\n",
       "|  41618   | 75784850 | 75826468 |  1       | 75784850 | 75826468 | 75836087 |\n",
       "|  90108   | 77157368 | 77247476 |  1       | 77157368 | 77247476 | 77128577 |\n",
       "|  16340   |   420773 |   437113 | -1       |   437113 |   420773 |   421723 |\n",
       "\n"
      ],
      "text/plain": [
       "  feature_length feature_start feature_end strand TSS      TES     \n",
       "1  83385         94794281      94877666    -1     94877666 94794281\n",
       "2   5505         91926113      91931618     1     91926113 91931618\n",
       "3 148098         93976097      94124195    -1     94124195 93976097\n",
       "4  41618         75784850      75826468     1     75784850 75826468\n",
       "5  90108         77157368      77247476     1     77157368 77247476\n",
       "6  16340           420773        437113    -1       437113   420773\n",
       "  snp_position\n",
       "1 94639418    \n",
       "2 91743809    \n",
       "3 93981649    \n",
       "4 75836087    \n",
       "5 77128577    \n",
       "6   421723    "
      ]
     },
     "metadata": {},
     "output_type": "display_data"
    }
   ],
   "source": [
    "myfile3$feature_length = myfile3$feature_end - myfile3$feature_start\n",
    "myfile3$TSS = myfile3$feature_start\n",
    "myfile3[myfile3$strand == -1,\"TSS\"] = myfile3[myfile3$strand == -1,\"feature_end\"]\n",
    "myfile3$TES = myfile3$feature_end\n",
    "myfile3[myfile3$strand == -1,\"TES\"] = myfile3[myfile3$strand == -1,\"feature_start\"]\n",
    "head(myfile3[,c(\"feature_length\",\"feature_start\",\"feature_end\",\"strand\",\"TSS\",\"TES\",\"snp_position\")])"
   ]
  },
  {
   "cell_type": "code",
   "execution_count": 8,
   "metadata": {},
   "outputs": [
    {
     "data": {
      "text/html": [
       "<table>\n",
       "<thead><tr><th scope=col>feature_length</th><th scope=col>feature_start</th><th scope=col>feature_end</th><th scope=col>strand</th><th scope=col>TSS</th><th scope=col>TES</th><th scope=col>snp_position</th><th scope=col>snp_location</th></tr></thead>\n",
       "<tbody>\n",
       "\t<tr><td> 83385               </td><td>94794281             </td><td>94877666             </td><td>-1                   </td><td>94877666             </td><td>94794281             </td><td>94639418             </td><td>downstream           </td></tr>\n",
       "\t<tr><td>  5505               </td><td>91926113             </td><td>91931618             </td><td> 1                   </td><td>91926113             </td><td>91931618             </td><td>91743809             </td><td>upstream             </td></tr>\n",
       "\t<tr><td>148098               </td><td>93976097             </td><td>94124195             </td><td>-1                   </td><td>94124195             </td><td>93976097             </td><td>93981649             </td><td>gene_body_TES_closest</td></tr>\n",
       "\t<tr><td> 41618               </td><td>75784850             </td><td>75826468             </td><td> 1                   </td><td>75784850             </td><td>75826468             </td><td>75836087             </td><td>downstream           </td></tr>\n",
       "\t<tr><td> 90108               </td><td>77157368             </td><td>77247476             </td><td> 1                   </td><td>77157368             </td><td>77247476             </td><td>77128577             </td><td>upstream             </td></tr>\n",
       "\t<tr><td> 16340               </td><td>  420773             </td><td>  437113             </td><td>-1                   </td><td>  437113             </td><td>  420773             </td><td>  421723             </td><td>gene_body_TES_closest</td></tr>\n",
       "</tbody>\n",
       "</table>\n"
      ],
      "text/latex": [
       "\\begin{tabular}{r|llllllll}\n",
       " feature\\_length & feature\\_start & feature\\_end & strand & TSS & TES & snp\\_position & snp\\_location\\\\\n",
       "\\hline\n",
       "\t  83385                & 94794281              & 94877666              & -1                    & 94877666              & 94794281              & 94639418              & downstream           \\\\\n",
       "\t   5505                & 91926113              & 91931618              &  1                    & 91926113              & 91931618              & 91743809              & upstream             \\\\\n",
       "\t 148098                      & 93976097                    & 94124195                    & -1                          & 94124195                    & 93976097                    & 93981649                    & gene\\_body\\_TES\\_closest\\\\\n",
       "\t  41618                & 75784850              & 75826468              &  1                    & 75784850              & 75826468              & 75836087              & downstream           \\\\\n",
       "\t  90108                & 77157368              & 77247476              &  1                    & 77157368              & 77247476              & 77128577              & upstream             \\\\\n",
       "\t  16340                      &   420773                    &   437113                    & -1                          &   437113                    &   420773                    &   421723                    & gene\\_body\\_TES\\_closest\\\\\n",
       "\\end{tabular}\n"
      ],
      "text/markdown": [
       "\n",
       "| feature_length | feature_start | feature_end | strand | TSS | TES | snp_position | snp_location |\n",
       "|---|---|---|---|---|---|---|---|\n",
       "|  83385                | 94794281              | 94877666              | -1                    | 94877666              | 94794281              | 94639418              | downstream            |\n",
       "|   5505                | 91926113              | 91931618              |  1                    | 91926113              | 91931618              | 91743809              | upstream              |\n",
       "| 148098                | 93976097              | 94124195              | -1                    | 94124195              | 93976097              | 93981649              | gene_body_TES_closest |\n",
       "|  41618                | 75784850              | 75826468              |  1                    | 75784850              | 75826468              | 75836087              | downstream            |\n",
       "|  90108                | 77157368              | 77247476              |  1                    | 77157368              | 77247476              | 77128577              | upstream              |\n",
       "|  16340                |   420773              |   437113              | -1                    |   437113              |   420773              |   421723              | gene_body_TES_closest |\n",
       "\n"
      ],
      "text/plain": [
       "  feature_length feature_start feature_end strand TSS      TES     \n",
       "1  83385         94794281      94877666    -1     94877666 94794281\n",
       "2   5505         91926113      91931618     1     91926113 91931618\n",
       "3 148098         93976097      94124195    -1     94124195 93976097\n",
       "4  41618         75784850      75826468     1     75784850 75826468\n",
       "5  90108         77157368      77247476     1     77157368 77247476\n",
       "6  16340           420773        437113    -1       437113   420773\n",
       "  snp_position snp_location         \n",
       "1 94639418     downstream           \n",
       "2 91743809     upstream             \n",
       "3 93981649     gene_body_TES_closest\n",
       "4 75836087     downstream           \n",
       "5 77128577     upstream             \n",
       "6   421723     gene_body_TES_closest"
      ]
     },
     "metadata": {},
     "output_type": "display_data"
    }
   ],
   "source": [
    "df = myfile3\n",
    "df$snp_location = \"downstream\"\n",
    "#\n",
    "df[(df$snp_position > df$feature_start &  df$snp_position < df$feature_end) & \n",
    "                (abs(df$snp_position-df$TSS) < abs(df$snp_position-df$TES)),\"snp_location\"] = \"gene_body_TSS_closest\"\n",
    "df[(df$snp_position > df$feature_start &  df$snp_position < df$feature_end) & \n",
    "                (abs(df$snp_position-df$TSS) > abs(df$snp_position-df$TES)),\"snp_location\"] = \"gene_body_TES_closest\"\n",
    "#\n",
    "df[(df$snp_position < df$feature_start & df$strand == 1) | (df$snp_position > df$feature_end & df$strand == -1),\"snp_location\"] = \"upstream\"\n",
    "myfile3 = df\n",
    "head(myfile3[,c(\"feature_length\",\"feature_start\",\"feature_end\",\"strand\",\"TSS\",\"TES\",\"snp_position\",\"snp_location\")])"
   ]
  },
  {
   "cell_type": "code",
   "execution_count": 9,
   "metadata": {},
   "outputs": [
    {
     "data": {
      "text/plain": [
       "\n",
       "           downstream gene_body_TES_closest gene_body_TSS_closest \n",
       "                  290                   214                   208 \n",
       "             upstream \n",
       "                  315 "
      ]
     },
     "metadata": {},
     "output_type": "display_data"
    }
   ],
   "source": [
    "table(df$snp_location)"
   ]
  },
  {
   "cell_type": "code",
   "execution_count": 10,
   "metadata": {},
   "outputs": [
    {
     "data": {
      "text/html": [
       "423"
      ],
      "text/latex": [
       "423"
      ],
      "text/markdown": [
       "423"
      ],
      "text/plain": [
       "[1] 423"
      ]
     },
     "metadata": {},
     "output_type": "display_data"
    },
    {
     "data": {
      "text/html": [
       "605"
      ],
      "text/latex": [
       "605"
      ],
      "text/markdown": [
       "605"
      ],
      "text/plain": [
       "[1] 605"
      ]
     },
     "metadata": {},
     "output_type": "display_data"
    },
    {
     "data": {
      "text/html": [
       "0.41147859922179"
      ],
      "text/latex": [
       "0.41147859922179"
      ],
      "text/markdown": [
       "0.41147859922179"
      ],
      "text/plain": [
       "[1] 0.4114786"
      ]
     },
     "metadata": {},
     "output_type": "display_data"
    },
    {
     "data": {
      "text/html": [
       "0.58852140077821"
      ],
      "text/latex": [
       "0.58852140077821"
      ],
      "text/markdown": [
       "0.58852140077821"
      ],
      "text/plain": [
       "[1] 0.5885214"
      ]
     },
     "metadata": {},
     "output_type": "display_data"
    }
   ],
   "source": [
    "208+215\n",
    "290+315\n",
    "(208+215)/(208+215+290+315)\n",
    "(290+315)/(208+215+290+315)"
   ]
  },
  {
   "cell_type": "code",
   "execution_count": 11,
   "metadata": {},
   "outputs": [],
   "source": [
    "df_bars = data.frame(table(df$snp_location))\n",
    "df_bars$order = c(4,3,2,1)"
   ]
  },
  {
   "cell_type": "code",
   "execution_count": 12,
   "metadata": {},
   "outputs": [
    {
     "data": {
      "image/png": "[encoded data removed]",
      "text/plain": [
       "plot without title"
      ]
     },
     "metadata": {},
     "output_type": "display_data"
    }
   ],
   "source": [
    "ggplot(df_bars, aes(x = as.factor(order), y = Freq, fill = Var1)) + geom_bar(stat=\"identity\")"
   ]
  },
  {
   "cell_type": "code",
   "execution_count": 13,
   "metadata": {},
   "outputs": [
    {
     "data": {
      "text/html": [
       "<table>\n",
       "<thead><tr><th scope=col>feature_length</th><th scope=col>feature_start</th><th scope=col>feature_end</th><th scope=col>strand</th><th scope=col>TSS</th><th scope=col>TES</th><th scope=col>snp_position</th><th scope=col>snp_location</th><th scope=col>inside_dist</th></tr></thead>\n",
       "<tbody>\n",
       "\t<tr><td> 83385               </td><td>94794281             </td><td>94877666             </td><td>-1                   </td><td>94877666             </td><td>94794281             </td><td>94639418             </td><td>downstream           </td><td>0.0000000            </td></tr>\n",
       "\t<tr><td>  5505               </td><td>91926113             </td><td>91931618             </td><td> 1                   </td><td>91926113             </td><td>91931618             </td><td>91743809             </td><td>upstream             </td><td>0.0000000            </td></tr>\n",
       "\t<tr><td>148098               </td><td>93976097             </td><td>94124195             </td><td>-1                   </td><td>94124195             </td><td>93976097             </td><td>93981649             </td><td>gene_body_TES_closest</td><td>0.9625113            </td></tr>\n",
       "\t<tr><td> 41618               </td><td>75784850             </td><td>75826468             </td><td> 1                   </td><td>75784850             </td><td>75826468             </td><td>75836087             </td><td>downstream           </td><td>0.0000000            </td></tr>\n",
       "\t<tr><td> 90108               </td><td>77157368             </td><td>77247476             </td><td> 1                   </td><td>77157368             </td><td>77247476             </td><td>77128577             </td><td>upstream             </td><td>0.0000000            </td></tr>\n",
       "\t<tr><td> 16340               </td><td>  420773             </td><td>  437113             </td><td>-1                   </td><td>  437113             </td><td>  420773             </td><td>  421723             </td><td>gene_body_TES_closest</td><td>0.9418605            </td></tr>\n",
       "</tbody>\n",
       "</table>\n"
      ],
      "text/latex": [
       "\\begin{tabular}{r|lllllllll}\n",
       " feature\\_length & feature\\_start & feature\\_end & strand & TSS & TES & snp\\_position & snp\\_location & inside\\_dist\\\\\n",
       "\\hline\n",
       "\t  83385                & 94794281              & 94877666              & -1                    & 94877666              & 94794281              & 94639418              & downstream            & 0.0000000            \\\\\n",
       "\t   5505                & 91926113              & 91931618              &  1                    & 91926113              & 91931618              & 91743809              & upstream              & 0.0000000            \\\\\n",
       "\t 148098                      & 93976097                    & 94124195                    & -1                          & 94124195                    & 93976097                    & 93981649                    & gene\\_body\\_TES\\_closest & 0.9625113                  \\\\\n",
       "\t  41618                & 75784850              & 75826468              &  1                    & 75784850              & 75826468              & 75836087              & downstream            & 0.0000000            \\\\\n",
       "\t  90108                & 77157368              & 77247476              &  1                    & 77157368              & 77247476              & 77128577              & upstream              & 0.0000000            \\\\\n",
       "\t  16340                      &   420773                    &   437113                    & -1                          &   437113                    &   420773                    &   421723                    & gene\\_body\\_TES\\_closest & 0.9418605                  \\\\\n",
       "\\end{tabular}\n"
      ],
      "text/markdown": [
       "\n",
       "| feature_length | feature_start | feature_end | strand | TSS | TES | snp_position | snp_location | inside_dist |\n",
       "|---|---|---|---|---|---|---|---|---|\n",
       "|  83385                | 94794281              | 94877666              | -1                    | 94877666              | 94794281              | 94639418              | downstream            | 0.0000000             |\n",
       "|   5505                | 91926113              | 91931618              |  1                    | 91926113              | 91931618              | 91743809              | upstream              | 0.0000000             |\n",
       "| 148098                | 93976097              | 94124195              | -1                    | 94124195              | 93976097              | 93981649              | gene_body_TES_closest | 0.9625113             |\n",
       "|  41618                | 75784850              | 75826468              |  1                    | 75784850              | 75826468              | 75836087              | downstream            | 0.0000000             |\n",
       "|  90108                | 77157368              | 77247476              |  1                    | 77157368              | 77247476              | 77128577              | upstream              | 0.0000000             |\n",
       "|  16340                |   420773              |   437113              | -1                    |   437113              |   420773              |   421723              | gene_body_TES_closest | 0.9418605             |\n",
       "\n"
      ],
      "text/plain": [
       "  feature_length feature_start feature_end strand TSS      TES     \n",
       "1  83385         94794281      94877666    -1     94877666 94794281\n",
       "2   5505         91926113      91931618     1     91926113 91931618\n",
       "3 148098         93976097      94124195    -1     94124195 93976097\n",
       "4  41618         75784850      75826468     1     75784850 75826468\n",
       "5  90108         77157368      77247476     1     77157368 77247476\n",
       "6  16340           420773        437113    -1       437113   420773\n",
       "  snp_position snp_location          inside_dist\n",
       "1 94639418     downstream            0.0000000  \n",
       "2 91743809     upstream              0.0000000  \n",
       "3 93981649     gene_body_TES_closest 0.9625113  \n",
       "4 75836087     downstream            0.0000000  \n",
       "5 77128577     upstream              0.0000000  \n",
       "6   421723     gene_body_TES_closest 0.9418605  "
      ]
     },
     "metadata": {},
     "output_type": "display_data"
    }
   ],
   "source": [
    "df = myfile3\n",
    "df$inside_dist = 0\n",
    "df[df$snp_location == \"gene_body_TSS_closest\" & df$strand == 1,\"inside_dist\"] = (df[df$snp_location == \"gene_body_TSS_closest\" & df$strand == 1,\"snp_position\"] - df[df$snp_location == \"gene_body_TSS_closest\" & df$strand == 1,\"TSS\"])/df[df$snp_location == \"gene_body_TSS_closest\" & df$strand == 1,\"feature_length\"]\n",
    "df[df$snp_location == \"gene_body_TES_closest\" & df$strand == 1,\"inside_dist\"] = (df[df$snp_location == \"gene_body_TES_closest\" & df$strand == 1,\"snp_position\"] - df[df$snp_location == \"gene_body_TES_closest\" & df$strand == 1,\"TSS\"])/df[df$snp_location == \"gene_body_TES_closest\" & df$strand == 1,\"feature_length\"]\n",
    "df[df$snp_location == \"gene_body_TSS_closest\" & df$strand == -1,\"inside_dist\"] = (df[df$snp_location == \"gene_body_TSS_closest\" & df$strand == -1,\"TSS\"] - df[df$snp_location == \"gene_body_TSS_closest\" & df$strand == -1,\"snp_position\"])/df[df$snp_location == \"gene_body_TSS_closest\" & df$strand == -1,\"feature_length\"]\n",
    "df[df$snp_location == \"gene_body_TES_closest\" & df$strand == -1,\"inside_dist\"] = (df[df$snp_location == \"gene_body_TES_closest\" & df$strand == -1,\"TSS\"] - df[df$snp_location == \"gene_body_TES_closest\" & df$strand == -1,\"snp_position\"])/df[df$snp_location == \"gene_body_TES_closest\" & df$strand == -1,\"feature_length\"]\n",
    "myfile3 = df\n",
    "head(myfile3[,c(\"feature_length\",\"feature_start\",\"feature_end\",\"strand\",\"TSS\",\"TES\",\n",
    "                \"snp_position\",\"snp_location\",\"inside_dist\")])\n"
   ]
  },
  {
   "cell_type": "code",
   "execution_count": 14,
   "metadata": {},
   "outputs": [
    {
     "data": {
      "text/html": [
       "<table>\n",
       "<thead><tr><th></th><th scope=col>feature_length</th><th scope=col>feature_start</th><th scope=col>feature_end</th><th scope=col>strand</th><th scope=col>TSS</th><th scope=col>TES</th><th scope=col>snp_position</th><th scope=col>snp_location</th><th scope=col>inside_dist</th><th scope=col>dist_pct</th></tr></thead>\n",
       "<tbody>\n",
       "\t<tr><th scope=row>3</th><td>148098               </td><td>93976097             </td><td>94124195             </td><td>-1                   </td><td>94124195             </td><td>93976097             </td><td>93981649             </td><td>gene_body_TES_closest</td><td>0.9625113            </td><td>100                  </td></tr>\n",
       "\t<tr><th scope=row>6</th><td> 16340               </td><td>  420773             </td><td>  437113             </td><td>-1                   </td><td>  437113             </td><td>  420773             </td><td>  421723             </td><td>gene_body_TES_closest</td><td>0.9418605            </td><td>100                  </td></tr>\n",
       "\t<tr><th scope=row>8</th><td> 10661               </td><td>  451826             </td><td>  462487             </td><td> 1                   </td><td>  451826             </td><td>  462487             </td><td>  457768             </td><td>gene_body_TES_closest</td><td>0.5573586            </td><td> 60                  </td></tr>\n",
       "\t<tr><th scope=row>9</th><td> 99985               </td><td>41992489             </td><td>42092474             </td><td> 1                   </td><td>41992489             </td><td>42092474             </td><td>42037009             </td><td>gene_body_TSS_closest</td><td>0.4452668            </td><td> 40                  </td></tr>\n",
       "\t<tr><th scope=row>11</th><td>126029               </td><td>47916159             </td><td>48042188             </td><td> 1                   </td><td>47916159             </td><td>48042188             </td><td>48019626             </td><td>gene_body_TES_closest</td><td>0.8209777            </td><td> 90                  </td></tr>\n",
       "\t<tr><th scope=row>12</th><td> 60716               </td><td> 9102640             </td><td> 9163356             </td><td> 1                   </td><td> 9102640             </td><td> 9163356             </td><td> 9158317             </td><td>gene_body_TES_closest</td><td>0.9170070            </td><td>100                  </td></tr>\n",
       "</tbody>\n",
       "</table>\n"
      ],
      "text/latex": [
       "\\begin{tabular}{r|llllllllll}\n",
       "  & feature\\_length & feature\\_start & feature\\_end & strand & TSS & TES & snp\\_position & snp\\_location & inside\\_dist & dist\\_pct\\\\\n",
       "\\hline\n",
       "\t3 & 148098                      & 93976097                    & 94124195                    & -1                          & 94124195                    & 93976097                    & 93981649                    & gene\\_body\\_TES\\_closest & 0.9625113                   & 100                        \\\\\n",
       "\t6 &  16340                      &   420773                    &   437113                    & -1                          &   437113                    &   420773                    &   421723                    & gene\\_body\\_TES\\_closest & 0.9418605                   & 100                        \\\\\n",
       "\t8 &  10661                      &   451826                    &   462487                    &  1                          &   451826                    &   462487                    &   457768                    & gene\\_body\\_TES\\_closest & 0.5573586                   &  60                        \\\\\n",
       "\t9 &  99985                      & 41992489                    & 42092474                    &  1                          & 41992489                    & 42092474                    & 42037009                    & gene\\_body\\_TSS\\_closest & 0.4452668                   &  40                        \\\\\n",
       "\t11 & 126029                      & 47916159                    & 48042188                    &  1                          & 47916159                    & 48042188                    & 48019626                    & gene\\_body\\_TES\\_closest & 0.8209777                   &  90                        \\\\\n",
       "\t12 &  60716                      &  9102640                    &  9163356                    &  1                          &  9102640                    &  9163356                    &  9158317                    & gene\\_body\\_TES\\_closest & 0.9170070                   & 100                        \\\\\n",
       "\\end{tabular}\n"
      ],
      "text/markdown": [
       "\n",
       "| <!--/--> | feature_length | feature_start | feature_end | strand | TSS | TES | snp_position | snp_location | inside_dist | dist_pct |\n",
       "|---|---|---|---|---|---|---|---|---|---|---|\n",
       "| 3 | 148098                | 93976097              | 94124195              | -1                    | 94124195              | 93976097              | 93981649              | gene_body_TES_closest | 0.9625113             | 100                   |\n",
       "| 6 |  16340                |   420773              |   437113              | -1                    |   437113              |   420773              |   421723              | gene_body_TES_closest | 0.9418605             | 100                   |\n",
       "| 8 |  10661                |   451826              |   462487              |  1                    |   451826              |   462487              |   457768              | gene_body_TES_closest | 0.5573586             |  60                   |\n",
       "| 9 |  99985                | 41992489              | 42092474              |  1                    | 41992489              | 42092474              | 42037009              | gene_body_TSS_closest | 0.4452668             |  40                   |\n",
       "| 11 | 126029                | 47916159              | 48042188              |  1                    | 47916159              | 48042188              | 48019626              | gene_body_TES_closest | 0.8209777             |  90                   |\n",
       "| 12 |  60716                |  9102640              |  9163356              |  1                    |  9102640              |  9163356              |  9158317              | gene_body_TES_closest | 0.9170070             | 100                   |\n",
       "\n"
      ],
      "text/plain": [
       "   feature_length feature_start feature_end strand TSS      TES     \n",
       "3  148098         93976097      94124195    -1     94124195 93976097\n",
       "6   16340           420773        437113    -1       437113   420773\n",
       "8   10661           451826        462487     1       451826   462487\n",
       "9   99985         41992489      42092474     1     41992489 42092474\n",
       "11 126029         47916159      48042188     1     47916159 48042188\n",
       "12  60716          9102640       9163356     1      9102640  9163356\n",
       "   snp_position snp_location          inside_dist dist_pct\n",
       "3  93981649     gene_body_TES_closest 0.9625113   100     \n",
       "6    421723     gene_body_TES_closest 0.9418605   100     \n",
       "8    457768     gene_body_TES_closest 0.5573586    60     \n",
       "9  42037009     gene_body_TSS_closest 0.4452668    40     \n",
       "11 48019626     gene_body_TES_closest 0.8209777    90     \n",
       "12  9158317     gene_body_TES_closest 0.9170070   100     "
      ]
     },
     "metadata": {},
     "output_type": "display_data"
    }
   ],
   "source": [
    "df[df$inside_dist <= 0.5, \"dist_pct\"] = floor(round(df[df$inside_dist <= 0.5, \"inside_dist\"], digits = 2)*10)*10\n",
    "df[df$inside_dist > 0.5, \"dist_pct\"] = ceiling(round(df[df$inside_dist > 0.5, \"inside_dist\"], digits = 2)*10)*10\n",
    "myfile3 = df\n",
    "head(myfile3[myfile3$inside_dist !=0,c(\"feature_length\",\"feature_start\",\"feature_end\",\"strand\",\"TSS\",\"TES\",\n",
    "                \"snp_position\",\"snp_location\",\"inside_dist\",\"dist_pct\")])"
   ]
  },
  {
   "cell_type": "code",
   "execution_count": 15,
   "metadata": {},
   "outputs": [
    {
     "data": {
      "text/html": [
       "<table>\n",
       "<thead><tr><th></th><th scope=col>feature_length</th><th scope=col>feature_start</th><th scope=col>feature_end</th><th scope=col>strand</th><th scope=col>TSS</th><th scope=col>TES</th><th scope=col>snp_position</th><th scope=col>snp_location</th><th scope=col>dist_pct</th><th scope=col>inside_dist</th><th scope=col>snp_dist_bin</th></tr></thead>\n",
       "<tbody>\n",
       "\t<tr><th scope=row>3</th><td>148098               </td><td>93976097             </td><td>94124195             </td><td>-1                   </td><td>94124195             </td><td>93976097             </td><td>93981649             </td><td>gene_body_TES_closest</td><td>100                  </td><td>0.9625113            </td><td>TES_closest_0        </td></tr>\n",
       "\t<tr><th scope=row>6</th><td> 16340               </td><td>  420773             </td><td>  437113             </td><td>-1                   </td><td>  437113             </td><td>  420773             </td><td>  421723             </td><td>gene_body_TES_closest</td><td>100                  </td><td>0.9418605            </td><td>TES_closest_0        </td></tr>\n",
       "\t<tr><th scope=row>8</th><td> 10661               </td><td>  451826             </td><td>  462487             </td><td> 1                   </td><td>  451826             </td><td>  462487             </td><td>  457768             </td><td>gene_body_TES_closest</td><td> 60                  </td><td>0.5573586            </td><td>TES_closest_40       </td></tr>\n",
       "\t<tr><th scope=row>9</th><td> 99985               </td><td>41992489             </td><td>42092474             </td><td> 1                   </td><td>41992489             </td><td>42092474             </td><td>42037009             </td><td>gene_body_TSS_closest</td><td> 40                  </td><td>0.4452668            </td><td>TSS_closest_40       </td></tr>\n",
       "\t<tr><th scope=row>11</th><td>126029               </td><td>47916159             </td><td>48042188             </td><td> 1                   </td><td>47916159             </td><td>48042188             </td><td>48019626             </td><td>gene_body_TES_closest</td><td> 90                  </td><td>0.8209777            </td><td>TES_closest_10       </td></tr>\n",
       "\t<tr><th scope=row>12</th><td> 60716               </td><td> 9102640             </td><td> 9163356             </td><td> 1                   </td><td> 9102640             </td><td> 9163356             </td><td> 9158317             </td><td>gene_body_TES_closest</td><td>100                  </td><td>0.9170070            </td><td>TES_closest_0        </td></tr>\n",
       "</tbody>\n",
       "</table>\n"
      ],
      "text/latex": [
       "\\begin{tabular}{r|lllllllllll}\n",
       "  & feature\\_length & feature\\_start & feature\\_end & strand & TSS & TES & snp\\_position & snp\\_location & dist\\_pct & inside\\_dist & snp\\_dist\\_bin\\\\\n",
       "\\hline\n",
       "\t3 & 148098                      & 93976097                    & 94124195                    & -1                          & 94124195                    & 93976097                    & 93981649                    & gene\\_body\\_TES\\_closest & 100                         & 0.9625113                   & TES\\_closest\\_0          \\\\\n",
       "\t6 &  16340                      &   420773                    &   437113                    & -1                          &   437113                    &   420773                    &   421723                    & gene\\_body\\_TES\\_closest & 100                         & 0.9418605                   & TES\\_closest\\_0          \\\\\n",
       "\t8 &  10661                      &   451826                    &   462487                    &  1                          &   451826                    &   462487                    &   457768                    & gene\\_body\\_TES\\_closest &  60                         & 0.5573586                   & TES\\_closest\\_40         \\\\\n",
       "\t9 &  99985                      & 41992489                    & 42092474                    &  1                          & 41992489                    & 42092474                    & 42037009                    & gene\\_body\\_TSS\\_closest &  40                         & 0.4452668                   & TSS\\_closest\\_40         \\\\\n",
       "\t11 & 126029                      & 47916159                    & 48042188                    &  1                          & 47916159                    & 48042188                    & 48019626                    & gene\\_body\\_TES\\_closest &  90                         & 0.8209777                   & TES\\_closest\\_10         \\\\\n",
       "\t12 &  60716                      &  9102640                    &  9163356                    &  1                          &  9102640                    &  9163356                    &  9158317                    & gene\\_body\\_TES\\_closest & 100                         & 0.9170070                   & TES\\_closest\\_0          \\\\\n",
       "\\end{tabular}\n"
      ],
      "text/markdown": [
       "\n",
       "| <!--/--> | feature_length | feature_start | feature_end | strand | TSS | TES | snp_position | snp_location | dist_pct | inside_dist | snp_dist_bin |\n",
       "|---|---|---|---|---|---|---|---|---|---|---|---|\n",
       "| 3 | 148098                | 93976097              | 94124195              | -1                    | 94124195              | 93976097              | 93981649              | gene_body_TES_closest | 100                   | 0.9625113             | TES_closest_0         |\n",
       "| 6 |  16340                |   420773              |   437113              | -1                    |   437113              |   420773              |   421723              | gene_body_TES_closest | 100                   | 0.9418605             | TES_closest_0         |\n",
       "| 8 |  10661                |   451826              |   462487              |  1                    |   451826              |   462487              |   457768              | gene_body_TES_closest |  60                   | 0.5573586             | TES_closest_40        |\n",
       "| 9 |  99985                | 41992489              | 42092474              |  1                    | 41992489              | 42092474              | 42037009              | gene_body_TSS_closest |  40                   | 0.4452668             | TSS_closest_40        |\n",
       "| 11 | 126029                | 47916159              | 48042188              |  1                    | 47916159              | 48042188              | 48019626              | gene_body_TES_closest |  90                   | 0.8209777             | TES_closest_10        |\n",
       "| 12 |  60716                |  9102640              |  9163356              |  1                    |  9102640              |  9163356              |  9158317              | gene_body_TES_closest | 100                   | 0.9170070             | TES_closest_0         |\n",
       "\n"
      ],
      "text/plain": [
       "   feature_length feature_start feature_end strand TSS      TES     \n",
       "3  148098         93976097      94124195    -1     94124195 93976097\n",
       "6   16340           420773        437113    -1       437113   420773\n",
       "8   10661           451826        462487     1       451826   462487\n",
       "9   99985         41992489      42092474     1     41992489 42092474\n",
       "11 126029         47916159      48042188     1     47916159 48042188\n",
       "12  60716          9102640       9163356     1      9102640  9163356\n",
       "   snp_position snp_location          dist_pct inside_dist snp_dist_bin  \n",
       "3  93981649     gene_body_TES_closest 100      0.9625113   TES_closest_0 \n",
       "6    421723     gene_body_TES_closest 100      0.9418605   TES_closest_0 \n",
       "8    457768     gene_body_TES_closest  60      0.5573586   TES_closest_40\n",
       "9  42037009     gene_body_TSS_closest  40      0.4452668   TSS_closest_40\n",
       "11 48019626     gene_body_TES_closest  90      0.8209777   TES_closest_10\n",
       "12  9158317     gene_body_TES_closest 100      0.9170070   TES_closest_0 "
      ]
     },
     "metadata": {},
     "output_type": "display_data"
    }
   ],
   "source": [
    "df[df$dist_pct > 0 & df$dist_pct < 50,\"snp_dist_bin\"] = paste0(\"TSS_closest_\",df[df$dist_pct > 0 & df$dist_pct < 50,\"dist_pct\"])\n",
    "df[df$dist_pct > 50,\"snp_dist_bin\"] = paste0(\"TES_closest_\",100-df[df$dist_pct > 50,\"dist_pct\"])\n",
    "\n",
    "myfile3 = df\n",
    "head(myfile3[myfile3$inside_dist !=0,c(\"feature_length\",\"feature_start\",\"feature_end\",\"strand\",\"TSS\",\"TES\",\n",
    "                \"snp_position\",\"snp_location\",\"dist_pct\",\"inside_dist\",\"snp_dist_bin\")])"
   ]
  },
  {
   "cell_type": "code",
   "execution_count": 16,
   "metadata": {},
   "outputs": [],
   "source": [
    "df$dist = 0\n",
    "df[df$snp_location %in% c(\"upstream\",\"downstream\") & df$strand == 1,\"dist\"] = df[df$snp_location %in% c(\"upstream\",\"downstream\") & df$strand == 1,\"snp_position\"] - df[df$snp_location %in% c(\"upstream\",\"downstream\") & df$strand == 1,\"TSS\"]\n",
    "df[df$snp_location %in% c(\"upstream\",\"downstream\") & df$strand == -1,\"dist\"] = df[df$snp_location %in% c(\"upstream\",\"downstream\") & df$strand == -1,\"TSS\"] - df[df$snp_location %in% c(\"upstream\",\"downstream\") & df$strand == -1,\"snp_position\"] \n"
   ]
  },
  {
   "cell_type": "code",
   "execution_count": 17,
   "metadata": {},
   "outputs": [
    {
     "data": {
      "text/html": [
       "<table>\n",
       "<thead><tr><th scope=col>feature_length</th><th scope=col>feature_start</th><th scope=col>feature_end</th><th scope=col>strand</th><th scope=col>TSS</th><th scope=col>TES</th><th scope=col>snp_position</th><th scope=col>snp_location</th><th scope=col>snp_dist_bin</th><th scope=col>dist</th></tr></thead>\n",
       "<tbody>\n",
       "\t<tr><td> 83385               </td><td>94794281             </td><td>94877666             </td><td>-1                   </td><td>94877666             </td><td>94794281             </td><td>94639418             </td><td>downstream           </td><td>NA                   </td><td> 238248              </td></tr>\n",
       "\t<tr><td>  5505               </td><td>91926113             </td><td>91931618             </td><td> 1                   </td><td>91926113             </td><td>91931618             </td><td>91743809             </td><td>upstream             </td><td>NA                   </td><td>-182304              </td></tr>\n",
       "\t<tr><td>148098               </td><td>93976097             </td><td>94124195             </td><td>-1                   </td><td>94124195             </td><td>93976097             </td><td>93981649             </td><td>gene_body_TES_closest</td><td>TES_closest_0        </td><td>      0              </td></tr>\n",
       "\t<tr><td> 41618               </td><td>75784850             </td><td>75826468             </td><td> 1                   </td><td>75784850             </td><td>75826468             </td><td>75836087             </td><td>downstream           </td><td>NA                   </td><td>  51237              </td></tr>\n",
       "\t<tr><td> 90108               </td><td>77157368             </td><td>77247476             </td><td> 1                   </td><td>77157368             </td><td>77247476             </td><td>77128577             </td><td>upstream             </td><td>NA                   </td><td> -28791              </td></tr>\n",
       "\t<tr><td> 16340               </td><td>  420773             </td><td>  437113             </td><td>-1                   </td><td>  437113             </td><td>  420773             </td><td>  421723             </td><td>gene_body_TES_closest</td><td>TES_closest_0        </td><td>      0              </td></tr>\n",
       "</tbody>\n",
       "</table>\n"
      ],
      "text/latex": [
       "\\begin{tabular}{r|llllllllll}\n",
       " feature\\_length & feature\\_start & feature\\_end & strand & TSS & TES & snp\\_position & snp\\_location & snp\\_dist\\_bin & dist\\\\\n",
       "\\hline\n",
       "\t  83385                & 94794281              & 94877666              & -1                    & 94877666              & 94794281              & 94639418              & downstream            & NA                    &  238248              \\\\\n",
       "\t   5505                & 91926113              & 91931618              &  1                    & 91926113              & 91931618              & 91743809              & upstream              & NA                    & -182304              \\\\\n",
       "\t 148098                      & 93976097                    & 94124195                    & -1                          & 94124195                    & 93976097                    & 93981649                    & gene\\_body\\_TES\\_closest & TES\\_closest\\_0           &       0                    \\\\\n",
       "\t  41618                & 75784850              & 75826468              &  1                    & 75784850              & 75826468              & 75836087              & downstream            & NA                    &   51237              \\\\\n",
       "\t  90108                & 77157368              & 77247476              &  1                    & 77157368              & 77247476              & 77128577              & upstream              & NA                    &  -28791              \\\\\n",
       "\t  16340                      &   420773                    &   437113                    & -1                          &   437113                    &   420773                    &   421723                    & gene\\_body\\_TES\\_closest & TES\\_closest\\_0           &       0                    \\\\\n",
       "\\end{tabular}\n"
      ],
      "text/markdown": [
       "\n",
       "| feature_length | feature_start | feature_end | strand | TSS | TES | snp_position | snp_location | snp_dist_bin | dist |\n",
       "|---|---|---|---|---|---|---|---|---|---|\n",
       "|  83385                | 94794281              | 94877666              | -1                    | 94877666              | 94794281              | 94639418              | downstream            | NA                    |  238248               |\n",
       "|   5505                | 91926113              | 91931618              |  1                    | 91926113              | 91931618              | 91743809              | upstream              | NA                    | -182304               |\n",
       "| 148098                | 93976097              | 94124195              | -1                    | 94124195              | 93976097              | 93981649              | gene_body_TES_closest | TES_closest_0         |       0               |\n",
       "|  41618                | 75784850              | 75826468              |  1                    | 75784850              | 75826468              | 75836087              | downstream            | NA                    |   51237               |\n",
       "|  90108                | 77157368              | 77247476              |  1                    | 77157368              | 77247476              | 77128577              | upstream              | NA                    |  -28791               |\n",
       "|  16340                |   420773              |   437113              | -1                    |   437113              |   420773              |   421723              | gene_body_TES_closest | TES_closest_0         |       0               |\n",
       "\n"
      ],
      "text/plain": [
       "  feature_length feature_start feature_end strand TSS      TES     \n",
       "1  83385         94794281      94877666    -1     94877666 94794281\n",
       "2   5505         91926113      91931618     1     91926113 91931618\n",
       "3 148098         93976097      94124195    -1     94124195 93976097\n",
       "4  41618         75784850      75826468     1     75784850 75826468\n",
       "5  90108         77157368      77247476     1     77157368 77247476\n",
       "6  16340           420773        437113    -1       437113   420773\n",
       "  snp_position snp_location          snp_dist_bin  dist   \n",
       "1 94639418     downstream            NA             238248\n",
       "2 91743809     upstream              NA            -182304\n",
       "3 93981649     gene_body_TES_closest TES_closest_0       0\n",
       "4 75836087     downstream            NA              51237\n",
       "5 77128577     upstream              NA             -28791\n",
       "6   421723     gene_body_TES_closest TES_closest_0       0"
      ]
     },
     "metadata": {},
     "output_type": "display_data"
    }
   ],
   "source": [
    "myfile3 = df\n",
    "head(myfile3[,c(\"feature_length\",\"feature_start\",\"feature_end\",\"strand\",\"TSS\",\"TES\",\n",
    "                \"snp_position\",\"snp_location\",\"snp_dist_bin\",\"dist\")])"
   ]
  },
  {
   "cell_type": "code",
   "execution_count": 18,
   "metadata": {},
   "outputs": [
    {
     "data": {
      "text/html": [
       "<table>\n",
       "<thead><tr><th scope=col>feature_length</th><th scope=col>feature_start</th><th scope=col>feature_end</th><th scope=col>strand</th><th scope=col>TSS</th><th scope=col>TES</th><th scope=col>snp_position</th><th scope=col>snp_location</th><th scope=col>snp_dist_bin</th><th scope=col>dist</th><th scope=col>dist_kb</th></tr></thead>\n",
       "<tbody>\n",
       "\t<tr><td> 83385               </td><td>94794281             </td><td>94877666             </td><td>-1                   </td><td>94877666             </td><td>94794281             </td><td>94639418             </td><td>downstream           </td><td>NA                   </td><td> 238248              </td><td> 230                 </td></tr>\n",
       "\t<tr><td>  5505               </td><td>91926113             </td><td>91931618             </td><td> 1                   </td><td>91926113             </td><td>91931618             </td><td>91743809             </td><td>upstream             </td><td>NA                   </td><td>-182304              </td><td>-180                 </td></tr>\n",
       "\t<tr><td>148098               </td><td>93976097             </td><td>94124195             </td><td>-1                   </td><td>94124195             </td><td>93976097             </td><td>93981649             </td><td>gene_body_TES_closest</td><td>TES_closest_0        </td><td>      0              </td><td>   0                 </td></tr>\n",
       "\t<tr><td> 41618               </td><td>75784850             </td><td>75826468             </td><td> 1                   </td><td>75784850             </td><td>75826468             </td><td>75836087             </td><td>downstream           </td><td>NA                   </td><td>  51237              </td><td>  50                 </td></tr>\n",
       "\t<tr><td> 90108               </td><td>77157368             </td><td>77247476             </td><td> 1                   </td><td>77157368             </td><td>77247476             </td><td>77128577             </td><td>upstream             </td><td>NA                   </td><td> -28791              </td><td> -20                 </td></tr>\n",
       "\t<tr><td> 16340               </td><td>  420773             </td><td>  437113             </td><td>-1                   </td><td>  437113             </td><td>  420773             </td><td>  421723             </td><td>gene_body_TES_closest</td><td>TES_closest_0        </td><td>      0              </td><td>   0                 </td></tr>\n",
       "</tbody>\n",
       "</table>\n"
      ],
      "text/latex": [
       "\\begin{tabular}{r|lllllllllll}\n",
       " feature\\_length & feature\\_start & feature\\_end & strand & TSS & TES & snp\\_position & snp\\_location & snp\\_dist\\_bin & dist & dist\\_kb\\\\\n",
       "\\hline\n",
       "\t  83385                & 94794281              & 94877666              & -1                    & 94877666              & 94794281              & 94639418              & downstream            & NA                    &  238248               &  230                 \\\\\n",
       "\t   5505                & 91926113              & 91931618              &  1                    & 91926113              & 91931618              & 91743809              & upstream              & NA                    & -182304               & -180                 \\\\\n",
       "\t 148098                      & 93976097                    & 94124195                    & -1                          & 94124195                    & 93976097                    & 93981649                    & gene\\_body\\_TES\\_closest & TES\\_closest\\_0           &       0                     &    0                       \\\\\n",
       "\t  41618                & 75784850              & 75826468              &  1                    & 75784850              & 75826468              & 75836087              & downstream            & NA                    &   51237               &   50                 \\\\\n",
       "\t  90108                & 77157368              & 77247476              &  1                    & 77157368              & 77247476              & 77128577              & upstream              & NA                    &  -28791               &  -20                 \\\\\n",
       "\t  16340                      &   420773                    &   437113                    & -1                          &   437113                    &   420773                    &   421723                    & gene\\_body\\_TES\\_closest & TES\\_closest\\_0           &       0                     &    0                       \\\\\n",
       "\\end{tabular}\n"
      ],
      "text/markdown": [
       "\n",
       "| feature_length | feature_start | feature_end | strand | TSS | TES | snp_position | snp_location | snp_dist_bin | dist | dist_kb |\n",
       "|---|---|---|---|---|---|---|---|---|---|---|\n",
       "|  83385                | 94794281              | 94877666              | -1                    | 94877666              | 94794281              | 94639418              | downstream            | NA                    |  238248               |  230                  |\n",
       "|   5505                | 91926113              | 91931618              |  1                    | 91926113              | 91931618              | 91743809              | upstream              | NA                    | -182304               | -180                  |\n",
       "| 148098                | 93976097              | 94124195              | -1                    | 94124195              | 93976097              | 93981649              | gene_body_TES_closest | TES_closest_0         |       0               |    0                  |\n",
       "|  41618                | 75784850              | 75826468              |  1                    | 75784850              | 75826468              | 75836087              | downstream            | NA                    |   51237               |   50                  |\n",
       "|  90108                | 77157368              | 77247476              |  1                    | 77157368              | 77247476              | 77128577              | upstream              | NA                    |  -28791               |  -20                  |\n",
       "|  16340                |   420773              |   437113              | -1                    |   437113              |   420773              |   421723              | gene_body_TES_closest | TES_closest_0         |       0               |    0                  |\n",
       "\n"
      ],
      "text/plain": [
       "  feature_length feature_start feature_end strand TSS      TES     \n",
       "1  83385         94794281      94877666    -1     94877666 94794281\n",
       "2   5505         91926113      91931618     1     91926113 91931618\n",
       "3 148098         93976097      94124195    -1     94124195 93976097\n",
       "4  41618         75784850      75826468     1     75784850 75826468\n",
       "5  90108         77157368      77247476     1     77157368 77247476\n",
       "6  16340           420773        437113    -1       437113   420773\n",
       "  snp_position snp_location          snp_dist_bin  dist    dist_kb\n",
       "1 94639418     downstream            NA             238248  230   \n",
       "2 91743809     upstream              NA            -182304 -180   \n",
       "3 93981649     gene_body_TES_closest TES_closest_0       0    0   \n",
       "4 75836087     downstream            NA              51237   50   \n",
       "5 77128577     upstream              NA             -28791  -20   \n",
       "6   421723     gene_body_TES_closest TES_closest_0       0    0   "
      ]
     },
     "metadata": {},
     "output_type": "display_data"
    }
   ],
   "source": [
    "df$dist_kb = floor(round(df$dist/1000)/10)*10\n",
    "df[df$dist < 0,\"dist_kb\"] = ceiling(round(df[df$dist<0,\"dist\"]/1000)/10)*10\n",
    "myfile3 = df\n",
    "head(myfile3[,c(\"feature_length\",\"feature_start\",\"feature_end\",\"strand\",\"TSS\",\"TES\",\n",
    "                \"snp_position\",\"snp_location\",\"snp_dist_bin\",\"dist\",\"dist_kb\")])"
   ]
  },
  {
   "cell_type": "code",
   "execution_count": 19,
   "metadata": {},
   "outputs": [
    {
     "data": {
      "text/html": [
       "<table>\n",
       "<thead><tr><th scope=col>feature_length</th><th scope=col>feature_start</th><th scope=col>feature_end</th><th scope=col>strand</th><th scope=col>TSS</th><th scope=col>TES</th><th scope=col>snp_position</th><th scope=col>snp_location</th><th scope=col>snp_dist_bin</th><th scope=col>dist</th><th scope=col>dist_kb</th><th scope=col>dist_pct</th></tr></thead>\n",
       "<tbody>\n",
       "\t<tr><td> 83385               </td><td>94794281             </td><td>94877666             </td><td>-1                   </td><td>94877666             </td><td>94794281             </td><td>94639418             </td><td>downstream           </td><td>downstream_230       </td><td> 238248              </td><td> 230                 </td><td>  0                  </td></tr>\n",
       "\t<tr><td>  5505               </td><td>91926113             </td><td>91931618             </td><td> 1                   </td><td>91926113             </td><td>91931618             </td><td>91743809             </td><td>upstream             </td><td>upstream_180         </td><td>-182304              </td><td>-180                 </td><td>  0                  </td></tr>\n",
       "\t<tr><td>148098               </td><td>93976097             </td><td>94124195             </td><td>-1                   </td><td>94124195             </td><td>93976097             </td><td>93981649             </td><td>gene_body_TES_closest</td><td>TES_closest_0        </td><td>      0              </td><td>   0                 </td><td>100                  </td></tr>\n",
       "\t<tr><td> 41618               </td><td>75784850             </td><td>75826468             </td><td> 1                   </td><td>75784850             </td><td>75826468             </td><td>75836087             </td><td>downstream           </td><td>downstream_50        </td><td>  51237              </td><td>  50                 </td><td>  0                  </td></tr>\n",
       "\t<tr><td> 90108               </td><td>77157368             </td><td>77247476             </td><td> 1                   </td><td>77157368             </td><td>77247476             </td><td>77128577             </td><td>upstream             </td><td>upstream_20          </td><td> -28791              </td><td> -20                 </td><td>  0                  </td></tr>\n",
       "\t<tr><td> 16340               </td><td>  420773             </td><td>  437113             </td><td>-1                   </td><td>  437113             </td><td>  420773             </td><td>  421723             </td><td>gene_body_TES_closest</td><td>TES_closest_0        </td><td>      0              </td><td>   0                 </td><td>100                  </td></tr>\n",
       "</tbody>\n",
       "</table>\n"
      ],
      "text/latex": [
       "\\begin{tabular}{r|llllllllllll}\n",
       " feature\\_length & feature\\_start & feature\\_end & strand & TSS & TES & snp\\_position & snp\\_location & snp\\_dist\\_bin & dist & dist\\_kb & dist\\_pct\\\\\n",
       "\\hline\n",
       "\t  83385                & 94794281              & 94877666              & -1                    & 94877666              & 94794281              & 94639418              & downstream            & downstream\\_230      &  238248               &  230                  &   0                  \\\\\n",
       "\t   5505                & 91926113              & 91931618              &  1                    & 91926113              & 91931618              & 91743809              & upstream              & upstream\\_180        & -182304               & -180                  &   0                  \\\\\n",
       "\t 148098                      & 93976097                    & 94124195                    & -1                          & 94124195                    & 93976097                    & 93981649                    & gene\\_body\\_TES\\_closest & TES\\_closest\\_0           &       0                     &    0                        & 100                        \\\\\n",
       "\t  41618                & 75784850              & 75826468              &  1                    & 75784850              & 75826468              & 75836087              & downstream            & downstream\\_50       &   51237               &   50                  &   0                  \\\\\n",
       "\t  90108                & 77157368              & 77247476              &  1                    & 77157368              & 77247476              & 77128577              & upstream              & upstream\\_20         &  -28791               &  -20                  &   0                  \\\\\n",
       "\t  16340                      &   420773                    &   437113                    & -1                          &   437113                    &   420773                    &   421723                    & gene\\_body\\_TES\\_closest & TES\\_closest\\_0           &       0                     &    0                        & 100                        \\\\\n",
       "\\end{tabular}\n"
      ],
      "text/markdown": [
       "\n",
       "| feature_length | feature_start | feature_end | strand | TSS | TES | snp_position | snp_location | snp_dist_bin | dist | dist_kb | dist_pct |\n",
       "|---|---|---|---|---|---|---|---|---|---|---|---|\n",
       "|  83385                | 94794281              | 94877666              | -1                    | 94877666              | 94794281              | 94639418              | downstream            | downstream_230        |  238248               |  230                  |   0                   |\n",
       "|   5505                | 91926113              | 91931618              |  1                    | 91926113              | 91931618              | 91743809              | upstream              | upstream_180          | -182304               | -180                  |   0                   |\n",
       "| 148098                | 93976097              | 94124195              | -1                    | 94124195              | 93976097              | 93981649              | gene_body_TES_closest | TES_closest_0         |       0               |    0                  | 100                   |\n",
       "|  41618                | 75784850              | 75826468              |  1                    | 75784850              | 75826468              | 75836087              | downstream            | downstream_50         |   51237               |   50                  |   0                   |\n",
       "|  90108                | 77157368              | 77247476              |  1                    | 77157368              | 77247476              | 77128577              | upstream              | upstream_20           |  -28791               |  -20                  |   0                   |\n",
       "|  16340                |   420773              |   437113              | -1                    |   437113              |   420773              |   421723              | gene_body_TES_closest | TES_closest_0         |       0               |    0                  | 100                   |\n",
       "\n"
      ],
      "text/plain": [
       "  feature_length feature_start feature_end strand TSS      TES     \n",
       "1  83385         94794281      94877666    -1     94877666 94794281\n",
       "2   5505         91926113      91931618     1     91926113 91931618\n",
       "3 148098         93976097      94124195    -1     94124195 93976097\n",
       "4  41618         75784850      75826468     1     75784850 75826468\n",
       "5  90108         77157368      77247476     1     77157368 77247476\n",
       "6  16340           420773        437113    -1       437113   420773\n",
       "  snp_position snp_location          snp_dist_bin   dist    dist_kb dist_pct\n",
       "1 94639418     downstream            downstream_230  238248  230      0     \n",
       "2 91743809     upstream              upstream_180   -182304 -180      0     \n",
       "3 93981649     gene_body_TES_closest TES_closest_0        0    0    100     \n",
       "4 75836087     downstream            downstream_50    51237   50      0     \n",
       "5 77128577     upstream              upstream_20     -28791  -20      0     \n",
       "6   421723     gene_body_TES_closest TES_closest_0        0    0    100     "
      ]
     },
     "metadata": {},
     "output_type": "display_data"
    }
   ],
   "source": [
    "df[df$dist > 0,\"snp_dist_bin\"] = paste0(\"downstream_\",df[df$dist > 0,\"dist_kb\"])\n",
    "df[df$dist_kb > 1000,\"snp_dist_bin\"] = \"downstream_1000\"\n",
    "df[df$dist < 0,\"snp_dist_bin\"] = paste0(\"upstream_\",abs(df[df$dist < 0,\"dist_kb\"]))\n",
    "df[df$dist_kb < -500,\"snp_dist_bin\"] = \"upstream_500\"\n",
    "myfile3 = df\n",
    "head(myfile3[,c(\"feature_length\",\"feature_start\",\"feature_end\",\"strand\",\"TSS\",\"TES\",\n",
    "                \"snp_position\",\"snp_location\",\"snp_dist_bin\",\"dist\",\"dist_kb\",\"dist_pct\")])"
   ]
  },
  {
   "cell_type": "code",
   "execution_count": 20,
   "metadata": {},
   "outputs": [
    {
     "data": {
      "text/html": [
       "<table>\n",
       "<thead><tr><th scope=col>Var1</th><th scope=col>Freq</th></tr></thead>\n",
       "<tbody>\n",
       "\t<tr><td>downstream_0 </td><td>12           </td></tr>\n",
       "\t<tr><td>downstream_10</td><td>25           </td></tr>\n",
       "</tbody>\n",
       "</table>\n"
      ],
      "text/latex": [
       "\\begin{tabular}{r|ll}\n",
       " Var1 & Freq\\\\\n",
       "\\hline\n",
       "\t downstream\\_0  & 12             \\\\\n",
       "\t downstream\\_10 & 25             \\\\\n",
       "\\end{tabular}\n"
      ],
      "text/markdown": [
       "\n",
       "| Var1 | Freq |\n",
       "|---|---|\n",
       "| downstream_0  | 12            |\n",
       "| downstream_10 | 25            |\n",
       "\n"
      ],
      "text/plain": [
       "  Var1          Freq\n",
       "1 downstream_0  12  \n",
       "2 downstream_10 25  "
      ]
     },
     "metadata": {},
     "output_type": "display_data"
    }
   ],
   "source": [
    "df_bars = data.frame(table(df$snp_dist_bin))\n",
    "head(df_bars,2)"
   ]
  },
  {
   "cell_type": "code",
   "execution_count": 21,
   "metadata": {},
   "outputs": [],
   "source": [
    "df_bars$bins = factor(df_bars$Var1, levels = c(paste0(\"upstream_\",seq(500,0,-10)), \n",
    "                                               paste0(\"TSS_closest_\",seq(0,50,10)),\n",
    "                                               paste0(\"TES_closest_\",seq(50,0,-10)),\n",
    "                                              paste0(\"downstream_\",seq(0,500,10))))"
   ]
  },
  {
   "cell_type": "code",
   "execution_count": 22,
   "metadata": {
    "scrolled": true
   },
   "outputs": [
    {
     "data": {
      "text/html": [
       "<ol class=list-inline>\n",
       "\t<li>downstream_0</li>\n",
       "\t<li>downstream_10</li>\n",
       "\t<li>downstream_100</li>\n",
       "\t<li>downstream_110</li>\n",
       "\t<li>downstream_120</li>\n",
       "\t<li>downstream_130</li>\n",
       "\t<li>downstream_140</li>\n",
       "\t<li>downstream_150</li>\n",
       "\t<li>downstream_160</li>\n",
       "\t<li>downstream_170</li>\n",
       "\t<li>downstream_180</li>\n",
       "\t<li>downstream_190</li>\n",
       "\t<li>downstream_20</li>\n",
       "\t<li>downstream_200</li>\n",
       "\t<li>downstream_210</li>\n",
       "\t<li>downstream_220</li>\n",
       "\t<li>downstream_230</li>\n",
       "\t<li>downstream_240</li>\n",
       "\t<li>downstream_250</li>\n",
       "\t<li>downstream_270</li>\n",
       "\t<li>downstream_280</li>\n",
       "\t<li>downstream_290</li>\n",
       "\t<li>downstream_30</li>\n",
       "\t<li>downstream_310</li>\n",
       "\t<li>downstream_320</li>\n",
       "\t<li>downstream_330</li>\n",
       "\t<li>downstream_340</li>\n",
       "\t<li>downstream_350</li>\n",
       "\t<li>downstream_360</li>\n",
       "\t<li>downstream_380</li>\n",
       "\t<li>downstream_40</li>\n",
       "\t<li>downstream_420</li>\n",
       "\t<li>downstream_50</li>\n",
       "\t<li>downstream_500</li>\n",
       "\t<li>downstream_60</li>\n",
       "\t<li>&lt;NA&gt;</li>\n",
       "\t<li>downstream_70</li>\n",
       "\t<li>downstream_80</li>\n",
       "\t<li>downstream_90</li>\n",
       "\t<li>TES_closest_0</li>\n",
       "\t<li>TES_closest_10</li>\n",
       "\t<li>TES_closest_20</li>\n",
       "\t<li>TES_closest_30</li>\n",
       "\t<li>TES_closest_40</li>\n",
       "\t<li>TSS_closest_10</li>\n",
       "\t<li>TSS_closest_20</li>\n",
       "\t<li>TSS_closest_30</li>\n",
       "\t<li>TSS_closest_40</li>\n",
       "\t<li>upstream_0</li>\n",
       "\t<li>upstream_10</li>\n",
       "\t<li>upstream_100</li>\n",
       "\t<li>upstream_110</li>\n",
       "\t<li>upstream_120</li>\n",
       "\t<li>upstream_130</li>\n",
       "\t<li>upstream_140</li>\n",
       "\t<li>upstream_150</li>\n",
       "\t<li>upstream_160</li>\n",
       "\t<li>upstream_170</li>\n",
       "\t<li>upstream_180</li>\n",
       "\t<li>upstream_190</li>\n",
       "\t<li>upstream_20</li>\n",
       "\t<li>upstream_200</li>\n",
       "\t<li>upstream_210</li>\n",
       "\t<li>upstream_230</li>\n",
       "\t<li>upstream_240</li>\n",
       "\t<li>upstream_30</li>\n",
       "\t<li>upstream_40</li>\n",
       "\t<li>upstream_50</li>\n",
       "\t<li>upstream_60</li>\n",
       "\t<li>upstream_70</li>\n",
       "\t<li>upstream_80</li>\n",
       "\t<li>upstream_90</li>\n",
       "</ol>\n",
       "\n",
       "<details>\n",
       "\t<summary style=display:list-item;cursor:pointer>\n",
       "\t\t<strong>Levels</strong>:\n",
       "\t</summary>\n",
       "\t<ol class=list-inline>\n",
       "\t\t<li>'upstream_500'</li>\n",
       "\t\t<li>'upstream_490'</li>\n",
       "\t\t<li>'upstream_480'</li>\n",
       "\t\t<li>'upstream_470'</li>\n",
       "\t\t<li>'upstream_460'</li>\n",
       "\t\t<li>'upstream_450'</li>\n",
       "\t\t<li>'upstream_440'</li>\n",
       "\t\t<li>'upstream_430'</li>\n",
       "\t\t<li>'upstream_420'</li>\n",
       "\t\t<li>'upstream_410'</li>\n",
       "\t\t<li>'upstream_400'</li>\n",
       "\t\t<li>'upstream_390'</li>\n",
       "\t\t<li>'upstream_380'</li>\n",
       "\t\t<li>'upstream_370'</li>\n",
       "\t\t<li>'upstream_360'</li>\n",
       "\t\t<li>'upstream_350'</li>\n",
       "\t\t<li>'upstream_340'</li>\n",
       "\t\t<li>'upstream_330'</li>\n",
       "\t\t<li>'upstream_320'</li>\n",
       "\t\t<li>'upstream_310'</li>\n",
       "\t\t<li>'upstream_300'</li>\n",
       "\t\t<li>'upstream_290'</li>\n",
       "\t\t<li>'upstream_280'</li>\n",
       "\t\t<li>'upstream_270'</li>\n",
       "\t\t<li>'upstream_260'</li>\n",
       "\t\t<li>'upstream_250'</li>\n",
       "\t\t<li>'upstream_240'</li>\n",
       "\t\t<li>'upstream_230'</li>\n",
       "\t\t<li>'upstream_220'</li>\n",
       "\t\t<li>'upstream_210'</li>\n",
       "\t\t<li>'upstream_200'</li>\n",
       "\t\t<li>'upstream_190'</li>\n",
       "\t\t<li>'upstream_180'</li>\n",
       "\t\t<li>'upstream_170'</li>\n",
       "\t\t<li>'upstream_160'</li>\n",
       "\t\t<li>'upstream_150'</li>\n",
       "\t\t<li>'upstream_140'</li>\n",
       "\t\t<li>'upstream_130'</li>\n",
       "\t\t<li>'upstream_120'</li>\n",
       "\t\t<li>'upstream_110'</li>\n",
       "\t\t<li>'upstream_100'</li>\n",
       "\t\t<li>'upstream_90'</li>\n",
       "\t\t<li>'upstream_80'</li>\n",
       "\t\t<li>'upstream_70'</li>\n",
       "\t\t<li>'upstream_60'</li>\n",
       "\t\t<li>'upstream_50'</li>\n",
       "\t\t<li>'upstream_40'</li>\n",
       "\t\t<li>'upstream_30'</li>\n",
       "\t\t<li>'upstream_20'</li>\n",
       "\t\t<li>'upstream_10'</li>\n",
       "\t\t<li>'upstream_0'</li>\n",
       "\t\t<li>'TSS_closest_0'</li>\n",
       "\t\t<li>'TSS_closest_10'</li>\n",
       "\t\t<li>'TSS_closest_20'</li>\n",
       "\t\t<li>'TSS_closest_30'</li>\n",
       "\t\t<li>'TSS_closest_40'</li>\n",
       "\t\t<li>'TSS_closest_50'</li>\n",
       "\t\t<li>'TES_closest_50'</li>\n",
       "\t\t<li>'TES_closest_40'</li>\n",
       "\t\t<li>'TES_closest_30'</li>\n",
       "\t\t<li>'TES_closest_20'</li>\n",
       "\t\t<li>'TES_closest_10'</li>\n",
       "\t\t<li>'TES_closest_0'</li>\n",
       "\t\t<li>'downstream_0'</li>\n",
       "\t\t<li>'downstream_10'</li>\n",
       "\t\t<li>'downstream_20'</li>\n",
       "\t\t<li>'downstream_30'</li>\n",
       "\t\t<li>'downstream_40'</li>\n",
       "\t\t<li>'downstream_50'</li>\n",
       "\t\t<li>'downstream_60'</li>\n",
       "\t\t<li>'downstream_70'</li>\n",
       "\t\t<li>'downstream_80'</li>\n",
       "\t\t<li>'downstream_90'</li>\n",
       "\t\t<li>'downstream_100'</li>\n",
       "\t\t<li>'downstream_110'</li>\n",
       "\t\t<li>'downstream_120'</li>\n",
       "\t\t<li>'downstream_130'</li>\n",
       "\t\t<li>'downstream_140'</li>\n",
       "\t\t<li>'downstream_150'</li>\n",
       "\t\t<li>'downstream_160'</li>\n",
       "\t\t<li>'downstream_170'</li>\n",
       "\t\t<li>'downstream_180'</li>\n",
       "\t\t<li>'downstream_190'</li>\n",
       "\t\t<li>'downstream_200'</li>\n",
       "\t\t<li>'downstream_210'</li>\n",
       "\t\t<li>'downstream_220'</li>\n",
       "\t\t<li>'downstream_230'</li>\n",
       "\t\t<li>'downstream_240'</li>\n",
       "\t\t<li>'downstream_250'</li>\n",
       "\t\t<li>'downstream_260'</li>\n",
       "\t\t<li>'downstream_270'</li>\n",
       "\t\t<li>'downstream_280'</li>\n",
       "\t\t<li>'downstream_290'</li>\n",
       "\t\t<li>'downstream_300'</li>\n",
       "\t\t<li>'downstream_310'</li>\n",
       "\t\t<li>'downstream_320'</li>\n",
       "\t\t<li>'downstream_330'</li>\n",
       "\t\t<li>'downstream_340'</li>\n",
       "\t\t<li>'downstream_350'</li>\n",
       "\t\t<li>'downstream_360'</li>\n",
       "\t\t<li>'downstream_370'</li>\n",
       "\t\t<li>'downstream_380'</li>\n",
       "\t\t<li>'downstream_390'</li>\n",
       "\t\t<li>'downstream_400'</li>\n",
       "\t\t<li>'downstream_410'</li>\n",
       "\t\t<li>'downstream_420'</li>\n",
       "\t\t<li>'downstream_430'</li>\n",
       "\t\t<li>'downstream_440'</li>\n",
       "\t\t<li>'downstream_450'</li>\n",
       "\t\t<li>'downstream_460'</li>\n",
       "\t\t<li>'downstream_470'</li>\n",
       "\t\t<li>'downstream_480'</li>\n",
       "\t\t<li>'downstream_490'</li>\n",
       "\t\t<li>'downstream_500'</li>\n",
       "\t</ol>\n",
       "</details>"
      ],
      "text/latex": [
       "\\begin{enumerate*}\n",
       "\\item downstream\\_0\n",
       "\\item downstream\\_10\n",
       "\\item downstream\\_100\n",
       "\\item downstream\\_110\n",
       "\\item downstream\\_120\n",
       "\\item downstream\\_130\n",
       "\\item downstream\\_140\n",
       "\\item downstream\\_150\n",
       "\\item downstream\\_160\n",
       "\\item downstream\\_170\n",
       "\\item downstream\\_180\n",
       "\\item downstream\\_190\n",
       "\\item downstream\\_20\n",
       "\\item downstream\\_200\n",
       "\\item downstream\\_210\n",
       "\\item downstream\\_220\n",
       "\\item downstream\\_230\n",
       "\\item downstream\\_240\n",
       "\\item downstream\\_250\n",
       "\\item downstream\\_270\n",
       "\\item downstream\\_280\n",
       "\\item downstream\\_290\n",
       "\\item downstream\\_30\n",
       "\\item downstream\\_310\n",
       "\\item downstream\\_320\n",
       "\\item downstream\\_330\n",
       "\\item downstream\\_340\n",
       "\\item downstream\\_350\n",
       "\\item downstream\\_360\n",
       "\\item downstream\\_380\n",
       "\\item downstream\\_40\n",
       "\\item downstream\\_420\n",
       "\\item downstream\\_50\n",
       "\\item downstream\\_500\n",
       "\\item downstream\\_60\n",
       "\\item <NA>\n",
       "\\item downstream\\_70\n",
       "\\item downstream\\_80\n",
       "\\item downstream\\_90\n",
       "\\item TES\\_closest\\_0\n",
       "\\item TES\\_closest\\_10\n",
       "\\item TES\\_closest\\_20\n",
       "\\item TES\\_closest\\_30\n",
       "\\item TES\\_closest\\_40\n",
       "\\item TSS\\_closest\\_10\n",
       "\\item TSS\\_closest\\_20\n",
       "\\item TSS\\_closest\\_30\n",
       "\\item TSS\\_closest\\_40\n",
       "\\item upstream\\_0\n",
       "\\item upstream\\_10\n",
       "\\item upstream\\_100\n",
       "\\item upstream\\_110\n",
       "\\item upstream\\_120\n",
       "\\item upstream\\_130\n",
       "\\item upstream\\_140\n",
       "\\item upstream\\_150\n",
       "\\item upstream\\_160\n",
       "\\item upstream\\_170\n",
       "\\item upstream\\_180\n",
       "\\item upstream\\_190\n",
       "\\item upstream\\_20\n",
       "\\item upstream\\_200\n",
       "\\item upstream\\_210\n",
       "\\item upstream\\_230\n",
       "\\item upstream\\_240\n",
       "\\item upstream\\_30\n",
       "\\item upstream\\_40\n",
       "\\item upstream\\_50\n",
       "\\item upstream\\_60\n",
       "\\item upstream\\_70\n",
       "\\item upstream\\_80\n",
       "\\item upstream\\_90\n",
       "\\end{enumerate*}\n",
       "\n",
       "\\emph{Levels}: \\begin{enumerate*}\n",
       "\\item 'upstream\\_500'\n",
       "\\item 'upstream\\_490'\n",
       "\\item 'upstream\\_480'\n",
       "\\item 'upstream\\_470'\n",
       "\\item 'upstream\\_460'\n",
       "\\item 'upstream\\_450'\n",
       "\\item 'upstream\\_440'\n",
       "\\item 'upstream\\_430'\n",
       "\\item 'upstream\\_420'\n",
       "\\item 'upstream\\_410'\n",
       "\\item 'upstream\\_400'\n",
       "\\item 'upstream\\_390'\n",
       "\\item 'upstream\\_380'\n",
       "\\item 'upstream\\_370'\n",
       "\\item 'upstream\\_360'\n",
       "\\item 'upstream\\_350'\n",
       "\\item 'upstream\\_340'\n",
       "\\item 'upstream\\_330'\n",
       "\\item 'upstream\\_320'\n",
       "\\item 'upstream\\_310'\n",
       "\\item 'upstream\\_300'\n",
       "\\item 'upstream\\_290'\n",
       "\\item 'upstream\\_280'\n",
       "\\item 'upstream\\_270'\n",
       "\\item 'upstream\\_260'\n",
       "\\item 'upstream\\_250'\n",
       "\\item 'upstream\\_240'\n",
       "\\item 'upstream\\_230'\n",
       "\\item 'upstream\\_220'\n",
       "\\item 'upstream\\_210'\n",
       "\\item 'upstream\\_200'\n",
       "\\item 'upstream\\_190'\n",
       "\\item 'upstream\\_180'\n",
       "\\item 'upstream\\_170'\n",
       "\\item 'upstream\\_160'\n",
       "\\item 'upstream\\_150'\n",
       "\\item 'upstream\\_140'\n",
       "\\item 'upstream\\_130'\n",
       "\\item 'upstream\\_120'\n",
       "\\item 'upstream\\_110'\n",
       "\\item 'upstream\\_100'\n",
       "\\item 'upstream\\_90'\n",
       "\\item 'upstream\\_80'\n",
       "\\item 'upstream\\_70'\n",
       "\\item 'upstream\\_60'\n",
       "\\item 'upstream\\_50'\n",
       "\\item 'upstream\\_40'\n",
       "\\item 'upstream\\_30'\n",
       "\\item 'upstream\\_20'\n",
       "\\item 'upstream\\_10'\n",
       "\\item 'upstream\\_0'\n",
       "\\item 'TSS\\_closest\\_0'\n",
       "\\item 'TSS\\_closest\\_10'\n",
       "\\item 'TSS\\_closest\\_20'\n",
       "\\item 'TSS\\_closest\\_30'\n",
       "\\item 'TSS\\_closest\\_40'\n",
       "\\item 'TSS\\_closest\\_50'\n",
       "\\item 'TES\\_closest\\_50'\n",
       "\\item 'TES\\_closest\\_40'\n",
       "\\item 'TES\\_closest\\_30'\n",
       "\\item 'TES\\_closest\\_20'\n",
       "\\item 'TES\\_closest\\_10'\n",
       "\\item 'TES\\_closest\\_0'\n",
       "\\item 'downstream\\_0'\n",
       "\\item 'downstream\\_10'\n",
       "\\item 'downstream\\_20'\n",
       "\\item 'downstream\\_30'\n",
       "\\item 'downstream\\_40'\n",
       "\\item 'downstream\\_50'\n",
       "\\item 'downstream\\_60'\n",
       "\\item 'downstream\\_70'\n",
       "\\item 'downstream\\_80'\n",
       "\\item 'downstream\\_90'\n",
       "\\item 'downstream\\_100'\n",
       "\\item 'downstream\\_110'\n",
       "\\item 'downstream\\_120'\n",
       "\\item 'downstream\\_130'\n",
       "\\item 'downstream\\_140'\n",
       "\\item 'downstream\\_150'\n",
       "\\item 'downstream\\_160'\n",
       "\\item 'downstream\\_170'\n",
       "\\item 'downstream\\_180'\n",
       "\\item 'downstream\\_190'\n",
       "\\item 'downstream\\_200'\n",
       "\\item 'downstream\\_210'\n",
       "\\item 'downstream\\_220'\n",
       "\\item 'downstream\\_230'\n",
       "\\item 'downstream\\_240'\n",
       "\\item 'downstream\\_250'\n",
       "\\item 'downstream\\_260'\n",
       "\\item 'downstream\\_270'\n",
       "\\item 'downstream\\_280'\n",
       "\\item 'downstream\\_290'\n",
       "\\item 'downstream\\_300'\n",
       "\\item 'downstream\\_310'\n",
       "\\item 'downstream\\_320'\n",
       "\\item 'downstream\\_330'\n",
       "\\item 'downstream\\_340'\n",
       "\\item 'downstream\\_350'\n",
       "\\item 'downstream\\_360'\n",
       "\\item 'downstream\\_370'\n",
       "\\item 'downstream\\_380'\n",
       "\\item 'downstream\\_390'\n",
       "\\item 'downstream\\_400'\n",
       "\\item 'downstream\\_410'\n",
       "\\item 'downstream\\_420'\n",
       "\\item 'downstream\\_430'\n",
       "\\item 'downstream\\_440'\n",
       "\\item 'downstream\\_450'\n",
       "\\item 'downstream\\_460'\n",
       "\\item 'downstream\\_470'\n",
       "\\item 'downstream\\_480'\n",
       "\\item 'downstream\\_490'\n",
       "\\item 'downstream\\_500'\n",
       "\\end{enumerate*}\n"
      ],
      "text/markdown": [
       "1. downstream_0\n",
       "2. downstream_10\n",
       "3. downstream_100\n",
       "4. downstream_110\n",
       "5. downstream_120\n",
       "6. downstream_130\n",
       "7. downstream_140\n",
       "8. downstream_150\n",
       "9. downstream_160\n",
       "10. downstream_170\n",
       "11. downstream_180\n",
       "12. downstream_190\n",
       "13. downstream_20\n",
       "14. downstream_200\n",
       "15. downstream_210\n",
       "16. downstream_220\n",
       "17. downstream_230\n",
       "18. downstream_240\n",
       "19. downstream_250\n",
       "20. downstream_270\n",
       "21. downstream_280\n",
       "22. downstream_290\n",
       "23. downstream_30\n",
       "24. downstream_310\n",
       "25. downstream_320\n",
       "26. downstream_330\n",
       "27. downstream_340\n",
       "28. downstream_350\n",
       "29. downstream_360\n",
       "30. downstream_380\n",
       "31. downstream_40\n",
       "32. downstream_420\n",
       "33. downstream_50\n",
       "34. downstream_500\n",
       "35. downstream_60\n",
       "36. &lt;NA&gt;\n",
       "37. downstream_70\n",
       "38. downstream_80\n",
       "39. downstream_90\n",
       "40. TES_closest_0\n",
       "41. TES_closest_10\n",
       "42. TES_closest_20\n",
       "43. TES_closest_30\n",
       "44. TES_closest_40\n",
       "45. TSS_closest_10\n",
       "46. TSS_closest_20\n",
       "47. TSS_closest_30\n",
       "48. TSS_closest_40\n",
       "49. upstream_0\n",
       "50. upstream_10\n",
       "51. upstream_100\n",
       "52. upstream_110\n",
       "53. upstream_120\n",
       "54. upstream_130\n",
       "55. upstream_140\n",
       "56. upstream_150\n",
       "57. upstream_160\n",
       "58. upstream_170\n",
       "59. upstream_180\n",
       "60. upstream_190\n",
       "61. upstream_20\n",
       "62. upstream_200\n",
       "63. upstream_210\n",
       "64. upstream_230\n",
       "65. upstream_240\n",
       "66. upstream_30\n",
       "67. upstream_40\n",
       "68. upstream_50\n",
       "69. upstream_60\n",
       "70. upstream_70\n",
       "71. upstream_80\n",
       "72. upstream_90\n",
       "\n",
       "\n",
       "\n",
       "**Levels**: 1. 'upstream_500'\n",
       "2. 'upstream_490'\n",
       "3. 'upstream_480'\n",
       "4. 'upstream_470'\n",
       "5. 'upstream_460'\n",
       "6. 'upstream_450'\n",
       "7. 'upstream_440'\n",
       "8. 'upstream_430'\n",
       "9. 'upstream_420'\n",
       "10. 'upstream_410'\n",
       "11. 'upstream_400'\n",
       "12. 'upstream_390'\n",
       "13. 'upstream_380'\n",
       "14. 'upstream_370'\n",
       "15. 'upstream_360'\n",
       "16. 'upstream_350'\n",
       "17. 'upstream_340'\n",
       "18. 'upstream_330'\n",
       "19. 'upstream_320'\n",
       "20. 'upstream_310'\n",
       "21. 'upstream_300'\n",
       "22. 'upstream_290'\n",
       "23. 'upstream_280'\n",
       "24. 'upstream_270'\n",
       "25. 'upstream_260'\n",
       "26. 'upstream_250'\n",
       "27. 'upstream_240'\n",
       "28. 'upstream_230'\n",
       "29. 'upstream_220'\n",
       "30. 'upstream_210'\n",
       "31. 'upstream_200'\n",
       "32. 'upstream_190'\n",
       "33. 'upstream_180'\n",
       "34. 'upstream_170'\n",
       "35. 'upstream_160'\n",
       "36. 'upstream_150'\n",
       "37. 'upstream_140'\n",
       "38. 'upstream_130'\n",
       "39. 'upstream_120'\n",
       "40. 'upstream_110'\n",
       "41. 'upstream_100'\n",
       "42. 'upstream_90'\n",
       "43. 'upstream_80'\n",
       "44. 'upstream_70'\n",
       "45. 'upstream_60'\n",
       "46. 'upstream_50'\n",
       "47. 'upstream_40'\n",
       "48. 'upstream_30'\n",
       "49. 'upstream_20'\n",
       "50. 'upstream_10'\n",
       "51. 'upstream_0'\n",
       "52. 'TSS_closest_0'\n",
       "53. 'TSS_closest_10'\n",
       "54. 'TSS_closest_20'\n",
       "55. 'TSS_closest_30'\n",
       "56. 'TSS_closest_40'\n",
       "57. 'TSS_closest_50'\n",
       "58. 'TES_closest_50'\n",
       "59. 'TES_closest_40'\n",
       "60. 'TES_closest_30'\n",
       "61. 'TES_closest_20'\n",
       "62. 'TES_closest_10'\n",
       "63. 'TES_closest_0'\n",
       "64. 'downstream_0'\n",
       "65. 'downstream_10'\n",
       "66. 'downstream_20'\n",
       "67. 'downstream_30'\n",
       "68. 'downstream_40'\n",
       "69. 'downstream_50'\n",
       "70. 'downstream_60'\n",
       "71. 'downstream_70'\n",
       "72. 'downstream_80'\n",
       "73. 'downstream_90'\n",
       "74. 'downstream_100'\n",
       "75. 'downstream_110'\n",
       "76. 'downstream_120'\n",
       "77. 'downstream_130'\n",
       "78. 'downstream_140'\n",
       "79. 'downstream_150'\n",
       "80. 'downstream_160'\n",
       "81. 'downstream_170'\n",
       "82. 'downstream_180'\n",
       "83. 'downstream_190'\n",
       "84. 'downstream_200'\n",
       "85. 'downstream_210'\n",
       "86. 'downstream_220'\n",
       "87. 'downstream_230'\n",
       "88. 'downstream_240'\n",
       "89. 'downstream_250'\n",
       "90. 'downstream_260'\n",
       "91. 'downstream_270'\n",
       "92. 'downstream_280'\n",
       "93. 'downstream_290'\n",
       "94. 'downstream_300'\n",
       "95. 'downstream_310'\n",
       "96. 'downstream_320'\n",
       "97. 'downstream_330'\n",
       "98. 'downstream_340'\n",
       "99. 'downstream_350'\n",
       "100. 'downstream_360'\n",
       "101. 'downstream_370'\n",
       "102. 'downstream_380'\n",
       "103. 'downstream_390'\n",
       "104. 'downstream_400'\n",
       "105. 'downstream_410'\n",
       "106. 'downstream_420'\n",
       "107. 'downstream_430'\n",
       "108. 'downstream_440'\n",
       "109. 'downstream_450'\n",
       "110. 'downstream_460'\n",
       "111. 'downstream_470'\n",
       "112. 'downstream_480'\n",
       "113. 'downstream_490'\n",
       "114. 'downstream_500'\n",
       "\n",
       "\n"
      ],
      "text/plain": [
       " [1] downstream_0   downstream_10  downstream_100 downstream_110 downstream_120\n",
       " [6] downstream_130 downstream_140 downstream_150 downstream_160 downstream_170\n",
       "[11] downstream_180 downstream_190 downstream_20  downstream_200 downstream_210\n",
       "[16] downstream_220 downstream_230 downstream_240 downstream_250 downstream_270\n",
       "[21] downstream_280 downstream_290 downstream_30  downstream_310 downstream_320\n",
       "[26] downstream_330 downstream_340 downstream_350 downstream_360 downstream_380\n",
       "[31] downstream_40  downstream_420 downstream_50  downstream_500 downstream_60 \n",
       "[36] <NA>           downstream_70  downstream_80  downstream_90  TES_closest_0 \n",
       "[41] TES_closest_10 TES_closest_20 TES_closest_30 TES_closest_40 TSS_closest_10\n",
       "[46] TSS_closest_20 TSS_closest_30 TSS_closest_40 upstream_0     upstream_10   \n",
       "[51] upstream_100   upstream_110   upstream_120   upstream_130   upstream_140  \n",
       "[56] upstream_150   upstream_160   upstream_170   upstream_180   upstream_190  \n",
       "[61] upstream_20    upstream_200   upstream_210   upstream_230   upstream_240  \n",
       "[66] upstream_30    upstream_40    upstream_50    upstream_60    upstream_70   \n",
       "[71] upstream_80    upstream_90   \n",
       "114 Levels: upstream_500 upstream_490 upstream_480 upstream_470 ... downstream_500"
      ]
     },
     "metadata": {},
     "output_type": "display_data"
    }
   ],
   "source": [
    "df_bars$bins"
   ]
  },
  {
   "cell_type": "code",
   "execution_count": 23,
   "metadata": {},
   "outputs": [],
   "source": [
    "df_bars[grep(\"upstream\",df_bars$Var1),\"category\"] = \"upstream\"\n",
    "df_bars[grep(\"closest\",df_bars$Var1),\"category\"] = \"gene_body\"\n",
    "# df_bars[grep(\"TES\",df_bars$Var1),\"category\"] = \"TES\"\n",
    "df_bars[grep(\"downstream\",df_bars$Var1),\"category\"] = \"downstream\""
   ]
  },
  {
   "cell_type": "code",
   "execution_count": 26,
   "metadata": {
    "scrolled": false
   },
   "outputs": [
    {
     "data": {
      "image/png": "[encoded data removed]",
      "text/plain": [
       "plot without title"
      ]
     },
     "metadata": {},
     "output_type": "display_data"
    }
   ],
   "source": [
    "options(repr.plot.width=7, repr.plot.height=5)\n",
    "ggplot(df_bars,\n",
    "       aes(x = bins, y = Freq, fill = category)) + geom_bar(stat=\"identity\") + theme_bw() + #ylim(c(0,100)) +\n",
    "                            theme_classic() +\n",
    "                            theme(legend.position = \"none\", axis.text.x = element_text(angle = 90)) +\n",
    "                            scale_fill_manual(values = c(\"forestgreen\",\"coral\",\"cornflowerblue\")) "
   ]
  },
  {
   "cell_type": "code",
   "execution_count": 362,
   "metadata": {},
   "outputs": [
    {
     "data": {
      "text/html": [
       "66"
      ],
      "text/latex": [
       "66"
      ],
      "text/markdown": [
       "66"
      ],
      "text/plain": [
       "[1] 66"
      ]
     },
     "metadata": {},
     "output_type": "display_data"
    }
   ],
   "source": [
    "nrow(df[df$dist_pct ==100,])"
   ]
  },
  {
   "cell_type": "code",
   "execution_count": 27,
   "metadata": {},
   "outputs": [
    {
     "data": {
      "text/html": [
       "<strong>png:</strong> 2"
      ],
      "text/latex": [
       "\\textbf{png:} 2"
      ],
      "text/markdown": [
       "**png:** 2"
      ],
      "text/plain": [
       "png \n",
       "  2 "
      ]
     },
     "metadata": {},
     "output_type": "display_data"
    }
   ],
   "source": [
    "fig_dir = \"/hps/nobackup/stegle/users/acuomo/all_scripts/sc_neuroseq/figures/extended_figures/\"\n",
    "pdf(paste0(fig_dir,\"Extended_Figure_6b.pdf\"), width=7, height=5)\n",
    "ggplot(df_bars,\n",
    "       aes(x = bins, y = Freq, fill = category)) + geom_bar(stat=\"identity\") + theme_bw() + #ylim(c(0,100)) +\n",
    "                            theme_classic() +\n",
    "                            theme(legend.position = \"none\", axis.text.x = element_text(angle = 90)) +\n",
    "                            scale_fill_manual(values = c(\"forestgreen\",\"coral\",\"cornflowerblue\")) \n",
    "dev.off()"
   ]
  },
  {
   "cell_type": "code",
   "execution_count": null,
   "metadata": {},
   "outputs": [],
   "source": []
  }
 ],
 "metadata": {
  "kernelspec": {
   "display_name": "R",
   "language": "R",
   "name": "ir"
  },
  "language_info": {
   "codemirror_mode": "r",
   "file_extension": ".r",
   "mimetype": "text/x-r-source",
   "name": "R",
   "pygments_lexer": "r",
   "version": "3.6.1"
  }
 },
 "nbformat": 4,
 "nbformat_minor": 4
}
