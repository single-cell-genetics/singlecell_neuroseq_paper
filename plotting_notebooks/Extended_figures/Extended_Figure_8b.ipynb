{
 "cells": [
  {
   "cell_type": "code",
   "execution_count": 1,
   "metadata": {},
   "outputs": [],
   "source": [
    "library(tidyr)\n",
    "library(ggplot2)"
   ]
  },
  {
   "cell_type": "code",
   "execution_count": 2,
   "metadata": {},
   "outputs": [
    {
     "data": {
      "text/html": [
       "<ol class=list-inline>\n",
       "\t<li>'Astro_D30_qtl_results_p_0.05.csv'</li>\n",
       "\t<li>'Astro_D52_NONE_qtl_results_p_0.05.csv'</li>\n",
       "\t<li>'Astro_D52_ROT_qtl_results_p_0.05.csv'</li>\n",
       "\t<li>'DA_D30_qtl_results_p_0.05.csv'</li>\n",
       "\t<li>'DA_D52_NONE_qtl_results_p_0.05.csv'</li>\n",
       "\t<li>'DA_D52_ROT_qtl_results_p_0.05.csv'</li>\n",
       "\t<li>'Epen1_D30_qtl_results_p_0.05.csv'</li>\n",
       "\t<li>'Epen1_D52_NONE_qtl_results_p_0.05.csv'</li>\n",
       "\t<li>'Epen1_D52_ROT_qtl_results_p_0.05.csv'</li>\n",
       "\t<li>'FPP_D11_qtl_results_p_0.05.csv'</li>\n",
       "\t<li>'P_FPP_D11_qtl_results_p_0.05.csv'</li>\n",
       "\t<li>'Sert_D30_qtl_results_p_0.05.csv'</li>\n",
       "\t<li>'Sert_D52_NONE_qtl_results_p_0.05.csv'</li>\n",
       "\t<li>'Sert_D52_ROT_qtl_results_p_0.05.csv'</li>\n",
       "</ol>\n"
      ],
      "text/latex": [
       "\\begin{enumerate*}\n",
       "\\item 'Astro\\_D30\\_qtl\\_results\\_p\\_0.05.csv'\n",
       "\\item 'Astro\\_D52\\_NONE\\_qtl\\_results\\_p\\_0.05.csv'\n",
       "\\item 'Astro\\_D52\\_ROT\\_qtl\\_results\\_p\\_0.05.csv'\n",
       "\\item 'DA\\_D30\\_qtl\\_results\\_p\\_0.05.csv'\n",
       "\\item 'DA\\_D52\\_NONE\\_qtl\\_results\\_p\\_0.05.csv'\n",
       "\\item 'DA\\_D52\\_ROT\\_qtl\\_results\\_p\\_0.05.csv'\n",
       "\\item 'Epen1\\_D30\\_qtl\\_results\\_p\\_0.05.csv'\n",
       "\\item 'Epen1\\_D52\\_NONE\\_qtl\\_results\\_p\\_0.05.csv'\n",
       "\\item 'Epen1\\_D52\\_ROT\\_qtl\\_results\\_p\\_0.05.csv'\n",
       "\\item 'FPP\\_D11\\_qtl\\_results\\_p\\_0.05.csv'\n",
       "\\item 'P\\_FPP\\_D11\\_qtl\\_results\\_p\\_0.05.csv'\n",
       "\\item 'Sert\\_D30\\_qtl\\_results\\_p\\_0.05.csv'\n",
       "\\item 'Sert\\_D52\\_NONE\\_qtl\\_results\\_p\\_0.05.csv'\n",
       "\\item 'Sert\\_D52\\_ROT\\_qtl\\_results\\_p\\_0.05.csv'\n",
       "\\end{enumerate*}\n"
      ],
      "text/markdown": [
       "1. 'Astro_D30_qtl_results_p_0.05.csv'\n",
       "2. 'Astro_D52_NONE_qtl_results_p_0.05.csv'\n",
       "3. 'Astro_D52_ROT_qtl_results_p_0.05.csv'\n",
       "4. 'DA_D30_qtl_results_p_0.05.csv'\n",
       "5. 'DA_D52_NONE_qtl_results_p_0.05.csv'\n",
       "6. 'DA_D52_ROT_qtl_results_p_0.05.csv'\n",
       "7. 'Epen1_D30_qtl_results_p_0.05.csv'\n",
       "8. 'Epen1_D52_NONE_qtl_results_p_0.05.csv'\n",
       "9. 'Epen1_D52_ROT_qtl_results_p_0.05.csv'\n",
       "10. 'FPP_D11_qtl_results_p_0.05.csv'\n",
       "11. 'P_FPP_D11_qtl_results_p_0.05.csv'\n",
       "12. 'Sert_D30_qtl_results_p_0.05.csv'\n",
       "13. 'Sert_D52_NONE_qtl_results_p_0.05.csv'\n",
       "14. 'Sert_D52_ROT_qtl_results_p_0.05.csv'\n",
       "\n",
       "\n"
      ],
      "text/plain": [
       " [1] \"Astro_D30_qtl_results_p_0.05.csv\"     \n",
       " [2] \"Astro_D52_NONE_qtl_results_p_0.05.csv\"\n",
       " [3] \"Astro_D52_ROT_qtl_results_p_0.05.csv\" \n",
       " [4] \"DA_D30_qtl_results_p_0.05.csv\"        \n",
       " [5] \"DA_D52_NONE_qtl_results_p_0.05.csv\"   \n",
       " [6] \"DA_D52_ROT_qtl_results_p_0.05.csv\"    \n",
       " [7] \"Epen1_D30_qtl_results_p_0.05.csv\"     \n",
       " [8] \"Epen1_D52_NONE_qtl_results_p_0.05.csv\"\n",
       " [9] \"Epen1_D52_ROT_qtl_results_p_0.05.csv\" \n",
       "[10] \"FPP_D11_qtl_results_p_0.05.csv\"       \n",
       "[11] \"P_FPP_D11_qtl_results_p_0.05.csv\"     \n",
       "[12] \"Sert_D30_qtl_results_p_0.05.csv\"      \n",
       "[13] \"Sert_D52_NONE_qtl_results_p_0.05.csv\" \n",
       "[14] \"Sert_D52_ROT_qtl_results_p_0.05.csv\"  "
      ]
     },
     "metadata": {},
     "output_type": "display_data"
    }
   ],
   "source": [
    "myfolder = \"/hps/nobackup/stegle/users/acuomo/all_scripts/sc_neuroseq/eqtl/all_results_nominal_significance_p_0.05/\"\n",
    "neuro_files = list.files(myfolder)\n",
    "neuro_files"
   ]
  },
  {
   "cell_type": "code",
   "execution_count": 3,
   "metadata": {},
   "outputs": [],
   "source": [
    "eqtl_maps = c(\"FPP_D11\",\"P_FPP_D11\",\n",
    "             \"FPP_D30\",\"DA_D30\",\"Sert_D30\",\"Epen1_D30\",\n",
    "             \"DA_D52\",\"Sert_D52\",\"Epen1_D52\",\"Astro_D52\",\n",
    "             \"DA_D52_ROT\",\"Sert_D52_ROT\",\"Epen1_D52_ROT\",\"Astro_D52_ROT\")"
   ]
  },
  {
   "cell_type": "code",
   "execution_count": 4,
   "metadata": {},
   "outputs": [],
   "source": [
    "#### GTEx files"
   ]
  },
  {
   "cell_type": "code",
   "execution_count": 5,
   "metadata": {},
   "outputs": [
    {
     "data": {
      "text/html": [
       "<ol class=list-inline>\n",
       "\t<li>'Adipose_Subcutaneous.v7.egenes.txt'</li>\n",
       "\t<li>'Adipose_Visceral_Omentum.v7.egenes.txt'</li>\n",
       "\t<li>'Adrenal_Gland.v7.egenes.txt'</li>\n",
       "\t<li>'Artery_Aorta.v7.egenes.txt'</li>\n",
       "\t<li>'Artery_Coronary.v7.egenes.txt'</li>\n",
       "\t<li>'Artery_Tibial.v7.egenes.txt'</li>\n",
       "</ol>\n"
      ],
      "text/latex": [
       "\\begin{enumerate*}\n",
       "\\item 'Adipose\\_Subcutaneous.v7.egenes.txt'\n",
       "\\item 'Adipose\\_Visceral\\_Omentum.v7.egenes.txt'\n",
       "\\item 'Adrenal\\_Gland.v7.egenes.txt'\n",
       "\\item 'Artery\\_Aorta.v7.egenes.txt'\n",
       "\\item 'Artery\\_Coronary.v7.egenes.txt'\n",
       "\\item 'Artery\\_Tibial.v7.egenes.txt'\n",
       "\\end{enumerate*}\n"
      ],
      "text/markdown": [
       "1. 'Adipose_Subcutaneous.v7.egenes.txt'\n",
       "2. 'Adipose_Visceral_Omentum.v7.egenes.txt'\n",
       "3. 'Adrenal_Gland.v7.egenes.txt'\n",
       "4. 'Artery_Aorta.v7.egenes.txt'\n",
       "5. 'Artery_Coronary.v7.egenes.txt'\n",
       "6. 'Artery_Tibial.v7.egenes.txt'\n",
       "\n",
       "\n"
      ],
      "text/plain": [
       "[1] \"Adipose_Subcutaneous.v7.egenes.txt\"    \n",
       "[2] \"Adipose_Visceral_Omentum.v7.egenes.txt\"\n",
       "[3] \"Adrenal_Gland.v7.egenes.txt\"           \n",
       "[4] \"Artery_Aorta.v7.egenes.txt\"            \n",
       "[5] \"Artery_Coronary.v7.egenes.txt\"         \n",
       "[6] \"Artery_Tibial.v7.egenes.txt\"           "
      ]
     },
     "metadata": {},
     "output_type": "display_data"
    }
   ],
   "source": [
    "gtex_folder = \"/hps/nobackup/hipsci/scratch/GTEx/GTEx_Analysis_v7_eQTL/\"\n",
    "head(list.files(gtex_folder,\".egenes.txt\"))"
   ]
  },
  {
   "cell_type": "code",
   "execution_count": 6,
   "metadata": {},
   "outputs": [
    {
     "data": {
      "text/html": [
       "48"
      ],
      "text/latex": [
       "48"
      ],
      "text/markdown": [
       "48"
      ],
      "text/plain": [
       "[1] 48"
      ]
     },
     "metadata": {},
     "output_type": "display_data"
    },
    {
     "data": {
      "text/html": [
       "<ol class=list-inline>\n",
       "\t<li>'/hps/nobackup/hipsci/scratch/GTEx/GTEx_Analysis_v7_eQTL/Adipose_Subcutaneous.v7.egenes.txt'</li>\n",
       "\t<li>'/hps/nobackup/hipsci/scratch/GTEx/GTEx_Analysis_v7_eQTL/Adipose_Visceral_Omentum.v7.egenes.txt'</li>\n",
       "</ol>\n"
      ],
      "text/latex": [
       "\\begin{enumerate*}\n",
       "\\item '/hps/nobackup/hipsci/scratch/GTEx/GTEx\\_Analysis\\_v7\\_eQTL/Adipose\\_Subcutaneous.v7.egenes.txt'\n",
       "\\item '/hps/nobackup/hipsci/scratch/GTEx/GTEx\\_Analysis\\_v7\\_eQTL/Adipose\\_Visceral\\_Omentum.v7.egenes.txt'\n",
       "\\end{enumerate*}\n"
      ],
      "text/markdown": [
       "1. '/hps/nobackup/hipsci/scratch/GTEx/GTEx_Analysis_v7_eQTL/Adipose_Subcutaneous.v7.egenes.txt'\n",
       "2. '/hps/nobackup/hipsci/scratch/GTEx/GTEx_Analysis_v7_eQTL/Adipose_Visceral_Omentum.v7.egenes.txt'\n",
       "\n",
       "\n"
      ],
      "text/plain": [
       "[1] \"/hps/nobackup/hipsci/scratch/GTEx/GTEx_Analysis_v7_eQTL/Adipose_Subcutaneous.v7.egenes.txt\"    \n",
       "[2] \"/hps/nobackup/hipsci/scratch/GTEx/GTEx_Analysis_v7_eQTL/Adipose_Visceral_Omentum.v7.egenes.txt\""
      ]
     },
     "metadata": {},
     "output_type": "display_data"
    }
   ],
   "source": [
    "files = paste0(gtex_folder, list.files(gtex_folder,\".egenes.txt\"))\n",
    "length(files)\n",
    "head(files,2)"
   ]
  },
  {
   "cell_type": "code",
   "execution_count": 7,
   "metadata": {},
   "outputs": [],
   "source": [
    "## Select files corresponding to GTEx brain tissues"
   ]
  },
  {
   "cell_type": "code",
   "execution_count": 8,
   "metadata": {},
   "outputs": [
    {
     "data": {
      "text/html": [
       "<ol class=list-inline>\n",
       "\t<li>'/hps/nobackup/hipsci/scratch/GTEx/GTEx_Analysis_v7_eQTL/Brain_Amygdala.v7.egenes.txt'</li>\n",
       "\t<li>'/hps/nobackup/hipsci/scratch/GTEx/GTEx_Analysis_v7_eQTL/Brain_Anterior_cingulate_cortex_BA24.v7.egenes.txt'</li>\n",
       "</ol>\n"
      ],
      "text/latex": [
       "\\begin{enumerate*}\n",
       "\\item '/hps/nobackup/hipsci/scratch/GTEx/GTEx\\_Analysis\\_v7\\_eQTL/Brain\\_Amygdala.v7.egenes.txt'\n",
       "\\item '/hps/nobackup/hipsci/scratch/GTEx/GTEx\\_Analysis\\_v7\\_eQTL/Brain\\_Anterior\\_cingulate\\_cortex\\_BA24.v7.egenes.txt'\n",
       "\\end{enumerate*}\n"
      ],
      "text/markdown": [
       "1. '/hps/nobackup/hipsci/scratch/GTEx/GTEx_Analysis_v7_eQTL/Brain_Amygdala.v7.egenes.txt'\n",
       "2. '/hps/nobackup/hipsci/scratch/GTEx/GTEx_Analysis_v7_eQTL/Brain_Anterior_cingulate_cortex_BA24.v7.egenes.txt'\n",
       "\n",
       "\n"
      ],
      "text/plain": [
       "[1] \"/hps/nobackup/hipsci/scratch/GTEx/GTEx_Analysis_v7_eQTL/Brain_Amygdala.v7.egenes.txt\"                      \n",
       "[2] \"/hps/nobackup/hipsci/scratch/GTEx/GTEx_Analysis_v7_eQTL/Brain_Anterior_cingulate_cortex_BA24.v7.egenes.txt\""
      ]
     },
     "metadata": {},
     "output_type": "display_data"
    },
    {
     "data": {
      "text/html": [
       "13"
      ],
      "text/latex": [
       "13"
      ],
      "text/markdown": [
       "13"
      ],
      "text/plain": [
       "[1] 13"
      ]
     },
     "metadata": {},
     "output_type": "display_data"
    }
   ],
   "source": [
    "brain_files = files[grep(\"Brain\",files)]\n",
    "head(brain_files,2)\n",
    "length(brain_files)"
   ]
  },
  {
   "cell_type": "code",
   "execution_count": 9,
   "metadata": {},
   "outputs": [],
   "source": [
    "###"
   ]
  },
  {
   "cell_type": "code",
   "execution_count": 10,
   "metadata": {},
   "outputs": [
    {
     "data": {
      "text/html": [
       "<table>\n",
       "<thead><tr><th></th><th scope=col>FPP_D11</th><th scope=col>P_FPP_D11</th><th scope=col>FPP_D30</th><th scope=col>DA_D30</th><th scope=col>Sert_D30</th><th scope=col>Epen1_D30</th><th scope=col>DA_D52</th><th scope=col>Sert_D52</th><th scope=col>Epen1_D52</th><th scope=col>Astro_D52</th><th scope=col>DA_D52_ROT</th><th scope=col>Sert_D52_ROT</th><th scope=col>Epen1_D52_ROT</th><th scope=col>Astro_D52_ROT</th></tr></thead>\n",
       "<tbody>\n",
       "\t<tr><th scope=row>Brain_Amygdala</th><td>0</td><td>0</td><td>0</td><td>0</td><td>0</td><td>0</td><td>0</td><td>0</td><td>0</td><td>0</td><td>0</td><td>0</td><td>0</td><td>0</td></tr>\n",
       "\t<tr><th scope=row>Brain_Anterior_cingulate_cortex_BA24</th><td>0</td><td>0</td><td>0</td><td>0</td><td>0</td><td>0</td><td>0</td><td>0</td><td>0</td><td>0</td><td>0</td><td>0</td><td>0</td><td>0</td></tr>\n",
       "\t<tr><th scope=row>Brain_Caudate_basal_ganglia</th><td>0</td><td>0</td><td>0</td><td>0</td><td>0</td><td>0</td><td>0</td><td>0</td><td>0</td><td>0</td><td>0</td><td>0</td><td>0</td><td>0</td></tr>\n",
       "\t<tr><th scope=row>Brain_Cerebellar_Hemisphere</th><td>0</td><td>0</td><td>0</td><td>0</td><td>0</td><td>0</td><td>0</td><td>0</td><td>0</td><td>0</td><td>0</td><td>0</td><td>0</td><td>0</td></tr>\n",
       "\t<tr><th scope=row>Brain_Cerebellum</th><td>0</td><td>0</td><td>0</td><td>0</td><td>0</td><td>0</td><td>0</td><td>0</td><td>0</td><td>0</td><td>0</td><td>0</td><td>0</td><td>0</td></tr>\n",
       "\t<tr><th scope=row>Brain_Cortex</th><td>0</td><td>0</td><td>0</td><td>0</td><td>0</td><td>0</td><td>0</td><td>0</td><td>0</td><td>0</td><td>0</td><td>0</td><td>0</td><td>0</td></tr>\n",
       "\t<tr><th scope=row>Brain_Frontal_Cortex_BA9</th><td>0</td><td>0</td><td>0</td><td>0</td><td>0</td><td>0</td><td>0</td><td>0</td><td>0</td><td>0</td><td>0</td><td>0</td><td>0</td><td>0</td></tr>\n",
       "\t<tr><th scope=row>Brain_Hippocampus</th><td>0</td><td>0</td><td>0</td><td>0</td><td>0</td><td>0</td><td>0</td><td>0</td><td>0</td><td>0</td><td>0</td><td>0</td><td>0</td><td>0</td></tr>\n",
       "\t<tr><th scope=row>Brain_Hypothalamus</th><td>0</td><td>0</td><td>0</td><td>0</td><td>0</td><td>0</td><td>0</td><td>0</td><td>0</td><td>0</td><td>0</td><td>0</td><td>0</td><td>0</td></tr>\n",
       "\t<tr><th scope=row>Brain_Nucleus_accumbens_basal_ganglia</th><td>0</td><td>0</td><td>0</td><td>0</td><td>0</td><td>0</td><td>0</td><td>0</td><td>0</td><td>0</td><td>0</td><td>0</td><td>0</td><td>0</td></tr>\n",
       "\t<tr><th scope=row>Brain_Putamen_basal_ganglia</th><td>0</td><td>0</td><td>0</td><td>0</td><td>0</td><td>0</td><td>0</td><td>0</td><td>0</td><td>0</td><td>0</td><td>0</td><td>0</td><td>0</td></tr>\n",
       "\t<tr><th scope=row>Brain_Spinal_cord_cervical_c-1</th><td>0</td><td>0</td><td>0</td><td>0</td><td>0</td><td>0</td><td>0</td><td>0</td><td>0</td><td>0</td><td>0</td><td>0</td><td>0</td><td>0</td></tr>\n",
       "\t<tr><th scope=row>Brain_Substantia_nigra</th><td>0</td><td>0</td><td>0</td><td>0</td><td>0</td><td>0</td><td>0</td><td>0</td><td>0</td><td>0</td><td>0</td><td>0</td><td>0</td><td>0</td></tr>\n",
       "</tbody>\n",
       "</table>\n"
      ],
      "text/latex": [
       "\\begin{tabular}{r|llllllllllllll}\n",
       "  & FPP\\_D11 & P\\_FPP\\_D11 & FPP\\_D30 & DA\\_D30 & Sert\\_D30 & Epen1\\_D30 & DA\\_D52 & Sert\\_D52 & Epen1\\_D52 & Astro\\_D52 & DA\\_D52\\_ROT & Sert\\_D52\\_ROT & Epen1\\_D52\\_ROT & Astro\\_D52\\_ROT\\\\\n",
       "\\hline\n",
       "\tBrain\\_Amygdala & 0 & 0 & 0 & 0 & 0 & 0 & 0 & 0 & 0 & 0 & 0 & 0 & 0 & 0\\\\\n",
       "\tBrain\\_Anterior\\_cingulate\\_cortex\\_BA24 & 0 & 0 & 0 & 0 & 0 & 0 & 0 & 0 & 0 & 0 & 0 & 0 & 0 & 0\\\\\n",
       "\tBrain\\_Caudate\\_basal\\_ganglia & 0 & 0 & 0 & 0 & 0 & 0 & 0 & 0 & 0 & 0 & 0 & 0 & 0 & 0\\\\\n",
       "\tBrain\\_Cerebellar\\_Hemisphere & 0 & 0 & 0 & 0 & 0 & 0 & 0 & 0 & 0 & 0 & 0 & 0 & 0 & 0\\\\\n",
       "\tBrain\\_Cerebellum & 0 & 0 & 0 & 0 & 0 & 0 & 0 & 0 & 0 & 0 & 0 & 0 & 0 & 0\\\\\n",
       "\tBrain\\_Cortex & 0 & 0 & 0 & 0 & 0 & 0 & 0 & 0 & 0 & 0 & 0 & 0 & 0 & 0\\\\\n",
       "\tBrain\\_Frontal\\_Cortex\\_BA9 & 0 & 0 & 0 & 0 & 0 & 0 & 0 & 0 & 0 & 0 & 0 & 0 & 0 & 0\\\\\n",
       "\tBrain\\_Hippocampus & 0 & 0 & 0 & 0 & 0 & 0 & 0 & 0 & 0 & 0 & 0 & 0 & 0 & 0\\\\\n",
       "\tBrain\\_Hypothalamus & 0 & 0 & 0 & 0 & 0 & 0 & 0 & 0 & 0 & 0 & 0 & 0 & 0 & 0\\\\\n",
       "\tBrain\\_Nucleus\\_accumbens\\_basal\\_ganglia & 0 & 0 & 0 & 0 & 0 & 0 & 0 & 0 & 0 & 0 & 0 & 0 & 0 & 0\\\\\n",
       "\tBrain\\_Putamen\\_basal\\_ganglia & 0 & 0 & 0 & 0 & 0 & 0 & 0 & 0 & 0 & 0 & 0 & 0 & 0 & 0\\\\\n",
       "\tBrain\\_Spinal\\_cord\\_cervical\\_c-1 & 0 & 0 & 0 & 0 & 0 & 0 & 0 & 0 & 0 & 0 & 0 & 0 & 0 & 0\\\\\n",
       "\tBrain\\_Substantia\\_nigra & 0 & 0 & 0 & 0 & 0 & 0 & 0 & 0 & 0 & 0 & 0 & 0 & 0 & 0\\\\\n",
       "\\end{tabular}\n"
      ],
      "text/markdown": [
       "\n",
       "| <!--/--> | FPP_D11 | P_FPP_D11 | FPP_D30 | DA_D30 | Sert_D30 | Epen1_D30 | DA_D52 | Sert_D52 | Epen1_D52 | Astro_D52 | DA_D52_ROT | Sert_D52_ROT | Epen1_D52_ROT | Astro_D52_ROT |\n",
       "|---|---|---|---|---|---|---|---|---|---|---|---|---|---|---|\n",
       "| Brain_Amygdala | 0 | 0 | 0 | 0 | 0 | 0 | 0 | 0 | 0 | 0 | 0 | 0 | 0 | 0 |\n",
       "| Brain_Anterior_cingulate_cortex_BA24 | 0 | 0 | 0 | 0 | 0 | 0 | 0 | 0 | 0 | 0 | 0 | 0 | 0 | 0 |\n",
       "| Brain_Caudate_basal_ganglia | 0 | 0 | 0 | 0 | 0 | 0 | 0 | 0 | 0 | 0 | 0 | 0 | 0 | 0 |\n",
       "| Brain_Cerebellar_Hemisphere | 0 | 0 | 0 | 0 | 0 | 0 | 0 | 0 | 0 | 0 | 0 | 0 | 0 | 0 |\n",
       "| Brain_Cerebellum | 0 | 0 | 0 | 0 | 0 | 0 | 0 | 0 | 0 | 0 | 0 | 0 | 0 | 0 |\n",
       "| Brain_Cortex | 0 | 0 | 0 | 0 | 0 | 0 | 0 | 0 | 0 | 0 | 0 | 0 | 0 | 0 |\n",
       "| Brain_Frontal_Cortex_BA9 | 0 | 0 | 0 | 0 | 0 | 0 | 0 | 0 | 0 | 0 | 0 | 0 | 0 | 0 |\n",
       "| Brain_Hippocampus | 0 | 0 | 0 | 0 | 0 | 0 | 0 | 0 | 0 | 0 | 0 | 0 | 0 | 0 |\n",
       "| Brain_Hypothalamus | 0 | 0 | 0 | 0 | 0 | 0 | 0 | 0 | 0 | 0 | 0 | 0 | 0 | 0 |\n",
       "| Brain_Nucleus_accumbens_basal_ganglia | 0 | 0 | 0 | 0 | 0 | 0 | 0 | 0 | 0 | 0 | 0 | 0 | 0 | 0 |\n",
       "| Brain_Putamen_basal_ganglia | 0 | 0 | 0 | 0 | 0 | 0 | 0 | 0 | 0 | 0 | 0 | 0 | 0 | 0 |\n",
       "| Brain_Spinal_cord_cervical_c-1 | 0 | 0 | 0 | 0 | 0 | 0 | 0 | 0 | 0 | 0 | 0 | 0 | 0 | 0 |\n",
       "| Brain_Substantia_nigra | 0 | 0 | 0 | 0 | 0 | 0 | 0 | 0 | 0 | 0 | 0 | 0 | 0 | 0 |\n",
       "\n"
      ],
      "text/plain": [
       "                                      FPP_D11 P_FPP_D11 FPP_D30 DA_D30 Sert_D30\n",
       "Brain_Amygdala                        0       0         0       0      0       \n",
       "Brain_Anterior_cingulate_cortex_BA24  0       0         0       0      0       \n",
       "Brain_Caudate_basal_ganglia           0       0         0       0      0       \n",
       "Brain_Cerebellar_Hemisphere           0       0         0       0      0       \n",
       "Brain_Cerebellum                      0       0         0       0      0       \n",
       "Brain_Cortex                          0       0         0       0      0       \n",
       "Brain_Frontal_Cortex_BA9              0       0         0       0      0       \n",
       "Brain_Hippocampus                     0       0         0       0      0       \n",
       "Brain_Hypothalamus                    0       0         0       0      0       \n",
       "Brain_Nucleus_accumbens_basal_ganglia 0       0         0       0      0       \n",
       "Brain_Putamen_basal_ganglia           0       0         0       0      0       \n",
       "Brain_Spinal_cord_cervical_c-1        0       0         0       0      0       \n",
       "Brain_Substantia_nigra                0       0         0       0      0       \n",
       "                                      Epen1_D30 DA_D52 Sert_D52 Epen1_D52\n",
       "Brain_Amygdala                        0         0      0        0        \n",
       "Brain_Anterior_cingulate_cortex_BA24  0         0      0        0        \n",
       "Brain_Caudate_basal_ganglia           0         0      0        0        \n",
       "Brain_Cerebellar_Hemisphere           0         0      0        0        \n",
       "Brain_Cerebellum                      0         0      0        0        \n",
       "Brain_Cortex                          0         0      0        0        \n",
       "Brain_Frontal_Cortex_BA9              0         0      0        0        \n",
       "Brain_Hippocampus                     0         0      0        0        \n",
       "Brain_Hypothalamus                    0         0      0        0        \n",
       "Brain_Nucleus_accumbens_basal_ganglia 0         0      0        0        \n",
       "Brain_Putamen_basal_ganglia           0         0      0        0        \n",
       "Brain_Spinal_cord_cervical_c-1        0         0      0        0        \n",
       "Brain_Substantia_nigra                0         0      0        0        \n",
       "                                      Astro_D52 DA_D52_ROT Sert_D52_ROT\n",
       "Brain_Amygdala                        0         0          0           \n",
       "Brain_Anterior_cingulate_cortex_BA24  0         0          0           \n",
       "Brain_Caudate_basal_ganglia           0         0          0           \n",
       "Brain_Cerebellar_Hemisphere           0         0          0           \n",
       "Brain_Cerebellum                      0         0          0           \n",
       "Brain_Cortex                          0         0          0           \n",
       "Brain_Frontal_Cortex_BA9              0         0          0           \n",
       "Brain_Hippocampus                     0         0          0           \n",
       "Brain_Hypothalamus                    0         0          0           \n",
       "Brain_Nucleus_accumbens_basal_ganglia 0         0          0           \n",
       "Brain_Putamen_basal_ganglia           0         0          0           \n",
       "Brain_Spinal_cord_cervical_c-1        0         0          0           \n",
       "Brain_Substantia_nigra                0         0          0           \n",
       "                                      Epen1_D52_ROT Astro_D52_ROT\n",
       "Brain_Amygdala                        0             0            \n",
       "Brain_Anterior_cingulate_cortex_BA24  0             0            \n",
       "Brain_Caudate_basal_ganglia           0             0            \n",
       "Brain_Cerebellar_Hemisphere           0             0            \n",
       "Brain_Cerebellum                      0             0            \n",
       "Brain_Cortex                          0             0            \n",
       "Brain_Frontal_Cortex_BA9              0             0            \n",
       "Brain_Hippocampus                     0             0            \n",
       "Brain_Hypothalamus                    0             0            \n",
       "Brain_Nucleus_accumbens_basal_ganglia 0             0            \n",
       "Brain_Putamen_basal_ganglia           0             0            \n",
       "Brain_Spinal_cord_cervical_c-1        0             0            \n",
       "Brain_Substantia_nigra                0             0            "
      ]
     },
     "metadata": {},
     "output_type": "display_data"
    }
   ],
   "source": [
    "mat = matrix(0, nrow = 13, ncol = 14)\n",
    "rownames(mat) = gsub(\"/hps/nobackup/hipsci/scratch/GTEx/GTEx_Analysis_v7_eQTL/\",\"\",\n",
    "                     gsub(\".v7.egenes.txt\",\"\",brain_files))\n",
    "colnames(mat) = eqtl_maps\n",
    "mat"
   ]
  },
  {
   "cell_type": "code",
   "execution_count": null,
   "metadata": {},
   "outputs": [],
   "source": [
    "i = 1\n",
    "for (brain_file in brain_files){\n",
    "    j = 1\n",
    "    df = read.csv(brain_file, sep =\"\\t\")\n",
    "    df$feature_id = gsub(\"\\\\..*\",\"\",df$gene_id)\n",
    "    df$snp_id = gsub(\"_b37\",\"\",df$variant_id)\n",
    "    df_sign = df[df$qval<0.05,]\n",
    "    eqtl = paste0(df_sign$feature_id,\"-\",df_sign$snp_id)\n",
    "    for (neuro_file in neuro_files){\n",
    "        df0 = read.csv(paste0(myfolder,neuro_file), row.names=1)\n",
    "        gene_snp_pairs = paste0(df0$feature_id,\"-\",df0$snp_id)\n",
    "        mat[i,j] = length(eqtl[eqtl %in% gene_snp_pairs])/length(eqtl)\n",
    "        j = j+1\n",
    "    }\n",
    "    i = i+1\n",
    "}"
   ]
  },
  {
   "cell_type": "code",
   "execution_count": null,
   "metadata": {},
   "outputs": [],
   "source": [
    "mat"
   ]
  },
  {
   "cell_type": "code",
   "execution_count": null,
   "metadata": {},
   "outputs": [],
   "source": [
    "write.csv(mat, \"/hps/nobackup/stegle/users/acuomo/all_scripts/sc_neuroseq/eqtl/gtex_brain_top_eqtl_rediscovered_fraction.txt\")"
   ]
  },
  {
   "cell_type": "code",
   "execution_count": null,
   "metadata": {},
   "outputs": [],
   "source": [
    "options(repr.plot.width=8, repr.plot.height=6)\n",
    "df = as.data.frame(mat) %>% \n",
    "  gather(key=\"CellType\", value=\"Sharing\")\n",
    "\n",
    "head(df,2)"
   ]
  },
  {
   "cell_type": "code",
   "execution_count": null,
   "metadata": {},
   "outputs": [],
   "source": [
    "col_FPP = \"#aec7e8\"\n",
    "col_P_FPP = \"#1f77b4\"\n",
    "col_NB = \"#ff7f0e\"\n",
    "\n",
    "col_DA = \"#2ca02c\"\n",
    "col_Sert = \"#98df8a\"\n",
    "col_Epen1 = \"#ff9896\"\n",
    "col_Astro = \"#9467bd\""
   ]
  },
  {
   "cell_type": "code",
   "execution_count": null,
   "metadata": {},
   "outputs": [],
   "source": [
    "options(repr.plot.width=10, repr.plot.height=6)\n",
    "ggplot(df,aes(x=factor(CellType, levels=eqtl_maps), \n",
    "              y=Sharing, \n",
    "              fill=factor(CellType, levels=eqtl_maps))) +  \n",
    "    geom_violin() + \n",
    "    geom_boxplot(width = 0.2) + scale_fill_manual(values = c(col_FPP,col_P_FPP,\n",
    "                            col_FPP,col_DA,col_Sert,col_Epen1,\n",
    "                            col_DA,col_Sert,col_Epen1,col_Astro,\n",
    "                            col_DA,col_Sert,col_Epen1,col_Astro))+ theme_classic() + \n",
    "                            theme(legend.position = \"none\", axis.text.x = element_text(angle = 90)) "
   ]
  },
  {
   "cell_type": "code",
   "execution_count": null,
   "metadata": {},
   "outputs": [],
   "source": [
    "mat2 = mat"
   ]
  },
  {
   "cell_type": "code",
   "execution_count": null,
   "metadata": {},
   "outputs": [],
   "source": [
    "i = 1\n",
    "for (brain_file in brain_files){\n",
    "    j = 1\n",
    "    df = read.csv(brain_file, sep =\"\\t\")\n",
    "    df$feature_id = gsub(\"\\\\..*\",\"\",df$gene_id)\n",
    "    df$snp_id = gsub(\"_b37\",\"\",df$variant_id)\n",
    "    df_sign = df[df$qval<0.05,]\n",
    "    eqtl = paste0(df_sign$feature_id,\"-\",df_sign$snp_id)\n",
    "    for (neuro_file in neuro_files){\n",
    "        df0 = read.csv(paste0(myfolder,neuro_file), row.names=1)\n",
    "        gene_snp_pairs = paste0(df0$feature_id,\"-\",df0$snp_id)\n",
    "        mat2[i,j] = length(eqtl[eqtl %in% gene_snp_pairs])\n",
    "        j = j+1\n",
    "    }\n",
    "    i = i+1\n",
    "}"
   ]
  },
  {
   "cell_type": "code",
   "execution_count": null,
   "metadata": {},
   "outputs": [],
   "source": [
    "mat2"
   ]
  },
  {
   "cell_type": "code",
   "execution_count": null,
   "metadata": {},
   "outputs": [],
   "source": [
    "write.csv(mat2, \"/hps/nobackup/stegle/users/acuomo/all_scripts/sc_neuroseq/eqtl/gtex_brain_top_eqtl_rediscovered.txt\")"
   ]
  },
  {
   "cell_type": "code",
   "execution_count": null,
   "metadata": {},
   "outputs": [],
   "source": [
    "mat3 = read.csv(\"/hps/nobackup/stegle/users/acuomo/all_scripts/sc_neuroseq/eqtl/gtex_brain_egenes_assessed.txt\", row.names = 1)"
   ]
  },
  {
   "cell_type": "code",
   "execution_count": null,
   "metadata": {},
   "outputs": [],
   "source": [
    "mat3"
   ]
  },
  {
   "cell_type": "code",
   "execution_count": null,
   "metadata": {},
   "outputs": [],
   "source": [
    "mat4 = mat2/mat3\n",
    "mat4"
   ]
  },
  {
   "cell_type": "code",
   "execution_count": null,
   "metadata": {},
   "outputs": [],
   "source": [
    "options(repr.plot.width=8, repr.plot.height=6)\n",
    "df = as.data.frame(mat4) %>% \n",
    "  gather(key=\"CellType\", value=\"Sharing\")\n",
    "\n",
    "head(df,2)"
   ]
  },
  {
   "cell_type": "code",
   "execution_count": null,
   "metadata": {},
   "outputs": [],
   "source": [
    "options(repr.plot.width=10, repr.plot.height=6)\n",
    "ggplot(df,aes(x=factor(CellType, levels=eqtl_maps), \n",
    "              y=Sharing, \n",
    "              fill=factor(CellType, levels=eqtl_maps))) +  \n",
    "    geom_violin() + \n",
    "    geom_boxplot(width = 0.2) + scale_fill_manual(values = c(col_FPP,col_P_FPP,\n",
    "                            col_FPP,col_DA,col_Sert,col_Epen1,\n",
    "                            col_DA,col_Sert,col_Epen1,col_Astro,\n",
    "                            col_DA,col_Sert,col_Epen1,col_Astro))+ theme_classic() + \n",
    "                            theme(legend.position = \"none\", axis.text.x = element_text(angle = 90)) "
   ]
  },
  {
   "cell_type": "code",
   "execution_count": null,
   "metadata": {},
   "outputs": [],
   "source": [
    "fig_dir = \"/hps/nobackup/stegle/users/acuomo/all_scripts/sc_neuroseq/figures/extended_figures/\""
   ]
  },
  {
   "cell_type": "code",
   "execution_count": null,
   "metadata": {},
   "outputs": [],
   "source": [
    "pdf(paste0(fig_dir,\"Ext_Fig_6b.pdf\"), width=10, height=6)\n",
    "ggplot(df,aes(x=factor(CellType, levels=eqtl_maps), \n",
    "              y=Sharing, \n",
    "              fill=factor(CellType, levels=eqtl_maps))) +  \n",
    "    geom_violin() + \n",
    "    geom_boxplot(width = 0.2) + scale_fill_manual(values = c(col_FPP,col_P_FPP,\n",
    "                            col_FPP,col_DA,col_Sert,col_Epen1,\n",
    "                            col_DA,col_Sert,col_Epen1,col_Astro,\n",
    "                            col_DA,col_Sert,col_Epen1,col_Astro))+ theme_classic() + \n",
    "                            theme(legend.position = \"none\", axis.text.x = element_text(angle = 90)) \n",
    "dev.off()"
   ]
  },
  {
   "cell_type": "code",
   "execution_count": null,
   "metadata": {},
   "outputs": [],
   "source": []
  }
 ],
 "metadata": {
  "kernelspec": {
   "display_name": "R",
   "language": "R",
   "name": "ir"
  },
  "language_info": {
   "codemirror_mode": "r",
   "file_extension": ".r",
   "mimetype": "text/x-r-source",
   "name": "R",
   "pygments_lexer": "r",
   "version": "3.6.1"
  }
 },
 "nbformat": 4,
 "nbformat_minor": 4
}
