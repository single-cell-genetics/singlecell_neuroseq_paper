{
 "cells": [
  {
   "cell_type": "code",
   "execution_count": 85,
   "metadata": {},
   "outputs": [],
   "source": [
    "library(ggplot2)"
   ]
  },
  {
   "cell_type": "code",
   "execution_count": 86,
   "metadata": {},
   "outputs": [
    {
     "data": {
      "text/html": [
       "<table>\n",
       "<thead><tr><th></th><th scope=col>snp_id</th><th scope=col>p_value</th><th scope=col>beta</th><th scope=col>beta_se</th><th scope=col>empirical_feature_p_value</th><th scope=col>feature_chromosome</th><th scope=col>feature_start</th><th scope=col>feature_end</th><th scope=col>n_samples</th><th scope=col>n_e_samples</th><th scope=col>...</th><th scope=col>snp_chromosome</th><th scope=col>snp_position</th><th scope=col>assessed_allele</th><th scope=col>call_rate</th><th scope=col>maf</th><th scope=col>hwe_p</th><th scope=col>feature_id</th><th scope=col>BH_fdr</th><th scope=col>q_value</th><th scope=col>label</th></tr></thead>\n",
       "<tbody>\n",
       "\t<tr><th scope=row>2</th><td>11_107726716_A_C</td><td>4.544994e-05    </td><td> 0.09036565     </td><td>0.02216001      </td><td>0.0001665921    </td><td>11              </td><td>107661717       </td><td>107799019       </td><td>173             </td><td>173             </td><td>...             </td><td>11              </td><td>107726716       </td><td>C               </td><td>1               </td><td>0.4306358       </td><td>0.5386349       </td><td>ENSG00000110660 </td><td>0.001808781     </td><td>0.00075681      </td><td>FPP_D11         </td></tr>\n",
       "\t<tr><th scope=row>7</th><td>11_106001229_C_A</td><td>5.034677e-05    </td><td>-0.24701335     </td><td>0.06093060      </td><td>0.0258019418    </td><td>11              </td><td>105946228       </td><td>105969437       </td><td>173             </td><td>173             </td><td>...             </td><td>11              </td><td>106001229       </td><td>A               </td><td>1               </td><td>0.1213873       </td><td>0.4744572       </td><td>ENSG00000149313 </td><td>0.116865230     </td><td>0.04889743      </td><td>FPP_D11         </td></tr>\n",
       "</tbody>\n",
       "</table>\n"
      ],
      "text/latex": [
       "\\begin{tabular}{r|llllllllllllllllllllll}\n",
       "  & snp\\_id & p\\_value & beta & beta\\_se & empirical\\_feature\\_p\\_value & feature\\_chromosome & feature\\_start & feature\\_end & n\\_samples & n\\_e\\_samples & ... & snp\\_chromosome & snp\\_position & assessed\\_allele & call\\_rate & maf & hwe\\_p & feature\\_id & BH\\_fdr & q\\_value & label\\\\\n",
       "\\hline\n",
       "\t2 & 11\\_107726716\\_A\\_C & 4.544994e-05           &  0.09036565            & 0.02216001             & 0.0001665921           & 11                     & 107661717              & 107799019              & 173                    & 173                    & ...                    & 11                     & 107726716              & C                      & 1                      & 0.4306358              & 0.5386349              & ENSG00000110660        & 0.001808781            & 0.00075681             & FPP\\_D11             \\\\\n",
       "\t7 & 11\\_106001229\\_C\\_A & 5.034677e-05           & -0.24701335            & 0.06093060             & 0.0258019418           & 11                     & 105946228              & 105969437              & 173                    & 173                    & ...                    & 11                     & 106001229              & A                      & 1                      & 0.1213873              & 0.4744572              & ENSG00000149313        & 0.116865230            & 0.04889743             & FPP\\_D11             \\\\\n",
       "\\end{tabular}\n"
      ],
      "text/markdown": [
       "\n",
       "| <!--/--> | snp_id | p_value | beta | beta_se | empirical_feature_p_value | feature_chromosome | feature_start | feature_end | n_samples | n_e_samples | ... | snp_chromosome | snp_position | assessed_allele | call_rate | maf | hwe_p | feature_id | BH_fdr | q_value | label |\n",
       "|---|---|---|---|---|---|---|---|---|---|---|---|---|---|---|---|---|---|---|---|---|---|\n",
       "| 2 | 11_107726716_A_C | 4.544994e-05     |  0.09036565      | 0.02216001       | 0.0001665921     | 11               | 107661717        | 107799019        | 173              | 173              | ...              | 11               | 107726716        | C                | 1                | 0.4306358        | 0.5386349        | ENSG00000110660  | 0.001808781      | 0.00075681       | FPP_D11          |\n",
       "| 7 | 11_106001229_C_A | 5.034677e-05     | -0.24701335      | 0.06093060       | 0.0258019418     | 11               | 105946228        | 105969437        | 173              | 173              | ...              | 11               | 106001229        | A                | 1                | 0.1213873        | 0.4744572        | ENSG00000149313  | 0.116865230      | 0.04889743       | FPP_D11          |\n",
       "\n"
      ],
      "text/plain": [
       "  snp_id           p_value      beta        beta_se   \n",
       "2 11_107726716_A_C 4.544994e-05  0.09036565 0.02216001\n",
       "7 11_106001229_C_A 5.034677e-05 -0.24701335 0.06093060\n",
       "  empirical_feature_p_value feature_chromosome feature_start feature_end\n",
       "2 0.0001665921              11                 107661717     107799019  \n",
       "7 0.0258019418              11                 105946228     105969437  \n",
       "  n_samples n_e_samples ... snp_chromosome snp_position assessed_allele\n",
       "2 173       173         ... 11             107726716    C              \n",
       "7 173       173         ... 11             106001229    A              \n",
       "  call_rate maf       hwe_p     feature_id      BH_fdr      q_value    label  \n",
       "2 1         0.4306358 0.5386349 ENSG00000110660 0.001808781 0.00075681 FPP_D11\n",
       "7 1         0.1213873 0.4744572 ENSG00000149313 0.116865230 0.04889743 FPP_D11"
      ]
     },
     "metadata": {},
     "output_type": "display_data"
    }
   ],
   "source": [
    "# df0 = read.csv(\"/hps/nobackup/stegle/users/acuomo/all_scripts/sc_neuroseq/eqtl/all_leads_5pct_FDR.csv\")\n",
    "# df0 = read.csv(\"/hps/nobackup/stegle/users/acuomo/all_scripts/sc_neuroseq/eqtl/all_leads_5pct_FDR_BH.csv\", row.names = 1)\n",
    "df0 = read.csv(\"/hps/nobackup/stegle/users/acuomo/all_scripts/sc_neuroseq/eqtl/all_leads_5pct_FDR_Storey.csv\", row.names = 1)\n",
    "head(df0,2)"
   ]
  },
  {
   "cell_type": "code",
   "execution_count": 87,
   "metadata": {},
   "outputs": [],
   "source": [
    "# df0$label = c()\n",
    "# df0$label = as.character(df0$new_label)\n",
    "# df0$new_label = c()"
   ]
  },
  {
   "cell_type": "code",
   "execution_count": 88,
   "metadata": {},
   "outputs": [],
   "source": [
    "# df0$label[df0$label == 'DA_ROT_D52'] = 'DA_D52_ROT'\n",
    "# df0$label[df0$label == 'Sert_ROT_D52'] = 'Sert_D52_ROT'\n",
    "# df0$label[df0$label == 'Epen1_ROT_D52'] = 'Epen1_D52_ROT'\n",
    "# df0$label[df0$label == 'Astro_ROT_D52'] = 'Astro_D52_ROT'"
   ]
  },
  {
   "cell_type": "code",
   "execution_count": 89,
   "metadata": {},
   "outputs": [
    {
     "data": {
      "text/html": [
       "<ol class=list-inline>\n",
       "\t<li>FPP_D11</li>\n",
       "\t<li>P_FPP_D11</li>\n",
       "\t<li>FPP_D30</li>\n",
       "\t<li>DA_D30</li>\n",
       "\t<li>Sert_D30</li>\n",
       "\t<li>Epen1_D30</li>\n",
       "\t<li>DA_D52</li>\n",
       "\t<li>Sert_D52</li>\n",
       "\t<li>Epen1_D52</li>\n",
       "\t<li>Astro_D52</li>\n",
       "\t<li>DA_D52_ROT</li>\n",
       "\t<li>Sert_D52_ROT</li>\n",
       "\t<li>Epen1_D52_ROT</li>\n",
       "\t<li>Astro_D52_ROT</li>\n",
       "</ol>\n",
       "\n",
       "<details>\n",
       "\t<summary style=display:list-item;cursor:pointer>\n",
       "\t\t<strong>Levels</strong>:\n",
       "\t</summary>\n",
       "\t<ol class=list-inline>\n",
       "\t\t<li>'Astro_D52'</li>\n",
       "\t\t<li>'Astro_D52_ROT'</li>\n",
       "\t\t<li>'DA_D30'</li>\n",
       "\t\t<li>'DA_D52'</li>\n",
       "\t\t<li>'DA_D52_ROT'</li>\n",
       "\t\t<li>'Epen1_D30'</li>\n",
       "\t\t<li>'Epen1_D52'</li>\n",
       "\t\t<li>'Epen1_D52_ROT'</li>\n",
       "\t\t<li>'FPP_D11'</li>\n",
       "\t\t<li>'FPP_D30'</li>\n",
       "\t\t<li>'P_FPP_D11'</li>\n",
       "\t\t<li>'Sert_D30'</li>\n",
       "\t\t<li>'Sert_D52'</li>\n",
       "\t\t<li>'Sert_D52_ROT'</li>\n",
       "\t</ol>\n",
       "</details>"
      ],
      "text/latex": [
       "\\begin{enumerate*}\n",
       "\\item FPP\\_D11\n",
       "\\item P\\_FPP\\_D11\n",
       "\\item FPP\\_D30\n",
       "\\item DA\\_D30\n",
       "\\item Sert\\_D30\n",
       "\\item Epen1\\_D30\n",
       "\\item DA\\_D52\n",
       "\\item Sert\\_D52\n",
       "\\item Epen1\\_D52\n",
       "\\item Astro\\_D52\n",
       "\\item DA\\_D52\\_ROT\n",
       "\\item Sert\\_D52\\_ROT\n",
       "\\item Epen1\\_D52\\_ROT\n",
       "\\item Astro\\_D52\\_ROT\n",
       "\\end{enumerate*}\n",
       "\n",
       "\\emph{Levels}: \\begin{enumerate*}\n",
       "\\item 'Astro\\_D52'\n",
       "\\item 'Astro\\_D52\\_ROT'\n",
       "\\item 'DA\\_D30'\n",
       "\\item 'DA\\_D52'\n",
       "\\item 'DA\\_D52\\_ROT'\n",
       "\\item 'Epen1\\_D30'\n",
       "\\item 'Epen1\\_D52'\n",
       "\\item 'Epen1\\_D52\\_ROT'\n",
       "\\item 'FPP\\_D11'\n",
       "\\item 'FPP\\_D30'\n",
       "\\item 'P\\_FPP\\_D11'\n",
       "\\item 'Sert\\_D30'\n",
       "\\item 'Sert\\_D52'\n",
       "\\item 'Sert\\_D52\\_ROT'\n",
       "\\end{enumerate*}\n"
      ],
      "text/markdown": [
       "1. FPP_D11\n",
       "2. P_FPP_D11\n",
       "3. FPP_D30\n",
       "4. DA_D30\n",
       "5. Sert_D30\n",
       "6. Epen1_D30\n",
       "7. DA_D52\n",
       "8. Sert_D52\n",
       "9. Epen1_D52\n",
       "10. Astro_D52\n",
       "11. DA_D52_ROT\n",
       "12. Sert_D52_ROT\n",
       "13. Epen1_D52_ROT\n",
       "14. Astro_D52_ROT\n",
       "\n",
       "\n",
       "\n",
       "**Levels**: 1. 'Astro_D52'\n",
       "2. 'Astro_D52_ROT'\n",
       "3. 'DA_D30'\n",
       "4. 'DA_D52'\n",
       "5. 'DA_D52_ROT'\n",
       "6. 'Epen1_D30'\n",
       "7. 'Epen1_D52'\n",
       "8. 'Epen1_D52_ROT'\n",
       "9. 'FPP_D11'\n",
       "10. 'FPP_D30'\n",
       "11. 'P_FPP_D11'\n",
       "12. 'Sert_D30'\n",
       "13. 'Sert_D52'\n",
       "14. 'Sert_D52_ROT'\n",
       "\n",
       "\n"
      ],
      "text/plain": [
       " [1] FPP_D11       P_FPP_D11     FPP_D30       DA_D30        Sert_D30     \n",
       " [6] Epen1_D30     DA_D52        Sert_D52      Epen1_D52     Astro_D52    \n",
       "[11] DA_D52_ROT    Sert_D52_ROT  Epen1_D52_ROT Astro_D52_ROT\n",
       "14 Levels: Astro_D52 Astro_D52_ROT DA_D30 DA_D52 DA_D52_ROT ... Sert_D52_ROT"
      ]
     },
     "metadata": {},
     "output_type": "display_data"
    }
   ],
   "source": [
    "unique(df0$label)"
   ]
  },
  {
   "cell_type": "code",
   "execution_count": 90,
   "metadata": {},
   "outputs": [],
   "source": [
    "# write.csv(df0,\"/hps/nobackup/stegle/users/acuomo/all_scripts/sc_neuroseq/eqtl/all_leads_5pct_FDR.csv\", quote = F, row.names = F)\n",
    "# head(df0,2)"
   ]
  },
  {
   "cell_type": "code",
   "execution_count": 91,
   "metadata": {},
   "outputs": [
    {
     "data": {
      "text/html": [
       "<table>\n",
       "<thead><tr><th scope=col>snp_id</th><th scope=col>p_value</th><th scope=col>beta</th><th scope=col>beta_se</th><th scope=col>empirical_feature_p_value</th><th scope=col>feature_chromosome</th><th scope=col>feature_start</th><th scope=col>feature_end</th><th scope=col>n_samples</th><th scope=col>n_e_samples</th><th scope=col>...</th><th scope=col>snp_chromosome</th><th scope=col>snp_position</th><th scope=col>assessed_allele</th><th scope=col>call_rate</th><th scope=col>maf</th><th scope=col>hwe_p</th><th scope=col>feature_id</th><th scope=col>global_corr_p_value</th><th scope=col>q_value</th><th scope=col>label</th></tr></thead>\n",
       "<tbody>\n",
       "\t<tr><td>19_54613420_G_A</td><td>4.830075e-07   </td><td>-0.1979300     </td><td>0.03932688     </td><td>8.186864e-03   </td><td>19             </td><td>54618837       </td><td>54635140       </td><td>173            </td><td>173            </td><td>...            </td><td>19             </td><td>54613420       </td><td>A              </td><td>1              </td><td>0.20231214     </td><td>0.3501197      </td><td>ENSG00000105618</td><td>8.176940e-02   </td><td>4.559045e-02   </td><td>FPP_D11        </td></tr>\n",
       "\t<tr><td>19_54612628_A_G</td><td>3.805426e-09   </td><td>-0.1845487     </td><td>0.03131959     </td><td>1.476142e-04   </td><td>19             </td><td>54606036       </td><td>54612564       </td><td>173            </td><td>173            </td><td>...            </td><td>19             </td><td>54612628       </td><td>G              </td><td>1              </td><td>0.25433526     </td><td>0.6931531      </td><td>ENSG00000170906</td><td>2.946154e-03   </td><td>1.642625e-03   </td><td>FPP_D11        </td></tr>\n",
       "\t<tr><td>12_48401919_G_A</td><td>1.717016e-07   </td><td>-0.3119142     </td><td>0.05966653     </td><td>3.314304e-03   </td><td>12             </td><td>48366748       </td><td>48398269       </td><td>173            </td><td>173            </td><td>...            </td><td>12             </td><td>48401919       </td><td>A              </td><td>1              </td><td>0.17630058     </td><td>0.1873425      </td><td>ENSG00000139219</td><td>3.970281e-02   </td><td>2.213627e-02   </td><td>FPP_D11        </td></tr>\n",
       "\t<tr><td>12_49272647_T_C</td><td>6.372913e-06   </td><td> 0.6360799     </td><td>0.14092443     </td><td>7.714025e-03   </td><td>12             </td><td>49297893       </td><td>49325623       </td><td>173            </td><td>173            </td><td>...            </td><td>12             </td><td>49272647       </td><td>C              </td><td>1              </td><td>0.09248555     </td><td>0.3665383      </td><td>ENSG00000139537</td><td>7.767524e-02   </td><td>4.330776e-02   </td><td>FPP_D11        </td></tr>\n",
       "\t<tr><td>2_85616758_T_C </td><td>2.518656e-06   </td><td> 0.3741811     </td><td>0.07950113     </td><td>8.749724e-03   </td><td> 2             </td><td>85621871       </td><td>85645555       </td><td>173            </td><td>173            </td><td>...            </td><td> 2             </td><td>85616758       </td><td>C              </td><td>1              </td><td>0.23988439     </td><td>0.2969735      </td><td>ENSG00000042493</td><td>8.622069e-02   </td><td>4.807227e-02   </td><td>FPP_D11        </td></tr>\n",
       "\t<tr><td>10_5865257_T_C </td><td>3.104454e-13   </td><td>-0.1513292     </td><td>0.02075907     </td><td>1.380638e-06   </td><td>10             </td><td> 5807186       </td><td> 5884095       </td><td>173            </td><td>173            </td><td>...            </td><td>10             </td><td> 5865257       </td><td>C              </td><td>1              </td><td>0.22543353     </td><td>1.0000000      </td><td>ENSG00000057608</td><td>4.491001e-05   </td><td>2.503954e-05   </td><td>FPP_D11        </td></tr>\n",
       "</tbody>\n",
       "</table>\n"
      ],
      "text/latex": [
       "\\begin{tabular}{r|llllllllllllllllllllll}\n",
       " snp\\_id & p\\_value & beta & beta\\_se & empirical\\_feature\\_p\\_value & feature\\_chromosome & feature\\_start & feature\\_end & n\\_samples & n\\_e\\_samples & ... & snp\\_chromosome & snp\\_position & assessed\\_allele & call\\_rate & maf & hwe\\_p & feature\\_id & global\\_corr\\_p\\_value & q\\_value & label\\\\\n",
       "\\hline\n",
       "\t 19\\_54613420\\_G\\_A & 4.830075e-07          & -0.1979300            & 0.03932688            & 8.186864e-03          & 19                    & 54618837              & 54635140              & 173                   & 173                   & ...                   & 19                    & 54613420              & A                     & 1                     & 0.20231214            & 0.3501197             & ENSG00000105618       & 8.176940e-02          & 4.559045e-02          & FPP\\_D11            \\\\\n",
       "\t 19\\_54612628\\_A\\_G & 3.805426e-09          & -0.1845487            & 0.03131959            & 1.476142e-04          & 19                    & 54606036              & 54612564              & 173                   & 173                   & ...                   & 19                    & 54612628              & G                     & 1                     & 0.25433526            & 0.6931531             & ENSG00000170906       & 2.946154e-03          & 1.642625e-03          & FPP\\_D11            \\\\\n",
       "\t 12\\_48401919\\_G\\_A & 1.717016e-07          & -0.3119142            & 0.05966653            & 3.314304e-03          & 12                    & 48366748              & 48398269              & 173                   & 173                   & ...                   & 12                    & 48401919              & A                     & 1                     & 0.17630058            & 0.1873425             & ENSG00000139219       & 3.970281e-02          & 2.213627e-02          & FPP\\_D11            \\\\\n",
       "\t 12\\_49272647\\_T\\_C & 6.372913e-06          &  0.6360799            & 0.14092443            & 7.714025e-03          & 12                    & 49297893              & 49325623              & 173                   & 173                   & ...                   & 12                    & 49272647              & C                     & 1                     & 0.09248555            & 0.3665383             & ENSG00000139537       & 7.767524e-02          & 4.330776e-02          & FPP\\_D11            \\\\\n",
       "\t 2\\_85616758\\_T\\_C  & 2.518656e-06          &  0.3741811            & 0.07950113            & 8.749724e-03          &  2                    & 85621871              & 85645555              & 173                   & 173                   & ...                   &  2                    & 85616758              & C                     & 1                     & 0.23988439            & 0.2969735             & ENSG00000042493       & 8.622069e-02          & 4.807227e-02          & FPP\\_D11            \\\\\n",
       "\t 10\\_5865257\\_T\\_C  & 3.104454e-13          & -0.1513292            & 0.02075907            & 1.380638e-06          & 10                    &  5807186              &  5884095              & 173                   & 173                   & ...                   & 10                    &  5865257              & C                     & 1                     & 0.22543353            & 1.0000000             & ENSG00000057608       & 4.491001e-05          & 2.503954e-05          & FPP\\_D11            \\\\\n",
       "\\end{tabular}\n"
      ],
      "text/markdown": [
       "\n",
       "| snp_id | p_value | beta | beta_se | empirical_feature_p_value | feature_chromosome | feature_start | feature_end | n_samples | n_e_samples | ... | snp_chromosome | snp_position | assessed_allele | call_rate | maf | hwe_p | feature_id | global_corr_p_value | q_value | label |\n",
       "|---|---|---|---|---|---|---|---|---|---|---|---|---|---|---|---|---|---|---|---|---|\n",
       "| 19_54613420_G_A | 4.830075e-07    | -0.1979300      | 0.03932688      | 8.186864e-03    | 19              | 54618837        | 54635140        | 173             | 173             | ...             | 19              | 54613420        | A               | 1               | 0.20231214      | 0.3501197       | ENSG00000105618 | 8.176940e-02    | 4.559045e-02    | FPP_D11         |\n",
       "| 19_54612628_A_G | 3.805426e-09    | -0.1845487      | 0.03131959      | 1.476142e-04    | 19              | 54606036        | 54612564        | 173             | 173             | ...             | 19              | 54612628        | G               | 1               | 0.25433526      | 0.6931531       | ENSG00000170906 | 2.946154e-03    | 1.642625e-03    | FPP_D11         |\n",
       "| 12_48401919_G_A | 1.717016e-07    | -0.3119142      | 0.05966653      | 3.314304e-03    | 12              | 48366748        | 48398269        | 173             | 173             | ...             | 12              | 48401919        | A               | 1               | 0.17630058      | 0.1873425       | ENSG00000139219 | 3.970281e-02    | 2.213627e-02    | FPP_D11         |\n",
       "| 12_49272647_T_C | 6.372913e-06    |  0.6360799      | 0.14092443      | 7.714025e-03    | 12              | 49297893        | 49325623        | 173             | 173             | ...             | 12              | 49272647        | C               | 1               | 0.09248555      | 0.3665383       | ENSG00000139537 | 7.767524e-02    | 4.330776e-02    | FPP_D11         |\n",
       "| 2_85616758_T_C  | 2.518656e-06    |  0.3741811      | 0.07950113      | 8.749724e-03    |  2              | 85621871        | 85645555        | 173             | 173             | ...             |  2              | 85616758        | C               | 1               | 0.23988439      | 0.2969735       | ENSG00000042493 | 8.622069e-02    | 4.807227e-02    | FPP_D11         |\n",
       "| 10_5865257_T_C  | 3.104454e-13    | -0.1513292      | 0.02075907      | 1.380638e-06    | 10              |  5807186        |  5884095        | 173             | 173             | ...             | 10              |  5865257        | C               | 1               | 0.22543353      | 1.0000000       | ENSG00000057608 | 4.491001e-05    | 2.503954e-05    | FPP_D11         |\n",
       "\n"
      ],
      "text/plain": [
       "  snp_id          p_value      beta       beta_se    empirical_feature_p_value\n",
       "1 19_54613420_G_A 4.830075e-07 -0.1979300 0.03932688 8.186864e-03             \n",
       "2 19_54612628_A_G 3.805426e-09 -0.1845487 0.03131959 1.476142e-04             \n",
       "3 12_48401919_G_A 1.717016e-07 -0.3119142 0.05966653 3.314304e-03             \n",
       "4 12_49272647_T_C 6.372913e-06  0.6360799 0.14092443 7.714025e-03             \n",
       "5 2_85616758_T_C  2.518656e-06  0.3741811 0.07950113 8.749724e-03             \n",
       "6 10_5865257_T_C  3.104454e-13 -0.1513292 0.02075907 1.380638e-06             \n",
       "  feature_chromosome feature_start feature_end n_samples n_e_samples ...\n",
       "1 19                 54618837      54635140    173       173         ...\n",
       "2 19                 54606036      54612564    173       173         ...\n",
       "3 12                 48366748      48398269    173       173         ...\n",
       "4 12                 49297893      49325623    173       173         ...\n",
       "5  2                 85621871      85645555    173       173         ...\n",
       "6 10                  5807186       5884095    173       173         ...\n",
       "  snp_chromosome snp_position assessed_allele call_rate maf        hwe_p    \n",
       "1 19             54613420     A               1         0.20231214 0.3501197\n",
       "2 19             54612628     G               1         0.25433526 0.6931531\n",
       "3 12             48401919     A               1         0.17630058 0.1873425\n",
       "4 12             49272647     C               1         0.09248555 0.3665383\n",
       "5  2             85616758     C               1         0.23988439 0.2969735\n",
       "6 10              5865257     C               1         0.22543353 1.0000000\n",
       "  feature_id      global_corr_p_value q_value      label  \n",
       "1 ENSG00000105618 8.176940e-02        4.559045e-02 FPP_D11\n",
       "2 ENSG00000170906 2.946154e-03        1.642625e-03 FPP_D11\n",
       "3 ENSG00000139219 3.970281e-02        2.213627e-02 FPP_D11\n",
       "4 ENSG00000139537 7.767524e-02        4.330776e-02 FPP_D11\n",
       "5 ENSG00000042493 8.622069e-02        4.807227e-02 FPP_D11\n",
       "6 ENSG00000057608 4.491001e-05        2.503954e-05 FPP_D11"
      ]
     },
     "metadata": {},
     "output_type": "display_data"
    }
   ],
   "source": [
    "df1 = read.csv(\"/hps/nobackup/stegle/users/acuomo/all_scripts/sc_neuroseq/eqtl/results_no_ncell_noisematrix_5pct_FDR.csv\")\n",
    "head(df1)"
   ]
  },
  {
   "cell_type": "code",
   "execution_count": 92,
   "metadata": {},
   "outputs": [],
   "source": [
    "# df1 = df1[df1$global_corr_p_value < 0.05,]"
   ]
  },
  {
   "cell_type": "code",
   "execution_count": 93,
   "metadata": {},
   "outputs": [],
   "source": [
    "df = data.frame()\n",
    "labels = unique(df1$label)\n",
    "for (label in labels){\n",
    "    n1 = nrow(df1[df1$label == label,])\n",
    "    n2 = nrow(df0[df0$label == label,])\n",
    "    df = rbind(df, data.frame(label = label, egenes = n1, model = 'base_model'),\n",
    "                   data.frame(label = label, egenes = n2, model = 'ncell_model'))\n",
    "}"
   ]
  },
  {
   "cell_type": "code",
   "execution_count": 94,
   "metadata": {},
   "outputs": [
    {
     "data": {
      "text/html": [
       "<table>\n",
       "<thead><tr><th scope=col>label</th><th scope=col>egenes</th><th scope=col>model</th></tr></thead>\n",
       "<tbody>\n",
       "\t<tr><td>FPP_D11    </td><td>1187       </td><td>base_model </td></tr>\n",
       "\t<tr><td>FPP_D11    </td><td>2560       </td><td>ncell_model</td></tr>\n",
       "\t<tr><td>P_FPP_D11  </td><td>1491       </td><td>base_model </td></tr>\n",
       "\t<tr><td>P_FPP_D11  </td><td>2457       </td><td>ncell_model</td></tr>\n",
       "\t<tr><td>FPP_D30    </td><td> 406       </td><td>base_model </td></tr>\n",
       "\t<tr><td>FPP_D30    </td><td> 881       </td><td>ncell_model</td></tr>\n",
       "</tbody>\n",
       "</table>\n"
      ],
      "text/latex": [
       "\\begin{tabular}{r|lll}\n",
       " label & egenes & model\\\\\n",
       "\\hline\n",
       "\t FPP\\_D11     & 1187          & base\\_model \\\\\n",
       "\t FPP\\_D11     & 2560          & ncell\\_model\\\\\n",
       "\t P\\_FPP\\_D11 & 1491          & base\\_model \\\\\n",
       "\t P\\_FPP\\_D11 & 2457          & ncell\\_model\\\\\n",
       "\t FPP\\_D30     &  406          & base\\_model \\\\\n",
       "\t FPP\\_D30     &  881          & ncell\\_model\\\\\n",
       "\\end{tabular}\n"
      ],
      "text/markdown": [
       "\n",
       "| label | egenes | model |\n",
       "|---|---|---|\n",
       "| FPP_D11     | 1187        | base_model  |\n",
       "| FPP_D11     | 2560        | ncell_model |\n",
       "| P_FPP_D11   | 1491        | base_model  |\n",
       "| P_FPP_D11   | 2457        | ncell_model |\n",
       "| FPP_D30     |  406        | base_model  |\n",
       "| FPP_D30     |  881        | ncell_model |\n",
       "\n"
      ],
      "text/plain": [
       "  label     egenes model      \n",
       "1 FPP_D11   1187   base_model \n",
       "2 FPP_D11   2560   ncell_model\n",
       "3 P_FPP_D11 1491   base_model \n",
       "4 P_FPP_D11 2457   ncell_model\n",
       "5 FPP_D30    406   base_model \n",
       "6 FPP_D30    881   ncell_model"
      ]
     },
     "metadata": {},
     "output_type": "display_data"
    }
   ],
   "source": [
    "head(df)"
   ]
  },
  {
   "cell_type": "code",
   "execution_count": 95,
   "metadata": {},
   "outputs": [
    {
     "data": {
      "text/html": [
       "<table>\n",
       "<thead><tr><th></th><th scope=col>label</th><th scope=col>egenes</th><th scope=col>model</th></tr></thead>\n",
       "<tbody>\n",
       "\t<tr><th scope=row>2</th><td>FPP_D11      </td><td>2560         </td><td>ncell_model  </td></tr>\n",
       "\t<tr><th scope=row>4</th><td>P_FPP_D11    </td><td>2457         </td><td>ncell_model  </td></tr>\n",
       "\t<tr><th scope=row>6</th><td>FPP_D30      </td><td> 881         </td><td>ncell_model  </td></tr>\n",
       "\t<tr><th scope=row>8</th><td>DA_D30       </td><td> 872         </td><td>ncell_model  </td></tr>\n",
       "\t<tr><th scope=row>10</th><td>Sert_D30     </td><td> 776         </td><td>ncell_model  </td></tr>\n",
       "\t<tr><th scope=row>12</th><td>Epen1_D30    </td><td>1011         </td><td>ncell_model  </td></tr>\n",
       "\t<tr><th scope=row>14</th><td>DA_D52       </td><td>1024         </td><td>ncell_model  </td></tr>\n",
       "\t<tr><th scope=row>16</th><td>Sert_D52     </td><td>1436         </td><td>ncell_model  </td></tr>\n",
       "\t<tr><th scope=row>18</th><td>Epen1_D52    </td><td>1391         </td><td>ncell_model  </td></tr>\n",
       "\t<tr><th scope=row>20</th><td>Astro_D52    </td><td> 257         </td><td>ncell_model  </td></tr>\n",
       "\t<tr><th scope=row>22</th><td>DA_D52_ROT   </td><td> 458         </td><td>ncell_model  </td></tr>\n",
       "\t<tr><th scope=row>24</th><td>Sert_D52_ROT </td><td>1043         </td><td>ncell_model  </td></tr>\n",
       "\t<tr><th scope=row>26</th><td>Epen1_D52_ROT</td><td>1122         </td><td>ncell_model  </td></tr>\n",
       "\t<tr><th scope=row>28</th><td>Astro_D52_ROT</td><td> 205         </td><td>ncell_model  </td></tr>\n",
       "</tbody>\n",
       "</table>\n"
      ],
      "text/latex": [
       "\\begin{tabular}{r|lll}\n",
       "  & label & egenes & model\\\\\n",
       "\\hline\n",
       "\t2 & FPP\\_D11       & 2560            & ncell\\_model  \\\\\n",
       "\t4 & P\\_FPP\\_D11     & 2457              & ncell\\_model    \\\\\n",
       "\t6 & FPP\\_D30       &  881            & ncell\\_model  \\\\\n",
       "\t8 & DA\\_D30        &  872            & ncell\\_model  \\\\\n",
       "\t10 & Sert\\_D30      &  776            & ncell\\_model  \\\\\n",
       "\t12 & Epen1\\_D30     & 1011            & ncell\\_model  \\\\\n",
       "\t14 & DA\\_D52        & 1024            & ncell\\_model  \\\\\n",
       "\t16 & Sert\\_D52      & 1436            & ncell\\_model  \\\\\n",
       "\t18 & Epen1\\_D52     & 1391            & ncell\\_model  \\\\\n",
       "\t20 & Astro\\_D52     &  257            & ncell\\_model  \\\\\n",
       "\t22 & DA\\_D52\\_ROT    &  458              & ncell\\_model    \\\\\n",
       "\t24 & Sert\\_D52\\_ROT  & 1043              & ncell\\_model    \\\\\n",
       "\t26 & Epen1\\_D52\\_ROT & 1122              & ncell\\_model    \\\\\n",
       "\t28 & Astro\\_D52\\_ROT &  205              & ncell\\_model    \\\\\n",
       "\\end{tabular}\n"
      ],
      "text/markdown": [
       "\n",
       "| <!--/--> | label | egenes | model |\n",
       "|---|---|---|---|\n",
       "| 2 | FPP_D11       | 2560          | ncell_model   |\n",
       "| 4 | P_FPP_D11     | 2457          | ncell_model   |\n",
       "| 6 | FPP_D30       |  881          | ncell_model   |\n",
       "| 8 | DA_D30        |  872          | ncell_model   |\n",
       "| 10 | Sert_D30      |  776          | ncell_model   |\n",
       "| 12 | Epen1_D30     | 1011          | ncell_model   |\n",
       "| 14 | DA_D52        | 1024          | ncell_model   |\n",
       "| 16 | Sert_D52      | 1436          | ncell_model   |\n",
       "| 18 | Epen1_D52     | 1391          | ncell_model   |\n",
       "| 20 | Astro_D52     |  257          | ncell_model   |\n",
       "| 22 | DA_D52_ROT    |  458          | ncell_model   |\n",
       "| 24 | Sert_D52_ROT  | 1043          | ncell_model   |\n",
       "| 26 | Epen1_D52_ROT | 1122          | ncell_model   |\n",
       "| 28 | Astro_D52_ROT |  205          | ncell_model   |\n",
       "\n"
      ],
      "text/plain": [
       "   label         egenes model      \n",
       "2  FPP_D11       2560   ncell_model\n",
       "4  P_FPP_D11     2457   ncell_model\n",
       "6  FPP_D30        881   ncell_model\n",
       "8  DA_D30         872   ncell_model\n",
       "10 Sert_D30       776   ncell_model\n",
       "12 Epen1_D30     1011   ncell_model\n",
       "14 DA_D52        1024   ncell_model\n",
       "16 Sert_D52      1436   ncell_model\n",
       "18 Epen1_D52     1391   ncell_model\n",
       "20 Astro_D52      257   ncell_model\n",
       "22 DA_D52_ROT     458   ncell_model\n",
       "24 Sert_D52_ROT  1043   ncell_model\n",
       "26 Epen1_D52_ROT 1122   ncell_model\n",
       "28 Astro_D52_ROT  205   ncell_model"
      ]
     },
     "metadata": {},
     "output_type": "display_data"
    }
   ],
   "source": [
    "df[df$model == 'ncell_model',]"
   ]
  },
  {
   "cell_type": "code",
   "execution_count": 96,
   "metadata": {},
   "outputs": [
    {
     "data": {
      "image/png": "[encoded data removed]",
      "text/plain": [
       "plot without title"
      ]
     },
     "metadata": {},
     "output_type": "display_data"
    }
   ],
   "source": [
    "options(repr.plot.width=10, repr.plot.height=6)\n",
    "ggplot(df, aes(x = label, y = egenes, fill = model)) + \n",
    "    geom_bar(stat = \"identity\", position = 'dodge') + \n",
    "    ylab(\"# eGenes at FDR 5%\") + xlab(\"eQTL map\") + theme_bw() + \n",
    "    theme(axis.text.x = element_text(angle = 90, hjust = 1, size = 12), text = element_text(size=20))"
   ]
  },
  {
   "cell_type": "code",
   "execution_count": null,
   "metadata": {},
   "outputs": [],
   "source": []
  },
  {
   "cell_type": "code",
   "execution_count": null,
   "metadata": {},
   "outputs": [],
   "source": []
  },
  {
   "cell_type": "code",
   "execution_count": null,
   "metadata": {},
   "outputs": [],
   "source": []
  }
 ],
 "metadata": {
  "kernelspec": {
   "display_name": "R",
   "language": "R",
   "name": "ir"
  },
  "language_info": {
   "codemirror_mode": "r",
   "file_extension": ".r",
   "mimetype": "text/x-r-source",
   "name": "R",
   "pygments_lexer": "r",
   "version": "3.6.1"
  }
 },
 "nbformat": 4,
 "nbformat_minor": 4
}
