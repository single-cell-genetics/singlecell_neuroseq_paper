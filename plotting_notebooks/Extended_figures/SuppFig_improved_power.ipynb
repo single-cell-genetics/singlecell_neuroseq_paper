{
 "cells": [
  {
   "cell_type": "code",
   "execution_count": 12,
   "metadata": {},
   "outputs": [],
   "source": [
    "library(ggplot2)"
   ]
  },
  {
   "cell_type": "code",
   "execution_count": 2,
   "metadata": {},
   "outputs": [
    {
     "data": {
      "text/html": [
       "<table>\n",
       "<thead><tr><th scope=col>snp_id</th><th scope=col>p_value</th><th scope=col>beta</th><th scope=col>beta_se</th><th scope=col>empirical_feature_p_value</th><th scope=col>feature_chromosome</th><th scope=col>feature_start</th><th scope=col>feature_end</th><th scope=col>n_samples</th><th scope=col>n_e_samples</th><th scope=col>...</th><th scope=col>beta_param</th><th scope=col>snp_chromosome</th><th scope=col>snp_position</th><th scope=col>assessed_allele</th><th scope=col>call_rate</th><th scope=col>maf</th><th scope=col>hwe_p</th><th scope=col>feature_id</th><th scope=col>global_corr_p_value</th><th scope=col>label</th></tr></thead>\n",
       "<tbody>\n",
       "\t<tr><td>21_30373541_T_C</td><td>2.920966e-25   </td><td>-0.8525780     </td><td>0.08210206     </td><td>1.632719e-14   </td><td>21             </td><td>30376705       </td><td>30391699       </td><td>173            </td><td>173            </td><td>...            </td><td>192.39730      </td><td>21             </td><td>30373541       </td><td>C              </td><td>1              </td><td>0.2398844      </td><td>0.09609073     </td><td>ENSG00000156253</td><td>1.400559e-12   </td><td>FPP_D11        </td></tr>\n",
       "\t<tr><td>21_30432557_G_A</td><td>1.495486e-48   </td><td> 0.5058675     </td><td>0.03454695     </td><td>1.169470e-31   </td><td>21             </td><td>30428126       </td><td>30446118       </td><td>173            </td><td>173            </td><td>...            </td><td> 34.96152      </td><td>21             </td><td>30432557       </td><td>A              </td><td>1              </td><td>0.1358382      </td><td>1.00000000     </td><td>ENSG00000156261</td><td>1.059433e-28   </td><td>FPP_D11        </td></tr>\n",
       "</tbody>\n",
       "</table>\n"
      ],
      "text/latex": [
       "\\begin{tabular}{r|lllllllllllllllllllll}\n",
       " snp\\_id & p\\_value & beta & beta\\_se & empirical\\_feature\\_p\\_value & feature\\_chromosome & feature\\_start & feature\\_end & n\\_samples & n\\_e\\_samples & ... & beta\\_param & snp\\_chromosome & snp\\_position & assessed\\_allele & call\\_rate & maf & hwe\\_p & feature\\_id & global\\_corr\\_p\\_value & label\\\\\n",
       "\\hline\n",
       "\t 21\\_30373541\\_T\\_C & 2.920966e-25          & -0.8525780            & 0.08210206            & 1.632719e-14          & 21                    & 30376705              & 30391699              & 173                   & 173                   & ...                   & 192.39730             & 21                    & 30373541              & C                     & 1                     & 0.2398844             & 0.09609073            & ENSG00000156253       & 1.400559e-12          & FPP\\_D11            \\\\\n",
       "\t 21\\_30432557\\_G\\_A & 1.495486e-48          &  0.5058675            & 0.03454695            & 1.169470e-31          & 21                    & 30428126              & 30446118              & 173                   & 173                   & ...                   &  34.96152             & 21                    & 30432557              & A                     & 1                     & 0.1358382             & 1.00000000            & ENSG00000156261       & 1.059433e-28          & FPP\\_D11            \\\\\n",
       "\\end{tabular}\n"
      ],
      "text/markdown": [
       "\n",
       "| snp_id | p_value | beta | beta_se | empirical_feature_p_value | feature_chromosome | feature_start | feature_end | n_samples | n_e_samples | ... | beta_param | snp_chromosome | snp_position | assessed_allele | call_rate | maf | hwe_p | feature_id | global_corr_p_value | label |\n",
       "|---|---|---|---|---|---|---|---|---|---|---|---|---|---|---|---|---|---|---|---|---|\n",
       "| 21_30373541_T_C | 2.920966e-25    | -0.8525780      | 0.08210206      | 1.632719e-14    | 21              | 30376705        | 30391699        | 173             | 173             | ...             | 192.39730       | 21              | 30373541        | C               | 1               | 0.2398844       | 0.09609073      | ENSG00000156253 | 1.400559e-12    | FPP_D11         |\n",
       "| 21_30432557_G_A | 1.495486e-48    |  0.5058675      | 0.03454695      | 1.169470e-31    | 21              | 30428126        | 30446118        | 173             | 173             | ...             |  34.96152       | 21              | 30432557        | A               | 1               | 0.1358382       | 1.00000000      | ENSG00000156261 | 1.059433e-28    | FPP_D11         |\n",
       "\n"
      ],
      "text/plain": [
       "  snp_id          p_value      beta       beta_se    empirical_feature_p_value\n",
       "1 21_30373541_T_C 2.920966e-25 -0.8525780 0.08210206 1.632719e-14             \n",
       "2 21_30432557_G_A 1.495486e-48  0.5058675 0.03454695 1.169470e-31             \n",
       "  feature_chromosome feature_start feature_end n_samples n_e_samples ...\n",
       "1 21                 30376705      30391699    173       173         ...\n",
       "2 21                 30428126      30446118    173       173         ...\n",
       "  beta_param snp_chromosome snp_position assessed_allele call_rate maf      \n",
       "1 192.39730  21             30373541     C               1         0.2398844\n",
       "2  34.96152  21             30432557     A               1         0.1358382\n",
       "  hwe_p      feature_id      global_corr_p_value label  \n",
       "1 0.09609073 ENSG00000156253 1.400559e-12        FPP_D11\n",
       "2 1.00000000 ENSG00000156261 1.059433e-28        FPP_D11"
      ]
     },
     "metadata": {},
     "output_type": "display_data"
    }
   ],
   "source": [
    "df0 = read.csv(\"/hps/nobackup/stegle/users/acuomo/all_scripts/sc_neuroseq/eqtl/all_leads_5pct_FDR.csv\")\n",
    "head(df0,2)"
   ]
  },
  {
   "cell_type": "code",
   "execution_count": 3,
   "metadata": {},
   "outputs": [],
   "source": [
    "# df0$label = c()\n",
    "# df0$label = as.character(df0$new_label)\n",
    "# df0$new_label = c()"
   ]
  },
  {
   "cell_type": "code",
   "execution_count": 4,
   "metadata": {},
   "outputs": [],
   "source": [
    "# df0$label[df0$label == 'DA_ROT_D52'] = 'DA_D52_ROT'\n",
    "# df0$label[df0$label == 'Sert_ROT_D52'] = 'Sert_D52_ROT'\n",
    "# df0$label[df0$label == 'Epen1_ROT_D52'] = 'Epen1_D52_ROT'\n",
    "# df0$label[df0$label == 'Astro_ROT_D52'] = 'Astro_D52_ROT'"
   ]
  },
  {
   "cell_type": "code",
   "execution_count": 5,
   "metadata": {},
   "outputs": [
    {
     "data": {
      "text/html": [
       "<ol class=list-inline>\n",
       "\t<li>FPP_D11</li>\n",
       "\t<li>P_FPP_D11</li>\n",
       "\t<li>DA_D30</li>\n",
       "\t<li>Sert_D30</li>\n",
       "\t<li>Epen1_D30</li>\n",
       "\t<li>FPP_D30</li>\n",
       "\t<li>DA_D52</li>\n",
       "\t<li>Sert_D52</li>\n",
       "\t<li>Epen1_D52</li>\n",
       "\t<li>Astro_D52</li>\n",
       "\t<li>DA_D52_ROT</li>\n",
       "\t<li>Sert_D52_ROT</li>\n",
       "\t<li>Epen1_D52_ROT</li>\n",
       "\t<li>Astro_D52_ROT</li>\n",
       "</ol>\n",
       "\n",
       "<details>\n",
       "\t<summary style=display:list-item;cursor:pointer>\n",
       "\t\t<strong>Levels</strong>:\n",
       "\t</summary>\n",
       "\t<ol class=list-inline>\n",
       "\t\t<li>'Astro_D52'</li>\n",
       "\t\t<li>'Astro_D52_ROT'</li>\n",
       "\t\t<li>'DA_D30'</li>\n",
       "\t\t<li>'DA_D52'</li>\n",
       "\t\t<li>'DA_D52_ROT'</li>\n",
       "\t\t<li>'Epen1_D30'</li>\n",
       "\t\t<li>'Epen1_D52'</li>\n",
       "\t\t<li>'Epen1_D52_ROT'</li>\n",
       "\t\t<li>'FPP_D11'</li>\n",
       "\t\t<li>'FPP_D30'</li>\n",
       "\t\t<li>'P_FPP_D11'</li>\n",
       "\t\t<li>'Sert_D30'</li>\n",
       "\t\t<li>'Sert_D52'</li>\n",
       "\t\t<li>'Sert_D52_ROT'</li>\n",
       "\t</ol>\n",
       "</details>"
      ],
      "text/latex": [
       "\\begin{enumerate*}\n",
       "\\item FPP\\_D11\n",
       "\\item P\\_FPP\\_D11\n",
       "\\item DA\\_D30\n",
       "\\item Sert\\_D30\n",
       "\\item Epen1\\_D30\n",
       "\\item FPP\\_D30\n",
       "\\item DA\\_D52\n",
       "\\item Sert\\_D52\n",
       "\\item Epen1\\_D52\n",
       "\\item Astro\\_D52\n",
       "\\item DA\\_D52\\_ROT\n",
       "\\item Sert\\_D52\\_ROT\n",
       "\\item Epen1\\_D52\\_ROT\n",
       "\\item Astro\\_D52\\_ROT\n",
       "\\end{enumerate*}\n",
       "\n",
       "\\emph{Levels}: \\begin{enumerate*}\n",
       "\\item 'Astro\\_D52'\n",
       "\\item 'Astro\\_D52\\_ROT'\n",
       "\\item 'DA\\_D30'\n",
       "\\item 'DA\\_D52'\n",
       "\\item 'DA\\_D52\\_ROT'\n",
       "\\item 'Epen1\\_D30'\n",
       "\\item 'Epen1\\_D52'\n",
       "\\item 'Epen1\\_D52\\_ROT'\n",
       "\\item 'FPP\\_D11'\n",
       "\\item 'FPP\\_D30'\n",
       "\\item 'P\\_FPP\\_D11'\n",
       "\\item 'Sert\\_D30'\n",
       "\\item 'Sert\\_D52'\n",
       "\\item 'Sert\\_D52\\_ROT'\n",
       "\\end{enumerate*}\n"
      ],
      "text/markdown": [
       "1. FPP_D11\n",
       "2. P_FPP_D11\n",
       "3. DA_D30\n",
       "4. Sert_D30\n",
       "5. Epen1_D30\n",
       "6. FPP_D30\n",
       "7. DA_D52\n",
       "8. Sert_D52\n",
       "9. Epen1_D52\n",
       "10. Astro_D52\n",
       "11. DA_D52_ROT\n",
       "12. Sert_D52_ROT\n",
       "13. Epen1_D52_ROT\n",
       "14. Astro_D52_ROT\n",
       "\n",
       "\n",
       "\n",
       "**Levels**: 1. 'Astro_D52'\n",
       "2. 'Astro_D52_ROT'\n",
       "3. 'DA_D30'\n",
       "4. 'DA_D52'\n",
       "5. 'DA_D52_ROT'\n",
       "6. 'Epen1_D30'\n",
       "7. 'Epen1_D52'\n",
       "8. 'Epen1_D52_ROT'\n",
       "9. 'FPP_D11'\n",
       "10. 'FPP_D30'\n",
       "11. 'P_FPP_D11'\n",
       "12. 'Sert_D30'\n",
       "13. 'Sert_D52'\n",
       "14. 'Sert_D52_ROT'\n",
       "\n",
       "\n"
      ],
      "text/plain": [
       " [1] FPP_D11       P_FPP_D11     DA_D30        Sert_D30      Epen1_D30    \n",
       " [6] FPP_D30       DA_D52        Sert_D52      Epen1_D52     Astro_D52    \n",
       "[11] DA_D52_ROT    Sert_D52_ROT  Epen1_D52_ROT Astro_D52_ROT\n",
       "14 Levels: Astro_D52 Astro_D52_ROT DA_D30 DA_D52 DA_D52_ROT ... Sert_D52_ROT"
      ]
     },
     "metadata": {},
     "output_type": "display_data"
    }
   ],
   "source": [
    "unique(df0$label)"
   ]
  },
  {
   "cell_type": "code",
   "execution_count": 6,
   "metadata": {},
   "outputs": [],
   "source": [
    "# write.csv(df0,\"/hps/nobackup/stegle/users/acuomo/all_scripts/sc_neuroseq/eqtl/all_leads_5pct_FDR.csv\", quote = F, row.names = F)\n",
    "# head(df0,2)"
   ]
  },
  {
   "cell_type": "code",
   "execution_count": 7,
   "metadata": {},
   "outputs": [
    {
     "data": {
      "text/html": [
       "<table>\n",
       "<thead><tr><th scope=col>snp_id</th><th scope=col>p_value</th><th scope=col>beta</th><th scope=col>beta_se</th><th scope=col>empirical_feature_p_value</th><th scope=col>feature_chromosome</th><th scope=col>feature_start</th><th scope=col>feature_end</th><th scope=col>n_samples</th><th scope=col>n_e_samples</th><th scope=col>...</th><th scope=col>beta_param</th><th scope=col>snp_chromosome</th><th scope=col>snp_position</th><th scope=col>assessed_allele</th><th scope=col>call_rate</th><th scope=col>maf</th><th scope=col>hwe_p</th><th scope=col>feature_id</th><th scope=col>global_corr_p_value</th><th scope=col>label</th></tr></thead>\n",
       "<tbody>\n",
       "\t<tr><td>19_54613420_G_A</td><td>6.593078e-09   </td><td> 0.2373437     </td><td>0.04091446     </td><td>1.587931e-04   </td><td>19             </td><td>54610320       </td><td>54619055       </td><td>155            </td><td>155            </td><td>...            </td><td>243.43407      </td><td>19             </td><td>54613420       </td><td>A              </td><td>1              </td><td>0.2129032      </td><td>0.3402231      </td><td>ENSG00000105619</td><td>0.0032559122   </td><td>FPP_D11        </td></tr>\n",
       "\t<tr><td>19_54612628_A_G</td><td>3.096059e-08   </td><td>-0.1844164     </td><td>0.03331271     </td><td>1.294388e-03   </td><td>19             </td><td>54606036       </td><td>54612564       </td><td>155            </td><td>155            </td><td>...            </td><td>185.04975      </td><td>19             </td><td>54612628       </td><td>G              </td><td>1              </td><td>0.2483871      </td><td>0.5221240      </td><td>ENSG00000170906</td><td>0.0189964365   </td><td>FPP_D11        </td></tr>\n",
       "\t<tr><td>10_5849917_C_G </td><td>1.567224e-10   </td><td>-0.1344808     </td><td>0.02101696     </td><td>6.572612e-05   </td><td>10             </td><td> 5807186       </td><td> 5884095       </td><td>155            </td><td>155            </td><td>...            </td><td>226.43617      </td><td>10             </td><td> 5849917       </td><td>G              </td><td>1              </td><td>0.2290323      </td><td>1.0000000      </td><td>ENSG00000057608</td><td>0.0015022036   </td><td>FPP_D11        </td></tr>\n",
       "\t<tr><td>10_11841338_A_G</td><td>9.338738e-10   </td><td> 0.5059866     </td><td>0.08267321     </td><td>1.032367e-04   </td><td>10             </td><td>11784365       </td><td>11806069       </td><td>155            </td><td>155            </td><td>...            </td><td>229.45673      </td><td>10             </td><td>11841338       </td><td>G              </td><td>1              </td><td>0.3548387      </td><td>1.0000000      </td><td>ENSG00000134463</td><td>0.0022315697   </td><td>FPP_D11        </td></tr>\n",
       "\t<tr><td>10_12113269_A_T</td><td>8.422984e-09   </td><td> 0.6241120     </td><td>0.10835715     </td><td>6.475926e-04   </td><td>10             </td><td>12110971       </td><td>12165224       </td><td>155            </td><td>155            </td><td>...            </td><td>277.38874      </td><td>10             </td><td>12113269       </td><td>T              </td><td>1              </td><td>0.1000000      </td><td>0.1770887      </td><td>ENSG00000181192</td><td>0.0108276184   </td><td>FPP_D11        </td></tr>\n",
       "\t<tr><td>17_27907313_A_G</td><td>5.344373e-10   </td><td> 0.5046050     </td><td>0.08127459     </td><td>1.675374e-05   </td><td>17             </td><td>27893070       </td><td>27900175       </td><td>155            </td><td>155            </td><td>...            </td><td> 35.29385      </td><td>17             </td><td>27907313       </td><td>G              </td><td>1              </td><td>0.2870968      </td><td>0.0100465      </td><td>ENSG00000167543</td><td>0.0004416694   </td><td>FPP_D11        </td></tr>\n",
       "</tbody>\n",
       "</table>\n"
      ],
      "text/latex": [
       "\\begin{tabular}{r|lllllllllllllllllllll}\n",
       " snp\\_id & p\\_value & beta & beta\\_se & empirical\\_feature\\_p\\_value & feature\\_chromosome & feature\\_start & feature\\_end & n\\_samples & n\\_e\\_samples & ... & beta\\_param & snp\\_chromosome & snp\\_position & assessed\\_allele & call\\_rate & maf & hwe\\_p & feature\\_id & global\\_corr\\_p\\_value & label\\\\\n",
       "\\hline\n",
       "\t 19\\_54613420\\_G\\_A & 6.593078e-09          &  0.2373437            & 0.04091446            & 1.587931e-04          & 19                    & 54610320              & 54619055              & 155                   & 155                   & ...                   & 243.43407             & 19                    & 54613420              & A                     & 1                     & 0.2129032             & 0.3402231             & ENSG00000105619       & 0.0032559122          & FPP\\_D11            \\\\\n",
       "\t 19\\_54612628\\_A\\_G & 3.096059e-08          & -0.1844164            & 0.03331271            & 1.294388e-03          & 19                    & 54606036              & 54612564              & 155                   & 155                   & ...                   & 185.04975             & 19                    & 54612628              & G                     & 1                     & 0.2483871             & 0.5221240             & ENSG00000170906       & 0.0189964365          & FPP\\_D11            \\\\\n",
       "\t 10\\_5849917\\_C\\_G  & 1.567224e-10          & -0.1344808            & 0.02101696            & 6.572612e-05          & 10                    &  5807186              &  5884095              & 155                   & 155                   & ...                   & 226.43617             & 10                    &  5849917              & G                     & 1                     & 0.2290323             & 1.0000000             & ENSG00000057608       & 0.0015022036          & FPP\\_D11            \\\\\n",
       "\t 10\\_11841338\\_A\\_G & 9.338738e-10          &  0.5059866            & 0.08267321            & 1.032367e-04          & 10                    & 11784365              & 11806069              & 155                   & 155                   & ...                   & 229.45673             & 10                    & 11841338              & G                     & 1                     & 0.3548387             & 1.0000000             & ENSG00000134463       & 0.0022315697          & FPP\\_D11            \\\\\n",
       "\t 10\\_12113269\\_A\\_T & 8.422984e-09          &  0.6241120            & 0.10835715            & 6.475926e-04          & 10                    & 12110971              & 12165224              & 155                   & 155                   & ...                   & 277.38874             & 10                    & 12113269              & T                     & 1                     & 0.1000000             & 0.1770887             & ENSG00000181192       & 0.0108276184          & FPP\\_D11            \\\\\n",
       "\t 17\\_27907313\\_A\\_G & 5.344373e-10          &  0.5046050            & 0.08127459            & 1.675374e-05          & 17                    & 27893070              & 27900175              & 155                   & 155                   & ...                   &  35.29385             & 17                    & 27907313              & G                     & 1                     & 0.2870968             & 0.0100465             & ENSG00000167543       & 0.0004416694          & FPP\\_D11            \\\\\n",
       "\\end{tabular}\n"
      ],
      "text/markdown": [
       "\n",
       "| snp_id | p_value | beta | beta_se | empirical_feature_p_value | feature_chromosome | feature_start | feature_end | n_samples | n_e_samples | ... | beta_param | snp_chromosome | snp_position | assessed_allele | call_rate | maf | hwe_p | feature_id | global_corr_p_value | label |\n",
       "|---|---|---|---|---|---|---|---|---|---|---|---|---|---|---|---|---|---|---|---|---|\n",
       "| 19_54613420_G_A | 6.593078e-09    |  0.2373437      | 0.04091446      | 1.587931e-04    | 19              | 54610320        | 54619055        | 155             | 155             | ...             | 243.43407       | 19              | 54613420        | A               | 1               | 0.2129032       | 0.3402231       | ENSG00000105619 | 0.0032559122    | FPP_D11         |\n",
       "| 19_54612628_A_G | 3.096059e-08    | -0.1844164      | 0.03331271      | 1.294388e-03    | 19              | 54606036        | 54612564        | 155             | 155             | ...             | 185.04975       | 19              | 54612628        | G               | 1               | 0.2483871       | 0.5221240       | ENSG00000170906 | 0.0189964365    | FPP_D11         |\n",
       "| 10_5849917_C_G  | 1.567224e-10    | -0.1344808      | 0.02101696      | 6.572612e-05    | 10              |  5807186        |  5884095        | 155             | 155             | ...             | 226.43617       | 10              |  5849917        | G               | 1               | 0.2290323       | 1.0000000       | ENSG00000057608 | 0.0015022036    | FPP_D11         |\n",
       "| 10_11841338_A_G | 9.338738e-10    |  0.5059866      | 0.08267321      | 1.032367e-04    | 10              | 11784365        | 11806069        | 155             | 155             | ...             | 229.45673       | 10              | 11841338        | G               | 1               | 0.3548387       | 1.0000000       | ENSG00000134463 | 0.0022315697    | FPP_D11         |\n",
       "| 10_12113269_A_T | 8.422984e-09    |  0.6241120      | 0.10835715      | 6.475926e-04    | 10              | 12110971        | 12165224        | 155             | 155             | ...             | 277.38874       | 10              | 12113269        | T               | 1               | 0.1000000       | 0.1770887       | ENSG00000181192 | 0.0108276184    | FPP_D11         |\n",
       "| 17_27907313_A_G | 5.344373e-10    |  0.5046050      | 0.08127459      | 1.675374e-05    | 17              | 27893070        | 27900175        | 155             | 155             | ...             |  35.29385       | 17              | 27907313        | G               | 1               | 0.2870968       | 0.0100465       | ENSG00000167543 | 0.0004416694    | FPP_D11         |\n",
       "\n"
      ],
      "text/plain": [
       "  snp_id          p_value      beta       beta_se    empirical_feature_p_value\n",
       "1 19_54613420_G_A 6.593078e-09  0.2373437 0.04091446 1.587931e-04             \n",
       "2 19_54612628_A_G 3.096059e-08 -0.1844164 0.03331271 1.294388e-03             \n",
       "3 10_5849917_C_G  1.567224e-10 -0.1344808 0.02101696 6.572612e-05             \n",
       "4 10_11841338_A_G 9.338738e-10  0.5059866 0.08267321 1.032367e-04             \n",
       "5 10_12113269_A_T 8.422984e-09  0.6241120 0.10835715 6.475926e-04             \n",
       "6 17_27907313_A_G 5.344373e-10  0.5046050 0.08127459 1.675374e-05             \n",
       "  feature_chromosome feature_start feature_end n_samples n_e_samples ...\n",
       "1 19                 54610320      54619055    155       155         ...\n",
       "2 19                 54606036      54612564    155       155         ...\n",
       "3 10                  5807186       5884095    155       155         ...\n",
       "4 10                 11784365      11806069    155       155         ...\n",
       "5 10                 12110971      12165224    155       155         ...\n",
       "6 17                 27893070      27900175    155       155         ...\n",
       "  beta_param snp_chromosome snp_position assessed_allele call_rate maf      \n",
       "1 243.43407  19             54613420     A               1         0.2129032\n",
       "2 185.04975  19             54612628     G               1         0.2483871\n",
       "3 226.43617  10              5849917     G               1         0.2290323\n",
       "4 229.45673  10             11841338     G               1         0.3548387\n",
       "5 277.38874  10             12113269     T               1         0.1000000\n",
       "6  35.29385  17             27907313     G               1         0.2870968\n",
       "  hwe_p     feature_id      global_corr_p_value label  \n",
       "1 0.3402231 ENSG00000105619 0.0032559122        FPP_D11\n",
       "2 0.5221240 ENSG00000170906 0.0189964365        FPP_D11\n",
       "3 1.0000000 ENSG00000057608 0.0015022036        FPP_D11\n",
       "4 1.0000000 ENSG00000134463 0.0022315697        FPP_D11\n",
       "5 0.1770887 ENSG00000181192 0.0108276184        FPP_D11\n",
       "6 0.0100465 ENSG00000167543 0.0004416694        FPP_D11"
      ]
     },
     "metadata": {},
     "output_type": "display_data"
    }
   ],
   "source": [
    "df1 = read.csv(\"/hps/nobackup/stegle/users/acuomo/all_scripts/sc_neuroseq/eqtl/results_no_ncell_noisematrix_5pct_FDR.csv\")\n",
    "head(df1)"
   ]
  },
  {
   "cell_type": "code",
   "execution_count": 8,
   "metadata": {},
   "outputs": [],
   "source": [
    "# df1 = df1[df1$global_corr_p_value < 0.05,]"
   ]
  },
  {
   "cell_type": "code",
   "execution_count": 9,
   "metadata": {},
   "outputs": [],
   "source": [
    "df = data.frame()\n",
    "labels = unique(df1$label)\n",
    "for (label in labels){\n",
    "    n1 = nrow(df1[df1$label == label,])\n",
    "    n2 = nrow(df0[df0$label == label,])\n",
    "    df = rbind(df, data.frame(label = label, egenes = n1, model = 'base_model'),\n",
    "                   data.frame(label = label, egenes = n2, model = 'ncell_model'))\n",
    "}"
   ]
  },
  {
   "cell_type": "code",
   "execution_count": 10,
   "metadata": {},
   "outputs": [
    {
     "data": {
      "text/html": [
       "<table>\n",
       "<thead><tr><th scope=col>label</th><th scope=col>egenes</th><th scope=col>model</th></tr></thead>\n",
       "<tbody>\n",
       "\t<tr><td>FPP_D11    </td><td> 822       </td><td>base_model </td></tr>\n",
       "\t<tr><td>FPP_D11    </td><td>1784       </td><td>ncell_model</td></tr>\n",
       "\t<tr><td>P_FPP_D11  </td><td>1155       </td><td>base_model </td></tr>\n",
       "\t<tr><td>P_FPP_D11  </td><td>1802       </td><td>ncell_model</td></tr>\n",
       "\t<tr><td>FPP_D30    </td><td> 248       </td><td>base_model </td></tr>\n",
       "\t<tr><td>FPP_D30    </td><td> 618       </td><td>ncell_model</td></tr>\n",
       "</tbody>\n",
       "</table>\n"
      ],
      "text/latex": [
       "\\begin{tabular}{r|lll}\n",
       " label & egenes & model\\\\\n",
       "\\hline\n",
       "\t FPP\\_D11     &  822          & base\\_model \\\\\n",
       "\t FPP\\_D11     & 1784          & ncell\\_model\\\\\n",
       "\t P\\_FPP\\_D11 & 1155          & base\\_model \\\\\n",
       "\t P\\_FPP\\_D11 & 1802          & ncell\\_model\\\\\n",
       "\t FPP\\_D30     &  248          & base\\_model \\\\\n",
       "\t FPP\\_D30     &  618          & ncell\\_model\\\\\n",
       "\\end{tabular}\n"
      ],
      "text/markdown": [
       "\n",
       "| label | egenes | model |\n",
       "|---|---|---|\n",
       "| FPP_D11     |  822        | base_model  |\n",
       "| FPP_D11     | 1784        | ncell_model |\n",
       "| P_FPP_D11   | 1155        | base_model  |\n",
       "| P_FPP_D11   | 1802        | ncell_model |\n",
       "| FPP_D30     |  248        | base_model  |\n",
       "| FPP_D30     |  618        | ncell_model |\n",
       "\n"
      ],
      "text/plain": [
       "  label     egenes model      \n",
       "1 FPP_D11    822   base_model \n",
       "2 FPP_D11   1784   ncell_model\n",
       "3 P_FPP_D11 1155   base_model \n",
       "4 P_FPP_D11 1802   ncell_model\n",
       "5 FPP_D30    248   base_model \n",
       "6 FPP_D30    618   ncell_model"
      ]
     },
     "metadata": {},
     "output_type": "display_data"
    }
   ],
   "source": [
    "head(df)"
   ]
  },
  {
   "cell_type": "code",
   "execution_count": 11,
   "metadata": {},
   "outputs": [
    {
     "data": {
      "image/png": "[encoded data removed]",
      "text/plain": [
       "plot without title"
      ]
     },
     "metadata": {},
     "output_type": "display_data"
    }
   ],
   "source": [
    "options(repr.plot.width=10, repr.plot.height=6)\n",
    "ggplot(df, aes(x = label, y = egenes, fill = model)) + \n",
    "    geom_bar(stat = \"identity\", position = 'dodge') + \n",
    "    ylab(\"# eGenes at FDR 5%\") + xlab(\"eQTL map\") + theme_bw() + \n",
    "    theme(axis.text.x = element_text(angle = 90, hjust = 1, size = 12), text = element_text(size=20))"
   ]
  },
  {
   "cell_type": "code",
   "execution_count": null,
   "metadata": {},
   "outputs": [],
   "source": []
  },
  {
   "cell_type": "code",
   "execution_count": null,
   "metadata": {},
   "outputs": [],
   "source": []
  },
  {
   "cell_type": "code",
   "execution_count": null,
   "metadata": {},
   "outputs": [],
   "source": []
  }
 ],
 "metadata": {
  "kernelspec": {
   "display_name": "R",
   "language": "R",
   "name": "ir"
  },
  "language_info": {
   "codemirror_mode": "r",
   "file_extension": ".r",
   "mimetype": "text/x-r-source",
   "name": "R",
   "pygments_lexer": "r",
   "version": "3.6.1"
  }
 },
 "nbformat": 4,
 "nbformat_minor": 4
}
