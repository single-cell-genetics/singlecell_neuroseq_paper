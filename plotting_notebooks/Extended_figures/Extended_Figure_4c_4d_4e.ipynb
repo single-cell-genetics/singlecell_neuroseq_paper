{
 "cells": [
  {
   "cell_type": "code",
   "execution_count": 1,
   "metadata": {},
   "outputs": [],
   "source": [
    "library(ggplot2)"
   ]
  },
  {
   "cell_type": "code",
   "execution_count": 2,
   "metadata": {},
   "outputs": [],
   "source": [
    "# filename = \"/nfs/leia/research/stegle/dseaton/hipsci/singlecell_neuroseq/data/analysis_results/20200907_data_freeze/differentiation_trajectories/differentiation_efficiency_predictive_model_scores.tsv\"\n",
    "filename = \"/nfs/leia/research/stegle/dseaton/hipsci/singlecell_neuroseq/data/analysis_results/20200907_data_freeze/differentiation_trajectories/differentiation_efficiency_predictive_model_scores.tsv\""
   ]
  },
  {
   "cell_type": "code",
   "execution_count": 3,
   "metadata": {},
   "outputs": [
    {
     "data": {
      "text/html": [
       "<table>\n",
       "<thead><tr><th scope=col>donor_id</th><th scope=col>diff_efficiency</th><th scope=col>diff_outcome</th><th scope=col>model_score</th><th scope=col>model_predicted_outcome</th></tr></thead>\n",
       "<tbody>\n",
       "\t<tr><td>HPSI0114i-bezi_1</td><td>        NA      </td><td>not_assessed    </td><td>0.795830284     </td><td>success         </td></tr>\n",
       "\t<tr><td>HPSI0114i-bezi_3</td><td>0.58269720      </td><td>success         </td><td>0.990335903     </td><td>success         </td></tr>\n",
       "\t<tr><td>HPSI0114i-eipl_1</td><td>0.01287835      </td><td>failure         </td><td>0.008453323     </td><td>failure         </td></tr>\n",
       "\t<tr><td>HPSI0114i-eipl_3</td><td>        NA      </td><td>not_assessed    </td><td>0.009314145     </td><td>failure         </td></tr>\n",
       "\t<tr><td>HPSI0114i-fikt_3</td><td>0.40282686      </td><td>success         </td><td>0.950780075     </td><td>success         </td></tr>\n",
       "\t<tr><td>HPSI0114i-iisa_1</td><td>        NA      </td><td>not_assessed    </td><td>0.981784364     </td><td>success         </td></tr>\n",
       "</tbody>\n",
       "</table>\n"
      ],
      "text/latex": [
       "\\begin{tabular}{r|lllll}\n",
       " donor\\_id & diff\\_efficiency & diff\\_outcome & model\\_score & model\\_predicted\\_outcome\\\\\n",
       "\\hline\n",
       "\t HPSI0114i-bezi\\_1 &         NA         & not\\_assessed     & 0.795830284        & success           \\\\\n",
       "\t HPSI0114i-bezi\\_3 & 0.58269720         & success            & 0.990335903        & success           \\\\\n",
       "\t HPSI0114i-eipl\\_1 & 0.01287835         & failure            & 0.008453323        & failure           \\\\\n",
       "\t HPSI0114i-eipl\\_3 &         NA         & not\\_assessed     & 0.009314145        & failure           \\\\\n",
       "\t HPSI0114i-fikt\\_3 & 0.40282686         & success            & 0.950780075        & success           \\\\\n",
       "\t HPSI0114i-iisa\\_1 &         NA         & not\\_assessed     & 0.981784364        & success           \\\\\n",
       "\\end{tabular}\n"
      ],
      "text/markdown": [
       "\n",
       "| donor_id | diff_efficiency | diff_outcome | model_score | model_predicted_outcome |\n",
       "|---|---|---|---|---|\n",
       "| HPSI0114i-bezi_1 |         NA       | not_assessed     | 0.795830284      | success          |\n",
       "| HPSI0114i-bezi_3 | 0.58269720       | success          | 0.990335903      | success          |\n",
       "| HPSI0114i-eipl_1 | 0.01287835       | failure          | 0.008453323      | failure          |\n",
       "| HPSI0114i-eipl_3 |         NA       | not_assessed     | 0.009314145      | failure          |\n",
       "| HPSI0114i-fikt_3 | 0.40282686       | success          | 0.950780075      | success          |\n",
       "| HPSI0114i-iisa_1 |         NA       | not_assessed     | 0.981784364      | success          |\n",
       "\n"
      ],
      "text/plain": [
       "  donor_id         diff_efficiency diff_outcome model_score\n",
       "1 HPSI0114i-bezi_1         NA      not_assessed 0.795830284\n",
       "2 HPSI0114i-bezi_3 0.58269720      success      0.990335903\n",
       "3 HPSI0114i-eipl_1 0.01287835      failure      0.008453323\n",
       "4 HPSI0114i-eipl_3         NA      not_assessed 0.009314145\n",
       "5 HPSI0114i-fikt_3 0.40282686      success      0.950780075\n",
       "6 HPSI0114i-iisa_1         NA      not_assessed 0.981784364\n",
       "  model_predicted_outcome\n",
       "1 success                \n",
       "2 success                \n",
       "3 failure                \n",
       "4 failure                \n",
       "5 success                \n",
       "6 success                "
      ]
     },
     "metadata": {},
     "output_type": "display_data"
    }
   ],
   "source": [
    "df = read.csv(filename, sep = \"\\t\")\n",
    "head(df)"
   ]
  },
  {
   "cell_type": "code",
   "execution_count": 4,
   "metadata": {},
   "outputs": [
    {
     "data": {
      "text/html": [
       "812"
      ],
      "text/latex": [
       "812"
      ],
      "text/markdown": [
       "812"
      ],
      "text/plain": [
       "[1] 812"
      ]
     },
     "metadata": {},
     "output_type": "display_data"
    }
   ],
   "source": [
    "length(unique(df$donor_id))"
   ]
  },
  {
   "cell_type": "code",
   "execution_count": 5,
   "metadata": {},
   "outputs": [
    {
     "data": {
      "text/html": [
       "<table>\n",
       "<thead><tr><th scope=col>donor_id</th><th scope=col>diff_efficiency</th><th scope=col>diff_outcome</th><th scope=col>model_score</th><th scope=col>model_predicted_outcome</th><th scope=col>short_donor</th></tr></thead>\n",
       "<tbody>\n",
       "\t<tr><td>HPSI0114i-bezi_1</td><td>        NA      </td><td>not_assessed    </td><td>0.795830284     </td><td>success         </td><td>bezi            </td></tr>\n",
       "\t<tr><td>HPSI0114i-bezi_3</td><td>0.58269720      </td><td>success         </td><td>0.990335903     </td><td>success         </td><td>bezi            </td></tr>\n",
       "\t<tr><td>HPSI0114i-eipl_1</td><td>0.01287835      </td><td>failure         </td><td>0.008453323     </td><td>failure         </td><td>eipl            </td></tr>\n",
       "\t<tr><td>HPSI0114i-eipl_3</td><td>        NA      </td><td>not_assessed    </td><td>0.009314145     </td><td>failure         </td><td>eipl            </td></tr>\n",
       "\t<tr><td>HPSI0114i-fikt_3</td><td>0.40282686      </td><td>success         </td><td>0.950780075     </td><td>success         </td><td>fikt            </td></tr>\n",
       "\t<tr><td>HPSI0114i-iisa_1</td><td>        NA      </td><td>not_assessed    </td><td>0.981784364     </td><td>success         </td><td>iisa            </td></tr>\n",
       "</tbody>\n",
       "</table>\n"
      ],
      "text/latex": [
       "\\begin{tabular}{r|llllll}\n",
       " donor\\_id & diff\\_efficiency & diff\\_outcome & model\\_score & model\\_predicted\\_outcome & short\\_donor\\\\\n",
       "\\hline\n",
       "\t HPSI0114i-bezi\\_1 &         NA         & not\\_assessed     & 0.795830284        & success            & bezi              \\\\\n",
       "\t HPSI0114i-bezi\\_3 & 0.58269720         & success            & 0.990335903        & success            & bezi              \\\\\n",
       "\t HPSI0114i-eipl\\_1 & 0.01287835         & failure            & 0.008453323        & failure            & eipl              \\\\\n",
       "\t HPSI0114i-eipl\\_3 &         NA         & not\\_assessed     & 0.009314145        & failure            & eipl              \\\\\n",
       "\t HPSI0114i-fikt\\_3 & 0.40282686         & success            & 0.950780075        & success            & fikt              \\\\\n",
       "\t HPSI0114i-iisa\\_1 &         NA         & not\\_assessed     & 0.981784364        & success            & iisa              \\\\\n",
       "\\end{tabular}\n"
      ],
      "text/markdown": [
       "\n",
       "| donor_id | diff_efficiency | diff_outcome | model_score | model_predicted_outcome | short_donor |\n",
       "|---|---|---|---|---|---|\n",
       "| HPSI0114i-bezi_1 |         NA       | not_assessed     | 0.795830284      | success          | bezi             |\n",
       "| HPSI0114i-bezi_3 | 0.58269720       | success          | 0.990335903      | success          | bezi             |\n",
       "| HPSI0114i-eipl_1 | 0.01287835       | failure          | 0.008453323      | failure          | eipl             |\n",
       "| HPSI0114i-eipl_3 |         NA       | not_assessed     | 0.009314145      | failure          | eipl             |\n",
       "| HPSI0114i-fikt_3 | 0.40282686       | success          | 0.950780075      | success          | fikt             |\n",
       "| HPSI0114i-iisa_1 |         NA       | not_assessed     | 0.981784364      | success          | iisa             |\n",
       "\n"
      ],
      "text/plain": [
       "  donor_id         diff_efficiency diff_outcome model_score\n",
       "1 HPSI0114i-bezi_1         NA      not_assessed 0.795830284\n",
       "2 HPSI0114i-bezi_3 0.58269720      success      0.990335903\n",
       "3 HPSI0114i-eipl_1 0.01287835      failure      0.008453323\n",
       "4 HPSI0114i-eipl_3         NA      not_assessed 0.009314145\n",
       "5 HPSI0114i-fikt_3 0.40282686      success      0.950780075\n",
       "6 HPSI0114i-iisa_1         NA      not_assessed 0.981784364\n",
       "  model_predicted_outcome short_donor\n",
       "1 success                 bezi       \n",
       "2 success                 bezi       \n",
       "3 failure                 eipl       \n",
       "4 failure                 eipl       \n",
       "5 success                 fikt       \n",
       "6 success                 iisa       "
      ]
     },
     "metadata": {},
     "output_type": "display_data"
    }
   ],
   "source": [
    "df$short_donor = gsub(\"_.*\",\"\",gsub(\".*-\",\"\", df$donor_id))\n",
    "head(df)"
   ]
  },
  {
   "cell_type": "code",
   "execution_count": 6,
   "metadata": {},
   "outputs": [
    {
     "data": {
      "text/html": [
       "<table>\n",
       "<thead><tr><th></th><th scope=col>donor_id</th><th scope=col>diff_efficiency</th><th scope=col>diff_outcome</th><th scope=col>model_score</th><th scope=col>model_predicted_outcome</th><th scope=col>short_donor</th></tr></thead>\n",
       "<tbody>\n",
       "\t<tr><th scope=row>731</th><td>HPSI1014i-riun_1</td><td>NA              </td><td>not_assessed    </td><td>0.01262909      </td><td>failure         </td><td>riun            </td></tr>\n",
       "</tbody>\n",
       "</table>\n"
      ],
      "text/latex": [
       "\\begin{tabular}{r|llllll}\n",
       "  & donor\\_id & diff\\_efficiency & diff\\_outcome & model\\_score & model\\_predicted\\_outcome & short\\_donor\\\\\n",
       "\\hline\n",
       "\t731 & HPSI1014i-riun\\_1 & NA                 & not\\_assessed     & 0.01262909         & failure            & riun              \\\\\n",
       "\\end{tabular}\n"
      ],
      "text/markdown": [
       "\n",
       "| <!--/--> | donor_id | diff_efficiency | diff_outcome | model_score | model_predicted_outcome | short_donor |\n",
       "|---|---|---|---|---|---|---|\n",
       "| 731 | HPSI1014i-riun_1 | NA               | not_assessed     | 0.01262909       | failure          | riun             |\n",
       "\n"
      ],
      "text/plain": [
       "    donor_id         diff_efficiency diff_outcome model_score\n",
       "731 HPSI1014i-riun_1 NA              not_assessed 0.01262909 \n",
       "    model_predicted_outcome short_donor\n",
       "731 failure                 riun       "
      ]
     },
     "metadata": {},
     "output_type": "display_data"
    }
   ],
   "source": [
    "df[df$short_donor == 'riun',]"
   ]
  },
  {
   "cell_type": "code",
   "execution_count": 8,
   "metadata": {},
   "outputs": [
    {
     "data": {
      "text/html": [
       "<table>\n",
       "<thead><tr><th scope=col>donor_id</th><th scope=col>diff_efficiency</th><th scope=col>diff_outcome</th><th scope=col>model_score</th><th scope=col>model_predicted_outcome</th></tr></thead>\n",
       "<tbody>\n",
       "\t<tr><td>HPSI0114i-bezi_1</td><td>        NA      </td><td>not_assessed    </td><td>0.795830284     </td><td>success         </td></tr>\n",
       "\t<tr><td>HPSI0114i-bezi_3</td><td>0.58269720      </td><td>success         </td><td>0.990335903     </td><td>success         </td></tr>\n",
       "\t<tr><td>HPSI0114i-eipl_1</td><td>0.01287835      </td><td>failure         </td><td>0.008453323     </td><td>failure         </td></tr>\n",
       "\t<tr><td>HPSI0114i-eipl_3</td><td>        NA      </td><td>not_assessed    </td><td>0.009314145     </td><td>failure         </td></tr>\n",
       "\t<tr><td>HPSI0114i-fikt_3</td><td>0.40282686      </td><td>success         </td><td>0.950780075     </td><td>success         </td></tr>\n",
       "\t<tr><td>HPSI0114i-iisa_1</td><td>        NA      </td><td>not_assessed    </td><td>0.981784364     </td><td>success         </td></tr>\n",
       "</tbody>\n",
       "</table>\n"
      ],
      "text/latex": [
       "\\begin{tabular}{r|lllll}\n",
       " donor\\_id & diff\\_efficiency & diff\\_outcome & model\\_score & model\\_predicted\\_outcome\\\\\n",
       "\\hline\n",
       "\t HPSI0114i-bezi\\_1 &         NA         & not\\_assessed     & 0.795830284        & success           \\\\\n",
       "\t HPSI0114i-bezi\\_3 & 0.58269720         & success            & 0.990335903        & success           \\\\\n",
       "\t HPSI0114i-eipl\\_1 & 0.01287835         & failure            & 0.008453323        & failure           \\\\\n",
       "\t HPSI0114i-eipl\\_3 &         NA         & not\\_assessed     & 0.009314145        & failure           \\\\\n",
       "\t HPSI0114i-fikt\\_3 & 0.40282686         & success            & 0.950780075        & success           \\\\\n",
       "\t HPSI0114i-iisa\\_1 &         NA         & not\\_assessed     & 0.981784364        & success           \\\\\n",
       "\\end{tabular}\n"
      ],
      "text/markdown": [
       "\n",
       "| donor_id | diff_efficiency | diff_outcome | model_score | model_predicted_outcome |\n",
       "|---|---|---|---|---|\n",
       "| HPSI0114i-bezi_1 |         NA       | not_assessed     | 0.795830284      | success          |\n",
       "| HPSI0114i-bezi_3 | 0.58269720       | success          | 0.990335903      | success          |\n",
       "| HPSI0114i-eipl_1 | 0.01287835       | failure          | 0.008453323      | failure          |\n",
       "| HPSI0114i-eipl_3 |         NA       | not_assessed     | 0.009314145      | failure          |\n",
       "| HPSI0114i-fikt_3 | 0.40282686       | success          | 0.950780075      | success          |\n",
       "| HPSI0114i-iisa_1 |         NA       | not_assessed     | 0.981784364      | success          |\n",
       "\n"
      ],
      "text/plain": [
       "  donor_id         diff_efficiency diff_outcome model_score\n",
       "1 HPSI0114i-bezi_1         NA      not_assessed 0.795830284\n",
       "2 HPSI0114i-bezi_3 0.58269720      success      0.990335903\n",
       "3 HPSI0114i-eipl_1 0.01287835      failure      0.008453323\n",
       "4 HPSI0114i-eipl_3         NA      not_assessed 0.009314145\n",
       "5 HPSI0114i-fikt_3 0.40282686      success      0.950780075\n",
       "6 HPSI0114i-iisa_1         NA      not_assessed 0.981784364\n",
       "  model_predicted_outcome\n",
       "1 success                \n",
       "2 success                \n",
       "3 failure                \n",
       "4 failure                \n",
       "5 success                \n",
       "6 success                "
      ]
     },
     "metadata": {},
     "output_type": "display_data"
    }
   ],
   "source": [
    "filename = \"/nfs/leia/research/stegle/dseaton/hipsci/singlecell_neuroseq/data/analysis_results/20200907_data_freeze/differentiation_trajectories/differentiation_efficiency_predictive_model_scores.tsv\"\n",
    "score_df = read.csv(filename, sep = \"\\t\")\n",
    "head(score_df)"
   ]
  },
  {
   "cell_type": "code",
   "execution_count": 10,
   "metadata": {},
   "outputs": [
    {
     "data": {
      "image/png": "[encoded data removed]",
      "text/plain": [
       "plot without title"
      ]
     },
     "metadata": {},
     "output_type": "display_data"
    }
   ],
   "source": [
    "options(repr.plot.width=6, repr.plot.height=3.5)\n",
    "x = 0.02231\n",
    "ggplot(score_df, aes(x = model_score)) + geom_histogram(alpha = 0.6, binwidth = 0.04) + \n",
    "#     coord_cartesian(ylim = c(0, 2000), xlim(c(-0.6,0.6)) +\n",
    "    xlab(\"Predicted differentiation score\") + ylab(\"Number of lines\") +\n",
    "    geom_vline(xintercept = x, linetype=\"dashed\", col = \"black\") +\n",
    "    theme_classic() + theme(text = element_text(size=16))"
   ]
  },
  {
   "cell_type": "code",
   "execution_count": 11,
   "metadata": {},
   "outputs": [],
   "source": [
    "fig_dir = \"/hps/nobackup/stegle/users/acuomo/all_scripts/sc_neuroseq/figures/extended_figures/\""
   ]
  },
  {
   "cell_type": "code",
   "execution_count": 12,
   "metadata": {},
   "outputs": [
    {
     "data": {
      "text/html": [
       "<strong>png:</strong> 2"
      ],
      "text/latex": [
       "\\textbf{png:} 2"
      ],
      "text/markdown": [
       "**png:** 2"
      ],
      "text/plain": [
       "png \n",
       "  2 "
      ]
     },
     "metadata": {},
     "output_type": "display_data"
    }
   ],
   "source": [
    "pdf(paste0(fig_dir,\"SF_10a.pdf\"), width=6, height=3.5)\n",
    "ggplot(score_df, aes(x = model_score)) + geom_histogram(alpha = 0.6, binwidth = 0.04) + \n",
    "#     coord_cartesian(ylim = c(0, 2000), xlim(c(-0.6,0.6)) +\n",
    "    xlab(\"Predicted differentiation score\") + ylab(\"Number of lines\") +\n",
    "    geom_vline(xintercept = x, linetype=\"dashed\", col = \"black\") +\n",
    "    theme_classic() + theme(text = element_text(size=16))\n",
    "dev.off()"
   ]
  },
  {
   "cell_type": "code",
   "execution_count": 13,
   "metadata": {},
   "outputs": [
    {
     "data": {
      "text/html": [
       "0.125615763546798"
      ],
      "text/latex": [
       "0.125615763546798"
      ],
      "text/markdown": [
       "0.125615763546798"
      ],
      "text/plain": [
       "[1] 0.1256158"
      ]
     },
     "metadata": {},
     "output_type": "display_data"
    }
   ],
   "source": [
    "# T = 0.2\n",
    "T = 0.02231\n",
    "# nrow(df)\n",
    "df_fail = df[df$model_predicted_outcome == 'failure',]\n",
    "df_fail = df[df$model_score < T,]\n",
    "# nrow(df_fail)\n",
    "nrow(df_fail)/nrow(df)"
   ]
  },
  {
   "cell_type": "code",
   "execution_count": null,
   "metadata": {},
   "outputs": [],
   "source": []
  },
  {
   "cell_type": "code",
   "execution_count": 14,
   "metadata": {},
   "outputs": [
    {
     "data": {
      "text/html": [
       "540"
      ],
      "text/latex": [
       "540"
      ],
      "text/markdown": [
       "540"
      ],
      "text/plain": [
       "[1] 540"
      ]
     },
     "metadata": {},
     "output_type": "display_data"
    }
   ],
   "source": [
    "length(unique(df$short_donor))"
   ]
  },
  {
   "cell_type": "code",
   "execution_count": 19,
   "metadata": {},
   "outputs": [
    {
     "data": {
      "text/html": [
       "271"
      ],
      "text/latex": [
       "271"
      ],
      "text/markdown": [
       "271"
      ],
      "text/plain": [
       "[1] 271"
      ]
     },
     "metadata": {},
     "output_type": "display_data"
    },
    {
     "data": {
      "text/html": [
       "0.647929017719554"
      ],
      "text/latex": [
       "0.647929017719554"
      ],
      "text/markdown": [
       "0.647929017719554"
      ],
      "text/plain": [
       "[1] 0.647929"
      ]
     },
     "metadata": {},
     "output_type": "display_data"
    },
    {
     "data": {
      "text/html": [
       "0.745810119865905"
      ],
      "text/latex": [
       "0.745810119865905"
      ],
      "text/markdown": [
       "0.745810119865905"
      ],
      "text/plain": [
       "[1] 0.7458101"
      ]
     },
     "metadata": {},
     "output_type": "display_data"
    }
   ],
   "source": [
    "options(repr.plot.width=4, repr.plot.height=4.5)\n",
    "x <- c()\n",
    "y <- c()\n",
    "for (i in 1:length(unique(df$short_donor))){\n",
    "    donor = unique(df$short_donor)[i]\n",
    "    if (nrow(df[df$short_donor == donor,]) >1){\n",
    "        x = c(x,min(df[df$short_donor == donor,\"model_score\"]))\n",
    "        y = c(y,max(df[df$short_donor == donor,\"model_score\"]))\n",
    "    }\n",
    "}\n",
    "length(x)\n",
    "cor(x,y)\n",
    "cor(x,y,method = \"spearman\")\n",
    "# plot(x,y, xlab = \"model score (rep1)\", ylab = 'model score (rep2)', xlim = c(0,1), ylim= c(0,1))"
   ]
  },
  {
   "cell_type": "code",
   "execution_count": 20,
   "metadata": {},
   "outputs": [
    {
     "data": {
      "text/html": [
       "<table>\n",
       "<thead><tr><th scope=col>x</th><th scope=col>y</th></tr></thead>\n",
       "<tbody>\n",
       "\t<tr><td>0.795830284</td><td>0.990335903</td></tr>\n",
       "\t<tr><td>0.008453323</td><td>0.009314145</td></tr>\n",
       "\t<tr><td>0.981784364</td><td>0.993962664</td></tr>\n",
       "\t<tr><td>0.942446079</td><td>0.949775757</td></tr>\n",
       "\t<tr><td>0.953810905</td><td>0.994137758</td></tr>\n",
       "\t<tr><td>0.995567928</td><td>0.997590947</td></tr>\n",
       "</tbody>\n",
       "</table>\n"
      ],
      "text/latex": [
       "\\begin{tabular}{r|ll}\n",
       " x & y\\\\\n",
       "\\hline\n",
       "\t 0.795830284 & 0.990335903\\\\\n",
       "\t 0.008453323 & 0.009314145\\\\\n",
       "\t 0.981784364 & 0.993962664\\\\\n",
       "\t 0.942446079 & 0.949775757\\\\\n",
       "\t 0.953810905 & 0.994137758\\\\\n",
       "\t 0.995567928 & 0.997590947\\\\\n",
       "\\end{tabular}\n"
      ],
      "text/markdown": [
       "\n",
       "| x | y |\n",
       "|---|---|\n",
       "| 0.795830284 | 0.990335903 |\n",
       "| 0.008453323 | 0.009314145 |\n",
       "| 0.981784364 | 0.993962664 |\n",
       "| 0.942446079 | 0.949775757 |\n",
       "| 0.953810905 | 0.994137758 |\n",
       "| 0.995567928 | 0.997590947 |\n",
       "\n"
      ],
      "text/plain": [
       "  x           y          \n",
       "1 0.795830284 0.990335903\n",
       "2 0.008453323 0.009314145\n",
       "3 0.981784364 0.993962664\n",
       "4 0.942446079 0.949775757\n",
       "5 0.953810905 0.994137758\n",
       "6 0.995567928 0.997590947"
      ]
     },
     "metadata": {},
     "output_type": "display_data"
    }
   ],
   "source": [
    "df_to_plot = data.frame(x = x, y = y)\n",
    "head(df_to_plot)"
   ]
  },
  {
   "cell_type": "code",
   "execution_count": 22,
   "metadata": {},
   "outputs": [
    {
     "data": {
      "image/png": "[encoded data removed]",
      "text/plain": [
       "plot without title"
      ]
     },
     "metadata": {},
     "output_type": "display_data"
    }
   ],
   "source": [
    "options(repr.plot.width=4.5, repr.plot.height=4)\n",
    "ggplot(df_to_plot, aes(x = x, y = y)) + geom_point(size = 1.5, alpha = 0.8) + \n",
    "        geom_hline(yintercept = 0.0223, linetype = \"longdash\") + \n",
    "        geom_vline(xintercept = 0.0223, linetype = \"longdash\") +\n",
    "        theme_classic() + xlab(\"Predicted score \\n(replicate 1)\") + ylab(\"Predicted score \\n(replicate 2)\") + \n",
    "        theme(text = element_text(size=16))"
   ]
  },
  {
   "cell_type": "code",
   "execution_count": 23,
   "metadata": {},
   "outputs": [
    {
     "data": {
      "text/html": [
       "<strong>png:</strong> 2"
      ],
      "text/latex": [
       "\\textbf{png:} 2"
      ],
      "text/markdown": [
       "**png:** 2"
      ],
      "text/plain": [
       "png \n",
       "  2 "
      ]
     },
     "metadata": {},
     "output_type": "display_data"
    }
   ],
   "source": [
    "pdf(paste0(fig_dir,\"SF_10b.pdf\"), width=4.5, height=4)\n",
    "ggplot(df_to_plot, aes(x = x, y = y)) + geom_point(size = 1.5, alpha = 0.8) + \n",
    "        geom_hline(yintercept = 0.0223, linetype = \"longdash\") + \n",
    "        geom_vline(xintercept = 0.0223, linetype = \"longdash\") +\n",
    "        theme_classic() + xlab(\"Predicted score \\n(replicate 1)\") + ylab(\"Predicted score \\n(replicate 2)\") + \n",
    "        theme(text = element_text(size=16))\n",
    "dev.off()"
   ]
  },
  {
   "cell_type": "code",
   "execution_count": 24,
   "metadata": {},
   "outputs": [],
   "source": [
    "concordant_1 = c()\n",
    "concordant_0 = c()\n",
    "discordant = c()"
   ]
  },
  {
   "cell_type": "code",
   "execution_count": 25,
   "metadata": {},
   "outputs": [
    {
     "name": "stdout",
     "output_type": "stream",
     "text": [
      "[1] \"sohd\"\n"
     ]
    }
   ],
   "source": [
    "for (i in 1:length(unique(df$short_donor))){\n",
    "    donor = unique(df$short_donor)[i]\n",
    "    r = df[df$short_donor == donor,]\n",
    "    if (nrow(r)>2){\n",
    "        print(donor)\n",
    "    }\n",
    "    if (nrow(r)==2){\n",
    "        rep1 = r[r$short_donor == donor,\"donor_id\"][1]\n",
    "        rep2 = r[r$short_donor == donor,\"donor_id\"][2]\n",
    "        score1 = r[r$donor_id == rep1,\"model_score\"]\n",
    "        score2 = r[r$donor_id == rep2,\"model_score\"]\n",
    "        if (score1 > T & score2 > T){\n",
    "            concordant_1 = c(concordant_1,donor)\n",
    "        }\n",
    "        if (score1 <= T & score2 <= T){\n",
    "            concordant_0 = c(concordant_0,donor)\n",
    "        }\n",
    "        if ((score1 > T & score2 <= T) | (score1 <= T & score2 > T)){\n",
    "            discordant = c(discordant,donor)\n",
    "        }\n",
    "    }\n",
    "}"
   ]
  },
  {
   "cell_type": "code",
   "execution_count": 26,
   "metadata": {},
   "outputs": [
    {
     "data": {
      "text/html": [
       "13"
      ],
      "text/latex": [
       "13"
      ],
      "text/markdown": [
       "13"
      ],
      "text/plain": [
       "[1] 13"
      ]
     },
     "metadata": {},
     "output_type": "display_data"
    },
    {
     "data": {
      "text/html": [
       "208"
      ],
      "text/latex": [
       "208"
      ],
      "text/markdown": [
       "208"
      ],
      "text/plain": [
       "[1] 208"
      ]
     },
     "metadata": {},
     "output_type": "display_data"
    },
    {
     "data": {
      "text/html": [
       "49"
      ],
      "text/latex": [
       "49"
      ],
      "text/markdown": [
       "49"
      ],
      "text/plain": [
       "[1] 49"
      ]
     },
     "metadata": {},
     "output_type": "display_data"
    }
   ],
   "source": [
    "length(concordant_0)\n",
    "length(concordant_1)\n",
    "length(discordant)"
   ]
  },
  {
   "cell_type": "code",
   "execution_count": null,
   "metadata": {},
   "outputs": [],
   "source": []
  },
  {
   "cell_type": "code",
   "execution_count": null,
   "metadata": {},
   "outputs": [],
   "source": []
  },
  {
   "cell_type": "code",
   "execution_count": 27,
   "metadata": {},
   "outputs": [],
   "source": [
    "# bulk iPSC"
   ]
  },
  {
   "cell_type": "code",
   "execution_count": 28,
   "metadata": {},
   "outputs": [],
   "source": [
    "#t_file = '/nfs/leia/research/stegle/dseaton/hipsci/proteomics_analysis/data/analysis/IPSc.ISR.featureCounts.genes.counts.unique.stranded.tsv_counts.HQ_TMM_TPM.tsv.gz'\n",
    "t_file = '/hps/nobackup/hipsci/scratch/trans_eqtls/IPS_Bulk-RNA_Processing/Merged/IPS_Bulk-RNA_Processing/FullFreeze_Corrected_iPSC_20180506.txt.gz'\n",
    "\n",
    "t_df = read.csv(t_file,sep='\\t', row.names = 1)"
   ]
  },
  {
   "cell_type": "code",
   "execution_count": 29,
   "metadata": {},
   "outputs": [
    {
     "data": {
      "text/html": [
       "<table>\n",
       "<thead><tr><th></th><th scope=col>X1191d5e0.9a2a.4ba4.b322.a591912160ee</th><th scope=col>X1b4ab422.05e5.4891.906e.12e9e9c65745</th><th scope=col>X217cd7ee.bfe8.4d37.b014.e47187901dbe</th><th scope=col>X6a50e9bf.8d92.4bac.98f0.50eee10d91d4</th><th scope=col>X896a9050.1423.490a.a12e.3db6217b49d3</th><th scope=col>a9cadef1.380e.4c4f.a33c.a828a58680e0</th><th scope=col>c3b0cf52.6a8d.4bba.ad6f.aca07b4ce145</th><th scope=col>HPSI0114i.bezi_1.hs37d5</th><th scope=col>HPSI0114i.bezi_3.hs37d5</th><th scope=col>HPSI0114i.eipl_1.hs37d5</th><th scope=col>...</th><th scope=col>SRR5589736</th><th scope=col>SRR5589737</th><th scope=col>SRR5589738</th><th scope=col>SRR5589739</th><th scope=col>SRR5589740</th><th scope=col>SRR5589741</th><th scope=col>SRR5589742</th><th scope=col>SRR5589743</th><th scope=col>SRR5589744</th><th scope=col>SRR5589745</th></tr></thead>\n",
       "<tbody>\n",
       "\t<tr><th scope=row>ENSG00000223972</th><td>0.5344626</td><td>0.148611 </td><td>0.000000 </td><td>0.5858367</td><td>0.283967 </td><td>0.1444611</td><td>0.3525601</td><td>0.2403484</td><td>0.1164022</td><td>0.1521228</td><td>...      </td><td>0.2332243</td><td>0.7274514</td><td>0.000000 </td><td>0.000000 </td><td>0.00000  </td><td>0.2645803</td><td>0.4455507</td><td>0.000000 </td><td>0.4096429</td><td>0.7887012</td></tr>\n",
       "\t<tr><th scope=row>ENSG00000227232</th><td>6.1188713</td><td>5.498526 </td><td>5.530272 </td><td>5.8288173</td><td>5.259845 </td><td>5.6636704</td><td>5.6418591</td><td>5.9497365</td><td>5.8042281</td><td>5.9982958</td><td>...      </td><td>5.7525242</td><td>5.7235908</td><td>5.965397 </td><td>5.833703 </td><td>5.84738  </td><td>5.6856543</td><td>6.0737743</td><td>5.078349 </td><td>5.8858752</td><td>5.3667701</td></tr>\n",
       "</tbody>\n",
       "</table>\n"
      ],
      "text/latex": [
       "\\begin{tabular}{r|lllllllllllllllllllllllllllllllllllllllllllllllllllllllllllllllllllllllllllllllllllllllllllllllllllllllllllllllllllllllllllllllllllllllllllllllllllllllllllllllllllllllllllllllllllllllllllllllllllllllllllllllllllllllllllllllllllllllllllllllllllllllllllllllllllllllllllllllllllllllllllllllllllllllllllllllllllllllllllllllllllllllllllllllllllllllllllllllllllllllllllllllllllllllllllllllllllllllllllllllllllllllllllllllllllllllllllllllllllllllllllllllllllllllllllllllllllllllllllllllllllllllllllllllllllllllllllllllllllllllllllllllllllllllllllllllllllllllllllllllllllllllllllllllllllllllllllllllllllllllllllllllllllllllllllllllllllllllllllllllllllllllllllllllllllllllllllllllllllllllllllllllllllllllllllllllllllllllllllllllllllllllllllllllllllllllllllllllllllllllllllllllllllllllllllllllllllllllllllllllllllllllllllllllllllllllllllllllllllllllllllllllllllllllllllllllllllllllllllllllllllllllllllllllllllllllllllllllllllllllllllllllllllllllllllllllllllllllllllllllllllllllllllllllllllllllllllllllllllllllllllllllllllllllllllllllllllllllllllllllllllllllllllllllllllllllllllllllllllllllllllllllllllllllllllllllllllllllllllllllllllllllllllllllllllllllllllllllllllllllllllllllllllllllllllllllllllllllllllllllllllllllllllllllllllllllllllllllllllllllllllllllllllllllllllllllllllllllllllllllllllllllllllllllllllllllllllllllllllllllllllllllllllllllllllllllllllllllllllllllllllllllllllllllllllllllllllllllllllllllllllllllllllllllllllllllllllllllllllllllllll}\n",
       "  & X1191d5e0.9a2a.4ba4.b322.a591912160ee & X1b4ab422.05e5.4891.906e.12e9e9c65745 & X217cd7ee.bfe8.4d37.b014.e47187901dbe & X6a50e9bf.8d92.4bac.98f0.50eee10d91d4 & X896a9050.1423.490a.a12e.3db6217b49d3 & a9cadef1.380e.4c4f.a33c.a828a58680e0 & c3b0cf52.6a8d.4bba.ad6f.aca07b4ce145 & HPSI0114i.bezi\\_1.hs37d5 & HPSI0114i.bezi\\_3.hs37d5 & HPSI0114i.eipl\\_1.hs37d5 & ... & SRR5589736 & SRR5589737 & SRR5589738 & SRR5589739 & SRR5589740 & SRR5589741 & SRR5589742 & SRR5589743 & SRR5589744 & SRR5589745\\\\\n",
       "\\hline\n",
       "\tENSG00000223972 & 0.5344626 & 0.148611  & 0.000000  & 0.5858367 & 0.283967  & 0.1444611 & 0.3525601 & 0.2403484 & 0.1164022 & 0.1521228 & ...       & 0.2332243 & 0.7274514 & 0.000000  & 0.000000  & 0.00000   & 0.2645803 & 0.4455507 & 0.000000  & 0.4096429 & 0.7887012\\\\\n",
       "\tENSG00000227232 & 6.1188713 & 5.498526  & 5.530272  & 5.8288173 & 5.259845  & 5.6636704 & 5.6418591 & 5.9497365 & 5.8042281 & 5.9982958 & ...       & 5.7525242 & 5.7235908 & 5.965397  & 5.833703  & 5.84738   & 5.6856543 & 6.0737743 & 5.078349  & 5.8858752 & 5.3667701\\\\\n",
       "\\end{tabular}\n"
      ],
      "text/markdown": [
       "\n",
       "| <!--/--> | X1191d5e0.9a2a.4ba4.b322.a591912160ee | X1b4ab422.05e5.4891.906e.12e9e9c65745 | X217cd7ee.bfe8.4d37.b014.e47187901dbe | X6a50e9bf.8d92.4bac.98f0.50eee10d91d4 | X896a9050.1423.490a.a12e.3db6217b49d3 | a9cadef1.380e.4c4f.a33c.a828a58680e0 | c3b0cf52.6a8d.4bba.ad6f.aca07b4ce145 | HPSI0114i.bezi_1.hs37d5 | HPSI0114i.bezi_3.hs37d5 | HPSI0114i.eipl_1.hs37d5 | ... | SRR5589736 | SRR5589737 | SRR5589738 | SRR5589739 | SRR5589740 | SRR5589741 | SRR5589742 | SRR5589743 | SRR5589744 | SRR5589745 |\n",
       "|---|---|---|---|---|---|---|---|---|---|---|---|---|---|---|---|---|---|---|---|---|---|\n",
       "| ENSG00000223972 | 0.5344626 | 0.148611  | 0.000000  | 0.5858367 | 0.283967  | 0.1444611 | 0.3525601 | 0.2403484 | 0.1164022 | 0.1521228 | ...       | 0.2332243 | 0.7274514 | 0.000000  | 0.000000  | 0.00000   | 0.2645803 | 0.4455507 | 0.000000  | 0.4096429 | 0.7887012 |\n",
       "| ENSG00000227232 | 6.1188713 | 5.498526  | 5.530272  | 5.8288173 | 5.259845  | 5.6636704 | 5.6418591 | 5.9497365 | 5.8042281 | 5.9982958 | ...       | 5.7525242 | 5.7235908 | 5.965397  | 5.833703  | 5.84738   | 5.6856543 | 6.0737743 | 5.078349  | 5.8858752 | 5.3667701 |\n",
       "\n"
      ],
      "text/plain": [
       "                X1191d5e0.9a2a.4ba4.b322.a591912160ee\n",
       "ENSG00000223972 0.5344626                            \n",
       "ENSG00000227232 6.1188713                            \n",
       "                X1b4ab422.05e5.4891.906e.12e9e9c65745\n",
       "ENSG00000223972 0.148611                             \n",
       "ENSG00000227232 5.498526                             \n",
       "                X217cd7ee.bfe8.4d37.b014.e47187901dbe\n",
       "ENSG00000223972 0.000000                             \n",
       "ENSG00000227232 5.530272                             \n",
       "                X6a50e9bf.8d92.4bac.98f0.50eee10d91d4\n",
       "ENSG00000223972 0.5858367                            \n",
       "ENSG00000227232 5.8288173                            \n",
       "                X896a9050.1423.490a.a12e.3db6217b49d3\n",
       "ENSG00000223972 0.283967                             \n",
       "ENSG00000227232 5.259845                             \n",
       "                a9cadef1.380e.4c4f.a33c.a828a58680e0\n",
       "ENSG00000223972 0.1444611                           \n",
       "ENSG00000227232 5.6636704                           \n",
       "                c3b0cf52.6a8d.4bba.ad6f.aca07b4ce145 HPSI0114i.bezi_1.hs37d5\n",
       "ENSG00000223972 0.3525601                            0.2403484              \n",
       "ENSG00000227232 5.6418591                            5.9497365              \n",
       "                HPSI0114i.bezi_3.hs37d5 HPSI0114i.eipl_1.hs37d5 ... SRR5589736\n",
       "ENSG00000223972 0.1164022               0.1521228               ... 0.2332243 \n",
       "ENSG00000227232 5.8042281               5.9982958               ... 5.7525242 \n",
       "                SRR5589737 SRR5589738 SRR5589739 SRR5589740 SRR5589741\n",
       "ENSG00000223972 0.7274514  0.000000   0.000000   0.00000    0.2645803 \n",
       "ENSG00000227232 5.7235908  5.965397   5.833703   5.84738    5.6856543 \n",
       "                SRR5589742 SRR5589743 SRR5589744 SRR5589745\n",
       "ENSG00000223972 0.4455507  0.000000   0.4096429  0.7887012 \n",
       "ENSG00000227232 6.0737743  5.078349   5.8858752  5.3667701 "
      ]
     },
     "metadata": {},
     "output_type": "display_data"
    }
   ],
   "source": [
    "head(t_df,2)"
   ]
  },
  {
   "cell_type": "code",
   "execution_count": 30,
   "metadata": {},
   "outputs": [],
   "source": [
    "new_cols = gsub('\\\\.','-',gsub('.hs37d5','',colnames(t_df)))"
   ]
  },
  {
   "cell_type": "code",
   "execution_count": 31,
   "metadata": {},
   "outputs": [
    {
     "data": {
      "text/html": [
       "<table>\n",
       "<thead><tr><th></th><th scope=col>X1191d5e0-9a2a-4ba4-b322-a591912160ee</th><th scope=col>X1b4ab422-05e5-4891-906e-12e9e9c65745</th><th scope=col>X217cd7ee-bfe8-4d37-b014-e47187901dbe</th><th scope=col>X6a50e9bf-8d92-4bac-98f0-50eee10d91d4</th><th scope=col>X896a9050-1423-490a-a12e-3db6217b49d3</th><th scope=col>a9cadef1-380e-4c4f-a33c-a828a58680e0</th><th scope=col>c3b0cf52-6a8d-4bba-ad6f-aca07b4ce145</th><th scope=col>HPSI0114i-bezi_1</th><th scope=col>HPSI0114i-bezi_3</th><th scope=col>HPSI0114i-eipl_1</th><th scope=col>...</th><th scope=col>SRR5589736</th><th scope=col>SRR5589737</th><th scope=col>SRR5589738</th><th scope=col>SRR5589739</th><th scope=col>SRR5589740</th><th scope=col>SRR5589741</th><th scope=col>SRR5589742</th><th scope=col>SRR5589743</th><th scope=col>SRR5589744</th><th scope=col>SRR5589745</th></tr></thead>\n",
       "<tbody>\n",
       "\t<tr><th scope=row>ENSG00000223972</th><td>0.5344626</td><td>0.148611 </td><td>0.000000 </td><td>0.5858367</td><td>0.283967 </td><td>0.1444611</td><td>0.3525601</td><td>0.2403484</td><td>0.1164022</td><td>0.1521228</td><td>...      </td><td>0.2332243</td><td>0.7274514</td><td>0.000000 </td><td>0.000000 </td><td>0.00000  </td><td>0.2645803</td><td>0.4455507</td><td>0.000000 </td><td>0.4096429</td><td>0.7887012</td></tr>\n",
       "\t<tr><th scope=row>ENSG00000227232</th><td>6.1188713</td><td>5.498526 </td><td>5.530272 </td><td>5.8288173</td><td>5.259845 </td><td>5.6636704</td><td>5.6418591</td><td>5.9497365</td><td>5.8042281</td><td>5.9982958</td><td>...      </td><td>5.7525242</td><td>5.7235908</td><td>5.965397 </td><td>5.833703 </td><td>5.84738  </td><td>5.6856543</td><td>6.0737743</td><td>5.078349 </td><td>5.8858752</td><td>5.3667701</td></tr>\n",
       "</tbody>\n",
       "</table>\n"
      ],
      "text/latex": [
       "\\begin{tabular}{r|lllllllllllllllllllllllllllllllllllllllllllllllllllllllllllllllllllllllllllllllllllllllllllllllllllllllllllllllllllllllllllllllllllllllllllllllllllllllllllllllllllllllllllllllllllllllllllllllllllllllllllllllllllllllllllllllllllllllllllllllllllllllllllllllllllllllllllllllllllllllllllllllllllllllllllllllllllllllllllllllllllllllllllllllllllllllllllllllllllllllllllllllllllllllllllllllllllllllllllllllllllllllllllllllllllllllllllllllllllllllllllllllllllllllllllllllllllllllllllllllllllllllllllllllllllllllllllllllllllllllllllllllllllllllllllllllllllllllllllllllllllllllllllllllllllllllllllllllllllllllllllllllllllllllllllllllllllllllllllllllllllllllllllllllllllllllllllllllllllllllllllllllllllllllllllllllllllllllllllllllllllllllllllllllllllllllllllllllllllllllllllllllllllllllllllllllllllllllllllllllllllllllllllllllllllllllllllllllllllllllllllllllllllllllllllllllllllllllllllllllllllllllllllllllllllllllllllllllllllllllllllllllllllllllllllllllllllllllllllllllllllllllllllllllllllllllllllllllllllllllllllllllllllllllllllllllllllllllllllllllllllllllllllllllllllllllllllllllllllllllllllllllllllllllllllllllllllllllllllllllllllllllllllllllllllllllllllllllllllllllllllllllllllllllllllllllllllllllllllllllllllllllllllllllllllllllllllllllllllllllllllllllllllllllllllllllllllllllllllllllllllllllllllllllllllllllllllllllllllllllllllllllllllllllllllllllllllllllllllllllllllllllllllllllllllllllllllllllllllllllllllllllllllllllllllllllllllllllllllllllllll}\n",
       "  & X1191d5e0-9a2a-4ba4-b322-a591912160ee & X1b4ab422-05e5-4891-906e-12e9e9c65745 & X217cd7ee-bfe8-4d37-b014-e47187901dbe & X6a50e9bf-8d92-4bac-98f0-50eee10d91d4 & X896a9050-1423-490a-a12e-3db6217b49d3 & a9cadef1-380e-4c4f-a33c-a828a58680e0 & c3b0cf52-6a8d-4bba-ad6f-aca07b4ce145 & HPSI0114i-bezi\\_1 & HPSI0114i-bezi\\_3 & HPSI0114i-eipl\\_1 & ... & SRR5589736 & SRR5589737 & SRR5589738 & SRR5589739 & SRR5589740 & SRR5589741 & SRR5589742 & SRR5589743 & SRR5589744 & SRR5589745\\\\\n",
       "\\hline\n",
       "\tENSG00000223972 & 0.5344626 & 0.148611  & 0.000000  & 0.5858367 & 0.283967  & 0.1444611 & 0.3525601 & 0.2403484 & 0.1164022 & 0.1521228 & ...       & 0.2332243 & 0.7274514 & 0.000000  & 0.000000  & 0.00000   & 0.2645803 & 0.4455507 & 0.000000  & 0.4096429 & 0.7887012\\\\\n",
       "\tENSG00000227232 & 6.1188713 & 5.498526  & 5.530272  & 5.8288173 & 5.259845  & 5.6636704 & 5.6418591 & 5.9497365 & 5.8042281 & 5.9982958 & ...       & 5.7525242 & 5.7235908 & 5.965397  & 5.833703  & 5.84738   & 5.6856543 & 6.0737743 & 5.078349  & 5.8858752 & 5.3667701\\\\\n",
       "\\end{tabular}\n"
      ],
      "text/markdown": [
       "\n",
       "| <!--/--> | X1191d5e0-9a2a-4ba4-b322-a591912160ee | X1b4ab422-05e5-4891-906e-12e9e9c65745 | X217cd7ee-bfe8-4d37-b014-e47187901dbe | X6a50e9bf-8d92-4bac-98f0-50eee10d91d4 | X896a9050-1423-490a-a12e-3db6217b49d3 | a9cadef1-380e-4c4f-a33c-a828a58680e0 | c3b0cf52-6a8d-4bba-ad6f-aca07b4ce145 | HPSI0114i-bezi_1 | HPSI0114i-bezi_3 | HPSI0114i-eipl_1 | ... | SRR5589736 | SRR5589737 | SRR5589738 | SRR5589739 | SRR5589740 | SRR5589741 | SRR5589742 | SRR5589743 | SRR5589744 | SRR5589745 |\n",
       "|---|---|---|---|---|---|---|---|---|---|---|---|---|---|---|---|---|---|---|---|---|---|\n",
       "| ENSG00000223972 | 0.5344626 | 0.148611  | 0.000000  | 0.5858367 | 0.283967  | 0.1444611 | 0.3525601 | 0.2403484 | 0.1164022 | 0.1521228 | ...       | 0.2332243 | 0.7274514 | 0.000000  | 0.000000  | 0.00000   | 0.2645803 | 0.4455507 | 0.000000  | 0.4096429 | 0.7887012 |\n",
       "| ENSG00000227232 | 6.1188713 | 5.498526  | 5.530272  | 5.8288173 | 5.259845  | 5.6636704 | 5.6418591 | 5.9497365 | 5.8042281 | 5.9982958 | ...       | 5.7525242 | 5.7235908 | 5.965397  | 5.833703  | 5.84738   | 5.6856543 | 6.0737743 | 5.078349  | 5.8858752 | 5.3667701 |\n",
       "\n"
      ],
      "text/plain": [
       "                X1191d5e0-9a2a-4ba4-b322-a591912160ee\n",
       "ENSG00000223972 0.5344626                            \n",
       "ENSG00000227232 6.1188713                            \n",
       "                X1b4ab422-05e5-4891-906e-12e9e9c65745\n",
       "ENSG00000223972 0.148611                             \n",
       "ENSG00000227232 5.498526                             \n",
       "                X217cd7ee-bfe8-4d37-b014-e47187901dbe\n",
       "ENSG00000223972 0.000000                             \n",
       "ENSG00000227232 5.530272                             \n",
       "                X6a50e9bf-8d92-4bac-98f0-50eee10d91d4\n",
       "ENSG00000223972 0.5858367                            \n",
       "ENSG00000227232 5.8288173                            \n",
       "                X896a9050-1423-490a-a12e-3db6217b49d3\n",
       "ENSG00000223972 0.283967                             \n",
       "ENSG00000227232 5.259845                             \n",
       "                a9cadef1-380e-4c4f-a33c-a828a58680e0\n",
       "ENSG00000223972 0.1444611                           \n",
       "ENSG00000227232 5.6636704                           \n",
       "                c3b0cf52-6a8d-4bba-ad6f-aca07b4ce145 HPSI0114i-bezi_1\n",
       "ENSG00000223972 0.3525601                            0.2403484       \n",
       "ENSG00000227232 5.6418591                            5.9497365       \n",
       "                HPSI0114i-bezi_3 HPSI0114i-eipl_1 ... SRR5589736 SRR5589737\n",
       "ENSG00000223972 0.1164022        0.1521228        ... 0.2332243  0.7274514 \n",
       "ENSG00000227232 5.8042281        5.9982958        ... 5.7525242  5.7235908 \n",
       "                SRR5589738 SRR5589739 SRR5589740 SRR5589741 SRR5589742\n",
       "ENSG00000223972 0.000000   0.000000   0.00000    0.2645803  0.4455507 \n",
       "ENSG00000227232 5.965397   5.833703   5.84738    5.6856543  6.0737743 \n",
       "                SRR5589743 SRR5589744 SRR5589745\n",
       "ENSG00000223972 0.000000   0.4096429  0.7887012 \n",
       "ENSG00000227232 5.078349   5.8858752  5.3667701 "
      ]
     },
     "metadata": {},
     "output_type": "display_data"
    }
   ],
   "source": [
    "colnames(t_df) = new_cols\n",
    "head(t_df,2)"
   ]
  },
  {
   "cell_type": "code",
   "execution_count": 32,
   "metadata": {},
   "outputs": [
    {
     "data": {
      "text/html": [
       "<table>\n",
       "<thead><tr><th></th><th scope=col>HPSI0114i-bezi_1</th><th scope=col>HPSI0114i-bezi_3</th><th scope=col>HPSI0114i-eipl_1</th><th scope=col>HPSI0114i-eipl_3</th><th scope=col>HPSI0114i-fikt_3</th><th scope=col>HPSI0114i-iisa_1</th><th scope=col>HPSI0114i-iisa_3</th><th scope=col>HPSI0114i-joxm_1</th><th scope=col>HPSI0114i-kolf_2</th><th scope=col>HPSI0114i-kolf_3</th><th scope=col>...</th><th scope=col>HPSI1213i-babk_2</th><th scope=col>HPSI1213i-foqj_2</th><th scope=col>HPSI1213i-hehd_1</th><th scope=col>HPSI1213i-hehd_2</th><th scope=col>HPSI1213i-nekd_1</th><th scope=col>HPSI1213i-pahc_4</th><th scope=col>HPSI1213i-pahc_5</th><th scope=col>HPSI1213i-tolg_4</th><th scope=col>HPSI1213i-tolg_6</th><th scope=col>HPSI1213i-xuja_2</th></tr></thead>\n",
       "<tbody>\n",
       "\t<tr><th scope=row>ENSG00000223972</th><td>0.2403484 </td><td>0.1164022 </td><td>0.1521228 </td><td>0.5431085 </td><td>0.00000   </td><td>0.6143799 </td><td>0.346214  </td><td>0.2556513 </td><td>0.4662304 </td><td>0.7333012 </td><td>...       </td><td>0.3188272 </td><td>0.09838474</td><td>0.2364095 </td><td>0.2464212 </td><td>0.1670463 </td><td>0.5254766 </td><td>0.4030978 </td><td>0.5636254 </td><td>0.5362689 </td><td>0.1287882 </td></tr>\n",
       "\t<tr><th scope=row>ENSG00000227232</th><td>5.9497365 </td><td>5.8042281 </td><td>5.9982958 </td><td>6.1035282 </td><td>5.31315   </td><td>5.3678778 </td><td>5.645318  </td><td>5.9977255 </td><td>5.6332916 </td><td>6.2739845 </td><td>...       </td><td>5.7577560 </td><td>6.03089424</td><td>5.5266274 </td><td>5.6275444 </td><td>5.8062306 </td><td>6.2851530 </td><td>5.7794632 </td><td>5.3130083 </td><td>5.6329879 </td><td>6.2684811 </td></tr>\n",
       "</tbody>\n",
       "</table>\n"
      ],
      "text/latex": [
       "\\begin{tabular}{r|lllllllllllllllllllllllllllllllllllllllllllllllllllllllllllllllllllllllllllllllllllllllllllllllllllllllllllllllllllllllllllllllllllllllllllllllllllllllllllllllllllllllllllllllllllllllllllllllllllllllllllllllllllllllllllllllllllllllllllllllllllllllllllllllllllllllllllllllllllllllllllllllllllllllllllllllllllllllllllllllllllllllllllllllllllllllllllllllllllllllllllllllllllllllllllllllllllllllllllllllllllllllllllllllllllllllllllllllllllllllllllllllllllllllllllllllllllllllllllllllllllllllllllllllllllllllllllllllllllllllllllllllllllllllllllllllllllllllllllllllllllllllllllllllllllllllllllllllllllllllllllllllllllllllllllllllllllllllllllllllllllllllllllllllllllllllllllllllllllllllllllllllllllllllllllllllllllllllllllllllllllllllllllllllllllllllllllllllllllllllllllllllllllllllllllllllllllllllllllllllllllllllllllllll}\n",
       "  & HPSI0114i-bezi\\_1 & HPSI0114i-bezi\\_3 & HPSI0114i-eipl\\_1 & HPSI0114i-eipl\\_3 & HPSI0114i-fikt\\_3 & HPSI0114i-iisa\\_1 & HPSI0114i-iisa\\_3 & HPSI0114i-joxm\\_1 & HPSI0114i-kolf\\_2 & HPSI0114i-kolf\\_3 & ... & HPSI1213i-babk\\_2 & HPSI1213i-foqj\\_2 & HPSI1213i-hehd\\_1 & HPSI1213i-hehd\\_2 & HPSI1213i-nekd\\_1 & HPSI1213i-pahc\\_4 & HPSI1213i-pahc\\_5 & HPSI1213i-tolg\\_4 & HPSI1213i-tolg\\_6 & HPSI1213i-xuja\\_2\\\\\n",
       "\\hline\n",
       "\tENSG00000223972 & 0.2403484  & 0.1164022  & 0.1521228  & 0.5431085  & 0.00000    & 0.6143799  & 0.346214   & 0.2556513  & 0.4662304  & 0.7333012  & ...        & 0.3188272  & 0.09838474 & 0.2364095  & 0.2464212  & 0.1670463  & 0.5254766  & 0.4030978  & 0.5636254  & 0.5362689  & 0.1287882 \\\\\n",
       "\tENSG00000227232 & 5.9497365  & 5.8042281  & 5.9982958  & 6.1035282  & 5.31315    & 5.3678778  & 5.645318   & 5.9977255  & 5.6332916  & 6.2739845  & ...        & 5.7577560  & 6.03089424 & 5.5266274  & 5.6275444  & 5.8062306  & 6.2851530  & 5.7794632  & 5.3130083  & 5.6329879  & 6.2684811 \\\\\n",
       "\\end{tabular}\n"
      ],
      "text/markdown": [
       "\n",
       "| <!--/--> | HPSI0114i-bezi_1 | HPSI0114i-bezi_3 | HPSI0114i-eipl_1 | HPSI0114i-eipl_3 | HPSI0114i-fikt_3 | HPSI0114i-iisa_1 | HPSI0114i-iisa_3 | HPSI0114i-joxm_1 | HPSI0114i-kolf_2 | HPSI0114i-kolf_3 | ... | HPSI1213i-babk_2 | HPSI1213i-foqj_2 | HPSI1213i-hehd_1 | HPSI1213i-hehd_2 | HPSI1213i-nekd_1 | HPSI1213i-pahc_4 | HPSI1213i-pahc_5 | HPSI1213i-tolg_4 | HPSI1213i-tolg_6 | HPSI1213i-xuja_2 |\n",
       "|---|---|---|---|---|---|---|---|---|---|---|---|---|---|---|---|---|---|---|---|---|---|\n",
       "| ENSG00000223972 | 0.2403484  | 0.1164022  | 0.1521228  | 0.5431085  | 0.00000    | 0.6143799  | 0.346214   | 0.2556513  | 0.4662304  | 0.7333012  | ...        | 0.3188272  | 0.09838474 | 0.2364095  | 0.2464212  | 0.1670463  | 0.5254766  | 0.4030978  | 0.5636254  | 0.5362689  | 0.1287882  |\n",
       "| ENSG00000227232 | 5.9497365  | 5.8042281  | 5.9982958  | 6.1035282  | 5.31315    | 5.3678778  | 5.645318   | 5.9977255  | 5.6332916  | 6.2739845  | ...        | 5.7577560  | 6.03089424 | 5.5266274  | 5.6275444  | 5.8062306  | 6.2851530  | 5.7794632  | 5.3130083  | 5.6329879  | 6.2684811  |\n",
       "\n"
      ],
      "text/plain": [
       "                HPSI0114i-bezi_1 HPSI0114i-bezi_3 HPSI0114i-eipl_1\n",
       "ENSG00000223972 0.2403484        0.1164022        0.1521228       \n",
       "ENSG00000227232 5.9497365        5.8042281        5.9982958       \n",
       "                HPSI0114i-eipl_3 HPSI0114i-fikt_3 HPSI0114i-iisa_1\n",
       "ENSG00000223972 0.5431085        0.00000          0.6143799       \n",
       "ENSG00000227232 6.1035282        5.31315          5.3678778       \n",
       "                HPSI0114i-iisa_3 HPSI0114i-joxm_1 HPSI0114i-kolf_2\n",
       "ENSG00000223972 0.346214         0.2556513        0.4662304       \n",
       "ENSG00000227232 5.645318         5.9977255        5.6332916       \n",
       "                HPSI0114i-kolf_3 ... HPSI1213i-babk_2 HPSI1213i-foqj_2\n",
       "ENSG00000223972 0.7333012        ... 0.3188272        0.09838474      \n",
       "ENSG00000227232 6.2739845        ... 5.7577560        6.03089424      \n",
       "                HPSI1213i-hehd_1 HPSI1213i-hehd_2 HPSI1213i-nekd_1\n",
       "ENSG00000223972 0.2364095        0.2464212        0.1670463       \n",
       "ENSG00000227232 5.5266274        5.6275444        5.8062306       \n",
       "                HPSI1213i-pahc_4 HPSI1213i-pahc_5 HPSI1213i-tolg_4\n",
       "ENSG00000223972 0.5254766        0.4030978        0.5636254       \n",
       "ENSG00000227232 6.2851530        5.7794632        5.3130083       \n",
       "                HPSI1213i-tolg_6 HPSI1213i-xuja_2\n",
       "ENSG00000223972 0.5362689        0.1287882       \n",
       "ENSG00000227232 5.6329879        6.2684811       "
      ]
     },
     "metadata": {},
     "output_type": "display_data"
    },
    {
     "data": {
      "text/html": [
       "56057"
      ],
      "text/latex": [
       "56057"
      ],
      "text/markdown": [
       "56057"
      ],
      "text/plain": [
       "[1] 56057"
      ]
     },
     "metadata": {},
     "output_type": "display_data"
    }
   ],
   "source": [
    "t_df = t_df[, grep('HPSI',colnames(t_df))]\n",
    "head(t_df,2)\n",
    "nrow(t_df)"
   ]
  },
  {
   "cell_type": "code",
   "execution_count": 33,
   "metadata": {},
   "outputs": [
    {
     "data": {
      "text/html": [
       "<table>\n",
       "<thead><tr><th></th><th scope=col>UTF1</th><th scope=col>TAC3</th><th scope=col>donor_id</th></tr></thead>\n",
       "<tbody>\n",
       "\t<tr><th scope=row>HPSI0114i-bezi_1</th><td>4.702476        </td><td>5.564156        </td><td>HPSI0114i-bezi_1</td></tr>\n",
       "\t<tr><th scope=row>HPSI0114i-bezi_3</th><td>2.979417        </td><td>5.493768        </td><td>HPSI0114i-bezi_3</td></tr>\n",
       "\t<tr><th scope=row>HPSI0114i-eipl_1</th><td>8.503246        </td><td>3.347745        </td><td>HPSI0114i-eipl_1</td></tr>\n",
       "\t<tr><th scope=row>HPSI0114i-eipl_3</th><td>8.949141        </td><td>4.493165        </td><td>HPSI0114i-eipl_3</td></tr>\n",
       "\t<tr><th scope=row>HPSI0114i-fikt_3</th><td>4.679852        </td><td>5.328349        </td><td>HPSI0114i-fikt_3</td></tr>\n",
       "\t<tr><th scope=row>HPSI0114i-iisa_1</th><td>4.883805        </td><td>5.763036        </td><td>HPSI0114i-iisa_1</td></tr>\n",
       "</tbody>\n",
       "</table>\n"
      ],
      "text/latex": [
       "\\begin{tabular}{r|lll}\n",
       "  & UTF1 & TAC3 & donor\\_id\\\\\n",
       "\\hline\n",
       "\tHPSI0114i-bezi\\_1 & 4.702476           & 5.564156           & HPSI0114i-bezi\\_1\\\\\n",
       "\tHPSI0114i-bezi\\_3 & 2.979417           & 5.493768           & HPSI0114i-bezi\\_3\\\\\n",
       "\tHPSI0114i-eipl\\_1 & 8.503246           & 3.347745           & HPSI0114i-eipl\\_1\\\\\n",
       "\tHPSI0114i-eipl\\_3 & 8.949141           & 4.493165           & HPSI0114i-eipl\\_3\\\\\n",
       "\tHPSI0114i-fikt\\_3 & 4.679852           & 5.328349           & HPSI0114i-fikt\\_3\\\\\n",
       "\tHPSI0114i-iisa\\_1 & 4.883805           & 5.763036           & HPSI0114i-iisa\\_1\\\\\n",
       "\\end{tabular}\n"
      ],
      "text/markdown": [
       "\n",
       "| <!--/--> | UTF1 | TAC3 | donor_id |\n",
       "|---|---|---|---|\n",
       "| HPSI0114i-bezi_1 | 4.702476         | 5.564156         | HPSI0114i-bezi_1 |\n",
       "| HPSI0114i-bezi_3 | 2.979417         | 5.493768         | HPSI0114i-bezi_3 |\n",
       "| HPSI0114i-eipl_1 | 8.503246         | 3.347745         | HPSI0114i-eipl_1 |\n",
       "| HPSI0114i-eipl_3 | 8.949141         | 4.493165         | HPSI0114i-eipl_3 |\n",
       "| HPSI0114i-fikt_3 | 4.679852         | 5.328349         | HPSI0114i-fikt_3 |\n",
       "| HPSI0114i-iisa_1 | 4.883805         | 5.763036         | HPSI0114i-iisa_1 |\n",
       "\n"
      ],
      "text/plain": [
       "                 UTF1     TAC3     donor_id        \n",
       "HPSI0114i-bezi_1 4.702476 5.564156 HPSI0114i-bezi_1\n",
       "HPSI0114i-bezi_3 2.979417 5.493768 HPSI0114i-bezi_3\n",
       "HPSI0114i-eipl_1 8.503246 3.347745 HPSI0114i-eipl_1\n",
       "HPSI0114i-eipl_3 8.949141 4.493165 HPSI0114i-eipl_3\n",
       "HPSI0114i-fikt_3 4.679852 5.328349 HPSI0114i-fikt_3\n",
       "HPSI0114i-iisa_1 4.883805 5.763036 HPSI0114i-iisa_1"
      ]
     },
     "metadata": {},
     "output_type": "display_data"
    }
   ],
   "source": [
    "bulk_df = as.data.frame(t(t_df[c(\"ENSG00000171794\",\"ENSG00000166863\"),]))\n",
    "colnames(bulk_df) = c('UTF1','TAC3')\n",
    "bulk_df$donor_id = rownames(bulk_df)\n",
    "head(bulk_df)"
   ]
  },
  {
   "cell_type": "code",
   "execution_count": 34,
   "metadata": {},
   "outputs": [],
   "source": [
    "m_U = min(bulk_df$UTF1)\n",
    "M_U = max(bulk_df$UTF1)\n",
    "m_T = min(bulk_df$TAC3)\n",
    "M_T = max(bulk_df$TAC3)"
   ]
  },
  {
   "cell_type": "code",
   "execution_count": 35,
   "metadata": {},
   "outputs": [],
   "source": [
    "# library(dplyr)"
   ]
  },
  {
   "cell_type": "code",
   "execution_count": 36,
   "metadata": {},
   "outputs": [
    {
     "data": {
      "text/html": [
       "<table>\n",
       "<thead><tr><th scope=col>donor_id</th><th scope=col>diff_efficiency</th><th scope=col>diff_outcome</th><th scope=col>model_score</th><th scope=col>model_predicted_outcome</th><th scope=col>short_donor</th></tr></thead>\n",
       "<tbody>\n",
       "\t<tr><td>HPSI0114i-bezi_1</td><td>        NA      </td><td>not_assessed    </td><td>0.795830284     </td><td>success         </td><td>bezi            </td></tr>\n",
       "\t<tr><td>HPSI0114i-bezi_3</td><td>0.58269720      </td><td>success         </td><td>0.990335903     </td><td>success         </td><td>bezi            </td></tr>\n",
       "\t<tr><td>HPSI0114i-eipl_1</td><td>0.01287835      </td><td>failure         </td><td>0.008453323     </td><td>failure         </td><td>eipl            </td></tr>\n",
       "\t<tr><td>HPSI0114i-eipl_3</td><td>        NA      </td><td>not_assessed    </td><td>0.009314145     </td><td>failure         </td><td>eipl            </td></tr>\n",
       "\t<tr><td>HPSI0114i-fikt_3</td><td>0.40282686      </td><td>success         </td><td>0.950780075     </td><td>success         </td><td>fikt            </td></tr>\n",
       "\t<tr><td>HPSI0114i-iisa_1</td><td>        NA      </td><td>not_assessed    </td><td>0.981784364     </td><td>success         </td><td>iisa            </td></tr>\n",
       "</tbody>\n",
       "</table>\n"
      ],
      "text/latex": [
       "\\begin{tabular}{r|llllll}\n",
       " donor\\_id & diff\\_efficiency & diff\\_outcome & model\\_score & model\\_predicted\\_outcome & short\\_donor\\\\\n",
       "\\hline\n",
       "\t HPSI0114i-bezi\\_1 &         NA         & not\\_assessed     & 0.795830284        & success            & bezi              \\\\\n",
       "\t HPSI0114i-bezi\\_3 & 0.58269720         & success            & 0.990335903        & success            & bezi              \\\\\n",
       "\t HPSI0114i-eipl\\_1 & 0.01287835         & failure            & 0.008453323        & failure            & eipl              \\\\\n",
       "\t HPSI0114i-eipl\\_3 &         NA         & not\\_assessed     & 0.009314145        & failure            & eipl              \\\\\n",
       "\t HPSI0114i-fikt\\_3 & 0.40282686         & success            & 0.950780075        & success            & fikt              \\\\\n",
       "\t HPSI0114i-iisa\\_1 &         NA         & not\\_assessed     & 0.981784364        & success            & iisa              \\\\\n",
       "\\end{tabular}\n"
      ],
      "text/markdown": [
       "\n",
       "| donor_id | diff_efficiency | diff_outcome | model_score | model_predicted_outcome | short_donor |\n",
       "|---|---|---|---|---|---|\n",
       "| HPSI0114i-bezi_1 |         NA       | not_assessed     | 0.795830284      | success          | bezi             |\n",
       "| HPSI0114i-bezi_3 | 0.58269720       | success          | 0.990335903      | success          | bezi             |\n",
       "| HPSI0114i-eipl_1 | 0.01287835       | failure          | 0.008453323      | failure          | eipl             |\n",
       "| HPSI0114i-eipl_3 |         NA       | not_assessed     | 0.009314145      | failure          | eipl             |\n",
       "| HPSI0114i-fikt_3 | 0.40282686       | success          | 0.950780075      | success          | fikt             |\n",
       "| HPSI0114i-iisa_1 |         NA       | not_assessed     | 0.981784364      | success          | iisa             |\n",
       "\n"
      ],
      "text/plain": [
       "  donor_id         diff_efficiency diff_outcome model_score\n",
       "1 HPSI0114i-bezi_1         NA      not_assessed 0.795830284\n",
       "2 HPSI0114i-bezi_3 0.58269720      success      0.990335903\n",
       "3 HPSI0114i-eipl_1 0.01287835      failure      0.008453323\n",
       "4 HPSI0114i-eipl_3         NA      not_assessed 0.009314145\n",
       "5 HPSI0114i-fikt_3 0.40282686      success      0.950780075\n",
       "6 HPSI0114i-iisa_1         NA      not_assessed 0.981784364\n",
       "  model_predicted_outcome short_donor\n",
       "1 success                 bezi       \n",
       "2 success                 bezi       \n",
       "3 failure                 eipl       \n",
       "4 failure                 eipl       \n",
       "5 success                 fikt       \n",
       "6 success                 iisa       "
      ]
     },
     "metadata": {},
     "output_type": "display_data"
    },
    {
     "data": {
      "text/html": [
       "<table>\n",
       "<thead><tr><th scope=col>donor_id</th><th scope=col>diff_efficiency</th><th scope=col>diff_outcome</th><th scope=col>model_score</th><th scope=col>model_predicted_outcome</th><th scope=col>short_donor</th><th scope=col>donor_diff_results</th></tr></thead>\n",
       "<tbody>\n",
       "\t<tr><td>HPSI0114i-bezi_1</td><td>        NA      </td><td>not_assessed    </td><td>0.795830284     </td><td>success         </td><td>bezi            </td><td>concordant_1    </td></tr>\n",
       "\t<tr><td>HPSI0114i-bezi_3</td><td>0.58269720      </td><td>success         </td><td>0.990335903     </td><td>success         </td><td>bezi            </td><td>concordant_1    </td></tr>\n",
       "\t<tr><td>HPSI0114i-eipl_1</td><td>0.01287835      </td><td>failure         </td><td>0.008453323     </td><td>failure         </td><td>eipl            </td><td>concordant_0    </td></tr>\n",
       "\t<tr><td>HPSI0114i-eipl_3</td><td>        NA      </td><td>not_assessed    </td><td>0.009314145     </td><td>failure         </td><td>eipl            </td><td>concordant_0    </td></tr>\n",
       "\t<tr><td>HPSI0114i-fikt_3</td><td>0.40282686      </td><td>success         </td><td>0.950780075     </td><td>success         </td><td>fikt            </td><td>one_line_only   </td></tr>\n",
       "\t<tr><td>HPSI0114i-iisa_1</td><td>        NA      </td><td>not_assessed    </td><td>0.981784364     </td><td>success         </td><td>iisa            </td><td>concordant_1    </td></tr>\n",
       "</tbody>\n",
       "</table>\n"
      ],
      "text/latex": [
       "\\begin{tabular}{r|lllllll}\n",
       " donor\\_id & diff\\_efficiency & diff\\_outcome & model\\_score & model\\_predicted\\_outcome & short\\_donor & donor\\_diff\\_results\\\\\n",
       "\\hline\n",
       "\t HPSI0114i-bezi\\_1 &         NA         & not\\_assessed     & 0.795830284        & success            & bezi               & concordant\\_1    \\\\\n",
       "\t HPSI0114i-bezi\\_3 & 0.58269720         & success            & 0.990335903        & success            & bezi               & concordant\\_1    \\\\\n",
       "\t HPSI0114i-eipl\\_1 & 0.01287835         & failure            & 0.008453323        & failure            & eipl               & concordant\\_0    \\\\\n",
       "\t HPSI0114i-eipl\\_3 &         NA         & not\\_assessed     & 0.009314145        & failure            & eipl               & concordant\\_0    \\\\\n",
       "\t HPSI0114i-fikt\\_3 & 0.40282686         & success            & 0.950780075        & success            & fikt               & one\\_line\\_only \\\\\n",
       "\t HPSI0114i-iisa\\_1 &         NA         & not\\_assessed     & 0.981784364        & success            & iisa               & concordant\\_1    \\\\\n",
       "\\end{tabular}\n"
      ],
      "text/markdown": [
       "\n",
       "| donor_id | diff_efficiency | diff_outcome | model_score | model_predicted_outcome | short_donor | donor_diff_results |\n",
       "|---|---|---|---|---|---|---|\n",
       "| HPSI0114i-bezi_1 |         NA       | not_assessed     | 0.795830284      | success          | bezi             | concordant_1     |\n",
       "| HPSI0114i-bezi_3 | 0.58269720       | success          | 0.990335903      | success          | bezi             | concordant_1     |\n",
       "| HPSI0114i-eipl_1 | 0.01287835       | failure          | 0.008453323      | failure          | eipl             | concordant_0     |\n",
       "| HPSI0114i-eipl_3 |         NA       | not_assessed     | 0.009314145      | failure          | eipl             | concordant_0     |\n",
       "| HPSI0114i-fikt_3 | 0.40282686       | success          | 0.950780075      | success          | fikt             | one_line_only    |\n",
       "| HPSI0114i-iisa_1 |         NA       | not_assessed     | 0.981784364      | success          | iisa             | concordant_1     |\n",
       "\n"
      ],
      "text/plain": [
       "  donor_id         diff_efficiency diff_outcome model_score\n",
       "1 HPSI0114i-bezi_1         NA      not_assessed 0.795830284\n",
       "2 HPSI0114i-bezi_3 0.58269720      success      0.990335903\n",
       "3 HPSI0114i-eipl_1 0.01287835      failure      0.008453323\n",
       "4 HPSI0114i-eipl_3         NA      not_assessed 0.009314145\n",
       "5 HPSI0114i-fikt_3 0.40282686      success      0.950780075\n",
       "6 HPSI0114i-iisa_1         NA      not_assessed 0.981784364\n",
       "  model_predicted_outcome short_donor donor_diff_results\n",
       "1 success                 bezi        concordant_1      \n",
       "2 success                 bezi        concordant_1      \n",
       "3 failure                 eipl        concordant_0      \n",
       "4 failure                 eipl        concordant_0      \n",
       "5 success                 fikt        one_line_only     \n",
       "6 success                 iisa        concordant_1      "
      ]
     },
     "metadata": {},
     "output_type": "display_data"
    }
   ],
   "source": [
    "head(df)\n",
    "df$donor_diff_results = 'one_line_only'\n",
    "df$donor_diff_results[df$short_donor %in% concordant_1] = 'concordant_1'\n",
    "df$donor_diff_results[df$short_donor %in% concordant_0] = 'concordant_0'\n",
    "df$donor_diff_results[df$short_donor %in% discordant] = 'discordant'\n",
    "df[df$short_donor == 'sohd',\"donor_diff_results\"] = 'concordant_1'\n",
    "head(df)"
   ]
  },
  {
   "cell_type": "code",
   "execution_count": 37,
   "metadata": {},
   "outputs": [],
   "source": [
    "write.csv(df, \"/hps/nobackup/stegle/users/acuomo/all_scripts/sc_neuroseq/diff_efficiency/predicted_diff_efficiency_hipsci_lines_including_concordant_discordant_info.csv\",\n",
    "         row.names = F, quote = F)"
   ]
  },
  {
   "cell_type": "code",
   "execution_count": 38,
   "metadata": {},
   "outputs": [
    {
     "name": "stderr",
     "output_type": "stream",
     "text": [
      "\n",
      "Attaching package: ‘dplyr’\n",
      "\n",
      "The following objects are masked from ‘package:stats’:\n",
      "\n",
      "    filter, lag\n",
      "\n",
      "The following objects are masked from ‘package:base’:\n",
      "\n",
      "    intersect, setdiff, setequal, union\n",
      "\n"
     ]
    }
   ],
   "source": [
    "library(dplyr)"
   ]
  },
  {
   "cell_type": "code",
   "execution_count": 39,
   "metadata": {
    "scrolled": true
   },
   "outputs": [
    {
     "name": "stderr",
     "output_type": "stream",
     "text": [
      "Warning message:\n",
      "“Column `donor_id` joining factor and character vector, coercing into character vector”"
     ]
    },
    {
     "data": {
      "text/html": [
       "<table>\n",
       "<thead><tr><th scope=col>donor_id</th><th scope=col>diff_efficiency</th><th scope=col>diff_outcome</th><th scope=col>model_score</th><th scope=col>model_predicted_outcome</th><th scope=col>short_donor</th><th scope=col>donor_diff_results</th><th scope=col>rep</th><th scope=col>UTF1</th><th scope=col>TAC3</th></tr></thead>\n",
       "<tbody>\n",
       "\t<tr><td>HPSI0114i-eipl_1</td><td>0.01287835      </td><td>failure         </td><td>0.008453323     </td><td>failure         </td><td>eipl            </td><td>concordant_0    </td><td>rep1            </td><td>8.503246        </td><td>3.347745        </td></tr>\n",
       "\t<tr><td>HPSI0114i-eipl_3</td><td>        NA      </td><td>not_assessed    </td><td>0.009314145     </td><td>failure         </td><td>eipl            </td><td>concordant_0    </td><td>rep2            </td><td>8.949141        </td><td>4.493165        </td></tr>\n",
       "</tbody>\n",
       "</table>\n"
      ],
      "text/latex": [
       "\\begin{tabular}{r|llllllllll}\n",
       " donor\\_id & diff\\_efficiency & diff\\_outcome & model\\_score & model\\_predicted\\_outcome & short\\_donor & donor\\_diff\\_results & rep & UTF1 & TAC3\\\\\n",
       "\\hline\n",
       "\t HPSI0114i-eipl\\_1 & 0.01287835         & failure            & 0.008453323        & failure            & eipl               & concordant\\_0     & rep1               & 8.503246           & 3.347745          \\\\\n",
       "\t HPSI0114i-eipl\\_3 &         NA         & not\\_assessed     & 0.009314145        & failure            & eipl               & concordant\\_0     & rep2               & 8.949141           & 4.493165          \\\\\n",
       "\\end{tabular}\n"
      ],
      "text/markdown": [
       "\n",
       "| donor_id | diff_efficiency | diff_outcome | model_score | model_predicted_outcome | short_donor | donor_diff_results | rep | UTF1 | TAC3 |\n",
       "|---|---|---|---|---|---|---|---|---|---|\n",
       "| HPSI0114i-eipl_1 | 0.01287835       | failure          | 0.008453323      | failure          | eipl             | concordant_0     | rep1             | 8.503246         | 3.347745         |\n",
       "| HPSI0114i-eipl_3 |         NA       | not_assessed     | 0.009314145      | failure          | eipl             | concordant_0     | rep2             | 8.949141         | 4.493165         |\n",
       "\n"
      ],
      "text/plain": [
       "  donor_id         diff_efficiency diff_outcome model_score\n",
       "1 HPSI0114i-eipl_1 0.01287835      failure      0.008453323\n",
       "2 HPSI0114i-eipl_3         NA      not_assessed 0.009314145\n",
       "  model_predicted_outcome short_donor donor_diff_results rep  UTF1     TAC3    \n",
       "1 failure                 eipl        concordant_0       rep1 8.503246 3.347745\n",
       "2 failure                 eipl        concordant_0       rep2 8.949141 4.493165"
      ]
     },
     "metadata": {},
     "output_type": "display_data"
    }
   ],
   "source": [
    "df_00 = df[df$short_donor %in% concordant_0,]\n",
    "df_00$rep = 'rep1'\n",
    "df_00[seq(2,nrow(df_00),2),'rep'] = 'rep2'\n",
    "# head(df_00,2)\n",
    "\n",
    "df0 = inner_join(df_00, bulk_df, by = \"donor_id\")\n",
    "head(df0,2)"
   ]
  },
  {
   "cell_type": "code",
   "execution_count": 40,
   "metadata": {},
   "outputs": [
    {
     "data": {
      "text/html": [
       "<ol class=list-inline>\n",
       "\t<li>'eipl'</li>\n",
       "\t<li>'kozf'</li>\n",
       "\t<li>'oilg'</li>\n",
       "\t<li>'eoko'</li>\n",
       "\t<li>'ceik'</li>\n",
       "\t<li>'aicq'</li>\n",
       "\t<li>'jepf'</li>\n",
       "\t<li>'jory'</li>\n",
       "\t<li>'suqd'</li>\n",
       "\t<li>'lipl'</li>\n",
       "\t<li>'uixy'</li>\n",
       "\t<li>'hikt'</li>\n",
       "\t<li>'moyn'</li>\n",
       "</ol>\n"
      ],
      "text/latex": [
       "\\begin{enumerate*}\n",
       "\\item 'eipl'\n",
       "\\item 'kozf'\n",
       "\\item 'oilg'\n",
       "\\item 'eoko'\n",
       "\\item 'ceik'\n",
       "\\item 'aicq'\n",
       "\\item 'jepf'\n",
       "\\item 'jory'\n",
       "\\item 'suqd'\n",
       "\\item 'lipl'\n",
       "\\item 'uixy'\n",
       "\\item 'hikt'\n",
       "\\item 'moyn'\n",
       "\\end{enumerate*}\n"
      ],
      "text/markdown": [
       "1. 'eipl'\n",
       "2. 'kozf'\n",
       "3. 'oilg'\n",
       "4. 'eoko'\n",
       "5. 'ceik'\n",
       "6. 'aicq'\n",
       "7. 'jepf'\n",
       "8. 'jory'\n",
       "9. 'suqd'\n",
       "10. 'lipl'\n",
       "11. 'uixy'\n",
       "12. 'hikt'\n",
       "13. 'moyn'\n",
       "\n",
       "\n"
      ],
      "text/plain": [
       " [1] \"eipl\" \"kozf\" \"oilg\" \"eoko\" \"ceik\" \"aicq\" \"jepf\" \"jory\" \"suqd\" \"lipl\"\n",
       "[11] \"uixy\" \"hikt\" \"moyn\""
      ]
     },
     "metadata": {},
     "output_type": "display_data"
    }
   ],
   "source": [
    "unique(df_00$short_donor)"
   ]
  },
  {
   "cell_type": "code",
   "execution_count": 41,
   "metadata": {},
   "outputs": [
    {
     "name": "stderr",
     "output_type": "stream",
     "text": [
      "Warning message:\n",
      "“Column `donor_id` joining factor and character vector, coercing into character vector”"
     ]
    },
    {
     "data": {
      "text/html": [
       "<table>\n",
       "<thead><tr><th scope=col>donor_id</th><th scope=col>diff_efficiency</th><th scope=col>diff_outcome</th><th scope=col>model_score</th><th scope=col>model_predicted_outcome</th><th scope=col>short_donor</th><th scope=col>donor_diff_results</th><th scope=col>rep</th><th scope=col>UTF1</th><th scope=col>TAC3</th></tr></thead>\n",
       "<tbody>\n",
       "\t<tr><td>HPSI0114i-bezi_1</td><td>       NA       </td><td>not_assessed    </td><td>0.7958303       </td><td>success         </td><td>bezi            </td><td>concordant_1    </td><td>rep1            </td><td>4.702476        </td><td>5.564156        </td></tr>\n",
       "\t<tr><td>HPSI0114i-bezi_3</td><td>0.5826972       </td><td>success         </td><td>0.9903359       </td><td>success         </td><td>bezi            </td><td>concordant_1    </td><td>rep2            </td><td>2.979417        </td><td>5.493768        </td></tr>\n",
       "</tbody>\n",
       "</table>\n"
      ],
      "text/latex": [
       "\\begin{tabular}{r|llllllllll}\n",
       " donor\\_id & diff\\_efficiency & diff\\_outcome & model\\_score & model\\_predicted\\_outcome & short\\_donor & donor\\_diff\\_results & rep & UTF1 & TAC3\\\\\n",
       "\\hline\n",
       "\t HPSI0114i-bezi\\_1 &        NA          & not\\_assessed     & 0.7958303          & success            & bezi               & concordant\\_1     & rep1               & 4.702476           & 5.564156          \\\\\n",
       "\t HPSI0114i-bezi\\_3 & 0.5826972          & success            & 0.9903359          & success            & bezi               & concordant\\_1     & rep2               & 2.979417           & 5.493768          \\\\\n",
       "\\end{tabular}\n"
      ],
      "text/markdown": [
       "\n",
       "| donor_id | diff_efficiency | diff_outcome | model_score | model_predicted_outcome | short_donor | donor_diff_results | rep | UTF1 | TAC3 |\n",
       "|---|---|---|---|---|---|---|---|---|---|\n",
       "| HPSI0114i-bezi_1 |        NA        | not_assessed     | 0.7958303        | success          | bezi             | concordant_1     | rep1             | 4.702476         | 5.564156         |\n",
       "| HPSI0114i-bezi_3 | 0.5826972        | success          | 0.9903359        | success          | bezi             | concordant_1     | rep2             | 2.979417         | 5.493768         |\n",
       "\n"
      ],
      "text/plain": [
       "  donor_id         diff_efficiency diff_outcome model_score\n",
       "1 HPSI0114i-bezi_1        NA       not_assessed 0.7958303  \n",
       "2 HPSI0114i-bezi_3 0.5826972       success      0.9903359  \n",
       "  model_predicted_outcome short_donor donor_diff_results rep  UTF1     TAC3    \n",
       "1 success                 bezi        concordant_1       rep1 4.702476 5.564156\n",
       "2 success                 bezi        concordant_1       rep2 2.979417 5.493768"
      ]
     },
     "metadata": {},
     "output_type": "display_data"
    }
   ],
   "source": [
    "df_11 = df[df$short_donor %in% concordant_1,]\n",
    "df_11$rep = 'rep1'\n",
    "df_11[seq(2,nrow(df_11),2),'rep'] = 'rep2'\n",
    "# head(df_00,2)\n",
    "\n",
    "df1 = inner_join(df_11, bulk_df, by = \"donor_id\")\n",
    "head(df1,2)"
   ]
  },
  {
   "cell_type": "code",
   "execution_count": 42,
   "metadata": {},
   "outputs": [
    {
     "name": "stderr",
     "output_type": "stream",
     "text": [
      "Warning message:\n",
      "“Column `donor_id` joining factor and character vector, coercing into character vector”"
     ]
    },
    {
     "data": {
      "text/html": [
       "<table>\n",
       "<thead><tr><th scope=col>donor_id</th><th scope=col>diff_efficiency</th><th scope=col>diff_outcome</th><th scope=col>model_score</th><th scope=col>model_predicted_outcome</th><th scope=col>short_donor</th><th scope=col>donor_diff_results</th><th scope=col>rep</th><th scope=col>UTF1</th><th scope=col>TAC3</th></tr></thead>\n",
       "<tbody>\n",
       "\t<tr><td>HPSI0115i-aion_2</td><td>0.7118205       </td><td>success         </td><td>9.746932e-01    </td><td>success         </td><td>aion            </td><td>discordant      </td><td>rep2            </td><td>6.565273        </td><td>4.743942        </td></tr>\n",
       "\t<tr><td>HPSI0115i-aion_3</td><td>       NA       </td><td>not_assessed    </td><td>1.187752e-05    </td><td>failure         </td><td>aion            </td><td>discordant      </td><td>rep1            </td><td>9.488479        </td><td>2.133053        </td></tr>\n",
       "</tbody>\n",
       "</table>\n"
      ],
      "text/latex": [
       "\\begin{tabular}{r|llllllllll}\n",
       " donor\\_id & diff\\_efficiency & diff\\_outcome & model\\_score & model\\_predicted\\_outcome & short\\_donor & donor\\_diff\\_results & rep & UTF1 & TAC3\\\\\n",
       "\\hline\n",
       "\t HPSI0115i-aion\\_2 & 0.7118205          & success            & 9.746932e-01       & success            & aion               & discordant         & rep2               & 6.565273           & 4.743942          \\\\\n",
       "\t HPSI0115i-aion\\_3 &        NA          & not\\_assessed     & 1.187752e-05       & failure            & aion               & discordant         & rep1               & 9.488479           & 2.133053          \\\\\n",
       "\\end{tabular}\n"
      ],
      "text/markdown": [
       "\n",
       "| donor_id | diff_efficiency | diff_outcome | model_score | model_predicted_outcome | short_donor | donor_diff_results | rep | UTF1 | TAC3 |\n",
       "|---|---|---|---|---|---|---|---|---|---|\n",
       "| HPSI0115i-aion_2 | 0.7118205        | success          | 9.746932e-01     | success          | aion             | discordant       | rep2             | 6.565273         | 4.743942         |\n",
       "| HPSI0115i-aion_3 |        NA        | not_assessed     | 1.187752e-05     | failure          | aion             | discordant       | rep1             | 9.488479         | 2.133053         |\n",
       "\n"
      ],
      "text/plain": [
       "  donor_id         diff_efficiency diff_outcome model_score \n",
       "1 HPSI0115i-aion_2 0.7118205       success      9.746932e-01\n",
       "2 HPSI0115i-aion_3        NA       not_assessed 1.187752e-05\n",
       "  model_predicted_outcome short_donor donor_diff_results rep  UTF1     TAC3    \n",
       "1 success                 aion        discordant         rep2 6.565273 4.743942\n",
       "2 failure                 aion        discordant         rep1 9.488479 2.133053"
      ]
     },
     "metadata": {},
     "output_type": "display_data"
    }
   ],
   "source": [
    "df_01 = df[df$short_donor %in% discordant,]\n",
    "df_01$rep = 'rep1'\n",
    "for (donor in unique(df_01$short_donor)){\n",
    "    r = df_01[df_01$short_donor == donor,]\n",
    "#     print(head(r))\n",
    "    df_01[df_01$short_donor == donor & df_01$model_score == min(r$model_score),'rep'] = 'rep1'\n",
    "    df_01[df_01$short_donor == donor & df_01$model_score == max(r$model_score),'rep'] = 'rep2'\n",
    "}\n",
    "# head(df_01)\n",
    "df01 = inner_join(df_01, bulk_df, by = \"donor_id\")\n",
    "head(df01,2)"
   ]
  },
  {
   "cell_type": "code",
   "execution_count": 43,
   "metadata": {},
   "outputs": [
    {
     "data": {
      "text/html": [
       "<ol class=list-inline>\n",
       "\t<li>'aion'</li>\n",
       "\t<li>'qaqp'</li>\n",
       "\t<li>'xaka'</li>\n",
       "\t<li>'feec'</li>\n",
       "\t<li>'aiid'</li>\n",
       "\t<li>'vieg'</li>\n",
       "\t<li>'bubh'</li>\n",
       "\t<li>'sojd'</li>\n",
       "\t<li>'muwv'</li>\n",
       "\t<li>'vats'</li>\n",
       "\t<li>'eevy'</li>\n",
       "\t<li>'iooi'</li>\n",
       "\t<li>'ourj'</li>\n",
       "\t<li>'ruah'</li>\n",
       "\t<li>'zige'</li>\n",
       "\t<li>'xegx'</li>\n",
       "\t<li>'fiaj'</li>\n",
       "\t<li>'qajt'</li>\n",
       "\t<li>'hapz'</li>\n",
       "\t<li>'iuoc'</li>\n",
       "\t<li>'oadp'</li>\n",
       "\t<li>'oazw'</li>\n",
       "\t<li>'pews'</li>\n",
       "\t<li>'raet'</li>\n",
       "\t<li>'vebd'</li>\n",
       "\t<li>'zukb'</li>\n",
       "\t<li>'auim'</li>\n",
       "\t<li>'oomz'</li>\n",
       "\t<li>'miaj'</li>\n",
       "\t<li>'puhk'</li>\n",
       "\t<li>'voce'</li>\n",
       "\t<li>'biln'</li>\n",
       "\t<li>'rily'</li>\n",
       "\t<li>'uegn'</li>\n",
       "\t<li>'darw'</li>\n",
       "\t<li>'keui'</li>\n",
       "\t<li>'kute'</li>\n",
       "\t<li>'nufh'</li>\n",
       "\t<li>'oatm'</li>\n",
       "\t<li>'siqu'</li>\n",
       "\t<li>'kije'</li>\n",
       "\t<li>'lise'</li>\n",
       "\t<li>'vajy'</li>\n",
       "\t<li>'zipi'</li>\n",
       "\t<li>'jufd'</li>\n",
       "\t<li>'geve'</li>\n",
       "\t<li>'mebq'</li>\n",
       "\t<li>'wakr'</li>\n",
       "\t<li>'wiau'</li>\n",
       "</ol>\n"
      ],
      "text/latex": [
       "\\begin{enumerate*}\n",
       "\\item 'aion'\n",
       "\\item 'qaqp'\n",
       "\\item 'xaka'\n",
       "\\item 'feec'\n",
       "\\item 'aiid'\n",
       "\\item 'vieg'\n",
       "\\item 'bubh'\n",
       "\\item 'sojd'\n",
       "\\item 'muwv'\n",
       "\\item 'vats'\n",
       "\\item 'eevy'\n",
       "\\item 'iooi'\n",
       "\\item 'ourj'\n",
       "\\item 'ruah'\n",
       "\\item 'zige'\n",
       "\\item 'xegx'\n",
       "\\item 'fiaj'\n",
       "\\item 'qajt'\n",
       "\\item 'hapz'\n",
       "\\item 'iuoc'\n",
       "\\item 'oadp'\n",
       "\\item 'oazw'\n",
       "\\item 'pews'\n",
       "\\item 'raet'\n",
       "\\item 'vebd'\n",
       "\\item 'zukb'\n",
       "\\item 'auim'\n",
       "\\item 'oomz'\n",
       "\\item 'miaj'\n",
       "\\item 'puhk'\n",
       "\\item 'voce'\n",
       "\\item 'biln'\n",
       "\\item 'rily'\n",
       "\\item 'uegn'\n",
       "\\item 'darw'\n",
       "\\item 'keui'\n",
       "\\item 'kute'\n",
       "\\item 'nufh'\n",
       "\\item 'oatm'\n",
       "\\item 'siqu'\n",
       "\\item 'kije'\n",
       "\\item 'lise'\n",
       "\\item 'vajy'\n",
       "\\item 'zipi'\n",
       "\\item 'jufd'\n",
       "\\item 'geve'\n",
       "\\item 'mebq'\n",
       "\\item 'wakr'\n",
       "\\item 'wiau'\n",
       "\\end{enumerate*}\n"
      ],
      "text/markdown": [
       "1. 'aion'\n",
       "2. 'qaqp'\n",
       "3. 'xaka'\n",
       "4. 'feec'\n",
       "5. 'aiid'\n",
       "6. 'vieg'\n",
       "7. 'bubh'\n",
       "8. 'sojd'\n",
       "9. 'muwv'\n",
       "10. 'vats'\n",
       "11. 'eevy'\n",
       "12. 'iooi'\n",
       "13. 'ourj'\n",
       "14. 'ruah'\n",
       "15. 'zige'\n",
       "16. 'xegx'\n",
       "17. 'fiaj'\n",
       "18. 'qajt'\n",
       "19. 'hapz'\n",
       "20. 'iuoc'\n",
       "21. 'oadp'\n",
       "22. 'oazw'\n",
       "23. 'pews'\n",
       "24. 'raet'\n",
       "25. 'vebd'\n",
       "26. 'zukb'\n",
       "27. 'auim'\n",
       "28. 'oomz'\n",
       "29. 'miaj'\n",
       "30. 'puhk'\n",
       "31. 'voce'\n",
       "32. 'biln'\n",
       "33. 'rily'\n",
       "34. 'uegn'\n",
       "35. 'darw'\n",
       "36. 'keui'\n",
       "37. 'kute'\n",
       "38. 'nufh'\n",
       "39. 'oatm'\n",
       "40. 'siqu'\n",
       "41. 'kije'\n",
       "42. 'lise'\n",
       "43. 'vajy'\n",
       "44. 'zipi'\n",
       "45. 'jufd'\n",
       "46. 'geve'\n",
       "47. 'mebq'\n",
       "48. 'wakr'\n",
       "49. 'wiau'\n",
       "\n",
       "\n"
      ],
      "text/plain": [
       " [1] \"aion\" \"qaqp\" \"xaka\" \"feec\" \"aiid\" \"vieg\" \"bubh\" \"sojd\" \"muwv\" \"vats\"\n",
       "[11] \"eevy\" \"iooi\" \"ourj\" \"ruah\" \"zige\" \"xegx\" \"fiaj\" \"qajt\" \"hapz\" \"iuoc\"\n",
       "[21] \"oadp\" \"oazw\" \"pews\" \"raet\" \"vebd\" \"zukb\" \"auim\" \"oomz\" \"miaj\" \"puhk\"\n",
       "[31] \"voce\" \"biln\" \"rily\" \"uegn\" \"darw\" \"keui\" \"kute\" \"nufh\" \"oatm\" \"siqu\"\n",
       "[41] \"kije\" \"lise\" \"vajy\" \"zipi\" \"jufd\" \"geve\" \"mebq\" \"wakr\" \"wiau\""
      ]
     },
     "metadata": {},
     "output_type": "display_data"
    }
   ],
   "source": [
    "unique(df_01$short_donor)"
   ]
  },
  {
   "cell_type": "code",
   "execution_count": 44,
   "metadata": {},
   "outputs": [
    {
     "name": "stderr",
     "output_type": "stream",
     "text": [
      "\n",
      "********************************************************\n",
      "Note: As of version 1.0.0, cowplot does not change the\n",
      "  default ggplot2 theme anymore. To recover the previous\n",
      "  behavior, execute:\n",
      "  theme_set(theme_cowplot())\n",
      "********************************************************\n",
      "\n",
      "\n",
      "Attaching package: ‘cowplot’\n",
      "\n",
      "The following object is masked from ‘package:ggthemes’:\n",
      "\n",
      "    theme_map\n",
      "\n"
     ]
    }
   ],
   "source": [
    "library(ggplot2)\n",
    "library(ggthemes)\n",
    "library(cowplot)\n",
    "mypalette = \"Primary colors with a vibrant twist\""
   ]
  },
  {
   "cell_type": "code",
   "execution_count": 46,
   "metadata": {},
   "outputs": [
    {
     "data": {
      "image/png": "[encoded data removed]",
      "text/plain": [
       "plot without title"
      ]
     },
     "metadata": {},
     "output_type": "display_data"
    }
   ],
   "source": [
    "options(repr.plot.width=7, repr.plot.height=3)\n",
    "p1 = ggplot(df0, aes(x = rep, y = UTF1, colour = rep)) + geom_boxplot(width = 0.3) + ylim(c(m_U,M_U)) + \n",
    "    scale_color_canva(palette = mypalette) + xlab(\"replicate\") + theme_classic() + theme(legend.position = \"none\") \n",
    "p2 = ggplot(df01, aes(x = rep, y = UTF1, colour = rep)) + geom_boxplot(width = 0.3) + ylim(c(m_U,M_U)) + \n",
    "    scale_color_canva(palette = mypalette) + xlab(\"replicate\") + theme_classic() + theme(legend.position = \"none\") \n",
    "p3 = ggplot(df1, aes(x = rep, y = UTF1, colour = rep)) + geom_boxplot(width = 0.3) + ylim(c(m_U,M_U)) + \n",
    "    scale_color_canva(palette = mypalette) + xlab(\"replicate\") + theme_classic() + theme(legend.position = \"none\") \n",
    "plot_grid(p1,p2,p3, ncol = 3)"
   ]
  },
  {
   "cell_type": "code",
   "execution_count": 47,
   "metadata": {},
   "outputs": [
    {
     "data": {
      "text/html": [
       "<strong>png:</strong> 2"
      ],
      "text/latex": [
       "\\textbf{png:} 2"
      ],
      "text/markdown": [
       "**png:** 2"
      ],
      "text/plain": [
       "png \n",
       "  2 "
      ]
     },
     "metadata": {},
     "output_type": "display_data"
    }
   ],
   "source": [
    "pdf(paste0(fig_dir,\"SF_10c_UTF1.pdf\"), width=7, height=3)\n",
    "plot_grid(p1,p2,p3, ncol = 3)\n",
    "dev.off()"
   ]
  },
  {
   "cell_type": "code",
   "execution_count": 48,
   "metadata": {},
   "outputs": [
    {
     "data": {
      "image/png": "[encoded data removed]",
      "text/plain": [
       "plot without title"
      ]
     },
     "metadata": {},
     "output_type": "display_data"
    }
   ],
   "source": [
    "p1 = ggplot(df0, aes(x = rep, y = TAC3, colour = rep)) + geom_boxplot(width = 0.3) + ylim(c(m_T,M_T)) + \n",
    "    scale_color_canva(palette = mypalette) + xlab(\"replicate\") + theme_classic() + theme(legend.position = \"none\") \n",
    "p2 = ggplot(df01, aes(x = rep, y = TAC3, colour = rep)) + geom_boxplot(width = 0.3) + ylim(c(m_T,M_T)) + \n",
    "    scale_color_canva(palette = mypalette) + xlab(\"replicate\") + theme_classic() + theme(legend.position = \"none\") \n",
    "p3 = ggplot(df1, aes(x = rep, y = TAC3, colour = rep)) + geom_boxplot(width = 0.3) + ylim(c(m_T,M_T)) + \n",
    "    scale_color_canva(palette = mypalette) + xlab(\"replicate\") + theme_classic() + theme(legend.position = \"none\") \n",
    "plot_grid(p1,p2,p3, ncol = 3)"
   ]
  },
  {
   "cell_type": "code",
   "execution_count": 49,
   "metadata": {},
   "outputs": [
    {
     "data": {
      "text/html": [
       "<strong>png:</strong> 2"
      ],
      "text/latex": [
       "\\textbf{png:} 2"
      ],
      "text/markdown": [
       "**png:** 2"
      ],
      "text/plain": [
       "png \n",
       "  2 "
      ]
     },
     "metadata": {},
     "output_type": "display_data"
    }
   ],
   "source": [
    "pdf(paste0(fig_dir,\"SF_10c_TAC3.pdf\"), width=7, height=3)\n",
    "plot_grid(p1,p2,p3, ncol = 3)\n",
    "dev.off()"
   ]
  },
  {
   "cell_type": "code",
   "execution_count": null,
   "metadata": {},
   "outputs": [],
   "source": []
  },
  {
   "cell_type": "code",
   "execution_count": null,
   "metadata": {},
   "outputs": [],
   "source": []
  },
  {
   "cell_type": "code",
   "execution_count": 50,
   "metadata": {},
   "outputs": [
    {
     "data": {
      "text/html": [
       "<table>\n",
       "<thead><tr><th scope=col>donor_id</th><th scope=col>diff_efficiency</th><th scope=col>diff_outcome</th><th scope=col>model_score</th><th scope=col>model_predicted_outcome</th><th scope=col>short_donor</th><th scope=col>donor_diff_results</th></tr></thead>\n",
       "<tbody>\n",
       "\t<tr><td>HPSI0114i-bezi_1</td><td>        NA      </td><td>not_assessed    </td><td>0.795830284     </td><td>success         </td><td>bezi            </td><td>concordant_1    </td></tr>\n",
       "\t<tr><td>HPSI0114i-bezi_3</td><td>0.58269720      </td><td>success         </td><td>0.990335903     </td><td>success         </td><td>bezi            </td><td>concordant_1    </td></tr>\n",
       "\t<tr><td>HPSI0114i-eipl_1</td><td>0.01287835      </td><td>failure         </td><td>0.008453323     </td><td>failure         </td><td>eipl            </td><td>concordant_0    </td></tr>\n",
       "\t<tr><td>HPSI0114i-eipl_3</td><td>        NA      </td><td>not_assessed    </td><td>0.009314145     </td><td>failure         </td><td>eipl            </td><td>concordant_0    </td></tr>\n",
       "\t<tr><td>HPSI0114i-fikt_3</td><td>0.40282686      </td><td>success         </td><td>0.950780075     </td><td>success         </td><td>fikt            </td><td>one_line_only   </td></tr>\n",
       "\t<tr><td>HPSI0114i-iisa_1</td><td>        NA      </td><td>not_assessed    </td><td>0.981784364     </td><td>success         </td><td>iisa            </td><td>concordant_1    </td></tr>\n",
       "</tbody>\n",
       "</table>\n"
      ],
      "text/latex": [
       "\\begin{tabular}{r|lllllll}\n",
       " donor\\_id & diff\\_efficiency & diff\\_outcome & model\\_score & model\\_predicted\\_outcome & short\\_donor & donor\\_diff\\_results\\\\\n",
       "\\hline\n",
       "\t HPSI0114i-bezi\\_1 &         NA         & not\\_assessed     & 0.795830284        & success            & bezi               & concordant\\_1    \\\\\n",
       "\t HPSI0114i-bezi\\_3 & 0.58269720         & success            & 0.990335903        & success            & bezi               & concordant\\_1    \\\\\n",
       "\t HPSI0114i-eipl\\_1 & 0.01287835         & failure            & 0.008453323        & failure            & eipl               & concordant\\_0    \\\\\n",
       "\t HPSI0114i-eipl\\_3 &         NA         & not\\_assessed     & 0.009314145        & failure            & eipl               & concordant\\_0    \\\\\n",
       "\t HPSI0114i-fikt\\_3 & 0.40282686         & success            & 0.950780075        & success            & fikt               & one\\_line\\_only \\\\\n",
       "\t HPSI0114i-iisa\\_1 &         NA         & not\\_assessed     & 0.981784364        & success            & iisa               & concordant\\_1    \\\\\n",
       "\\end{tabular}\n"
      ],
      "text/markdown": [
       "\n",
       "| donor_id | diff_efficiency | diff_outcome | model_score | model_predicted_outcome | short_donor | donor_diff_results |\n",
       "|---|---|---|---|---|---|---|\n",
       "| HPSI0114i-bezi_1 |         NA       | not_assessed     | 0.795830284      | success          | bezi             | concordant_1     |\n",
       "| HPSI0114i-bezi_3 | 0.58269720       | success          | 0.990335903      | success          | bezi             | concordant_1     |\n",
       "| HPSI0114i-eipl_1 | 0.01287835       | failure          | 0.008453323      | failure          | eipl             | concordant_0     |\n",
       "| HPSI0114i-eipl_3 |         NA       | not_assessed     | 0.009314145      | failure          | eipl             | concordant_0     |\n",
       "| HPSI0114i-fikt_3 | 0.40282686       | success          | 0.950780075      | success          | fikt             | one_line_only    |\n",
       "| HPSI0114i-iisa_1 |         NA       | not_assessed     | 0.981784364      | success          | iisa             | concordant_1     |\n",
       "\n"
      ],
      "text/plain": [
       "  donor_id         diff_efficiency diff_outcome model_score\n",
       "1 HPSI0114i-bezi_1         NA      not_assessed 0.795830284\n",
       "2 HPSI0114i-bezi_3 0.58269720      success      0.990335903\n",
       "3 HPSI0114i-eipl_1 0.01287835      failure      0.008453323\n",
       "4 HPSI0114i-eipl_3         NA      not_assessed 0.009314145\n",
       "5 HPSI0114i-fikt_3 0.40282686      success      0.950780075\n",
       "6 HPSI0114i-iisa_1         NA      not_assessed 0.981784364\n",
       "  model_predicted_outcome short_donor donor_diff_results\n",
       "1 success                 bezi        concordant_1      \n",
       "2 success                 bezi        concordant_1      \n",
       "3 failure                 eipl        concordant_0      \n",
       "4 failure                 eipl        concordant_0      \n",
       "5 success                 fikt        one_line_only     \n",
       "6 success                 iisa        concordant_1      "
      ]
     },
     "metadata": {},
     "output_type": "display_data"
    }
   ],
   "source": [
    "df = read.csv(\"/hps/nobackup/stegle/users/acuomo/all_scripts/sc_neuroseq/diff_efficiency/predicted_diff_efficiency_hipsci_lines_including_concordant_discordant_info.csv\")\n",
    "head(df)"
   ]
  },
  {
   "cell_type": "code",
   "execution_count": 51,
   "metadata": {},
   "outputs": [
    {
     "data": {
      "text/html": [
       "<ol class=list-inline>\n",
       "\t<li>0.125615763546798</li>\n",
       "\t<li>0.874384236453202</li>\n",
       "</ol>\n"
      ],
      "text/latex": [
       "\\begin{enumerate*}\n",
       "\\item 0.125615763546798\n",
       "\\item 0.874384236453202\n",
       "\\end{enumerate*}\n"
      ],
      "text/markdown": [
       "1. 0.125615763546798\n",
       "2. 0.874384236453202\n",
       "\n",
       "\n"
      ],
      "text/plain": [
       "[1] 0.1256158 0.8743842"
      ]
     },
     "metadata": {},
     "output_type": "display_data"
    }
   ],
   "source": [
    "p = nrow(df[df$model_score < T,])/nrow(df)\n",
    "p_1 = 1 - nrow(df[df$model_score < T,])/nrow(df)\n",
    "c(p,p_1)"
   ]
  },
  {
   "cell_type": "code",
   "execution_count": 52,
   "metadata": {},
   "outputs": [
    {
     "data": {
      "text/html": [
       "<ol class=list-inline>\n",
       "\t<li>0.764547792957849</li>\n",
       "\t<li>0.109836443495353</li>\n",
       "\t<li>0.0157793200514451</li>\n",
       "</ol>\n"
      ],
      "text/latex": [
       "\\begin{enumerate*}\n",
       "\\item 0.764547792957849\n",
       "\\item 0.109836443495353\n",
       "\\item 0.0157793200514451\n",
       "\\end{enumerate*}\n"
      ],
      "text/markdown": [
       "1. 0.764547792957849\n",
       "2. 0.109836443495353\n",
       "3. 0.0157793200514451\n",
       "\n",
       "\n"
      ],
      "text/plain": [
       "[1] 0.76454779 0.10983644 0.01577932"
      ]
     },
     "metadata": {},
     "output_type": "display_data"
    }
   ],
   "source": [
    "probs = c(p_1**2, p*p_1, p**2)\n",
    "probs"
   ]
  },
  {
   "cell_type": "code",
   "execution_count": 53,
   "metadata": {},
   "outputs": [
    {
     "name": "stderr",
     "output_type": "stream",
     "text": [
      "Warning message in chisq.test(x = c(209, 49, 13), y = probs):\n",
      "“Chi-squared approximation may be incorrect”"
     ]
    },
    {
     "data": {
      "text/plain": [
       "\n",
       "\tPearson's Chi-squared test\n",
       "\n",
       "data:  c(209, 49, 13) and probs\n",
       "X-squared = 6, df = 4, p-value = 0.1991\n"
      ]
     },
     "metadata": {},
     "output_type": "display_data"
    }
   ],
   "source": [
    "chisq.test(x = c(209,49,13), y = probs)"
   ]
  },
  {
   "cell_type": "code",
   "execution_count": 42,
   "metadata": {},
   "outputs": [
    {
     "name": "stderr",
     "output_type": "stream",
     "text": [
      "Warning message in chisq.test(x = c(183, 62, 25), y = c(0.72, 0.17, 0.023)):\n",
      "“Chi-squared approximation may be incorrect”"
     ]
    },
    {
     "data": {
      "text/plain": [
       "\n",
       "\tPearson's Chi-squared test\n",
       "\n",
       "data:  c(183, 62, 25) and c(0.72, 0.17, 0.023)\n",
       "X-squared = 6, df = 4, p-value = 0.1991\n"
      ]
     },
     "metadata": {},
     "output_type": "display_data"
    }
   ],
   "source": [
    "chisq.test(x = c(183,62,25), y = c(0.72,0.17,0.023))"
   ]
  },
  {
   "cell_type": "code",
   "execution_count": null,
   "metadata": {},
   "outputs": [],
   "source": []
  },
  {
   "cell_type": "code",
   "execution_count": null,
   "metadata": {},
   "outputs": [],
   "source": []
  },
  {
   "cell_type": "code",
   "execution_count": 4,
   "metadata": {},
   "outputs": [],
   "source": [
    "?fisher.test"
   ]
  },
  {
   "cell_type": "code",
   "execution_count": 6,
   "metadata": {},
   "outputs": [
    {
     "data": {
      "text/html": [
       "<table>\n",
       "<tbody>\n",
       "\t<tr><td>14</td><td>0 </td></tr>\n",
       "\t<tr><td> 1</td><td>1 </td></tr>\n",
       "</tbody>\n",
       "</table>\n"
      ],
      "text/latex": [
       "\\begin{tabular}{ll}\n",
       "\t 14 & 0 \\\\\n",
       "\t  1 & 1 \\\\\n",
       "\\end{tabular}\n"
      ],
      "text/markdown": [
       "\n",
       "| 14 | 0  |\n",
       "|  1 | 1  |\n",
       "\n"
      ],
      "text/plain": [
       "     [,1] [,2]\n",
       "[1,] 14   0   \n",
       "[2,]  1   1   "
      ]
     },
     "metadata": {},
     "output_type": "display_data"
    }
   ],
   "source": [
    "x = matrix(c(14,1,0,1),nrow=2)\n",
    "x"
   ]
  },
  {
   "cell_type": "code",
   "execution_count": 9,
   "metadata": {},
   "outputs": [
    {
     "data": {
      "text/plain": [
       "\n",
       "\tFisher's Exact Test for Count Data\n",
       "\n",
       "data:  x\n",
       "p-value = 1\n",
       "alternative hypothesis: true odds ratio is less than 1\n",
       "95 percent confidence interval:\n",
       "   0 Inf\n",
       "sample estimates:\n",
       "odds ratio \n",
       "       Inf \n"
      ]
     },
     "metadata": {},
     "output_type": "display_data"
    }
   ],
   "source": [
    "fisher.test(x, alternative=\"less\")"
   ]
  },
  {
   "cell_type": "code",
   "execution_count": null,
   "metadata": {},
   "outputs": [],
   "source": []
  }
 ],
 "metadata": {
  "kernelspec": {
   "display_name": "R",
   "language": "R",
   "name": "ir"
  },
  "language_info": {
   "codemirror_mode": "r",
   "file_extension": ".r",
   "mimetype": "text/x-r-source",
   "name": "R",
   "pygments_lexer": "r",
   "version": "3.6.1"
  }
 },
 "nbformat": 4,
 "nbformat_minor": 4
}
