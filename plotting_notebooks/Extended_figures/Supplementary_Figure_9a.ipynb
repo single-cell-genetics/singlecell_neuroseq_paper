{
 "cells": [
  {
   "cell_type": "code",
   "execution_count": 32,
   "metadata": {},
   "outputs": [],
   "source": [
    "library(dplyr)\n",
    "library(ggplot2)"
   ]
  },
  {
   "cell_type": "code",
   "execution_count": 33,
   "metadata": {},
   "outputs": [
    {
     "data": {
      "text/html": [
       "<table>\n",
       "<thead><tr><th scope=col>donor_id</th><th scope=col>pool_id</th><th scope=col>time_point</th><th scope=col>treatment</th><th scope=col>celltype</th><th scope=col>n_cells</th></tr></thead>\n",
       "<tbody>\n",
       "\t<tr><td>HPSI0114i-bezi_3</td><td>pool10          </td><td>D52             </td><td>NONE            </td><td>Astro           </td><td> 2              </td></tr>\n",
       "\t<tr><td>HPSI0114i-bezi_3</td><td>pool10          </td><td>D52             </td><td>NONE            </td><td>U_Neur1         </td><td> 5              </td></tr>\n",
       "\t<tr><td>HPSI0114i-bezi_3</td><td>pool10          </td><td>D52             </td><td>NONE            </td><td>DA              </td><td>66              </td></tr>\n",
       "\t<tr><td>HPSI0114i-bezi_3</td><td>pool10          </td><td>D52             </td><td>NONE            </td><td>Epen1           </td><td>39              </td></tr>\n",
       "\t<tr><td>HPSI0114i-bezi_3</td><td>pool10          </td><td>D52             </td><td>NONE            </td><td>FPP             </td><td>31              </td></tr>\n",
       "\t<tr><td>HPSI0114i-bezi_3</td><td>pool10          </td><td>D52             </td><td>NONE            </td><td>P_FPP           </td><td> 4              </td></tr>\n",
       "</tbody>\n",
       "</table>\n"
      ],
      "text/latex": [
       "\\begin{tabular}{r|llllll}\n",
       " donor\\_id & pool\\_id & time\\_point & treatment & celltype & n\\_cells\\\\\n",
       "\\hline\n",
       "\t HPSI0114i-bezi\\_3 & pool10             & D52                & NONE               & Astro              &  2                \\\\\n",
       "\t HPSI0114i-bezi\\_3 & pool10             & D52                & NONE               & U\\_Neur1          &  5                \\\\\n",
       "\t HPSI0114i-bezi\\_3 & pool10             & D52                & NONE               & DA                 & 66                \\\\\n",
       "\t HPSI0114i-bezi\\_3 & pool10             & D52                & NONE               & Epen1              & 39                \\\\\n",
       "\t HPSI0114i-bezi\\_3 & pool10             & D52                & NONE               & FPP                & 31                \\\\\n",
       "\t HPSI0114i-bezi\\_3 & pool10             & D52                & NONE               & P\\_FPP            &  4                \\\\\n",
       "\\end{tabular}\n"
      ],
      "text/markdown": [
       "\n",
       "| donor_id | pool_id | time_point | treatment | celltype | n_cells |\n",
       "|---|---|---|---|---|---|\n",
       "| HPSI0114i-bezi_3 | pool10           | D52              | NONE             | Astro            |  2               |\n",
       "| HPSI0114i-bezi_3 | pool10           | D52              | NONE             | U_Neur1          |  5               |\n",
       "| HPSI0114i-bezi_3 | pool10           | D52              | NONE             | DA               | 66               |\n",
       "| HPSI0114i-bezi_3 | pool10           | D52              | NONE             | Epen1            | 39               |\n",
       "| HPSI0114i-bezi_3 | pool10           | D52              | NONE             | FPP              | 31               |\n",
       "| HPSI0114i-bezi_3 | pool10           | D52              | NONE             | P_FPP            |  4               |\n",
       "\n"
      ],
      "text/plain": [
       "  donor_id         pool_id time_point treatment celltype n_cells\n",
       "1 HPSI0114i-bezi_3 pool10  D52        NONE      Astro     2     \n",
       "2 HPSI0114i-bezi_3 pool10  D52        NONE      U_Neur1   5     \n",
       "3 HPSI0114i-bezi_3 pool10  D52        NONE      DA       66     \n",
       "4 HPSI0114i-bezi_3 pool10  D52        NONE      Epen1    39     \n",
       "5 HPSI0114i-bezi_3 pool10  D52        NONE      FPP      31     \n",
       "6 HPSI0114i-bezi_3 pool10  D52        NONE      P_FPP     4     "
      ]
     },
     "metadata": {},
     "output_type": "display_data"
    }
   ],
   "source": [
    "mydir = \"/nfs/leia/research/stegle/dseaton/hipsci/singlecell_neuroseq/data/data_processed/pool1_17_D52/\"\n",
    "mysuffix = \"pool1_17_D52.scanpy.w_metadata.w_celltype.scanpy.obs_df.groupedby.donor_id-pool_id-time_point-treatment.celltype_counts.tsv\"\n",
    "\n",
    "myfilename = paste0(mydir,mysuffix)\n",
    "df = read.table(myfilename, header = T)\n",
    "df$celltype <- as.character(df$celltype)\n",
    "df$celltype[df$celltype == \"CHem\"] <- \"U_Neur1\"\n",
    "df$celltype[df$celltype == \"unknown\"] <- \"U_Neur3\"\n",
    "head(df)"
   ]
  },
  {
   "cell_type": "code",
   "execution_count": 34,
   "metadata": {},
   "outputs": [],
   "source": [
    "#### both treated and untreated day 52 cells"
   ]
  },
  {
   "cell_type": "code",
   "execution_count": 35,
   "metadata": {},
   "outputs": [],
   "source": [
    "df1 = df"
   ]
  },
  {
   "cell_type": "code",
   "execution_count": 36,
   "metadata": {},
   "outputs": [],
   "source": [
    "df_tot_d52_mid = df[df$celltype %in% c(\"DA\",\"Sert\"),] %>% group_by(donor_id,pool_id) %>% \n",
    "                                                        summarize(total_midbrain_cells = sum(n_cells))"
   ]
  },
  {
   "cell_type": "code",
   "execution_count": 37,
   "metadata": {},
   "outputs": [
    {
     "data": {
      "text/html": [
       "232"
      ],
      "text/latex": [
       "232"
      ],
      "text/markdown": [
       "232"
      ],
      "text/plain": [
       "[1] 232"
      ]
     },
     "metadata": {},
     "output_type": "display_data"
    }
   ],
   "source": [
    "df_tot_d52 = df2 %>% group_by(donor_id,pool_id) %>% summarize(total_cells = sum(n_cells))\n",
    "nrow(df_tot_d52)"
   ]
  },
  {
   "cell_type": "code",
   "execution_count": 38,
   "metadata": {},
   "outputs": [
    {
     "data": {
      "text/html": [
       "230"
      ],
      "text/latex": [
       "230"
      ],
      "text/markdown": [
       "230"
      ],
      "text/plain": [
       "[1] 230"
      ]
     },
     "metadata": {},
     "output_type": "display_data"
    },
    {
     "data": {
      "text/html": [
       "<table>\n",
       "<thead><tr><th scope=col>donor_id</th><th scope=col>pool_id</th><th scope=col>total_cells</th><th scope=col>total_midbrain_cells</th></tr></thead>\n",
       "<tbody>\n",
       "\t<tr><td>HPSI0114i-bezi_3</td><td>pool10          </td><td>  393           </td><td> 229            </td></tr>\n",
       "\t<tr><td>HPSI0114i-eipl_1</td><td>pool1           </td><td>25935           </td><td> 334            </td></tr>\n",
       "\t<tr><td>HPSI0114i-fikt_3</td><td>pool14          </td><td>  283           </td><td> 114            </td></tr>\n",
       "\t<tr><td>HPSI0114i-kolf_2</td><td>pool10          </td><td>  243           </td><td> 122            </td></tr>\n",
       "\t<tr><td>HPSI0114i-kolf_2</td><td>pool15          </td><td> 2423           </td><td>1064            </td></tr>\n",
       "\t<tr><td>HPSI0114i-lexy_2</td><td>pool10          </td><td>  453           </td><td> 359            </td></tr>\n",
       "</tbody>\n",
       "</table>\n"
      ],
      "text/latex": [
       "\\begin{tabular}{r|llll}\n",
       " donor\\_id & pool\\_id & total\\_cells & total\\_midbrain\\_cells\\\\\n",
       "\\hline\n",
       "\t HPSI0114i-bezi\\_3 & pool10             &   393              &  229              \\\\\n",
       "\t HPSI0114i-eipl\\_1 & pool1              & 25935              &  334              \\\\\n",
       "\t HPSI0114i-fikt\\_3 & pool14             &   283              &  114              \\\\\n",
       "\t HPSI0114i-kolf\\_2 & pool10             &   243              &  122              \\\\\n",
       "\t HPSI0114i-kolf\\_2 & pool15             &  2423              & 1064              \\\\\n",
       "\t HPSI0114i-lexy\\_2 & pool10             &   453              &  359              \\\\\n",
       "\\end{tabular}\n"
      ],
      "text/markdown": [
       "\n",
       "| donor_id | pool_id | total_cells | total_midbrain_cells |\n",
       "|---|---|---|---|\n",
       "| HPSI0114i-bezi_3 | pool10           |   393            |  229             |\n",
       "| HPSI0114i-eipl_1 | pool1            | 25935            |  334             |\n",
       "| HPSI0114i-fikt_3 | pool14           |   283            |  114             |\n",
       "| HPSI0114i-kolf_2 | pool10           |   243            |  122             |\n",
       "| HPSI0114i-kolf_2 | pool15           |  2423            | 1064             |\n",
       "| HPSI0114i-lexy_2 | pool10           |   453            |  359             |\n",
       "\n"
      ],
      "text/plain": [
       "  donor_id         pool_id total_cells total_midbrain_cells\n",
       "1 HPSI0114i-bezi_3 pool10    393        229                \n",
       "2 HPSI0114i-eipl_1 pool1   25935        334                \n",
       "3 HPSI0114i-fikt_3 pool14    283        114                \n",
       "4 HPSI0114i-kolf_2 pool10    243        122                \n",
       "5 HPSI0114i-kolf_2 pool15   2423       1064                \n",
       "6 HPSI0114i-lexy_2 pool10    453        359                "
      ]
     },
     "metadata": {},
     "output_type": "display_data"
    }
   ],
   "source": [
    "df0 = inner_join(df_tot_d52, df_tot_d52_mid, by = c(\"donor_id\",\"pool_id\"))\n",
    "nrow(df0)\n",
    "head(df0)"
   ]
  },
  {
   "cell_type": "code",
   "execution_count": 39,
   "metadata": {},
   "outputs": [
    {
     "data": {
      "text/html": [
       "<table>\n",
       "<thead><tr><th scope=col>donor_id</th><th scope=col>pool_id</th><th scope=col>total_cells</th><th scope=col>total_midbrain_cells</th><th scope=col>diff_eff</th></tr></thead>\n",
       "<tbody>\n",
       "\t<tr><td>HPSI0114i-bezi_3</td><td>pool10          </td><td>  393           </td><td> 229            </td><td>0.58269720      </td></tr>\n",
       "\t<tr><td>HPSI0114i-eipl_1</td><td>pool1           </td><td>25935           </td><td> 334            </td><td>0.01287835      </td></tr>\n",
       "\t<tr><td>HPSI0114i-fikt_3</td><td>pool14          </td><td>  283           </td><td> 114            </td><td>0.40282686      </td></tr>\n",
       "\t<tr><td>HPSI0114i-kolf_2</td><td>pool10          </td><td>  243           </td><td> 122            </td><td>0.50205761      </td></tr>\n",
       "\t<tr><td>HPSI0114i-kolf_2</td><td>pool15          </td><td> 2423           </td><td>1064            </td><td>0.43912505      </td></tr>\n",
       "\t<tr><td>HPSI0114i-lexy_2</td><td>pool10          </td><td>  453           </td><td> 359            </td><td>0.79249448      </td></tr>\n",
       "</tbody>\n",
       "</table>\n"
      ],
      "text/latex": [
       "\\begin{tabular}{r|lllll}\n",
       " donor\\_id & pool\\_id & total\\_cells & total\\_midbrain\\_cells & diff\\_eff\\\\\n",
       "\\hline\n",
       "\t HPSI0114i-bezi\\_3 & pool10             &   393              &  229               & 0.58269720        \\\\\n",
       "\t HPSI0114i-eipl\\_1 & pool1              & 25935              &  334               & 0.01287835        \\\\\n",
       "\t HPSI0114i-fikt\\_3 & pool14             &   283              &  114               & 0.40282686        \\\\\n",
       "\t HPSI0114i-kolf\\_2 & pool10             &   243              &  122               & 0.50205761        \\\\\n",
       "\t HPSI0114i-kolf\\_2 & pool15             &  2423              & 1064               & 0.43912505        \\\\\n",
       "\t HPSI0114i-lexy\\_2 & pool10             &   453              &  359               & 0.79249448        \\\\\n",
       "\\end{tabular}\n"
      ],
      "text/markdown": [
       "\n",
       "| donor_id | pool_id | total_cells | total_midbrain_cells | diff_eff |\n",
       "|---|---|---|---|---|\n",
       "| HPSI0114i-bezi_3 | pool10           |   393            |  229             | 0.58269720       |\n",
       "| HPSI0114i-eipl_1 | pool1            | 25935            |  334             | 0.01287835       |\n",
       "| HPSI0114i-fikt_3 | pool14           |   283            |  114             | 0.40282686       |\n",
       "| HPSI0114i-kolf_2 | pool10           |   243            |  122             | 0.50205761       |\n",
       "| HPSI0114i-kolf_2 | pool15           |  2423            | 1064             | 0.43912505       |\n",
       "| HPSI0114i-lexy_2 | pool10           |   453            |  359             | 0.79249448       |\n",
       "\n"
      ],
      "text/plain": [
       "  donor_id         pool_id total_cells total_midbrain_cells diff_eff  \n",
       "1 HPSI0114i-bezi_3 pool10    393        229                 0.58269720\n",
       "2 HPSI0114i-eipl_1 pool1   25935        334                 0.01287835\n",
       "3 HPSI0114i-fikt_3 pool14    283        114                 0.40282686\n",
       "4 HPSI0114i-kolf_2 pool10    243        122                 0.50205761\n",
       "5 HPSI0114i-kolf_2 pool15   2423       1064                 0.43912505\n",
       "6 HPSI0114i-lexy_2 pool10    453        359                 0.79249448"
      ]
     },
     "metadata": {},
     "output_type": "display_data"
    }
   ],
   "source": [
    "df0$diff_eff = df0$total_midbrain_cells/df0$total_cells\n",
    "head(df0)"
   ]
  },
  {
   "cell_type": "code",
   "execution_count": 42,
   "metadata": {},
   "outputs": [],
   "source": [
    "df_donor = df0 %>% group_by(donor_id) %>% summarize(avg_de1 = mean(diff_eff))  # D52 DA+Sert ROT+NONE"
   ]
  },
  {
   "cell_type": "code",
   "execution_count": null,
   "metadata": {},
   "outputs": [],
   "source": []
  },
  {
   "cell_type": "code",
   "execution_count": 43,
   "metadata": {},
   "outputs": [],
   "source": [
    "#### untreated day 52 cells only"
   ]
  },
  {
   "cell_type": "code",
   "execution_count": 44,
   "metadata": {},
   "outputs": [],
   "source": [
    "df2 = df[df$treatment == \"NONE\",]"
   ]
  },
  {
   "cell_type": "code",
   "execution_count": 45,
   "metadata": {},
   "outputs": [],
   "source": [
    "df_tot_d52_mid = df2[df2$celltype %in% c(\"DA\",\"Sert\"),] %>% group_by(donor_id,pool_id) %>% \n",
    "                                                        summarize(total_midbrain_cells = sum(n_cells))"
   ]
  },
  {
   "cell_type": "code",
   "execution_count": 46,
   "metadata": {},
   "outputs": [
    {
     "data": {
      "text/html": [
       "230"
      ],
      "text/latex": [
       "230"
      ],
      "text/markdown": [
       "230"
      ],
      "text/plain": [
       "[1] 230"
      ]
     },
     "metadata": {},
     "output_type": "display_data"
    }
   ],
   "source": [
    "nrow(df_tot_d52_mid)"
   ]
  },
  {
   "cell_type": "code",
   "execution_count": 47,
   "metadata": {},
   "outputs": [
    {
     "data": {
      "text/html": [
       "232"
      ],
      "text/latex": [
       "232"
      ],
      "text/markdown": [
       "232"
      ],
      "text/plain": [
       "[1] 232"
      ]
     },
     "metadata": {},
     "output_type": "display_data"
    }
   ],
   "source": [
    "df_tot_d52 = df2 %>% group_by(donor_id,pool_id) %>% summarize(total_cells = sum(n_cells))\n",
    "nrow(df_tot_d52)"
   ]
  },
  {
   "cell_type": "code",
   "execution_count": 48,
   "metadata": {},
   "outputs": [
    {
     "data": {
      "text/html": [
       "230"
      ],
      "text/latex": [
       "230"
      ],
      "text/markdown": [
       "230"
      ],
      "text/plain": [
       "[1] 230"
      ]
     },
     "metadata": {},
     "output_type": "display_data"
    },
    {
     "data": {
      "text/html": [
       "<table>\n",
       "<thead><tr><th scope=col>donor_id</th><th scope=col>pool_id</th><th scope=col>total_cells</th><th scope=col>total_midbrain_cells</th></tr></thead>\n",
       "<tbody>\n",
       "\t<tr><td>HPSI0114i-bezi_3</td><td>pool10          </td><td>  218           </td><td>134             </td></tr>\n",
       "\t<tr><td>HPSI0114i-eipl_1</td><td>pool1           </td><td>13236           </td><td>231             </td></tr>\n",
       "\t<tr><td>HPSI0114i-fikt_3</td><td>pool14          </td><td>  117           </td><td> 52             </td></tr>\n",
       "\t<tr><td>HPSI0114i-kolf_2</td><td>pool10          </td><td>  149           </td><td> 76             </td></tr>\n",
       "\t<tr><td>HPSI0114i-kolf_2</td><td>pool15          </td><td> 1466           </td><td>606             </td></tr>\n",
       "\t<tr><td>HPSI0114i-lexy_2</td><td>pool10          </td><td>  271           </td><td>210             </td></tr>\n",
       "</tbody>\n",
       "</table>\n"
      ],
      "text/latex": [
       "\\begin{tabular}{r|llll}\n",
       " donor\\_id & pool\\_id & total\\_cells & total\\_midbrain\\_cells\\\\\n",
       "\\hline\n",
       "\t HPSI0114i-bezi\\_3 & pool10             &   218              & 134               \\\\\n",
       "\t HPSI0114i-eipl\\_1 & pool1              & 13236              & 231               \\\\\n",
       "\t HPSI0114i-fikt\\_3 & pool14             &   117              &  52               \\\\\n",
       "\t HPSI0114i-kolf\\_2 & pool10             &   149              &  76               \\\\\n",
       "\t HPSI0114i-kolf\\_2 & pool15             &  1466              & 606               \\\\\n",
       "\t HPSI0114i-lexy\\_2 & pool10             &   271              & 210               \\\\\n",
       "\\end{tabular}\n"
      ],
      "text/markdown": [
       "\n",
       "| donor_id | pool_id | total_cells | total_midbrain_cells |\n",
       "|---|---|---|---|\n",
       "| HPSI0114i-bezi_3 | pool10           |   218            | 134              |\n",
       "| HPSI0114i-eipl_1 | pool1            | 13236            | 231              |\n",
       "| HPSI0114i-fikt_3 | pool14           |   117            |  52              |\n",
       "| HPSI0114i-kolf_2 | pool10           |   149            |  76              |\n",
       "| HPSI0114i-kolf_2 | pool15           |  1466            | 606              |\n",
       "| HPSI0114i-lexy_2 | pool10           |   271            | 210              |\n",
       "\n"
      ],
      "text/plain": [
       "  donor_id         pool_id total_cells total_midbrain_cells\n",
       "1 HPSI0114i-bezi_3 pool10    218       134                 \n",
       "2 HPSI0114i-eipl_1 pool1   13236       231                 \n",
       "3 HPSI0114i-fikt_3 pool14    117        52                 \n",
       "4 HPSI0114i-kolf_2 pool10    149        76                 \n",
       "5 HPSI0114i-kolf_2 pool15   1466       606                 \n",
       "6 HPSI0114i-lexy_2 pool10    271       210                 "
      ]
     },
     "metadata": {},
     "output_type": "display_data"
    }
   ],
   "source": [
    "df0 = inner_join(df_tot_d52, df_tot_d52_mid, by = c(\"donor_id\",\"pool_id\"))\n",
    "nrow(df0)\n",
    "head(df0)"
   ]
  },
  {
   "cell_type": "code",
   "execution_count": 51,
   "metadata": {},
   "outputs": [
    {
     "data": {
      "text/html": [
       "<table>\n",
       "<thead><tr><th scope=col>donor_id</th><th scope=col>pool_id</th><th scope=col>total_cells</th><th scope=col>total_midbrain_cells</th><th scope=col>diff_eff</th></tr></thead>\n",
       "<tbody>\n",
       "\t<tr><td>HPSI0114i-bezi_3</td><td>pool10          </td><td>  218           </td><td>134             </td><td>0.6146789       </td></tr>\n",
       "\t<tr><td>HPSI0114i-eipl_1</td><td>pool1           </td><td>13236           </td><td>231             </td><td>0.0174524       </td></tr>\n",
       "\t<tr><td>HPSI0114i-fikt_3</td><td>pool14          </td><td>  117           </td><td> 52             </td><td>0.4444444       </td></tr>\n",
       "\t<tr><td>HPSI0114i-kolf_2</td><td>pool10          </td><td>  149           </td><td> 76             </td><td>0.5100671       </td></tr>\n",
       "\t<tr><td>HPSI0114i-kolf_2</td><td>pool15          </td><td> 1466           </td><td>606             </td><td>0.4133697       </td></tr>\n",
       "\t<tr><td>HPSI0114i-lexy_2</td><td>pool10          </td><td>  271           </td><td>210             </td><td>0.7749077       </td></tr>\n",
       "</tbody>\n",
       "</table>\n"
      ],
      "text/latex": [
       "\\begin{tabular}{r|lllll}\n",
       " donor\\_id & pool\\_id & total\\_cells & total\\_midbrain\\_cells & diff\\_eff\\\\\n",
       "\\hline\n",
       "\t HPSI0114i-bezi\\_3 & pool10             &   218              & 134                & 0.6146789         \\\\\n",
       "\t HPSI0114i-eipl\\_1 & pool1              & 13236              & 231                & 0.0174524         \\\\\n",
       "\t HPSI0114i-fikt\\_3 & pool14             &   117              &  52                & 0.4444444         \\\\\n",
       "\t HPSI0114i-kolf\\_2 & pool10             &   149              &  76                & 0.5100671         \\\\\n",
       "\t HPSI0114i-kolf\\_2 & pool15             &  1466              & 606                & 0.4133697         \\\\\n",
       "\t HPSI0114i-lexy\\_2 & pool10             &   271              & 210                & 0.7749077         \\\\\n",
       "\\end{tabular}\n"
      ],
      "text/markdown": [
       "\n",
       "| donor_id | pool_id | total_cells | total_midbrain_cells | diff_eff |\n",
       "|---|---|---|---|---|\n",
       "| HPSI0114i-bezi_3 | pool10           |   218            | 134              | 0.6146789        |\n",
       "| HPSI0114i-eipl_1 | pool1            | 13236            | 231              | 0.0174524        |\n",
       "| HPSI0114i-fikt_3 | pool14           |   117            |  52              | 0.4444444        |\n",
       "| HPSI0114i-kolf_2 | pool10           |   149            |  76              | 0.5100671        |\n",
       "| HPSI0114i-kolf_2 | pool15           |  1466            | 606              | 0.4133697        |\n",
       "| HPSI0114i-lexy_2 | pool10           |   271            | 210              | 0.7749077        |\n",
       "\n"
      ],
      "text/plain": [
       "  donor_id         pool_id total_cells total_midbrain_cells diff_eff \n",
       "1 HPSI0114i-bezi_3 pool10    218       134                  0.6146789\n",
       "2 HPSI0114i-eipl_1 pool1   13236       231                  0.0174524\n",
       "3 HPSI0114i-fikt_3 pool14    117        52                  0.4444444\n",
       "4 HPSI0114i-kolf_2 pool10    149        76                  0.5100671\n",
       "5 HPSI0114i-kolf_2 pool15   1466       606                  0.4133697\n",
       "6 HPSI0114i-lexy_2 pool10    271       210                  0.7749077"
      ]
     },
     "metadata": {},
     "output_type": "display_data"
    }
   ],
   "source": [
    "df0$diff_eff = df0$total_midbrain_cells/df0$total_cells\n",
    "head(df0)"
   ]
  },
  {
   "cell_type": "code",
   "execution_count": 52,
   "metadata": {},
   "outputs": [],
   "source": [
    "df_donor2 = df0 %>% group_by(donor_id) %>% summarize(avg_de2 = mean(diff_eff)) # D52 DA+Sert NONE"
   ]
  },
  {
   "cell_type": "code",
   "execution_count": 53,
   "metadata": {},
   "outputs": [
    {
     "data": {
      "text/html": [
       "<table>\n",
       "<thead><tr><th scope=col>donor_id</th><th scope=col>avg_de2</th></tr></thead>\n",
       "<tbody>\n",
       "\t<tr><td>HPSI0114i-bezi_3</td><td>0.6146789       </td></tr>\n",
       "\t<tr><td>HPSI0114i-eipl_1</td><td>0.0174524       </td></tr>\n",
       "\t<tr><td>HPSI0114i-fikt_3</td><td>0.4444444       </td></tr>\n",
       "\t<tr><td>HPSI0114i-kolf_2</td><td>0.4617184       </td></tr>\n",
       "\t<tr><td>HPSI0114i-lexy_2</td><td>0.7296414       </td></tr>\n",
       "\t<tr><td>HPSI0114i-posc_1</td><td>0.8289474       </td></tr>\n",
       "</tbody>\n",
       "</table>\n"
      ],
      "text/latex": [
       "\\begin{tabular}{r|ll}\n",
       " donor\\_id & avg\\_de2\\\\\n",
       "\\hline\n",
       "\t HPSI0114i-bezi\\_3 & 0.6146789         \\\\\n",
       "\t HPSI0114i-eipl\\_1 & 0.0174524         \\\\\n",
       "\t HPSI0114i-fikt\\_3 & 0.4444444         \\\\\n",
       "\t HPSI0114i-kolf\\_2 & 0.4617184         \\\\\n",
       "\t HPSI0114i-lexy\\_2 & 0.7296414         \\\\\n",
       "\t HPSI0114i-posc\\_1 & 0.8289474         \\\\\n",
       "\\end{tabular}\n"
      ],
      "text/markdown": [
       "\n",
       "| donor_id | avg_de2 |\n",
       "|---|---|\n",
       "| HPSI0114i-bezi_3 | 0.6146789        |\n",
       "| HPSI0114i-eipl_1 | 0.0174524        |\n",
       "| HPSI0114i-fikt_3 | 0.4444444        |\n",
       "| HPSI0114i-kolf_2 | 0.4617184        |\n",
       "| HPSI0114i-lexy_2 | 0.7296414        |\n",
       "| HPSI0114i-posc_1 | 0.8289474        |\n",
       "\n"
      ],
      "text/plain": [
       "  donor_id         avg_de2  \n",
       "1 HPSI0114i-bezi_3 0.6146789\n",
       "2 HPSI0114i-eipl_1 0.0174524\n",
       "3 HPSI0114i-fikt_3 0.4444444\n",
       "4 HPSI0114i-kolf_2 0.4617184\n",
       "5 HPSI0114i-lexy_2 0.7296414\n",
       "6 HPSI0114i-posc_1 0.8289474"
      ]
     },
     "metadata": {},
     "output_type": "display_data"
    }
   ],
   "source": [
    "head(df_donor2)"
   ]
  },
  {
   "cell_type": "code",
   "execution_count": null,
   "metadata": {},
   "outputs": [],
   "source": []
  },
  {
   "cell_type": "code",
   "execution_count": 54,
   "metadata": {},
   "outputs": [
    {
     "name": "stderr",
     "output_type": "stream",
     "text": [
      "Joining, by = \"donor_id\"\n"
     ]
    },
    {
     "data": {
      "text/html": [
       "<table>\n",
       "<thead><tr><th scope=col>donor_id</th><th scope=col>avg_de1</th><th scope=col>avg_de2</th></tr></thead>\n",
       "<tbody>\n",
       "\t<tr><td>HPSI0114i-bezi_3</td><td>0.58269720      </td><td>0.6146789       </td></tr>\n",
       "\t<tr><td>HPSI0114i-eipl_1</td><td>0.01287835      </td><td>0.0174524       </td></tr>\n",
       "\t<tr><td>HPSI0114i-fikt_3</td><td>0.40282686      </td><td>0.4444444       </td></tr>\n",
       "\t<tr><td>HPSI0114i-kolf_2</td><td>0.47059133      </td><td>0.4617184       </td></tr>\n",
       "\t<tr><td>HPSI0114i-lexy_2</td><td>0.72690535      </td><td>0.7296414       </td></tr>\n",
       "\t<tr><td>HPSI0114i-posc_1</td><td>0.81349206      </td><td>0.8289474       </td></tr>\n",
       "</tbody>\n",
       "</table>\n"
      ],
      "text/latex": [
       "\\begin{tabular}{r|lll}\n",
       " donor\\_id & avg\\_de1 & avg\\_de2\\\\\n",
       "\\hline\n",
       "\t HPSI0114i-bezi\\_3 & 0.58269720         & 0.6146789         \\\\\n",
       "\t HPSI0114i-eipl\\_1 & 0.01287835         & 0.0174524         \\\\\n",
       "\t HPSI0114i-fikt\\_3 & 0.40282686         & 0.4444444         \\\\\n",
       "\t HPSI0114i-kolf\\_2 & 0.47059133         & 0.4617184         \\\\\n",
       "\t HPSI0114i-lexy\\_2 & 0.72690535         & 0.7296414         \\\\\n",
       "\t HPSI0114i-posc\\_1 & 0.81349206         & 0.8289474         \\\\\n",
       "\\end{tabular}\n"
      ],
      "text/markdown": [
       "\n",
       "| donor_id | avg_de1 | avg_de2 |\n",
       "|---|---|---|\n",
       "| HPSI0114i-bezi_3 | 0.58269720       | 0.6146789        |\n",
       "| HPSI0114i-eipl_1 | 0.01287835       | 0.0174524        |\n",
       "| HPSI0114i-fikt_3 | 0.40282686       | 0.4444444        |\n",
       "| HPSI0114i-kolf_2 | 0.47059133       | 0.4617184        |\n",
       "| HPSI0114i-lexy_2 | 0.72690535       | 0.7296414        |\n",
       "| HPSI0114i-posc_1 | 0.81349206       | 0.8289474        |\n",
       "\n"
      ],
      "text/plain": [
       "  donor_id         avg_de1    avg_de2  \n",
       "1 HPSI0114i-bezi_3 0.58269720 0.6146789\n",
       "2 HPSI0114i-eipl_1 0.01287835 0.0174524\n",
       "3 HPSI0114i-fikt_3 0.40282686 0.4444444\n",
       "4 HPSI0114i-kolf_2 0.47059133 0.4617184\n",
       "5 HPSI0114i-lexy_2 0.72690535 0.7296414\n",
       "6 HPSI0114i-posc_1 0.81349206 0.8289474"
      ]
     },
     "metadata": {},
     "output_type": "display_data"
    }
   ],
   "source": [
    "df_donor_compare = inner_join(df_donor,df_donor2)\n",
    "head(df_donor_compare)"
   ]
  },
  {
   "cell_type": "code",
   "execution_count": 57,
   "metadata": {},
   "outputs": [
    {
     "data": {
      "image/png": "[encoded data removed]",
      "text/plain": [
       "plot without title"
      ]
     },
     "metadata": {},
     "output_type": "display_data"
    }
   ],
   "source": [
    "r = cor(df_donor_compare$avg_de1,df_donor_compare$avg_de2)\n",
    "options(repr.plot.width=5, repr.plot.height=5)\n",
    "ggplot(df_donor_compare, aes(x=avg_de1,y=avg_de2)) + geom_point() + \n",
    "    xlab(\"differentiation efficiency using all D52 cells\") + \n",
    "    ylab(\"differentiation efficiency using only untreated D52 cells\") +\n",
    "    annotate(\"text\",x = 0.2,y=0.9,label=paste0(\"R=\",round(r,digits =2)),size =6) +\n",
    "    geom_abline(intercept = 0, alpha = 0.5) + theme_classic()"
   ]
  },
  {
   "cell_type": "code",
   "execution_count": 58,
   "metadata": {},
   "outputs": [],
   "source": [
    "fig_dir = \"/hps/nobackup/stegle/users/acuomo/all_scripts/sc_neuroseq/figures/extended_figures/\""
   ]
  },
  {
   "cell_type": "code",
   "execution_count": 59,
   "metadata": {},
   "outputs": [
    {
     "data": {
      "text/html": [
       "<strong>png:</strong> 2"
      ],
      "text/latex": [
       "\\textbf{png:} 2"
      ],
      "text/markdown": [
       "**png:** 2"
      ],
      "text/plain": [
       "png \n",
       "  2 "
      ]
     },
     "metadata": {},
     "output_type": "display_data"
    }
   ],
   "source": [
    "pdf(paste0(fig_dir,\"SF_9a.pdf\"), width=5, height=5)\n",
    "ggplot(df_donor_compare, aes(x=avg_de1,y=avg_de2)) + geom_point() + \n",
    "    xlab(\"differentiation efficiency using all D52 cells\") + \n",
    "    ylab(\"differentiation efficiency using only untreated D52 cells\") +\n",
    "    annotate(\"text\",x = 0.2,y=0.9,label=paste0(\"R=\",round(r,digits =2)),size =6) +\n",
    "    geom_abline(intercept = 0, alpha = 0.5) + theme_classic()\n",
    "dev.off()"
   ]
  },
  {
   "cell_type": "code",
   "execution_count": null,
   "metadata": {},
   "outputs": [],
   "source": []
  }
 ],
 "metadata": {
  "kernelspec": {
   "display_name": "R",
   "language": "R",
   "name": "ir"
  },
  "language_info": {
   "codemirror_mode": "r",
   "file_extension": ".r",
   "mimetype": "text/x-r-source",
   "name": "R",
   "pygments_lexer": "r",
   "version": "3.6.1"
  }
 },
 "nbformat": 4,
 "nbformat_minor": 4
}
